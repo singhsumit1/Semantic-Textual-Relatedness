{
 "cells": [
  {
   "cell_type": "code",
   "execution_count": 1,
   "id": "A22Spd2GYiKy",
   "metadata": {
    "id": "A22Spd2GYiKy"
   },
   "outputs": [],
   "source": [
    "lan = [\"eng\", \"esp\", \"amh\",\"arq\",\"ary\",\"hau\",\"kin\",\"mar\",\"tel\"]\n",
    "# lan=\"eng\"\n",
    "#sentence-transformers/distiluse-base-multilingual-cased-v2"
   ]
  },
  {
   "cell_type": "code",
   "execution_count": 2,
   "id": "17f23df0-c96f-4c9d-a6f2-e058d808c3fd",
   "metadata": {
    "id": "17f23df0-c96f-4c9d-a6f2-e058d808c3fd"
   },
   "outputs": [],
   "source": [
    "\n",
    "num_labels=1\n",
    "seed=7\n",
    "batch_size=16\n",
    "lr=2e-5\n",
    "# set the number of epochs\n",
    "n_epochs = 5 #3\n",
    "l_lr=5e-2\n",
    "emded_d = 1024\n",
    "max_len=92\n",
    "early_stoping_patience=3\n"
   ]
  },
  {
   "cell_type": "code",
   "execution_count": 3,
   "id": "9d80c327-9dd3-457a-9a65-db718f95b4f5",
   "metadata": {},
   "outputs": [],
   "source": [
    "import random\n",
    "\n",
    "random.seed(seed)\n"
   ]
  },
  {
   "cell_type": "code",
   "execution_count": 6,
   "id": "Kksb-ny-P3zF",
   "metadata": {
    "id": "Kksb-ny-P3zF"
   },
   "outputs": [],
   "source": [
    "import re\n",
    "import tqdm\n",
    "tqdmn = tqdm.notebook.tqdm\n",
    "import zipfile\n",
    "import pandas as pd\n",
    "# from tqdm import tqdmn\n",
    "import numpy as np\n",
    "from scipy.stats import spearmanr, pearsonr\n",
    "import matplotlib.pyplot as plt\n",
    "plt.style.use('ggplot')"
   ]
  },
  {
   "cell_type": "code",
   "execution_count": 7,
   "id": "ef6f93a5",
   "metadata": {
    "id": "ef6f93a5"
   },
   "outputs": [],
   "source": [
    "from transformers import  XLMRobertaTokenizer, XLMRobertaModel, XLMRobertaForSequenceClassification\n"
   ]
  },
  {
   "cell_type": "code",
   "execution_count": 5,
   "id": "2c6e8765-c12d-47b7-a0fa-27f1a07d9444",
   "metadata": {
    "id": "2c6e8765-c12d-47b7-a0fa-27f1a07d9444"
   },
   "outputs": [],
   "source": [
    "\n",
    "# -*- coding: utf-8 -*-\n",
    "\n",
    "\n",
    "\"\"\"# Import the Libraries\"\"\"\n",
    "import pandas as pd\n",
    "from collections import Counter\n",
    "import sys\n",
    "import json\n",
    "import json\n",
    "# visualization libraries\n",
    "import matplotlib.pyplot as plt\n",
    "import numpy as np\n",
    "from collections import Counter\n",
    "\n",
    "# pytorch libraries\n",
    "import torch # the main pytorch library\n",
    "import torch.nn as nn # the sub-library containing Softmax, Module and other useful functions\n",
    "import torch.optim as optim # the sub-library containing the common optimizers (SGD, Adam, etc.)\n",
    "\n",
    "# huggingface's transformers library\n",
    "from transformers import RobertaForSequenceClassification, AutoTokenizer\n",
    "\n",
    "# huggingface's datasets library\n",
    "from datasets import load_dataset\n",
    "from datasets import  load_from_disk\n",
    "\n",
    "# the tqdm library used to show the iteration progress\n",
    "import tqdm\n",
    "from tqdm import tqdm\n",
    "# tqdmn = tqdm.notebook.tqdm#tqdm.tqdm# tqdm.notebook.tqdm\n",
    "\n",
    "from datasets import load_dataset\n",
    "import os\n",
    "from transformers import get_scheduler\n",
    "import torch\n",
    "from datasets import Dataset\n",
    "from datasets import load_from_disk\n",
    "import sys\n",
    "from sklearn.metrics import confusion_matrix\n",
    "import copy"
   ]
  },
  {
   "cell_type": "code",
   "execution_count": 9,
   "id": "f68610eb-c814-4d63-b499-e9eadb35aa14",
   "metadata": {
    "colab": {
     "base_uri": "https://localhost:8080/",
     "height": 206
    },
    "id": "f68610eb-c814-4d63-b499-e9eadb35aa14",
    "outputId": "96e625fe-706d-4629-ceec-a5c0d1167283"
   },
   "outputs": [
    {
     "ename": "FileNotFoundError",
     "evalue": "[Errno 2] No such file or directory: 'Track A/eng/eng_test.csv'",
     "output_type": "error",
     "traceback": [
      "\u001b[0;31m---------------------------------------------------------------------------\u001b[0m",
      "\u001b[0;31mFileNotFoundError\u001b[0m                         Traceback (most recent call last)",
      "Cell \u001b[0;32mIn[9], line 7\u001b[0m\n\u001b[1;32m      1\u001b[0m \u001b[38;5;66;03m# train Load the File\u001b[39;00m\n\u001b[1;32m      2\u001b[0m \u001b[38;5;66;03m# df_final=pd.DataFrame()\u001b[39;00m\n\u001b[1;32m      3\u001b[0m \u001b[38;5;66;03m# df_final['PairID']=None\u001b[39;00m\n\u001b[1;32m      4\u001b[0m \u001b[38;5;66;03m# df_final['Text']=None\u001b[39;00m\n\u001b[1;32m      6\u001b[0m \u001b[38;5;28;01mfor\u001b[39;00m i, lang \u001b[38;5;129;01min\u001b[39;00m \u001b[38;5;28menumerate\u001b[39m(lan):\n\u001b[0;32m----> 7\u001b[0m     df_str_rel_test \u001b[38;5;241m=\u001b[39m \u001b[43mpd\u001b[49m\u001b[38;5;241;43m.\u001b[39;49m\u001b[43mread_csv\u001b[49m\u001b[43m(\u001b[49m\u001b[38;5;124;43m\"\u001b[39;49m\u001b[38;5;124;43mTrack A/\u001b[39;49m\u001b[38;5;124;43m\"\u001b[39;49m\u001b[38;5;241;43m+\u001b[39;49m\u001b[43mlang\u001b[49m\u001b[38;5;241;43m+\u001b[39;49m\u001b[38;5;124;43m\"\u001b[39;49m\u001b[38;5;124;43m/\u001b[39;49m\u001b[38;5;124;43m\"\u001b[39;49m\u001b[38;5;241;43m+\u001b[39;49m\u001b[43mlang\u001b[49m\u001b[38;5;241;43m+\u001b[39;49m\u001b[38;5;124;43m\"\u001b[39;49m\u001b[38;5;124;43m_test.csv\u001b[39;49m\u001b[38;5;124;43m\"\u001b[39;49m\u001b[43m)\u001b[49m\n\u001b[1;32m      8\u001b[0m     df_final\u001b[38;5;241m=\u001b[39mpd\u001b[38;5;241m.\u001b[39mconcat([df_str_rel_test, df_final])\n",
      "File \u001b[0;32m/mnt/nlp/Sumit/llm_ner_env/lib/python3.9/site-packages/pandas/io/parsers/readers.py:948\u001b[0m, in \u001b[0;36mread_csv\u001b[0;34m(filepath_or_buffer, sep, delimiter, header, names, index_col, usecols, dtype, engine, converters, true_values, false_values, skipinitialspace, skiprows, skipfooter, nrows, na_values, keep_default_na, na_filter, verbose, skip_blank_lines, parse_dates, infer_datetime_format, keep_date_col, date_parser, date_format, dayfirst, cache_dates, iterator, chunksize, compression, thousands, decimal, lineterminator, quotechar, quoting, doublequote, escapechar, comment, encoding, encoding_errors, dialect, on_bad_lines, delim_whitespace, low_memory, memory_map, float_precision, storage_options, dtype_backend)\u001b[0m\n\u001b[1;32m    935\u001b[0m kwds_defaults \u001b[38;5;241m=\u001b[39m _refine_defaults_read(\n\u001b[1;32m    936\u001b[0m     dialect,\n\u001b[1;32m    937\u001b[0m     delimiter,\n\u001b[0;32m   (...)\u001b[0m\n\u001b[1;32m    944\u001b[0m     dtype_backend\u001b[38;5;241m=\u001b[39mdtype_backend,\n\u001b[1;32m    945\u001b[0m )\n\u001b[1;32m    946\u001b[0m kwds\u001b[38;5;241m.\u001b[39mupdate(kwds_defaults)\n\u001b[0;32m--> 948\u001b[0m \u001b[38;5;28;01mreturn\u001b[39;00m \u001b[43m_read\u001b[49m\u001b[43m(\u001b[49m\u001b[43mfilepath_or_buffer\u001b[49m\u001b[43m,\u001b[49m\u001b[43m \u001b[49m\u001b[43mkwds\u001b[49m\u001b[43m)\u001b[49m\n",
      "File \u001b[0;32m/mnt/nlp/Sumit/llm_ner_env/lib/python3.9/site-packages/pandas/io/parsers/readers.py:611\u001b[0m, in \u001b[0;36m_read\u001b[0;34m(filepath_or_buffer, kwds)\u001b[0m\n\u001b[1;32m    608\u001b[0m _validate_names(kwds\u001b[38;5;241m.\u001b[39mget(\u001b[38;5;124m\"\u001b[39m\u001b[38;5;124mnames\u001b[39m\u001b[38;5;124m\"\u001b[39m, \u001b[38;5;28;01mNone\u001b[39;00m))\n\u001b[1;32m    610\u001b[0m \u001b[38;5;66;03m# Create the parser.\u001b[39;00m\n\u001b[0;32m--> 611\u001b[0m parser \u001b[38;5;241m=\u001b[39m \u001b[43mTextFileReader\u001b[49m\u001b[43m(\u001b[49m\u001b[43mfilepath_or_buffer\u001b[49m\u001b[43m,\u001b[49m\u001b[43m \u001b[49m\u001b[38;5;241;43m*\u001b[39;49m\u001b[38;5;241;43m*\u001b[39;49m\u001b[43mkwds\u001b[49m\u001b[43m)\u001b[49m\n\u001b[1;32m    613\u001b[0m \u001b[38;5;28;01mif\u001b[39;00m chunksize \u001b[38;5;129;01mor\u001b[39;00m iterator:\n\u001b[1;32m    614\u001b[0m     \u001b[38;5;28;01mreturn\u001b[39;00m parser\n",
      "File \u001b[0;32m/mnt/nlp/Sumit/llm_ner_env/lib/python3.9/site-packages/pandas/io/parsers/readers.py:1448\u001b[0m, in \u001b[0;36mTextFileReader.__init__\u001b[0;34m(self, f, engine, **kwds)\u001b[0m\n\u001b[1;32m   1445\u001b[0m     \u001b[38;5;28mself\u001b[39m\u001b[38;5;241m.\u001b[39moptions[\u001b[38;5;124m\"\u001b[39m\u001b[38;5;124mhas_index_names\u001b[39m\u001b[38;5;124m\"\u001b[39m] \u001b[38;5;241m=\u001b[39m kwds[\u001b[38;5;124m\"\u001b[39m\u001b[38;5;124mhas_index_names\u001b[39m\u001b[38;5;124m\"\u001b[39m]\n\u001b[1;32m   1447\u001b[0m \u001b[38;5;28mself\u001b[39m\u001b[38;5;241m.\u001b[39mhandles: IOHandles \u001b[38;5;241m|\u001b[39m \u001b[38;5;28;01mNone\u001b[39;00m \u001b[38;5;241m=\u001b[39m \u001b[38;5;28;01mNone\u001b[39;00m\n\u001b[0;32m-> 1448\u001b[0m \u001b[38;5;28mself\u001b[39m\u001b[38;5;241m.\u001b[39m_engine \u001b[38;5;241m=\u001b[39m \u001b[38;5;28;43mself\u001b[39;49m\u001b[38;5;241;43m.\u001b[39;49m\u001b[43m_make_engine\u001b[49m\u001b[43m(\u001b[49m\u001b[43mf\u001b[49m\u001b[43m,\u001b[49m\u001b[43m \u001b[49m\u001b[38;5;28;43mself\u001b[39;49m\u001b[38;5;241;43m.\u001b[39;49m\u001b[43mengine\u001b[49m\u001b[43m)\u001b[49m\n",
      "File \u001b[0;32m/mnt/nlp/Sumit/llm_ner_env/lib/python3.9/site-packages/pandas/io/parsers/readers.py:1705\u001b[0m, in \u001b[0;36mTextFileReader._make_engine\u001b[0;34m(self, f, engine)\u001b[0m\n\u001b[1;32m   1703\u001b[0m     \u001b[38;5;28;01mif\u001b[39;00m \u001b[38;5;124m\"\u001b[39m\u001b[38;5;124mb\u001b[39m\u001b[38;5;124m\"\u001b[39m \u001b[38;5;129;01mnot\u001b[39;00m \u001b[38;5;129;01min\u001b[39;00m mode:\n\u001b[1;32m   1704\u001b[0m         mode \u001b[38;5;241m+\u001b[39m\u001b[38;5;241m=\u001b[39m \u001b[38;5;124m\"\u001b[39m\u001b[38;5;124mb\u001b[39m\u001b[38;5;124m\"\u001b[39m\n\u001b[0;32m-> 1705\u001b[0m \u001b[38;5;28mself\u001b[39m\u001b[38;5;241m.\u001b[39mhandles \u001b[38;5;241m=\u001b[39m \u001b[43mget_handle\u001b[49m\u001b[43m(\u001b[49m\n\u001b[1;32m   1706\u001b[0m \u001b[43m    \u001b[49m\u001b[43mf\u001b[49m\u001b[43m,\u001b[49m\n\u001b[1;32m   1707\u001b[0m \u001b[43m    \u001b[49m\u001b[43mmode\u001b[49m\u001b[43m,\u001b[49m\n\u001b[1;32m   1708\u001b[0m \u001b[43m    \u001b[49m\u001b[43mencoding\u001b[49m\u001b[38;5;241;43m=\u001b[39;49m\u001b[38;5;28;43mself\u001b[39;49m\u001b[38;5;241;43m.\u001b[39;49m\u001b[43moptions\u001b[49m\u001b[38;5;241;43m.\u001b[39;49m\u001b[43mget\u001b[49m\u001b[43m(\u001b[49m\u001b[38;5;124;43m\"\u001b[39;49m\u001b[38;5;124;43mencoding\u001b[39;49m\u001b[38;5;124;43m\"\u001b[39;49m\u001b[43m,\u001b[49m\u001b[43m \u001b[49m\u001b[38;5;28;43;01mNone\u001b[39;49;00m\u001b[43m)\u001b[49m\u001b[43m,\u001b[49m\n\u001b[1;32m   1709\u001b[0m \u001b[43m    \u001b[49m\u001b[43mcompression\u001b[49m\u001b[38;5;241;43m=\u001b[39;49m\u001b[38;5;28;43mself\u001b[39;49m\u001b[38;5;241;43m.\u001b[39;49m\u001b[43moptions\u001b[49m\u001b[38;5;241;43m.\u001b[39;49m\u001b[43mget\u001b[49m\u001b[43m(\u001b[49m\u001b[38;5;124;43m\"\u001b[39;49m\u001b[38;5;124;43mcompression\u001b[39;49m\u001b[38;5;124;43m\"\u001b[39;49m\u001b[43m,\u001b[49m\u001b[43m \u001b[49m\u001b[38;5;28;43;01mNone\u001b[39;49;00m\u001b[43m)\u001b[49m\u001b[43m,\u001b[49m\n\u001b[1;32m   1710\u001b[0m \u001b[43m    \u001b[49m\u001b[43mmemory_map\u001b[49m\u001b[38;5;241;43m=\u001b[39;49m\u001b[38;5;28;43mself\u001b[39;49m\u001b[38;5;241;43m.\u001b[39;49m\u001b[43moptions\u001b[49m\u001b[38;5;241;43m.\u001b[39;49m\u001b[43mget\u001b[49m\u001b[43m(\u001b[49m\u001b[38;5;124;43m\"\u001b[39;49m\u001b[38;5;124;43mmemory_map\u001b[39;49m\u001b[38;5;124;43m\"\u001b[39;49m\u001b[43m,\u001b[49m\u001b[43m \u001b[49m\u001b[38;5;28;43;01mFalse\u001b[39;49;00m\u001b[43m)\u001b[49m\u001b[43m,\u001b[49m\n\u001b[1;32m   1711\u001b[0m \u001b[43m    \u001b[49m\u001b[43mis_text\u001b[49m\u001b[38;5;241;43m=\u001b[39;49m\u001b[43mis_text\u001b[49m\u001b[43m,\u001b[49m\n\u001b[1;32m   1712\u001b[0m \u001b[43m    \u001b[49m\u001b[43merrors\u001b[49m\u001b[38;5;241;43m=\u001b[39;49m\u001b[38;5;28;43mself\u001b[39;49m\u001b[38;5;241;43m.\u001b[39;49m\u001b[43moptions\u001b[49m\u001b[38;5;241;43m.\u001b[39;49m\u001b[43mget\u001b[49m\u001b[43m(\u001b[49m\u001b[38;5;124;43m\"\u001b[39;49m\u001b[38;5;124;43mencoding_errors\u001b[39;49m\u001b[38;5;124;43m\"\u001b[39;49m\u001b[43m,\u001b[49m\u001b[43m \u001b[49m\u001b[38;5;124;43m\"\u001b[39;49m\u001b[38;5;124;43mstrict\u001b[39;49m\u001b[38;5;124;43m\"\u001b[39;49m\u001b[43m)\u001b[49m\u001b[43m,\u001b[49m\n\u001b[1;32m   1713\u001b[0m \u001b[43m    \u001b[49m\u001b[43mstorage_options\u001b[49m\u001b[38;5;241;43m=\u001b[39;49m\u001b[38;5;28;43mself\u001b[39;49m\u001b[38;5;241;43m.\u001b[39;49m\u001b[43moptions\u001b[49m\u001b[38;5;241;43m.\u001b[39;49m\u001b[43mget\u001b[49m\u001b[43m(\u001b[49m\u001b[38;5;124;43m\"\u001b[39;49m\u001b[38;5;124;43mstorage_options\u001b[39;49m\u001b[38;5;124;43m\"\u001b[39;49m\u001b[43m,\u001b[49m\u001b[43m \u001b[49m\u001b[38;5;28;43;01mNone\u001b[39;49;00m\u001b[43m)\u001b[49m\u001b[43m,\u001b[49m\n\u001b[1;32m   1714\u001b[0m \u001b[43m\u001b[49m\u001b[43m)\u001b[49m\n\u001b[1;32m   1715\u001b[0m \u001b[38;5;28;01massert\u001b[39;00m \u001b[38;5;28mself\u001b[39m\u001b[38;5;241m.\u001b[39mhandles \u001b[38;5;129;01mis\u001b[39;00m \u001b[38;5;129;01mnot\u001b[39;00m \u001b[38;5;28;01mNone\u001b[39;00m\n\u001b[1;32m   1716\u001b[0m f \u001b[38;5;241m=\u001b[39m \u001b[38;5;28mself\u001b[39m\u001b[38;5;241m.\u001b[39mhandles\u001b[38;5;241m.\u001b[39mhandle\n",
      "File \u001b[0;32m/mnt/nlp/Sumit/llm_ner_env/lib/python3.9/site-packages/pandas/io/common.py:863\u001b[0m, in \u001b[0;36mget_handle\u001b[0;34m(path_or_buf, mode, encoding, compression, memory_map, is_text, errors, storage_options)\u001b[0m\n\u001b[1;32m    858\u001b[0m \u001b[38;5;28;01melif\u001b[39;00m \u001b[38;5;28misinstance\u001b[39m(handle, \u001b[38;5;28mstr\u001b[39m):\n\u001b[1;32m    859\u001b[0m     \u001b[38;5;66;03m# Check whether the filename is to be opened in binary mode.\u001b[39;00m\n\u001b[1;32m    860\u001b[0m     \u001b[38;5;66;03m# Binary mode does not support 'encoding' and 'newline'.\u001b[39;00m\n\u001b[1;32m    861\u001b[0m     \u001b[38;5;28;01mif\u001b[39;00m ioargs\u001b[38;5;241m.\u001b[39mencoding \u001b[38;5;129;01mand\u001b[39;00m \u001b[38;5;124m\"\u001b[39m\u001b[38;5;124mb\u001b[39m\u001b[38;5;124m\"\u001b[39m \u001b[38;5;129;01mnot\u001b[39;00m \u001b[38;5;129;01min\u001b[39;00m ioargs\u001b[38;5;241m.\u001b[39mmode:\n\u001b[1;32m    862\u001b[0m         \u001b[38;5;66;03m# Encoding\u001b[39;00m\n\u001b[0;32m--> 863\u001b[0m         handle \u001b[38;5;241m=\u001b[39m \u001b[38;5;28;43mopen\u001b[39;49m\u001b[43m(\u001b[49m\n\u001b[1;32m    864\u001b[0m \u001b[43m            \u001b[49m\u001b[43mhandle\u001b[49m\u001b[43m,\u001b[49m\n\u001b[1;32m    865\u001b[0m \u001b[43m            \u001b[49m\u001b[43mioargs\u001b[49m\u001b[38;5;241;43m.\u001b[39;49m\u001b[43mmode\u001b[49m\u001b[43m,\u001b[49m\n\u001b[1;32m    866\u001b[0m \u001b[43m            \u001b[49m\u001b[43mencoding\u001b[49m\u001b[38;5;241;43m=\u001b[39;49m\u001b[43mioargs\u001b[49m\u001b[38;5;241;43m.\u001b[39;49m\u001b[43mencoding\u001b[49m\u001b[43m,\u001b[49m\n\u001b[1;32m    867\u001b[0m \u001b[43m            \u001b[49m\u001b[43merrors\u001b[49m\u001b[38;5;241;43m=\u001b[39;49m\u001b[43merrors\u001b[49m\u001b[43m,\u001b[49m\n\u001b[1;32m    868\u001b[0m \u001b[43m            \u001b[49m\u001b[43mnewline\u001b[49m\u001b[38;5;241;43m=\u001b[39;49m\u001b[38;5;124;43m\"\u001b[39;49m\u001b[38;5;124;43m\"\u001b[39;49m\u001b[43m,\u001b[49m\n\u001b[1;32m    869\u001b[0m \u001b[43m        \u001b[49m\u001b[43m)\u001b[49m\n\u001b[1;32m    870\u001b[0m     \u001b[38;5;28;01melse\u001b[39;00m:\n\u001b[1;32m    871\u001b[0m         \u001b[38;5;66;03m# Binary mode\u001b[39;00m\n\u001b[1;32m    872\u001b[0m         handle \u001b[38;5;241m=\u001b[39m \u001b[38;5;28mopen\u001b[39m(handle, ioargs\u001b[38;5;241m.\u001b[39mmode)\n",
      "\u001b[0;31mFileNotFoundError\u001b[0m: [Errno 2] No such file or directory: 'Track A/eng/eng_test.csv'"
     ]
    }
   ],
   "source": [
    "# train Load the File\n",
    "# df_final=pd.DataFrame()\n",
    "# df_final['PairID']=None\n",
    "# df_final['Text']=None\n",
    "\n",
    "for i, lang in enumerate(lan):\n",
    "    df_str_rel_test = pd.read_csv(\"Track A/\"+lang+\"/\"+lang+\"_test.csv\")\n",
    "    df_final=pd.concat([df_str_rel_test, df_final])\n",
    " "
   ]
  },
  {
   "cell_type": "code",
   "execution_count": 12,
   "id": "8e486fe1-cc97-454e-afad-ad3c51417ad5",
   "metadata": {},
   "outputs": [
    {
     "data": {
      "text/plain": [
       "dict_keys(['eng', 'esp', 'amh', 'arq', 'ary', 'hau', 'kin', 'mar', 'tel'])"
      ]
     },
     "execution_count": 12,
     "metadata": {},
     "output_type": "execute_result"
    }
   ],
   "source": [
    "df_str_rel_train.keys()"
   ]
  },
  {
   "cell_type": "code",
   "execution_count": 13,
   "id": "s6MF9tivZ0fB",
   "metadata": {
    "colab": {
     "base_uri": "https://localhost:8080/",
     "height": 206
    },
    "id": "s6MF9tivZ0fB",
    "outputId": "3a913d25-8034-45fb-80e7-3e7624c91944"
   },
   "outputs": [],
   "source": [
    "# train Load the File\n",
    "df_str_rel_dev={}\n",
    "# df_final=pd.DataFrame()\n",
    "for i, lang in enumerate(lan):\n",
    "    df_str_rel_dev[lang]= pd.read_csv(\"Track A/\"+lang+\"/\"+lang+\"_dev.csv\")"
   ]
  },
  {
   "cell_type": "code",
   "execution_count": 14,
   "id": "4c0260c1-9392-4df3-b153-790d3ceed352",
   "metadata": {},
   "outputs": [
    {
     "data": {
      "text/html": [
       "<div>\n",
       "<style scoped>\n",
       "    .dataframe tbody tr th:only-of-type {\n",
       "        vertical-align: middle;\n",
       "    }\n",
       "\n",
       "    .dataframe tbody tr th {\n",
       "        vertical-align: top;\n",
       "    }\n",
       "\n",
       "    .dataframe thead th {\n",
       "        text-align: right;\n",
       "    }\n",
       "</style>\n",
       "<table border=\"1\" class=\"dataframe\">\n",
       "  <thead>\n",
       "    <tr style=\"text-align: right;\">\n",
       "      <th></th>\n",
       "      <th>PairID</th>\n",
       "      <th>Text</th>\n",
       "    </tr>\n",
       "  </thead>\n",
       "  <tbody>\n",
       "    <tr>\n",
       "      <th>0</th>\n",
       "      <td>ENG-dev-0000</td>\n",
       "      <td>The story is gripping and interesting.\\nIt's a...</td>\n",
       "    </tr>\n",
       "    <tr>\n",
       "      <th>1</th>\n",
       "      <td>ENG-dev-0001</td>\n",
       "      <td>The majority of Southeast Alaska 's area is pa...</td>\n",
       "    </tr>\n",
       "    <tr>\n",
       "      <th>2</th>\n",
       "      <td>ENG-dev-0002</td>\n",
       "      <td>and from your post i think you are to young to...</td>\n",
       "    </tr>\n",
       "    <tr>\n",
       "      <th>3</th>\n",
       "      <td>ENG-dev-0003</td>\n",
       "      <td>The film 's success also made Dreamworks Anima...</td>\n",
       "    </tr>\n",
       "    <tr>\n",
       "      <th>4</th>\n",
       "      <td>ENG-dev-0004</td>\n",
       "      <td>I am still confused about how I feel about thi...</td>\n",
       "    </tr>\n",
       "    <tr>\n",
       "      <th>...</th>\n",
       "      <td>...</td>\n",
       "      <td>...</td>\n",
       "    </tr>\n",
       "    <tr>\n",
       "      <th>245</th>\n",
       "      <td>ENG-dev-0245</td>\n",
       "      <td>thats just how they are :( its a shame lol\\nIt...</td>\n",
       "    </tr>\n",
       "    <tr>\n",
       "      <th>246</th>\n",
       "      <td>ENG-dev-0246</td>\n",
       "      <td>I feel sorry for the books that I will read af...</td>\n",
       "    </tr>\n",
       "    <tr>\n",
       "      <th>247</th>\n",
       "      <td>ENG-dev-0247</td>\n",
       "      <td>Uwe Seeler -LRB- born 5 November 1936 in Hambu...</td>\n",
       "    </tr>\n",
       "    <tr>\n",
       "      <th>248</th>\n",
       "      <td>ENG-dev-0248</td>\n",
       "      <td>Waco is a city in and the county seat of McLen...</td>\n",
       "    </tr>\n",
       "    <tr>\n",
       "      <th>249</th>\n",
       "      <td>ENG-dev-0249</td>\n",
       "      <td>religious extremism continues in pakistan desp...</td>\n",
       "    </tr>\n",
       "  </tbody>\n",
       "</table>\n",
       "<p>250 rows × 2 columns</p>\n",
       "</div>"
      ],
      "text/plain": [
       "           PairID                                               Text\n",
       "0    ENG-dev-0000  The story is gripping and interesting.\\nIt's a...\n",
       "1    ENG-dev-0001  The majority of Southeast Alaska 's area is pa...\n",
       "2    ENG-dev-0002  and from your post i think you are to young to...\n",
       "3    ENG-dev-0003  The film 's success also made Dreamworks Anima...\n",
       "4    ENG-dev-0004  I am still confused about how I feel about thi...\n",
       "..            ...                                                ...\n",
       "245  ENG-dev-0245  thats just how they are :( its a shame lol\\nIt...\n",
       "246  ENG-dev-0246  I feel sorry for the books that I will read af...\n",
       "247  ENG-dev-0247  Uwe Seeler -LRB- born 5 November 1936 in Hambu...\n",
       "248  ENG-dev-0248  Waco is a city in and the county seat of McLen...\n",
       "249  ENG-dev-0249  religious extremism continues in pakistan desp...\n",
       "\n",
       "[250 rows x 2 columns]"
      ]
     },
     "execution_count": 14,
     "metadata": {},
     "output_type": "execute_result"
    }
   ],
   "source": [
    "df_str_rel_dev['eng']"
   ]
  },
  {
   "cell_type": "code",
   "execution_count": 15,
   "id": "ogQsC-YUQA6T",
   "metadata": {
    "colab": {
     "base_uri": "https://localhost:8080/",
     "height": 206
    },
    "id": "ogQsC-YUQA6T",
    "outputId": "cca15430-c10b-42d6-a43a-031483b093a1"
   },
   "outputs": [],
   "source": [
    "# # Creating a column \"Split_Text\" which is a list of two sentences.\n",
    "\n",
    "# df_final['Split_Text'] = df_final['Text'].apply(lambda x: x.split(\"\\n\"))\n",
    "# df_final.head()\n",
    "for i, lang in enumerate(lan):\n",
    "    df_str_rel_train[lang]['Split_Text']= df_str_rel_train[lang]['Text'].apply(lambda x:x.split(\"\\n\"))\n",
    "    df_str_rel_dev[lang]['Split_Text']= df_str_rel_dev[lang]['Text'].apply(lambda x:x.split(\"\\n\"))"
   ]
  },
  {
   "cell_type": "code",
   "execution_count": 16,
   "id": "84253d8f-a572-4337-988f-99c8051759de",
   "metadata": {},
   "outputs": [
    {
     "data": {
      "text/html": [
       "<div>\n",
       "<style scoped>\n",
       "    .dataframe tbody tr th:only-of-type {\n",
       "        vertical-align: middle;\n",
       "    }\n",
       "\n",
       "    .dataframe tbody tr th {\n",
       "        vertical-align: top;\n",
       "    }\n",
       "\n",
       "    .dataframe thead th {\n",
       "        text-align: right;\n",
       "    }\n",
       "</style>\n",
       "<table border=\"1\" class=\"dataframe\">\n",
       "  <thead>\n",
       "    <tr style=\"text-align: right;\">\n",
       "      <th></th>\n",
       "      <th>PairID</th>\n",
       "      <th>Text</th>\n",
       "      <th>Score</th>\n",
       "      <th>Split_Text</th>\n",
       "    </tr>\n",
       "  </thead>\n",
       "  <tbody>\n",
       "    <tr>\n",
       "      <th>0</th>\n",
       "      <td>ENG-train-0000</td>\n",
       "      <td>It that happens, just pull the plug.\\nif that ...</td>\n",
       "      <td>1.0</td>\n",
       "      <td>[It that happens, just pull the plug., if that...</td>\n",
       "    </tr>\n",
       "    <tr>\n",
       "      <th>1</th>\n",
       "      <td>ENG-train-0001</td>\n",
       "      <td>A black dog running through water.\\nA black do...</td>\n",
       "      <td>1.0</td>\n",
       "      <td>[A black dog running through water., A black d...</td>\n",
       "    </tr>\n",
       "    <tr>\n",
       "      <th>2</th>\n",
       "      <td>ENG-train-0002</td>\n",
       "      <td>I've been searchingthe entire abbey for you.\\n...</td>\n",
       "      <td>1.0</td>\n",
       "      <td>[I've been searchingthe entire abbey for you.,...</td>\n",
       "    </tr>\n",
       "    <tr>\n",
       "      <th>3</th>\n",
       "      <td>ENG-train-0003</td>\n",
       "      <td>If he is good looking and has a good personali...</td>\n",
       "      <td>1.0</td>\n",
       "      <td>[If he is good looking and has a good personal...</td>\n",
       "    </tr>\n",
       "    <tr>\n",
       "      <th>4</th>\n",
       "      <td>ENG-train-0004</td>\n",
       "      <td>She does not hate you, she is just annoyed wit...</td>\n",
       "      <td>1.0</td>\n",
       "      <td>[She does not hate you, she is just annoyed wi...</td>\n",
       "    </tr>\n",
       "    <tr>\n",
       "      <th>...</th>\n",
       "      <td>...</td>\n",
       "      <td>...</td>\n",
       "      <td>...</td>\n",
       "      <td>...</td>\n",
       "    </tr>\n",
       "    <tr>\n",
       "      <th>5495</th>\n",
       "      <td>ENG-train-5495</td>\n",
       "      <td>A young boy pounding on an anvil.\\nWoman sits ...</td>\n",
       "      <td>0.0</td>\n",
       "      <td>[A young boy pounding on an anvil., Woman sits...</td>\n",
       "    </tr>\n",
       "    <tr>\n",
       "      <th>5496</th>\n",
       "      <td>ENG-train-5496</td>\n",
       "      <td>I love how he recognized his wife tempered his...</td>\n",
       "      <td>0.0</td>\n",
       "      <td>[I love how he recognized his wife tempered hi...</td>\n",
       "    </tr>\n",
       "    <tr>\n",
       "      <th>5497</th>\n",
       "      <td>ENG-train-5497</td>\n",
       "      <td>I actually read a chapter or two beyond that p...</td>\n",
       "      <td>0.0</td>\n",
       "      <td>[I actually read a chapter or two beyond that ...</td>\n",
       "    </tr>\n",
       "    <tr>\n",
       "      <th>5498</th>\n",
       "      <td>ENG-train-5498</td>\n",
       "      <td>A boy gives being in the snow two thumbs up.\\n...</td>\n",
       "      <td>0.0</td>\n",
       "      <td>[A boy gives being in the snow two thumbs up.,...</td>\n",
       "    </tr>\n",
       "    <tr>\n",
       "      <th>5499</th>\n",
       "      <td>ENG-train-5499</td>\n",
       "      <td>Perhaps it is strange to think about sex const...</td>\n",
       "      <td>0.0</td>\n",
       "      <td>[Perhaps it is strange to think about sex cons...</td>\n",
       "    </tr>\n",
       "  </tbody>\n",
       "</table>\n",
       "<p>5500 rows × 4 columns</p>\n",
       "</div>"
      ],
      "text/plain": [
       "              PairID                                               Text  \\\n",
       "0     ENG-train-0000  It that happens, just pull the plug.\\nif that ...   \n",
       "1     ENG-train-0001  A black dog running through water.\\nA black do...   \n",
       "2     ENG-train-0002  I've been searchingthe entire abbey for you.\\n...   \n",
       "3     ENG-train-0003  If he is good looking and has a good personali...   \n",
       "4     ENG-train-0004  She does not hate you, she is just annoyed wit...   \n",
       "...              ...                                                ...   \n",
       "5495  ENG-train-5495  A young boy pounding on an anvil.\\nWoman sits ...   \n",
       "5496  ENG-train-5496  I love how he recognized his wife tempered his...   \n",
       "5497  ENG-train-5497  I actually read a chapter or two beyond that p...   \n",
       "5498  ENG-train-5498  A boy gives being in the snow two thumbs up.\\n...   \n",
       "5499  ENG-train-5499  Perhaps it is strange to think about sex const...   \n",
       "\n",
       "      Score                                         Split_Text  \n",
       "0       1.0  [It that happens, just pull the plug., if that...  \n",
       "1       1.0  [A black dog running through water., A black d...  \n",
       "2       1.0  [I've been searchingthe entire abbey for you.,...  \n",
       "3       1.0  [If he is good looking and has a good personal...  \n",
       "4       1.0  [She does not hate you, she is just annoyed wi...  \n",
       "...     ...                                                ...  \n",
       "5495    0.0  [A young boy pounding on an anvil., Woman sits...  \n",
       "5496    0.0  [I love how he recognized his wife tempered hi...  \n",
       "5497    0.0  [I actually read a chapter or two beyond that ...  \n",
       "5498    0.0  [A boy gives being in the snow two thumbs up.,...  \n",
       "5499    0.0  [Perhaps it is strange to think about sex cons...  \n",
       "\n",
       "[5500 rows x 4 columns]"
      ]
     },
     "execution_count": 16,
     "metadata": {},
     "output_type": "execute_result"
    }
   ],
   "source": [
    "df_str_rel_train['eng']"
   ]
  },
  {
   "cell_type": "markdown",
   "id": "ef0wwrWRQjit",
   "metadata": {
    "id": "ef0wwrWRQjit"
   },
   "source": [
    "#Generate submission file\n",
    "```\n",
    "# This is formatted as code\n",
    "```\n",
    "\n"
   ]
  },
  {
   "cell_type": "markdown",
   "id": "gsQ73jr6QwkN",
   "metadata": {
    "id": "gsQ73jr6QwkN"
   },
   "source": [
    "### Append prediction to dataframe\n",
    "\n",
    "> Indented block"
   ]
  },
  {
   "cell_type": "code",
   "execution_count": 17,
   "id": "f3d7c283-6d8b-4b07-9bd5-598b7fd73e2c",
   "metadata": {
    "id": "f3d7c283-6d8b-4b07-9bd5-598b7fd73e2c"
   },
   "outputs": [],
   "source": [
    "# train_pdf=df_final.sample(frac=0.9,random_state=200)\n",
    "# dev_pdf=df_final.drop(train_pdf.index)\n",
    "\n",
    "test_pdf = df_str_rel_dev\n",
    "train_pdf={}\n",
    "dev_pdf={}\n",
    "for i, lang in enumerate(lan):\n",
    "    train_pdf[lang]= df_str_rel_train[lang].sample(frac=0.9, random_state=200)\n",
    "    dev_pdf[lang]=df_str_rel_train[lang].drop(train_pdf[lang].index)\n"
   ]
  },
  {
   "cell_type": "code",
   "execution_count": 18,
   "id": "38112e2d-11d5-4fba-ac50-973403308905",
   "metadata": {
    "colab": {
     "base_uri": "https://localhost:8080/",
     "height": 424
    },
    "id": "38112e2d-11d5-4fba-ac50-973403308905",
    "outputId": "a7cd17df-8c9f-4576-b625-c4889150b31c"
   },
   "outputs": [
    {
     "data": {
      "text/html": [
       "<div>\n",
       "<style scoped>\n",
       "    .dataframe tbody tr th:only-of-type {\n",
       "        vertical-align: middle;\n",
       "    }\n",
       "\n",
       "    .dataframe tbody tr th {\n",
       "        vertical-align: top;\n",
       "    }\n",
       "\n",
       "    .dataframe thead th {\n",
       "        text-align: right;\n",
       "    }\n",
       "</style>\n",
       "<table border=\"1\" class=\"dataframe\">\n",
       "  <thead>\n",
       "    <tr style=\"text-align: right;\">\n",
       "      <th></th>\n",
       "      <th>PairID</th>\n",
       "      <th>Text</th>\n",
       "      <th>Score</th>\n",
       "      <th>Split_Text</th>\n",
       "    </tr>\n",
       "  </thead>\n",
       "  <tbody>\n",
       "    <tr>\n",
       "      <th>5411</th>\n",
       "      <td>ENG-train-5411</td>\n",
       "      <td>Stowers worked as a receptionist in Los Angele...</td>\n",
       "      <td>0.09</td>\n",
       "      <td>[Stowers worked as a receptionist in Los Angel...</td>\n",
       "    </tr>\n",
       "    <tr>\n",
       "      <th>2224</th>\n",
       "      <td>ENG-train-2224</td>\n",
       "      <td>Use a search engine like google or yahoo, and ...</td>\n",
       "      <td>0.53</td>\n",
       "      <td>[Use a search engine like google or yahoo, and...</td>\n",
       "    </tr>\n",
       "    <tr>\n",
       "      <th>2294</th>\n",
       "      <td>ENG-train-2294</td>\n",
       "      <td>Must add Gwen and Drustan to my list of all-ti...</td>\n",
       "      <td>0.53</td>\n",
       "      <td>[Must add Gwen and Drustan to my list of all-t...</td>\n",
       "    </tr>\n",
       "    <tr>\n",
       "      <th>5229</th>\n",
       "      <td>ENG-train-5229</td>\n",
       "      <td>How am I going to last till June!\\nUPDATE: thi...</td>\n",
       "      <td>0.16</td>\n",
       "      <td>[How am I going to last till June!, UPDATE: th...</td>\n",
       "    </tr>\n",
       "    <tr>\n",
       "      <th>139</th>\n",
       "      <td>ENG-train-0139</td>\n",
       "      <td>We're already two million, two over the origin...</td>\n",
       "      <td>0.91</td>\n",
       "      <td>[We're already two million, two over the origi...</td>\n",
       "    </tr>\n",
       "    <tr>\n",
       "      <th>...</th>\n",
       "      <td>...</td>\n",
       "      <td>...</td>\n",
       "      <td>...</td>\n",
       "      <td>...</td>\n",
       "    </tr>\n",
       "    <tr>\n",
       "      <th>4919</th>\n",
       "      <td>ENG-train-4919</td>\n",
       "      <td>My mom used to listen to Karen Carpenter often...</td>\n",
       "      <td>0.22</td>\n",
       "      <td>[My mom used to listen to Karen Carpenter ofte...</td>\n",
       "    </tr>\n",
       "    <tr>\n",
       "      <th>5296</th>\n",
       "      <td>ENG-train-5296</td>\n",
       "      <td>He left an apologetic message.\\nIt's below the...</td>\n",
       "      <td>0.12</td>\n",
       "      <td>[He left an apologetic message., It's below th...</td>\n",
       "    </tr>\n",
       "    <tr>\n",
       "      <th>3714</th>\n",
       "      <td>ENG-train-3714</td>\n",
       "      <td>I don't know Cynna well enough for this.\\nCynn...</td>\n",
       "      <td>0.38</td>\n",
       "      <td>[I don't know Cynna well enough for this., Cyn...</td>\n",
       "    </tr>\n",
       "    <tr>\n",
       "      <th>3718</th>\n",
       "      <td>ENG-train-3718</td>\n",
       "      <td>Hades and Persephone are each likable, decent ...</td>\n",
       "      <td>0.38</td>\n",
       "      <td>[Hades and Persephone are each likable, decent...</td>\n",
       "    </tr>\n",
       "    <tr>\n",
       "      <th>4566</th>\n",
       "      <td>ENG-train-4566</td>\n",
       "      <td>In the end, Dark of Heart of Magic is a good s...</td>\n",
       "      <td>0.28</td>\n",
       "      <td>[In the end, Dark of Heart of Magic is a good ...</td>\n",
       "    </tr>\n",
       "  </tbody>\n",
       "</table>\n",
       "<p>4950 rows × 4 columns</p>\n",
       "</div>"
      ],
      "text/plain": [
       "              PairID                                               Text  \\\n",
       "5411  ENG-train-5411  Stowers worked as a receptionist in Los Angele...   \n",
       "2224  ENG-train-2224  Use a search engine like google or yahoo, and ...   \n",
       "2294  ENG-train-2294  Must add Gwen and Drustan to my list of all-ti...   \n",
       "5229  ENG-train-5229  How am I going to last till June!\\nUPDATE: thi...   \n",
       "139   ENG-train-0139  We're already two million, two over the origin...   \n",
       "...              ...                                                ...   \n",
       "4919  ENG-train-4919  My mom used to listen to Karen Carpenter often...   \n",
       "5296  ENG-train-5296  He left an apologetic message.\\nIt's below the...   \n",
       "3714  ENG-train-3714  I don't know Cynna well enough for this.\\nCynn...   \n",
       "3718  ENG-train-3718  Hades and Persephone are each likable, decent ...   \n",
       "4566  ENG-train-4566  In the end, Dark of Heart of Magic is a good s...   \n",
       "\n",
       "      Score                                         Split_Text  \n",
       "5411   0.09  [Stowers worked as a receptionist in Los Angel...  \n",
       "2224   0.53  [Use a search engine like google or yahoo, and...  \n",
       "2294   0.53  [Must add Gwen and Drustan to my list of all-t...  \n",
       "5229   0.16  [How am I going to last till June!, UPDATE: th...  \n",
       "139    0.91  [We're already two million, two over the origi...  \n",
       "...     ...                                                ...  \n",
       "4919   0.22  [My mom used to listen to Karen Carpenter ofte...  \n",
       "5296   0.12  [He left an apologetic message., It's below th...  \n",
       "3714   0.38  [I don't know Cynna well enough for this., Cyn...  \n",
       "3718   0.38  [Hades and Persephone are each likable, decent...  \n",
       "4566   0.28  [In the end, Dark of Heart of Magic is a good ...  \n",
       "\n",
       "[4950 rows x 4 columns]"
      ]
     },
     "execution_count": 18,
     "metadata": {},
     "output_type": "execute_result"
    }
   ],
   "source": [
    "train_pdf['eng']"
   ]
  },
  {
   "cell_type": "code",
   "execution_count": 19,
   "id": "e5424092-cf9e-4ea4-b954-003cdf97179a",
   "metadata": {},
   "outputs": [
    {
     "data": {
      "text/html": [
       "<div>\n",
       "<style scoped>\n",
       "    .dataframe tbody tr th:only-of-type {\n",
       "        vertical-align: middle;\n",
       "    }\n",
       "\n",
       "    .dataframe tbody tr th {\n",
       "        vertical-align: top;\n",
       "    }\n",
       "\n",
       "    .dataframe thead th {\n",
       "        text-align: right;\n",
       "    }\n",
       "</style>\n",
       "<table border=\"1\" class=\"dataframe\">\n",
       "  <thead>\n",
       "    <tr style=\"text-align: right;\">\n",
       "      <th></th>\n",
       "      <th>PairID</th>\n",
       "      <th>Text</th>\n",
       "      <th>Split_Text</th>\n",
       "    </tr>\n",
       "  </thead>\n",
       "  <tbody>\n",
       "    <tr>\n",
       "      <th>0</th>\n",
       "      <td>ENG-dev-0000</td>\n",
       "      <td>The story is gripping and interesting.\\nIt's a...</td>\n",
       "      <td>[The story is gripping and interesting., It's ...</td>\n",
       "    </tr>\n",
       "    <tr>\n",
       "      <th>1</th>\n",
       "      <td>ENG-dev-0001</td>\n",
       "      <td>The majority of Southeast Alaska 's area is pa...</td>\n",
       "      <td>[The majority of Southeast Alaska 's area is p...</td>\n",
       "    </tr>\n",
       "    <tr>\n",
       "      <th>2</th>\n",
       "      <td>ENG-dev-0002</td>\n",
       "      <td>and from your post i think you are to young to...</td>\n",
       "      <td>[and from your post i think you are to young t...</td>\n",
       "    </tr>\n",
       "    <tr>\n",
       "      <th>3</th>\n",
       "      <td>ENG-dev-0003</td>\n",
       "      <td>The film 's success also made Dreamworks Anima...</td>\n",
       "      <td>[The film 's success also made Dreamworks Anim...</td>\n",
       "    </tr>\n",
       "    <tr>\n",
       "      <th>4</th>\n",
       "      <td>ENG-dev-0004</td>\n",
       "      <td>I am still confused about how I feel about thi...</td>\n",
       "      <td>[I am still confused about how I feel about th...</td>\n",
       "    </tr>\n",
       "    <tr>\n",
       "      <th>...</th>\n",
       "      <td>...</td>\n",
       "      <td>...</td>\n",
       "      <td>...</td>\n",
       "    </tr>\n",
       "    <tr>\n",
       "      <th>245</th>\n",
       "      <td>ENG-dev-0245</td>\n",
       "      <td>thats just how they are :( its a shame lol\\nIt...</td>\n",
       "      <td>[thats just how they are :( its a shame lol, I...</td>\n",
       "    </tr>\n",
       "    <tr>\n",
       "      <th>246</th>\n",
       "      <td>ENG-dev-0246</td>\n",
       "      <td>I feel sorry for the books that I will read af...</td>\n",
       "      <td>[I feel sorry for the books that I will read a...</td>\n",
       "    </tr>\n",
       "    <tr>\n",
       "      <th>247</th>\n",
       "      <td>ENG-dev-0247</td>\n",
       "      <td>Uwe Seeler -LRB- born 5 November 1936 in Hambu...</td>\n",
       "      <td>[Uwe Seeler -LRB- born 5 November 1936 in Hamb...</td>\n",
       "    </tr>\n",
       "    <tr>\n",
       "      <th>248</th>\n",
       "      <td>ENG-dev-0248</td>\n",
       "      <td>Waco is a city in and the county seat of McLen...</td>\n",
       "      <td>[Waco is a city in and the county seat of McLe...</td>\n",
       "    </tr>\n",
       "    <tr>\n",
       "      <th>249</th>\n",
       "      <td>ENG-dev-0249</td>\n",
       "      <td>religious extremism continues in pakistan desp...</td>\n",
       "      <td>[religious extremism continues in pakistan des...</td>\n",
       "    </tr>\n",
       "  </tbody>\n",
       "</table>\n",
       "<p>250 rows × 3 columns</p>\n",
       "</div>"
      ],
      "text/plain": [
       "           PairID                                               Text  \\\n",
       "0    ENG-dev-0000  The story is gripping and interesting.\\nIt's a...   \n",
       "1    ENG-dev-0001  The majority of Southeast Alaska 's area is pa...   \n",
       "2    ENG-dev-0002  and from your post i think you are to young to...   \n",
       "3    ENG-dev-0003  The film 's success also made Dreamworks Anima...   \n",
       "4    ENG-dev-0004  I am still confused about how I feel about thi...   \n",
       "..            ...                                                ...   \n",
       "245  ENG-dev-0245  thats just how they are :( its a shame lol\\nIt...   \n",
       "246  ENG-dev-0246  I feel sorry for the books that I will read af...   \n",
       "247  ENG-dev-0247  Uwe Seeler -LRB- born 5 November 1936 in Hambu...   \n",
       "248  ENG-dev-0248  Waco is a city in and the county seat of McLen...   \n",
       "249  ENG-dev-0249  religious extremism continues in pakistan desp...   \n",
       "\n",
       "                                            Split_Text  \n",
       "0    [The story is gripping and interesting., It's ...  \n",
       "1    [The majority of Southeast Alaska 's area is p...  \n",
       "2    [and from your post i think you are to young t...  \n",
       "3    [The film 's success also made Dreamworks Anim...  \n",
       "4    [I am still confused about how I feel about th...  \n",
       "..                                                 ...  \n",
       "245  [thats just how they are :( its a shame lol, I...  \n",
       "246  [I feel sorry for the books that I will read a...  \n",
       "247  [Uwe Seeler -LRB- born 5 November 1936 in Hamb...  \n",
       "248  [Waco is a city in and the county seat of McLe...  \n",
       "249  [religious extremism continues in pakistan des...  \n",
       "\n",
       "[250 rows x 3 columns]"
      ]
     },
     "execution_count": 19,
     "metadata": {},
     "output_type": "execute_result"
    }
   ],
   "source": [
    "test_pdf['eng']"
   ]
  },
  {
   "cell_type": "code",
   "execution_count": 20,
   "id": "54015f94-2b42-4663-85f7-606bfc991268",
   "metadata": {
    "colab": {
     "base_uri": "https://localhost:8080/",
     "height": 424
    },
    "id": "54015f94-2b42-4663-85f7-606bfc991268",
    "outputId": "a8b4635f-49c1-478a-b016-e12066a4d03d"
   },
   "outputs": [
    {
     "data": {
      "text/plain": [
       "{'eng':               PairID                                               Text  \\\n",
       " 17    ENG-train-0017  Fritz Laband was a German footballer .\\nFritz ...   \n",
       " 67    ENG-train-0067  Their address is: 47483 Conneticut Dr, Nashvil...   \n",
       " 76    ENG-train-0076  The sequel , Pikmin 2 , was released in 2004 ....   \n",
       " 106   ENG-train-0106  Game Maker is a Windows computer program origi...   \n",
       " 111   ENG-train-0111  Take him aside and tell him how you truly feel...   \n",
       " ...              ...                                                ...   \n",
       " 5424  ENG-train-5424  Anything to the east?\" the CO persisted.\\nKing...   \n",
       " 5430  ENG-train-5430  These noodles on my head are so hard to comb!\\...   \n",
       " 5443  ENG-train-5443  Before he gets out of control.\\nand she gets p...   \n",
       " 5473  ENG-train-5473  Eight heads in a duffle bag.\\nFor someone my a...   \n",
       " 5478  ENG-train-5478  It involves balls of some type?\\nSelect \"run\" ...   \n",
       " \n",
       "       Score                                         Split_Text  \n",
       " 17     1.00  [Fritz Laband was a German footballer ., Fritz...  \n",
       " 67     0.94  [Their address is: 47483 Conneticut Dr, Nashvi...  \n",
       " 76     0.94  [The sequel , Pikmin 2 , was released in 2004 ...  \n",
       " 106    0.94  [Game Maker is a Windows computer program orig...  \n",
       " 111    0.94  [Take him aside and tell him how you truly fee...  \n",
       " ...     ...                                                ...  \n",
       " 5424   0.09  [Anything to the east?\" the CO persisted., Kin...  \n",
       " 5430   0.07  [These noodles on my head are so hard to comb!...  \n",
       " 5443   0.06  [Before he gets out of control., and she gets ...  \n",
       " 5473   0.06  [Eight heads in a duffle bag., For someone my ...  \n",
       " 5478   0.03  [It involves balls of some type?, Select \"run\"...  \n",
       " \n",
       " [550 rows x 4 columns],\n",
       " 'esp':               PairID                                               Text  \\\n",
       " 0     ESP-train-0000  Una mujer a punto de comer pescado.\\nUna mujer...   \n",
       " 29    ESP-train-0029  Una descifradora de códigos de la Segunda Guer...   \n",
       " 52    ESP-train-0052  ¿Para qué estación de radio trabajó Paul Harve...   \n",
       " 67    ESP-train-0067  Argentina anunció que 4.500 artefactos regresa...   \n",
       " 76    ESP-train-0076  La música fue escrita por MS Baburaj y la letr...   \n",
       " ...              ...                                                ...   \n",
       " 1522  ESP-train-1522  Los perros blancos miran con curiosidad a la l...   \n",
       " 1529  ESP-train-1529  Un joven está montando una moto de cross por e...   \n",
       " 1536  ESP-train-1536  Una persona está revolviendo verduras en una o...   \n",
       " 1537  ESP-train-1537  Un motociclista conduce una motocicleta peligr...   \n",
       " 1553  ESP-train-1553  ¿Qué significan las palabras \" esquimal \" y \" ...   \n",
       " \n",
       "       Score                                         Split_Text  \n",
       " 0      1.00  [Una mujer a punto de comer pescado., Una muje...  \n",
       " 29     0.47  [Una descifradora de códigos de la Segunda Gue...  \n",
       " 52     0.37  [¿Para qué estación de radio trabajó Paul Harv...  \n",
       " 67     0.15  [Argentina anunció que 4.500 artefactos regres...  \n",
       " 76     0.61  [La música fue escrita por MS Baburaj y la let...  \n",
       " ...     ...                                                ...  \n",
       " 1522   0.25  [Los perros blancos miran con curiosidad a la ...  \n",
       " 1529   0.71  [Un joven está montando una moto de cross por ...  \n",
       " 1536   0.76  [Una persona está revolviendo verduras en una ...  \n",
       " 1537   0.73  [Un motociclista conduce una motocicleta pelig...  \n",
       " 1553   0.22  [¿Qué significan las palabras \" esquimal \" y \"...  \n",
       " \n",
       " [156 rows x 4 columns],\n",
       " 'amh':                     PairID                                               Text  \\\n",
       " 0      Pair_ID_amh_train_1  መግለጫውን የተከታተለው የአዲስ አበባው ዘጋቢያችን ሰሎሞን ሙጬ ዝርዝር ዘ...   \n",
       " 6      Pair_ID_amh_train_7  ኦሮሞነት ከምንም (ከኢትዮጵያ ጭምር) በላይ ነዉ ፡፡\\tከምንም በላይ ነው...   \n",
       " 7      Pair_ID_amh_train_8  3)ዋና ዋና መንገዶች ሙሉ በሙሉ ይቆረጣሉ ።\\t2 . የሽግግር መንግስት ...   \n",
       " 42    Pair_ID_amh_train_43  ሆኖም የአገሪቱ ሕገ መንግሥት ሳን ሱ ቺ የአገሪቱ ፕሬዝዳንት እንድትሆን ...   \n",
       " 51    Pair_ID_amh_train_52  ወደ ኮሮናቫይረስ ስንመጣ ግን በቺካጎ ከሞቱት ሰዎች 70 ከመቶ ጥቁሮች ና...   \n",
       " ..                     ...                                                ...   \n",
       " 962  Pair_ID_amh_train_963  ምንድን ነው ዱር ለዱር የምትንከረተችው አንቺ ልጅ ?\\tያደረግነው ለውጥ ...   \n",
       " 980  Pair_ID_amh_train_981  “የልብ ጠጋኙ ማስታወሻ” በወፍ በረር ።\\tአቅላቸውን የሳቱ ኃይሎች ይህች...   \n",
       " 983  Pair_ID_amh_train_984  መጽሐፍ ቅዱስ ስለ አስራት ምን ይላል ?\\t'ሸሚዝ የለበሰውን ምታው' እያ...   \n",
       " 988  Pair_ID_amh_train_989           ይሄን ያህል ነው ለማለት አልችልም ።\\t” ለማለት ነው እንጂ !   \n",
       " 989  Pair_ID_amh_train_990  ማክሰኞ ፡- ከምሽቱ ሦስት ሰዓት የአማርኛ ዜና - ዲሴምበር 27, 2022...   \n",
       " \n",
       "      Score                                         Split_Text  \n",
       " 0     0.88  [መግለጫውን የተከታተለው የአዲስ አበባው ዘጋቢያችን ሰሎሞን ሙጬ ዝርዝር ...  \n",
       " 6     0.27  [ኦሮሞነት ከምንም (ከኢትዮጵያ ጭምር) በላይ ነዉ ፡፡\\tከምንም በላይ ነ...  \n",
       " 7     0.20  [3)ዋና ዋና መንገዶች ሙሉ በሙሉ ይቆረጣሉ ።\\t2 . የሽግግር መንግስት...  \n",
       " 42    0.95  [ሆኖም የአገሪቱ ሕገ መንግሥት ሳን ሱ ቺ የአገሪቱ ፕሬዝዳንት እንድትሆን...  \n",
       " 51    0.73  [ወደ ኮሮናቫይረስ ስንመጣ ግን በቺካጎ ከሞቱት ሰዎች 70 ከመቶ ጥቁሮች ...  \n",
       " ..     ...                                                ...  \n",
       " 962   0.22  [ምንድን ነው ዱር ለዱር የምትንከረተችው አንቺ ልጅ ?\\tያደረግነው ለውጥ...  \n",
       " 980   0.08  [“የልብ ጠጋኙ ማስታወሻ” በወፍ በረር ።\\tአቅላቸውን የሳቱ ኃይሎች ይህ...  \n",
       " 983   0.12  [መጽሐፍ ቅዱስ ስለ አስራት ምን ይላል ?\\t'ሸሚዝ የለበሰውን ምታው' እ...  \n",
       " 988   0.27         [ይሄን ያህል ነው ለማለት አልችልም ።\\t” ለማለት ነው እንጂ !]  \n",
       " 989   0.59  [ማክሰኞ ፡- ከምሽቱ ሦስት ሰዓት የአማርኛ ዜና - ዲሴምበር 27, 202...  \n",
       " \n",
       " [99 rows x 4 columns],\n",
       " 'arq':               PairID                                               Text  \\\n",
       " 0     ARQ-train-0001  يعطيك الصحة ام وليد جربتها ذركا راني ناكل فيها...   \n",
       " 17    ARQ-train-0018    الكاييي ما هزيتوش خلاه\\n رايحة نجيب ڤاطو نجيبلك   \n",
       " 29    ARQ-train-0030                                 على وش\\n على لعريس   \n",
       " 52    ARQ-train-0053  أنا إدا مليحة تاع دياﻳﭙﻲ نشري وحدة\\n كاينة وحد...   \n",
       " 67    ARQ-train-0068                 كيفاه في ادارة\\n نشارك في ليكونكور   \n",
       " ...              ...                                                ...   \n",
       " 1215  ARQ-train-1216                  ما كاين حتى حاجة\\n و انت كاش جديد   \n",
       " 1223  ARQ-train-1224  بالصح أنا نشوفها بريود و تجوز  ما لازمش الواحد...   \n",
       " 1225  ARQ-train-1226                          وعلاه أسامة\\n يعجبني مربي   \n",
       " 1229  ARQ-train-1230  و انا أصلا دايرة الشي هدا غير باش الناس يسمعوا...   \n",
       " 1252  ARQ-train-1253  اه يعطيك الصحة الفيديو تع مانسوطيش هايل\\n فيدي...   \n",
       " \n",
       "       Score                                         Split_Text  \n",
       " 0      0.62  [يعطيك الصحة ام وليد جربتها ذركا راني ناكل فيه...  \n",
       " 17     0.34  [الكاييي ما هزيتوش خلاه,  رايحة نجيب ڤاطو نجيبلك]  \n",
       " 29     0.50                               [على وش,  على لعريس]  \n",
       " 52     0.69  [أنا إدا مليحة تاع دياﻳﭙﻲ نشري وحدة,  كاينة وح...  \n",
       " 67     0.31               [كيفاه في ادارة,  نشارك في ليكونكور]  \n",
       " ...     ...                                                ...  \n",
       " 1215   0.50                [ما كاين حتى حاجة,  و انت كاش جديد]  \n",
       " 1223   0.47  [بالصح أنا نشوفها بريود و تجوز  ما لازمش الواح...  \n",
       " 1225   0.31                        [وعلاه أسامة,  يعجبني مربي]  \n",
       " 1229   0.56  [و انا أصلا دايرة الشي هدا غير باش الناس يسمعو...  \n",
       " 1252   0.69  [اه يعطيك الصحة الفيديو تع مانسوطيش هايل,  فيد...  \n",
       " \n",
       " [126 rows x 4 columns],\n",
       " 'ary':              PairID                                               Text  Score  \\\n",
       " 0    ARY-train-0000  تنفرد بنشرها “كود”: سلسلة “كيفاش السلاطين ديال...   0.38   \n",
       " 6    ARY-train-0006  منظمة الصحة العالمية خربقات العالم. خدات قرار ...   0.39   \n",
       " 7    ARY-train-0007  الدزاير.. 129 إصابة جديدة بـ”كورونا” و5 ماتو و...   0.66   \n",
       " 42   ARY-train-0042  وزير العدل والحريات مصطفى الرميد ل”كود” حول حم...   0.18   \n",
       " 51   ARY-train-0051  عمليات مكثفة لمراقبة الجودة والأسعار.. ف5 أيام...   0.56   \n",
       " ..              ...                                                ...    ...   \n",
       " 902  ARY-train-0902  انتخاب البركاني رئيسا لغرفة التجارة والصناعة و...   0.25   \n",
       " 912  ARY-train-0912  حصيلة كورونا هاد الصباح: 93 تصابو و2 ماتو و147...   0.28   \n",
       " 915  ARY-train-0915  كورونا: 21 تقاسو بالفيروس فجهة الداخلة وادي ال...   0.71   \n",
       " 920  ARY-train-0920  رجع راسو ضابط فالجيش وباع لمستثمرين زماكرية شر...   0.57   \n",
       " 921  ARY-train-0921  هذا ما يخبأه لك برجك عاطفيا ومهنيا وصحيا ليوم ...   0.75   \n",
       " \n",
       "                                             Split_Text  \n",
       " 0    [تنفرد بنشرها “كود”: سلسلة “كيفاش السلاطين ديا...  \n",
       " 6    [منظمة الصحة العالمية خربقات العالم. خدات قرار...  \n",
       " 7    [الدزاير.. 129 إصابة جديدة بـ”كورونا” و5 ماتو ...  \n",
       " 42   [وزير العدل والحريات مصطفى الرميد ل”كود” حول ح...  \n",
       " 51   [عمليات مكثفة لمراقبة الجودة والأسعار.. ف5 أيا...  \n",
       " ..                                                 ...  \n",
       " 902  [انتخاب البركاني رئيسا لغرفة التجارة والصناعة ...  \n",
       " 912  [حصيلة كورونا هاد الصباح: 93 تصابو و2 ماتو و14...  \n",
       " 915  [كورونا: 21 تقاسو بالفيروس فجهة الداخلة وادي ا...  \n",
       " 920  [رجع راسو ضابط فالجيش وباع لمستثمرين زماكرية ش...  \n",
       " 921  [هذا ما يخبأه لك برجك عاطفيا ومهنيا وصحيا ليوم...  \n",
       " \n",
       " [92 rows x 4 columns],\n",
       " 'hau':                PairID                                               Text  \\\n",
       " 0     hau_train_00001  Haka ya furta a cikin jawabin sa na murnar cik...   \n",
       " 17    hau_train_00018  KATSINA A HANNUN ‘YAN BINDIGA: Mahara sun sako...   \n",
       " 29    hau_train_00030  Kuta ya ce an kada kuri’u 768,402 inda a ciki ...   \n",
       " 52    hau_train_00053  Sannan kuma a jihar Oyo hukumar ta kama wani  ...   \n",
       " 67    hau_train_00068  Afrika ta Kudu ta ayyana cewa ta yanke shawara...   \n",
       " ...               ...                                                ...   \n",
       " 1692  hau_train_01693  Lawan ya ce a yanzu dai Majalisar Tarayya na h...   \n",
       " 1701  hau_train_01702  Peter Obi ya yi wa Tinubu da Atiku fintinkau a...   \n",
       " 1708  hau_train_01709  Babafemi ya ce hukumar ta kama Onyekwe a hanya...   \n",
       " 1719  hau_train_01720  Idan ba a manta ba, lokacin da Tinubu ya fito ...   \n",
       " 1726  hau_train_01727  Rundunar ‘yan sandan jihar Ekiti ta kama wani ...   \n",
       " \n",
       "       Score                                         Split_Text  \n",
       " 0      0.94  [Haka ya furta a cikin jawabin sa na murnar ci...  \n",
       " 17     0.40  [KATSINA A HANNUN ‘YAN BINDIGA: Mahara sun sak...  \n",
       " 29     1.00  [Kuta ya ce an kada kuri’u 768,402 inda a ciki...  \n",
       " 52     0.33  [Sannan kuma a jihar Oyo hukumar ta kama wani ...  \n",
       " 67     0.19  [Afrika ta Kudu ta ayyana cewa ta yanke shawar...  \n",
       " ...     ...                                                ...  \n",
       " 1692   0.50  [Lawan ya ce a yanzu dai Majalisar Tarayya na ...  \n",
       " 1701   0.62  [Peter Obi ya yi wa Tinubu da Atiku fintinkau ...  \n",
       " 1708   0.38  [Babafemi ya ce hukumar ta kama Onyekwe a hany...  \n",
       " 1719   0.75  [Idan ba a manta ba, lokacin da Tinubu ya fito...  \n",
       " 1726   0.56  [Rundunar ‘yan sandan jihar Ekiti ta kama wani...  \n",
       " \n",
       " [174 rows x 4 columns],\n",
       " 'kin':               PairID                                               Text  \\\n",
       " 6    kin_train_00007  Perezida Kagame yavuze ko abanyarwanda nibakom...   \n",
       " 7    kin_train_00008  Amavubi ari kwitegura umukino na Guinée-Conakr...   \n",
       " 42   kin_train_00043  Ni indirimbo yashyize hanze kuri uyu wa Kabiri...   \n",
       " 51   kin_train_00052  Guterura ibiremereye Guterura ibintu biremerey...   \n",
       " 52   kin_train_00053  Perezida Kagame yavuze ko hari byinshi bihari ...   \n",
       " ..               ...                                                ...   \n",
       " 714  kin_train_00715  Ati “Uyu mushinga uzaba ugizwe n’inzu ziteye k...   \n",
       " 742  kin_train_00743  Mu 2009 nibwo Guverinoma y’u Rwanda yashyizeho...   \n",
       " 755  kin_train_00756  Frank Habineza akaba yasabye RMC kujyana mu nk...   \n",
       " 771  kin_train_00772  U Rwanda ruri kwagura umubano warwo ukarenga L...   \n",
       " 774  kin_train_00775  Ishuri rya Harwood Union High School rihererey...   \n",
       " \n",
       "      Score                                         Split_Text  \n",
       " 6     0.38  [Perezida Kagame yavuze ko abanyarwanda nibako...  \n",
       " 7     0.29  [Amavubi ari kwitegura umukino na Guinée-Conak...  \n",
       " 42    0.34  [Ni indirimbo yashyize hanze kuri uyu wa Kabir...  \n",
       " 51    0.56  [Guterura ibiremereye Guterura ibintu biremere...  \n",
       " 52    0.44  [Perezida Kagame yavuze ko hari byinshi bihari...  \n",
       " ..     ...                                                ...  \n",
       " 714   0.59  [Ati “Uyu mushinga uzaba ugizwe n’inzu ziteye ...  \n",
       " 742   0.31  [Mu 2009 nibwo Guverinoma y’u Rwanda yashyizeh...  \n",
       " 755   0.81  [Frank Habineza akaba yasabye RMC kujyana mu n...  \n",
       " 771   0.41  [U Rwanda ruri kwagura umubano warwo ukarenga ...  \n",
       " 774   0.34  [Ishuri rya Harwood Union High School riherere...  \n",
       " \n",
       " [78 rows x 4 columns],\n",
       " 'mar':                PairID                                               Text  \\\n",
       " 0     MAR-train-00001  \"गुरु नानक देव, त्याचे शिकवण आणि आशीर्वाद आता ...   \n",
       " 17    MAR-train-00018  \"वाराणसी येथील आंतरराष्ट्रीय अधिवेशन केंद्रासा...   \n",
       " 29    MAR-train-00030  \"पंतप्रधान म्हणाले की नवी मुंबई विमानतळ प्रकल्...   \n",
       " 52    MAR-train-00053  \"पंतप्रधान श्री नरेंद्र मोदी यांच्या अध्यक्षते...   \n",
       " 67    MAR-train-00068  \"पंतप्रधान श्री नरेंद्र मोदी यांनी त्यांच्या व...   \n",
       " ...               ...                                                ...   \n",
       " 1156  MAR-train-01157  \"पण दुर्देवाने मंगळवारी तिने अखेरचा श्वास घेतल...   \n",
       " 1164  MAR-train-01165  \"तसेच 21,53,010 लोक भारतात संक्रमित झाले आहेत....   \n",
       " 1167  MAR-train-01168  \"दादर पोलीस ठाण्याचे वरिष्ठ पोलीस निरीक्षक दिव...   \n",
       " 1170  MAR-train-01171  \"तसेच डिजिटल सेवा देणाऱ्या स्वतंत्र बॅंकांचीही...   \n",
       " 1191  MAR-train-01192  \"यावेळी त्यांनी आपल्या मुलीच्या शिक्षणासाठी एख...   \n",
       " \n",
       "       Score                                         Split_Text  \n",
       " 0      1.00  [\"गुरु नानक देव, त्याचे शिकवण आणि आशीर्वाद आता...  \n",
       " 17     0.94  [\"वाराणसी येथील आंतरराष्ट्रीय अधिवेशन केंद्रास...  \n",
       " 29     0.92  [\"पंतप्रधान म्हणाले की नवी मुंबई विमानतळ प्रकल...  \n",
       " 52     0.89  [\"पंतप्रधान श्री नरेंद्र मोदी यांच्या अध्यक्षत...  \n",
       " 67     0.89  [\"पंतप्रधान श्री नरेंद्र मोदी यांनी त्यांच्या ...  \n",
       " ...     ...                                                ...  \n",
       " 1156   0.08  [\"पण दुर्देवाने मंगळवारी तिने अखेरचा श्वास घेत...  \n",
       " 1164   0.08  [\"तसेच 21,53,010 लोक भारतात संक्रमित झाले आहेत...  \n",
       " 1167   0.08  [\"दादर पोलीस ठाण्याचे वरिष्ठ पोलीस निरीक्षक दि...  \n",
       " 1170   0.08  [\"तसेच डिजिटल सेवा देणाऱ्या स्वतंत्र बॅंकांचीह...  \n",
       " 1191   0.05  [\"यावेळी त्यांनी आपल्या मुलीच्या शिक्षणासाठी ए...  \n",
       " \n",
       " [120 rows x 4 columns],\n",
       " 'tel':                PairID                                               Text  \\\n",
       " 0     TEL-train-00001  \"జమ్మూకాశ్మీర్లో మంచుకొండచరియలు విరిగిపడి గురు...   \n",
       " 17    TEL-train-00018  \"2022 నాటికి పాకిస్తాన్ దేశం చైనా సహయంతో అంతరి...   \n",
       " 29    TEL-train-00030  \"రూ . 6 కోట్ల విలువ చేసే బంగారం చోరీకి గురైన ఘ...   \n",
       " 52    TEL-train-00053  \"2007లో మిస్ ఇండియాగా ఎంపికైన ఈషా గుప్తా .\"\\n\"...   \n",
       " 67    TEL-train-00068  \"మితిమీరిన సరదా ఓ యువకుడి ప్రాణం తీసింది .\"\\n\"...   \n",
       " ...               ...                                                ...   \n",
       " 1075  TEL-train-01076  \"పిల్లాపాపలతో అందరం ఇంట్లోనే ఉందామని, దీనిని ఎ...   \n",
       " 1103  TEL-train-01104  \"అంతేకాకుండా మంచి మ్యూజిక్ సీస్టమ్, రంగురంగుల ...   \n",
       " 1130  TEL-train-01131  \"ఈ ఆర్థిక సంవత్సరం మొదటి మూడు నెలల్లోనే 36,551...   \n",
       " 1137  TEL-train-01138  \"అమెరికా అధ్యక్షుడు డోనాల్డ్ ట్రంప్ మాత్రం కేవ...   \n",
       " 1161  TEL-train-01162  \"తొలి సినిమా టాక్ బయటకు రాకుండానే ప్రియకు ఆఫర్...   \n",
       " \n",
       "       Score                                         Split_Text  \n",
       " 0      0.88  [\"జమ్మూకాశ్మీర్లో మంచుకొండచరియలు విరిగిపడి గుర...  \n",
       " 17     0.81  [\"2022 నాటికి పాకిస్తాన్ దేశం చైనా సహయంతో అంతర...  \n",
       " 29     0.78  [\"రూ . 6 కోట్ల విలువ చేసే బంగారం చోరీకి గురైన ...  \n",
       " 52     0.76  [\"2007లో మిస్ ఇండియాగా ఎంపికైన ఈషా గుప్తా .\", ...  \n",
       " 67     0.75  [\"మితిమీరిన సరదా ఓ యువకుడి ప్రాణం తీసింది .\", ...  \n",
       " ...     ...                                                ...  \n",
       " 1075   0.28  [\"పిల్లాపాపలతో అందరం ఇంట్లోనే ఉందామని, దీనిని ...  \n",
       " 1103   0.26  [\"అంతేకాకుండా మంచి మ్యూజిక్ సీస్టమ్, రంగురంగుల...  \n",
       " 1130   0.22  [\"ఈ ఆర్థిక సంవత్సరం మొదటి మూడు నెలల్లోనే 36,55...  \n",
       " 1137   0.22  [\"అమెరికా అధ్యక్షుడు డోనాల్డ్ ట్రంప్ మాత్రం కే...  \n",
       " 1161   0.16  [\"తొలి సినిమా టాక్ బయటకు రాకుండానే ప్రియకు ఆఫర...  \n",
       " \n",
       " [117 rows x 4 columns]}"
      ]
     },
     "execution_count": 20,
     "metadata": {},
     "output_type": "execute_result"
    }
   ],
   "source": [
    "dev_pdf"
   ]
  },
  {
   "cell_type": "code",
   "execution_count": 21,
   "id": "CqlEhdX8ml6O",
   "metadata": {
    "id": "CqlEhdX8ml6O"
   },
   "outputs": [],
   "source": [
    "# valid_true_labels= dev_pdf[\"Score\"]\n",
    "valid_true_labels={}\n",
    "for i, lang in enumerate(lan):\n",
    "    valid_true_labels[lang]= dev_pdf[lang]['Score']"
   ]
  },
  {
   "cell_type": "code",
   "execution_count": 22,
   "id": "6c141c31-c681-44cc-a6db-168a5f5b8723",
   "metadata": {},
   "outputs": [
    {
     "data": {
      "text/plain": [
       "{'eng': 17      1.00\n",
       " 67      0.94\n",
       " 76      0.94\n",
       " 106     0.94\n",
       " 111     0.94\n",
       "         ... \n",
       " 5424    0.09\n",
       " 5430    0.07\n",
       " 5443    0.06\n",
       " 5473    0.06\n",
       " 5478    0.03\n",
       " Name: Score, Length: 550, dtype: float64,\n",
       " 'esp': 0       1.00\n",
       " 29      0.47\n",
       " 52      0.37\n",
       " 67      0.15\n",
       " 76      0.61\n",
       "         ... \n",
       " 1522    0.25\n",
       " 1529    0.71\n",
       " 1536    0.76\n",
       " 1537    0.73\n",
       " 1553    0.22\n",
       " Name: Score, Length: 156, dtype: float64,\n",
       " 'amh': 0      0.88\n",
       " 6      0.27\n",
       " 7      0.20\n",
       " 42     0.95\n",
       " 51     0.73\n",
       "        ... \n",
       " 962    0.22\n",
       " 980    0.08\n",
       " 983    0.12\n",
       " 988    0.27\n",
       " 989    0.59\n",
       " Name: Score, Length: 99, dtype: float64,\n",
       " 'arq': 0       0.62\n",
       " 17      0.34\n",
       " 29      0.50\n",
       " 52      0.69\n",
       " 67      0.31\n",
       "         ... \n",
       " 1215    0.50\n",
       " 1223    0.47\n",
       " 1225    0.31\n",
       " 1229    0.56\n",
       " 1252    0.69\n",
       " Name: Score, Length: 126, dtype: float64,\n",
       " 'ary': 0      0.38\n",
       " 6      0.39\n",
       " 7      0.66\n",
       " 42     0.18\n",
       " 51     0.56\n",
       "        ... \n",
       " 902    0.25\n",
       " 912    0.28\n",
       " 915    0.71\n",
       " 920    0.57\n",
       " 921    0.75\n",
       " Name: Score, Length: 92, dtype: float64,\n",
       " 'hau': 0       0.94\n",
       " 17      0.40\n",
       " 29      1.00\n",
       " 52      0.33\n",
       " 67      0.19\n",
       "         ... \n",
       " 1692    0.50\n",
       " 1701    0.62\n",
       " 1708    0.38\n",
       " 1719    0.75\n",
       " 1726    0.56\n",
       " Name: Score, Length: 174, dtype: float64,\n",
       " 'kin': 6      0.38\n",
       " 7      0.29\n",
       " 42     0.34\n",
       " 51     0.56\n",
       " 52     0.44\n",
       "        ... \n",
       " 714    0.59\n",
       " 742    0.31\n",
       " 755    0.81\n",
       " 771    0.41\n",
       " 774    0.34\n",
       " Name: Score, Length: 78, dtype: float64,\n",
       " 'mar': 0       1.00\n",
       " 17      0.94\n",
       " 29      0.92\n",
       " 52      0.89\n",
       " 67      0.89\n",
       "         ... \n",
       " 1156    0.08\n",
       " 1164    0.08\n",
       " 1167    0.08\n",
       " 1170    0.08\n",
       " 1191    0.05\n",
       " Name: Score, Length: 120, dtype: float64,\n",
       " 'tel': 0       0.88\n",
       " 17      0.81\n",
       " 29      0.78\n",
       " 52      0.76\n",
       " 67      0.75\n",
       "         ... \n",
       " 1075    0.28\n",
       " 1103    0.26\n",
       " 1130    0.22\n",
       " 1137    0.22\n",
       " 1161    0.16\n",
       " Name: Score, Length: 117, dtype: float64}"
      ]
     },
     "execution_count": 22,
     "metadata": {},
     "output_type": "execute_result"
    }
   ],
   "source": [
    "valid_true_labels"
   ]
  },
  {
   "cell_type": "code",
   "execution_count": 23,
   "id": "7a74fdd3-fcb4-42fa-9cd3-44a2da09f8ee",
   "metadata": {
    "colab": {
     "base_uri": "https://localhost:8080/",
     "height": 424
    },
    "id": "7a74fdd3-fcb4-42fa-9cd3-44a2da09f8ee",
    "outputId": "16226c17-0672-4b69-a67f-8b9819e4e71d"
   },
   "outputs": [
    {
     "data": {
      "text/plain": [
       "{'eng':            PairID                                               Text  \\\n",
       " 0    ENG-dev-0000  The story is gripping and interesting.\\nIt's a...   \n",
       " 1    ENG-dev-0001  The majority of Southeast Alaska 's area is pa...   \n",
       " 2    ENG-dev-0002  and from your post i think you are to young to...   \n",
       " 3    ENG-dev-0003  The film 's success also made Dreamworks Anima...   \n",
       " 4    ENG-dev-0004  I am still confused about how I feel about thi...   \n",
       " ..            ...                                                ...   \n",
       " 245  ENG-dev-0245  thats just how they are :( its a shame lol\\nIt...   \n",
       " 246  ENG-dev-0246  I feel sorry for the books that I will read af...   \n",
       " 247  ENG-dev-0247  Uwe Seeler -LRB- born 5 November 1936 in Hambu...   \n",
       " 248  ENG-dev-0248  Waco is a city in and the county seat of McLen...   \n",
       " 249  ENG-dev-0249  religious extremism continues in pakistan desp...   \n",
       " \n",
       "                                             Split_Text  \n",
       " 0    [The story is gripping and interesting., It's ...  \n",
       " 1    [The majority of Southeast Alaska 's area is p...  \n",
       " 2    [and from your post i think you are to young t...  \n",
       " 3    [The film 's success also made Dreamworks Anim...  \n",
       " 4    [I am still confused about how I feel about th...  \n",
       " ..                                                 ...  \n",
       " 245  [thats just how they are :( its a shame lol, I...  \n",
       " 246  [I feel sorry for the books that I will read a...  \n",
       " 247  [Uwe Seeler -LRB- born 5 November 1936 in Hamb...  \n",
       " 248  [Waco is a city in and the county seat of McLe...  \n",
       " 249  [religious extremism continues in pakistan des...  \n",
       " \n",
       " [250 rows x 3 columns],\n",
       " 'esp':            PairID                                               Text  \\\n",
       " 0    ESP-dev-0000  Notable es la carta de Robert a Sarah.\\nStrath...   \n",
       " 1    ESP-dev-0001  Este tipo de tratamiento para grandes contribu...   \n",
       " 2    ESP-dev-0002  El filme es denso y con lentitud nos sumerge e...   \n",
       " 3    ESP-dev-0003  Un \" catéter de diálisis \" es un catéter usado...   \n",
       " 4    ESP-dev-0004  Aunque tengamos las mejores intenciones, puede...   \n",
       " ..            ...                                                ...   \n",
       " 135  ESP-dev-0135  Mejor cámara pero con cambios menores.\\nEl últ...   \n",
       " 136  ESP-dev-0136  Los vecindarios notables incluyen: McElderry P...   \n",
       " 137  ESP-dev-0137  El estudio comenzará con el análisis de todos ...   \n",
       " 138  ESP-dev-0138  Un niño nadando en el océano lanza una moneda ...   \n",
       " 139  ESP-dev-0139  Un grupo de personas bailan en un concierto.\\n...   \n",
       " \n",
       "                                             Split_Text  \n",
       " 0    [Notable es la carta de Robert a Sarah., Strat...  \n",
       " 1    [Este tipo de tratamiento para grandes contrib...  \n",
       " 2    [El filme es denso y con lentitud nos sumerge ...  \n",
       " 3    [Un \" catéter de diálisis \" es un catéter usad...  \n",
       " 4    [Aunque tengamos las mejores intenciones, pued...  \n",
       " ..                                                 ...  \n",
       " 135  [Mejor cámara pero con cambios menores., El úl...  \n",
       " 136  [Los vecindarios notables incluyen: McElderry ...  \n",
       " 137  [El estudio comenzará con el análisis de todos...  \n",
       " 138  [Un niño nadando en el océano lanza una moneda...  \n",
       " 139  [Un grupo de personas bailan en un concierto.,...  \n",
       " \n",
       " [140 rows x 3 columns],\n",
       " 'amh':                 PairID                                               Text  \\\n",
       " 0    Pair_ID_amh_dev_1  ታህሳስ 5 ፣2013/ በኢትዮጵያ ተጨማሪ 473 ሰዎች በኮሮና ቫይረስ ተያ...   \n",
       " 1    Pair_ID_amh_dev_2       በፖለቲካ እምነት መሆን የለበትም ፡፡\\tመልሱ መሆን የለበትም ነው ፡፡   \n",
       " 2    Pair_ID_amh_dev_3  መልካም በአል ለመላው ክርስቶስትና እምነት ተከታዮች በሙሉ ?\\tለመላው የ...   \n",
       " 3    Pair_ID_amh_dev_4  የኢትዮጵያ ገበሬዎች እርዳታ እንደሚያስፈልጋቸው ገልፀዋል ።\\tየኢትዮጵያ ...   \n",
       " 4    Pair_ID_amh_dev_5        ዱላ ይዞ ነበር እንዴ ?\\tግን የዛሬው የወያኔ ዱላ እንዴት ነበር ?   \n",
       " ..                 ...                                                ...   \n",
       " 90  Pair_ID_amh_dev_91  ይሖዋ “የእውነት አምላክ ” ነው ።\\tእንዲህ ማድረግ የሚችለው ደግሞ ይሖ...   \n",
       " 91  Pair_ID_amh_dev_92      ክረምትና በጋ በምስራቅ አፍሪካ ።\\tበብዛት በምስራቅ አፍሪካ ይገኛሉ ።   \n",
       " 92  Pair_ID_amh_dev_93  ይህን ያህል እርግጠኛ እንዲሆን ያደረገው ምንድን ነው ?\\tደስተኛ እንዲሆ...   \n",
       " 93  Pair_ID_amh_dev_94  ያ የበላ ሰው ከሕዝቡ መካከል ተለይቶ ይጠፋልና ።\\tመንግስት ግን ፣ “ለ...   \n",
       " 94  Pair_ID_amh_dev_95  በሌላ በኩል የላቀ የሻምፒዮናነነት ፉክክር እንደሚደረግበት የሚጠበቀው 20...   \n",
       " \n",
       "                                            Split_Text  \n",
       " 0   [ታህሳስ 5 ፣2013/ በኢትዮጵያ ተጨማሪ 473 ሰዎች በኮሮና ቫይረስ ተ...  \n",
       " 1      [በፖለቲካ እምነት መሆን የለበትም ፡፡\\tመልሱ መሆን የለበትም ነው ፡፡]  \n",
       " 2   [መልካም በአል ለመላው ክርስቶስትና እምነት ተከታዮች በሙሉ ?\\tለመላው ...  \n",
       " 3   [የኢትዮጵያ ገበሬዎች እርዳታ እንደሚያስፈልጋቸው ገልፀዋል ።\\tየኢትዮጵያ...  \n",
       " 4       [ዱላ ይዞ ነበር እንዴ ?\\tግን የዛሬው የወያኔ ዱላ እንዴት ነበር ?]  \n",
       " ..                                                ...  \n",
       " 90  [ይሖዋ “የእውነት አምላክ ” ነው ።\\tእንዲህ ማድረግ የሚችለው ደግሞ ይ...  \n",
       " 91    [ክረምትና በጋ በምስራቅ አፍሪካ ።\\tበብዛት በምስራቅ አፍሪካ ይገኛሉ ።]  \n",
       " 92  [ይህን ያህል እርግጠኛ እንዲሆን ያደረገው ምንድን ነው ?\\tደስተኛ እንዲ...  \n",
       " 93  [ያ የበላ ሰው ከሕዝቡ መካከል ተለይቶ ይጠፋልና ።\\tመንግስት ግን ፣ “...  \n",
       " 94  [በሌላ በኩል የላቀ የሻምፒዮናነነት ፉክክር እንደሚደረግበት የሚጠበቀው 2...  \n",
       " \n",
       " [95 rows x 3 columns],\n",
       " 'arq':           PairID                                               Text  \\\n",
       " 0   ARQ-dev-0001  زيد كون ڤلتي لها تأكدي عليها\\n ڤولي لها تڤول ل...   \n",
       " 1   ARQ-dev-0002                   بلاصة في البحر\\n شكون قالك عليها   \n",
       " 2   ARQ-dev-0003  الصباح جيت هابطة ﭬﺮيب ضربت في رؤف\\n على السبعة...   \n",
       " 3   ARQ-dev-0004  اسمحوا لي ، عندي پروبلام في الميكرو\\n سماح مرا...   \n",
       " 4   ARQ-dev-0005  تعمرت آه ما عنديش بلاصة ياسر سينون اني سجلت أك...   \n",
       " ..           ...                                                ...   \n",
       " 92  ARQ-dev-0093  خالتي خيرة وليتي تعرفي السلاح\\n لوكان راكم تحو...   \n",
       " 93  ARQ-dev-0094                     آه مكانش لخرا\\n ڤداه يحسب فاها   \n",
       " 94  ARQ-dev-0095  ڤالت لك روحي أعرضاها خاطر أي تسنا\\n ڤالت وشباه...   \n",
       " 95  ARQ-dev-0096          حطوه معاها مسكين\\n أفيشاو لزكزامان شفتوهم   \n",
       " 96  ARQ-dev-0097                  هوما راحو مسطوها\\n والله ما تخافي   \n",
       " \n",
       "                                            Split_Text  \n",
       " 0   [زيد كون ڤلتي لها تأكدي عليها,  ڤولي لها تڤول ...  \n",
       " 1                  [بلاصة في البحر,  شكون قالك عليها]  \n",
       " 2   [الصباح جيت هابطة ﭬﺮيب ضربت في رؤف,  على السبع...  \n",
       " 3   [اسمحوا لي ، عندي پروبلام في الميكرو,  سماح مر...  \n",
       " 4   [تعمرت آه ما عنديش بلاصة ياسر سينون اني سجلت أ...  \n",
       " ..                                                ...  \n",
       " 92  [خالتي خيرة وليتي تعرفي السلاح,  لوكان راكم تح...  \n",
       " 93                   [آه مكانش لخرا,  ڤداه يحسب فاها]  \n",
       " 94  [ڤالت لك روحي أعرضاها خاطر أي تسنا,  ڤالت وشبا...  \n",
       " 95        [حطوه معاها مسكين,  أفيشاو لزكزامان شفتوهم]  \n",
       " 96                [هوما راحو مسطوها,  والله ما تخافي]  \n",
       " \n",
       " [97 rows x 3 columns],\n",
       " 'ary':           PairID                                               Text  \\\n",
       " 0   ARY-dev-0000  هذه أول صورة لابنة المطرب تامر حسني من زوجته ا...   \n",
       " 1   ARY-dev-0001  قضية “حمزة مون بيبي” كبرات. قاضي التحقيق مازال...   \n",
       " 2   ARY-dev-0002  بقاو فديوركوم.. تسجلات 38 إصابة جديدة بكورونا....   \n",
       " 3   ARY-dev-0003  البي جي دي باغي يدير ميسا فالانتخابات وطالب لف...   \n",
       " 4   ARY-dev-0004  كورونا اليوم: جوج ماتو و151 تصابو و مليون و751...   \n",
       " ..           ...                                                ...   \n",
       " 66  ARY-dev-0066  قضية اغتصاب محابسي بـ”كراطة” بسجن راس الما.. ا...   \n",
       " 67  ARY-dev-0067  مولاي يعقوب: تزوير كبير ف قضية نزع ملكية عقار ...   \n",
       " 68  ARY-dev-0068  فضيحة “باديس” بالحسيمة: الوكيل العام بفاس استد...   \n",
       " 69  ARY-dev-0069  البوليس و بتنسيق مع “الديستي” طيحو ريزو ديال ا...   \n",
       " 70  ARY-dev-0070  حصيلة كورونا فالأقاليم والجهات: 1101 تصابو فكا...   \n",
       " \n",
       "                                            Split_Text  \n",
       " 0   [هذه أول صورة لابنة المطرب تامر حسني من زوجته ...  \n",
       " 1   [قضية “حمزة مون بيبي” كبرات. قاضي التحقيق مازا...  \n",
       " 2   [بقاو فديوركوم.. تسجلات 38 إصابة جديدة بكورونا...  \n",
       " 3   [البي جي دي باغي يدير ميسا فالانتخابات وطالب ل...  \n",
       " 4   [كورونا اليوم: جوج ماتو و151 تصابو و مليون و75...  \n",
       " ..                                                ...  \n",
       " 66  [قضية اغتصاب محابسي بـ”كراطة” بسجن راس الما.. ...  \n",
       " 67  [مولاي يعقوب: تزوير كبير ف قضية نزع ملكية عقار...  \n",
       " 68  [فضيحة “باديس” بالحسيمة: الوكيل العام بفاس است...  \n",
       " 69  [البوليس و بتنسيق مع “الديستي” طيحو ريزو ديال ...  \n",
       " 70  [حصيلة كورونا فالأقاليم والجهات: 1101 تصابو فك...  \n",
       " \n",
       " [71 rows x 3 columns],\n",
       " 'hau':             PairID                                               Text  \\\n",
       " 0    hau_dev_00001  Haka a wani labarin, PREMIUM TIMES ta buga lab...   \n",
       " 1    hau_dev_00002  PREMIUM TIMES ta buga labarin dakatar da Ayu d...   \n",
       " 2    hau_dev_00003  PREMIUM TIMES Hausa ta buga labarin da Gwamna ...   \n",
       " 3    hau_dev_00004  Famuyide ya ce za ci gaba da shari’a  ranar 19...   \n",
       " 4    hau_dev_00005  Ya bayyana cewa kuɗaɗen sun haɗa da na farfaɗo...   \n",
       " ..             ...                                                ...   \n",
       " 207  hau_dev_00208  INEC ba za ta rufe rajistar zaɓen 2023 a ƙarsh...   \n",
       " 208  hau_dev_00209  Ficewar Najatu Mohammed daga APC ta koma wurin...   \n",
       " 209  hau_dev_00210  “A ɓangaren mu, gwamnatin mu za ta ci gaba da ...   \n",
       " 210  hau_dev_00211  Idan ba a manta ba a watan Maris ne ‘yan bindi...   \n",
       " 211  hau_dev_00212  Mutanen sun ce a dalilin harin mutane da dama ...   \n",
       " \n",
       "                                             Split_Text  \n",
       " 0    [Haka a wani labarin, PREMIUM TIMES ta buga la...  \n",
       " 1    [PREMIUM TIMES ta buga labarin dakatar da Ayu ...  \n",
       " 2    [PREMIUM TIMES Hausa ta buga labarin da Gwamna...  \n",
       " 3    [Famuyide ya ce za ci gaba da shari’a  ranar 1...  \n",
       " 4    [Ya bayyana cewa kuɗaɗen sun haɗa da na farfaɗ...  \n",
       " ..                                                 ...  \n",
       " 207  [INEC ba za ta rufe rajistar zaɓen 2023 a ƙars...  \n",
       " 208  [Ficewar Najatu Mohammed daga APC ta koma wuri...  \n",
       " 209  [“A ɓangaren mu, gwamnatin mu za ta ci gaba da...  \n",
       " 210  [Idan ba a manta ba a watan Maris ne ‘yan bind...  \n",
       " 211  [Mutanen sun ce a dalilin harin mutane da dama...  \n",
       " \n",
       " [212 rows x 3 columns],\n",
       " 'kin':             PairID                                               Text  \\\n",
       " 0    kin_dev_00001  Impamvu zo kwandura indwara zo mu gitsina : Uk...   \n",
       " 1    kin_dev_00002  Hakiri kare ku munota wa 18’, Nsengiyumva Mous...   \n",
       " 2    kin_dev_00003  Iki gikorwa cyo kwibuka ku nshuro ya 19 Jenosi...   \n",
       " 3    kin_dev_00004  Coltan Mu mezi atandatu ya mbere ya 2016, agac...   \n",
       " 4    kin_dev_00005  Ubwo Minisiteri y’uburezi ifatanyije na REB ba...   \n",
       " ..             ...                                                ...   \n",
       " 97   kin_dev_00098  Kuva Wenger yagera muri Arsenal mu mwaka wa 19...   \n",
       " 98   kin_dev_00099  Nyuma y’uru rupfu rutunguranye, umurambo wa Ga...   \n",
       " 99   kin_dev_00100  Uwimana Jean Pierre, ni umuvugabutumwa ariko m...   \n",
       " 100  kin_dev_00101  Dudu ukomoka mu Burundi yageze mu Rwanda aje g...   \n",
       " 101  kin_dev_00102  U Butaliyani bwo abamaze kwandura ni 139422 mu...   \n",
       " \n",
       "                                             Split_Text  \n",
       " 0    [Impamvu zo kwandura indwara zo mu gitsina : U...  \n",
       " 1    [Hakiri kare ku munota wa 18’, Nsengiyumva Mou...  \n",
       " 2    [Iki gikorwa cyo kwibuka ku nshuro ya 19 Jenos...  \n",
       " 3    [Coltan Mu mezi atandatu ya mbere ya 2016, aga...  \n",
       " 4    [Ubwo Minisiteri y’uburezi ifatanyije na REB b...  \n",
       " ..                                                 ...  \n",
       " 97   [Kuva Wenger yagera muri Arsenal mu mwaka wa 1...  \n",
       " 98   [Nyuma y’uru rupfu rutunguranye, umurambo wa G...  \n",
       " 99   [Uwimana Jean Pierre, ni umuvugabutumwa ariko ...  \n",
       " 100  [Dudu ukomoka mu Burundi yageze mu Rwanda aje ...  \n",
       " 101  [U Butaliyani bwo abamaze kwandura ni 139422 m...  \n",
       " \n",
       " [102 rows x 3 columns],\n",
       " 'mar':             PairID                                               Text  \\\n",
       " 0    MAR-dev-00001  \"या प्रसंगी जाहीर सभेला संबोधित करताना ते म्हण...   \n",
       " 1    MAR-dev-00002  \"गौतम गंभीरची संपती 147 कोटी रुपये असल्याची मा...   \n",
       " 2    MAR-dev-00003  \"खुद्द शरद पवार यांनी याबाबत स्थानिक नेत्यांचा...   \n",
       " 3    MAR-dev-00004  \"पेट्रोकेमिकल प्रकल्प आणून येथील फळबागायती आम्...   \n",
       " 4    MAR-dev-00005  \"त्यामुळे दक्षिण आफ्रिकेकडून सर्वाधिक बळी मिळव...   \n",
       " ..             ...                                                ...   \n",
       " 288  MAR-dev-00289  \"पंतप्रधानांनी “कथन” म्हणून जे वर्णन केले ते भ...   \n",
       " 289  MAR-dev-00290  \"त्यावर आता राज्याच्या विधान परिषदेचे विरोधी प...   \n",
       " 290  MAR-dev-00291  \"या योजनेचे उद्दीष्ट सर्व घरांना शक्ती प्रदान ...   \n",
       " 291  MAR-dev-00292  \"शिवसेना व भाजपमध्ये युती झाल्यानंतर दोन्ही पक...   \n",
       " 292  MAR-dev-00293  \"त्यांनी स्वच्छ भारत मिशन, बेटी बाचाओ - बेटी प...   \n",
       " \n",
       "                                             Split_Text  \n",
       " 0    [\"या प्रसंगी जाहीर सभेला संबोधित करताना ते म्ह...  \n",
       " 1    [\"गौतम गंभीरची संपती 147 कोटी रुपये असल्याची म...  \n",
       " 2    [\"खुद्द शरद पवार यांनी याबाबत स्थानिक नेत्यांच...  \n",
       " 3    [\"पेट्रोकेमिकल प्रकल्प आणून येथील फळबागायती आम...  \n",
       " 4    [\"त्यामुळे दक्षिण आफ्रिकेकडून सर्वाधिक बळी मिळ...  \n",
       " ..                                                 ...  \n",
       " 288  [\"पंतप्रधानांनी “कथन” म्हणून जे वर्णन केले ते ...  \n",
       " 289  [\"त्यावर आता राज्याच्या विधान परिषदेचे विरोधी ...  \n",
       " 290  [\"या योजनेचे उद्दीष्ट सर्व घरांना शक्ती प्रदान...  \n",
       " 291  [\"शिवसेना व भाजपमध्ये युती झाल्यानंतर दोन्ही प...  \n",
       " 292  [\"त्यांनी स्वच्छ भारत मिशन, बेटी बाचाओ - बेटी ...  \n",
       " \n",
       " [293 rows x 3 columns],\n",
       " 'tel':             PairID                                               Text  \\\n",
       " 0    TEL-dev-00001  \"బీజేపీ జాతీయ అధ్యక్షుడు అమిత్ షా నేడు రెండోరో...   \n",
       " 1    TEL-dev-00002  \"ఈ ఏడాది జనవరి 1వ తేదీ నాటికి ఢిల్లీలో 10,76,4...   \n",
       " 2    TEL-dev-00003  \"ప్రతిపక్షాలు అనవసర రాద్ధాంతం చేస్తున్నాయి : హ...   \n",
       " 3    TEL-dev-00004  \"హైదరాబాద్ : కాంగ్రెస్ పార్టీ అధికారంలోకి రాగా...   \n",
       " 4    TEL-dev-00005  \"ప్రజారాజధానిగా రూపుదిద్దేందుకు అవసరమైన పెట్టు...   \n",
       " ..             ...                                                ...   \n",
       " 125  TEL-dev-00126  \"రేలంగి నరసింహారావు వంటి దర్శకులు సినిమాలు చేయ...   \n",
       " 126  TEL-dev-00127  \"సూర్య డ్యూయల్ రోల్ చేసిన ఈ సినిమా ఆశించిన స్థ...   \n",
       " 127  TEL-dev-00128  \"ఇండియన్ ప్రీమియర్ లీగ్ – 2018 విజయవంతంగా కొనస...   \n",
       " 128  TEL-dev-00129  \"వలస కార్మికుల రైళ్లను బెంగాల్ అనుమతించడంలేదు:...   \n",
       " 129  TEL-dev-00130  \"తెలంగాణలోకి మావోలు చొరబడే అవకాశం లేదు: డీజీపీ...   \n",
       " \n",
       "                                             Split_Text  \n",
       " 0    [\"బీజేపీ జాతీయ అధ్యక్షుడు అమిత్ షా నేడు రెండోర...  \n",
       " 1    [\"ఈ ఏడాది జనవరి 1వ తేదీ నాటికి ఢిల్లీలో 10,76,...  \n",
       " 2    [\"ప్రతిపక్షాలు అనవసర రాద్ధాంతం చేస్తున్నాయి : ...  \n",
       " 3    [\"హైదరాబాద్ : కాంగ్రెస్ పార్టీ అధికారంలోకి రాగ...  \n",
       " 4    [\"ప్రజారాజధానిగా రూపుదిద్దేందుకు అవసరమైన పెట్ట...  \n",
       " ..                                                 ...  \n",
       " 125  [\"రేలంగి నరసింహారావు వంటి దర్శకులు సినిమాలు చే...  \n",
       " 126  [\"సూర్య డ్యూయల్ రోల్ చేసిన ఈ సినిమా ఆశించిన స్...  \n",
       " 127  [\"ఇండియన్ ప్రీమియర్ లీగ్ – 2018 విజయవంతంగా కొన...  \n",
       " 128  [\"వలస కార్మికుల రైళ్లను బెంగాల్ అనుమతించడంలేదు...  \n",
       " 129  [\"తెలంగాణలోకి మావోలు చొరబడే అవకాశం లేదు: డీజీప...  \n",
       " \n",
       " [130 rows x 3 columns]}"
      ]
     },
     "execution_count": 23,
     "metadata": {},
     "output_type": "execute_result"
    }
   ],
   "source": [
    "test_pdf"
   ]
  },
  {
   "cell_type": "code",
   "execution_count": 24,
   "id": "5c2344e3-0393-457b-81fa-e55008a129c1",
   "metadata": {
    "id": "5c2344e3-0393-457b-81fa-e55008a129c1"
   },
   "outputs": [],
   "source": [
    "train_dataset={}\n",
    "valid_dataset={}\n",
    "for i, lang in enumerate(lan):\n",
    "    train_dataset[lang] =  Dataset.from_pandas(train_pdf[lang])\n",
    "    train_dataset[lang] =  train_dataset[lang].rename_column(\"PairID\", \"sentence_id\")\n",
    "    train_dataset[lang] =  train_dataset[lang].rename_column(\"Text\", \"words\")\n",
    "    \n",
    "    \n",
    "    valid_dataset[lang] = Dataset.from_pandas(dev_pdf[lang])\n",
    "    valid_dataset[lang] = valid_dataset[lang].rename_column(\"PairID\", \"sentence_id\")\n",
    "    valid_dataset[lang] = valid_dataset[lang].rename_column(\"Text\", \"words\")\n",
    "\n"
   ]
  },
  {
   "cell_type": "code",
   "execution_count": 25,
   "id": "omoxnr1smjEI",
   "metadata": {
    "colab": {
     "base_uri": "https://localhost:8080/"
    },
    "id": "omoxnr1smjEI",
    "outputId": "cf05c748-1563-4070-f381-4a7b5755e7bf"
   },
   "outputs": [],
   "source": [
    "test_dataset={}\n",
    "for lang in lan:\n",
    "    test_dataset[lang] =  Dataset.from_pandas(test_pdf[lang])\n",
    "    test_dataset[lang] = test_dataset[lang].rename_column(\"PairID\", \"sentence_id\")\n",
    "    test_dataset[lang] = test_dataset[lang].rename_column(\"Text\", \"words\")\n",
    "    test_dataset"
   ]
  },
  {
   "cell_type": "code",
   "execution_count": 26,
   "id": "56a1d149-bbd7-4d6b-93ce-d5dcf88a0ef2",
   "metadata": {},
   "outputs": [
    {
     "data": {
      "text/plain": [
       "{'eng': Dataset({\n",
       "     features: ['sentence_id', 'words', 'Split_Text'],\n",
       "     num_rows: 250\n",
       " }),\n",
       " 'esp': Dataset({\n",
       "     features: ['sentence_id', 'words', 'Split_Text'],\n",
       "     num_rows: 140\n",
       " }),\n",
       " 'amh': Dataset({\n",
       "     features: ['sentence_id', 'words', 'Split_Text'],\n",
       "     num_rows: 95\n",
       " }),\n",
       " 'arq': Dataset({\n",
       "     features: ['sentence_id', 'words', 'Split_Text'],\n",
       "     num_rows: 97\n",
       " }),\n",
       " 'ary': Dataset({\n",
       "     features: ['sentence_id', 'words', 'Split_Text'],\n",
       "     num_rows: 71\n",
       " }),\n",
       " 'hau': Dataset({\n",
       "     features: ['sentence_id', 'words', 'Split_Text'],\n",
       "     num_rows: 212\n",
       " }),\n",
       " 'kin': Dataset({\n",
       "     features: ['sentence_id', 'words', 'Split_Text'],\n",
       "     num_rows: 102\n",
       " }),\n",
       " 'mar': Dataset({\n",
       "     features: ['sentence_id', 'words', 'Split_Text'],\n",
       "     num_rows: 293\n",
       " }),\n",
       " 'tel': Dataset({\n",
       "     features: ['sentence_id', 'words', 'Split_Text'],\n",
       "     num_rows: 130\n",
       " })}"
      ]
     },
     "execution_count": 26,
     "metadata": {},
     "output_type": "execute_result"
    }
   ],
   "source": [
    "test_dataset"
   ]
  },
  {
   "cell_type": "code",
   "execution_count": 27,
   "id": "46d3c0cb-c058-4ecf-bb21-e21a6b473de2",
   "metadata": {
    "colab": {
     "base_uri": "https://localhost:8080/"
    },
    "id": "46d3c0cb-c058-4ecf-bb21-e21a6b473de2",
    "outputId": "4c69e7ee-5895-46c6-879a-d930467a8d2a"
   },
   "outputs": [
    {
     "data": {
      "text/plain": [
       "{'eng': Dataset({\n",
       "     features: ['sentence_id', 'words', 'Score', 'Split_Text', '__index_level_0__'],\n",
       "     num_rows: 4950\n",
       " }),\n",
       " 'esp': Dataset({\n",
       "     features: ['sentence_id', 'words', 'Score', 'Split_Text', '__index_level_0__'],\n",
       "     num_rows: 1406\n",
       " }),\n",
       " 'amh': Dataset({\n",
       "     features: ['sentence_id', 'words', 'Score', 'Split_Text', '__index_level_0__'],\n",
       "     num_rows: 893\n",
       " }),\n",
       " 'arq': Dataset({\n",
       "     features: ['sentence_id', 'words', 'Score', 'Split_Text', '__index_level_0__'],\n",
       "     num_rows: 1135\n",
       " }),\n",
       " 'ary': Dataset({\n",
       "     features: ['sentence_id', 'words', 'Score', 'Split_Text', '__index_level_0__'],\n",
       "     num_rows: 832\n",
       " }),\n",
       " 'hau': Dataset({\n",
       "     features: ['sentence_id', 'words', 'Score', 'Split_Text', '__index_level_0__'],\n",
       "     num_rows: 1562\n",
       " }),\n",
       " 'kin': Dataset({\n",
       "     features: ['sentence_id', 'words', 'Score', 'Split_Text', '__index_level_0__'],\n",
       "     num_rows: 700\n",
       " }),\n",
       " 'mar': Dataset({\n",
       "     features: ['sentence_id', 'words', 'Score', 'Split_Text', '__index_level_0__'],\n",
       "     num_rows: 1080\n",
       " }),\n",
       " 'tel': Dataset({\n",
       "     features: ['sentence_id', 'words', 'Score', 'Split_Text', '__index_level_0__'],\n",
       "     num_rows: 1053\n",
       " })}"
      ]
     },
     "execution_count": 27,
     "metadata": {},
     "output_type": "execute_result"
    }
   ],
   "source": [
    "train_dataset"
   ]
  },
  {
   "cell_type": "code",
   "execution_count": 28,
   "id": "0e8f2d8c-77a5-4122-9d4b-21cff810b845",
   "metadata": {
    "id": "0e8f2d8c-77a5-4122-9d4b-21cff810b845"
   },
   "outputs": [],
   "source": [
    "def sentence_len_distribution(sentences):\n",
    "    sentences_len=[]\n",
    "\n",
    "    for sentence in sentences:\n",
    "        sentences_len.append(len(sentence))\n",
    "    return Counter(sentences_len)"
   ]
  },
  {
   "cell_type": "code",
   "execution_count": 29,
   "id": "e71862e6",
   "metadata": {
    "colab": {
     "base_uri": "https://localhost:8080/",
     "height": 35
    },
    "id": "e71862e6",
    "outputId": "30317bb2-63b1-4bff-a201-9ee09f513c50"
   },
   "outputs": [
    {
     "data": {
      "text/plain": [
       "\"The story is gripping and interesting.\\nIt's a brilliant, compelling, and heartfelt story.\""
      ]
     },
     "execution_count": 29,
     "metadata": {},
     "output_type": "execute_result"
    }
   ],
   "source": [
    "test_dataset['eng'][\"words\"][0]"
   ]
  },
  {
   "cell_type": "code",
   "execution_count": 30,
   "id": "VQLUpe_iPzqF",
   "metadata": {
    "colab": {
     "base_uri": "https://localhost:8080/"
    },
    "id": "VQLUpe_iPzqF",
    "outputId": "f402a1f1-d0a5-411d-d191-f3ef8a2636b6"
   },
   "outputs": [
    {
     "data": {
      "text/plain": [
       "[['” የሚለው ነው ዋናው ጥያቄ ።\\tያለው የሚለው ጥያቄ ለህዝቡ መመለስ ግዴታ ነው ።'],\n",
       " ['አቶ ነጋ ፡ (ረዥም ሳቅ) እንዴት ነው እንዴ ?\\tአቶ ነጋ ፡ (ሳቅ) በቃ ተወው ።'],\n",
       " ['መልካም አዲስ አመት ቀድሜ ፣ተሽቀዳድሜ ።\\tመልካም አዲስ አመት ይሁንልን ::'],\n",
       " ['ልጄ ልብ ያለው ልብ ቢል አሪፍ ነው ፡፡\\tእንደ አንተ ልብ ሁሉ የእኔም ልብ እንዲሁ ነው አለው ።'],\n",
       " ['እርስ-በእርስ መጠላለፍና መዘላለፍ ከጀመርን ግን አሁን ያለውን የለውጥ ጭላጭል ያዳፍነዋል ።\\tበማንኩሳ ዝርዝር ጉዳዮችን በስልክ መቆራረጥ ምክንያት ማግኘት አልቻልንም ፡፡'],\n",
       " ['የኢትዮጵያ ሙዚየም ማውጫ ታትሞ ወጣ ።\\t“የኢትዮጵያ ህያው ሙዚየም” የተሰኘ የሙዚየም ማውጫ ታትሞ ወጣ ፡፡'],\n",
       " ['የኖቤል የሰላም ሽልማትን ካገኙ ሰዎች መካከል ማንዴላ አንዱ ናቸው ።\\tጠቅላይ ሚኒስተር ዐብይ አሕመድ የኖቤል የሰላም ሽልማትን በተቀበሉበት ጊዜ ።'],\n",
       " ['የምድር ባቡር ግንባታ ሥራ ተቆጣጣሪ[ ለማስተካከል | ኮድ አርም ] ።\\tመተላለፊያው[ ለማስተካከል | ኮድ አርም ] ።'],\n",
       " ['በጣም አስፈላጊ ምርጫ ነዉ ።\\tእንደ 2016ቱ በጣም አስፈላጊ ነዉ አልልም ።'],\n",
       " ['\" የጠንቋዮችና ፡ የደጋሚዎች እናም የገጣሚዎችን ንግግር ሰምቻለሁ ።\\tለነገሩ እኔም ሰው ነግሮኝ ነው ነው ?'],\n",
       " ['ኢትዮጵያ እና ኤርትራ ከማን ወገን ናቸው ?\\tኢትዮጵያ እና ኤርትራ ምን ሚና ሊኖራቸው ይችላል ?'],\n",
       " ['ዳና ድራማ ክፍል 61 ፣ ይመልከቱ ።\\tቤቶች ድራማ ክፍል 179 ፣ ይመልከቱ ።'],\n",
       " ['ወታደራዊው መንግስት ስልጣን ከመያዙ ሁለት ዓመት በፊት ነው የተወለድኩት ትላለች ታሪክ እየጠቀሰች ።\\tየኢሕአዴግ አባል ፓርቲዎች እርስበርሳቸው እየተዋቀሱ ‘አጋር’ ከሚሏቸው ፓርቲዎች ጋር ተስማምተው መቀጠል ይችላሉ ?'],\n",
       " ['የካቲት 12 እማ ጭራሽ እንደጥሊያኑ ነበር የሚያቅለሸልሻችሁ ።\\tይሁንና የምርምራቸውን ውጤት አስመልክተው የሰጧቸው አያሌ አስተያየቶች እርስ በርሳቸው የሚጋጩ ናቸው ።'],\n",
       " ['የሕዝብ ተወካዮች ምክር ቤት 5ኛ ዓመት የስራ ዘመን 4ኛ ልዩ ስብሰባውን የፊታችን አርብ ይካሄዳል ።\\tየሕዝብ ተወካዮች ምክር ቤት 5ኛ ዓመት የስራ ዘመን 4ኛ ልዩ ስብሰባውን ማካሄድ ጀመረ ።'],\n",
       " ['ሳይንስ እንደሚለው አብዛኞቹ ነፍሳት ሙሉ በሙሉ ለምግብነት መዋል ይችላሉ ።\\tለምግብነት መዋል የሚችሉ ሌሎች ነፍሳት ደግሞ በብዛት ዛፍ ላይ ይገኛሉ ።'],\n",
       " ['ኢየሱስ ክርስቶስ በኢትዮጵያ የቱ ጋ ነው ያለው ?\\tይሄን ሾላ በድፍን የተወበትን መጽሐፍ ነው “ኢየሱስ ክርስቶስ በኢትዮጵያ” ሲል የሰየመው ።'],\n",
       " ['አጭር የምስል መግለጫ የጸረ-ሙስና ዘመቻው በልዑል አልጋ ወራሽ ሞሐመድ ቢን ሰልማን ነበር የተጀመረው ።\\tአጭር የምስል መግለጫ ልዑል አልጋ ወራሽ ሞሃመድ ቢን ሰልማን ።'],\n",
       " ['ለማንኛውም መልክተኛ በአላህ ፈቃድ ካልኾነ ተዓምርን ሊያመጣ አይገባውም ፡፡\\tባለፋት 24 ሰዓታት የ16 ሰዎች ሕይወት አልፏል ፤አጠቃላይ የሟቾች ቁጥርን 479 አድርሶታል ።'],\n",
       " ['እኛን ከዚህ ጉዳይ ጋር የምንገናኝበት ቅንጣት ታክል ግንኙነት የለም ።\\tእኛን ቅንጣት ታህል ከዚህ ጉዳይ ጋ የሚያገናኘን ነገር የለም ።'],\n",
       " ['ከሌሉ አሁን መግለፁ ለምን አስፈለገ ?\\tአሁን ይኽ ሁሉ አተካሮ ለምን አስፈለገ ?'],\n",
       " ['አዲስ አበባ ቅኔ ናት !\\tአዲስ አበባ ናት በግንባታ የተጨናነቀችው ?'],\n",
       " ['ስመኘው በቀለ ራሳቸውን አጥፍተዋል ብዬ ነው የማምነው ።\\tኢ/ር ስመኘው በቀለ ከአባይ ግድብ ለኢንጅነር ስመኘው በቀለ መታሰቢያ : ።'],\n",
       " ['‹‹የራሳቸውን ጥቅም ለማስከበር የሰሩት ሥራ ነው›› ሲሉ ምን ማለትዎ ነው ?\\tአብርቼላታለሁ ሲሉ ምን ማለትዎ ነው ?'],\n",
       " ['መንገድ መሪ ከሆነ ማንኛውም ሰው የሚፈለገው ዋነኛ ባሕርይ እምነት የሚጣልበት መሆን ነው ።\\tየበረራ አዲስ መረጃ ፡ ኢትዮጵያን አየርመንገድ አሁንድ ኢስታንቡል እየበረረ ነው ።'],\n",
       " ['ደራሲ ታክሎ ተሾመ ፤ በግል ኑሯቸው ደስተኛ እንደሆኑ ይገልጣሉ ።\\tደራሲ ታክሎ ተሾመ ፤ከጎርጎራ እስከ አውስትራሊያ ።'],\n",
       " ['ቱርክ የአሜሪካን የተኩስ አቁም ጥሪ ውድቅ አደረገች ።\\tቱርክ የአሜሪካንን አስቸኳይ የተኩስ አቁም ጥሪ ውድቅ አደረገች ።'],\n",
       " ['ስለዚህ በቋንቋ ሊቃውንት ዘንድ አቡጊዳዎች ይባላሉ ።\\tእንዴት አደረሽ ኢትዮጵያ / መልካም ቀን / ቸረ ነገር የምንሰማበት ይሁን !'],\n",
       " ['ዘጋቢ ፡- ታርቆ ክንዴ/ባሕር ዳር፡ ሐምሌ 2/2011 ዓ.ም (አብመድ) ።\\tዜና መፅሔት ባሕር ዳር ፡ ሐምሌ 8/2011 ዓ.ም (አብመድ)... ።'],\n",
       " ['ምናልባት 3 000 እና ከዚያም በላይ ዕድሜ ሳይኖረው እንዳልቀረ ይታሰባል ።\\tአባይ ለሀገሩ ትቶ ለሱዳን ና ግብፅ ካባ አልባሾቹም በስሙ ስልጣን ከያዙበ ።'],\n",
       " ['ረቡዕ ፡-ከምሽቱ ሦስት ሰዓት የአማርኛ ዜና - ዲሴምበር 21, 2022 ።\\tዐርብ ፡-ከምሽቱ ሦስት ሰዓት የአማርኛ ዜና - ኦክቶበር 22, 2021 ።'],\n",
       " ['ውይይቱ የሶስቱ ሀገራት የውሃ ሚኒስትሮች በተገኙበት እንደሚካሄድ ነው የተነገረው ።\\tውይይቱ የሶስቱ ሀገራት የውሃ ሚኒስትሮች በተገኙበት ነው እየተካሄደ የሚገኘው ።'],\n",
       " ['አንድ ነን እኛ አንድ ነን ።\\tእናም የፃፍነው እኛ ነን ።'],\n",
       " ['አስቸኳይ በመተከል ዞን ስር በምትገኘው ማንዱራ ወረዳ ጅግዳ ቀበሌ ነዋሪዎች በአራጆች ተከበዋል ።\\tበመተከል ዞን ማንዱራ ወረዳ ማንቡክ ቀበሌ ከፍተኛ ተኩስ እየተሰማ ነው ተባለ ።'],\n",
       " ['ሌላም ችግር አለ ነው ያልኩት ::\\tመቼ የት ነው እንዲህ ያልኩት ?'],\n",
       " ['ይህ ምሳሌ ሁለት መልእክት አለው ፡፡\\tይህ በራሱ ሁለት ፈርጅ አለው ።'],\n",
       " ['ሀ. እግዚአብሔር ለእኛ ያለውን ፍቅር ።\\tይህም እግዚአብሔር ለእኛ ያለውን ፍቅር ያሳያል ፡፡'],\n",
       " ['የኢትዮጵያ ሰብዓዊ መብቶች ኮሚሽን አርማ ።\\tበኢትዮጵያ ሰብዓዊ መብቶች ኮሚሽንና በኢትዮጵያ ሰብዓዊ መብቶች ድርጅቶች ህብረት አዘጋጅነት የሲቪክ ማህበራትና የሰብዓዊ መብቶች… ።'],\n",
       " ['ረቡዕ ፡-ከምሽቱ ሦስት ሰዓት የአማርኛ ዜና - የካቲት 12, 2020 ።\\tቅዳሜ ፡-ከምሽቱ ሦስት ሰዓት የአማርኛ ዜና - ጁላይ 24, 2021 ።'],\n",
       " ['- 53 ሰዎች ህይወታቸውን አጥተዋል ።\\tባለፈው ዓመት በመላው አገሪቱ 4597 ሰዎች በትራፊክ አደጋ ህይወታቸውን አጥተዋል ፡፡'],\n",
       " ['ሁሉም ነገር ጥረት ነው ።\\t\"ሁሉም ነገር የእግዚአብሔር ፈቃድ ነው ።'],\n",
       " ['እኛ ከእናንተ መማርና መውረስ ያለብን ዘረኝነትና ጎጠኝነት መሆን የለበትም ፡፡\\tእኛ መውረስ ያለብን ኢትዮጵያዊነት ነው ፡፡'],\n",
       " ['ከ1 እስከ 70 አመት የእድሜ ክልል የሚገኙ ኢትዮጵያውያን ናቸው ።\\tከ2 እስከ 115 የእድሜ ክልል የሚገኙ ናቸው ተብሏል ።'],\n",
       " ['ኩዌት ሰው ሰራሽ አስተውሎትን በመጠቀም ምናባዊ ዜና አንባቢ ይፋ አደረገች ።\\tሰው ሰራሽ አስተውሎትን በመጠቀም ምናባዊ ዜና አንባቢ በማስተዋወቅ ኩዌት የመጀመሪያዋ አገር አይደለችም ።'],\n",
       " ['አንተ የተጠቀምካቸውን ቃላቶች እና አሧ አለችኝ ብለህ ያሠብካቸው ለአንተና ለ ።\\tለሰልፉ ኃላፊነት ለመውሰድ ፍቃደኛ ሳይሆን የቀረው ሰማያዊ ፓርቲ ዴሞክራሲ እየገባው ይመስላል ::'],\n",
       " ['መጀመሪያ ከቋጠሮ አስተያዬት ብነሳ ደስ ይለኛል ።\\tበእርሱ አምን ዘንድ ማን ነው ?'],\n",
       " ['በግልጽ ለማየት እንደሚቻለው መጽሐፍ ቅዱስ ፣ ሃይማኖት መቀላቀልን አይደግፍም ።\\tበግልጽ ለማየት እንደሚቻለው መጽሐፍ ቅዱስ ከችግሮች ለመራቅ ሊረዳን የሚችል ጠቃሚ ምክር ይዟል ።'],\n",
       " ['የአማራገዢ መደቦችና እና ሌላው ህዝብ ይለያያል ጂኦግራፊ መሰረት ያረገ ፌደራሊዝም መቃወም ከአ ።\\tሞኒካ በሐሳቡ የተስማማች ሲሆን ከሌሊቱ 10 : 00 ሰዓት ላይ በስልክ ለማጥናት ዝግጅት አደረጉ ።'],\n",
       " ['የዜና መጽሔት ፤ የካቲት 5 ፣ ቀን ፤ 2012 ዓ.ም ሐሙስ ።\\tየዜና መጽሔት ፤ ኅዳር 18 ቀን 2013 ዓ.ም አርብ ።'],\n",
       " ['ዞሮ ዞሮ ዋነኛው ወሳኝ ሕዝቡ ነው ፡፡\\tከዚያም ወደ ተከታዮቹ ዞሮ ፤ ።'],\n",
       " ['ይቀጥላል ክፍል አንድን እዚህ ወይም ክፍል ሁለትን እዚህ ክሊክ በማድረግ ይመልከቱ !\\tክፍል 2 ሳምንት ይቀጥላል ።'],\n",
       " ['ቅዳሜ ፡-ከምሽቱ ሦስት ሰዓት የአማርኛ ዜና - ዲሴምበር 26, 2020 ።\\tረቡዕ ፡-ከምሽቱ ሦስት ሰዓት የአማርኛ ዜና - ሜይ 05, 2021 ።'],\n",
       " ['\" የውጭ ጉዳይ ሚኒስትር አቶ ገዱ አንዳርጋቸው ።\\tወቅታዊ ውይይት ከውጭ ጉዳይ ሚንስትር አቶ ገዱ አንዳርጋቸው ጋር ።'],\n",
       " ['በአጠቃላይ በሀገራችን ቫይረሱ በምርመራ የተገኘባቸው ሰዎች ቁጥር ሶስት መቶ ስድስት (352) ደርሷል ፡፡\\tበአጠቃላይ በሀገራችን ቫይረሱ የተገኘባቸው እና ህይወታቸው ያለፈ ሰዎች ቁጥር ሰባ ስምንት (78) ደርሷል ፡፡'],\n",
       " ['በተለይም የወለዱ እናቶች ጡታቸው ባዶ ሆኖ ሕፃናትን ማጥባት እንደተቸገሩ በምሬት ያወሳሉ ፡፡\\tሰሞኑን አዲስ በተንጣለለው ሰን ራይዝ የመኖርያ መንደር>>>> ።'],\n",
       " ['ምን ለማለት ያክል ነው ?\\tምን ለማለት ነው . ድምጻችንለግድባችን ።'],\n",
       " ['የሾርባ ማንኪያ ትክክለኛውን የጥቁር አዝሙድ ዘይት መውሰድ ።\\tአንድ የሾርባ ማንኪያ የጥቁር አዝሙድ ዘይት ከአንድ ማንኪያ ።'],\n",
       " ['የተለያዩ ነገሮችን መሞካከር ሳይሆን አንድን ነገር በተለያዩ መንገዶች መሞከር ነው ፡፡\\tየተለያዩ ነገሮችን ማየት ሳይሆን አንድን ነገር በተለየ መንገድ ለማየት መቻል ነው ፡፡'],\n",
       " ['» አሉና የተዘጋውን የፋርማሲው በር ገላመጡት ፡፡\\t... አሉና የተዘጋውን የመድሃኒት ቤቱ በር እያዩ ዝም አሉ ፡፡'],\n",
       " ['ከዚያ ለጥቆም መጽሔቱ አከራካሪውን ቃለ ምልልስ ቆርጦ አስቀርቶታል ተብሎ ተወራ ፡፡\\tመልሶ ማቋቋምን ማካተት ወይም ቅጣትን ማዕከል ካደረገው አስተሳሰብ መውጣት በጣም ጠቃሚ ነው ፡፡'],\n",
       " ['የአማራ ክልል ተማሪዎች ችግር ።\\tበኦሮሚያ ክልል የታገቱ 17 የአማራ ተማሪዎች ባስቸኳይ ይለቀቁ ።'],\n",
       " ['እነዚህም ሀ ፣ረ፣አ፣ወ፣ዘ ናቸው ።\\tእነዚህም የዐሠርቱ ትእዛዛት ምሳሌዎች ናቸው (ዘፀ. ፳ ፥'],\n",
       " ['ከዚህ ምን ልንማር እንችላለን ?\\tአሣዎች ይህን ማድረግ የቻሉት እንዴት ነው አደጋዎችን ለመቀነስ ከነሱ ምን ልንማር እንችላለን ?'],\n",
       " ['አብዮታዊ ዲሞክራሲን እንደ አንድ ርዕዮተ ዓለም መውሰድ ይቻላል ?\\tበሌላ አነጋገር አብዮታዊ ዲሞክራሲን እንደ አንድ ርዕዮተ አለም መውሰድ ተገቢነቱ ምን ያህል ነው ?'],\n",
       " ['ለችግር ከተጋለጡ ዜጎች ጉሮሮ ነጥቃ መሳሪያ የምትገዛ አረመኔ ድርጅት ነበረች ።\\t፲፬ እግዚአብሔር ስለእናንተ ይዋጋል እናንተም ዝም ትላላችሁ ።'],\n",
       " ['መልካም አዲስ አመት (2012 ዓ.ም ) ለኢትዮጵያዊያን !\\tመልካም የኛ የኢትዮጵያውያን አዲስ አመት ?'],\n",
       " ['የስፖርት ዘገባ ፤ ጥር 18 ቀን ፣2007 ዓም ።\\tየስፖርት ዘገባ ፤ ነሐሴ-25-2007 ዓ.ም ።'],\n",
       " ['\"ብሩክ ልቡ ትልቅ ነው ።\\tከትምህር ውጪም ልቡ ትልቅ ነው ።'],\n",
       " ['በተቃዋሚዎች መሃከል እንዴት አንድ ሚስጢር የሚባል ነገር ጠፋ ?\\tየድርጅት ሚስጢር የሚባል ነገር የለም ።'],\n",
       " ['ኢትዮጵያዊነትን የተማርኩት ፤ ኢትዮጵያዊነትን ያገኘሁት፤ ከነሃዲስ አለማየሁ ድርሰት ዉስጥ ነዉ ።\\tኢትዮጵያዊነትን ያገኘሁት ከነአቤጎበኛ አመጽ ዉስጥ ነዉ ።'],\n",
       " ['የከተማው አቀማመጥ በ 6°2′ ሰሜን ኬክሮስ እና 37°33′ ምሥራቅ ኬንትሮስ ላይ ነው ።\\tየከተማው አቀማመጥ በ 8°45′ ሰሜን ኬክሮስ እና 38°59′ ምሥራቅ ኬንትሮስ ላይ ነው ።'],\n",
       " ['መዝፈን ስትጀምር ፣ በቃ ሌላ ሰው ነው የምትሆነው. ።\\tሆኖም መዝራታቸውንና የግንባታ እንቅስቃሴያቸውን የገፉበት የድካማቸውን ፍሬ እንዲሁም እርካታ አግኝተዋል ።'],\n",
       " ['በኢትዮጵያ ተጨማሪ 703 ሰዎች በኮሮና ቫይረስ ተያዙ ፡፡\\tበኢትዮጵያ ተጨማሪ 486 ሰዎች በኮሮና ቫይረስ ተያዙ ፡፡'],\n",
       " ['ጠቅላይ ምኒስትር አብይ አሕመድ በአሜሪካ ።\\tየዓለም ባንክ የአንድ ቢሊዮን ዶላር ድጋፍ ለኢትዮጵያ ሊሰጥ መሆኑን ጠቅላይ ምኒስትር አብይ አሕመድ አስታወቁ ።'],\n",
       " ['“ቀስ በቀስ ነበር የምንቀሳቀሰው ።\\tቀስ በቀስ ግን ጥያቄዎች ተነሱ ።'],\n",
       " ['በድህረ ወሊድ ዋና የመንፈስ ጭንቀት መንስኤ ሊሆኑ የሚችሉ ምክንያቶች የሚከተሉትን ያካትታሉ ፡፡\\tከይሖዋ ጋር በተያያዘ ሁኔታ ግን ይቅር የሚለው አንድ ወገን ብቻ ነው ።'],\n",
       " ['ከዚህ የሚቀጥለው የግብ ጉዳይ ይሆናል ።\\tየሚቀጥለው ርዕሰ ትምህርት በዚህ ጉዳይ ላይ ያተኮረ ይሆናል ።'],\n",
       " ['ምንም አዲስ ነገር የለም ፡፡\\tምንም የሚያስቸኩል ነገር የለም ።'],\n",
       " ['\" የአዲስ አበባ ነዋሪዎች ።\\tየመንግሥት ባለሥልጣናት እና የአዲስ አበባ ከተማ ነዋሪዎች ወደ ቦሌ ዓለ... ።'],\n",
       " ['የፖሊሶቹ መጨረሻ ምን ሆነ ?\\tየእሱ ልጅ መጨረሻ ግን ምን ሆነ ?'],\n",
       " ['እርግዝናውን የፈለገችው ሴትም ሂደቱን በደምብ ተከታትላ ለማርገዝ ጤናማ የሆነ የሰውነት ክብደት ላይ መድረስ ትችላለች ፡፡\\tይሄ ስርዓት ከዚህ አንፃር ዝም ብሎ በቀላሉ የሚናድ አይመስለኝም ፡፡'],\n",
       " ['የጉምሩክ ኃላፊ[ ለማስተካከል | ኮድ አርም ] ።\\tተጨማሪ መረጃ[ ለማስተካከል | ኮድ አርም ] ።'],\n",
       " ['ይሁን እንጂ መንፈሳዊነታችን መዳከም ጀመረ ።\\tወዲያውኑ ለማለት ይቻላል መንፈሳዊነቴ መዳከም ጀመረ ።'],\n",
       " ['የሚገርም ነው አንዳንዱ ሰው ::\\tፕ/ር ህዝቅኤል ጋቢሳ የሚገርም ሰው ነው ።'],\n",
       " ['የወያኔ ወሮበላ የዘራፊ ቡድን ስብስብ መፈራትን ይወዳሉ ፡፡\\tየወያኔ ወሮበላ የዘራፊ ቡድን ስብስብ የሚያውቃቸው ጥቂት የማይታወቁ ነገሮች አሉ ፡፡'],\n",
       " ['… ሰው መደብ ነው ፡፡\\tመፅሐፍ አዟሪነት የስራ መደብ ነው ፡፡'],\n",
       " ['ምንም ተጨማሪ ፣ ምንም ያነሰ የለም ።\\tከመኖር በፊት ምንም የለም ::'],\n",
       " ['የዐማራ ኅልውና ለኢትዮጵያ አንድነት ድርጅት (ዐ.ኅ.ኢ.አ.ድ.) ፕሮግራም ።\\tየዐማራ ኅልውና ለኢትዮጵያ አንድነት ድርጅት መርሓግብር ።'],\n",
       " ['ሕዝቦችህ በአንተ ሐሴት እንዲያደርጉ ፣ዳግመኛ እንድናንሰራራ አታደርገንም ?\\tበቅርቡ ብቻህን ትሞታለህ እጠላሃለሁ ፣ በፍጥነት እና በፍጥነት እንደምትሞት ።'],\n",
       " ['ሆኖም ነዳጅ በጣም ውድ በመሆኑ የትራንስፖርት ዋጋው ውድ አድርጎታል ።\\t\"ከተማ ውስጥ ከሰል በጣም ውድ ነው ።'],\n",
       " ['ኢሳት - ትግሉ መርካቶ ደርሷል !\\tአሁን ትግሉ ከወሳኝ ደረጃ ላይ ደርሷል ።'],\n",
       " ['ይህንን ውሳኔዎን ተከትሎ ያጋጠመዎ ነገር አለ ?\\tውሳኔዎን ተከትሎ ከህወሓት በኩል የደረሰዎ ነገር አለ ?'],\n",
       " ['(ይህ ፖለቲካ ነክ ጽሑፍ መሠረት ወይም መዋቅር ነው ።\\t(ይህ አጭር ጽሑፍ መሠረት ወይም መዋቅር ነው ።'],\n",
       " ['ለምሳሌ ያህል ፣ ኢየሱስ የአልዓዛርን ሁኔታ በተመለከተ ምን አደረገ ?\\tኢየሱስ በዚህ ጊዜ ምን አደረገ ?'],\n",
       " ['ዝርያዎቹ በሀገር አቀፍ ደረጃ ለደጋ አካባቢዎች ምቹ መሆናቸው ተረጋግጦ የተለቀቁ ዝርያዎች ናቸው ።\\tፍትህ ለእስክንድር ነጋ ፍትህ ለኢትዮጵያ ።'],\n",
       " ['የዕለቱ ታማሚዎች የጉዞ ታሪክ እና በበሽታው ከተያዘ ሰው ጋር ያላቸው ግንኙነት እንደሚከተለው ቀርቧል ፦ ።\\tየዕለቱ ታማሚዎች ዝርዝር ሁኔታም እንደሚከተለው ቀርቧል ፣ ።'],\n",
       " ['እንኩዋን ለአድዋ በዓል በሰላም አደረሳችሁ ።\\tእንኳን ለደመራ በዓል በሰላም አደረሰን አደረሳችሁ !'],\n",
       " ['ከዛ በኋላ ያለው ሰዶ ማሳደድ የቶም እና ጄሪ አይነት ጨዋታ ነው የሚሆነው ።\\tከዛ በኋላ ያለው መ ።'],\n",
       " ['ለውይይቱ መነሻ ሃሳብ የሚያቀርቡት አቶ… ።\\tለውይይቱ የመነሻ ሀሳብ የሚያቀርቡት የታሪክ ተመራማሪው… ።'],\n",
       " ['❖[ትንቢተ ኢሳይያስ ምዕራፍ ፳፰ ፥\\t[ትንቢተ ኢሳይያስ ምዕራፍ ፲፱ ፥'],\n",
       " ['እንዲህ መሆን አለበት.እንዲህ መሆን የለበትምም ።\\tእንዲህ አይነት አቋም ያለው የመጀመሪያው ኢትዬጵያዊ መሆን አለበት ።'],\n",
       " ['እኔ የማይገባኝ እኮ አንድ ነገር ነው ፡፡\\tያልገባኝ ፣የማይገባኝ - እንዴት ብሎ ።'],\n",
       " ['የኢትዮጵያ አገር አድን ንቅናቄ በኖርዌ ኦስሎ ከተማ የተሳካ ጉባኤ አካሄደ ።\\tየኢትዮጵያ አገር አድን ንቅናቄ በኖርዌ ኦስሎ ከተማ የተሳካ ጉባኤ እንዳካሄደ ተዘገበ ።'],\n",
       " ['ለአምላክ ያለህን ፍቅር መጠበቅ የምትችለው እንዴት ነው ?\\tራስህን አደገኛ ከሆነ ፕሮፓጋንዳ መጠበቅ የምትችለው እንዴት ነው ?'],\n",
       " ['” በማለት እቅጩን ለጋዜጠኞች ተናገረ ፡፡\\tበዚያ ላይ በቤት ውስጥ እንድቆይ የሚነግሩን ሰዎች በውጭ ሀገር የሚኖሩ ናቸው ፡፡'],\n",
       " ['የአብን የምርጫ ዘመቻ - ባሕር ዳር ።\\tፎቶ ፋይል ፦ ባሕር ዳር ።'],\n",
       " ['ምሥራቹ “በዓለም ሁሉ ” መሰበክ ይኖርበታል ።\\tመጨረሻው የሚመጣው ምሥራቹ “በዓለም ሁሉ ” ከተሰበከ በኋላ ነው ።'],\n",
       " ['ግን እነዚህን ሁሉ ተሻግረናቸዋል ፡፡\\t) የተረከበው እነዚህን ሁሉ ነው ::'],\n",
       " ['አልፎ አልፎ ሳትሰሙት የቀራችሁ አይመስለኝም ።\\tስለዚህ ፣ የሴቶቹ ሽንት ቤቶች አልፎ-አልፎ ብቻ ይፀዳሉ ፡፡'],\n",
       " ['የዘማሪት ዘርፌ መግለጫ : እምነቴን አልቀየርኩም: የኦርቶዶክስ ተዋህዶ እምነት ተከታይ ነኝ: ግን ኢየሱስ አማላጅ ነው::\\tአንዲት አማኝ የሆነች ሴት ፣ መበለት የሆኑ ዘመዶች ቢኖሯት ጉባኤው ሸክም እንዳይበዛበት እሷ ትርዳቸው ።'],\n",
       " ['ማሪታይም አንዳች ሲስተም የሚባል ነገር የለም ፡፡\\tኦሮሞ የሚባል ነገር የለም ።'],\n",
       " ['ያ ማለት ጥሩ ሳር ነው ማለት ነው ።\\tአሁን ይህን ማለት ጥሩ አይደለም ፡፡'],\n",
       " ['ሌላኛው ደግሞ ኃይማኖተኛ ይሁን ፣ ፈላስፋ ይሁን፣ መድኃኒት አዋቂ ይሁን ግራ አጋብቶናል ፡፡\\tአለ አይደል…ጥያቄ ይሁን ፣ መገረም ይሁን ግራ ያጋባላ !'],\n",
       " ['ስፖርት ፤ የካቲት 21 ቀን ፣ 2008 ዓ.ም ።\\tስፖርት ፤ ታህሳስ 4 ቀን ፣ 2008 ዓ.ም ።'],\n",
       " ['የሚል ቀልድ መሰል እውነት ሲነገር እንደነበር አስታውሳለሁ ፡፡\\tከአቅም በላይ በሆነ ችግር ወይም ሌላ ነገር ብሎ ይቅርታ መጠየቅ ማንን ገደለ !'],\n",
       " ['በርቀት ፍቅር ውስጥ ናፍቆትን ለመቋቋም የሚረዱ 10 መንገዶች ።\\tውጥረትን ለመቋቋም የሚረዱ ጠቃሚ መንገዶች ።'],\n",
       " ['እንኳን ለጌታችን ለመዳኒታችን ለእየሱስ ክርስቶስ የልደት በዓል በሰላም አደረሳችሁ በዓሉ የሰላም የፍቅር ይሁንልን ።\\tእንኳን ለጌታችን ለመድኅኒታችን ለእየሱስ ክርስቶስ የልደት በዓል አደረሳችሁ !'],\n",
       " ['እንኳን ለብርሃነ መስቀሉ በሠላም አደረሰን ።\\tእንኳን ለብርሃነ መስቀሉ በሰላም አደረሳችሁ/አደረሰን !'],\n",
       " ['ወይ መከራ ወይ ጥፋት ወይ ጣጣ ወይ ፈንጣጣ ።\\tወይ በገንዘባቸው ወይ በቴክኖሎጂ ያሳኩት ይሆናል ፡፡'],\n",
       " ['ሕዝቡ ከዚህ ክርክር የሚወስደው የራሱ ነገር ይኖረዋል ብለን እናስባለን ፡፡\\tችግር የለውም ብለን እናስባለን ።'],\n",
       " ['ምርጥ ያራዳ ልጅ ነኝ ፣ ሸበላ ነኝ፣ ጂኒየስ ነኝ፣ አትሌቲክ ነኝ.ምን ዋጋ አለው-ቀርሺ እንቀቡ !\\tእኔ ጥቁር ነኝ ነገር ግን ውብ ነኝ ፥'],\n",
       " ['ውልደትና ትምህርት ቤት[ ለማስተካከል | ኮድ አርም ] ።\\tታሪካዊ ማስታወሻዎች [ ለማስተካከል | ኮድ አርም ] ።'],\n",
       " ['በ18ኛው ሳምንት የኢትዮጵያ ፕሪምየር ሊግ . ።\\tቤትኪንግ የኢትዮጵያ ፕሪምየር ሊግ 15ኛ ሳምንት ዓበይት ጉዳዮች (፫) - አሰልጣኞች ትኩረት ።'],\n",
       " ['አቶ ጌታቸው ከአንድ ቦ ።\\tጌታቸው አሰፋን ትተን ጌታቸው ረዳ ምን አለ ?'],\n",
       " ['እሁድ ግንቦት 22/2013 ዓ ም የስፖርት ዜናዎች ።\\tሰኞ ሀምሌ 26/2013 ዓ ም የስፖርት ዜናዎች ።'],\n",
       " ['በኤርትራ የኢትዮጵያ ኤምባሲ አከፋፈት ስነ ስርዓት >>> ።\\tበኤርትራ የኢትዮጵያ ኤምባሲ በይፋ ሲከፍቱ ።'],\n",
       " ['አሜሪካ ውስጥ ነው ያሉት ።\\tልክ እንደ አሜሪካ ማለት ነው ።'],\n",
       " ['ሐምሌ 13 2010 ወዝወዝ አዲስ ብስራት እዚህ ያዳምጡ ።\\tሰኔ 15 2010 ወዝወዝ አዲስ ብስራት እዚህ ያዳምጡ ።'],\n",
       " ['ሚስተር እድለኛ ነህ ደደብ ነህ ወይም ምን ?\\tቱሪስቱ መንግስታችን እንዴት ነህ ደህና ነህ አንዴት ነህ . ?'],\n",
       " ['ተክሉ ከወደመባቸው ስፍራዎች አንዱ ጋራ ጎሹ የተሰኘው የልማት ቦታ እንደሚገኝበት ተገልጹአል ።\\tከምስራቅ በተጨማሪ ዩክሬን በደቡባዊ አቅጣጫም ድል እያስገኘች ነው ሲሉ አንድ ባለስልጣን ተናግረዋል ።'],\n",
       " ['“ጠ/ሚኒስትሩ ለለውጥ የተዘጋጁ ፣ ለለውጥ የሚጋብዙ ናቸው” ።\\tእኔም ጠቅላይ ሚኒስትሩን ሳያቸው ለለውጥ የተዘጋጁ ፣ ለለውጥ የሚጋብዙ ናቸው ፡፡'],\n",
       " ['ኧረ ብርዱ እንዴት ነው እንዴት ነው ኧረ እንዴት ነው ?\\tይሄ ነገር እንዴት ነው !'],\n",
       " ['የፖለቲካ ተንታኝ እና ደራሲ ዩሱፍ ያሲን እንደሚሉት የመን «የዘመተባት የማይመለስባት ሐገር ናት ትባላላች ።\\tየፖለቲካ ተንታኝ ዩሱፍ ያሲን እንደሚሉት ደግሞ አንድም ሁነኛ ከተማ እንኳን አልተቆጣጠሩም ።'],\n",
       " ['ጉዳዩ ከዚህ በላይ ነው ።\\tለመሆኑ የውጭ ጉዳዩ ማን ነው ፡፡'],\n",
       " ['በ244 ገፆች የተቀነበበው መፅሐፉ ፤ በ130 ብር ለገበያ ቀርቧል ፡፡\\tበ371 ገፆች የተቀነበበው መፅሐፉ በ160 ብር እና በ20 ዶላር ለገበያ ቀርቧል ፡፡'],\n",
       " ['መልካም ልደት የኔ ፍቅር ።\\tእንኳን ለጌታችን ልደት አደረሳችሁ የኔ ነፍጠኞች !'],\n",
       " ['ዜናነህ ስለአዲሱ መንግሥት እስራኤል ውስጥ የነበረው ስሜትን በማብራራት ይጀምራል ።\\tቶትንሀም ሆትስፐር 33 ነጥብ ይዞ ደረጃው 6ኛ ነው ።'],\n",
       " ['ፍቅር በድርጅቱ ህግ ያስቀጣ ነበር ፡፡\\tፍቅር ግን ህግ ይሆናል ፡፡'],\n",
       " ['ውጤቱ ምን ሊሆን ይችላል ?\\tእንዴት ይህ ሊሆን ይችላል ?'],\n",
       " ['ከትግራይ ወደ አማራ ክልል የሚገቡ የአማራ ተወላጆች ።\\tየአማራ ተወላጆች ከትግራይ ወደ አማራ ክልል እየገቡ ነው ።'],\n",
       " ['ስለዚህ መጽሐፍ ቅዱስ እንዲያው ሃይማኖታዊ መጽሐፍ ብቻ ነው ?\\tመጽሐፍ ቅዱስ የረዳሽ እንዴት ነው ?'],\n",
       " ['የህዝብ ተወካዮች ምክር ቤት 5ኛ ዓመት የስራ ዘመን 10ኛ መደበኛ ስብሰባ በዛሬው ዕለት ተካሂዷል ።\\tበረቂቁ ዙሪያ በዛሬው ዕለት በህዝብ ተወካዮች ምክር ቤት የህዝብ ውይይት አካሂዷል ፡፡'],\n",
       " ['ድርጊታቸው ‘ የይሖዋን ቀን መምጣት እንደሚጠብቁና እንደሚያስቸኩሉ ’ ያረጋግጣል ።\\tካድሬንና በበላበት አፉን የሚከፍት ሰው አልወድም ፥'],\n",
       " ['የአፍሪቃ የእግር ኳስ ዋንጫ የምድብ ግጥሚያ እንደቀጠለ ነው ።\\tየአፍሪቃ የእግር ኳስ ዋንጫ ።'],\n",
       " ['ዛሬ ቢያንስ ቢያንስ ሕዝብ ቢሞትም ቢሰቃይም ዓላማ ላለው ራዕይ በመሪዎች እየተመራ ነው ፡፡\\tጥላቻ ፍቅርን የመስጠት ንፍገት ነው ዘረኝነት አብሮነትን የሚያቀጭጭ አረም ነው ።'],\n",
       " ['እኔ : እንደኔ እንደኔ እንዲህ ብታደርግ መልካም ነው ።\\tእንደኔ እንደኔ መባል ያለበት “ተቃውሞና ተቃዋሚ ፓርቲዎች” ሳይሆን “ውድድርና ተወዳዳሪ ፓርቲዎች” ነውና !'],\n",
       " ['የበዓል ቀን ከሆነ ጨረታውን በሚቀጥለው የሥራ ቀን 3 ፡00 ሰዓት ይታሸግና 3፡30 ይከፈታል፡፡\\tጨረታው የሚከፈትበት ቀን የበዓል ቀን ከሆነ ከበዓሉ ቀን ቀጥሎ ባለው የስራ ቀን ይከፈታል ።'],\n",
       " ['ባሕር ዳር ምን አለ ?\\tየኢትዮጵያ መንግሥት ምን አለ ?'],\n",
       " ['የማይስማሙ ከሆነ ደግሞ ትክክለኛው ማንኛው ነው ?\\tየተመድ የሰብዓዊ እርዳታ ኃላፊው በትግራይ ጉብኝታቸው ወቅት አሰቃቂ ጥቃት የደረሰባቸውን ግለሰቦችንም ማናገራቸው ተጠቅሷል ።'],\n",
       " ['ይሄ ከሆነ ዛሬ 9ኛ ዓመቱን ደፈነ ፡፡\\tይሄ ከሆነ ዛሬ 13ኛ ዓመቱን ደፈነ ፡፡'],\n",
       " ['የወያኔ ወሮበላ የዘራፊ ቡድን ስብስብ ለምንድን ነው የእራሱን ጥላ አይቶ የሚደነብረው ?\\tየወያኔ ወሮበላ የዘራፊ ቡድን ስብስብ የወሮበላ ስብስብ የዘራፊ ጥርቅም መሆኑ የሚታወቅ ታዋቂ ነገር ነው ፡፡'],\n",
       " ['ርኅራኄ ሲባል ምን ማለት ነው ?\\tማኅበራዊ እርቀትን መጠበቅ ሲባል ምን ማለት ነው ?'],\n",
       " ['የአማራ ብሔራዊ ንቅናቄ አብን በአገሪቱ ወቅታዊ ጉዳዮች ዙሪያ መግለጫ ሰጥቷል ።\\tየአማራ ብሔራዊ ክልላዊ መንግስት በወቅታዊ ጉዳዮች ላይ ዛሬ መግለጫ ሰጥቷል ፡፡'],\n",
       " ['ከአስመራ ተመርቀው ለሥራ ወደ ሐረር ሲሄዱ ነበር አሉ ከባለቤትዎ ጋር የተዋወቁት ፤ እውነት ነው ?\\tየቆጣሪ አንባቢ በደንበኛ ቤት በአካል ተገኝቶ ትክክለኛ ንባብ መውሰዱ ወይም አለመውሰዱን ማረጋገጥ የሚያስችል ነው ።'],\n",
       " ['ይህ ማለት ለእኔ በጣም ብዙ ነገር ማለት ነው ፡፡\\tእ ስማ ይህ ለእኔ አዲስ ነገር አይደለም ፡፡'],\n",
       " ['እማሆይ የውብ ሰፈር አሳዬ ፡ ባህሪው ጥሩ ነው ፣ የተለየ ባህሪ የለውም፣ የታወቀ ነው ።\\tእማሆይ የውብ ሰፈር አሳዬ ፡ ያርዳል ፣ እኛ እንጠምቃለን እንጋግራለን ።'],\n",
       " ['እዚህ አገር እኮ ተቃዋሚ ፓርቲ የለም !\\tሌላው የሆነ ተቃዋሚ ፓርቲ መ ።'],\n",
       " ['አዲስ አበባ ዛሬ የጣለው ዝናብ ?\\tወንድ ባሪያና ሴት ባሪያ መግዛት ብትፈልግ ግን በዙሪያችሁ ካሉት ከእነርሱ ከአሕዛብ ወንድና ሴት ባሪያዎችን ግዙ።'],\n",
       " ['የመጽሐፉ መተርጎም በኦሮሚያ ክልል ላሉ አብያተ ክርስትያናት በኦሮምኛ ለመቀደስ ያስችላቸዋል ተብሏል ፡፡\\tየተነሳው ፈውስ የማይሰጠው ሽፈራው ሽጉጤ እንጅ ሽፈራው ዛፍማ ለኛ ብዙ ፋይዳ አለው ።'],\n",
       " ['ገሚሶቹ ከከተማ ወደ ገጠር ወጥተዋል ፡፡\\tገሚሶቹ ኢትዮጵያዉያን ፣ ገሚሶቹ ደግሞ ስደተኞች ናቸዉ ።'],\n",
       " ['“ሚኒስቴር” ማለት የፍትሕ ሚኒስቴር ነው ፤ ።\\tየአሜሪካው ውጭ ጉዳይ ሚኒስቴር ት ።'],\n",
       " ['የኢትዮጵያ ብሔራዊ ምርጫ ቦርድ 6ተኛዉ አገር አቀፍ ምርጫን ለማካሄድ ዝግጅት እያደረገ መሆኑን ገለፀ ::\\tየኢትዮጵያ ብሔራዊ ምርጫ ቦርድ አስፈላጊውን ዝግጅት አጠናቋል ፡፡'],\n",
       " ['የትግራይ ብሄራዊ ክልላዊ መንግስት ኮሚኒኬሽን ጉዳዮች ቢሮ ።\\tየትግራይ ክልል ኮምዩኒኬሽን ጉዳዮች ቢሮ ።'],\n",
       " ['(ስለ ውበት)· ውብ ነገሮች ባይፈቀሩ እንኳን ሊደነቁ ግድይላል ።\\t· ውብ ነገሮች ባይፈቀሩ እንኳን ሊደነቁ ግድ ።'],\n",
       " ['ለዚህ የኃላፊነት ቦታ የሚወዳደሩት ሴቶች ብቻ ናቸው ።\\tበአሁኑ ጊዜ ከጌዲያ በተጨማሪ ስድስት ሴቶች ለዚህ የኃላፊነት ቦታ እየተወዳደሩ ይገኛሉ ።'],\n",
       " ['ምርጫ 2012 - የዩናይትድ ስቴትስ ፕሬዝዳንታዊ ምርጫ ክርክር ሲተነተን ፤ ።\\tምርጫ 2012 - የዩናይትድ ስቴትስ ፕሬዝዳንታዊ ምርጫ በሳምንቱ አጋማሽ ተጠናቀቀ ።'],\n",
       " ['ይኸ ጉዳይ አልፎ አልፎ ሊሆን የሚችል ነገር ነው ፡፡\\tየሞጣ ሰው እንደሆነች አልፎ አልፎ ስታወራ እሰማ ነበር ፡፡'],\n",
       " ['ችግሩ የመረጃ እጥረት አይደለም ።\\tግን ይህ ብቻ አይደለም ችግሩ ።'],\n",
       " ['አሳዛኝ ወቅት ላይ ነን ።\\tይህን አሳዛኝ ታሪክ . ።'],\n",
       " ['ይህ ገጽ መጨረሻ የተቀየረው እ.ኣ.አ በ18 :55 ፣ 29 ጁላይ 2013 ዓ.ም. ነበር ።\\tይህ ገጽ መጨረሻ የተቀየረው እ.ኣ.አ በ19 :23 ፣ 1 ጁላይ 2009 ዓ.ም. ነበር ።'],\n",
       " ['እነዚህ ቀላል የአካል ጉዳት እና ከባድ የአካል ጉዳት በሚል የተከፈሉ ናቸው ፡፡\\tለ. ዘላቂ ከፊል የአካል ጉዳት ፡- ።'],\n",
       " ['የአሰልጣኞች አስተያየት | ቅዱስ ጊዮርጊስ 1-1 ፋሲል ከነማ ።\\tቅዱስ ጊዮርጊስ የኢትዮጵያ . ።'],\n",
       " ['የወያኔ ጉዳይ ሌላ የኢትዮጵያ ጉዳይ ደግሞ ሌላ የሚለውን ልቀበል የምችለው እዚህ ላይ ነው ።\\t“ ማድረግ የምችለው ሌላ ነገር ነበር ?'],\n",
       " ['ይሁን ግድ የለም ፤ አይከፋኝም ፡፡\\tይሁን ግድ የለም ፤ ደህና ፡፡'],\n",
       " ['ወይ ጉድ ወይ ጉድ . አሁን ምን ይባላል ?\\tወይ ጉድ ማስጠንቀቂያ በማስጠንቀቂያ ሆኗል ፌስቡክ ።'],\n",
       " ['ፍትህ ፍትህ ግፈኞችን ሳይሆን ግፍን ነው መፍራት ።\\tፍትህ ለተማሪዎች ፣ ፍትህ ለትምህርት ።'],\n",
       " ['የውይይቱን ሁለተኛ ክፍል ለመስማት ማጫወቻውን ይጫኑ ።\\tሁለተኛውን ክፍል ለመስማት ከዚህ በታች ያለውን ይጫኑ ፤ ።'],\n",
       " ['በመሆኑም ፣ ሥነ-ጽሑፋዊ ሂስ ለሥነ-ጽሑፍ ሕልውና ጉልህ ሚና አለው ።\\tእኔ በበኩሌ ፣ ለሥነ-ጽሑፋዊ ሂስ እማልዳለሁ !'],\n",
       " ['እኔ ፡ እግዚአብሔር፡ ይመስገን፡ ደህና ነኝ ።\\tደኅና : እግዚአብሔር : ይመስገን ::'],\n",
       " ['በዶ/ር መረራ ጉዲና ላይ የሚመስክሩት ማንነታቸው እንዳይታወቅ ተደረገ ።\\tበዶ/ር መረራ ጉዲና ላይ ፖሊስ ተጨማሪ 28 ቀን ጠይቆ ተፈቀደለት ።'],\n",
       " ['የደቡብ ክልል ምክትል ርዕሰ መስተዳድር አቶ ርስቱ ይርዳ በበኩላቸው ፥\\tየአማራ ክልል ምክትል ርእሰ መስተዳድር አቶ ላቀ አያሌው በበኩላቸው ፥'],\n",
       " ['ዕሁድ ፡- ከምሽቱ ሦስት ሰዓት የአማርኛ ዜና - ኤፕሪል 18, 2021 ።\\tሰኞ ፡-ከምሽቱ ሦስት ሰዓት የአማርኛ ዜና - ኖቬምበር 28, 2022 ።'],\n",
       " ['አርቴላይም ስለዚሁ ጉዳይ ለመናገር ፈቃደኛ አለመሆናኑን አሳዉቆዋል ።\\tዳንኤል ደጀኔ 2015 00 :10 የእርስዎ አስተያየት በጣም ደስ ይላል ድል ለእርሳቸዉ እመኛለሁ ።'],\n",
       " ['• አምባገነኖች ፤ ቤተመንግስት በዕጣ የደረሳቸው ኮንዶሚኒየም ይመስላቸዋል ።\\t(ቤተመንግስት በዕጣ የደረሳቸው ኮንዶሚኒየም የሚመስላቸው !'],\n",
       " ['ከፖለቲካ ቅኝ-ግዛት በለጠ አደገኛው የቴክኖሎጂ ቅኝ-ግዛት ነው ።\\tለ50 ዓመት በዚህ ሁኔታ ኤርትራ ቅኝ ግዛት ሆነች ፡፡'],\n",
       " ['ጥጥ እና ተዛማጅ ንግድ 14,000 10,000 24,000 ።\\tየህክምና አገልግሎቶች 19,000 10,000 29,000 ።'],\n",
       " ['በአጠቃላይ በቫይረሱ የተያዙ ሰዎች ቁጥር 40 ደርሷል ።\\tበአጠቃላይ በቫይረሱ የተያዙ ሰዎች ቁጥርም 15200 ደርሷል ።'],\n",
       " ['ያኔ ሁላችንም ዘረኛ እንደሆንን ይታየናል ።\\tሁላችንም አብረን ዘረኞች እንደሆንን ሁሉ ፥'],\n",
       " ['በላ ልበልሀ ከጥቂት ደቂቃዎች በኃላ በቀጥታ ስርጭት ይቀርባል ።\\tፓለቲካችን መደበኛ ፕሮግራም ከጥቂት ደቂቃዎች በኃላ ።'],\n",
       " ['የኢትዮጵያ የሕዝብ ተወካዮች እና የፌደሬሽን ምክር ቤት አባላት ትናንት የወደፊቱን የኢትዮጵያ ፕሬዝዳት መርጠዋል ።\\tየኢትዮጵያ የህዝብ ተወካዮች ምክር ቤት ስብሰባ ።'],\n",
       " ['በወንድወሰን አረጋኸኝ እና በይስማው አደራው ።\\tበይስማው አደራው ፤ ተጨማሪ መረጃ ከባህር ዳር ዩኒቨርሲቲ ።'],\n",
       " ['መታመንም ፍቅር ነው ፤ መታመንን መቀበል ፍቅር ነው ።\\tእሺም ፍቅር ነው እንብኝም ፍቅር ነው ።'],\n",
       " ['በዚያን ጊዜ እንዲህ አላቸው ።\\tእርሱም መልሶ እንዲህ አላቸው ።'],\n",
       " ['የአዲስ አበባ ነጋዴዎች ምሬት ።\\t\" የአዲስ አበባ ነዋሪዎች... ።'],\n",
       " ['መልካም አቅጣጫ ላይ ነች ፤ ።\\tሕዝብ ያሻውን ይምረጥ ለነገሩ ነፃ ፣ ፍትሃዊና ዴሞክራሲያዊ ምርጫ ከተካሄደ ብልጽግና ሊያሸንፍ አይችልም ፡፡'],\n",
       " ['ለመሆኑ ድርጅትዎ ፖለቲካውን እርግፍ አድርጎ ትቷል ወይስ ።\\t* አሁን ግን ለአንዴና ለመጨረሻ ጊዜ ጦርነትን እርግፍ አድርጎ ትቷል ።'],\n",
       " ['ስንት ግፍ ሲሰራ እያየህ ዝም ።\\tስንት ዘረፋ ሲካሄድ እያየህ ዝም ፡፡'],\n",
       " ['ለምሳሌ አንድ ሰው ኦሮሞ ነኝ ሲል ፣ ኦሮምኛ ተናጋሪ በመሆኑ ነው ?\\t60 ኦሮምኛ ተናጋሪ ሕዝብ ኦሮሞ አለመሆኑን ዱሮም ተናግረናል ።'],\n",
       " ['በቅርቡ የሽግግር አመቻች ኮሚቴው ጡረተኛውን የጦር መኮንን ባ ንዳውን ፕሬዝዳንት አድርጎ መሰየሙን መረጃው አስታውሷል ፡፡\\tየማሊ የሽግግር ኮሚቴ ጡረተኛውን የጦር መኮንን ባ ንዳውን በፕሬዝዳንትነት ሰየመ ፡፡'],\n",
       " ['ስለዚህ አንድ ጥያቄ ጣል አደረገ ፤ “ሚስትር ሾ፤ አበባ የምትወድ ይመስለኝ ነበር”ሾ… ።\\tስለዚህ አንድ ጥያቄ ጣል አደረገ ፤ ።'],\n",
       " ['ባለፋት 24 ሰዓታት የ12 ሰዎች ሕይወት አልፏል ፤አጠቃላይ የሟቾች ቁጥርን 1,882 አድርሶታል ።\\tባለፋት 24 ሰዓታት የ13 ሰዎች ሕይወት አልፏል ፤ አጠቃላይ የሟቾች ቁጥርን 1,831 አድርሶታል ።'],\n",
       " ['አማርኛ ከተነገረ አፋን ኦሮሞ የሚጠፋ ይመስላቸዋል ።\\tአማርኛ እና አፋን ኦሮሞ የኦሮሚያ ክልል የሥራ ቋንቋ ይሆናሉ ።'],\n",
       " ['ሥራ ፡- ም/ዋና ዐ/ሕግ ።\\tከዚህ ውስጥ ዋና ዋና ምክንያቶቹ ፥'],\n",
       " ['በተለይም ለተፈጠረው ችግር መቃለል የበኩላቸውን ገንቢ ሚና እንዲጫወቱ መንግሥት በድጋሚ ጥሪውን አቅርቧል ።\\tለተፈጠረው ችግር መቀረፍ የበኩላቸውን ገንቢ ሚና እንዲጫወቱ መንግሥት በድጋሚ ጥሪውን ያቀርባል ።'],\n",
       " ['በቻይና መንግስት ሙሉ ወጪ ተገንብቶ ለአፍሪካ ህብረት የተበረከተው አዲስ ህንጻ በተመረቀበት ወቅት የአፍሪካ… ።\\tአፍሪካ ህብረትና የተባበሩት መንግሥታት የብሩንዲ ምርጫ እንዳሳሰባቸው ገለፁ ።'],\n",
       " ['ሠላሳ ዓመት ሲሞላን ዓለም ሁሉ “ስለ እኛ ምን እያሰበ ይሆን !\\tአርባ ዓመት ሲሞላን ግን ዓለም ስለ እኛ ቅንጣት ያህል እንደማያስብ ይገባናል ፡፡'],\n",
       " ['መጋቢት 28 ፣ 2012/ በኢትዮጵያ በኮሮና ቫይረስ የተያዙ ሰዎች ቁጥር 44 ደረሰ ።\\tበአጠቃላይ በኢትዮጵያ በኮሮና ቫይረስ የተያዙ ሰዎች ቁጥር ደግሞ 17530 ደርሷል ፡፡'],\n",
       " ['ጥቂት ጥቂት እያደረጉ . ።\\tትዳር ማለት ጥቂት ዕውቀትና ጥቂት ሐሳብ ይዘው ገብተው ፣ እየኖሩ የሚማሩበት ትምህርት ቤት ነው ፡፡'],\n",
       " ['”“ከእኔ እና ከጌደ ሞፓሳ ማን ይበልጣል ?\\t“ከእኔ እና ከጌ ደ ሞፓስ ማን ይበልጣል ?'],\n",
       " ['እንኳን ለጌታችን ለኢየሱስ ክርስቶስ የልደት በአል አደረሳችሁ ።\\tለመላው የክርስትና እምነት ተከታዮች : እንኳን ለኢየሱስ ክርስቶስ የልደት በዓል በሰላም አደረሰን !'],\n",
       " ['ለዚህ ነው መተከል ላይ የተቀነባበረ ግድያ እየተፈፀመ ያለው !\\tበወያኔ ላይ አዲስና የተቀነባበረ ጥቃት እየተፈፀመ ነው ተባለ) - - ።'],\n",
       " ['ሙሉውን መጽሔት በፒዲኤፍ ለማንበብ እዚህ ይጫኑ !\\tሙሉውን ለማንበብ እዚህ ክሊክ ያድርጉ በ 10 :33 !'],\n",
       " ['ትግራይ ፡ የአሜሪካው የውጭ ጉዳይ ሚንስትር እና ጠቅላይ ሚንስትር ዐብይ መወያየታቸው ተነገረ ።\\tጠቅላይ ሚንስትር ዐብይ አሕመድ እና የአሜሪካ የውጪ ጉዳይ ሚንስትር አንቶኒ ብሊንከን ።'],\n",
       " ['የ2010 በጀት ዓመት የ9 ወራት የዕቅድ አፈፃፀም ግምገማ ተካሄደ ።\\tአርባ ምንጭ ዩኒቨርሲቲ የ2009 የትምህርት ዘመን የ6 ወራት የዕቅድ አፈፃፀም ግምገማ አካሄደ ።'],\n",
       " ['አሁን ግን ፤ ከባድ ነው፤ አሳሳቢ ነው ፡፡\\tአገር ውስጥ ከባድ ነው ፡፡'],\n",
       " ['311) ሀብቴ ቸኮል (የቤተሰብ ብዛት 2) ።\\t323)ሀብቴ ሞላ (የቤተሰብ ብዛት 4) ።'],\n",
       " ['የመንግሥቱ ሥራ ምን ያህል እየተስፋፋ እንዳለ የሚያሳይ ሌላም ምሳሌ እንመልከት ።\\tያንን የሚመጥን የውስጥ ተቋማዊ ፍተሻነው የተደረገው ፡፡'],\n",
       " ['የፈረንሣይ አየር መንገድ አውሮፕላን ተጠርጣሪ ቦምብ በመገኘቱ ሞምባሳ ኬንያ አረፈ ።\\tበሌሊት በረራ ወቅት በውስጡ ተጠርጣሪ ቦምብ በመገኘቱ ፥'],\n",
       " ['የመጽሐፍ ቅዱስን መሠረታዊ ሥርዓቶች ማወቅና ተግባራዊ ማድረግ ጠቃሚ ነው ።\\tየመጽሐፍ ቅዱስን መሠረታዊ ሥርዓቶች በሥራ ላይ ሲያውል ግን ቀስ በቀስ ለውጥ አደረገ ።'],\n",
       " ['የወያኔ ወሮበላ የዘራፊ ቡድን ስብስብ የጥላቻ መርከብ እየሰመጠ ነውን ?\\tየወያኔ ወሮበላ የዘራፊ ቡድን ስብስብ አመራሮችም የኢትዮጵያ ህዝብ ላይ ተመሳሳይ አመለካከት ሊኖራቸው ይችላል ።'],\n",
       " ['እውነትም ይህች ሀገር ወዴት እየሄደች ነው ?\\tእቺ ሀገር ወዴት እየሄደች ነው የሚሉ ሰዎች ግን ሰሞኑን ማለት ትተዋል ፤ ደረስን እንዴ ?'],\n",
       " ['ነገር ግን እንከን የለሽ ደግሞ አይደለም ፡፡\\tእናንተ ደግሞ “እንከን የለሽ ነው” ብላችኋል-- ።'],\n",
       " ['አስ/ደ/የሥራ ሂደት ቢሮ ቁጥር 5 በዚሁ ቀን በ4 ፡00 ይከፈታል፡፡\\tንብ/አስ/የስራ ሂደት ክፍል ቢሮ ቁጥር 4 በ15ኛው ቀን 9 ፡0ሰዓት ይከፈታል ።'],\n",
       " ['/ሙሉ ዘገባውን ከተያይዘው ፋይል ይከታተሉ/ ።\\t/ሙሉ ዘገባውን ከተያያዘው የምስል ፋይል ይከታተሉ/ ።'],\n",
       " ['ባህር ዳር ወደ ፍቅር ።\\tአስራት ካሳሁን=>ባህር ዳር ።'],\n",
       " ['አማራ ሚዲያ ማዕከል/አማሚ ታህሳስ 6 ቀን 2013 ዓ.ም አዲስ አበባ ሸዋ በሳዑዲ አ ።\\tአማራ ሚዲያ ማዕከል/አሞማ ታህሳስ 20 ቀን 2 ።'],\n",
       " ['ሰኞ ፡-ከምሽቱ ሦስት ሰዓት የአማርኛ ዜና - መጋቢት 09, 2020 ።\\tሐሙስ ፡-ከምሽቱ ሦስት ሰዓት የአማርኛ ዜና - ሜይ 06, 2021 ።'],\n",
       " ['ሕይወታቸውን ለአደጋ የሚያጋልጥ ቢሆንም እንኳ ምሥራቹን በድፍረትና በቅንዓት አውጀዋል ።\\t“የሀገርና ህዝብን ሰላምና መረጋጋት ከማስፈን አንፃር ፤ ።'],\n",
       " ['እማሆይ የውብ ሰፈር አሳዬ ፡ መጀመሪያ መምህር ነው የነበረው ሌላ ቦታ ።\\tእማሆይ የውብ ሰፈር አሳዬ ፡ ባህሪው ጥሩ ነው ፣ የተለየ ባህሪ የለውም፣ የታወቀ ነው ።'],\n",
       " ['ለመሆኑ ተሰናባቹ ኡናይ ኤምሪን ማን ሊተካቸው ይችላል ?\\t• ተሰናባቹ ኡናይ ኤምሪን ሊተኳቸው የሚችሉ 7 አሰልጣኞች ።'],\n",
       " ['ለመገመት እጅግ በጣም ከባድ ነው ።\\tይህም ለመገመት ከባድ ከሆኑት ጨዋታዎች አንዱ ነው ።'],\n",
       " ['የሚከተሉት ገጾች ወደ የብራዚል ሰንደቅ ዓላማ ተያይዘዋል ።\\tየሚከተሉት ገጾች ወደ የአርጀንቲና ሰንደቅ ዓላማ ተያይዘዋል ።'],\n",
       " ['የእስራኤል አምላክ መድኃኒት ሆይ ፥\\tየእስራኤል ቤት ሆይ እነሆ እኔ ሕዝብን አስነሣባችኋለሁ ይላል የሠራዊት አምላክ እግዚአብሔር ፤ ።'],\n",
       " ['ኢንሻ አላህ አንድ ቀን ቶሞካን አዘግተን እንጠጣለን !\\tኢንሻ አላህ አላህ የተሻለውን ቀን ያምጣልን ?'],\n",
       " ['የሴቶች የሰላም ኮንፈረንስ በባህር ዳር ከተማ እየተካሄደ ነው ።\\tሃገር አቀፍ የባህል ማዕከላት የልምድ ልውውጥ ፕሮግራም በባህር ዳር ከተማ እየተካሄደ ነው ።'],\n",
       " ['የእግዚአብሔር አምላካችን ስም የተመሰገነ ይሁን !\\tመልካም ፤ እግዚአብሔር አምላካችን የተመሰገነ ይሁን ፡፡'],\n",
       " ['የጨረታ ሰነዱን ቢሮ ቁጥር 02 መግዛት ይችላሉ ፡፡\\tበመሆኑምበመክፈል የጨረታ ሰነድ ቢሮ ቁጥር 03 በመምጣት መግዛት ይችላል ፡፡'],\n",
       " ['– እንዲሁም የህግ ታራሚዎች ሆናችሁ በየማረሚያ ቤቱ የምትገኙ ኢትዮጵያውያት በሙሉ ፣ ።\\t– እንዲሁም የሕግ ታራሚዎች ሆናችሁ በየማረሚያ ቤቱ የምትገኙ ።'],\n",
       " ['አማራ ክልል እኮ ነው ?\\tአባት ሃገር አማራ - ቤተ አማራ ።'],\n",
       " ['ይህን ተከትለሎም በኢትዮጵያ የኮሮና ቫይረስ የተገኘባቸው ሰዎች ቁጥር 74 ደርሷል ።\\tበኢትዮጵያ የኮሮና ቫይረስ የተገኘባቸው ሰዎች ቁጥር ወደ 65 ከፍ ብሏል ።'],\n",
       " ['የካቲት 26 ቀን 2009 ዓም ።\\tአገልግሎቱ የካቲት 26 ቀን 2013 ዓ.ም ማለትም ከ9 ቀን በኋላ እንደሚጀምር ጨምረው ገልፀዋል ፡፡'],\n",
       " ['▪ ቅዱስ መሆን ያለብን ለምንድን ነው ?\\tአምላክንና ባልንጀራችንን መውደድ ያለብን ለምንድን ነው ?'],\n",
       " ['’ የውጭ ምንዛሬ ግኝት ማበረታቻ እጣ... ።\\t’ የውጭ ምንዛሬ ግኝት ማበረታቻ እጣ ለባለ ዕድለኞች ወጣ ።'],\n",
       " ['አይኔ እያየ እዚህ ወስጥ አልገባም ብሎ ንግግሩን ሳይጨርስ ተከታታይ የጥይት ድምጽ ሰማ ።\\t“አይኔ እያየ እዚህ ወስጥ አልገባም” ብሎ የተናገረዉ የራሱ ድምጽ ጆሮዉ ላይ አቃጨለበት ።'],\n",
       " ['ሲጀመር ፣ ተአምራት ከዓለማዊ ህግና ከአመክንዮ ውጭ የሆኑ ክስተቶች ናቸው ፡፡\\tሚኒስቴሩ የሰላም እሴትን ለማስረፅና አገራዊ ለውጡን ለማስቀጠል ያስችላል ።'],\n",
       " ['ለዚህ እትም ሴቶች ጤናቸውን ረገድ የታዩ አበረታች ነገሮችንና ጤናቸውን መጠበቅ የሚችሉባቸውን 10/ መንገዶች እናስነብባችሁ..ለን ፡፡\\tሴቶች ጤናቸውን መጠበቅ የሚችሉባቸው 10 መንገዶች ፡- ።'],\n",
       " ['የሐሙስ ግንቦት 20 ቀን 2012 ዓም የዜና መጽሔት ።\\tየዜና መጽሔት ፤ ነሐሴ 1፤ ቀን ፤ 2012 ዓ.ም አርብ ።'],\n",
       " ['የአርብ ሐምሌ 3 ፣ 2012 ዓም የዓለም ዜና ።\\tየአርብ ሰኔ 26 ቀን 2012 ዓም የዜና መጽሔት ።'],\n",
       " ['መልስ ይሄ የመጀመሪያ እርምጃ ነው ።\\tየመጀመሪያ እርምጃ : ጥሩ ጅምር::'],\n",
       " ['በአማራ ክልል የተለያዩ ከተሞች የተቃውሞ ሰልፍ ተካሄደ ።\\tበአማራ ክልል የተለያዩ ከተሞች ሰላማዊ ሰልፍ ።'],\n",
       " ['በርካታ ዓለም አቀፍ ኩባንያዎች እንደመገኘታቸው መጠን ኢትዮጵያ የስበት ማዕከል መሆኗን ማሳየት ያስፈልጋል ፡፡\\tነገ እአአ አፕሪል 1 ሲሆን \"አፕሪል ዘ ፉል\" በሚል ስያሜ ቀልዶች ይነገሩበታል ፣ ይፃፉበታል !'],\n",
       " ['የኛ ዴሞክራሲ የእንግሊዝ ስርዓት ነው ፤ ለጊዜው ሊያገለግል ይችላል ።\\t( ሀ) “በሕጉ ዙሪያ ያለው አጥር ” ከንቱ ሆኖ የቀረው ለምንድን ነው ?'],\n",
       " ['ትኩረት የሚሹ የቆላማ አካባቢ በሽታዎች ምርምርና ሥልጠና ማዕከል ዓውደ ጥናት አካሄደ ።\\t‹‹የተዘነጉ የቆላማ አካባቢ በሽታዎች የትብብር ምርምርና ሥልጠና ማዕከል›› በጥናትና ምርምር አበረታች ጅምሮችን ማከናወኑ ተገለጸ ።'],\n",
       " ['እኔ ደህና ነኝ መላኬ ።\\t“ እኔ በጣም ደህና ነኝ እንዲሁም ደስተኛ ነኝ ።'],\n",
       " ['እንኳን ለትንሣኤዉ በሰላም አደረሰን ።\\tእንኳን ለግንቦት 20 በዓል በሰላም አደረሰን !'],\n",
       " ['ይሖዋን ማገልገል ደስታ ያስገኝልናል ።\\tይሖዋን በነጻነት ማገልገል እችላለሁ ።'],\n",
       " ['አንድ አድርገን 2 :47 5 !\\tአንድ አድርገን 12 :42 2 !'],\n",
       " ['“አዎ ፣ ምን ሆነች ?\\tአዎ ... እሱ ነው ፡፡'],\n",
       " ['አንዳንዶች አብይ ካልመራ ሌላ ሊመራ የሚችል የለም እያሉ ሲያወናብዱ እንሰማለን ።\\tየሚሰጠው ብድር ከሰበሰበው ቁጠባ ጋር ካለመመጣጠኑም ባለፈ ከፍተኛ መድሎ የታየበትም ነበር ።'],\n",
       " ['በተለይ ተወካይ ነን ለምትሉት !\\tየህዝብ ተወካይ ኮ ነው ፡፡'],\n",
       " ['ሰኞ ፡-ከምሽቱ ሦስት ሰዓት የአማርኛ ዜና - ሚያዚያ 20, 2020 ።\\tረቡዕ ፡-ከምሽቱ ሦስት ሰዓት የአማርኛ ዜና - ሰኔ 17, 2020 ።'],\n",
       " ['አንድ ሰው የሚያምነው ነገር ውሸት ሊሆን ይችላል ።\\tወይም የኸ ሪፖርት ውሸት ሊሆን ይችላል ።'],\n",
       " ['ሕገ-ወጥ አዳኞች (ገቢር 3 ከትዕይንት 1 እስከ 4) ።\\tሕገ-ወጥ አዳኞች (ገቢር 4 ትዕይንት 4) ።'],\n",
       " ['ሲ ኤን ኤን ፕሬዘዳንቱ በጉዳዩ ዙሪያ ሀገሪቱን […] ።\\tሪፖርቱ በቀረበበት ወቅት ደግሞ ኢ ኤን ኤን ቴሌቪዥን ጣቢያ አለመቋቋሙም ይታወቃል ።'],\n",
       " ['የተባበሩት መንግሥታት ድርጅት የፀጥታዉ ጥበቃ ምክር ቤት ሩሲያን እንዲያወግዝ ዩክሬን ጠይቃ ነበር ።\\tየተባበሩት መንግሥታት የፀጥታዉ ጥበቃ ምክር ቤት ከ2012 ጀምሮ (ዘመኑ በሙሉ እንደ ጎርጎሪያኑ አቆጣጠር ነዉ ።'],\n",
       " ['ለመላው የክርስትና እምነት ተከታዮች በሙሉ እንኳን ለብርሃነ ጥምቀቱ በሰላም አደረሳችሁ !\\tለመላው የክርስትና እምነት ተከታዮች በሙሉ እንኳን ለጌታችን ለእየሱስ ክርስቶስ የልደት በዓል አደረሳችሁ ።'],\n",
       " ['40 ሺህ ከፍታ ላይ ።\\tየኢትዮጵያ ከፍታ የሚል . ።'],\n",
       " ['እረኝነት ከማድረጌ በፊት ስላሉበት ሁኔታ ማሰቤ በወቅቱ የሚያስፈልጋቸውን ማበረታቻ ለመስጠት ቀላል እንዲሆንልኝ አድርጓል ።\\tጉራጌ ኦሮሚያ ውስጥ የትም ሄዶ ለመስራት የማንም ፍቃድ አያስፈለገውም ።'],\n",
       " ['በዚህ ዘዴ መስራታቸውም ውጤታማ አድርጓቸዋል ።\\tይህ ዘዴ ውጤታማ ነበር የምንለው ለምንድን ነው ?'],\n",
       " ['ዕሁድ ፡- ከምሽቱ ሦስት ሰዓት የአማርኛ ዜና - ሴፕቴምበር 04, 2022 ።\\tሐሙስ ፡-ከምሽቱ ሦስት ሰዓት የአማርኛ ዜና - ጃንዩወሪ 21, 2021 ።'],\n",
       " ['እሱም አላረፈም ፤ የትኛው ዲግሪ ይሻላል ?\\tዔሳውም የአባቱን ቃል በሰማ ጊዜ ታላቅ እጅግም መራራ ጩኸት ጮኸ አባቱንም ።'],\n",
       " ['የአመቱ ገብርኤል እንኳን አደረሳችሁ ?\\tእንኳን አደረሳችሁ ፤ መልካም አዲስ ዓመት !'],\n",
       " ['ይሄንን ሲነግሩት ከቆዩ በኋላ ሃላፊነትን አንዴ አስመራ አንዴ ኦነግ . ።\\tየህዳር 27ቱ ድርጊት ሊያበረታን እንጂ ከትግላችን ሊገታን አይገባም ፡፡'],\n",
       " ['ለጨረታ ማስከበርያ ያስያዘው አራት መቶ ሺህ ብርም ቀልጧል ፡፡\\tለጨረታ ማስከበርያ ያስያዘው 3መቶ ሺህ ብር ቀልጧል ፡፡'],\n",
       " ['የአዉሮጳ ኅብረትን ያወዛገበዉ የስደተኞች ጉዳይ ።\\tየአዉሮጳ ኅብረትና የስደተኞች ጉዳይ ።'],\n",
       " ['መግለጫውን የተከታተለው ዘጋቢያችን ጌታቸው ተድላ ኃይለ ጊዮርጊስ ከአዲስ አበባ ዝርዝሩን ልኮልናል ።\\tከመቀሌ ዘጋቢያችን ሚሊዮን ኃይለ ሥላሴ ዝርዝሩን ልኮልናል ።'],\n",
       " ['ወደ መገንጠል ወይም ሌላ አማራጭ የሚሄድ አይደለም ።\\tግን ሌላ አማራጭ የለም ፡፡'],\n",
       " ['መንፃት አንችልም ማለት ግን አይደለም !\\tይህ ማለት ግን እርሱ ብቻ ነው ማለት አይደለም ፡፡'],\n",
       " ['እናላችሁ… ዘንድሮ… አለ አይደል… “አንተ ምነው ባለቤትህ ከሳችብኝ !\\tእናማ… “አንተ ምነው ባለቤትህ ከሳችብኝ !'],\n",
       " ['የኢትዮጵያ ኦርቶዶክስ ተዋሕዶ ቤተክርስትያን “መጽሐፈ ቅዳሴ” ወደ ኦሮምኛ ቋንቋ ተተረጎመ ፡፡\\t“መጽሐፈ ቅዳሴ” ወደ ኦሮምኛ ተተረጎመ ።'],\n",
       " ['ያገኘናቸውም የፓሊስ ባልደረቦች “መረጃ የምንሰጠው በህዝብ ግንኙነት በኩል ነው ።\\tአሁን የምንሰጠው መረጃ የለም ።'],\n",
       " ['ስለዚህ ብዙዎቻችን የዚህ አይነት አካሔድ ስላልተለመደ በገንዘቤ ፣ በገዛ ንብረቴ ለምን አላፈርስም ?\\tበሶቪየት ኅብረት ሰዎች አንድ ነገርን ስለመግዛት አይናገሩም (ኩፒት ይሉታል) ።'],\n",
       " ['የአዲስ አድማስ ጋዜጠኛ አለማየሁ አንበሴ ፤ በዚህ ጉዳይ ላይ የተቃዋሚ ።\\tበዚህና ተያያዥ ጉዳዮች የአዲስ አድማስ ጋዜጠኛ አለማየሁ አንበሴ ፣ የኢትዮጵያ ብሮድካስት ባለስልጣን ም/ዳይሬክተር የሆኑትን… ።'],\n",
       " ['1947 (ዘመኑ በሙሉ እንደ ጎርጎሪያኑ አቆጣጠር ነዉ ።\\t2011 (ዘመኑ በሙሉ እንደ ጎርጎሮሳዉያኑ አቆጣጠር ነዉ) ሥልጣን ያዙም ።'],\n",
       " ['በቤኒሻንጉልና በኦሮሚያ መካከል የፌድራል የጸጥታ አስከባሪዎች ሊሰፍሩ ነው ።\\tበቤኒሻንጉል ጉሙዝና በኦሮሚያ መካከል የፌድራል መንግሥት የጸጥታ አስከባሪዎች ሊሰፍሩ ነው ።'],\n",
       " ['አንድ ሰው ስለ ብዙዎች ውክልና ሳይሰጠው ማውራት አይችልም ።\\tሰው የኖረበትን ማውራት አይችልም ?'],\n",
       " ['እኔ ምንም የለም ፣ ምንም አ ።\\t፤ ምንም ነገር አልነበረውም ።'],\n",
       " ['ሐሙስ ፡-ከምሽቱ ሦስት ሰዓት የአማርኛ ዜና - ሰኔ 25, 2020 ።\\tሰኞ ፡-ከምሽቱ ሦስት ሰዓት የአማርኛ ዜና - ኤፕሪል 19, 2021 ።'],\n",
       " ['አሁን የተለያዩ ሰዎች ስንት ሰዓት እንደሆነ ሲነጋገሩ በማዳመጥ እርስዎ ካሉት ጋር ያመሳክሩ ።\\tአሁን የተለያዩ ሰዎች መቼ እንደተጋቡ ሲጠያየቁ ያዳምጡና እርስዎ ካሉት ጋር ያመሳክሩ ።'],\n",
       " ['ይህ አንዱ ትልቅ ችግር ነው ።\\tእርግጥ ነው ትልቅ ስልጣን ፣ ትልቅ ኃይል ያለበት ቦታ ነው ።'],\n",
       " ['ችግሩ አወሳሰዱ ላይ ነው - ወይ ይበዛል ወይ ያንሳል ፡፡\\tይሖዋ በእነርሱ ላይ እርምጃ ሲወስድባቸው “ምልክታቸውን ” ማለትም ያላቸውን ድምቀት እና ደረጃ ከጉዳይ አይጥፈ\\u2060ውም ።'],\n",
       " ['ቢንያም እድሜው በ30ዎቹ መጨረሻ አካባቢ ነው ፡፡\\tሁለተኛ ደግሞ በአገሪቱ ውስጥ አሁን ፕሮጀክቶች ቀንሰዋል ።'],\n",
       " ['የተሸከርካሪ አደጋ የሦስተኛ ወገን መድን ሽፋን የሚሰጡ ተቋማት ።\\tበሀገራችን የተሸከርካሪ አደጋ የሦስተኛ ወገን መድን ሽፋን ብቻ የሚሰጡ ድርጅቶች የሉም ፡፡'],\n",
       " ['- ጠቅላይ ሚኒስትር ዶ/ር አቢይ ጌድኦ ገብተዋል ፡፡\\tጠቅላይ ሚኒስትር ዶክተር አቢይ አህመድ ሃዋሳ ገቡ ።'],\n",
       " ['ረዥሙ የስደት ዘመን ተጠናቀቀ[ ለማስተካከል | ኮድ አርም ] ።\\tየሥልጣን ፍጻሜ[ ለማስተካከል | ኮድ አርም ] ።'],\n",
       " ['ማክሰኞ ፡- ከምሽቱ ሦስት ሰዓት የአማርኛ ዜና - ኤፕሪል 20, 2021 ።\\tቅዳሜ ፡-ከምሽቱ ሦስት ሰዓት የአማርኛ ዜና - ኖቬምበር 26, 2022 ።'],\n",
       " ['የሐሙስ ግንቦት 6 ቀን 2012 ዓም የዓለም ዜና ።\\tየሐሙስ መጋቢት 23 ቀን 2013 ዓም የዓለም ዜና ።'],\n",
       " ['በዐቃቤ ሕግ ውሳኔ ቀዳሚ ምርመራ የሚደረግባቸው ወንጀሎች አንቀጽ 80(2) ።\\tበዐቃቤ ሕግ በኩል የሚቀርበው ቀዳሚ ምርመራ ይደረግልን ክስ አይደለም ፡፡'],\n",
       " ['የካቲት 5 ቀን 2009 ዓም ።\\tሐምሌ 14 ቀን 2009 ዓም ።'],\n",
       " ['እሱ ተጽኖ ያደረገበት(ለት) አስተዳደጉ እንጂ ራሴ ልሁን ብሎ አደልም ባይ ነኝ ፡፡\\t5ኛው የህዝብ ተወካዮች ም/ቤት ልዩ ስብሰባን አስመልክቶ የአዲስ አበባ ነዋሪዎች አስተያየት ።'],\n",
       " ['ኢትዮ ኤፍ ኤም :- የጮቄ ተራራ አጠቃላይ ገጽታው ምን ይመስላል ?\\tኢትዮ ኤፍ ኤም የኢትዮጵያን ።'],\n",
       " ['አማራ አማራ የሚሉ ሰዎች አማራ በኢትዮጵያውያን ሁሉ የተጠላ አስመሰሉት ።\\tነው የ አ.አ አበባ አማራ አማራ አይደለም ?'],\n",
       " ['እንግዲህ በዚህ ሁኔታ ውስጥ ነው ፤ ።\\tእንግዲህ በጥሩ ሁኔታ እየተንቀሳቀስን ነው ፡፡'],\n",
       " ['የሊቨርፑል ደጋፊዎች በድጋሚ እንኳን ደስ አላችሁ !\\tሙስሊም ወንድም እህቶቻችን እንኳን ደስ አላችሁ !'],\n",
       " ['መልካም የገና በዓል ለመላው ክርስቲያን እምነት ተከታዮች በሙሉ !\\tለመላው የእስልምና እምነት ተከታዮች በሙሉ እንኳን ለኢድ አል-አድሃ በዓል በሠላም አደረሳችሁ ::'],\n",
       " ['በኢትዮ-ቴሌኮም ላይ ከፍተኛ ማጭበርበር የፈፀመው በእስራት ተቀጣ) - - ።\\tበፖሊስ አባል ላይ ጥቃት የፈፀመው ተከሳሽ በገንዘብ እና በእስራት ተቀጣ ::'],\n",
       " ['እኔ ግማሽ ኢትዮጵያዊ ብቻ ነኝ ፡፡\\tእኔ ከብዙ ብሄረሰቦች የተደባለኩ ኢትዮጵያዊ ነኝ ።'],\n",
       " ['የዞን ዘጠኝ የኢንተርኔት አምደኛ በፍቃዱ ኃይሉ ዳግም እስር ።\\tየዞን ዘጠኝ የኢንተርኔት አምደኛ በፍቃዱ ኃይሉ ዛሬ ማለዳ በድጋሚ ታሰረ ።'],\n",
       " ['አጥፊዎቹ በአስቸኳይ ተይዘው ለፍርድ ሊቀርቡ ይገባል ።\\tማንም ሰው በዙሪያዎ ማንኛውንም ጊዜ ለማሳለፍ ከሚፈልገው በላይ በእውነት እርስዎ አስ ።'],\n",
       " ['በሌላ በኩል በቁጥጥር ስር የዋሉ ወታደራዊና የክልል አመራሮች ፦ ።\\tበተጨማሪም 9 በቁጥጥር ስር የዋሉ ፦ ።'],\n",
       " ['አሁን ምን ማድረግ ትችላላችሁ ?\\tግን ምን ማድረግ ይቻላል ?'],\n",
       " ['የፖሊስ ረዳት ኮሚሽነሩ በቁጥጥር ስር ዋሉ ።\\tወንጀለኛ የፖሊስ ባለስልጣናት በቁጥጥር ስር ዋሉ !'],\n",
       " ['የየካቲት 19 ቀን 2013 ዓ ም ሙሉ ስርጭት 2021 ።\\tየዓለም ዜና ፤ የካቲት 1፤ 2013 ዓ.ም ሰኞ 2021 ።'],\n",
       " ['የአሜሪካ ቡድን ስለ ጭፍጨፋምርመራ አላደረገም ።\\tየአሜሪካ ቡድን በተፈፀመ ጭፍጨፋ ላይ ምርመራ አላደረገም ።'],\n",
       " ['መለስካቸው አምሃ ዘግቦበታል የድምጽ ፋይሉን በመጫን ዝርዝሩን ያድምጡ ።\\tአዲሱ አበበ ያጠናቀረው ዘገባ አለ የድምጽ ፋይሉን በመጫን ያድምጡ ።'],\n",
       " ['ይህ ችግር የሁለት ወገኖች ችግር ነው ፡፡\\tይህ ችግር በእጅጉ አደገኛ ነው ፡፡'],\n",
       " ['በአገረ ኢትዮጵያም የጃዝ ከያንያንና ስንኝ ቋጣሪዎች የጣምራ መድረክ መጋራት ከጀመሩ አንድ አሠርት ዓመት አስቆጥረዋል ።\\tበመንግስት ውስጥ ያሉና ህዝብን በመበደል የሚኩራሩ ወገኖች ጊዜያዊ ድል እንጂ ዘላቂ ወንበር አይኖራቸውም ፡፡'],\n",
       " ['በመጨረሻም አንድ ነገር ልበል ።\\t) ምን ልበል ታዲያ ?'],\n",
       " ['የተደበቀው ሰው ይአ ይአ ይአ ምለደይአ በመቃብር ውስጥ ወንድም ትነኝጠግርእበ ዴንእ ።\\tእኔ ጓደኛዬ ነበር ይአ ይአ ይአ ምለደይአ በመቃብር ውስጥ ወንድም ሉቃብጠይ ንዱንአ ንችታለሁከ ይአ ።'],\n",
       " ['ሰላም ሰላም ሰላም ለእናንተ ይሁን ?\\tሰላም ለሁሉም ይሁንላቸው ፤ ሰላም የሚሻ ሰው ማየት እንዴት ያስደስታል ።'],\n",
       " ['የአማራ ክልል ፕሬዝዳንት ገዱ አንዳርጋቸው ከሰማያዊ ፓርቲ መሪዎች ጋር ዛሬ በባህርዳር ተወያይተዋል ።\\t“ እንዴት ይህን ትልቅ ክፉ ነገር አደርጋለሁ ?'],\n",
       " ['በትክክል ቀይሽብር መጥፎ ነበር ።\\tሆኖም ፣ መጥፎ መጥፎ ነበር ።'],\n",
       " ['ምን አይነት ተንኮለኛ ነው ?\\tአጭር ሰው ግን የምር ተንኮለኛ ነው ?'],\n",
       " ['እንኳንም የአርሶ አደር ልጅ ነኝ ።\\tአሁን ላይ ደግሞ የአርሶ አደር ስልጠና እየሰጠን እንገኛለን ።'],\n",
       " ['የሥነ ልቦና መምህርቷ ሲያራ ሰዎች መዝናኛ ሰዓት የግድ ማግኘት አለባቸው ።\\tሴትን ልጅ አርቀህ ካሰብካት እናት የሚል ድንቅ የአምላክ ስጦታ ታገኝባታለህ ።'],\n",
       " ['አደጋው እጅግ ከባድ : አስፈሪ እና ውስብስብ ነው::\\tእና ያ ከባድ ነው ።'],\n",
       " ['ኢትዮጵያ በግዙፍ አደጋ ውስጥ ነች ፡፡\\tኢትዮጵያ የኔ ነች ብሎ ማ ።'],\n",
       " ['አገር እንደ አገር እንድትቀጥል ሰንኮፉ መውጣት አለበት ፡፡\\tቀጣዩም የከፋ ስለሚሆንና አገርም እንደ አገር እንድትቀጥል ምርመራው በደንብ ተካሂዶ ሰንኮፉ ተነቅሎ መውጣት አለበት ፡፡'],\n",
       " ['1 ወር ሙሉ እንዘጋለን ማለት ምን ማለት ነው ?\\tይህ ማለት ግን ቀላል ጉዳይ ነው ማለት አይደለም ።'],\n",
       " ['በተጻራሪ አንድ አንድ እኩል የማይመስሉ አዕላፎች እኩል ሆነው ይገኛሉ ።\\tእኩል ነው ” ይላል ።'],\n",
       " ['ይሄን ይላሉ ብዬ አላስብም ።\\tእኔ ደግሞ በምንም ነገር ምርጥ ነኝ ብዬ አላስብም ።'],\n",
       " ['“...ይህንን ነው የስሜት መዋዠቅ የምንለው...” ።\\tመካከለኛ የአዕምሮ ጤና ችግር የምንለው ደግሞ የስሜት መዋዠቅ ይታይባቸዋል ፡፡'],\n",
       " ['ዘገባዉ ፣ ሳዑዲ አረቢያ እና የተባበሩት አረብ ኤሚሬቶች በሺሕ የሚቆጠሩ ኢትዮጵያዉያንን ማባረራቸዉን በዝርዝር ያስረዳል ።\\tነቀፋ የተሰነዘረበት አካል ስለ ራሱ ለመናገር ዕድል ሊሰጠው እንደሚገባ ማርዮን አስረዳሁት ።'],\n",
       " ['“ኦነግ ወይም ኦዴግ ወይም ኦህዴድ” ኖሩም አልኖሩም ህወሃት ይኖራል ።\\t«ህወሃት “ኦነግ ወይም ኦዴግ ወይም ኦህዴድ” ፤ “ኦነግ ወይም ኦዴግ ወይም ኦህዴድ” ሀወሃት ነው ።'],\n",
       " ['“ምንም ጥርጣሬም ሚስጢርም የለውም ምርጫውን አሸንፈናል” ።\\tምንም ጥርጣሬም ምስጢርም የለውም ፤ ይሄ ማለት ነው ።'],\n",
       " ['እስኪ በዚህ ላይ ቆይታ እናድርግ ?\\tበሚለው ሃሳብ ዙሪያ ቆይታ እናድርግ ፡፡'],\n",
       " ['የአለም ሕግ ፦ ፀረ ሽብር ዘመቻና የሰብአዊ መብት ረገጣ ።\\tአወዛጋቢው አዲሱ ፀረ-ሽብር ሕግ ።'],\n",
       " ['ማንቺስተር ዩናይትድ ከ ብራይተን .ሀቅእማክማሀ አርብ ሀምሌ 16/2013 ዓ ም የስፖርት ዜናዎች ።\\tአርብ ሰኔ 11/2013 ዓ ም የስፖርት ዜናዎች ።'],\n",
       " ['የማስታውሰው ከክራሬ ነው ብላ ነበር ።\\tእኔ የማስታውሰው አልጀመርኩም ነበር. ።'],\n",
       " ['ምዝገባ ፦ አዳዲስ የቤቴል ቤተሰብ አባላት በሙሉ ይመዘገባሉ ።\\tኦባማ ማኩረፍና መራቅ አይጠቅምም- መነጋገር ነው የሚያዋጣው ብለዋል ፡፡'],\n",
       " ['ነፃነትና ፍትሃዊ ተጠቃሚነት ሊኖረን ይገባል” በሚል እሳቤ ላይ የተመሰረተ ነው ።\\tነፃነትና ፍትሃዊ ተጠቃሚነት ጥያቄ ነው ።'],\n",
       " ['አዲስ አበባ ደርሶ መልስ ፕሬዝዳንት ባራክ ኦባማ አውዲዮውን ያዳምጡ ።\\tባራክ ኦባማ ከፕሬዝዳንትነታቸው በኋላ ።'],\n",
       " ['እንቅስቃሴ ሰላማዊ በሆነ መንገድ ወደ አዲስ አበባ እየገባ ።\\tሰላማዊ በሆነ መንገድ ትግሉ መቀጠል አለበት ።'],\n",
       " ['ፈረሰኞቹ እጅግ ውድ አንድ ነጥብ አግኝተዋል ።\\tበእርግጥም ውድ ሀብት አግኝተዋል !'],\n",
       " ['በ2019 አሜሪካ ለኢትዮጵያ ያደረገችው ድጋፍ አጠቃላይ 1 ቢሊዮን ዶላር ነው ::\\tየዓለም ባንክ 2 ቢሊዮን ዶላር ለኢትዮጵያ ፦ ለምን ?'],\n",
       " ['በነገራችን ላይ በራስ ከመሳቅ የበለጠ በራስ መተማመን የለም ፡፡\\tምርጥ መሆንና በራስ መተማመን ነው ፡፡'],\n",
       " ['\"መንግሥትና ፖለቲካ ፓርቲን ያልለየ የምርጫ ቅስቀሳ እየተካሄደ ነው\" - ኢዜማ ።\\tመንግሥትና ፖለቲካ ፓርቲን ያልለየ የምርጫ ቅስቀሳ እየተካሄደ መሆኑን የኢትዮጵያ ዜጎች ለማኅበራዊ ፍትህ ኢዜማ አስታወቀ ፡፡'],\n",
       " ['የውጭ ንግድና የቱሪዝም ማስፋፊያ ጉዳዮች ዳይሬክቶሬት-ጄኔራል ።\\tየዳያስፖራ ጉዳዮች ዳይሬክቶሬት-ጄኔራል ።'],\n",
       " ['. ህወሃት ኢትዮጵያን ወደብ አልባ ያደረገ ድርጅት ስለሆነ መመረጥ የለበትም ፤ ።\\t. ህወሃት ወጣት ኢትዮጵያውያንን ለባርነት የዳረገ ስለሆነ መመረጥ የለበትም ፤ ።'],\n",
       " ['የጠቅላይ ሚኒስትር አብይ አህመድ ፎቶ አንሽ አሮን ስሜነህ ።\\tየጠቅላይ ሚኒስትር አብይ አህመድ የአምቦ ጉብኝት ።'],\n",
       " ['ዛሬ ገበያ ላይ ከዋለው የበአማን ነፀረ መፅሀፍ የሞለጨፍነው :) (ልዩነታቸውን ለማወቅ ያክል) ።\\tስም አሰጣጡ ያልተገባ ወይም የሚያገልል ስያሙ እንዳይኖር ይከላከላል ።'],\n",
       " ['የነሐሴ 13 ቀን 2013 ዓ,ም ሙሉ ስርጭት ።\\tየመስከረም 8 ቀን 2013 ዓ,ም ሙሉ ስርጭት ።'],\n",
       " ['ስድስት ወር ማለት ከዛ በፊት አንድ ታሪክ አለ ማለት ነው ።\\tችግር አለ ማለት ነው ።'],\n",
       " ['በራሴ ግን ወርቅ አመጣለሁ ብዬ አስቤያለሁ ።\\tበዚህ ውድድር ሪከርድ ለማሻሻል ባልችልም ወርቅ አመጣለሁ ብየ አስቤያለሁ ።'],\n",
       " ['ጥቅምት 13 2011 ወዝወዝ አዲስ ብስራት እዚህ ያዳምጡ ።\\tኅዳር 7 2011 ወዝወዝ አዲስ ብስራት እዚህ ያዳምጡ ።'],\n",
       " ['እየሆነ ያለው ይኸው ነው ፡፡\\tዛሬም ያለው ሁኔታ ይኸው ነው ፡፡'],\n",
       " ['የአሸንዳ በዓል ዝግጅት በሰሜን አሜሪካ ፡፡\\tበሰሜን አሜሪካ የስፖርት ፌደሬሽን በዓል በቶሮንቶ ተጀመረ ።'],\n",
       " ['የትኛው በፊውዳሊዝም ስልተ-ምርት ይገኛል ?\\tወደ ካፒታሊስት ስልተ-ምርት እየገሰገሰ ያለ ወይም የሚያደርገውን ሽግግር ያጠናቀቀው የትኛው ነው ?'],\n",
       " ['የሐሙስ ፦ ግንቦት 19 ቀን ፣ 2013 ዓ.ም ሙሉ ሥርጭት ።\\tየሰኞ ግንቦት 9 1ቀን 2013 ዓም ሙሉ ሥርጭት ።'],\n",
       " ['የዞን 9 ጦማርያን እና ጋዜጠኞች “የተሻሻለ ክስ” ተሰማ ፡፡\\tየዞን 9 ጦማርያን አና ጋዜጠኞች ለ17ተኛ ጊዜ ፍርድ ቤት ቀረቡ ።'],\n",
       " ['” ሁለቱ -በእውቀትና መልካም- በመጀመሪያ ደረጃ ድግሪ ተመርቀው ስራ ይዘው ራሳቸውን ችለዋል ።\\tበእውቀትና መልካም ተመርቀው ራሳቸውን ችለዋል ።'],\n",
       " ['እንዲህ ዓይነቱ አገልግሎት ምን ነገሮችን ይጨምራል ?\\tይሁን እንጂ ለአምላክ ክብር ማምጣት ምን ነገሮችን ይጨምራል ?'],\n",
       " ['አንድ አድርገን 2 :48 3 !\\tአንድ አድርገን 12 :42 2 !'],\n",
       " ['እነኝህ ሰዎች ሌላ ሀገር አላቸው እንዴ ?\\tእንዚህ ሰዎች ሌላ አገር አላቸው ።'],\n",
       " ['የቤት ኪራይ አንድ ሺህ ብር ፤ ።\\tየቤት ኪራይ መክፈል ይቸገር ነበር ፤ ።'],\n",
       " ['ለሁለት ዓመታት በቤት ሰራተኝነት እና ፀጉር ቤት በፈረቃ እሰራ ነበር ።\\tየሰው ልጅ ዘላለማዊ አይደለም ነገር ግን በስራው ለዘላለም ህያው ሆኖ ይኖራል !'],\n",
       " ['በእንዲህ ዐይነት አደጋ ወቅት በተለምዶ ።\\tኢህአዴግ ተቃዋሚዎችን ለአመጽ እያነሳሳ መሆኑ ተገለጸ ።'],\n",
       " ['ከዚያ ከትምህርት ቤት ቀረሁ ፡፡\\tከትምህርት ቤት ጋር መተባበር አስፈላጊ ነው ።'],\n",
       " ['ከሞላ ጐደል መግባባት ላይ የተደረሰበት ሁኔታም ነበረ ።\\tከሞላ ጐደል ጥሩ ፖሊሲ ነው ያለን ፤ ።'],\n",
       " ['አዎ ፣ነኝ ፤አንተስ ኢትዮጵያዊ ነህ ?\\tአዎ እኔ ደርግ ነኝ ።'],\n",
       " ['ይሄን ስንል እኛ ያቀረብነው ሃሳብ ብቻ ተቀባይነት ይኑረው ብለን አይደለም ።\\tእኛ ይሄን ሃሳብ ያቀረብነው ለሃገራችን ሠላም በማሰብ ነው ፡፡'],\n",
       " ['ወደሚቀጥለው ገጽ ይዞራል 8 ወዲህ የሚጠቁሙ ገጾች !\\t28 2010 ማውጫ ኪን 4 ወዲህ የሚጠቁሙ ገጾች !'],\n",
       " ['ለምን ይህን እንደትልቅ ነገር ማውራት ተፈለገ; ግልጽ ነው በወሬ እንደፈለጋቸው እንደሚዘውሩት ስለአመኑ ነው ፡፡\\tየቤት ኪንግ የኢትዮጵያ ፕሪሚየር ሊግ የ2ኛ ሳምንት አበይት ጉዳዮች እና ቁጥሮች !'],\n",
       " ['ዛሬ ከሰዓት የተካሄደው የቤትኪንግ የኢትዮጵያ ፕሪሚየር ሊግ ባህር ዳር ከተማን ከወልቂጤ ከተማ አገናኝቷል ፡፡\\tዛሬ 18ኛ ሳምንት የቤትኪንግ የኢትዮጵያ ፕሪሚየር ሊግ ወላይታ ዲቻን ከድሬዳዋ ከተማ አገናኝቷል ፡፡'],\n",
       " ['እቴጌ መነን ከእርሷ በፊት እንደነበረቺው እንደ እቴጌ ምንትዋብ በሀገሪቱ ፖለቲካ ከፍ ያለ ሚና ነበራት ፡፡\\tእሳቸው ደሞ እቴጌ ምንትዋብ ናቸው ፡፡'],\n",
       " ['እንዴት በትግራይ ያልታየ መልካም አሰተዳደር በሌሎች ተግባራዊ ይሆናል ?\\tእንዴት በትግራይ ያልታየ የምጣኔ ሀብት እድገት በሌሎች ሊከሰት ይችላል ?'],\n",
       " ['የብራዚል ብሄራዊና ሀይማኖታዊ ክብረ በአላት ዝግጅትም ይካሄድበታል ።\\tያለበለዚያ መሳቂያና መሳለቂያ ከመሆን ባለፈ ፤ መጨረሻችን ሳያምር ይቀራል ።'],\n",
       " ['የጨዋታ እንግዳ ዶ/ር ተዋበች ቢሻው ጥቅምት 16,2006 ሶስተኛ ሳምንት ክፍል 4 ።\\tየጨዋታ እንግዳ ዶ/ር ተዋበች ቢሻው ጥቅምት 09,2006 ሁለተኛ ሳምንት ክፍል 3 ።'],\n",
       " ['የኢጋድ የመሪዎች ጉባኤ በሶማሊያ ብሄራዊ እርቅ ለማምጣት ሶስት አገራት በቅንጅት እንዲሰሩ ውሳኔ በማሳለፍ ተጠንቀቀ ።\\tከአንድ የሠለጠነ ባላባ በስተቀር ኝሩገን ኔባ ለስ ከኤጀንሲው ጋር ምሉደይአ ቼኞደጓ ።'],\n",
       " ['እነሆ ለጠቅላላ ዕውቀት . ።\\tለጠቅላላ ዕውቀት ፈልጌው ነው. ።'],\n",
       " ['በተጨማሪም መጽሐፍ ቅዱስ ጥሩ ልማዶችን እንድትኮተኩት ሊረዳህ ይችላል ።\\tመጽሐፍ ቅዱስ ሊረዳህ የሚችለው እንዴት ነው ?'],\n",
       " ['ካሳ በል አግሳ እንደ አንበሳ ……. የቕራ አንበሳው ዳግማሮስ ።\\tካሳ በል አግሳ እንደ አንበሳ ……. ያንዲት ኢትዮዽያ ክብርዋ ከቶም ሳይረሳ ።'],\n",
       " ['ዋናው ይቅርታ ከእግዚአብሔር ነው ።\\t“ ብቃታችን ከእግዚአብሔር ነው... ።'],\n",
       " ['ዕሁድ ፡- ከምሽቱ ሦስት ሰዓት የአማርኛ ዜና - ዲሴምበር 25, 2022 ።\\tዐርብ ፡-ከምሽቱ ሦስት ሰዓት የአማርኛ ዜና - ዲሴምበር 23, 2022 ።'],\n",
       " ['እግዚአብሔር ኢትዮጵያን እና ሕዝቦቿን ይጠብቅ ።\\tእግዚአብሔር ኢትዮጵያን እና ሕዝቦቿን ይባርክ ፡፡'],\n",
       " [\"' የሚል ነው ዋናው ጉዳይ በማለት አስረድተዋል ።\\tግን ዋናው ጉዳይ አይደለም ፡፡\"],\n",
       " ['ስለሆነም ከዚህ በታች የተዘረዘሩትን መስፈርቶች የሚያሟላ ማንኛውም ተጫራች መሣተፍ ይችላል ፡፡\\tስለሆነም ከዚህ በታች የተዘረዘሩትን መስፈርቶች የሚያሟላ ሁሉ መወዳደር የሚችሉ መሆኑን ይገልፃል ፡፡'],\n",
       " ['125ኛው የአድዋ ድል በዓል በጋምቤላ ክልል ደረጃ እየተከበረ ነው ።\\tከ50 ሺህ በላይ የሚሳተፉበት ይህ 125ኛው የአድዋ ድል በዓል በሸገር ፓርክ አልያም […] ።'],\n",
       " ['የሲዳማ ብሔራዊ ክልላዊ መንግሥት በይፋ ተመሠረተ ።\\tየሲዳማ ብሔራዊ ክልላዊ መንግሥት ዛሬ በይፋ ሲመሰረት አቶ ደስታ ሌንዳሞ ርዕሰ መስተዳድር ሆነው ተመርጠዋል ።'],\n",
       " ['ምን አይነት አዕምሮ ነው ?\\tምን አይነት ጥጋብ ነው ?'],\n",
       " ['ማንኛዉም የአስተዳደር ተቋም የሚያወጣውን መመሪያ በተመለከተ የሚከተሉትን የያዘ መዝገብ ማደራጀት አለበት ፤ ።\\tማንኛውም የአስተዳደር ተቋም መመሪያ በሚያወጣበት ጊዜ የሚከተሉትን መረጃዎች የያዘ ማብራሪያ ማዘጋጀት አለበት ፤ ።'],\n",
       " ['ይሄ ደግሞ ምን ማለት ነው ?\\tይህ እራሱ ምን ማለት ነው ?'],\n",
       " ['ፋና ብሮድካስቲንግ ኮርፖሬት 25ኛ አመት የምስረታ በዓሉን አከበረ ።\\tፋና ብሮድካስቲንግ ኮርፖሬት 25ኛ ዓመቱን በክልል ጣቢያዎች እያከበረ ነው ።'],\n",
       " ['መልካም አዲስ ዓመት ለሁላችን ።\\tመልካም አዲስ ዓመት ለሁሉም ኢትዮጵያዊያን !'],\n",
       " ['አንድ ረጅም ልቦለድ እየፃፍኩ ነው ፡፡\\tይህ መጽሐፍ ልቦለድ ነው ፡፡'],\n",
       " ['ጠቅላይ ሚኒስትር ዶክተር አብይ አህመድ ከፓርቲ ውህደት ጋር በተያያዘም ፥\\tየኢትዮጵያ ጠቅላይ ሚኒስትር ዶክተር አብይ አህመድ መሆናቸው አውቃለሁ ።'],\n",
       " ['ይህ የቋንቋ ለውጥ ምን ውጤት አምጥቷል ?\\tይህ ግን የቋንቋ ጉዳይ አይደለም ።'],\n",
       " ['ምህረት የሚገባው እኔ ነኝ ?\\tሩዋንዳ ውስጥ እኔ ሁቱ ነኝ ፣ እኔ ቱትሲ ነኝ፣ እኔ ተረኛ ነኝ አትላትም ።'],\n",
       " ['የቂሊንጦ ማረምያ ቤት ቃጠሎና የተቃዋሚ መሪዎች ጥሪ ።\\tየቂሊንጦ እስር-ቤት ቃጠሎና የሰብዓዊ መብት ኮሚሽን ዘገባ ።'],\n",
       " ['የኮቪድ-19 ስርጭትን ለመግታት እውነተኛ መረጃ ብቻ ማስተላለፍ ያሻል ።\\tየኮቪድ-19 ስርጭትን ለመግታት አገራት በርካታ እርምጃዎች እየወሰዱ ነው ።'],\n",
       " ['የተቃረኑ አንቀጾችን አይተው እንዳላዩ ማለፍ ተገቢ አይደለም ።\\tሌሎች አይተው እንዳላዩ ያልፏቸዋል ፡፡'],\n",
       " ['መቼም የኢትዮጵያ ህዝብ ይህን ንጉስ 24/7 ሊያወድስ ይገባል ፡፡\\t- የሳምንቱ አስገራሚ አጋጣሚ ነው . ።'],\n",
       " ['ቅዳሜ ፡-ከምሽቱ ሦስት ሰዓት የአማርኛ ዜና - ሐምሌ 25, 2020 ።\\tሐሙስ ፡-ከምሽቱ ሦስት ሰዓት የአማርኛ ዜና - ሴፕቴምበር 01, 2022 ።'],\n",
       " ['የራያን ጉዳይ ካየነው አማራ ነኝ ፣ ትግሬ ነኝ፣ኦሮሞ ነኝ፣ራያ ራዩማ ነኝ የሚሉ እምነቶች አሉ ፡፡\\tምንም ነኝ ግን አማራ !'],\n",
       " ['የለም. . . ምንም ችግር የለም ።\\tአሁን ምንም የምንላችሁ ነገር የለም ።'],\n",
       " ['ሐሙስ ፡-ከምሽቱ ሦስት ሰዓት የአማርኛ ዜና - ሴፕቴምበር 01, 2022 ።\\tቅዳሜ ፡-ከምሽቱ ሦስት ሰዓት የአማርኛ ዜና - መጋቢት 07, 2020 ።'],\n",
       " ['የታላቁ ህዳሴ ግድብ ግንባታ የመሃል ክፍል የአርማታ ሙሌት ስራ ተጀምሯል ።\\tየታላቁ የኢትዮጵያ ህዳሴ ግድብ ከስድስት ዓመታት በኋላ ።'],\n",
       " ['ጦርነቱም የአየር ድብደባውም ተጠናክሮ መቀጠል አለበት !\\tየአየር ድብደባው ተጠናክሮ መቀጠል አለበት ::'],\n",
       " ['የልብ ሰርቶ ይቅርታ እቃ እቃ ጨዋታ ነው ።\\tእኔ ማለት ድሮ እቃ እቃ ስንጫወት ብዙ የቅጠል ብር የነበረኝ ልጅ ነበርኩ ።'],\n",
       " ['የጨዋታ እንግዳ አቶ ሳህለ ብርሀነማርያም ሶስተኛ ሳምንት ህዳር 28,2006 ።\\tየጨዋታ እንግዳ ዶ/ር ተዋበች ቢሻው ጥቅምት 16,2006 ሶስተኛ ሳምንት ክፍል 4 ።'],\n",
       " ['ኦዴፓ የኢህአዴግ ስራ አስፈፃሚ ኮሚቴ አባላትን መረጠ ።\\tየኢህአዴግ) ስራ አስፈፃሚ ኮሚቴ መደበኛ ስብሰባውን ማካሄድ ጀምሯል ።'],\n",
       " ['በቦይንግ ማክስ 737 የኢትዮጵያ አየር መንገድ አደጋ የዚፖራን አባት ጨምሮ 156 ሰዎች ሞተዋል ።\\tበቦይንግ 737 ማክስ አውሮፕላን አደጋ ሳቢያ ሕይወታቸውን ካጡት አንዱ የዚፖራ ኩሪያ አባት ናቸው ።'],\n",
       " ['ሁሉም ክቡር ሚኒስትር ክቡር ሚኒስትር ሲለኝ ነው የምውለው ፡፡\\tያው እኮ ጠቃሚ ነገር ነው ብለን ነው ክቡር ሚኒስትር ፡፡'],\n",
       " ['ማንኛውም የፖለቲካ ፉክክር በጠመንጃ አፈሙዝ ሳይሆን በሰላማዊ መንገድ ሊሆን ይገባል – ኦዴፓ ።\\tማንኛውም የፖለቲካ ፉክክር በጠመንጃ አፈሙዝ ሳይሆን በሰላማዊ መንግድ እንዲሄድ ሰላማዊ መንግድ ተከፍቷል ፡፡'],\n",
       " ['የእግዚአብሔርም ክብር በሲና ተራራ ላይ ተቀመጠ ፥\\tበመሆኑም ይሖዋ በሲና ተራራ አናት ላይ ወረደ ።'],\n",
       " ['ወረዳ 11 ቀ. 27 ቁስቋም አካባቢ መ/ንግሥት ቁስቋም ማርያም ።\\tየደብረ ፀሐይ ቁስቋም ማርያም ገዳም ።'],\n",
       " ['ሞጋቾች ተከታታይ ድራማ ምዕራፍ ሰባት ክፍል 173 ።\\tአየርበአየር አዲስ ተከታታይ ድራማ ክፍል 10 ።'],\n",
       " ['ግንቦት ሃያ አለም አቀፍ ኤርፖርት አስተዳደር በተዘጋጀው የጨረታ ሳጥን ዘወትር በስራ ሰዓት ማስገባት ይችላል ፡፡\\tኢኮኖሚ ልማት ጽ/ቤት ቢሮ ቁጥር 4 በተዘጋጀው የጨረታ ሣጥን ዘወትር በሥራ ሰዓት ማስገባት ይኖርባቸዋል ፡፡'],\n",
       " ['ፕሬዝዳንት ፑቲን በቀጣዩ ፕሬዝዳንታዊ ምርጫ እንደሚፎካከሩ አሳወቁ ።\\tየሩሲያው ፕሬዝዳንት ቭላድሚር ፑቲን በቀጣዩ የአገሪቷ ፕሬዝዳንታዊ ምርጫ እንደሚካፈሉ አስታወቁ ።'],\n",
       " ['” አለች ፡- “ጥሩ ሃሳብ ነው፡፡\\tጥሩ ነገር አይመስለኝ ህልሜ” አለች ፡፡'],\n",
       " ['የትራንስፎርሜሽን ሥራ ማለት ነው ።\\tየሕዝብ ሥራ ነው ማለት ነው ።'],\n",
       " ['88 ሰዎች የኮሮና ቫይረስ ተገኝቶባቸዋል - በሀገራችን ቫይረሱ በምርመራ የተገኘባቸው ሰዎች ቁጥር 582 ደርሷል ፡፡\\tበአጠቃላይ በሀገራችን ቫይረሱ በምርመራ የተገኘባቸው ሰዎች ቁጥር 1 805 ደርሷል ።'],\n",
       " ['የሽግግር መንግስት መፍትሄ አይሆንም ዶ/ር መረራ ጉዲና ።\\tዶ/ር መረራ ጉዲና በወቅታዊ የኢትዮጵያ ጉዳይ ።'],\n",
       " ['ክብር ለሚገባው ክብር ስንሰጥ ድስ ይላል !\\t?? ሰው መሆን ክብር . ?? ።'],\n",
       " ['አርዕስቶችም ፣ መንግስት ማለት ምን ማለት ነው ?\\tለመሆኑ ካሮትና በትር ማለት ምን ማለት ነው ?'],\n",
       " ['‹‹ለሃገር መከላከያ ክብር እቆማለሁ !\\tለሀገር መከላከያ ክብር እቆማለሁ መርሃ ግብር በአዲስ አበባ ከተማ ሙለታ መንገሻ ።'],\n",
       " ['የሚያሳክክ የቆዳ በሽታን በተመለከተ ሊገነዘቡት የሚገባ መፍትሔዎች ተገኙ ።\\tውጭ ሃገር ያሉትም ከመቆስቆስ በፊት አርቀው ማሰብ አለባቸው ፡፡'],\n",
       " ['የመጀመሪያው የገንዘብ ችግር ነው ።\\tየገንዘብ እና የእርዳታ ችግር የለም ::'],\n",
       " ['ራስን በራስ የመግደል መመሪያ መጽሐፍ ።\\tይህ ቅድመ ሁኔታ ሳይሟላ ነው እግሬ የተቆረጠው ፡፡'],\n",
       " ['ጠቅላይ ሚኒስትር ዶክተር አብይ አህመድ በግንባታ ላይ የሚገኘውን የጅማ ኢንደስትሪ ፓርክ ጎበኙ ፡፡\\tጠቅላይ ሚኒስትር አብይ አህመድ ስራ ላይ ናቸው ።'],\n",
       " ['ማራቶንን ከ2 ሰዓት በታች የት ይገባል ?\\tማራቶን ከ2 ሰዓት በታች መቼ ይሆናል ?'],\n",
       " ['ሰኞ ታህሳስ 29 | የኢትዮጵያ ፕሪምየር ሊግ 9ኛ ሳምንት ።\\tየኢትዮጵያ ፕሪምየር ሊግ 7ኛ ሳምንት ውጤት ።'],\n",
       " ['የቱርክ መንግሥት ከኢትዮጵያ ጋር የንግድ ድርድር እንደሚያካሂድ አስታወቀ ።\\tይሄ ለነጻነት ፈላጊው ሥነ – ልቦና የአሸናፊነት ስሜት ተጫኝ ነው ።'],\n",
       " ['መልካም አዲስ አመት እግዚአብሔርን የምንፈራበት አመት ይሁንልን ፡፡\\tመልካም አዲስ አመት ዘመዶቼ ?'],\n",
       " ['ምንድን ነሽ አንቺ ሰው ?\\tአንቺ ነሽ እኔን የመረዳት ችግር ያለብሽ ።'],\n",
       " ['የቡድን 20 አባል ሐገራት የዉጪ ጉዳይ ሚንስትሮች ስብሰባ እና የዓለም የፀጥታ ጉባኤ ።\\tየቡድን ሃያ-አባል ሐገራት የመሪዎች ሁለተኛ ጉባኤ ።'],\n",
       " ['እማሆይ የውብ ሰፈር አሳዬ ፡ ባህሪው ጥሩ ነው ፣ የተለየ ባህሪ የለውም፣ የታወቀ ነው ።\\tእማሆይ የውብ ሰፈር አሳዬ ፡ እኛ እየሄድን ማየት ነው እንጂ ሁኔታውን ማን ያውቃል ።'],\n",
       " ['ስለፖለቲካ በሚወራበት ጊዜ ሁለት ዐይነት የትግል ዘዴዎች አሉ ።\\tእምናምነው ህግ ሲከበር ብቻ ነው ።'],\n",
       " ['12/12/12 እንደዚህ አይነት ቀን ነፍጹም ተመልሶ አይመጣም ።\\tበተመረጡ 12 ከተሞች 12 000 የመኖሪያ ቤቶች በመገንባት ላይ ናቸው ።'],\n",
       " ['የወያኔ ጉዱ ሚወጣዉ ወያኔ ስልጣን ላይ ሆኖ እንዳልሆነ ልብህ ያዉቀዋል ።\\tብዙዎቻችን የደም እጥረት ላጋጠማቸው ወገኖቻችን አልያም የቅርብ ዘመ ዶቻችን ደም ለግሰን ይሆናል ።'],\n",
       " ['ድምፃዊ ሰለሞን ጥጋቤ/ አባይ/- በፋና ላምሮት የአሸናፊዎች አሸናፊ የፍጻሜ ውድድር # ፋና ላምሮት ።\\tድምፃዊት መቅደስ ግርማ – በፋና ላምሮት የአሸናፊዎች አሸናፊ የፍጻሜ ውድድር ።'],\n",
       " ['ተስፋ ቀላል ነገር አይደለም ።\\tመተቸት በጣም ቀላል ነገር ነው ።'],\n",
       " ['ኢትዮጵያዉን ግን ወደ ሁሉም ሥፍራ ፤ በሁሉም አቅጣጫ ይሰደዳሉ ።\\tኢትዮጵያዉን ግን ዛሬም ወደ ሜድትራኒያን ባሕር በገፍ ይሰደዳሉ ።'],\n",
       " ['ይህ ገጽ መጨረሻ የተቀየረው እ.ኣ.አ በ03 :08 ፣ 4 ጃንዩዌሪ 2014 ዓ.ም. ነበር ።\\tይህ ገጽ መጨረሻ የተቀየረው እ.ኣ.አ በ21 :23 ፣ 15 ጃንዩዌሪ 2013 ዓ.ም. ነበር ።'],\n",
       " ['የኢትዮጵያ ሴቶች ፕሪምየር ሊግ ውጤት አርባምንጭ ከተማ 1-0 አቃቂ ቃሊቲ 7 ድርሻዬ መንዛ ።\\tየኢትዮጵያ ሴቶች ፕሪምየር ሊግ ውጤት አርባምንጭ ከተማ 0-0 አዳማ ከተማ ።'],\n",
       " ['ለ). የዘር ማፅዳትና የዘር ጭፍጨፋ ወንጀል ሠለባዎች ።\\tሐ). የዘር ማፅዳትና የዘር ጭፍጨፋ ወንጀል በማን ይተገበራል ?'],\n",
       " ['“የፎሪ ፣ የፎሪ…” ማን ስብሰባ ጥሩ አላቸው !\\tእናማ…‘የፎሪ ፣ የፎሪ…’ የሚያሰኙ መአት ነገሮች አሉን ፡፡'],\n",
       " ['የትራንስፖርት ሚኒስትር ወይዘሮ ዳግማዊት ሞገስ የአቤት ሆስፒታል ጉብኝት... ።\\tሚኒስትር ትራንስፖርት ወይዘሮ ዳግማዊት ሞገስ ፥'],\n",
       " ['ይዋል ይደር እንጂ ሁላችንም እንሞታለን ።\\tይዋል ይደር እንጂ ይህን ማድረጉ እንደማይቀር እርግጠኛ ሁን !'],\n",
       " ['ለትውስታ . ቴዲ አፍሮ ሰለ ማረሚያ ቤት ቆይታው ተጠይቆ የሰጠውን የበሰለ ምላሽ ይመልከቱ ።\\tቴዲ አፍሮ ሰለ ግጥም አፃፃፉ እና ሰለ ኢትዮጵያዊነት የሰጠዉ ምላሽ ።'],\n",
       " ['በመኖሪያ ቤታቸው ግቢ ውስጥም የመሥሪያ ቦታ አዘጋጀላቸው ።\\tሆኖም ግን ከዘርዓያዕቆብ ወደ ወልደ ህይወት የተደረገው ሽግግር ዕድገትም ምልሰትም አለው ፡፡'],\n",
       " ['የማዕድን ውጤቶች በስራ ላይ ባለው አዋጅ 30 በመቶ ሲሆን ፥\\tሽቶና መሰል መዋቢያዎች በስራ ላይ ባለው አዋጅ 100 በመቶ ሲሆን ፥'],\n",
       " ['ጃዋሪያን ስሙ ሲጠራ የሚያንዘፈዝፍቸውን አፄ ሚኒሊክ አወድሷል ።\\tዛሬም የትውልድን መንቃት የሚጠይቀው ኤች አይ ቪ ኤድስ ።'],\n",
       " ['ስለ አመጣጡም ሆነ ስለ አካሄዱ የመናገርም ሆነ ፣ የዘገየ ስለመሰላቸው ምክንያቱን የማስረዳት ግዴታ የለበትም ።\\tበያዘው ውል መሰረት ስራውን ማጠናቀቅ አለበት ፡፡'],\n",
       " ['6°51′ ሰሜን ኬክሮስ እና 37°46′ ምሥራቅ ኬንትሮስ ።\\tየከተማው አቀማመጥ በ 10°20′ ሰሜን ኬክሮስ እና 37°43′ ምሥራቅ ኬንትሮስ ላይ ነው ።'],\n",
       " ['አባይ ሚዲያ ዜና- ጥር 17 ፣2012 ።\\tአባይ ሚዲያ ዜና – ህዳር 29 ፣ 2012 ።'],\n",
       " ['ትልቁ ዋጋ 8ሺ ብር ነው ፡፡\\tትልቁ ዋጋ 65 ብር ነው ፡፡'],\n",
       " ['(የሉቃስ ወንጌል ምዕ . 5) - 31 ፤ ኢየሱስም መልሶ ።\\tኢሰቲ ከዚህ ውጪ ምን ይባላል ?'],\n",
       " ['ፈጣሪ በሃገራችን ይተፈጠረውን ያንበጣ መንጋ አጥፍቶ ህዝባችንን ከስጋት ያውጣልን ።\\tእሳቱን ጀምረናልን ርጋ ውሲንጀኤከ ለመጥለቅ ያህል ወሳኝ ነገር ያስፈልጋል ልጣመይ ላኋበ ።'],\n",
       " ['የኢፌዴሪ ጠቅላይ ሚኒስትር ዶክተር አብይ አህመድ ከወልቂጤ ከተማ ነዋሪዎች ጋር እየተወያዩ ነው ።\\tየኢፌዴሪ ጠቅላይ ሚኒስትር ዶክተር ዐቢይ አህመድ በወቅታዊ ጉዳይ ላይ ማምሻውን የሰጡት መግለጫ ።'],\n",
       " ['የገቢዎች ሚኒስትር ወ/ሮ አዳነች አቤቤ ።\\tወ/ሮ አዳነች አቤቤ ወደ ጠቅላይ ሚንስትር ዐቢይ አሕመድ ካቢኔ የመጡት የገቢዎች ሚኒስትር በመሆን ነበር ።'],\n",
       " ['አማርኛ ዜና ምሽት 2 ፡00 ስዓት ጥር 17-2012ዓ.ም ።\\tአማርኛ ዜና ምሽት 2 ፡00 ስዓት መስከረም 07/2012ዓ/ም ።'],\n",
       " ['እውነት ነው ፤ ረጅም ጊዜ ነው በመምህርነት ያገለገልኩት ፡፡\\tይሄ ደግሞ በጣም ረጅም ጊዜ ነው ፡፡'],\n",
       " ['185) ሙሉሰው አለኸኝ (የቤተሰብ ብዛት 2) ።\\t309) አለኸኝ አስራ (የቤተሰብ ብዛት 3) ።'],\n",
       " ['የአክሊሉ ሀብተወልድ ጥቅሶች[ ለማስተካከል | ኮድ አርም ] ።\\tዋቢ ምንጮች[ ለማስተካከል | ኮድ አርም ] ።'],\n",
       " ['በጥላቻ ውስጥ መዳን የለም ።\\tበጥላቻ ውስጥ ዕምነት የለም ።'],\n",
       " ['ክርስቲያን ወላጆች ለልጆቻቸው እንዲህ ያለውን ግብ መምረጥ አለባቸው ?\\tታዲያ ክርስቲያን ወላጆች ምን ማድረግ አለባቸው ?'],\n",
       " ['በእርግጥም ጸሎት አስደናቂ ዝግጅት ነው ።\\tየ6 አመት ልጅ አስደናቂ የእምነት ጸሎት ።'],\n",
       " ['የሐሙስ ግንቦት 12 ቀን 2013 ዓም ሙሉ ሥርጭት ።\\tየመጋቢት 14 ቀን ፣ 2013 ዓ.ም ሙሉ ሥርጭት ።'],\n",
       " ['ሐምሌ 9 2010 ወዝወዝ አዲስ ብስራት እዚህ ያዳምጡ ።\\tኅዳር 12 2011 ወዝወዝ አዲስ ብስራት እዚህ ያዳምጡ ።'],\n",
       " ['ስለ አምላክ ባሕርያት አስብ ።\\tእስቲ ስለ አምላክ የምሕረት ዝግጅት ለጥቂት ጊዜ አስብ ።'],\n",
       " ['ኢትዮጵያ እና አነጋጋሪው የወደብ ፍለጋዋ የዛሬው እንወያይ ርዕስ ነው ።\\tየሰሞኑ የመንግሥት እርምጃ እና አንድምታዎቹ የዛሬው እንወያይ ርዕስ ነው ።'],\n",
       " ['ያገኘውን ቆጥቦ ንግዱን ማስፋፋትና ኑሮውን ማሻሻል ነው የሚመርጠው ፡፡\\tበአገር ውስጥ መኪኖችን የሚገጣጥሙ ኩባንያዎች በልዩ የስፖንሰርሺፕ ሁኔታ በመተሳሰር ችግሩን በቶሎ ለመፍታት ይቻላል ፡፡'],\n",
       " ['ይህ አሰራር በሰለጠኑት አገራት በተለይም በአውሮፓ የተመለደ አሰራር ነው ።\\tይህ ተፈጥሯዊ አሰራር ነው ።'],\n",
       " ['ከወጣቶቹ መካከል አራቱን የአዲስ አድማስ ጋዜጠኛ አለማየሁ አንበሴ አነጋግሮ ፣ ሃሳባቸውን እንደ ወረደ አቅርቦታል ፡፡\\tየአዲስ አድማስ ጋዜጠኛ አለማየሁ አንበሴ ፣ ዛሬም ።'],\n",
       " ['“ታሞ ከመማቀቅ አስቀድሞ መጠንቀቅ” ይላሉ አበው ።\\tታሞ ከመማቀቅ አስቀድሞ መጠንቀቅ አብዛኛዎቹን በሽታዎች አስቀድመን መከላከል እንችላለን ።'],\n",
       " ['እርዳታ ከየት ማግኘት ትችላለህ ?\\tእርዳታ ከየት ማግኘት ትችላላችሁ ?'],\n",
       " ['አሁንም ድረስ እኮ ችግሩ አለ ፡፡\\tችግሩ እኮ ሌላ መፍትሄ ማጣት ነው ።'],\n",
       " ['በአጠቃላይ በሀገራችን በቫይረሱ የተያዙ ሰዎች ቁጥር አንድ መቶ አስራ አራት(114) ደርሷል ፡፡\\tየቆምኩት ግን የ ኢትዮጵያ ህልውና ላይ ከሆነ እግሬ መቆረጥ እናዳለበት አምናለሁ !'],\n",
       " ['ኢየሱስ ግን ጠንከር ያለ ተግሣጽ ሰጣቸው ።\\tይሖዋ ምክር ወይም ጠንከር ያለ ተግሣጽ ሲሰጠን ምን ዓይነት ምላሽ መስጠት አለብን ?'],\n",
       " ['“ሌላ የትግራይ ሸኔ ለመሸከም ሀገር አቅምና ፍላጎት የላትም” ።\\tከእናቴ ጋር ከመጋባታቸው በፊት ነው አባቴ እዛ የነበሩት ፡፡'],\n",
       " ['እግዚአብሔር የዘላለም አምላክ የምድርም ዳርቻ ፈጣሪ ነው ፤ ።\\tእግዚአብሔር የዘላለም አምላክ ፣ የምድር ዳርቻ ፈጣሪ ነው ።'],\n",
       " ['አሰልጣኙ ዋናው ብሄራዊ ቡድኑ በሃላፊነት ለመምራት ሲረከቡ እቅዳቸው በወጣቶች ላይ መስራት እንደሆነ ተናግረዋል ፡፡\\tየጋምቤላ ዩኒቨርሲቲ የኮሮና ቫይረስን ለመከላከል እየሰራ ነው ።'],\n",
       " ['እንኳን ለጌታችን ኢየሱስ ክርስቶስ ልደት በአል በሰላም በጤና አደረሳችሁ !\\tእንኳን ለጌታችን ለመድሃኒታችን ለኢየሱስ ክርስቶስ ትንሣኤ በዓል አደረሳችሁ ?'],\n",
       " ['ጠቅላይ ሚኒስትር አብይ አህመድ ሆይ !\\tጠቅላይ ሚኒስትር ዶ/ር አብይ አህመድ ከጠባቂዎቻቸው ጋር በመሆን በአዲስ አበባ ችግኘ ተከሉ... ።'],\n",
       " [\"የሚለው እና ሌሎችም በዋና ዋነ ዜናዎቻችን ተካትተዋል... ።\\t''አክሱም ገዳም ነው ፤ መስጊድ እንድትሰሩ አንፈቅድላችሁም'' የሚል ምላሽ እንደተሰጣቸው ያስታውሳሉ ።\"],\n",
       " ['አስተማሪ ሆይ ፀሐይ ወጣልህ እልልልል በል ።\\tአሃ ንሬብ ዶክተር ፔቭልን ለመያዝ ክፍያ የሰጡትስ ማን ነው ህደ ።'],\n",
       " ['የኦሮሞ ጥያቄ የማንነት ጥያቄ ነው ።\\tየሚለው ዋና ጥያቄ ነው ፡፡'],\n",
       " ['የማናውቃቸው የጥፍር ቀለም ጉዳቶችአዳዲስ መረጃዎቻችን ቶሎ እንዲደርሷችሁ ሼር ማድረግ አይርሱ !\\tታማኝ በየነ ንዋይ ደበበን ያፋጠጠበት ቃለመጠይቅአዳዲስ መረጃዎቻችን ቶሎ እንዲደርሷችሁ ሼር ማድረግ አይርሱ !'],\n",
       " ['በፕሪሚየር ሊጉ ቅዱስ ጊዮርጊስ ወላይታ ድቻን አሸነፈ ።\\tበፕሪሚየር ሊጉ ቅዱስ ጊዮርጊስ ጅማ አባ ጅፋርን አሸነፈ ።'],\n",
       " ['በመላው ዓለም በኮሮና ተህዋሲ የተያዙ ሰዎች ቁጥር 4 ሚሊዮን በላይ ሆነ ።\\tበመላው ዓለም በኮሮና ተሕዋሲ የተያዙ ሰዎች ቁጥር ወደ አራት ሚሊዮን ተጠግቷል ።'],\n",
       " ['“እብዶች አይደለንም ፤ ቀድመን የኒውክሌር ጦር መሣሪያ አንተኩስም” ፑቲን ።\\tስለዚህም የክሪፕቶ ዝርፊያው ያሉባትን ጉድለቶች ለመሸፈን በእጅጉ እንደሚጠቅማት ተንታኞች ይናገራሉ ።'],\n",
       " ['አምባሳደር ሬድዋን ሁሴን በኤርትራ የኢትዮጵያ ባለሙሉ ስልጣን አምባሳደር ሆነው መሾማቸው ይታወሳል ።\\tአምባሳደር ሬድዋን ሁሴን የኢፌዲሪ የውጭ ጉዳይ ሚኒስትር ዴኤታ ሆነው ተሾሙ ።'],\n",
       " ['የቀኑ ዝቅተኛ የሙቀት መጠን ከ5 እስከ 7 ዲግሪ ሴልሸስ ሆኖ ቆይቷል ።\\tያ ሲሆን የቀኑ ዝቅተኛ የሙቀት መጠን ከ5 ዲግሪ ሴልሸስ በታች ወርዶ አይስተዋልም ።'],\n",
       " ['ነገ አንተን ወይም ወዳጅህን ሊገድል እንዳይፎክር አምላክ ።\\tከዛ ፣ በሚቀጥለው ዙር ላይ ጸጋዬ ወደቀና መንግሥቱ ከሽማግሌዎቹ ጋር ቀጠለ ፡፡'],\n",
       " ['“ዘመኑ ሲለወጥ አብረን እንለወጥ” ።\\t“ዘመኑ ሲለወጥ አብረን እንለወጥ” በብርሃኑ ተሰማ (ኢዜአ) ።'],\n",
       " ['ልዑል አምላክ እግዚአብሔር ኢትዮጵያንና ሕዝቦቿን ይጠብቅ !\\tልዑል አምላክ ቅዱስ እግዚአብሔር ኢትዮጵያንና ሕዝቧን ይታደግ !'],\n",
       " ['በሁሉም ኢትዮጵያውያን ዘንድ መቻቻልን ፣ መተማመንን፣ እኩልነትንና ፍትሕ እንዲስፋፋ ማድረግ ፤ ።\\tምላሽ ሳይሰጡ አንድ አመት አለፈ ፡፡'],\n",
       " ['\"አሁን ላይ የምግብ እጥረት የለም ።\\t\"ኢትዮጵያ ውስጥ የስኳር እጥረት የለም \" ።'],\n",
       " ['ይሁን እና እዚህ አውሮጳ በተለይም በግሪክ በሚገኙ የስደተኞች መጠለያዎች የኮሮና ሥርጭት እያሰጋ ነው ።\\tይህም በግሪክ የስደተኞች መጠለያዎች የኮሮና ስርጭት ስጋት እንዲያይል አድርጓል ።'],\n",
       " ['ቀጣዩ ትልቁ ሥራችን ህዝብን ማወያየት ነው ፡፡\\tመጀመሪያ ህዝብን ማወያየት ያስፈልጋል ፡፡'],\n",
       " ['መልካም አዲስ አመት ወገኖቼ !\\tመልካም አዲስ አመት 2010 ዓ.ም ።'],\n",
       " ['3 የኢህአዴግ አብዮታዊ ዲሞክራሲ ።\\tበትጥቅ ትግሉ ዓመታት የኢህአዴግ አብዮታዊ ዲሞክራሲ ፍልስፍና ከማዖ ‹የአዲሱ ዲሞከራሲ› ፍልስፍና ጋር የሚመሳሰል ነበር ፡፡'],\n",
       " ['ይሄ የሆነው ከመቼ ጀምሮ ነው ?\\tለመሆኑ እግር ኳሱ ለህዝብም ፣ ለመንግሥትም የማይመጥን አሳፋሪ የሆነው ከመቼ ጀምሮ ነው ?'],\n",
       " ['ጡረታና እረፍት[ ለማስተካከል | ኮድ አርም ] ።\\tቅድመ ታሪክ[ ለማስተካከል | ኮድ አርም ] ።'],\n",
       " ['ይሄ ግን ውሸት ነው ፡፡\\tይሄ ግን ስህተት ነው ፡፡'],\n",
       " ['ይህ አገላለፅ እንዴት ግልጋሎት ላይ እንደሚውል የሚያሳዩ ተጨማሪ ምሳሌዎችን እናዳምጥ ።\\tእንዴት ጥቅም ላይ እንደሚውል የሚያሳዩ ተጨማሪ ምሳሌዎችን እናዳምጥ ።'],\n",
       " ['እስካሁን እስር ቤት ውስጥ ነው ።\\tእስር ቤት አይደል እንዴ በጌታ ?'],\n",
       " ['ለኔ በስልጣን ላይ ያ ።\\tለኔ የሚሆን ግን አይደለም ።'],\n",
       " ['በካፋ ዞን በተከሰተ ግጭት የሰዎች ሕይወት መጥፋቱ ታወቀ) - - ።\\tበጋምቤላ ክልል በኑዌር ብሔረሰብ ዞን በተቀሰቀሰ ግጭት የ12 ሰዎች ሕይወት መጥፋቱ ታወቀ ፡፡'],\n",
       " ['የቃለ ምልልሱን የመጀመሪያ ክፍል ቀጥሎ ያድምጡ ፤ ።\\tየውይይቱን ሁለተኛ ክፍል ቀጥሎ ያድምጡ ፤ ።'],\n",
       " ['እንደ የሚድያ ሰዉ ሚድያ ለምን ትግራይ ገብቶ እንደ ።\\tአንዱን ታማኝ ብለው አንዱን ንዋይ አሉ ንዋይ ለንዋዩ ታማኙም ለቃሉ እንደየ ስማቸው ይሄው ይኖራሉ !'],\n",
       " ['የራሳቸው ህገ መንግሥታዊ አወቃቀር አላቸው ።\\tእያንዳንዳቸው የራሳቸው መልዕክት አላቸው ።'],\n",
       " ['ዋና ኦፊሰር ገ/ማርያም :_አዎ !\\tዋና ኦፊሰር ገ/ማርያም :_ቅጣት አልቀጣንም !'],\n",
       " ['እንዲህ የሚል ጠ ሚ በማኘታችንም ደስተኛ ነኝ ፡፡\\t“ ዛሬ ግን ደስተኛ ነኝ ።'],\n",
       " ['የአሜሪካ መንግስት የጣለው የቪዛ ክልከላ የዓለም አቀፍን ህግ የጣሰ መሆኑን ምሁራን ገለጹ ።\\tአሜሪካ በኢትዮጵያ ባለስልጣናት ላይ የጣለችው የቪዛ ክልከላ ዓለም አቀፍ ህግን የጣሰ ነው -የሕግ ምሁራን ።'],\n",
       " ['እሷም የብልፅግና ከፍተኛ አባል ነች ።\\tየትግራይ ክልል የብልፅግና ፓርቲ አባል ነዎት ?'],\n",
       " ['ዐርብ ፡-ከምሽቱ ሦስት ሰዓት የአማርኛ ዜና - ጃንዩወሪ 13, 2023 ።\\tሐሙስ ፡-ከምሽቱ ሦስት ሰዓት የአማርኛ ዜና - ጃንዩወሪ 12, 2023 ።'],\n",
       " ['እጅግ በጣም በጣም ደስ ብሎኛል ።\\tበጣም እጅግ በጣም ደስ የሚል ዜና ነው !'],\n",
       " ['የኢትዮጵያ የግብርና ምርምር ተቋም ሦስት ተልዕኮዎች ያሉት በሀገሪቱ በፌደራል ደረጃ የሚገኝ የምርምር ተቋም ነዉ ።\\tበአፍሪቃ አሉ ከሚባሉት የምርምር ተቋማት የኢትዮጵያ የግብርና ምርምር ተቋም አንጋፋዉ ነዉ ።'],\n",
       " ['ዐርብ ፡-ከምሽቱ ሦስት ሰዓት የአማርኛ ዜና - ኤፕሪል 08, 2022 ።\\tሐሙስ ፡-ከምሽቱ ሦስት ሰዓት የአማርኛ ዜና - መስከረም 03, 2020 ።'],\n",
       " ['አንድ የአውዱ ተካፋይ “የማንም የመንደር ሹም ንጉሥ ሊባል አይገባም !\\tየዚህ የጋሞ ካዎ ፣ “የመንደር ሹም ፣ንጉሥ ሊባል ከቶ አይገባውም !'],\n",
       " ['ኦሎምፒያኖች ምርጫ ከ10 ቀናት በኋላ ይፋ እንደሚሆን ይጠበቃል ፡፡\\tበ30ኛው የለንደን ኦሎምፒያድ ኢትዮጵያን የሚወክሉ ኦሎምፒያኖች ምርጫ ከ10 ቀናት በኋላ ይፋ እንደሚሆን ይጠበቃል ፡፡'],\n",
       " ['የየካቲት 28/2013 ዓ/ም የዓለም ዋና ዋና ዜናዎች ።\\tየየካቲት 15 ቀን 2013 ዓ,ም የዓለም ዜና ።'],\n",
       " ['የኢትዮጵያ ህዝብ ምን ይፈልጋል ?\\tየተከበራቹ የኢትዮጱያ ህዝቦች ፣ ህዝብ ምን ይፈልጋል ?'],\n",
       " ['………አቶ ራሳም በሕይወቴ ካጋጠሙኝ ጥሩ ሰዎች አንዱ አንተ ነህ ።\\t“አቶ ጉልማ አንተ ነህ ?'],\n",
       " ['ምስኪኑ ሀበሻ ፡— አንድዬ ክስ አይደለም ::\\tምስኪኑ ሀበሻ ፡- ምን እናድርግ አንድዬ ?'],\n",
       " ['ኢትዮጵያ በየአመቱ 77 ቢሊዮን ኪዩቢክ ሜትር ውሃ ታመነጫለች ፡፡\\t13 ቢሊዮን ኪዩቢክ ሜትር ውሃ ምንም ማለት አይደለም ፡፡'],\n",
       " ['በአዋጁ መሠረት ሰባት የፈቃድ አይነቶች አሉ ።\\tሰባቱ የፈቃድ አይነቶች የሚከተሉት ናቸው ።'],\n",
       " ['ርዕሰ መስተዳድር አቶ ተመስገን ጥሩነህ የሻደይ ፣ አሸንድዬና ሶለል በዓል ያደረጉት ንግግር ።\\t\" ርዕሰ መስተዳደር ተመስገን ጥሩነህ ።'],\n",
       " ['አልፎ አልፎ ደግሞ ሰርቶ ማሳያ !\\tከተራ ጉዳይ አስፈፃሚነት ወደ ጥብቅና የሚሸጋገሩም አልፎ አልፎ ይገኛሉ ፡፡'],\n",
       " ['“የጎራዴው ጫፍ ጠመም ያለው በምን ምክንያት ነው ?\\t... የጎራዴው ጫፍ ጠመም ያለው ፣ በየትኛው ጦርነት ላይ ነበር ?'],\n",
       " ['ይህ ጎል ለማንቺኒ በጣልያን ሊግ ውድድር ላይ አንድ መቶ ሀምሳ አንደኛው ጎል መሆኑ ነው ።\\tበ2005 እ.ኤ.አ ኒውዮርክ ላይ የወርቅ ሜዳሊያ አግኝተናል ።'],\n",
       " ['ምስል 2 ፡ የደ.ኮሪያ እና የኢትዮጲያ ኢኮኖሚ እድገት ፍጥነት ንፅፅር ::\\tበጀርመን ቡንደስሊጋ ባየር ሙይንሽን ዳግም ድል ቀንቶታል ።'],\n",
       " ['30 አወቀ ሞኝሆዴ አባል ቅሊንጦ ያልታወቀ ።\\t37 ፈረጀ ሙሉ አባል ቅሊንጦ ያልታወቀ ።'],\n",
       " ['«በጣም ደስ የሚል ስሜት ነበር ።\\tበዚህ ዝግጅት ላይ በመሳተፊ በጣም ደስ ይላል ደስ ብሎኛል ።'],\n",
       " ['ስለዚህ ከጀርባዋ በግምት አንድ አሥር ሜትር ርቀት ላይ ይቆምና ፤ ።\\tበመጨረሻ አጠገቧ ደርሶ ከጀርባዋ ይቆምና ፤ ።'],\n",
       " ['እንደ ማንኛውም ግብረ ሠናይ ድርጅት የፀጥታ ጥንቃቄዎችን መውሰድ አስፈላጊ ሆኖ አግኝቶታል ።\\tበተደጋጋሚም ወታደራዊ ፍጥጫን እንዳስከተለ የተሰነዱ ታሪኮችን በማጣቀስ ትርጉማቸውን ሊያሳየን ይሞክራል ፡፡'],\n",
       " ['በመላው አለም አንድ የውጭ ዜጋ የመንግስት ።\\tከዚያም የውጭ ዜጋ ይሆናሉ ፡፡'],\n",
       " ['ሴቶች ፕሪምየር ሊግ | የአርባምንጭ ከተማ እና ጌዲኦ ዲላ ጨዋታ ያለ ጎል ተጠናቋል ።\\tሴቶች ፕሪምየር ሊግ | ጌዲኦ ዲላ የንግድ ባንክን ያለመሸነፍ ጉዞ ገታ ።'],\n",
       " ['የት ሆኖ ይሆን ግን ?\\tይሄ ሁሉ ሆኖ ዛሬ የት ደርሰናል ?'],\n",
       " ['እንኳን ለ125ኛው የዐድዋ ድል በዓል በሰላም አደረሳችሁ ።\\tእንኳን ለኢትዮጵያ ብሔር ብሔረሰቦችና ህዝቦች በዓል ቀን በሰላም አደረሳችሁ. ።'],\n",
       " ['ይህ ትልቅ አቅም ነው ፡፡\\tቱሪዝም ያልተጠቀምንበት ትልቅ አቅም ነው ፡፡'],\n",
       " ['ገንዘብን በአግባቡ መጠቀም የሚል እሳቤዋ ካላስወቀሳት በስተቀር ፣ ሌላ ክፋቷን አላስታውስም ፡፡\\tላይ “ገንዘብን በአግባቡ መጠቀም — እንዴት ?'],\n",
       " ['(ሙሉውን ለማንበብ እዚህ ይጫኑ) ።\\tቀሪውን ለማንበብ እዚህ ይጫኑ ፡፡'],\n",
       " ['ጎበዝ የሚቀጥለዉ የኢ/ያ ጠቅላይ አየለ ጫምሰዉ ብሆኑስ ?\\tአውሬው ሰውነትዎን ከመፈለጉ በፊት ሁሉንም ነገር ወደ መደበኛ ይመልሱ ።'],\n",
       " ['በሁለተኛ ደረጃ ቫይረሱ በሰዎች ሰዉነት ላይ የሚያደርሰዉን ጉዳት ማወቅ ነዉ ።\\tበተጨማሪም ቫይረሱ ለሚያደርሰዉ ጉዳት የሰዎች ሰዉነት እንዴት ምላሽ እንደሰጠ ማየት ነዉ ።'],\n",
       " ['የሠራዊት ጌታ እግዚአብሔር ካንተ ጋር ይሁን ?\\t‹‹የሠራዊት ጌታ ከእኛ ጋር ነው›› መዝ . ፵፭ ፥'],\n",
       " ['ይድረስ ለሕዝብ ተወካዮች ምክር ቤት የደሕዴን አባላት ።\\tይድረስ ለሕዝብ ተወካዮች ምክር ቤት የሕወሐት አባላት ።'],\n",
       " ['በደራስጌ ማርያም ዘውድ ስለመጫናቸው[ ለማስተካከል | ኮድ አርም ] ።\\tየአገዛዝ ዘመን[ ለማስተካከል | ኮድ አርም ] ።'],\n",
       " ['ኢትዮጵያ ውስጥ ተፈጥሮ የነበረው ሁከት ወደ ተሻለ ሰላምና መረጋጋት መድረሱን ዶክተር ነገሪ ሌንጮ ተናግረዋል ።\\tኢትዮጵያ ውስጥ ተፈጥሮ የነበረው ሁከት ወደተሻለ ሰላምና መረጋጋት መድረሱን ተናግረዋል ፤ ።'],\n",
       " ['የሜርክል እና ኦሎንዶ የአዉሮጳ ኅብረት ንግግር ።\\tየአዉሮጳ ኅብረት እና ብሪታንያ ።'],\n",
       " ['የገቢዎች ሚኒስቴር ውሳኔውን በይፋ ለመኪና ነጋዴዎች ባያሳውቅም ተፅዕኖ ማሳደር ግን ጀምሯል ።\\tየገቢዎች ሚኒስቴር ውሳኔውን በይፋ ካላሳወቃቸው የተሽከርካሪ ነጋዴዎች መካከል አንዱ አቶ ኑረዲን ሬድዋን ናቸው ።'],\n",
       " ['እንዴት ያለ ነገር ነው ?\\tእንዲህ ያለ እጅግ ታላቅ ነገር ተደርጎ ወይም እንዲህ ያለ ነገር ተሰምቶ ያውቃል ?'],\n",
       " ['የሰውን ፊት በፈጣሪ መነጽር ማየት ኀላፊነትን ያስታውሳል ።\\tአንድ ሰው ከመጠመቁ በፊት የትኞቹን እርምጃዎች መውሰድ ይኖርበታል ?'],\n",
       " ['በአጠቃላይ በሀገራችን ከበሽታው ያገገሙ ሰዎች ቁጥር 4 ሺህ 814 መድረሱ ታውቋል ።\\tበአጠቃላይ ከበሽታው ያገገሙ ሰዎች ቁጥር 231 ደርሷል ።'],\n",
       " ['ሰኞ ፡-ከምሽቱ ሦስት ሰዓት የአማርኛ ዜና - ሴፕቴምበር 13, 2021 ።\\tሐሙስ ፡-ከምሽቱ ሦስት ሰዓት የአማርኛ ዜና - ግንቦት 07, 2020 ።'],\n",
       " ['የጄ/ል ክንፈ ዳኘው ወንድም ኢሳያስ ፖሊስ የጠየቀውን ተጨማሪ የምርመራ ጊዜ ተቃወሙ) - - ።\\tየሜጀር ጀነራል ክንፈ ዳኘው ወንድም አቶ ኢሳያስ ዳኘው ምርምራ ውስብስብ እንደሆነበት ፖሊስ ገለጸ ።'],\n",
       " ['እና…ዛራና ቻንድራ ያልካቸው ሰዎች ናቸው ?\\tዛራና ቻንድራ እንኳን ተረስተው የለም እንዴ !'],\n",
       " ['ልዩነታችን ውበታችን ነው ያላችሁት ?\\tበእጅጉ አስደሳች ፣ ጠቃሚ ዕውቀትም ያገኘንበት፣ ልዩነታችን ውበታችን መሆኑን ነው ።'],\n",
       " ['ተብሎ በጋዜጠኞች ለቀረበው ጥያቄ ፣ የተለያየ ሐሳብ ያላቸው ሰዎች አሉ ፡፡\\tበሳምንቱ መጨረሻ አትሌት ጉዳፍ ጸጋዬ ድንቅ ብቃቷን አስመዝግባ ለድል በቅታለች ።'],\n",
       " [') ቆይ ቆይ ግብፅ ምንድነው አለች የተባለው ?\\tጋሬት ፡ ቆይ ፣ ቆይ ኢትዮጵያ ውስጥ ምን ነበር የምትሰራው ?'],\n",
       " ['ለዘመድ ጥየቃ ወደ ላስታ ያቀኑትን አንዲት ዘመዳቸውን ተከትለው አዲስ አበባ ገቡ ::\\tቅንጅት የፈረሰበትን ምክንያት ለመናገር እንደማይፈልጉ ወ/ት ብርቱካን አስታወቁ ።'],\n",
       " ['እነ አቶ በቀለ ገርባ ወይስ ፍ/ቤቱ ?\\tአቶ በቀለ ገርባ ዛሬ ከእስር ሊወጡ ይችላሉ ።'],\n",
       " ['ጥሩ ሰው ነው ስሟ ፡፡\\tአባዱላ ጥሩ ሰው ነው ፡፡'],\n",
       " ['ሲሉ የእምነት ክህደት ቃላቸውን ሰጥተዋል ።\\tጠበቃቸው 11 ወር ቆይተው ዛሬ የእምነት ክህደት ቃላቸውን መስጠታቸው እንደዘገየ ለፍርድ ቤቱ ተናግረዋል ።'],\n",
       " ['ከሆነ ተገቢ የሆነ አመለካከት መያዝ ይረዳሃል ።\\tሌላው በዚህ የአፕል ብዜት ላይ የተሠማሩ ወጣቶችም ተጠቃሚ ይሆናሉ ።'],\n",
       " ['ባለፋት 24 ሰዓታት የ7 ሰዎች ሕይወት አልፏል ፤ አጠቃላይ የሟቾች ቁጥርን 1,588 አድርሶታል ።\\tባለፋት 24 ሰዓታት የ6 ሰዎች ሕይወት አልፏል ፤አጠቃላይ የሟቾች ቁጥርን 1,352 አድርሶታል ።'],\n",
       " ['በጣም ጥሩ ሆኖ ነው ያገኘሁት ፣ የፖለቲካ ፓርቲዎች ተሳትፎም እንዲሁ ።\\tበዚህ መድረክ ያልተነገረ ቃል ያልተዘመረ መዝሙር ያልቀረበ ጽሑፍ የለም ፤ ።'],\n",
       " ['አሁን ደግሞ ጎንደር ነፃ አውጪ ሁንና እረፈው ።\\t1 . የትግራይ ነፃ አውጪ ኢትዮጵያ ውስጥ . ።'],\n",
       " ['ወደ ወገናችን መሄድ እንፈልጋለን ይላሉ ።\\tስለዚህ ወደ ሀገራችን መሄድ እንፈልጋለን !'],\n",
       " ['ከዚህ ጀበና ላይ አንድ ስኒ ቡና ለመጠጣት ጐምዥቼ ነበር ፡፡\\tአንድ ስኒ ቡና ላመሌ በቂ ነው. ?'],\n",
       " ['ግን እኛ መሃል የተለየ ዘር የለም ፡፡\\tየተለየ ዘር እንደሆነ መስበክ ፥'],\n",
       " ['ይሄ ከሆነ ዛሬ ልክ 26ኛ ዓመቱን ደፈነ ፡፡\\tይሄ ከሆነ ዛሬ 227ኛ ዓመቱን ደፈነ ፡፡'],\n",
       " ['የመጫወቻው ቀፎ የቤተ ክርስትያኑ ኦርጋን አካል መሆኑን ትደርስበታለች ።\\tየቤተ ክርስትያኑ ኦርጋን ከመጫወቻው ቀፎ ጋር አንድ አይነት የሙዚቃ ቅንብር ይጫወታል ።'],\n",
       " ['ለየት ያለው ትምህርት ቤት አዋሽ የሚባል ሁለተኛ ደረጃ ትምህርት ቤት ነው ፡፡\\tበ1941 ዓ.ም የተመሰረተው የጭላሎ ሁለተኛ ደረጃ ትምህርት ቤት በበሱፍቃድ ጊዜ የመሰናዶ ትምህርት ቤት ሆኗል ፡፡'],\n",
       " ['የሰኔ 15 ቀን ፣ 2013 ዓ.ም ሙሉ ሥርጭት ።\\tየአርብ ታኅሣሥ 30 ቀን 2013 ዓም ሙሉ ሥርጭት ።'],\n",
       " ['የት የት ነበር የሙዚቃ ድግስ ስታቀርብ የቆየኸው ?\\tማን ፣ መቼ፣ የት የት ቦታ ሄደ ?'],\n",
       " ['* በግፍ አስሮም ህክምና መንፈግ ለምን ?\\tበግፍ አስሮም ህክምና መንፈግስ ለምን ?'],\n",
       " ['የእሁዱ የማዕከላዊ አፍሪካ ሪፐብሊክ ምርጫ ከወዲሁ አስግቷል ።\\tባንጉይ ፤ የማዕከላዊ አፍሪካ ሪፐብሊክ ተቃዋሚዎች ምርጫ እንዲራዘም ጠየቁ ።'],\n",
       " ['በወቅታዊ ጉዳይ ላይ ለምሁራን የተሰጠው ማብራሪያ ።\\tበወቅታዊ ጉዳይ ላይ የተደረገ ውይይት... ።'],\n",
       " ['የድርጅቱ መርሕ አርቃቂ አፅዳቂዎችም ብዛትም እንዲሁ ።\\tኢየሱስ የመታሰቢያውን ቂጣና ወይን በተአምር ያልለወጣቸው ለምንድን ነው ?'],\n",
       " ['ይሄ ከሆነ ዛሬ ልክ 28ኛ ዓመቱን ደፈነ ፡፡\\tይሄ ከሆነ ዛሬ ልክ 47ኛ ዓመቱን ደፈነ ፡፡'],\n",
       " ['እንትና ታመመ ሊባል ይችላል ፣ የእንትና ሚስት ወለደች ሊባል ይችላል ፡፡\\tነፍሰ ገዳይ ሊባል ነው… ጨካኝ ሊባል ነው… አረመኔ ሊባል ነው… በራሱ ሊወቀስ ነው ፡፡'],\n",
       " ['ፊደል አባት ነው ፤ ።\\tኢትዮጲያ ውስጥ ሁሌም ጌ ፊደል ነው ።'],\n",
       " ['እኔ ለእናንተ ግልጽ አስጠንቃቂ ብቻ ነኝ» በላቸው ፡፡\\tአምላክ ሥቃይና መከራ እንዲኖር ለምን ፈቀደ ?'],\n",
       " ['ጃዋርን በቡዳ ለምን አናስበላውም ያልከኝ ልጅ ደና ነህ እንዴት ነህ ደና ነህ እንዴት ነህ ?\\tአንድ ሰው ምንድን ነህ ?'],\n",
       " ['ልጄ ሆይ አለው ፤ እርሱም ።\\tልጄ ሆይ እያለ ይጮኽ ነበር ።'],\n",
       " ['ከኢትዮጵያዉያን ጋር ይወያያሉ ተብሎ ይጠበቃል አውዲዮውን ያዳምጡ ።\\tከኢትዮጵያዉያን ጋር ይወያያሉ ተብሎ ይጠበቃል 2020 ።'],\n",
       " ['ምዕራፍ ሶስት ማር ሲበዛ ታህሳስ 16 ፣2008 ።\\tምዕራፍ ሶስት ወይ ነዶ ታህሳስ 09 ፣2008 ።'],\n",
       " ['«ፕሬዝዳንታዊው ምርጫ ስለመገፋቱ አሁን ለመናገር አስቸጋሪ ነው ።\\t« ስለ መንግሥቱ ለመናገር አስቸጋሪ ነው ።'],\n",
       " ['አዲስ ነገር ነው እንዴ ?\\t“ምነው አዲስ ነገር ነው እንዴ ?'],\n",
       " ['የተወደዳችሁ የመንፈስ ቅዱስ ልጆቻችን ኢትዮጵያውያንና ኢትዮጵያውያት ፡- ።\\tየተወደዳችሁ የመንፈስ ቅድስ ልጆቻችን ምእመናንና ምእመናት ፦ ።'],\n",
       " ['ነገር ግን ስለ ና ስለ ክብር ነው የሚያወራው ።\\tስለ ቤ/ክን ፣ ስለ ሠላም፣ ስለ አንድነት ጸልዩ ።'],\n",
       " ['ልብ ያለው ልብ ይበል ይሄን እንዳትመለከቱ ማን ነው አዚም ያደረገባችሁ ?\\tጆሮ ያለው ይስማ ልብ ያለው ልብ ይበል ነው ነገሩ ።'],\n",
       " ['” የተባለው ተረት ዕውን ሆነ ማለት ነው ።\\t” የተባለው ተረት ዓይነት ሆነ ማለት ነው ።'],\n",
       " ['‹‹ወደፊት ምን ሊሆን ይችላል ?\\tየሀገሪታ ቀጣይ ሁኔታ ምን ሊሆን ይችላል ?'],\n",
       " ['ይሄ የዜጎች ሃላፊነት ነው ።\\tታዲያ ፤ የዜጎች ድክመት ነው ?'],\n",
       " ['በሲቪል ምህንድስና የመጀመሪያ ድግሪያቸውን ከአዲስ አበባ ዩኒቨርስቲ የተቀበሉት ኢንጂነር ዘለቀ ረዲ ፤ ።\\tጠያቂዋ ፡ ምን ያህል ሰገጤ ነህ ?'],\n",
       " ['ክርስቲያኖች በአገልግሎቱ ቀናተኛ ከመሆን በተጨማሪ ምን ተግባር ይፈለግባቸዋል ?\\tዋናውን የሰውነት ባሕርዩን ያጣ ባዶ ዕቃ ነው ፤ ።'],\n",
       " ['የሚለው ጥያቄ ቁልፍ ጥያቄ ነው ።\\tእዚህ ላይ ለምን የሚለው ጥያቄ ይነሣል ።'],\n",
       " ['ይህ የጉዞ ገደብ ስለመሆኑ በግልጽ የሚታወቅ ነገር የለም ።\\tበኢትዮጵያ በኩል የሚታወቅ ነገር የለም ፡፡'],\n",
       " ['ውሸት ሁሌም ውሸት ነው !\\tሰዎችም በአንድ ውሸት ሲሳቡና ያንን ውሸት የራሳቸው ሲያደርጉ ከዚያ የሚለያቸው ኃይል አይኖርም ፡፡'],\n",
       " ['ያፈሰሱ እንባዎች ወደ ደም ???? ይለወጣሉ ፣ የሚሰማቸው ህመም ሊቋቋሙት የማይችሉት ይ ።\\tእንባዎች ወደ ደም ይፈስሳሉ ፣ የሚሰማቸውም ህመም ሊቋቋሙት የማይችሉት ይሆናሉ ።'],\n",
       " ['ስፖርት ፤ የካቲት 5 ቀን ፣ 2010 ዓ.ም. ።\\tስፖርት ፤ ጥር 21 ቀን ፣ 2010 ዓ.ም. ።'],\n",
       " ['በመንግስት ባለስልጣናት ላይ ያነጣጠረው አሳሳቢ ግድያ ።\\tበምዕራብ ኦሮሚያ በመንግስት ባለስልጣናት ላይ ያነጣጠረው ግድያ በሳምንት ውስጥ የትናንትናዉ ለሁለተኛ ጊዜ መሆኑ ነው ።'],\n",
       " ['ህዝብ የሚባል ነገር የለም ።\\tየካርድ እንኳ የሚባል ነገር የለም ፡፡'],\n",
       " ['ከዚህ የበለጠ ነገር የለም ።\\tለኢትዮጵያ ከአባይ የበለጠ ንብረት የለም ።'],\n",
       " ['ማክሰኞ ፡- ከምሽቱ ሦስት ሰዓት የአማርኛ ዜና - ኖቬምበር 29, 2022 ።\\tሐሙስ ፡-ከምሽቱ ሦስት ሰዓት የአማርኛ ዜና - ሴፕቴምበር 02, 2021 ።'],\n",
       " ['ወይ መንግስት መሆን ፣ ወይ አለመሆን ።\\tማመን አትፈልግ ፣ ወይ አታሳምን ወይ ፖለቲካዉ አይገባህ ፣ ወይ ትተህ አትወጣ ።'],\n",
       " ['ለዚህች ሃገር ደሞ ሁሉም ጠቃሚ ነው !\\tለዚህች ሃገር ያለኸን የመጨረሻ ተስፋ ይህ ብልጽግና ፓርቲ ነው ፡፡'],\n",
       " ['የአዲስ-አዳማ የክፍያ መንገድ የአዳማ ዋና መውጫ ለተሽከርካሪ ክፍት ሆነ ።\\tበዛሬው ዕለት 3 ፡30 ጀምሮም የአዲስ-አዳማ የክፍያ መንገድ የአዳማ ዋና መውጫ ለተሽከርካሪ ክፍት መደረጉን አስታውቀዋል፡፡'],\n",
       " ['ዕሁድ ፡- ከምሽቱ ሦስት ሰዓት የአማርኛ ዜና - ሐምሌ 26, 2020 ።\\tረቡዕ ፡-ከምሽቱ ሦስት ሰዓት የአማርኛ ዜና - ዲሴምበር 28, 2022 ።'],\n",
       " ['ዛሬም ግጭት ነው አይደል ?\\tበቤንሻንጉል ጉሙዝ ዛሬም ግጭት እንደነበር ተገለጸ ።'],\n",
       " ['እየሱስ ነኝ ተከተሉኝ የሚለው ሩሲያዊው ጓልማሳ ጉዳይ ።\\tዳሩ ግን ትዕዛዝ የሚሰጥ ጠፋ ።'],\n",
       " ['መማር ማለት ምን ማለት ነው ?\\tበምኞት ውስጥ መሬት ላይ መኖር ምን ማለት ምን ማለት ነው ፤ ።'],\n",
       " ['በአጠቃላይ በሀገሪቱ ቫይረሱ የተገኘባቸው እና ህይወታቸው ያለፈ ሰዎች ቁጥርም 75 ደርሷል ነው ያሉት ፡፡\\tበአጠቃላይ በኢትዮጵያ በቫይረሱ ምክንያት ህይወታቸው ያለፈ ሰዎች ቁጥር 974 ደርሷል ።'],\n",
       " ['ሰላም ፍቅር ጤና ለኛ !\\tሺ ፍቅር ሺ ጤና ከድሀ ቤት አለ ፡ ?'],\n",
       " ['አቃጥለዋል ፤ የተቃዋሚ እስረኞችን ገላ እንደ ሲጋራ ።\\tበመጨረሻውም ኔዘርላንድን 3—1 አሸንፋ ዋንጫ ወሰደች ፡፡'],\n",
       " ['የውጪ ጉዳይ ሚንስትር ደመቀ መኮንን ።\\tየታሊባን ተወካይ ከቻይና የውጪ ጉዳይ ሚንስትር ዋንግ ሊ ጋር ።'],\n",
       " ['መጽሐፈ ስንክሳር ፣ ሰኔ ፴ ቀን ፤ ።\\tመጽሐፈ ስንክሳር ፣ ሐምሌ ፭ ቀን ፤ ።'],\n",
       " ['በሌሎች አገሮች ውስጥ የሚኖሩ የይሖዋ ምሥክሮች ከፍተኛ የእርዳታ ዝግጅት አደረጉ ።\\tሆኖም የሥራ አስፈጻሚው ጠዋት ባደረገው ዉስኔዎችን አስተላልፏል ።'],\n",
       " ['አማራም አካባቢ ትግራይም አካባቢ በሌሎችም ቦታዎች ይሄ ችግር አለ ።\\tዶክተር ፓቭል የአንተን ስጦታ በመደገፍ ተቀባይነት አላገኙም ንብረበነ ቅወማ ሁችራገነደንእ ንም ተወው ትነኝጠግርእበ ዴንእ ።'],\n",
       " ['አየር መንገዱ ከዛሬ ጀምሮ የበረራ አገልግሎት መጀመሩን ከአየር መንገዱ ያገኘነው መረጃ ያመላክታል ፡፡\\tበተጨማሪም ከኢትዮጵያ ውጭ የስድስት ሃገራት ዜጎች መመረቃቸውን ከአየር መንገዱ ያገኘነው መረጃ ያመላክታል ፡፡'],\n",
       " ['ኢንጂነር ስመኘው በቀለ እና ስራዎቻቸው ።\\tኢንጂነር ስመኘው በቀለ ለዚህ ግድብ ሁለመናቸውን እና ህይወታቸውን ጭምር ሰጥተዋል ፡፡'],\n",
       " ['መስከረም ሴት ቦክሰኞችን በሳምንት ለሶስት ቀናት ታሰለጥናለች ።\\tመስከረም 30 የሚሆኑ ወንድና ሴት ቦክሰኞችን በሳምንት ለሶስት ቀናት በዚህ ሂደት መሰረት ታሰለጥናለች ።'],\n",
       " ['ለአዲስ አበባ የእራት ምሽት እየተካሄደ ነው ።\\tይህ መልዕክት ለአዲስ አበባ ልጆች ነው !'],\n",
       " ['ወዘተ የሚሉ ጥያቄዎችን ማንሳት ይቻላል ።\\tየሚሉ ጥያቄዎችን በግልጽ አይመልስም ።'],\n",
       " ['የላቲን ቊልፎች ለሃያ ስድስቱ ቀለሞች የተመደቡት ለእየኣንዳንዳቸው እንጂ በዋየልነትና ኮንሰናንትነት የሥራ ክፍፍል ኣይደለም ።\\tግኖ እስከአሁን ብዙና በብዙ መንገድ የተቋቋሙ አሉ ግን የት ደረሱ ?'],\n",
       " ['ኢራን በባለስቲክ ሚሳኤሎች ፋንታ ሳተላይት ለማምጠቅ መዘጋጀቷን አስታወቀች ።\\tአዲስ አበባ ፣ጥር 19፣2012 (ኤፍ.ቢ.ሲ) ኢራን በባለስቲክ ሚሳኤሎች ፋንታ ሳተላይት ለማምጠቅ ቦታ ማዘጋጀቷን አስታውቃለች ፡፡'],\n",
       " ['ምሽት 12 :00 ዜና ሙዳይ ባሕር ዳር ፡ ጳጉሜን 03/2011 ዓ.ም (አብመድ) ።\\tዜና መፅሔት ባሕር ዳር ፡ ሐምሌ 22/2011 ዓ.ም (አብመድ) ።'],\n",
       " ['ቀዳሚ ምርመራ የሚደረግባቸው ወንጀሎች ።\\tበዐቃቤ ሕግ ውሳኔ ቀዳሚ ምርመራ የሚደረግባቸው ወንጀሎች አንቀጽ 80(2) ።'],\n",
       " ['ስለ አዲሱ ዝርያ ምን እናውቃለን ?\\tእናም ሁሌም ወደዚያ ሀገር ቢሄድ የበለጠ ይጠቅማል ።'],\n",
       " ['መብራት ኃይልዬ : ችግሩ የተፈጠረው በግ ።\\tችግሩ የተፈጠረው ስላልቻለ ነው ፡፡'],\n",
       " ['አገር እንዴት ሰነበተች የኦሮሚያ ብሔራዊ ክልል መስተዳድር ብሔር’ የሚለውን መለያ ።\\t«ምን ዓይነት ቀዳዳ መፈጠር አይኖርበትም ።'],\n",
       " ['በዚሁ ጣጣ ጠቅላይ ሚኒስትር ኒኮል ፓሺንያን ሥልጣን እንዲለቁ ሕዝባዊ ግፊቱ በርትቶባቸዋል ተብሏል ፡፡\\tየአርሜንያው ጠቅላይ ሚኒስትር ኒኮል ፓሺንያን ስልጣን እንዲለቁ ሕዝባዊ ግፊቱ በርትቶባቸዋል ፡፡'],\n",
       " ['ሸዋ ዳቦ ምን ያህል ሠራተኛ አለው ?\\tሸዋ ዳቦ የራሱ ሪል እስቴትም ብዙ አለው ፡፡'],\n",
       " ['ኢየሱስ ክርስቶስ “ሕዝብ በሕዝብ ላይ መንግሥትም በመንግሥት ላይ ” የሚነሳባቸው ጦርነቶች እንደሚደረጉ ትንቢት ተናግሯል ።\\tዘመዶች ሁሉ በባሪያህ ላይ ተነሥተው ።'],\n",
       " ['› ብለው አያውቁም ይባላል ፡፡\\tግን አብዛኞቹ ሰዎች አያውቁም ፡፡'],\n",
       " ['አማራ ሚዲያ ማዕከል/አሚማ ጥር 27 ።\\tአማራ ሚዲያ ማዕከል/አሚማ ጥቅምት 27 ቀን 2013 ዓ.ም አዲስ ።'],\n",
       " ['ግን ምን አይነት ቁልፍ ?\\tምን አይነት ፍቅር ነዉ ?'],\n",
       " ['ማንቺስተር ዩናይትድ ከ ብራይተን .ሀቅእማክማሀ ሰኞ መጋቢት 27/2013 ዓ ም የስፖርት ዜናዎች ።\\tማክሰኞ ሀምሌ 27/2013 ዓ ም የስፖርት ዜናዎች ።'],\n",
       " ['መግለጫውን የአዲስ አበባው ዘጋቢያችን ሰሎሞን ሙጬ ተከታትሎት ተከታዩን ልኮልናል ።\\tየአዲስ አበባው ዘጋቢያችን ሰሎሞን ሙጬ ዝርዝሩን ልኮልናል ።'],\n",
       " ['የኢትዮጵያ ሲቪል ማህበረሰብ ድርጅቶች ፎረም ለኮሮናቫይረስ መከላከያ ከ684 ሚሊዮን ብር በላይ ድጋፍ አደረገ ።\\tየኢትዮጵያ ሲቪል ማህበረሰብ ድርጅቶች ፎረም ከ1 ሺህ 500 በላይ አባል ማህበራት እንዳሉት ታውቋል ።'],\n",
       " ['በትግራይ የሚንቀሳቀስ ፓርቲ ስብሰባ እንዳያካሂድ መከልከሉን ገለፀ ።\\tውድብ ናፅነት ትግራይ በመቐለ ውይይት እንዳያካሂድ መከልከሉን ገለፀ ።'],\n",
       " ['አሁንም ትልቁ ተግዳሮታችን ይሄው ነው ፡፡\\tሥልጡን ሐገር ቤተ-መንግሥት የዶላቸዉ አሕመዲኒጃድ ዘንድሮም ድል-አደረጉ ።'],\n",
       " ['የአፍና አፍንጫ መሸፈኛ ጭምብል ዘወትር በአግባቡ መጠቀም ፣ ።\\t· ኮቪድ-19ን ለመከላከል የሚያስችል የአፍና አፍንጫ መሸፈኛ ጭምብል (ማስክ) ይዛችሁ ።'],\n",
       " ['አሁንማ ሰበር ዜና ቀርቶ ሰበር መርጃ መጥቷል ።\\tዛሬ ሰበር ዜና አይኖርም እንዴ ?'],\n",
       " ['ከዉጪ ጉዳይ ሚንስትር ሒላሪ ክሊንተን ፥\\tየዚህ ችግሩ ምንድን ዋናው በባለቤትነት ይዞ አለመስራት ነው ችግሩ ።'],\n",
       " ['ቀን ከጠዋቱ 4 ፡00 የዘጋና በዕለቱ 4፡30 ተጫራቾች ወይም ህጋዊ ወኪሎቻቸው በተገኙበት ይከፈታል፡፡\\tከጠዋቱ በ4 ፡00 ሰዓት ተጫራቾች ወይም ህጋዊ ወኪሎቻቸው በተገኙበት ይከፈታል፡፡'],\n",
       " ['ትናንት ኢትዮጵያዊ ዛሬም ኢትዮጵያዊ ነገም ኢትዮጵያዊ ሁሌም ኢትዮጵያዊ ።\\tግን ኢትዮጵያዊ ወንድምህ ነኝ ::'],\n",
       " ['እዚህ ወላይታ ሶዶ ከተማ ውስጥ ብዙ ትልልቅ ሆቴሎች አልነበሩም ፡፡\\tይሄም ሆኖ ሶዶ ከተማ ገና ብዙ ደረጃቸውን የጠበቁ ሆቴሎች ያስፈልጓታል ፡፡'],\n",
       " ['የአንድ ሰው ነብስ ነብስ አይደለም ወይ ?\\tለማንኛውም ነብስ ይማር እያላችሁ ።'],\n",
       " ['እማሆይ ያቀረቡዋቸው ቅኔዎች የሚከተሉት ናቸው ፡፡\\tየኮከበ ጽባሕ ቅኔዎች የሚከተሉት ናቸው ፡፡'],\n",
       " ['“ነፃና ገለልተኛ አካላት መፍጠር ገና አልተጀመረም” ።\\tኢትዮጵያ ውስጥ ነፃና ገለልተኛ አካላት የመፍጠር ጉዳይ ገና አልተጀመረም ፡፡'],\n",
       " ['የመልካም አስተዳደር ችግር… መፍትሄ አላገኘም ፡፡\\t… ይሄም የመልካም አስተዳደር ችግር ነው ከተባለ ያመኛል ፡፡'],\n",
       " ['“ምናልባት ህይወት እንደ እግር ኳስ ጨዋታ ናት ።\\tእግር ኳስ ጨዋታ የቢሮ ስራ አይደለም ።'],\n",
       " ['የትም አልሄደኩም ማለት ምን ማለት ነው ?\\t“መሪ ማለት ተከታይ ያለው ማለት ነው ።'],\n",
       " ['በሌላ በኩል እንደ አህመድ ዓይነት አርብቶ አደር በመስኖ ግንባታው ምክንያት የገቢ መጠናቸው መጨመሩን አይክድም ፡፡\\tየትራምፕ እና ኪም ውይይት ያለ ውጤት መቋጨቱ ።'],\n",
       " ['የእርሻና ተፈጥሮ ሀብት ልማት ቢሮ ።\\tየእርሻና ተፈጥሮ ሀብት ልማት ቢሮ ሀላፊ -አቶ መስፍን ቃሬ ።'],\n",
       " ['ባለፋት 24 ሰዓታት የ17 ሰዎች ሕይወት አልፏል ፤አጠቃላይ የሟቾች ቁጥርን 897 አድርሶታል ።\\tባለፋት 24 ሰዓታት የ13 ሰዎች ሕይወት አልፏል ፤አጠቃላይ የሟቾች ቁጥርን 758 አድርሶታል ።'],\n",
       " ['ክርስቲያን ማለት ምን ማለት ነው ?\\tይህ ማለት ግን የሚያምንሽ የለም ማለት አይደለም ፡፡'],\n",
       " ['እግዚአብሔር ከእኛ ጋር ነው ።\\tእውነት ከእኛ ጋር ነው ፡፡'],\n",
       " ['ጥ . ማን ነህ አንተ ?\\tእና ዩ ሚን አንተ የኤርትራ ፋንድያ ነህ ?'],\n",
       " ['“ክሪሚያ የዩክሬን ስለሆነ እኛም በፍጹም አሳልፈን አንሰጥም’’ ሲሉ ፕሬዝዳንቱ ተናግረዋል ።\\tእንግዲህ ፣ የአማራ ሕዝብ እየተደገሰለት ያለውን የወያኔ መሪዎች የጥፋት ድግስ ነቅቶ መጠበቅ ይኖርበታል ፡፡'],\n",
       " ['ስለዚህ ጥያቄው የቀረበበት መንገድ በሚገባ መታየት አለበት ።\\tስለዚህ ይሄ ተለይቶ መታየት አለበት ፡፡'],\n",
       " ['ከሁሉ በላይ የተጎዱት በጦርነት አካባቢዎችና ፈጣን ማኅበራዊና ኢኮኖሚያዊ ለውጥ በሚታይባቸው አገሮች የሚኖሩ ልጆች ናቸው ።\\tሆስፒታል ውስጥ ተተኪ ደም ሳይኖር እንዲህ አይነት የቀዶ ህክምና ጨርሶ አይካሄድም ፡፡'],\n",
       " ['ምስኪን ሀበሻ ፡ ኧረ አንድዬ የአንተ ጉዳይ ሲሆን መቼም ቢሆን ሰዓት አናዛንፍም፡፡\\t) ምስኪን ሀበሻ ፡ አንድዬ ምን እየሆንክ ነው !'],\n",
       " ['የአሰልጣኞች አስተያየት | አዳማ ከተማ 1-1 ወላይታ ድቻ ።\\tሙሴን “ልምረው የምፈልገውን እምረዋለሁ ፤ ልራራለት የምፈልገውን ደግሞ እራራለታለሁ” ብሎታልና ።'],\n",
       " ['ኢየሱስ “እውነትንም ታውቃላችሁ እውነትም አርነት ያወጣችኋል ” በማለት ተናግሯል ።\\tአሠልጣኙ ይቆያሉ ወይስ አይቆዩም የሚለው መነጋገሪያ ሆኗል ።'],\n",
       " ['ሰኞ ፡-ከምሽቱ ሦስት ሰዓት የአማርኛ ዜና - ኖቬምበር 28, 2022 ።\\tቅዳሜ ፡-ከምሽቱ ሦስት ሰዓት የአማርኛ ዜና - ሴፕቴምበር 04, 2021 ።'],\n",
       " ['ጌታቸው ተድላ ኃይለ ጊዮርጊስ ዝርዝሩን አዘጋጅቷል ።\\tጌታቸው ተድላ ኃይለ ጊዮርጊስ ።'],\n",
       " ['ተረጋጋ ሐኪም ውወተ መነም . እኔ ምንም አልተናገረም ርበነ ዬኛደጓ ኔእ ።\\tመነም . እኔ ምንም አልተናገረም ርበነ ቅውአ ንትንዴ ይቬርሃ ተረጋጋ ሐኪም ርበነ ዬኛደጓ ኔእ ።'],\n",
       " ['፩፪ ሊቀ መላእክት ቅዱስ ሚካኤል በምልጃው ይጠብቀን መልካም_ቀን ።\\tሊቀ መላእክት ቅዱስ ገብርአል በምልጃው ሀገራችንን ይጠብቅልን !'],\n",
       " ['በቁጥጥር ስር የነበሩት ጠቅላይ ሚኒስትር አብደላ ሐምዶክ ወደ ቤታቸው መመለሳቸውንም ለዚህ እንደ አብነት ጠቅሰዋል ።\\tጠቅላይ ሚኒስትር አብደላ ሐምዶክ ።'],\n",
       " ['እርስዎም እኮ በፍርሐት ከተደበቁበት ጎሬ እንዲወጡ በሚገባ ተነግርዎ ያነበብን ፤ የገባዎም መስሎን ነበር ።\\tእውነት የሰው ልጅ ዘላቂ ሰላም እና የተረጋጋ ህይወት እንዲያገኝ ከፍተኛ አስትዋጾ ያደርጋል ።'],\n",
       " ['ፈጣሪ ነጭ ነዉ ጥቁር ?\\tጥቁር እና ነጭ መከራ የተከመረበት የሰው መስክ ?'],\n",
       " ['ከዩኒቨርሲቲ ተመርቀው የሚወጡ ወጣቶች ሥራ በሰፊው ሊፈጠርላቸው ይገባል ፡፡\\tአሁን በሚካሄደው ሕዝበ ውሳኔ ተጨማሪ አንድ ክልል ሊመሠረት እንደሚችል ይጠበቃል ።'],\n",
       " ['ከነፍስ የተለየ ሥጋ የሞተ እንደ ሆነ ፥\\tከነፍስ የተለየ ሥጋ የሞተ እንደሆነ እንዲሁ ደግሞ ከሥራ የተለየ እምነት የሞተ ነው” ያለን ፡፡'],\n",
       " ['ህክምናው ከጥንት ጀምሮ የነበረ ቢሆንም ህክምናውን ከዘመናዊ ህክምና ጋር አጣጥሞ ለማስኬድ አልተቻለም ።\\t▪ ሐዋርያው ጳውሎስ ከሮም ሆኖ ለፊልጵስዩስ ጉባኤ ደብዳቤ የጻፈው ከ60 እስከ 61 ዓ. ።'],\n",
       " ['አንተ የምትሽከረከረው ‹አሁን› ላይ ነው ፡፡\\tአንተ ግን የ ‹አሁን አንተ› እንጂ የነገው አንተ አይደለህም ።'],\n",
       " ['( ለ) ቁርጥ ውሳኔያችን ምን መሆን ይኖርበታል ?\\tእንግዲያው ከይሖዋ ድርጅት ጋር እኩል መራመድ ቁርጥ ውሳኔያችን ይሁን ።'],\n",
       " ['እንኳን ለሊቀ ሰማዕታት ለቅዱስ ጊዮርጊስ( የኢትዮጵያ ገበዝ)ወርሃዊ የመታሰቢያ በዓል በሰላምና በጤና አደረሰን አደረሳችሁ ።\\tእንኳን ለመላዐኩ ለቅዱስ ገብርኤል ወርሃዊ መታሰቢያ በዓል በሰላምና በጤና አደረሳችሁ ።'],\n",
       " ['አዲስ አበባ የሁላችንም ነች የአማራ ክልል መ ።\\tየአማራ ብሔር ኢትዮጵያ ነች ።'],\n",
       " ['የአንዳንድ ፖለቲከኛ ክፋቱ ፈጣሪ ን እንደቆሎ ጓደኛው ማየቱ ፣ _ ዘረኝነት ይውደም !\\tጠዋት ጠዋት ትዳር ያምረኛል ጥርስ የማያስከድን አስቂኝ ወግ) - - ።'],\n",
       " ['ግን በጣም ከባድ ነበር ፡፡\\tይህ ግን ለእኔ ከባድ ነገር ነበር ፡፡'],\n",
       " ['ግን ምን ያደርጋል… የእኔም ቤት በእንግዶች ተይዟል ፡፡\\tግን ፣ “ምን ያደርጋል ?'],\n",
       " ['ነገ ሰኔ 16 ነው ፡፡\\tሰኔ 16/17 ትምህርት ቤት ቢባል ይሻላል :-) !'],\n",
       " ['ጠቅላይ ሚኒስትር አብይ አህመድ የፈጣሪ ያለህ !\\tጠ/ሚ/ር አብይ አህመድ . ከላይ ያለውን የተናገሩት ጠ/ም አብይ አህመድ ናቸው ።'],\n",
       " ['ስነ ፅሁፍ ፡ \"የአንዳንድ ቋንቋዎች የበላይነት ባህልን እያጠፋ ነው\" ኬንያዊው ደራሲ ጉጊ ።\\tፀሐፊው አክለውም የአንዳንድ ቋንቋዎች የበላይነት ባህልን እያጠፋ ነው ለመግባባትም እክል መሆኑንም አስረድተዋል ።'],\n",
       " ['- ስለ እርሳቸው ገድል ምስክርነት የመስጠት ሃሳብ አለኝ ።\\tስለ እርሳቸው ገድል በሁሉም ሚዲያ ቀርቤ ምስክርነት የመስጠት ሀሳብ አለኝ ፡፡'],\n",
       " ['ይሄ የመስዋዕትነት አምልኮ ፣ በጭራሽ... ፈፅሞ... ‘በጎ አላማ’ ሊሆን አይችልም ።\\t‘በጎ አላማ’ን የሚያጠፋ ክፉ በሽታ ነው - የመስዋዕትነት አምልኮ ።'],\n",
       " ['”ዛሬ ያዙኝ ልቀቁኝ የሚለው ትላንት የኦሮሞ ህዝብ ለ27 አመታት በእስር ቤት ሲንገላታ የት ነበር ?\\tትላንት የኦሮሞ ህዝብ ወደ እስር ቤት ሲገባ ፤ የኦሮሞ ህዝብ ሲንገላታ ሁላችንም የት ነበርን ?'],\n",
       " ['የቀድሞ የዚምባብዌ መሪ ሮበርት ሙጋቤ ።\\tሙጋቤ እንደገና እንዲቀበሩ የዚምባብዌ ባህላዊ መሪ ወሰኑ ።'],\n",
       " ['“ሃያ ብር ካለህ አንድ ማህበራዊ ከአንድ ቡና ጋር ከአራት ሲጋራ ጋር ይኖርሃል ፡፡\\tሰላሳ ብር ካለህ አንድ ማህበራዊ ፣ አንድ ቡና፣ አራት ሲጋራዎችና እሩብ ጫት ይኖርሃል ፡፡'],\n",
       " ['ትእግስት ኖሮን እድል መስጠት ከቻልን የማይለወጥ ነገር የለም ፡፡\\tእድል ከተሰጠው የማይለወጥ ነገር የለም… ማለት ይሄው ነው ፡፡'],\n",
       " ['የሽግግር ወቅት ፍትህ ምንነት ።\\tየሽግግር ወቅት ፍትህ ሲነሳ አብሮ የሚነሳው ተጠያቂነት ነው ።'],\n",
       " ['አባይ ሚዲያ ዜና – ታህሳስ 15 ፣2012 ።\\tአባይ ሚዲያ ዜና-ህዳር 12 ፣2012 ።'],\n",
       " ['ያው እንግዴ ቻይንኛ ለመማር የነበረኝን ተነሳሽነት ሰርዤ ኦሮሚኛን በአማርኛ ፊደል ለመማር እያሰብኩ ነው ?\\tየአሜሪካ መንግስት ነው የመረጠልን ካሉ ፣ ይህ ሲሆን እነሱ የት ነበሩ ?'],\n",
       " ['ያለፉትን ስድስት ቀንና ሌሊቶች ያሳለፉት በከፍተኛ ዝግጅት ተወጥረው ነበር ፡፡\\tእኛም ለችግር ብለው የሚጠጓቸውንና ለጥቅም ብለው ወደ እነሱ እየተጠጉ ስደተኛውን የሚሰልሉትን ለይተን ብዙዎቹን እናውቃለን ፡፡'],\n",
       " ['የፕሮፌሰር ሪቻርድ ፓንክረስ እናት የኢትዮጵያ ወዳጅ ወ/ሮ ስልቭያ ፓንክረስ ።\\tየፕሮፌሰር ሪቻርድ ፓንክረስ ልጅ ፕሮፌሰር አሉላ ፓንክረስ ግጥም ከእዚህ በታች ይመልከቱ ።'],\n",
       " ['ቅዳሜ ፡-ከምሽቱ ሦስት ሰዓት የአማርኛ ዜና - ግንቦት 02, 2020 ።\\tማክሰኞ ፡- ከምሽቱ ሦስት ሰዓት የአማርኛ ዜና - ሜይ 17, 2022 ።'],\n",
       " ['ከእነ ተከታዮቹ እግዚአብሔር አምላክ እሳቱን ከሰማይ ያውርድባቸው !\\tእግዚአብሔር እሳቱን ከሰማይ ያውርድባቸው !'],\n",
       " ['ወደ ጎን አንድ ሜትር ራቅ !\\tሌሎቹ የኢንዱስትሪ ፓርኮች ራቅ ራቅ ያሉ ቦታዎች ናቸው ።'],\n",
       " ['“ ፍቅር ያለበትን ነገር ሁሉ ፣... ።\\tመሣርያም ያለበትን ቤት ሁሉ ፥'],\n",
       " ['ዮሐንስ ገብረ እግዚአብሔር ዝርዝር ዘገባ አለው ።\\tየዛሬውን የፍርድ ቤት ውሎ የተከታተለው የአዲስ አበባው ወኪላችን ዮሐንስ ገብረ ዝግዚአብሔር ዝርዝር ዘገባ አለው ።'],\n",
       " ['ኤችአይቪ መተላለፊያ መንገዶች[ ለማስተካከል | ኮድ አርም ] ።\\tበቅርብ ጊዜ[ ለማስተካከል | ኮድ አርም ] ።'],\n",
       " ['አብይ የወጣቶች አዲስ ቀለም !\\tአዎን ዶር አብይ አህመድ የወጣቶች አዲስ ቀለም ናቸው ።'],\n",
       " ['ማስታወስ ማለት ምን ማለት ነው ?\\tይህም ማለት ፍላጐቱ ከፍተኛ ነው ማለት ነው ፡፡'],\n",
       " ['አቶ ሱፊያን አህመድ - የጠ/ሚሩ የፊስካል ፖሊሲ ጉዳዮች አማካሪ ሚኒስትር ።\\tአቶ በለጠ ታፈረ - የጠ/ሚሩ የተፋሰሶችና የአየር ንብረት ለውጥ ጉዳዮች አማካሪ ሚኒስትር ።'],\n",
       " ['እኔ የምለው…እንግዲህ ጨዋታን ጨዋታ ያነሳው የለ…የፀሎት ነገር ካነሳን አይቀር ይቺን ስሙኝማ…ስኮትላንዳውያን ‘ገብጋባ’ ናቸው ይባላል ፡፡\\tስሙኝማ…እንግዲህ ጨዋታን ጨዋታ ያነሳው የለ… “አድማጫችን ማን እንበል ?'],\n",
       " ['በኦጋዴን ድፍድፍ ነዳጅ የማውጣቱ ስራ በሶማሌው አብዲ ኤሌ እንግድነት በይፋ ተጀመረ ።\\tድፍድፍ ነዳጅ የማውጣቱ ስራ በይፋ ተጀመረ ።'],\n",
       " ['ቢዝነስ ብቻ አይደለም ታዲያ ።\\t) ይሄ ብቻ አይደለም ፡፡'],\n",
       " ['እንዲህ ነበር ያሉት ፡- ።\\tእንዲህ ነበር የዶ/ር ከፈና 2 ዓመት ከ10 ወራት እ...ልም ያሉት ።'],\n",
       " ['በኢትዮጵያ ተጨማሪ 565 ሰዎች በኮሮና ቫይረስ ተያዙ ፡፡\\tህዳር 14 ፣2013/ በኢትዮጵያ ተጨማሪ 418 ሰዎች በኮሮና ቫይረስ ተያዙ ።'],\n",
       " ['ልጄ እንደ ዘንድሮ ከሆነ አይደለም ቁልቁል መውረድ ፣ ላይ የወጣው ሁሉ ባትጋሩኝ !\\tዳዊት “እግዚአብሔርን ፈለግሁት ፤ እርሱም መለሰልኝ ፤ ከፍርሀቴም ሁሉ አዳነኝ ” ብሏል ።'],\n",
       " ['በጃንሆይ ጊዜም ጦርነት አልነበረም ፡፡\\tበጃንሆይ ጊዜም እንቅስቃሴዎች ሲጀመሩ በዚያን ወቅት ወጣቶች ተገድለዋል ፡፡'],\n",
       " ['ጌታ እግዚአብሔር እንዲህ አሳየኝ ፤ እነሆም ፥\\t: የሠራዊት ጌታ እግዚአብሔር እንዲህ ይላል ።'],\n",
       " ['ሆላንዳዊው ጡረተኛ የፍቅር አጋር ለማግኘት በማሰብ እድሜውን ለማስቀነስ ፍርድ ቤት ሄደ ።\\tሆላንዳዊው ጡረተኛ ወጣት ሴቶችን በቲንደር ላይ ለማማለል እንዲመቸው እድሜውን ለማስቀነስ ፍርድ ቤት ሄዷል ።'],\n",
       " ['የዓለም የቱሪዝም ቀን በጋምቤላ ተከበረ ።\\tበየአመቱ መስከረም 17 ቀን የሚከበረው የአለም የቱሪዝም ቀን ዘንድሮም ለ39ኛ ጊዜ በጋምቤላ ተከብሯል ።'],\n",
       " ['ወደ እስር ክፍሉ ሲመለስ ግን ሌሎቹ ሰላዮች ይሄን ያህል ሰዓት መከራውን ችሎ በመቆየቱ አደነቁት ፡፡\\tወደ እስር ክፍሉ ሲመለስም ለዚያ ሁሉ ሰዓታት በጽናት በመቆየቱ ሌሎቹ ሰላዮች በእጅጉ ተደመሙበት ፡፡'],\n",
       " ['ከዋሽንግተን መክብብ ሸዋ ዝርዝር ዘገባ ልኮልናል ።\\tየዋሽግተን ዲሲ ዘጋቢያችን መክብብ ሸዋ ዝርዝር ዘገባ ልኮልናል ።'],\n",
       " ['ሃይማኖት በጀርመን ሃገር መሠረታዊ የሰዉ ልጅ መብት ነዉ ።\\tእንደ እናቴ ሳይሆን እንደ ሚስቴ ሀሳብ አውለኝ ።'],\n",
       " ['ለነገሩ... የራሱ ጉዳይ ነው !\\tለነገሩ ፣ ሰው ነው ተዓምረኛው ።'],\n",
       " ['የትግራይ ክልል 14ኛው የባህል ስፖርት ውድድር በኮረም ከተማ ተካሂዷል ።\\tበኮረም ከተማ ለዘጠኝ ቀናት ሲካሄድ የቆየው 14ኛው የትግራይ ባህላዊ የስፖርት ውድድር ትናንት ተጠናቋል ።'],\n",
       " ['ያለ አግባብ የመውጫ መርሐ ግብር በሚሰጡ የመናኸሪያ ሠራተኞች ላይም እርምጃ እየተወሰደ መሆኑን አስረድተዋል ።\\tሌምቢት የስብከት ሥራችን ምን ይመስል እንደነበረ በየካቲት 22, 1999 ንቁ !'],\n",
       " ['እኔ የምለው…እንግዲህ ጨዋታን ጨዋታ ያነሳው የለ… አዲስ አበባ የእውነት ‘ዘመናዊ ከተማ’ ነች ?\\tስሙኝማ… እንግዲህ ጨዋታን ጨዋታ ያነሳው የለ ፣ ይቺ “እኔ አላምንም !'],\n",
       " ['የዩናይትድ ስቴትስ ፕሬዚዳንት ባራክ ኦባማ የአፍሪካ ጉብኝት ።\\tየዩናይትድ ስቴትስ ፕሬዚዳንት የኮንግረስ ንግግር ።'],\n",
       " ['ይህ ውሳኔ አሁን ያለውን የኑሮ ውድነት የሚያባብስ ብ ።\\tየአሜሪካን የኑሮ ውድነት ይሆን ?'],\n",
       " ['ስለዚህም መስከረም ፳፩ ቀን በየዓመቱ በቤተ ክርስቲያናችን በድምቀት ይከበራል ፡፡\\tስለዚህም ነው በየዓመቱ መስከረም ፲ ቀን በቤተ ክርስቲያናችን በድምቀት የሚከበረው ፡፡'],\n",
       " ['ምን ያህልስ የመንግሥት ጥበቃ ይደረግለታል ?\\tምን ያህልስ ዝግጁ ናችሁ ?'],\n",
       " ['ዝርዝሩን ከአዲስ አበባ ዮሐንስ ገብረ እግዚአብሔር በአጭሩ ልኮልናል ።\\tከአዲስ አበባ ዘጋባያችን ሰለሞን ሙጬ ዝርዝሩን ልኮልናል ።'],\n",
       " ['የሴት ልጅ ግርዛት ከ2000 አመት በላይ.... ።\\tበሙስሊም እምነት የሴት ልጅ ግርዛት ምንም መሰረት የሌለው ነው ።'],\n",
       " ['ግን ምንድን ነው ለውጥ ።\\tምንድን ነው ግን የሰው ልጅ አትኩሮት ?'],\n",
       " ['የ25 ዓመት ወጣት ሆነሽ ስትዘፍኚና በ32 ዓመትሽ ስትዘፍኚ እኩል አይሆንም ፡፡\\tይኽ በእንዲህ እንዳለ የዱር እንስሳት ፎቶግራፍ አንሺው ሙሳ እጅግ የሚፈልገው ዕቃ ጠፍቶበት ግራ ተጋብቷል ።'],\n",
       " ['‹ህመማቸው ምን እንደሆነ አላውቅም ፡፡\\tህመማቸው ከአቅማቸው በላይ ሆነ ፡፡'],\n",
       " ['በርካታ ጉዳዮችን የያዘ መሆኑን ምንጮች ለኢሳት ገልጸዋል ።\\tይህ ጥቅል አገላለጽ በውስጡ በርካታ ጉዳዮችን የያዘ ይመስለኛል ፡፡'],\n",
       " ['ብፁዕ አቡነ ሳዊሮስ ቃለ ምዕዳን ሲሰጡ ።\\tብፁዕ አቡነ ዳንኤል ቃለ ምዕዳን ሲሰጡ ።'],\n",
       " ['በብሔራዊ አካል ጉዳተኛ ኮሚቴ ስር ከ 2000 በላይ አካል ጉዳተኛ አትሌቶች ይገኛሉ ።\\tበዚህ ጦርነት ከ 500 በላይ ኢትዮጵያዉያን ወታደሮች አካል ጉዳተኛ ሆነዋል ።'],\n",
       " ['በአጠቃላይ በኢትዮጵያ በኮሮና ቫይረስ የተያዙ ሰዎች ቁጥር ደግሞ 80,895 ደርሷል ፡፡\\tበአጠቃላይ በኢትዮጵያ በኮሮና ቫይረስ የተያዙ ሰዎች ቁጥር ደግሞ 63,367 ደርሷል ፡፡'],\n",
       " ['እንኳን ደስ አለን ሁላችንም !\\tመላው የኢትዮጵያ ህዝብ እንኳን ደስ አለን ።'],\n",
       " ['እንደ እግዚአብሄር ያለ ማንም የለም ።\\tእንደ እግዚአብሔር ያለ ማንም የለም ዘዳግም 33 : 26 ?'],\n",
       " ['በልጆቿ ተጋድሎ ኢትዮጵያ ለዘላለም ትኑር !\\tኢትዮጵያ ለዘላለም በልጆቿ ተጠብቃ ትኖራለች ?'],\n",
       " ['እኛ እኮ ድንቅ ህዝቦች ነን ።\\tድንቅ ፍጹም ድንቅ ነው ።'],\n",
       " ['እኔ ራሴ በቅርብ አይደል እንዴ የሰማሁት !\\tደፂ በድምፀ ወያኔ መግለጫ እየሰጠ ነው ።'],\n",
       " ['ምስኪን ሀበሻ ፡— አንድዬ ፣ ያው እንግዲህ በተስፋ... ።\\tምስኪን ሀበሻ ፡– አንድዬ ፣ ያው የበዓል ሰሞን አይደል... ።'],\n",
       " ['የኢትዮጵያ ህዝብ አርበኞች ግንባር አማራ ሚዲያ ማዕ ።\\tየኢትዮጵያ ህዝብ አርበኞች ግንባር ።'],\n",
       " ['የፊፋ ወርሃዊ ደረጃ- በዓለም 18 በአፍሪካ 1 ።\\tየፊፋ ወርሃዊ ደረጃ- በዓለም 24 በአፍሪካ 2 ።'],\n",
       " ['በምሥራቅ ወለጋ በተፈጸመ ጥቃት በርካታ ሰዎች መገደላቸው ተነገረ ።\\tበምሥራቅ ወለጋ በተፈጸመ ጥቃት ሰዎች ተገደሉ ፤ ቤቶች ተቃጠሉ ።'],\n",
       " ['ታዲያ ለዚህ ምንድን ነው መፍትሄው ?\\tታዲያ የተሟላ ዕድገት ምንድን ነው ?'],\n",
       " ['(የጹሑፉ ሐሳብ ምን እንደነበር ከተያያዘው የድምፅ ፋይል ያዳምጡ) ።\\t(ዝርዝሩን ከተያያዘው የድምፅ ፋይል ያድምጡ ።'],\n",
       " ['እስከአሁን ለምን እንደሆነ አላውቅም አልጀመረም ።\\tአዎ ፣ እኔ ላስታውስህ – “እንደሚጨፋጨፉ አስቀድመን እናውቅ ነበር !'],\n",
       " ['የኛ ድራማ ክፍል ሰባት እንዲህ ይቀርባል ላይክ እና ሼር ያድርጉ እርሶም ትኩስ መረጃዎችን ያግኙ ።\\tየፀጉር እድገትን የሚያፋጥን ውህድ . ላይክ እና ሼር ያድርጉ እርሶም ትኩስ መረጃዎችን ያግኙ ።'],\n",
       " ['ኢዜማ ፡ የኢትዮጵያ ዜና ማሰራጫ(ፕሮፓጋንዳ ማሽን) ።\\tወንበዴዎች ሰላማዊ ዜጎች መስለው ከህዝቡ መሀል ገብተው ሊያስመቱት ያቀዱባቸው ስፍራዎች ደግሞ አልነበሩም አይባልም ።'],\n",
       " ['ግን ምንም አዲስ ነገር የለውም ፡፡\\tምንም አዲስ ነገር የላቸውም ፡፡'],\n",
       " ['ህግ ቢኖር በቁጥጥር ስር መዋል ይገባው ነበር ፡፡\\tፈተናው የሁለት ትግሬወች በቁጥጥር ስር መዋል ነበር ።'],\n",
       " ['አሁን ጉዳዩ በዚህ አስቸኳይ ጊዜ አዋጅ ።\\tአሁን ችግሩ ተባብሶ አስቸኳይ ጊዜ አዋጅ እስከማወጅ ተደርሷል ፡፡'],\n",
       " ['አዎን ይሖዋን የሚያገለግሉት እነዚህ ፍጥረታት መላእክት ናቸው !\\tጎንደር በተለመደው መደበኛ የስራ እንቅስቃሴ ላይ ነች ::'],\n",
       " ['ከዚህም በተጨማሪ መጽሐፍ ቅዱስ ስለ ሌሎች አንገብጋቢ ጉዳዮች ብዙ የሚናገረው ነገር አለው ።\\tመጽሐፍ ቅዱስ ስለ ሥላሴ የሚናገረው ነገር አለን ?'],\n",
       " ['የማክሰኞ ግንቦት 18 ቀን 2012 ዓም ሙሉ ሥርጭት ።\\tየረቡዕ ታኅሣሥ 21 ቀን 2013 ዓም ሙሉ ሥርጭት ።'],\n",
       " ['በሌላ በኩል ደግሞ ጠቅላይ ሚኒስትር ዐብይ አህመድ የተለያዩ ተሀድሶዎችን እያደረጉ ነው ።\\tጠቅላይ ሚኒስትር ዐብደላ ሐምዶክና ጠቅላይ ሚኒስትር ዐብይ አህመድ ።'],\n",
       " ['እኛ ጋ ሲመጣ ያልቀመሰ እንግዳ የለም ይላሉ የሱሉልታው ነዋሪ ።\\tየለም ይላሉ የአዳማው ነዋሪ ፡፡'],\n",
       " ['የህንድ ባለሀብቶች በኢትዮጵያ በተለያዩ የኢንቨስትመንት ዘርፎች ለመሰማራት ፍላጎት አላቸው ።\\tአዲስ አበባ ጥቅምት13/2011 የህንድ ባለሀብቶች በኢትዮጵያ በተለያዩ የኢንቨስትመንት ዘርፎች ለመሰማራት ፍላጎት እንዳላቸው ገለፁ ።'],\n",
       " ['. ህወሃት ኢትዮጵያውያንን አገር ጥለው እንዲሰደዱ ያደረገ በመሆኑ መመረጥ የለበትም ፤ ።\\t. ህወሃት ሕገ-መንግሥቱን የጣሰ በመሆኑ መመረጥ የለበትም ፤ ።'],\n",
       " ['በአራት እጥፍ ገደማ ማለት ነው ።\\tበሁለት እጥፍ ገደማ ነው ያደገው - ወደ 135ሺ ገደማ የስልክ መስመሮች ።'],\n",
       " ['ይህም ጥያቄ የአንድ ሚሊዮን ዶላር ጥያቄ ነው ፡፡\\tይህም ሁለት ሚሊዮን ዶላር ወይም 70 ሚሊዮን ብር አካባቢ ነው ።'],\n",
       " ['እምነት ቤቱ አመጻ አለው ፣ ቤተ መንግሥቱም ።\\tቤተ ክህነቱም ቤተ መንግሥቱም አልሰማቸ ውም ።'],\n",
       " ['የአዲስ አበባ ከተማ ምክትል ከንቲባ ወይዘሮ አዳነች አቤቤ በወቅታዊ ጉዳዮች ዙሪያ መግለጫ ሰጥተዋል ፡፡\\tበበዓሉ ላይ የተገኙት ምክትል ከንቲባ አዳነች አቤቤ ፥'],\n",
       " ['ላንቺም መልካም አዲስ አመት ይሁንልሽ ።\\tመልካም አዲስ አመት ለምህረት ።'],\n",
       " ['በተፈጥሮ ያለንን ነገር ግን እንዳለን የማናውቀውን ከፍ ያለ ሠብዓዊ ፀጋ ነው በንግግሩ የሚያሣየን ፡፡\\tእነርሱ ቢጨቅኑበትም ፣ የሞት ፍርድ እንደፈረዱበት ቢቆጠርም፣ እኛ ግን እንጸልይለታለን ።'],\n",
       " ['በኢትዮጵያ በኮሮናቫይረስ የተያዙ ሰዎች ቁጥር 10 ሺህ 500 በላይ ሆነ ።\\tበኢትዮጵያ በኮሮናቫይረስ የተያዙ በርካታ ሰዎች መገኘታቸው ቀጥሏል ።'],\n",
       " ['የዳርዊን ጽንሰ ሐሳብ ያስከተለው ውጤት ።\\tበ1909 ማኅበሩ ወደ ብሩክሊን ሲዛወር ለወንድሞች መኖሪያ የተደረገው አዲሱ ቤት ቤቴል ተባለ ።'],\n",
       " ['እምዬ ኢትዮጵያ ሞኝ ነሽ ተላላ የሞተልሽ ቀርቶ የገደለሽ በላ ብለው ነበር ሎሬቱ ።\\tየሞተልሽ ቀርቶ የገደለሽ በላ ብለን አዜምን ።'],\n",
       " ['ይኼ ማለት ምንድን ነው ?\\tምን ዓይነት ጥያቄ ነው ይኼ ?'],\n",
       " ['ዘጋቢ ፡- ታርቆ ክንዴ/ባሕር ዳር፡ ሐምሌ 2/2011 ዓ.ም (አብመድ) ።\\tዜና መፅሔት ባሕር ዳር ፡ ነሐሴ 16/2011 ዓ.ም (አብመድ)... ።'],\n",
       " ['አማራ ተዘረፈ ፣ ተጨፈጨፈ እንጂ የማንንም መሬት አልነካም ።\\tየሚመልስም አልነበረም ፤ በሠሩትም መሠዊያ ዙሪያ እያነከሱ ያሸበሽቡ ነበር ።'],\n",
       " ['አቶ በሐይሉ ገ/መድህን የካቲት 07 ፣2007 ።\\tአቶ በሐይሉ ገ/መድህን ጥር 23 ፣2007 ።'],\n",
       " ['ምክንያቱም ማህበራቱ ውስጥ አልነበርኩም ፡፡\\tምክንያቱም ቤተ እስራኤላዊ አልነበርኩም ፡፡'],\n",
       " ['የዓፋር እና የትግራይ ክልል አመራሮች የጋራ የምክክር መድረክ ሎግያ ላይ እየተካሄደ ነው ።\\tቅንጅቱን ስንመሰርት እኮ ቀስተደመና ምንም አባል አልነበረውም ፡፡'],\n",
       " ['ወጣቶች እንዲያደርጉ የማይፈቀድላቸውን ነገር በአብዛኛው ጠንቅቀው ያውቃሉ ።\\tጋና በውድድር ላይ የተመሰረተ የብዙሀን የፖለቲካ ፓርቲ ስርዓት አላት ፡፡'],\n",
       " ['በእነ አለላቸው አታለለ የክስ መዝገብ 5 ሰዎች ።\\tበእነ ሊጋባው ግርማ የክስ መዝገብ 3 ሰዎች ።'],\n",
       " ['ልብወለድ ለማንበብና ፊልም ለማየት ብለን እንቅልፍ የምናጣው ለምንድነው ?\\tልብወለድ መፅሃፍ ለማንበብና ፊልም ለማየት... ገንዘብሽን ፣ ጊዜሽንና ጉልበትሽን ለምን ታጠፊያለሽ ?'],\n",
       " ['ምሳሌ ዐረፍተ ነገሮች[ ለማስተካከል | ኮድ አርም ] ።\\tየኤችአይቪ አመጣጥ[ ለማስተካከል | ኮድ አርም ] ።'],\n",
       " ['ጨዋታውን እንደገና ለመጀመር አሰብኩ ደቂቃዎች አለፉ ።\\tይሁን እንጂ ለእያንዳንዱ ነገር ዝርዝር ደንቦች አልተሰጡም ።'],\n",
       " ['ነሓሴ 11/2012(ኢዜአ) በአፍሪካ የሕክምና አቅርቦቶች የዲጂታል ግዢ ስርአት ላይ ያተኮረ ስብሰባ ነገ ይካሄዳል ።\\tበስብስባው ላይ በአፍሪካ የህክምና አቅርቦቶች የዲጂታል ግዢ ስርአት ላይ ገለጻ ተደርጎ ውይይት እንደሚካሄድ ተገልጿል ።'],\n",
       " ['የፈረንሳይ ሊግ 1 - 73 ቢሊዮን ዩሮ (72 ቢሊዮን ዩሮ) 082 ቢሊዮን ዩሮ ።\\tየእንግሊዝ ፕሪሚዬር ሊግ - 513 ቢሊዮን ዩሮ (84 ቢሊዮን ዩሮ) 864 ቢሊዮን ዩሮ ።'],\n",
       " ['ፕሬዚዳንት ዶክተር ሙላቱ ተሾመ የ2011 አዲስ አመትንአስመልክቶ ያስተላለፉት መልክት ።\\tየኢፌዴሪ ፕሬዚዳንት ዶክተር ሙላቱ ተሾመ የህይወት ጉዞ ።'],\n",
       " ['ከእንቅልፍ መንቃት ብቻ አይደለም ።\\tሁሉም ሰው ፣ ከእንቅልፍ ልብ መባነንና መንቃት ቢያቅተው ብላችሁ አስቡት ፡፡'],\n",
       " ['በሃይማኖት ጣልቃ አይገባም የሚል መንግሥት ጣልቃ ገብቶ አትሰበሰቡም ማለት አይችልም ፡፡\\tመንግስት በሀይማኖት ጉዳይ ጣልቃ አይገባም ማለት ግን ምን ማለት ነው ።'],\n",
       " ['ትንሽ ትልቅ የሚል ተረት ተረት የለውም ።\\t” የተባለው ተረት ዓይነት ሆነ ማለት ነው ።'],\n",
       " ['እዚያ ላይ ነው የምሠራው…” ።\\tሰዎችን ለማስደሰት ብቻ ነው የምሠራው ።'],\n",
       " ['ምን ያለበት ዝላይ አይችልም ይሉሀል ይህ ነው እንግዴ !\\tለነገሩ ፈስ ያለበት ዝላይ አይችልም ይባል የለ !'],\n",
       " ['የሚለውን ጥያቄ መመለስ የግድ ነው ይላሉ ።\\tየሚለውን ጥያቄንም መመለስ ግድ ነው ።'],\n",
       " ['እኔ የአብን (የአማራ ብሔራዊ ንቅናቄ) ደጋፊ አይደለሁም ፡፡\\tእኔ አይደለሁም እና ምን ።'],\n",
       " ['ሁለት ሁለቱም ገላቸውን ይከድኑ ነበር ።\\tያልተቋቋመ አክሲዮን ማኅበር ስንል የምሥረታ ጉባዔውን ያላካሄደና ሕጋዊ ሰውነትም ያልተሰጠው አክሲዮን ማኅበር ማለታችን ነው ፡፡'],\n",
       " ['አሁንም እየመጡ ያሉ አሉ ።\\tአሁንም እየተረጎምኳቸው ያሉ መፅሐፍት አሉ ፡፡'],\n",
       " ['ኢትዮጵያ ውስጥ አሁን ያለው መንግስታዊ (ወያንያዊ) ችግር እንጂ በህገ መንግስቱ ምክንያት የተፈጠረ ችግር አይደለም ።\\t‹‹ኢትዮጵያ ውስጥ ያለው ችግር የዘር ፉክክር ችግር ነው ፡፡'],\n",
       " ['በእርሱም በኩል በመስቀሉ ደም ሰላም አድርጎ በምድር ወይም በሰማያት ያሉትን ሁሉ ለራሱ እንዲያስታርቅ ፈቅዶአልና ።\\tቅዱስ ጳውሎስ \"በምድር ወይም በሰማያት ያሉትን ሁሉ ለራሱ እንዲያስታርቅ ፈቅዷልና\" ማለቱ ምንን ሲያመለክት ነው ?'],\n",
       " ['የዓርብ ፤ የካቲት 6 ቀን ፣ 2012 ዓ.ም ሙሉ ሥርጭት ።\\tየማክሰኞ የካቲት 17 ቀን ፣ 2012 ዓ.ም የቀጥታ ሥርጭት ።'],\n",
       " ['ይህ ከአንድ ዓመት ተኩል በፊት የሚቻል አልነበረም ።\\tአወዳድሮ ለመጀመሪያ ጊዜ ሴት ምክትል ፕሬዝዳንት የሾመውም ከአንድ ዓመት ተኩል በፊት ነው ።'],\n",
       " ['እንኳን አማራ ክልል : ዛ ።\\tይህ በ አማራ ክልል ነው ።'],\n",
       " ['እስከዚያን ጊዜ ድረስ ላገኘችው ሁሉ የሚያበረታታ ቃል ከመናገር የማትቆጠብ ደስተኛና ብርቱ ሴት ነበረች ።\\tቴዎድሮስ ፡- ቀለል ያለ ጥያቄ ላንሳ፡፡'],\n",
       " ['የኢየሱስ ደቀ መዛሙርት ይህን መማር ነበረባቸው ።\\tእኛም ትሑት የሆኑትን የኢየሱስ ደቀ መዛሙርት ምሳሌ መከተላችን ይጠቅመናል ።'],\n",
       " ['የአዲስ አበባ ሀገረ ስብከት መዋቅራዊ ለውጥ ረቂቅ ተፈጻሚ እንዲሆን ተጠየቀ ።\\tየአዲስ አበባ ሀገረ ስብከት የአደረጃጀት መዋቅር እንዲጸድቅ በዕንባ ተጠየቀ ።'],\n",
       " ['የ3 ልጆች እናት ናት ፡፡\\tአሁን የሁለት ልጆች እናት ነኝ ።'],\n",
       " ['፡- እንደሚባለው ከሆነ ፤ ምንም ጥርጥር የሌለው እውነት ነው ፡፡\\tአካሄዱ እንደሚባለው የሚፈስ ከሆነ እውነት ነው ፡፡'],\n",
       " ['በ2016 እኤአ የሥነ-ህዝብ ብዛት 4,954,645 ሚሊዮን ይገመታል ፡፡\\tየተንቀሳቃሽ ስልክ ኔት ወርክ ተደራሽነትን አስፋፍቷል ።'],\n",
       " ['፣ ሁኔታው ምን ይመስል ነበር ?\\tዓመቱ በአፍሪካ ምን ይመስል ነበር ?'],\n",
       " ['እስከ ምድር ዳርቻ ድረስ ጦርነትን ይሽራል ።\\tመጽሐፍ ቅዱስ ይሖዋ “እስከ ምድር ዳርቻ ድረስ ጦርነትን ይሽራል ” ሲል ይነግረናል ።'],\n",
       " ['የመንግሥቱ ዜጐችም የሆንበት በጥምቀት ነው ፡፡\\t“ ለሰዎች ሁሉ የሚሆን ምሥራች ” (ቡክሌት) ፣ 12 / 1 ።'],\n",
       " ['አዲሱ አመት ኢትዮጵያውያን ከእንቅልፍ የሚነቁበት አመት ይሁን ?\\tየሰው ልጆች ለይሖዋ ክብር መስጠት ያለባቸው ለምንድን ነው ?'],\n",
       " ['እጅግ ብዙ ሕዝብ የተባሉት ሰዎች የሚሰበሰቡት እንዴት ነው ?\\tእጅግ ብዙ ሰዎች ናቸው !'],\n",
       " ['፡ አሜሪካ ታላቅ አገር ናት ፤ እናንተ ግን በእጅጉ ።\\tአሜሪካ ነፃ አገር ናት ፤ነገር ግን በጠብመንጃ ።'],\n",
       " ['1ኛ. እድሜያቸው ከ16 ዓመት በታች የሆኑ ።\\tእድሜያቸው ከ18 ዓመት በታች የሆኑ ሰዎች በሕግ የተለየ ጥበቃ ይደርግላቸዋል ።'],\n",
       " ['ራይስ በመለስ ዜናዊ ቀጥተኛ ትእዛዝ ለሞት የተዳረጉትን ንጹሃን ዜጎች ከምንም አልቆጠረቻቸውም ፡፡\\tይህ ዓይነቱ ባርነት ከባቢሎናዊ መሠረተ ትምህርቶችና መናፍስታዊ ልማዶች በማላቀቅ እውነተኛ ነፃነት አስገኝቶላቸዋል ።'],\n",
       " ['አንድ ቀን ብቻ ኦፕራህ ዊንፍሬይ የመጣች ቀን ልበስ ተብዬ ለበስኩ ።\\tአብዛኛውን ሀብት ያፈራው በቢዝነስ ሳይሆን በስፖርት ነው ይላል ኃይሌ ስለሀብቱ ሲጠየቅ ፡፡'],\n",
       " ['ዛሬ ኃላፊዎቹ በፋና በኩል ቀርበው የታሰበውን . ።\\tየኢትዮጵያ ጠላቶች አላማኮ አማራውን እንደሌላው የዘር ቋት ውስጥ ከከተትነው ።'],\n",
       " ['ገንዘቡ የሕዝብ ሀብት ነውና !\\tገንዘቡ ከኤርትራ ነው ፤ ።'],\n",
       " ['በዛሬው ጊዜ ከፍቅራዊ ደግነቱ መጠቀም የምንችለውስ እንዴት ነው ?\\tጥንቃቄ ማድረግ የምንችለውስ እንዴት ነው ?'],\n",
       " ['ይህን ለምን እዚህ ገለጽኩ ግን ?\\tኢትዮጵያ ተወልጄ ያደኩና አማርኛና ኦሮምኛ የምናገር ቢሆንም ፣ ኢትዮጵያ ከኖርኩባቸው አመታት በላይ አሜሪካ ኖሬያለሁ ።'],\n",
       " ['በዚህ ጉዳይ ምን ትላለህ ?\\tወደ ፍቅር ጉዞ ተጀምሯል ትላለህ ።'],\n",
       " ['በቃ በየደቂቃው ይህንን ያደርጋል ።\\tበአንድነት ይህንን ስርዓት በቃ እ ።'],\n",
       " ['ሁሉም ነገር ግልጽ ነው ፡፡\\tየግብጽ አቋም ግልጽ ነው ።'],\n",
       " ['በሃርቬይ ዴንት የታመነ ይአ ይአ ይአ ምለደይአ በጣም ከባድ ህመም ነው ውሰ ውቀበደተየ ።\\tበልጅነት ግብ ማውጣት አስፈላጊ የሆነበት ሦስተኛው ምክንያት ምንድን ነው ?'],\n",
       " ['አምላካችን ግን ከእነርሱ ጋር ነው !\\tከእነርሱ ጋር በመንገድ አትሂድ ፥'],\n",
       " ['ኮሮናቫይረስ ፡ መድኃኒት ነው ስለሚባልለት ተክል ምን ያህል እናውቃለን ?\\tየኮሮረናቫይረስ መድኃኒት ነው ስለሚባልለት ተክል ምን የሚታወቅ ነገር አለ ?'],\n",
       " ['እሱ ሌላ ጥያቄ ነው ።\\tየህዝቡ ጥያቄ የመብት ጥያቄ ነው ፡፡'],\n",
       " ['ገና ልንማራቸው የሚገቡ ብዙ ብዙ ነገሮች አሉ ።\\tለውጥ ሊደረጉባቸው የሚገቡ ብዙ ጉዳዮች አሉ ።'],\n",
       " ['የሬድዮ ፣ የሥነ ጽሑፍና የሙዚቃ ዝግጅቶችን ለክፉ ይጠቀምባቸዋል ።\\tትልልቅ መንግሥታዊ የልማት ፕሮጀክቶችንም መመራቱን የሚናገረው ታምራት “ምንም ዓይነት የፖለቲካ ተሳትፎ አልነበረኝም” ይላል ።'],\n",
       " ['ልጅነት በኛ ግዜ ቀረ !\\tስልክ ድሮ ቀረ(በኛ ጊዜ) ።'],\n",
       " ['የአዲስ አበባ ነዋሪዎች ምን ይላሉ ?\\tአሁን የአዲስ አበባ ከተማ ነዋሪዎች ፎረም ሰብሳቢ ነዎት ፡፡'],\n",
       " ['በደርግ ግዜ ለስነ ጽሁፍ ትኩረት ተሰጥቶት አድጓል ።\\tምክንያቱም ለስነ ጽሁፍ ትኩረት አልተሰጠም ።'],\n",
       " ['በአጠቃላይ በኢትዮጵያ በኮሮና ቫይረስ የተያዙ ሰዎች ቁጥር ደግሞ 79,437 ደርሷል ፡፡\\tበአጠቃላይ በኢትዮጵያ በኮሮና ቫይረስ የተያዙ ሰዎች ቁጥር ደግሞ 42,143 ደርሷል ፡፡'],\n",
       " ['…ዛሬ ግን ያ የኪነ ጥበብ ብርሃኗ እየደበዘዘ መጥቷል ።\\t(የኪነ ጥበብ አገልግሎት ምንድነው) ?'],\n",
       " ['በኢትዮጵያ በኮሮና የተያዙ ሰዎች ቁጥር ከ20 ሺሕ ተሻገረ ።\\tበኢትዮጵያ በኮሮና መያዛቸው በምርመራ የተረጋገጠ ሰዎች ቁጥር ከ20 ሺሕ ተሻገረ ።'],\n",
       " ['ባለፋት 24 ሰዓታት የ6 ሰዎች ሕይወት አልፏል ፤አጠቃላይ የሟቾች ቁጥርን 1,371 አድርሶታል ።\\tባለፋት 24 ሰዓታት የ17 ሰዎች ሕይወት አልፏል ፤አጠቃላይ የሟቾች ቁጥርን 637 አድርሶታል ።'],\n",
       " ['የሴት ልጅ ጥቃት ማለት አካል ማጉደል ብቻ መስሏችሁ ከሆነ ተሞኝታችኋል !\\tየሴት ልጅ ጥቃት ይቁም !'],\n",
       " ['የታሪክ ባለሙያ አይደለሁም ፤ የታሪክ ሰለባ እንጂ ፡፡\\tየታሪክ ጎዳና ውስጥ ነው ፡፡'],\n",
       " ['ጠዋት እውነት ነው ፣ ?\\tእውነት ነው አንተ እውነት አትገረምም ?'],\n",
       " ['ያንተን የአካል ቅርጽ እንደኔ በጥሞና ላስተዋለ እዚህ ቦታ ይሄ ጐደለህ ለማለት ፈጽሞ አይቻልም ፡፡\\tዲያሊሲስ ለማድረግ የሚያስፈልገው መጠን እንደበሽታው ዓይነትና እንደሰውየው ያለበት ደረጃ ይለያያል ፡፡'],\n",
       " ['እኛ እንደዚህ አይነት ነገር ።\\tእኛ ጋ ሁለቱም አይነት ሰዎች ነበሩ ፡፡'],\n",
       " ['በሕገ-ወጥ መንገድ የተገኘን ገንዘብ ሕጋዊ ማስመሰል እና በአደንዛዥ እጽ ዝውውር ተጨማሪ ክሶች ተመስርተውበታል ።\\tበአቶ ዲንቁ ዳያሳ ላይ የሚደርሰው ጥቃት በእኔ ላይ የተደረገ ጥቃት አድርጌ እወስዳለሁ ።'],\n",
       " ['ይህ ምን ኦ ነው !\\tምን ያድርጉ ምን እየሠሩ ነው ?'],\n",
       " ['አልፈን ተርፈንም የሰዎችን ዕጣ-ፈንታ ስንናገር የራሳችንን ዕጣ-ፈንታ ሳናቅ እንዳንቀር እንጠንቀቅ !\\tከ20 ዓመት በኋላ የኢትዮጵያ ዕጣ ፈንታ ምን ይሆናል ?'],\n",
       " ['ዐርብ ፡-ከምሽቱ ሦስት ሰዓት የአማርኛ ዜና - ማርች 19, 2021 ።\\tረቡዕ ፡-ከምሽቱ ሦስት ሰዓት የአማርኛ ዜና - ማርች 17, 2021 ።'],\n",
       " ['መኢአድ ፣ኢህአፓና እናት ፓርቲ ገዥው ፓርቲ ህዝብን ለአደጋ እያጋለጠ ነው ሲሉ ከሰሱ ።\\t«ገዥው ፓርቲ ህዝብን ለአደጋ እያጋለጠ ነው» ።'],\n",
       " ['ያመጣል መንገድ ፣2003፣ ገፅ 225-226) ።\\tአያጠፋውም (አዳም ፣ ይወስዳል መንገድ ያመጣል መንገድ፣ 2003፣ገፅ 226) ።'],\n",
       " ['ይሄ ደግሞ ሁለት ትውልድ ማለት ነው ፡፡\\tይሄ ነው ቡና ማለት ።'],\n",
       " ['ከሱዳን ስደት ወደ ሁመራ ነው የመጣው ።\\tከሱዳን ነው በ1984 ወደ ሁመራ የመጣው ።'],\n",
       " ['” ምናምን ያላችሁ ነው የሚያስመስለው ፡፡\\tወድቆ ያገኙት ነው የሚያስመስለው ፡፡'],\n",
       " ['ከእነዚህ በረከቶች አንዳንዶቹ ምንድን ናቸው ?\\tከእነዚህ አንዳንዶቹ : - ።'],\n",
       " ['እናማ…እንግዲህ ጨዋታም አይደል…ነገሮች ተርመስመስ ብለዋል ፡፡\\tእናላችሁ…ትንሽ ተርመስመስ ያሉ ነገሮች አሉ ።'],\n",
       " ['የትግራይ ክልል መንግሥት መፍትሄ ይስጠን አውዲዮውን ያዳምጡ ።\\tየመቀሌ ነዋሪዎች የትግራይ ክልል መግለጫን ተችተዋል አውዲዮውን ያዳምጡ ።'],\n",
       " ['በኢትዮጵያ ተጨማሪ 1206 ሰዎች በኮሮና ቫይረስ ተያዙ ፡፡\\tነሐሴ 20 ፣2012/በኢትዮጵያ ተጨማሪ 1533 ሰዎች በኮሮና ቫይረስ ተያዙ ።'],\n",
       " ['2 የኢፌዴሪ ጠቅላይ ሚኒስትር ዶክተር አብይ አህመድ ደም ለገሱ ::\\tየኢፌዴሪ ጠቅላይ ሚኒስትር ኃይለማርያም ደሳለኝ) - - ።'],\n",
       " ['መለስ ከልጅነት እስከ እውቀት ደራሲ ትኩእ ባህታ እንዲህ ያለ ነውር ፤ ።\\tያውም ከልጅነት እስከ እውቀት አብሮን ያለ !'],\n",
       " ['እኔ እንደዚያ አይነት ፖለቲከኞችን ብዙም አላውቅም ፡፡\\tእኔ ስለሸኔ ብዙም አላውቅም ።'],\n",
       " ['የኪነ-ህንፃ ባለሙያውና የሚያሰራው ሰው እንደ አባትና ልጅ ናቸው ፡፡\\tይህ ደግሞ የወረርሽኙን ባሕርይ ካለማወቅ ነው ይላሉ የሕክምና ባለሞያዎች ።'],\n",
       " ['ዋይ ዋይ ዋይ.ኧረ ሰሚ ጠፋ ዋይ ዋይ ዋይ ሁሉም ዝም ጭጭ ?\\tየዛሬውን ቁጥር ንገሩን እንጂ ፣ ዋይ !'],\n",
       " ['በግጭቶቹም 12 ተማሪዎች ላይ ጉዳት የደረሰ ሲሆን ሁለቱ ከባድ ጉዳት አጋጥሟቸዋል ።\\tእኛ ላይ የደረሰ ጉዳት የለም ።'],\n",
       " ['አዲሱ ጠ/ሚኒስትር ራሳቸውን እንጂ መለስን እንዲሆኑ አይጠበቅባቸውም ።\\tአዲሱ ጠቅላይ ሚኒስትር ሆነው ከተመረጡ አቶ ሃይለማርያም ደሳለኝም ራሳቸውን እንጂ አቶ መለስን አይደሉም ፡፡'],\n",
       " ['ይልቅስ እንዲህ እናድርግ ፡- ።\\tአንድ ነገር መነሻ እናድርግ ፡፡'],\n",
       " ['ወደፊትም በቅርብ ዓመታት ውስጥ ተግባራዊ የሚሆን አይመስልም ፡፡\\tይህ ግን አሁን ተግባራዊ የሚሆን አይደለም ።'],\n",
       " ['አንደኛው ለሳቅ ሌላኛው ለእንባ ።\\tአንደኛው የሃይማኖት ሌላኛው የመንግስት ።'],\n",
       " ['የአዲስ አድማስ ጋዜጠኛ አለማየሁ አንበሴ ፤ በዚህ ጉዳይ ላይ የተቃዋሚ ።\\tየአዲስ አድማስ ጋዜጠኛ አለማየሁ አንበሴ ፣ ፖለቲከኞችንና የህግ ባለሙያዎችን አነጋግሮ አስተያየታቸውን እንደሚከተለው አጠናቅሮታል ፡፡'],\n",
       " ['በኢትዮጵያ የምርጫና የፖለቲካ ፓርቲዎች ህግ ላይ የተደረገ ውይይት - ክፍል 2 ።\\tየፖለቲካ ፓርቲዎች ውይይት ክፍል አንድ ።'],\n",
       " ['ሁለቱም በጣም ከባድ ወንጀሎች ናቸው ፡፡\\tሁለቱም ሀሳብ ይፈልጋሉ ፣ሁለቱም ውበት ይፈልጋሉ፣ሁለቱም ቀናተኞች ናቸው. . ሁለቱም ይናጠቃሉ !'],\n",
       " ['በተመሳሳይ ከሶማሊያ 100ሺህ 845 ሰዎች የመን በተመሳሳይ ገብተዋል ።\\tለዘመናት በየአመቱ በተመሳሳይ ቦታ ፣ በተመሳሳይ ጊዜና በተመሳሳይ ሁኔታ ይካሄዳል ።'],\n",
       " ['ዘሪቱ ፡ እ. . . ማንንም ሳላይ ነው መጻፍ የጀመርኩት ።\\tመጻፍ የጀመርኩት ከልጅነቴ ስለሆነ ።'],\n",
       " ['ይህ ገጽ መጨረሻ የተቀየረው እ.ኣ.አ በ04 :12 ፣ 28 ጁላይ 2008 ዓ.ም. ነበር ።\\tይህ ገጽ መጨረሻ የተቀየረው እ.ኣ.አ በ01 :02 ፣ 28 ጁላይ 2008 ዓ.ም. ነበር ።'],\n",
       " ['ሐሙስ ፡-ከምሽቱ ሦስት ሰዓት የአማርኛ ዜና - ኤፕሪል 27, 2023 ።\\tዕሁድ ፡- ከምሽቱ ሦስት ሰዓት የአማርኛ ዜና - ህዳር 08, 2020 ።'],\n",
       " ['እብጠቱ መቀነስ በጀመረ ከስድስት እስከ 12 ቀኖች የወር አበባቸው ይመጣል ፡፡\\tየደቡብ ክልል ምክርቤት የህገመንግስት ማሻሻያ ፕሮግራም በማካሄድ ላይ መሆኑን አስታወቀ ።'],\n",
       " ['ይህ ደግሞ ቀላል አይሆንም ።\\tያ ደግሞ ቀላል አይደለም ።'],\n",
       " ['ስድቡ ሲበዛበት ጊዜ አንድ ማታ “ዛሬስ ሳልተኛ አድራለሁ ፣ ቀድሜው ነቅቼ፣ ጠርቼ እሰድበዋለሁ ፡፡\\tየኑዛዜው ወይም ንብረት በአደራ የተሰጠበት ስምምነት ቅጂ ለማኅበሩ ሊላክ ይገባል ።'],\n",
       " ['የማያስደስትህን ነገር አዘውትረህ ማድረግ የሚያስፈልግህ ለምንድን ነው ?\\tመጽሐፍ ቅዱስን ማወቅ የሚያስፈልግህ ለምንድን ነው ?'],\n",
       " ['የትግሬ ተወላጁ ካሳ ተ ብርሀን እንዴት ለአማራ መሬት ሊጨነቅ ይችላል ?\\tምንም ወደ ጦርነት የሚያመጣ ሁኔታ አልነበረም ፡፡'],\n",
       " ['መ - ቫዜክቶሚ ከተሰራ በሁዋላ አልጋ ላይ መቆየት አይኖርም ፡፡\\tጥ - ቫዜክቶሚ ከተሰራ በሁዋላ የሚመረተው ስፐርም ምን ይሆናል ?'],\n",
       " ['ከትዕግስት በላይ የሚሆኑ ነገሮች አሉ ።\\tለፍርሃት መንስኤ የሚሆኑ ብዙ ነገሮች አሉ ።'],\n",
       " ['ጥሩ ትምህርት ለማግኘት የሚደረገው ጥረት ።\\tከቤት እንድንወጣ የሚደረገው ጥረት ?'],\n",
       " ['በዚሁ መደብ ውስጥ (ከ21 በጠቅላላ) የሚከተሉት 21 መጣጥፎች አሉ ።\\tበዚሁ መደብ ውስጥ (ከ41 በጠቅላላ) የሚከተሉት 41 መጣጥፎች አሉ ።'],\n",
       " ['የሙስሊም ኮሚቴ አባላት የፍርድ ቤት ውሎ ።\\tየሙስሊም ኮሚቴ አባላት ክስ ችሎት ።'],\n",
       " ['ለመላው የእስልምና እምነት ተከታዮች በሙሉ እንኳን ለኢድ አል አድሃ በዓል በሰላም አደረሳችሁ !\\tርዕሰ መስተዳድሩ ለመላው የእስልምና ተከታዮች የእንኳን አደረሳችሁ መልዕክት አስተላለፉ ።'],\n",
       " ['አብን ከአንድ አመት በፊት የያዘውን አቋም ማስታወስ አለበት !\\tከአንድ አመት በፊት እንዳየሁት ።'],\n",
       " [\"ሮዝ መስቲካ ፡ 'ተጨማሪ የወሊድ ፈቃድ ለእናቶች' ስትል የምትወተውተዋ እናት ።\\tሮዝ መስቲካ 'ተጨማሪ የወሊድ ፈቃድ ለእናቶች' በሚል በማህበራዊ ሚዲያዎች በምታደርገው ዘመቻዎቿና ቅስቀሳዎቿ ትታወቃለች ።\"],\n",
       " ['ይህንን ተከትሎ ጉዳዩ በማኅበራዊ መገናኛ ዘዴዎች ተጠቃሚዎች ዘንድ ብዙ መነጋገሪያ ሆኖ ነው የሰነበተው ።\\tይህንን ተከትሎ የማኅበራዊ መገናኛ ዘዴዎች ተጠቃሚዎች ጎራ ከፍለው ተከራክረውበታል ።'],\n",
       " ['የመንግሥት ሚዲያ የሕዝብ ግንኙነት ጥበብ ይጐድለዋል ፡፡\\tበቀጣይነት የመንግሥት ሚዲያ የሕዝብ የመሆን ዕድሉ ከፍተኛ ነው ፡፡'],\n",
       " ['መንግስት ችግሬ የመልካም አስተዳደር ነው ይላል ፡፡\\tኢህአዴግ የመልካም አስተዳደር ችግር ፈጥሯል ፡፡'],\n",
       " ['ጽዮን ግርማ ዘገባ አላት ።\\tጽዮን ግርማ ያጠናቀረችውን ዘገባ ለማድመጥ የተያያዘውን የድምፅ ፋይል ይጫኑ ።'],\n",
       " ['እና እኔ ምን ሆኜ ነው ?\\tእኔ ብቻዬን ሆኜ ነው ብዙ ሴቶች ያፈቀርኩት ፡፡'],\n",
       " ['ሕጻን ልጇ በገዛ ፍቅረኛዋ የተገደለባት እናት 16 ወራት እስር ተፈረደባት ።\\tወንድ ልጇ በገዛ ፍቅረኛዋ የተገደለባት አሜሪካዊት እናት 16 ወራት እስር ተበይኖባታል ፡፡'],\n",
       " ['ጠ/ሚ ዶክተር አብይ ከአሜሪካው የውጭ ጉዳይ ሚኒስትር ጋር በስልክ ተወያዩ) - - ።\\tጠ/ሚ ዶ/ር አብይ ከጃፓን ውጭ ጉዳይ ሚኒስትር ጋር ተወያዩ) - - ።'],\n",
       " ['በመሆኑም እነዚህ ፍጡራን በሽታው አለተዋቸውም ማለት ነው ያሰኛል ።\\tበመሆኑም የተስፋጽዮን አነጋገር ሀቅ ከሆነ እነዚህ ፍጡራን በሽታው አለተዋቸውም ማለት ነው ያሰኛል ።'],\n",
       " ['እነዚህ ውሎች እነዚያን መብቶች አይገድቡም ወይም ማናቸውንም አይነጥቁም ።\\tበተጨማሪ ፣ እነዚህ ውሎች በምርት ተጠያቂነት ሕግ ሥር ያሉትን የእርስዎን መብቶች አይገድቡም ።']]"
      ]
     },
     "execution_count": 30,
     "metadata": {},
     "output_type": "execute_result"
    }
   ],
   "source": [
    "train_dataset['amh'][\"Split_Text\"]"
   ]
  },
  {
   "cell_type": "code",
   "execution_count": 31,
   "id": "qumDuvM8eGjX",
   "metadata": {
    "id": "qumDuvM8eGjX"
   },
   "outputs": [],
   "source": [
    "# !pip install -U sentence-transformers\n",
    "\n",
    "# from sentence_transformers import SentenceTransformer, util"
   ]
  },
  {
   "cell_type": "code",
   "execution_count": 32,
   "id": "ZzbHupihePAs",
   "metadata": {
    "id": "ZzbHupihePAs"
   },
   "outputs": [],
   "source": [
    "# model = SentenceTransformer('sentence-transformers/all-MiniLM-L6-v2')\n"
   ]
  },
  {
   "cell_type": "code",
   "execution_count": 33,
   "id": "uE_opZHYcrgs",
   "metadata": {
    "id": "uE_opZHYcrgs"
   },
   "outputs": [],
   "source": [
    "\n",
    "# sentences = [\"I'm happy\", \"I'm full of happiness\"]\n",
    "\n",
    "\n",
    "# #Compute embedding for both lists\n",
    "# embedding_1= model.encode(sentences[0], convert_to_tensor=True)\n",
    "# embedding_2 = model.encode(sentences[1], convert_to_tensor=True)\n",
    "\n",
    "# util.pytorch_cos_sim(embedding_1, embedding_2)\n"
   ]
  },
  {
   "cell_type": "markdown",
   "id": "0yJzR9Stko5d",
   "metadata": {
    "id": "0yJzR9Stko5d"
   },
   "source": [
    "Train data\n"
   ]
  },
  {
   "cell_type": "code",
   "execution_count": 34,
   "id": "pqRiKbXpcrjX",
   "metadata": {
    "id": "pqRiKbXpcrjX"
   },
   "outputs": [],
   "source": [
    "# true_scores = train_pdf['Score'].values\n",
    "# pred_scores = []\n",
    "\n",
    "# for index,row in train_pdf.iterrows():\n",
    "#   #Compute embedding for both lists\n",
    "#   embedding_1= model.encode(row[\"Split_Text\"][0], convert_to_tensor=True)\n",
    "#   embedding_2 = model.encode(row[\"Split_Text\"][1], convert_to_tensor=True)\n",
    "\n",
    "\n",
    "#   # Overlap score\n",
    "#   pred_scores.append(util.pytorch_cos_sim(embedding_1, embedding_2))"
   ]
  },
  {
   "cell_type": "code",
   "execution_count": 35,
   "id": "6OAXkMl0gaH2",
   "metadata": {
    "colab": {
     "base_uri": "https://localhost:8080/",
     "height": 227
    },
    "id": "6OAXkMl0gaH2",
    "outputId": "43fb6484-eca5-4503-ba93-be1ba7bfbbff"
   },
   "outputs": [],
   "source": [
    "# pred=[]\n",
    "# for i in range(len(pred_scores)):\n",
    "#   pred.append(float(pred_scores[i][0]))\n",
    "# pred_scores=pred"
   ]
  },
  {
   "cell_type": "code",
   "execution_count": 36,
   "id": "0ibPa1Q1hlM2",
   "metadata": {
    "id": "0ibPa1Q1hlM2"
   },
   "outputs": [],
   "source": [
    "# for i in range(len(pred_scores)):\n",
    "#   pred_scores[i] =float(pred_scores[i])"
   ]
  },
  {
   "cell_type": "markdown",
   "id": "un60ovD4ku5s",
   "metadata": {
    "id": "un60ovD4ku5s"
   },
   "source": [
    "test data"
   ]
  },
  {
   "cell_type": "code",
   "execution_count": 37,
   "id": "9275904a-46f0-42cb-8e04-19fcb4bf764d",
   "metadata": {},
   "outputs": [
    {
     "data": {
      "text/plain": [
       "{'eng': Dataset({\n",
       "     features: ['sentence_id', 'words', 'Score', 'Split_Text', '__index_level_0__'],\n",
       "     num_rows: 4950\n",
       " }),\n",
       " 'esp': Dataset({\n",
       "     features: ['sentence_id', 'words', 'Score', 'Split_Text', '__index_level_0__'],\n",
       "     num_rows: 1406\n",
       " }),\n",
       " 'amh': Dataset({\n",
       "     features: ['sentence_id', 'words', 'Score', 'Split_Text', '__index_level_0__'],\n",
       "     num_rows: 893\n",
       " }),\n",
       " 'arq': Dataset({\n",
       "     features: ['sentence_id', 'words', 'Score', 'Split_Text', '__index_level_0__'],\n",
       "     num_rows: 1135\n",
       " }),\n",
       " 'ary': Dataset({\n",
       "     features: ['sentence_id', 'words', 'Score', 'Split_Text', '__index_level_0__'],\n",
       "     num_rows: 832\n",
       " }),\n",
       " 'hau': Dataset({\n",
       "     features: ['sentence_id', 'words', 'Score', 'Split_Text', '__index_level_0__'],\n",
       "     num_rows: 1562\n",
       " }),\n",
       " 'kin': Dataset({\n",
       "     features: ['sentence_id', 'words', 'Score', 'Split_Text', '__index_level_0__'],\n",
       "     num_rows: 700\n",
       " }),\n",
       " 'mar': Dataset({\n",
       "     features: ['sentence_id', 'words', 'Score', 'Split_Text', '__index_level_0__'],\n",
       "     num_rows: 1080\n",
       " }),\n",
       " 'tel': Dataset({\n",
       "     features: ['sentence_id', 'words', 'Score', 'Split_Text', '__index_level_0__'],\n",
       "     num_rows: 1053\n",
       " })}"
      ]
     },
     "execution_count": 37,
     "metadata": {},
     "output_type": "execute_result"
    }
   ],
   "source": [
    "train_dataset"
   ]
  },
  {
   "cell_type": "code",
   "execution_count": 38,
   "id": "O0wBcmCRNpUt",
   "metadata": {
    "id": "O0wBcmCRNpUt"
   },
   "outputs": [
    {
     "ename": "KeyError",
     "evalue": "'Split_Text'",
     "output_type": "error",
     "traceback": [
      "\u001b[0;31m---------------------------------------------------------------------------\u001b[0m",
      "\u001b[0;31mKeyError\u001b[0m                                  Traceback (most recent call last)",
      "Cell \u001b[0;32mIn[38], line 1\u001b[0m\n\u001b[0;32m----> 1\u001b[0m \u001b[43mtrain_pdf\u001b[49m\u001b[43m[\u001b[49m\u001b[38;5;124;43m'\u001b[39;49m\u001b[38;5;124;43mSplit_Text\u001b[39;49m\u001b[38;5;124;43m'\u001b[39;49m\u001b[43m]\u001b[49m[\u001b[38;5;241m1\u001b[39m]\n",
      "\u001b[0;31mKeyError\u001b[0m: 'Split_Text'"
     ]
    }
   ],
   "source": [
    "train_pdf['Split_Text'][1]"
   ]
  },
  {
   "cell_type": "code",
   "execution_count": 39,
   "id": "b9MK6KlLl8Kt",
   "metadata": {
    "id": "b9MK6KlLl8Kt"
   },
   "outputs": [],
   "source": [
    "# test_pdf[['PairID', 'Pred_Score']].to_csv('pred_eng.csv', index=False)"
   ]
  },
  {
   "cell_type": "code",
   "execution_count": 40,
   "id": "7f5d86e9",
   "metadata": {
    "colab": {
     "base_uri": "https://localhost:8080/"
    },
    "id": "7f5d86e9",
    "outputId": "b0153792-d71e-4f34-fd30-cc93cd62ef1d"
   },
   "outputs": [
    {
     "name": "stdout",
     "output_type": "stream",
     "text": [
      "92\n"
     ]
    }
   ],
   "source": [
    "roberta_version = 'xlm-roberta-large'#\"/home/naive123/nlp/Sumit/models_repo/muril_large_model\"#\n",
    "roberta_version_tokenizer = 'xlm-roberta-large'#\"/home/naive123/nlp/Sumit/models_repo/muril_large_tokenizer\"\n",
    "tokenizer = AutoTokenizer.from_pretrained(roberta_version_tokenizer)\n",
    "tokenizer.model_max_length = max_len\n",
    "print(tokenizer.model_max_length )"
   ]
  },
  {
   "cell_type": "code",
   "execution_count": 41,
   "id": "e400c4ed-32eb-44f1-bd4d-44e3dc18142c",
   "metadata": {},
   "outputs": [
    {
     "data": {
      "text/plain": [
       "Dataset({\n",
       "    features: ['sentence_id', 'words', 'Score', 'Split_Text', '__index_level_0__'],\n",
       "    num_rows: 4950\n",
       "})"
      ]
     },
     "execution_count": 41,
     "metadata": {},
     "output_type": "execute_result"
    }
   ],
   "source": [
    "train_dataset['eng']"
   ]
  },
  {
   "cell_type": "code",
   "execution_count": 42,
   "id": "d4587f43-8cde-4773-90a3-4ecce1b1d855",
   "metadata": {},
   "outputs": [
    {
     "data": {
      "text/plain": [
       "{'eng': Dataset({\n",
       "     features: ['sentence_id', 'words', 'Split_Text'],\n",
       "     num_rows: 250\n",
       " }),\n",
       " 'esp': Dataset({\n",
       "     features: ['sentence_id', 'words', 'Split_Text'],\n",
       "     num_rows: 140\n",
       " }),\n",
       " 'amh': Dataset({\n",
       "     features: ['sentence_id', 'words', 'Split_Text'],\n",
       "     num_rows: 95\n",
       " }),\n",
       " 'arq': Dataset({\n",
       "     features: ['sentence_id', 'words', 'Split_Text'],\n",
       "     num_rows: 97\n",
       " }),\n",
       " 'ary': Dataset({\n",
       "     features: ['sentence_id', 'words', 'Split_Text'],\n",
       "     num_rows: 71\n",
       " }),\n",
       " 'hau': Dataset({\n",
       "     features: ['sentence_id', 'words', 'Split_Text'],\n",
       "     num_rows: 212\n",
       " }),\n",
       " 'kin': Dataset({\n",
       "     features: ['sentence_id', 'words', 'Split_Text'],\n",
       "     num_rows: 102\n",
       " }),\n",
       " 'mar': Dataset({\n",
       "     features: ['sentence_id', 'words', 'Split_Text'],\n",
       "     num_rows: 293\n",
       " }),\n",
       " 'tel': Dataset({\n",
       "     features: ['sentence_id', 'words', 'Split_Text'],\n",
       "     num_rows: 130\n",
       " })}"
      ]
     },
     "execution_count": 42,
     "metadata": {},
     "output_type": "execute_result"
    }
   ],
   "source": [
    "test_dataset"
   ]
  },
  {
   "cell_type": "code",
   "execution_count": 43,
   "id": "01819f6f-632e-4b88-a445-f1457499b7ed",
   "metadata": {},
   "outputs": [],
   "source": [
    "# #Cuda device\n",
    "\n",
    "\n",
    "# not_equal=0\n",
    "# word_ids_of_sentences = []\n",
    "# repeat_batch=0\n",
    "\n",
    "\n",
    "# valid_tokenization = []\n",
    "# npt_equql_flag = 0\n",
    "# def add_encodings(example):if not os.path.exists(zip_directory):\n",
    "        # os.makedirs(zip_directory)\n",
    "\n",
    "#     global npt_equql_flag\n",
    "#     global word_ids_of_sentences\n",
    "#     global repeat_batch\n",
    "#     example_words={}\n",
    "#     example={}\n",
    "#     encodings={}\n",
    "#     score={}\n",
    "#     for i, lang in enumerate(lan):\n",
    "\n",
    "#         example_words=  example[lang]['words']   # for bert type models\n",
    "    \n",
    "#         # atoc=tokenizer.convert_ids_to_tokens(tokenizer(example['words'],is_split_into_words=True)[\"input_ids\"],skip_special_tokens=False)[1:-1]\n",
    "#         # print(example)\n",
    "#         # if len(example['Split_Text'])!=2:\n",
    "#         #     example['Split_Text']=[\"not equal\", \"not equal\"]\n",
    "#         #     not_equal+=1\n",
    "#         # print(example)\n",
    "#         print(example[lang][\"sentence_id\"])\n",
    "#         # try:\n",
    "#         #     if example[\"sentence_id\"][8:11]=='amh':\n",
    "#         #         example['Split_Text']=example['Split_Text'].split(\"\\t\")\n",
    "#         #         print(example['Split_Text'])\n",
    "#         #         encodings = tokenizer(example['Split_Text'][0]+\"</s>\"+example['Split_Text'][1], truncation=True, padding='max_length', is_split_into_words=False)\n",
    "#         #     else:\n",
    "#         #         encodings = tokenizer(example['Split_Text'][0]+\"</s>\"+example['Split_Text'][1], truncation=True, padding='max_length', is_split_into_words=False)\n",
    "#         #     #print(encodings)\n",
    "#         # except:\n",
    "#         #     print('error')\n",
    "#         #     print(example)\n",
    "#         if example[lang][\"sentence_id\"][8:11]=='amh':\n",
    "#             print(example[lang]['Split_Text'])\n",
    "#             example['Split_Text']=example['Split_Text'][0].split(\"\\t\")\n",
    "#             print(example[lang]['Split_Text'])\n",
    "#             encodings[lang] = tokenizer(example[lang]['Split_Text'][0]+\"</s>\"+example[lang]['Split_Text'][1], truncation=True, padding='max_length', is_split_into_words=False)\n",
    "#         else:\n",
    "#             encodings[lang] = tokenizer(example[lang]['Split_Text'][0]+\"</s>\"+example[lang]['Split_Text'][1], truncation=True, padding='max_length', is_split_into_words=False)\n",
    "#         #print(encodings)\n",
    "#         if \"Score\" in example[lang].keys():\n",
    "#           score[lang]=example[lang]['Score']\n",
    "#         else:\n",
    "#           score=0\n",
    "    \n",
    "#         # return the encodings and the extended ner_tags\n",
    "#         return { **encodings[lang], 'labels': score[lang]}\n"
   ]
  },
  {
   "cell_type": "code",
   "execution_count": 44,
   "id": "34aca553",
   "metadata": {
    "id": "34aca553"
   },
   "outputs": [],
   "source": [
    "#Cuda device\n",
    "\n",
    "\n",
    "not_equal=0\n",
    "word_ids_of_sentences = []\n",
    "repeat_batch=0\n",
    "\n",
    "\n",
    "valid_tokenization = []\n",
    "npt_equql_flag = 0\n",
    "def add_encodings(example):\n",
    "    global npt_equql_flag\n",
    "    global word_ids_of_sentences\n",
    "    global repeat_batch\n",
    "\n",
    "\n",
    "    example_words=  example['words']   # for bert type models\n",
    "\n",
    "    # atoc=tokenizer.convert_ids_to_tokens(tokenizer(example['words'],is_split_into_words=True)[\"input_ids\"],skip_special_tokens=False)[1:-1]\n",
    "    # print(example)\n",
    "    # if len(example['Split_Text'])!=2:\n",
    "    #     example['Split_Text']=[\"not equal\", \"not equal\"]\n",
    "    #     not_equal+=1\n",
    "    # print(example)\n",
    "    # print(example[\"sentence_id\"])\n",
    "    # try:\n",
    "    #     if example[\"sentence_id\"][8:11]=='amh':\n",
    "    #         example['Split_Text']=example['Split_Text'].split(\"\\t\")\n",
    "    #         print(example['Split_Text'])\n",
    "    #         encodings = tokenizer(example['Split_Text'][0]+\"</s>\"+example['Split_Text'][1], truncation=True, padding='max_length', is_split_into_words=False)\n",
    "    #     else:\n",
    "    #         encodings = tokenizer(example['Split_Text'][0]+\"</s>\"+example['Split_Text'][1], truncation=True, padding='max_length', is_split_into_words=False)\n",
    "    #     #print(encodings)\n",
    "    # except:\n",
    "    #     print('error')\n",
    "    #     print(example)\n",
    "    if example[\"sentence_id\"][8:11]=='amh':\n",
    "        # print(example['Split_Text'])\n",
    "        example['Split_Text']=example['Split_Text'][0].split(\"\\t\")\n",
    "        # print(example['Split_Text'])\n",
    "        encodings = tokenizer(example['Split_Text'][0]+\"</s>\"+example['Split_Text'][1], truncation=True, padding='max_length', is_split_into_words=False)\n",
    "    else:\n",
    "        encodings = tokenizer(example['Split_Text'][0]+\"</s>\"+example['Split_Text'][1], truncation=True, padding='max_length', is_split_into_words=False)\n",
    "    #print(encodings)\n",
    "    if \"Score\" in example.keys():\n",
    "      score=example['Score']\n",
    "    else:\n",
    "      score=0\n",
    "\n",
    "    # return the encodings and the extended ner_tags\n",
    "    return { **encodings, 'labels': score}\n"
   ]
  },
  {
   "cell_type": "code",
   "execution_count": 45,
   "id": "5cc84b02-f4a2-4f81-af9c-a31dac190e1b",
   "metadata": {},
   "outputs": [
    {
     "data": {
      "text/plain": [
       "Dataset({\n",
       "    features: ['sentence_id', 'words', 'Score', 'Split_Text', '__index_level_0__'],\n",
       "    num_rows: 4950\n",
       "})"
      ]
     },
     "execution_count": 45,
     "metadata": {},
     "output_type": "execute_result"
    }
   ],
   "source": [
    "train_dataset\n",
    "train_dataset[\"eng\"]"
   ]
  },
  {
   "cell_type": "code",
   "execution_count": 46,
   "id": "7cbf76db-70b5-4443-b39a-eec2b79fe3da",
   "metadata": {},
   "outputs": [],
   "source": [
    "# train_dataset[\"eng\"].map(add_encodings,load_from_cache_file=False, batch_size =10000)"
   ]
  },
  {
   "cell_type": "code",
   "execution_count": 47,
   "id": "7b691f44",
   "metadata": {
    "colab": {
     "base_uri": "https://localhost:8080/",
     "height": 914,
     "referenced_widgets": [
      "fc35707cc1d2436b99918bdd019f13e0",
      "4a0e0d1bcf1542608efe2de9861bb0a9",
      "4703c6e7494b47f78b31859c33e2b860",
      "ac4e525d3687400baff67d0091f8b143",
      "9291b6452b974c1b9a5902389a69bf54",
      "326e389f972448f7884b01549ea19bb5",
      "95e7682f61a645cab819a19b31ae0678",
      "1614cfd998a34ef6b3cabded1a5e0968",
      "bf96d4c08a084422b2d7dde158630fa6",
      "1f5aad4267b44d88af648d7de690c7a8",
      "f4936079d79a47e29bad65a1d285baf0"
     ]
    },
    "id": "7b691f44",
    "outputId": "1289a039-0b15-4572-cae4-d673a44a745c"
   },
   "outputs": [
    {
     "name": "stdout",
     "output_type": "stream",
     "text": [
      "tokenizer.model_max_length= 92\n",
      "encodinmmg start\n",
      "encodinmmg start\n"
     ]
    },
    {
     "data": {
      "application/vnd.jupyter.widget-view+json": {
       "model_id": "34b286e1ed6a46ba9a664bf00a805cbb",
       "version_major": 2,
       "version_minor": 0
      },
      "text/plain": [
       "Map:   0%|          | 0/4950 [00:00<?, ? examples/s]"
      ]
     },
     "metadata": {},
     "output_type": "display_data"
    },
    {
     "name": "stdout",
     "output_type": "stream",
     "text": [
      "{'sentence_id': 'ENG-train-5411', 'words': 'Stowers worked as a receptionist in Los Angeles .\\nAnimators also visited the Los Angeles Zoo .', 'Score': 0.09, 'Split_Text': ['Stowers worked as a receptionist in Los Angeles .', 'Animators also visited the Los Angeles Zoo .'], '__index_level_0__': 5411, 'input_ids': [0, 18343, 42844, 79786, 237, 10, 116816, 1419, 23, 3731, 31754, 6, 5, 2, 71352, 22230, 2843, 36997, 71, 70, 3731, 31754, 70755, 6, 5, 2, 1, 1, 1, 1, 1, 1, 1, 1, 1, 1, 1, 1, 1, 1, 1, 1, 1, 1, 1, 1, 1, 1, 1, 1, 1, 1, 1, 1, 1, 1, 1, 1, 1, 1, 1, 1, 1, 1, 1, 1, 1, 1, 1, 1, 1, 1, 1, 1, 1, 1, 1, 1, 1, 1, 1, 1, 1, 1, 1, 1, 1, 1, 1, 1, 1, 1], 'attention_mask': [1, 1, 1, 1, 1, 1, 1, 1, 1, 1, 1, 1, 1, 1, 1, 1, 1, 1, 1, 1, 1, 1, 1, 1, 1, 1, 0, 0, 0, 0, 0, 0, 0, 0, 0, 0, 0, 0, 0, 0, 0, 0, 0, 0, 0, 0, 0, 0, 0, 0, 0, 0, 0, 0, 0, 0, 0, 0, 0, 0, 0, 0, 0, 0, 0, 0, 0, 0, 0, 0, 0, 0, 0, 0, 0, 0, 0, 0, 0, 0, 0, 0, 0, 0, 0, 0, 0, 0, 0, 0, 0, 0], 'labels': 0.09}\n",
      "encodinmmg complete\n"
     ]
    },
    {
     "data": {
      "application/vnd.jupyter.widget-view+json": {
       "model_id": "7a7fbd3feaf844af9951dd57912f3b97",
       "version_major": 2,
       "version_minor": 0
      },
      "text/plain": [
       "Map:   0%|          | 0/1406 [00:00<?, ? examples/s]"
      ]
     },
     "metadata": {},
     "output_type": "display_data"
    },
    {
     "name": "stdout",
     "output_type": "stream",
     "text": [
      "{'sentence_id': 'ESP-train-1485', 'words': 'Un hombre árabe lleva un sombrero blanco\\nLa niña anima al hombre del uniforme azul y blanco.', 'Score': 0.5, 'Split_Text': ['Un hombre árabe lleva un sombrero blanco', 'La niña anima al hombre del uniforme azul y blanco.'], '__index_level_0__': 1485, 'input_ids': [0, 992, 46491, 193390, 28606, 51, 124, 4134, 516, 101455, 2, 239, 300, 5708, 10127, 144, 46491, 146, 125739, 80218, 113, 101455, 5, 2, 1, 1, 1, 1, 1, 1, 1, 1, 1, 1, 1, 1, 1, 1, 1, 1, 1, 1, 1, 1, 1, 1, 1, 1, 1, 1, 1, 1, 1, 1, 1, 1, 1, 1, 1, 1, 1, 1, 1, 1, 1, 1, 1, 1, 1, 1, 1, 1, 1, 1, 1, 1, 1, 1, 1, 1, 1, 1, 1, 1, 1, 1, 1, 1, 1, 1, 1, 1], 'attention_mask': [1, 1, 1, 1, 1, 1, 1, 1, 1, 1, 1, 1, 1, 1, 1, 1, 1, 1, 1, 1, 1, 1, 1, 1, 0, 0, 0, 0, 0, 0, 0, 0, 0, 0, 0, 0, 0, 0, 0, 0, 0, 0, 0, 0, 0, 0, 0, 0, 0, 0, 0, 0, 0, 0, 0, 0, 0, 0, 0, 0, 0, 0, 0, 0, 0, 0, 0, 0, 0, 0, 0, 0, 0, 0, 0, 0, 0, 0, 0, 0, 0, 0, 0, 0, 0, 0, 0, 0, 0, 0, 0, 0], 'labels': 0.5}\n",
      "encodinmmg complete\n"
     ]
    },
    {
     "data": {
      "application/vnd.jupyter.widget-view+json": {
       "model_id": "a826c1b9ec254f4c8e83e5b5fcd15577",
       "version_major": 2,
       "version_minor": 0
      },
      "text/plain": [
       "Map:   0%|          | 0/893 [00:00<?, ? examples/s]"
      ]
     },
     "metadata": {},
     "output_type": "display_data"
    },
    {
     "name": "stdout",
     "output_type": "stream",
     "text": [
      "{'sentence_id': 'Pair_ID_amh_train_952', 'words': '” የሚለው ነው ዋናው ጥያቄ ።\\tያለው የሚለው ጥያቄ ለህዝቡ መመለስ ግዴታ ነው ።', 'Score': 0.44, 'Split_Text': ['” የሚለው ነው ዋናው ጥያቄ ።', 'ያለው የሚለው ጥያቄ ለህዝቡ መመለስ ግዴታ ነው ።'], '__index_level_0__': 951, 'input_ids': [0, 970, 96712, 3053, 150238, 32620, 42192, 2, 23683, 96712, 32620, 2237, 120476, 2370, 72845, 203929, 3053, 42192, 2, 1, 1, 1, 1, 1, 1, 1, 1, 1, 1, 1, 1, 1, 1, 1, 1, 1, 1, 1, 1, 1, 1, 1, 1, 1, 1, 1, 1, 1, 1, 1, 1, 1, 1, 1, 1, 1, 1, 1, 1, 1, 1, 1, 1, 1, 1, 1, 1, 1, 1, 1, 1, 1, 1, 1, 1, 1, 1, 1, 1, 1, 1, 1, 1, 1, 1, 1, 1, 1, 1, 1, 1, 1], 'attention_mask': [1, 1, 1, 1, 1, 1, 1, 1, 1, 1, 1, 1, 1, 1, 1, 1, 1, 1, 1, 0, 0, 0, 0, 0, 0, 0, 0, 0, 0, 0, 0, 0, 0, 0, 0, 0, 0, 0, 0, 0, 0, 0, 0, 0, 0, 0, 0, 0, 0, 0, 0, 0, 0, 0, 0, 0, 0, 0, 0, 0, 0, 0, 0, 0, 0, 0, 0, 0, 0, 0, 0, 0, 0, 0, 0, 0, 0, 0, 0, 0, 0, 0, 0, 0, 0, 0, 0, 0, 0, 0, 0, 0], 'labels': 0.44}\n",
      "encodinmmg complete\n"
     ]
    },
    {
     "data": {
      "application/vnd.jupyter.widget-view+json": {
       "model_id": "4c5da19ef5b64679bb7294bc72dc0fcb",
       "version_major": 2,
       "version_minor": 0
      },
      "text/plain": [
       "Map:   0%|          | 0/1135 [00:00<?, ? examples/s]"
      ]
     },
     "metadata": {},
     "output_type": "display_data"
    },
    {
     "name": "stdout",
     "output_type": "stream",
     "text": [
      "{'sentence_id': 'ARQ-train-0697', 'words': 'واش راكي ديري\\n درتي راس الحانوت', 'Score': 0.5, 'Split_Text': ['واش راكي ديري', ' درتي راس الحانوت'], '__index_level_0__': 696, 'input_ids': [0, 65, 12326, 406, 20196, 181, 53314, 2, 175, 6267, 6, 54009, 12011, 9793, 368, 2, 1, 1, 1, 1, 1, 1, 1, 1, 1, 1, 1, 1, 1, 1, 1, 1, 1, 1, 1, 1, 1, 1, 1, 1, 1, 1, 1, 1, 1, 1, 1, 1, 1, 1, 1, 1, 1, 1, 1, 1, 1, 1, 1, 1, 1, 1, 1, 1, 1, 1, 1, 1, 1, 1, 1, 1, 1, 1, 1, 1, 1, 1, 1, 1, 1, 1, 1, 1, 1, 1, 1, 1, 1, 1, 1, 1], 'attention_mask': [1, 1, 1, 1, 1, 1, 1, 1, 1, 1, 1, 1, 1, 1, 1, 1, 0, 0, 0, 0, 0, 0, 0, 0, 0, 0, 0, 0, 0, 0, 0, 0, 0, 0, 0, 0, 0, 0, 0, 0, 0, 0, 0, 0, 0, 0, 0, 0, 0, 0, 0, 0, 0, 0, 0, 0, 0, 0, 0, 0, 0, 0, 0, 0, 0, 0, 0, 0, 0, 0, 0, 0, 0, 0, 0, 0, 0, 0, 0, 0, 0, 0, 0, 0, 0, 0, 0, 0, 0, 0, 0, 0], 'labels': 0.5}\n",
      "encodinmmg complete\n"
     ]
    },
    {
     "data": {
      "application/vnd.jupyter.widget-view+json": {
       "model_id": "355c51a3657e40c79fb87f53f1c52c20",
       "version_major": 2,
       "version_minor": 0
      },
      "text/plain": [
       "Map:   0%|          | 0/832 [00:00<?, ? examples/s]"
      ]
     },
     "metadata": {},
     "output_type": "display_data"
    },
    {
     "name": "stdout",
     "output_type": "stream",
     "text": [
      "{'sentence_id': 'ARY-train-0715', 'words': 'حصيلة كورونا هاد الصباح: 136 تصابو و68 تشافاو وواحد مات.. الطوطال: 15464 حالة و11895 متعافي و244 متوفي و3325 كيتعالجو\\nحصيلة كورونا هاد الصباح: 178 تصابو و56 تشافاو.. الطوطال: 14949 حالة منها 11372 تعافاو و242 توفاو و3335 كيتعالجو', 'Score': 0.57, 'Split_Text': ['حصيلة كورونا هاد الصباح: 136 تصابو و68 تشافاو وواحد مات.. الطوطال: 15464 حالة و11895 متعافي و244 متوفي و3325 كيتعالجو', 'حصيلة كورونا هاد الصباح: 178 تصابو و56 تشافاو.. الطوطال: 14949 حالة منها 11372 تعافاو و242 توفاو و3335 كيتعالجو'], '__index_level_0__': 715, 'input_ids': [0, 43803, 45018, 71240, 93944, 917, 826, 189757, 12, 64584, 746, 22977, 431, 65, 16028, 21723, 9140, 26317, 65, 1778, 27975, 58257, 5, 5, 35717, 431, 76522, 12, 423, 160775, 39042, 65, 1662, 198467, 6, 138415, 80846, 65, 2357, 617, 6164, 96114, 65, 9185, 2588, 56351, 368, 128932, 431, 2, 43803, 45018, 71240, 93944, 917, 826, 189757, 12, 68388, 746, 22977, 431, 65, 13683, 21723, 9140, 26317, 5, 5, 35717, 431, 76522, 12, 616, 176857, 39042, 19068, 534, 108265, 21205, 9140, 26317, 65, 2357, 304, 6, 148825, 26317, 65, 66000, 758, 2], 'attention_mask': [1, 1, 1, 1, 1, 1, 1, 1, 1, 1, 1, 1, 1, 1, 1, 1, 1, 1, 1, 1, 1, 1, 1, 1, 1, 1, 1, 1, 1, 1, 1, 1, 1, 1, 1, 1, 1, 1, 1, 1, 1, 1, 1, 1, 1, 1, 1, 1, 1, 1, 1, 1, 1, 1, 1, 1, 1, 1, 1, 1, 1, 1, 1, 1, 1, 1, 1, 1, 1, 1, 1, 1, 1, 1, 1, 1, 1, 1, 1, 1, 1, 1, 1, 1, 1, 1, 1, 1, 1, 1, 1, 1], 'labels': 0.57}\n",
      "encodinmmg complete\n"
     ]
    },
    {
     "data": {
      "application/vnd.jupyter.widget-view+json": {
       "model_id": "33eab5ad1ef6404bb89cd8b77854955a",
       "version_major": 2,
       "version_minor": 0
      },
      "text/plain": [
       "Map:   0%|          | 0/1562 [00:00<?, ? examples/s]"
      ]
     },
     "metadata": {},
     "output_type": "display_data"
    },
    {
     "name": "stdout",
     "output_type": "stream",
     "text": [
      "{'sentence_id': 'hau_train_01653', 'words': 'Amma a farashin gwamnati ana sayar da dala 1 kan naira 445.38 ga mai hanya ko kuma mai rabo.\\nA yanzu dai Naira 414 ake sayar da dala ɗaya a farashin gwamnati.', 'Score': 0.88, 'Split_Text': ['Amma a farashin gwamnati ana sayar da dala 1 kan naira 445.38 ga mai hanya ko kuma mai rabo.', 'A yanzu dai Naira 414 ake sayar da dala ɗaya a farashin gwamnati.'], '__index_level_0__': 1652, 'input_ids': [0, 16355, 10, 5484, 16532, 202067, 3877, 1216, 42, 48, 43004, 106, 203, 24, 2634, 201, 4633, 5, 10991, 914, 409, 3102, 298, 8429, 409, 136340, 5, 2, 62, 111559, 8864, 353, 2634, 201, 2592, 95483, 1216, 42, 48, 43004, 6, 249960, 5822, 10, 5484, 16532, 202067, 5, 2, 1, 1, 1, 1, 1, 1, 1, 1, 1, 1, 1, 1, 1, 1, 1, 1, 1, 1, 1, 1, 1, 1, 1, 1, 1, 1, 1, 1, 1, 1, 1, 1, 1, 1, 1, 1, 1, 1, 1, 1, 1, 1, 1], 'attention_mask': [1, 1, 1, 1, 1, 1, 1, 1, 1, 1, 1, 1, 1, 1, 1, 1, 1, 1, 1, 1, 1, 1, 1, 1, 1, 1, 1, 1, 1, 1, 1, 1, 1, 1, 1, 1, 1, 1, 1, 1, 1, 1, 1, 1, 1, 1, 1, 1, 1, 0, 0, 0, 0, 0, 0, 0, 0, 0, 0, 0, 0, 0, 0, 0, 0, 0, 0, 0, 0, 0, 0, 0, 0, 0, 0, 0, 0, 0, 0, 0, 0, 0, 0, 0, 0, 0, 0, 0, 0, 0, 0, 0], 'labels': 0.88}\n",
      "encodinmmg complete\n"
     ]
    },
    {
     "data": {
      "application/vnd.jupyter.widget-view+json": {
       "model_id": "0a514261dd7041a29520fa63e3dbc929",
       "version_major": 2,
       "version_minor": 0
      },
      "text/plain": [
       "Map:   0%|          | 0/700 [00:00<?, ? examples/s]"
      ]
     },
     "metadata": {},
     "output_type": "display_data"
    },
    {
     "name": "stdout",
     "output_type": "stream",
     "text": [
      "{'sentence_id': 'kin_train_00617', 'words': 'Byari agahebuzo ubwo Ruhago Sports Promoters na Rayon Sports batangizaga ku ku mugaragaro ubufatanye bwabo!\\nTubibutse ko Ruhago Promoters LTD yatangiye ubufatanye n’ikipe ya Rayon Sports buzamara imyaka 5', 'Score': 0.78, 'Split_Text': ['Byari agahebuzo ubwo Ruhago Sports Promoters na Rayon Sports batangizaga ku ku mugaragaro ubufatanye bwabo!', 'Tubibutse ko Ruhago Promoters LTD yatangiye ubufatanye n’ikipe ya Rayon Sports buzamara imyaka 5'], '__index_level_0__': 616, 'input_ids': [0, 3311, 1686, 5575, 1106, 978, 1158, 6, 5829, 3613, 82975, 13906, 39170, 23490, 23962, 24, 73706, 39170, 38880, 7337, 208, 228, 228, 83360, 42547, 516, 74166, 136208, 13838, 90998, 21552, 38, 2, 1371, 964, 8789, 184, 298, 82975, 13906, 23490, 23962, 111405, 151, 14525, 8380, 74166, 136208, 13838, 653, 26, 5898, 1081, 151, 73706, 39170, 57461, 109348, 566, 122669, 190, 2, 1, 1, 1, 1, 1, 1, 1, 1, 1, 1, 1, 1, 1, 1, 1, 1, 1, 1, 1, 1, 1, 1, 1, 1, 1, 1, 1, 1, 1, 1], 'attention_mask': [1, 1, 1, 1, 1, 1, 1, 1, 1, 1, 1, 1, 1, 1, 1, 1, 1, 1, 1, 1, 1, 1, 1, 1, 1, 1, 1, 1, 1, 1, 1, 1, 1, 1, 1, 1, 1, 1, 1, 1, 1, 1, 1, 1, 1, 1, 1, 1, 1, 1, 1, 1, 1, 1, 1, 1, 1, 1, 1, 1, 1, 1, 0, 0, 0, 0, 0, 0, 0, 0, 0, 0, 0, 0, 0, 0, 0, 0, 0, 0, 0, 0, 0, 0, 0, 0, 0, 0, 0, 0, 0, 0], 'labels': 0.78}\n",
      "encodinmmg complete\n"
     ]
    },
    {
     "data": {
      "application/vnd.jupyter.widget-view+json": {
       "model_id": "ce293d1024104de7be44502539fb64f3",
       "version_major": 2,
       "version_minor": 0
      },
      "text/plain": [
       "Map:   0%|          | 0/1080 [00:00<?, ? examples/s]"
      ]
     },
     "metadata": {},
     "output_type": "display_data"
    },
    {
     "name": "stdout",
     "output_type": "stream",
     "text": [
      "{'sentence_id': 'MAR-train-00547', 'words': '\"त्यामुळे आमची युती झालीय हे घरोघरी सांगण्याची जबाबदारी उद्धव यांनी आज जिल्हा आणि तालुका पातळीवरील आपल्या शिलेदारांवर सोपवली आहे.\"\\n\"मात्र, रात्री उशिरा वा उद्या मुख्यमंत्री देवेंद्र फडणवीस हे शिवसेना पक्षप्रमुख उद्धव ठाकरे यांच्याशी चर्चा करून तोडगा काढण्याची शक्यता आहे.\"', 'Score': 0.5, 'Split_Text': ['\"त्यामुळे आमची युती झालीय हे घरोघरी सांगण्याची जबाबदारी उद्धव यांनी आज जिल्हा आणि तालुका पातळीवरील आपल्या शिलेदारांवर सोपवली आहे.\"', '\"मात्र, रात्री उशिरा वा उद्या मुख्यमंत्री देवेंद्र फडणवीस हे शिवसेना पक्षप्रमुख उद्धव ठाकरे यांच्याशी चर्चा करून तोडगा काढण्याची शक्यता आहे.\"'], '__index_level_0__': 546, 'input_ids': [0, 44, 23289, 47163, 26046, 3673, 32479, 3801, 30831, 3346, 3653, 5988, 2284, 68578, 659, 26844, 36328, 181353, 659, 226291, 15325, 3264, 55211, 2056, 242562, 6, 67377, 24718, 80933, 17375, 26502, 535, 11639, 84749, 11110, 2138, 95826, 1383, 1242, 2, 44, 64407, 4, 126501, 5450, 31771, 2815, 5093, 160242, 32894, 195323, 190569, 3653, 182222, 20700, 160686, 226291, 128534, 22582, 9155, 29522, 21074, 178801, 10307, 52357, 36328, 156820, 1383, 1242, 2, 1, 1, 1, 1, 1, 1, 1, 1, 1, 1, 1, 1, 1, 1, 1, 1, 1, 1, 1, 1, 1, 1], 'attention_mask': [1, 1, 1, 1, 1, 1, 1, 1, 1, 1, 1, 1, 1, 1, 1, 1, 1, 1, 1, 1, 1, 1, 1, 1, 1, 1, 1, 1, 1, 1, 1, 1, 1, 1, 1, 1, 1, 1, 1, 1, 1, 1, 1, 1, 1, 1, 1, 1, 1, 1, 1, 1, 1, 1, 1, 1, 1, 1, 1, 1, 1, 1, 1, 1, 1, 1, 1, 1, 1, 1, 0, 0, 0, 0, 0, 0, 0, 0, 0, 0, 0, 0, 0, 0, 0, 0, 0, 0, 0, 0, 0, 0], 'labels': 0.5}\n",
      "encodinmmg complete\n"
     ]
    },
    {
     "data": {
      "application/vnd.jupyter.widget-view+json": {
       "model_id": "3108dfe4e47943c1ad596c77b2f32153",
       "version_major": 2,
       "version_minor": 0
      },
      "text/plain": [
       "Map:   0%|          | 0/1053 [00:00<?, ? examples/s]"
      ]
     },
     "metadata": {},
     "output_type": "display_data"
    },
    {
     "name": "stdout",
     "output_type": "stream",
     "text": [
      "{'sentence_id': 'TEL-train-00681', 'words': '\"ఈ చిత్రం ఫై అటు అక్కినేని అభిమానులకే కాక ఇటు సగటు సినిమా ప్రేక్షకులకు కూడా భారీ అంచనాలు ఉన్నాయి.\"\\n\"చదివింది భీమవరం అయితే, ఇప్పుడు బ్రతుకుతున్నది మాత్రం పూరి గారి మీద పడి అని, తను పూరి గారి భక్తుడినని ఎందుకంటే ఒక గురువుకి శిష్యుడిని మించిన భక్తుడు ఎవ్వరూ ఉండరని, అలాగే ఒక శిష్యుడికి గురువుకి మించిన గొప్పది ఏదీ ఈ ప్రపంచంలో లేదని అన్నారు.\"', 'Score': 0.44, 'Split_Text': ['\"ఈ చిత్రం ఫై అటు అక్కినేని అభిమానులకే కాక ఇటు సగటు సినిమా ప్రేక్షకులకు కూడా భారీ అంచనాలు ఉన్నాయి.\"', '\"చదివింది భీమవరం అయితే, ఇప్పుడు బ్రతుకుతున్నది మాత్రం పూరి గారి మీద పడి అని, తను పూరి గారి భక్తుడినని ఎందుకంటే ఒక గురువుకి శిష్యుడిని మించిన భక్తుడు ఎవ్వరూ ఉండరని, అలాగే ఒక శిష్యుడికి గురువుకి మించిన గొప్పది ఏదీ ఈ ప్రపంచంలో లేదని అన్నారు.\"'], '__index_level_0__': 680, 'input_ids': [0, 44, 56223, 30784, 110962, 155578, 136992, 170884, 182811, 15476, 140173, 7377, 16685, 8653, 4701, 16685, 6353, 131238, 2106, 5253, 49587, 145252, 1361, 53107, 1242, 2, 44, 14221, 6204, 2502, 9380, 27073, 15312, 3071, 165850, 21905, 4, 34343, 62281, 19311, 2635, 45473, 6204, 42061, 63683, 3991, 93875, 23566, 124446, 7749, 4, 6, 85960, 63683, 3991, 93875, 27073, 127943, 59363, 69935, 157765, 5738, 235512, 2584, 69802, 170651, 195087, 7066, 32824, 27073, 127943, 16668, 8576, 47043, 40509, 30043, 106291, 4, 65191, 5738, 69802, 170651, 59363, 2584, 235512, 2584, 7066, 32824, 91641, 6204, 9418, 2], 'attention_mask': [1, 1, 1, 1, 1, 1, 1, 1, 1, 1, 1, 1, 1, 1, 1, 1, 1, 1, 1, 1, 1, 1, 1, 1, 1, 1, 1, 1, 1, 1, 1, 1, 1, 1, 1, 1, 1, 1, 1, 1, 1, 1, 1, 1, 1, 1, 1, 1, 1, 1, 1, 1, 1, 1, 1, 1, 1, 1, 1, 1, 1, 1, 1, 1, 1, 1, 1, 1, 1, 1, 1, 1, 1, 1, 1, 1, 1, 1, 1, 1, 1, 1, 1, 1, 1, 1, 1, 1, 1, 1, 1, 1], 'labels': 0.44}\n",
      "encodinmmg complete\n"
     ]
    }
   ],
   "source": [
    "print(\"tokenizer.model_max_length=\",tokenizer.model_max_length)\n",
    "\n",
    "print(\"encodinmmg start\")\n",
    "#valid_dataset = valid_dataset.map(add_encodings)\n",
    "# print(\"encodinmmg complete\")\n",
    "#aaa=add_encodings(train_dataset[1166])\n",
    "#aaa=add_encodings(train_dataset[1167])\n",
    "train_data={}\n",
    "print(\"encodinmmg start\")\n",
    "for i, lang in enumerate(lan):\n",
    "    # print(lang)\n",
    "    # print(train_dataset[lang].num_rows)\n",
    "    train_data[lang] = train_dataset[lang].map(add_encodings,load_from_cache_file=False, batch_size =10000)#load_from_cache_file=False,\n",
    "    #train_subwordid_1s, train_subwordid_2s, train_subwordid_3s = create_Subwordid(word_ids_for_curr_sentence)\n",
    "    print(train_data[lang][0])\n",
    "    # print(train_data[lang][1])\n",
    "    # print(train_data[lang][2])\n",
    "    print(\"encodinmmg complete\")"
   ]
  },
  {
   "cell_type": "code",
   "execution_count": 48,
   "id": "cb19c99e-7a21-4475-833d-df2cd6669439",
   "metadata": {},
   "outputs": [
    {
     "data": {
      "text/plain": [
       "{'eng': Dataset({\n",
       "     features: ['sentence_id', 'words', 'Score', 'Split_Text', '__index_level_0__', 'input_ids', 'attention_mask', 'labels'],\n",
       "     num_rows: 4950\n",
       " }),\n",
       " 'esp': Dataset({\n",
       "     features: ['sentence_id', 'words', 'Score', 'Split_Text', '__index_level_0__', 'input_ids', 'attention_mask', 'labels'],\n",
       "     num_rows: 1406\n",
       " }),\n",
       " 'amh': Dataset({\n",
       "     features: ['sentence_id', 'words', 'Score', 'Split_Text', '__index_level_0__', 'input_ids', 'attention_mask', 'labels'],\n",
       "     num_rows: 893\n",
       " }),\n",
       " 'arq': Dataset({\n",
       "     features: ['sentence_id', 'words', 'Score', 'Split_Text', '__index_level_0__', 'input_ids', 'attention_mask', 'labels'],\n",
       "     num_rows: 1135\n",
       " }),\n",
       " 'ary': Dataset({\n",
       "     features: ['sentence_id', 'words', 'Score', 'Split_Text', '__index_level_0__', 'input_ids', 'attention_mask', 'labels'],\n",
       "     num_rows: 832\n",
       " }),\n",
       " 'hau': Dataset({\n",
       "     features: ['sentence_id', 'words', 'Score', 'Split_Text', '__index_level_0__', 'input_ids', 'attention_mask', 'labels'],\n",
       "     num_rows: 1562\n",
       " }),\n",
       " 'kin': Dataset({\n",
       "     features: ['sentence_id', 'words', 'Score', 'Split_Text', '__index_level_0__', 'input_ids', 'attention_mask', 'labels'],\n",
       "     num_rows: 700\n",
       " }),\n",
       " 'mar': Dataset({\n",
       "     features: ['sentence_id', 'words', 'Score', 'Split_Text', '__index_level_0__', 'input_ids', 'attention_mask', 'labels'],\n",
       "     num_rows: 1080\n",
       " }),\n",
       " 'tel': Dataset({\n",
       "     features: ['sentence_id', 'words', 'Score', 'Split_Text', '__index_level_0__', 'input_ids', 'attention_mask', 'labels'],\n",
       "     num_rows: 1053\n",
       " })}"
      ]
     },
     "execution_count": 48,
     "metadata": {},
     "output_type": "execute_result"
    }
   ],
   "source": [
    "train_data"
   ]
  },
  {
   "cell_type": "code",
   "execution_count": 49,
   "id": "b6b90685-ddc0-4a55-85ae-bcfceb93e919",
   "metadata": {},
   "outputs": [
    {
     "data": {
      "text/plain": [
       "{'eng': Dataset({\n",
       "     features: ['sentence_id', 'words', 'Split_Text'],\n",
       "     num_rows: 250\n",
       " }),\n",
       " 'esp': Dataset({\n",
       "     features: ['sentence_id', 'words', 'Split_Text'],\n",
       "     num_rows: 140\n",
       " }),\n",
       " 'amh': Dataset({\n",
       "     features: ['sentence_id', 'words', 'Split_Text'],\n",
       "     num_rows: 95\n",
       " }),\n",
       " 'arq': Dataset({\n",
       "     features: ['sentence_id', 'words', 'Split_Text'],\n",
       "     num_rows: 97\n",
       " }),\n",
       " 'ary': Dataset({\n",
       "     features: ['sentence_id', 'words', 'Split_Text'],\n",
       "     num_rows: 71\n",
       " }),\n",
       " 'hau': Dataset({\n",
       "     features: ['sentence_id', 'words', 'Split_Text'],\n",
       "     num_rows: 212\n",
       " }),\n",
       " 'kin': Dataset({\n",
       "     features: ['sentence_id', 'words', 'Split_Text'],\n",
       "     num_rows: 102\n",
       " }),\n",
       " 'mar': Dataset({\n",
       "     features: ['sentence_id', 'words', 'Split_Text'],\n",
       "     num_rows: 293\n",
       " }),\n",
       " 'tel': Dataset({\n",
       "     features: ['sentence_id', 'words', 'Split_Text'],\n",
       "     num_rows: 130\n",
       " })}"
      ]
     },
     "execution_count": 49,
     "metadata": {},
     "output_type": "execute_result"
    }
   ],
   "source": [
    "test_dataset"
   ]
  },
  {
   "cell_type": "code",
   "execution_count": 50,
   "id": "548925a2-22bd-49f6-bae4-cd1922eea20c",
   "metadata": {},
   "outputs": [
    {
     "data": {
      "text/plain": [
       "['eng', 'esp', 'amh', 'arq', 'ary', 'hau', 'kin', 'mar', 'tel']"
      ]
     },
     "execution_count": 50,
     "metadata": {},
     "output_type": "execute_result"
    }
   ],
   "source": [
    "lan"
   ]
  },
  {
   "cell_type": "code",
   "execution_count": 51,
   "id": "9d2fcf61",
   "metadata": {
    "id": "9d2fcf61"
   },
   "outputs": [
    {
     "data": {
      "application/vnd.jupyter.widget-view+json": {
       "model_id": "80c10d25ed0e43c7b038ffc35f4147f9",
       "version_major": 2,
       "version_minor": 0
      },
      "text/plain": [
       "Map:   0%|          | 0/250 [00:00<?, ? examples/s]"
      ]
     },
     "metadata": {},
     "output_type": "display_data"
    },
    {
     "name": "stdout",
     "output_type": "stream",
     "text": [
      "{'sentence_id': 'ENG-dev-0000', 'words': \"The story is gripping and interesting.\\nIt's a brilliant, compelling, and heartfelt story.\", 'Split_Text': ['The story is gripping and interesting.', \"It's a brilliant, compelling, and heartfelt story.\"], 'input_ids': [0, 581, 13765, 83, 10314, 26783, 136, 49041, 5, 2, 1650, 25, 7, 10, 230451, 4, 9969, 13, 30319, 4, 136, 26498, 117905, 13765, 5, 2, 1, 1, 1, 1, 1, 1, 1, 1, 1, 1, 1, 1, 1, 1, 1, 1, 1, 1, 1, 1, 1, 1, 1, 1, 1, 1, 1, 1, 1, 1, 1, 1, 1, 1, 1, 1, 1, 1, 1, 1, 1, 1, 1, 1, 1, 1, 1, 1, 1, 1, 1, 1, 1, 1, 1, 1, 1, 1, 1, 1, 1, 1, 1, 1, 1, 1], 'attention_mask': [1, 1, 1, 1, 1, 1, 1, 1, 1, 1, 1, 1, 1, 1, 1, 1, 1, 1, 1, 1, 1, 1, 1, 1, 1, 1, 0, 0, 0, 0, 0, 0, 0, 0, 0, 0, 0, 0, 0, 0, 0, 0, 0, 0, 0, 0, 0, 0, 0, 0, 0, 0, 0, 0, 0, 0, 0, 0, 0, 0, 0, 0, 0, 0, 0, 0, 0, 0, 0, 0, 0, 0, 0, 0, 0, 0, 0, 0, 0, 0, 0, 0, 0, 0, 0, 0, 0, 0, 0, 0, 0, 0], 'labels': 0}\n",
      "encodinmmg complete\n"
     ]
    },
    {
     "data": {
      "application/vnd.jupyter.widget-view+json": {
       "model_id": "e14fcdc4e3634e07959d63a5dd1704ef",
       "version_major": 2,
       "version_minor": 0
      },
      "text/plain": [
       "Map:   0%|          | 0/140 [00:00<?, ? examples/s]"
      ]
     },
     "metadata": {},
     "output_type": "display_data"
    },
    {
     "name": "stdout",
     "output_type": "stream",
     "text": [
      "{'sentence_id': 'ESP-dev-0000', 'words': 'Notable es la carta de Robert a Sarah.\\nStrathairn asistió a Williams College, Williamstown, Massachusetts, y se graduó de la Redwood High School en Larkspur, California en 1970.', 'Split_Text': ['Notable es la carta de Robert a Sarah.', 'Strathairn asistió a Williams College, Williamstown, Massachusetts, y se graduó de la Redwood High School en Larkspur, California en 1970.'], 'input_ids': [0, 438, 22819, 198, 21, 20533, 8, 12452, 10, 44582, 5, 2, 7832, 48625, 19, 96250, 12632, 10, 40478, 29693, 4, 40478, 35461, 4, 157082, 4, 113, 40, 25975, 849, 8, 21, 6096, 25876, 19694, 19188, 22, 239, 7190, 48150, 4, 39897, 22, 19340, 5, 2, 1, 1, 1, 1, 1, 1, 1, 1, 1, 1, 1, 1, 1, 1, 1, 1, 1, 1, 1, 1, 1, 1, 1, 1, 1, 1, 1, 1, 1, 1, 1, 1, 1, 1, 1, 1, 1, 1, 1, 1, 1, 1, 1, 1, 1, 1], 'attention_mask': [1, 1, 1, 1, 1, 1, 1, 1, 1, 1, 1, 1, 1, 1, 1, 1, 1, 1, 1, 1, 1, 1, 1, 1, 1, 1, 1, 1, 1, 1, 1, 1, 1, 1, 1, 1, 1, 1, 1, 1, 1, 1, 1, 1, 1, 1, 0, 0, 0, 0, 0, 0, 0, 0, 0, 0, 0, 0, 0, 0, 0, 0, 0, 0, 0, 0, 0, 0, 0, 0, 0, 0, 0, 0, 0, 0, 0, 0, 0, 0, 0, 0, 0, 0, 0, 0, 0, 0, 0, 0, 0, 0], 'labels': 0}\n",
      "encodinmmg complete\n"
     ]
    },
    {
     "data": {
      "application/vnd.jupyter.widget-view+json": {
       "model_id": "229312eca3574556802913a691e4bd25",
       "version_major": 2,
       "version_minor": 0
      },
      "text/plain": [
       "Map:   0%|          | 0/95 [00:00<?, ? examples/s]"
      ]
     },
     "metadata": {},
     "output_type": "display_data"
    },
    {
     "name": "stdout",
     "output_type": "stream",
     "text": [
      "{'sentence_id': 'Pair_ID_amh_dev_1', 'words': 'ታህሳስ 5 ፣2013/ በኢትዮጵያ ተጨማሪ 473 ሰዎች በኮሮና ቫይረስ ተያዙ ።\\tህዳር 18 ፣2013/ በኢትዮጵያ ተጨማሪ 769 ሰዎች በኮሮና ቫይረስ ተያዙ ።', 'Split_Text': ['ታህሳስ 5 ፣2013/ በኢትዮጵያ ተጨማሪ 473 ሰዎች በኮሮና ቫይረስ ተያዙ ።', 'ህዳር 18 ፣2013/ በኢትዮጵያ ተጨማሪ 769 ሰዎች በኮሮና ቫይረስ ተያዙ ።'], 'input_ids': [0, 23869, 4359, 4047, 2095, 190, 62778, 7735, 64, 34547, 90893, 201, 13574, 21189, 728, 18034, 8418, 946, 6, 116012, 3841, 55293, 2981, 132795, 42192, 2, 43743, 58261, 543, 62778, 7735, 64, 34547, 90893, 361, 14212, 21189, 728, 18034, 8418, 946, 6, 116012, 3841, 55293, 2981, 132795, 42192, 2, 1, 1, 1, 1, 1, 1, 1, 1, 1, 1, 1, 1, 1, 1, 1, 1, 1, 1, 1, 1, 1, 1, 1, 1, 1, 1, 1, 1, 1, 1, 1, 1, 1, 1, 1, 1, 1, 1, 1, 1, 1, 1, 1], 'attention_mask': [1, 1, 1, 1, 1, 1, 1, 1, 1, 1, 1, 1, 1, 1, 1, 1, 1, 1, 1, 1, 1, 1, 1, 1, 1, 1, 1, 1, 1, 1, 1, 1, 1, 1, 1, 1, 1, 1, 1, 1, 1, 1, 1, 1, 1, 1, 1, 1, 1, 0, 0, 0, 0, 0, 0, 0, 0, 0, 0, 0, 0, 0, 0, 0, 0, 0, 0, 0, 0, 0, 0, 0, 0, 0, 0, 0, 0, 0, 0, 0, 0, 0, 0, 0, 0, 0, 0, 0, 0, 0, 0, 0], 'labels': 0}\n",
      "encodinmmg complete\n"
     ]
    },
    {
     "data": {
      "application/vnd.jupyter.widget-view+json": {
       "model_id": "9a70dcbe16294360861b658c590a339f",
       "version_major": 2,
       "version_minor": 0
      },
      "text/plain": [
       "Map:   0%|          | 0/97 [00:00<?, ? examples/s]"
      ]
     },
     "metadata": {},
     "output_type": "display_data"
    },
    {
     "name": "stdout",
     "output_type": "stream",
     "text": [
      "{'sentence_id': 'ARQ-dev-0001', 'words': 'زيد كون ڤلتي لها تأكدي عليها\\n ڤولي لها تڤول للبنات أكريمة حن لخواتاتهم', 'Split_Text': ['زيد كون ڤلتي لها تأكدي عليها', ' ڤولي لها تڤول للبنات أكريمة حن لخواتاتهم'], 'input_ids': [0, 6, 79229, 62426, 6, 244757, 17187, 179, 14150, 6, 101375, 179, 16947, 2, 6, 244757, 31506, 14150, 746, 244757, 3606, 104223, 69033, 1333, 93765, 250, 6, 36982, 131529, 368, 51436, 2, 1, 1, 1, 1, 1, 1, 1, 1, 1, 1, 1, 1, 1, 1, 1, 1, 1, 1, 1, 1, 1, 1, 1, 1, 1, 1, 1, 1, 1, 1, 1, 1, 1, 1, 1, 1, 1, 1, 1, 1, 1, 1, 1, 1, 1, 1, 1, 1, 1, 1, 1, 1, 1, 1, 1, 1, 1, 1, 1, 1], 'attention_mask': [1, 1, 1, 1, 1, 1, 1, 1, 1, 1, 1, 1, 1, 1, 1, 1, 1, 1, 1, 1, 1, 1, 1, 1, 1, 1, 1, 1, 1, 1, 1, 1, 0, 0, 0, 0, 0, 0, 0, 0, 0, 0, 0, 0, 0, 0, 0, 0, 0, 0, 0, 0, 0, 0, 0, 0, 0, 0, 0, 0, 0, 0, 0, 0, 0, 0, 0, 0, 0, 0, 0, 0, 0, 0, 0, 0, 0, 0, 0, 0, 0, 0, 0, 0, 0, 0, 0, 0, 0, 0, 0, 0], 'labels': 0}\n",
      "encodinmmg complete\n"
     ]
    },
    {
     "data": {
      "application/vnd.jupyter.widget-view+json": {
       "model_id": "c1edb4a5b61847738e2d309d01e7ce55",
       "version_major": 2,
       "version_minor": 0
      },
      "text/plain": [
       "Map:   0%|          | 0/71 [00:00<?, ? examples/s]"
      ]
     },
     "metadata": {},
     "output_type": "display_data"
    },
    {
     "name": "stdout",
     "output_type": "stream",
     "text": [
      "{'sentence_id': 'ARY-dev-0000', 'words': 'هذه أول صورة لابنة المطرب تامر حسني من زوجته المغربية بسمة بوسيل\\nأول خلاف بين المطرب تامر حسني وزوجته المغربية بوسيل حول اسم مولودتهما المقبلة', 'Split_Text': ['هذه أول صورة لابنة المطرب تامر حسني من زوجته المغربية بسمة بوسيل', 'أول خلاف بين المطرب تامر حسني وزوجته المغربية بوسيل حول اسم مولودتهما المقبلة'], 'input_ids': [0, 3070, 26351, 71996, 6, 75830, 22868, 73311, 17977, 1576, 8238, 14859, 179, 230, 208838, 179061, 189659, 250, 114360, 5273, 2, 26351, 6834, 4040, 73311, 17977, 1576, 8238, 14859, 179, 65, 127567, 2862, 179061, 114360, 5273, 14626, 20162, 67927, 7649, 24832, 258, 166558, 2, 1, 1, 1, 1, 1, 1, 1, 1, 1, 1, 1, 1, 1, 1, 1, 1, 1, 1, 1, 1, 1, 1, 1, 1, 1, 1, 1, 1, 1, 1, 1, 1, 1, 1, 1, 1, 1, 1, 1, 1, 1, 1, 1, 1, 1, 1, 1, 1], 'attention_mask': [1, 1, 1, 1, 1, 1, 1, 1, 1, 1, 1, 1, 1, 1, 1, 1, 1, 1, 1, 1, 1, 1, 1, 1, 1, 1, 1, 1, 1, 1, 1, 1, 1, 1, 1, 1, 1, 1, 1, 1, 1, 1, 1, 1, 0, 0, 0, 0, 0, 0, 0, 0, 0, 0, 0, 0, 0, 0, 0, 0, 0, 0, 0, 0, 0, 0, 0, 0, 0, 0, 0, 0, 0, 0, 0, 0, 0, 0, 0, 0, 0, 0, 0, 0, 0, 0, 0, 0, 0, 0, 0, 0], 'labels': 0}\n",
      "encodinmmg complete\n"
     ]
    },
    {
     "data": {
      "application/vnd.jupyter.widget-view+json": {
       "model_id": "d9b406cfd49343a89929af7a410a399f",
       "version_major": 2,
       "version_minor": 0
      },
      "text/plain": [
       "Map:   0%|          | 0/212 [00:00<?, ? examples/s]"
      ]
     },
     "metadata": {},
     "output_type": "display_data"
    },
    {
     "name": "stdout",
     "output_type": "stream",
     "text": [
      "{'sentence_id': 'hau_dev_00001', 'words': 'Haka a wani labarin, PREMIUM TIMES ta buga labarin yadda PDP ta ƙi amincewa da sakamakon yawan ƙuri’un Peter Obi a Legas.\\nCikin makon jiya ne PREMIUM TIMES ta buga labarin cewa Emefiele ya laɓaɓo, ya dawo Najeriya a asirce.', 'Split_Text': ['Haka a wani labarin, PREMIUM TIMES ta buga labarin yadda PDP ta ƙi amincewa da sakamakon yawan ƙuri’un Peter Obi a Legas.', 'Cikin makon jiya ne PREMIUM TIMES ta buga labarin cewa Emefiele ya laɓaɓo, ya dawo Najeriya a asirce.'], 'input_ids': [0, 1391, 161, 10, 27534, 32202, 2677, 4, 152438, 11893, 110500, 294, 308, 373, 208, 32202, 2677, 48171, 150616, 308, 6, 249973, 14, 1849, 329, 634, 48, 209182, 151, 3206, 6, 249973, 1162, 26, 309, 7948, 100363, 10, 84671, 7, 5, 2, 2079, 875, 291, 1716, 890, 395, 108, 152438, 11893, 110500, 294, 308, 373, 208, 32202, 2677, 29942, 2775, 13, 1029, 1018, 151, 21, 202584, 11, 202584, 31, 4, 151, 48, 3613, 49173, 10, 5644, 37910, 5, 2, 1, 1, 1, 1, 1, 1, 1, 1, 1, 1, 1, 1, 1], 'attention_mask': [1, 1, 1, 1, 1, 1, 1, 1, 1, 1, 1, 1, 1, 1, 1, 1, 1, 1, 1, 1, 1, 1, 1, 1, 1, 1, 1, 1, 1, 1, 1, 1, 1, 1, 1, 1, 1, 1, 1, 1, 1, 1, 1, 1, 1, 1, 1, 1, 1, 1, 1, 1, 1, 1, 1, 1, 1, 1, 1, 1, 1, 1, 1, 1, 1, 1, 1, 1, 1, 1, 1, 1, 1, 1, 1, 1, 1, 1, 1, 0, 0, 0, 0, 0, 0, 0, 0, 0, 0, 0, 0, 0], 'labels': 0}\n",
      "encodinmmg complete\n"
     ]
    },
    {
     "data": {
      "application/vnd.jupyter.widget-view+json": {
       "model_id": "15e7557451814061b66931b6fa13a43b",
       "version_major": 2,
       "version_minor": 0
      },
      "text/plain": [
       "Map:   0%|          | 0/102 [00:00<?, ? examples/s]"
      ]
     },
     "metadata": {},
     "output_type": "display_data"
    },
    {
     "name": "stdout",
     "output_type": "stream",
     "text": [
      "{'sentence_id': 'kin_dev_00001', 'words': \"Impamvu zo kwandura indwara zo mu gitsina : Ukumagara mu gitsina kandi bishobora guterwa n'indwara zifata mu gitsina.\\nImpamvu z'ibiyobyabwenge : Itabi, alukolo nyinshi (alcool) bishobora na byo gutera ukumagara mu gitsina biherekejwe no kunanirwa k'ubwonko, no kugira umunaniro umubiri wose.\", 'Split_Text': [\"Impamvu zo kwandura indwara zo mu gitsina : Ukumagara mu gitsina kandi bishobora guterwa n'indwara zifata mu gitsina.\", \"Impamvu z'ibiyobyabwenge : Itabi, alukolo nyinshi (alcool) bishobora na byo gutera ukumagara mu gitsina biherekejwe no kunanirwa k'ubwonko, no kugira umunaniro umubiri wose.\"], 'input_ids': [0, 29128, 302, 1783, 1602, 760, 46768, 11, 2752, 63991, 1602, 842, 62270, 30529, 152, 36795, 192, 17117, 842, 62270, 30529, 203, 428, 2464, 497, 27651, 129278, 634, 653, 25, 7250, 63991, 3546, 136208, 842, 62270, 30529, 5, 2, 29128, 302, 1783, 97, 25, 14, 40165, 45104, 2055, 11697, 429, 152, 1650, 14508, 4, 64344, 45898, 600, 73, 3767, 15, 200144, 16, 2464, 497, 27651, 24, 390, 31, 129278, 11, 7316, 192, 17117, 842, 62270, 30529, 333, 35593, 19862, 1177, 110, 9914, 9276, 634, 472, 25, 5829, 20430, 265, 4, 110, 2], 'attention_mask': [1, 1, 1, 1, 1, 1, 1, 1, 1, 1, 1, 1, 1, 1, 1, 1, 1, 1, 1, 1, 1, 1, 1, 1, 1, 1, 1, 1, 1, 1, 1, 1, 1, 1, 1, 1, 1, 1, 1, 1, 1, 1, 1, 1, 1, 1, 1, 1, 1, 1, 1, 1, 1, 1, 1, 1, 1, 1, 1, 1, 1, 1, 1, 1, 1, 1, 1, 1, 1, 1, 1, 1, 1, 1, 1, 1, 1, 1, 1, 1, 1, 1, 1, 1, 1, 1, 1, 1, 1, 1, 1, 1], 'labels': 0}\n",
      "encodinmmg complete\n"
     ]
    },
    {
     "data": {
      "application/vnd.jupyter.widget-view+json": {
       "model_id": "d43df2da112f4d12b794b5b282957429",
       "version_major": 2,
       "version_minor": 0
      },
      "text/plain": [
       "Map:   0%|          | 0/293 [00:00<?, ? examples/s]"
      ]
     },
     "metadata": {},
     "output_type": "display_data"
    },
    {
     "name": "stdout",
     "output_type": "stream",
     "text": [
      "{'sentence_id': 'MAR-dev-00001', 'words': '\"या प्रसंगी जाहीर सभेला संबोधित करताना ते म्हणाले की, नऊ उपक्रम आहेत, ज्यात 500 कोटी रुपयांची किंमत आहे, जे आज एकतर समर्पित आहेत, किंवा त्यांचे पाया दगड घातले जात आहेत.\"\\n\"आज 500 कोटी रुपयांच्या नऊ उपक्रमांचे आज लोकार्पण अथवा भूमीपुजन करण्यात आले असे पंतप्रधानांनी यावेळी जाहीर सभेत बोलताना सांगितले.\"', 'Split_Text': ['\"या प्रसंगी जाहीर सभेला संबोधित करताना ते म्हणाले की, नऊ उपक्रम आहेत, ज्यात 500 कोटी रुपयांची किंमत आहे, जे आज एकतर समर्पित आहेत, किंवा त्यांचे पाया दगड घातले जात आहेत.\"', '\"आज 500 कोटी रुपयांच्या नऊ उपक्रमांचे आज लोकार्पण अथवा भूमीपुजन करण्यात आले असे पंतप्रधानांनी यावेळी जाहीर सभेत बोलताना सांगितले.\"'], 'input_ids': [0, 44, 3889, 186353, 659, 150442, 2218, 65758, 1404, 241005, 128611, 4429, 111738, 471, 4, 1618, 65164, 68097, 7419, 4, 43135, 996, 2101, 90676, 133038, 3673, 135489, 1383, 4, 16478, 3264, 967, 21100, 218792, 7419, 4, 30435, 115593, 111484, 226415, 6, 64239, 535, 35951, 7419, 1242, 2, 44, 153649, 2101, 90676, 133038, 2869, 1618, 65164, 68097, 32224, 3264, 12394, 1026, 7407, 44334, 90755, 6, 157893, 31422, 14136, 24458, 21409, 12172, 116438, 18705, 134527, 150442, 2218, 65758, 996, 16136, 60872, 87121, 1242, 2, 1, 1, 1, 1, 1, 1, 1, 1, 1, 1], 'attention_mask': [1, 1, 1, 1, 1, 1, 1, 1, 1, 1, 1, 1, 1, 1, 1, 1, 1, 1, 1, 1, 1, 1, 1, 1, 1, 1, 1, 1, 1, 1, 1, 1, 1, 1, 1, 1, 1, 1, 1, 1, 1, 1, 1, 1, 1, 1, 1, 1, 1, 1, 1, 1, 1, 1, 1, 1, 1, 1, 1, 1, 1, 1, 1, 1, 1, 1, 1, 1, 1, 1, 1, 1, 1, 1, 1, 1, 1, 1, 1, 1, 1, 1, 0, 0, 0, 0, 0, 0, 0, 0, 0, 0], 'labels': 0}\n",
      "encodinmmg complete\n"
     ]
    },
    {
     "data": {
      "application/vnd.jupyter.widget-view+json": {
       "model_id": "5f83d650f42145c99b05e212ba2fe79b",
       "version_major": 2,
       "version_minor": 0
      },
      "text/plain": [
       "Map:   0%|          | 0/130 [00:00<?, ? examples/s]"
      ]
     },
     "metadata": {},
     "output_type": "display_data"
    },
    {
     "name": "stdout",
     "output_type": "stream",
     "text": [
      "{'sentence_id': 'TEL-dev-00001', 'words': '\"బీజేపీ జాతీయ అధ్యక్షుడు అమిత్ షా నేడు రెండోరోజు నల్గొండలో పర్యటించనున్నారు .\"\\n\"బీజేపీ జాతీయ అధ్యక్షుడు అమిత్ షా గారు ఈ రోజు రెండవసారి నల్గొండని సందర్శించనున్నారు.\"', 'Split_Text': ['\"బీజేపీ జాతీయ అధ్యక్షుడు అమిత్ షా నేడు రెండోరోజు నల్గొండలో పర్యటించనున్నారు .\"', '\"బీజేపీ జాతీయ అధ్యక్షుడు అమిత్ షా గారు ఈ రోజు రెండవసారి నల్గొండని సందర్శించనున్నారు.\"'], 'input_ids': [0, 44, 59380, 48677, 37774, 68659, 157121, 3409, 10428, 10511, 59924, 160220, 116655, 78352, 6, 101486, 231824, 1296, 72738, 36111, 7747, 14710, 156045, 6, 1242, 2, 44, 59380, 48677, 37774, 68659, 157121, 3409, 10428, 10511, 59924, 68564, 1767, 27234, 222703, 44674, 6, 101486, 231824, 1789, 19203, 111307, 2538, 14710, 156045, 1242, 2, 1, 1, 1, 1, 1, 1, 1, 1, 1, 1, 1, 1, 1, 1, 1, 1, 1, 1, 1, 1, 1, 1, 1, 1, 1, 1, 1, 1, 1, 1, 1, 1, 1, 1, 1, 1, 1, 1, 1, 1], 'attention_mask': [1, 1, 1, 1, 1, 1, 1, 1, 1, 1, 1, 1, 1, 1, 1, 1, 1, 1, 1, 1, 1, 1, 1, 1, 1, 1, 1, 1, 1, 1, 1, 1, 1, 1, 1, 1, 1, 1, 1, 1, 1, 1, 1, 1, 1, 1, 1, 1, 1, 1, 1, 1, 0, 0, 0, 0, 0, 0, 0, 0, 0, 0, 0, 0, 0, 0, 0, 0, 0, 0, 0, 0, 0, 0, 0, 0, 0, 0, 0, 0, 0, 0, 0, 0, 0, 0, 0, 0, 0, 0, 0, 0], 'labels': 0}\n",
      "encodinmmg complete\n"
     ]
    }
   ],
   "source": [
    "test_data={}\n",
    "for i, lang in enumerate(lan):\n",
    "    # print(lang)\n",
    "    # print(train_dataset[lang].num_rows)\n",
    "    test_data[lang] = test_dataset[lang].map(add_encodings,load_from_cache_file=False, batch_size =10000)#load_from_cache_file=False,\n",
    "    #train_subwordid_1s, train_subwordid_2s, train_subwordid_3s = create_Subwordid(word_ids_for_curr_sentence)\n",
    "    print(test_data[lang][0])\n",
    "    # print(train_data[lang][1])\n",
    "    # print(train_data[lang][2])\n",
    "    print(\"encodinmmg complete\")\n",
    "for i, lang in enumerate(lan):\n",
    "    test_data[lang].set_format(type='torch', columns=['input_ids', 'attention_mask','labels'])\n"
   ]
  },
  {
   "cell_type": "code",
   "execution_count": 52,
   "id": "2295c9c4",
   "metadata": {
    "colab": {
     "base_uri": "https://localhost:8080/",
     "height": 86,
     "referenced_widgets": [
      "4b1436a5c6334fd5b73e1f9710558f1e",
      "62082d8253df4ed992b8fdd54f4f1b81",
      "dd5ff253a02f425f9798651d6b3b354d",
      "a18bdf82357d4ebbbe579f913531473c",
      "e5323085d6054bbe8615d4649a52c629",
      "598a25ab1ea543fa8caff58cd1a93a95",
      "c2a2d30b33094e298640f7d3cdeae9ea",
      "1ffe907695714167a956d1be8cc3ab0e",
      "2f02c43f2f784ae9a87e6b5ddfc3cdb6",
      "cddccf237157446490725ed3bc7de2e2",
      "61f766272f174b8b829bb8f2a77092a5"
     ]
    },
    "id": "2295c9c4",
    "outputId": "d7f250a9-605a-4820-e65f-02cb5bc7f1a1"
   },
   "outputs": [
    {
     "name": "stdout",
     "output_type": "stream",
     "text": [
      "encodinmmg start\n"
     ]
    },
    {
     "data": {
      "application/vnd.jupyter.widget-view+json": {
       "model_id": "e004fcd0585347ceaadbe5eb9e8c1c4a",
       "version_major": 2,
       "version_minor": 0
      },
      "text/plain": [
       "Map:   0%|          | 0/550 [00:00<?, ? examples/s]"
      ]
     },
     "metadata": {},
     "output_type": "display_data"
    },
    {
     "data": {
      "application/vnd.jupyter.widget-view+json": {
       "model_id": "3d3cd0af13ab4704a15911cdba8e7128",
       "version_major": 2,
       "version_minor": 0
      },
      "text/plain": [
       "Map:   0%|          | 0/156 [00:00<?, ? examples/s]"
      ]
     },
     "metadata": {},
     "output_type": "display_data"
    },
    {
     "data": {
      "application/vnd.jupyter.widget-view+json": {
       "model_id": "914bdb8572274e94b590295ea5198e34",
       "version_major": 2,
       "version_minor": 0
      },
      "text/plain": [
       "Map:   0%|          | 0/99 [00:00<?, ? examples/s]"
      ]
     },
     "metadata": {},
     "output_type": "display_data"
    },
    {
     "data": {
      "application/vnd.jupyter.widget-view+json": {
       "model_id": "839e8f5b87564540b43231ce96fb7ca6",
       "version_major": 2,
       "version_minor": 0
      },
      "text/plain": [
       "Map:   0%|          | 0/126 [00:00<?, ? examples/s]"
      ]
     },
     "metadata": {},
     "output_type": "display_data"
    },
    {
     "data": {
      "application/vnd.jupyter.widget-view+json": {
       "model_id": "403bb91f043a4f2cbe570b16f38cf9d4",
       "version_major": 2,
       "version_minor": 0
      },
      "text/plain": [
       "Map:   0%|          | 0/92 [00:00<?, ? examples/s]"
      ]
     },
     "metadata": {},
     "output_type": "display_data"
    },
    {
     "data": {
      "application/vnd.jupyter.widget-view+json": {
       "model_id": "ebbc2e3bb81a4382af62b9622006b353",
       "version_major": 2,
       "version_minor": 0
      },
      "text/plain": [
       "Map:   0%|          | 0/174 [00:00<?, ? examples/s]"
      ]
     },
     "metadata": {},
     "output_type": "display_data"
    },
    {
     "data": {
      "application/vnd.jupyter.widget-view+json": {
       "model_id": "f9a41a4309f44aa9a76df72e34a8e36f",
       "version_major": 2,
       "version_minor": 0
      },
      "text/plain": [
       "Map:   0%|          | 0/78 [00:00<?, ? examples/s]"
      ]
     },
     "metadata": {},
     "output_type": "display_data"
    },
    {
     "data": {
      "application/vnd.jupyter.widget-view+json": {
       "model_id": "567cda8e076d433abd88b8b94b4ea111",
       "version_major": 2,
       "version_minor": 0
      },
      "text/plain": [
       "Map:   0%|          | 0/120 [00:00<?, ? examples/s]"
      ]
     },
     "metadata": {},
     "output_type": "display_data"
    },
    {
     "data": {
      "application/vnd.jupyter.widget-view+json": {
       "model_id": "9a5b49ae007f453090d924547a7714eb",
       "version_major": 2,
       "version_minor": 0
      },
      "text/plain": [
       "Map:   0%|          | 0/117 [00:00<?, ? examples/s]"
      ]
     },
     "metadata": {},
     "output_type": "display_data"
    }
   ],
   "source": [
    "print(\"encodinmmg start\")\n",
    "# valid_true_labels = valid_dataset[\"Score\"]\n",
    "# print(valid_dataset.num_rows)\n",
    "valid_data={}\n",
    "for i, lang in enumerate(lan):\n",
    "    valid_data[lang]= valid_dataset[lang].map(add_encodings,load_from_cache_file=False, batch_size =10000)#load_from_cache_file=False,"
   ]
  },
  {
   "cell_type": "code",
   "execution_count": 53,
   "id": "321044b6",
   "metadata": {
    "id": "321044b6"
   },
   "outputs": [],
   "source": [
    "for i, lang in enumerate(lan):\n",
    "    valid_data[lang].set_format(type='torch', columns=['input_ids', 'attention_mask','labels'])\n"
   ]
  },
  {
   "cell_type": "code",
   "execution_count": 54,
   "id": "rYObxzFrpf7u",
   "metadata": {
    "colab": {
     "base_uri": "https://localhost:8080/"
    },
    "id": "rYObxzFrpf7u",
    "outputId": "2681662b-f1e7-41f4-98be-95188b37d21e"
   },
   "outputs": [
    {
     "data": {
      "text/plain": [
       "{'eng': Dataset({\n",
       "     features: ['sentence_id', 'words', 'Split_Text', 'input_ids', 'attention_mask', 'labels'],\n",
       "     num_rows: 250\n",
       " }),\n",
       " 'esp': Dataset({\n",
       "     features: ['sentence_id', 'words', 'Split_Text', 'input_ids', 'attention_mask', 'labels'],\n",
       "     num_rows: 140\n",
       " }),\n",
       " 'amh': Dataset({\n",
       "     features: ['sentence_id', 'words', 'Split_Text', 'input_ids', 'attention_mask', 'labels'],\n",
       "     num_rows: 95\n",
       " }),\n",
       " 'arq': Dataset({\n",
       "     features: ['sentence_id', 'words', 'Split_Text', 'input_ids', 'attention_mask', 'labels'],\n",
       "     num_rows: 97\n",
       " }),\n",
       " 'ary': Dataset({\n",
       "     features: ['sentence_id', 'words', 'Split_Text', 'input_ids', 'attention_mask', 'labels'],\n",
       "     num_rows: 71\n",
       " }),\n",
       " 'hau': Dataset({\n",
       "     features: ['sentence_id', 'words', 'Split_Text', 'input_ids', 'attention_mask', 'labels'],\n",
       "     num_rows: 212\n",
       " }),\n",
       " 'kin': Dataset({\n",
       "     features: ['sentence_id', 'words', 'Split_Text', 'input_ids', 'attention_mask', 'labels'],\n",
       "     num_rows: 102\n",
       " }),\n",
       " 'mar': Dataset({\n",
       "     features: ['sentence_id', 'words', 'Split_Text', 'input_ids', 'attention_mask', 'labels'],\n",
       "     num_rows: 293\n",
       " }),\n",
       " 'tel': Dataset({\n",
       "     features: ['sentence_id', 'words', 'Split_Text', 'input_ids', 'attention_mask', 'labels'],\n",
       "     num_rows: 130\n",
       " })}"
      ]
     },
     "execution_count": 54,
     "metadata": {},
     "output_type": "execute_result"
    }
   ],
   "source": [
    "test_data"
   ]
  },
  {
   "cell_type": "code",
   "execution_count": 55,
   "id": "H2tbK90FnTME",
   "metadata": {
    "colab": {
     "base_uri": "https://localhost:8080/"
    },
    "id": "H2tbK90FnTME",
    "outputId": "36f76f16-64f2-4899-e7f6-76bb55ac8360"
   },
   "outputs": [
    {
     "data": {
      "text/plain": [
       "{'eng': Dataset({\n",
       "     features: ['sentence_id', 'words', 'Split_Text'],\n",
       "     num_rows: 250\n",
       " }),\n",
       " 'esp': Dataset({\n",
       "     features: ['sentence_id', 'words', 'Split_Text'],\n",
       "     num_rows: 140\n",
       " }),\n",
       " 'amh': Dataset({\n",
       "     features: ['sentence_id', 'words', 'Split_Text'],\n",
       "     num_rows: 95\n",
       " }),\n",
       " 'arq': Dataset({\n",
       "     features: ['sentence_id', 'words', 'Split_Text'],\n",
       "     num_rows: 97\n",
       " }),\n",
       " 'ary': Dataset({\n",
       "     features: ['sentence_id', 'words', 'Split_Text'],\n",
       "     num_rows: 71\n",
       " }),\n",
       " 'hau': Dataset({\n",
       "     features: ['sentence_id', 'words', 'Split_Text'],\n",
       "     num_rows: 212\n",
       " }),\n",
       " 'kin': Dataset({\n",
       "     features: ['sentence_id', 'words', 'Split_Text'],\n",
       "     num_rows: 102\n",
       " }),\n",
       " 'mar': Dataset({\n",
       "     features: ['sentence_id', 'words', 'Split_Text'],\n",
       "     num_rows: 293\n",
       " }),\n",
       " 'tel': Dataset({\n",
       "     features: ['sentence_id', 'words', 'Split_Text'],\n",
       "     num_rows: 130\n",
       " })}"
      ]
     },
     "execution_count": 55,
     "metadata": {},
     "output_type": "execute_result"
    }
   ],
   "source": [
    "test_dataset"
   ]
  },
  {
   "cell_type": "code",
   "execution_count": 56,
   "id": "4629be90-2176-49b7-9ceb-cf6b1411d117",
   "metadata": {},
   "outputs": [],
   "source": [
    "for i, lang in enumerate(lan):\n",
    "    test_data[lang].set_format(type='torch', columns=['input_ids', 'attention_mask','labels'])"
   ]
  },
  {
   "cell_type": "code",
   "execution_count": 57,
   "id": "d937109e",
   "metadata": {
    "id": "d937109e"
   },
   "outputs": [],
   "source": [
    "# test_data = torch.utils.data.DataLoader( test_dataset, batch_size=batch_size )\n"
   ]
  },
  {
   "cell_type": "code",
   "execution_count": 58,
   "id": "533391fe",
   "metadata": {
    "colab": {
     "base_uri": "https://localhost:8080/"
    },
    "id": "533391fe",
    "outputId": "045907ee-9264-4c2e-b30a-04426c87f823"
   },
   "outputs": [
    {
     "name": "stderr",
     "output_type": "stream",
     "text": [
      "Some weights of XLMRobertaForSequenceClassification were not initialized from the model checkpoint at xlm-roberta-large and are newly initialized: ['classifier.out_proj.bias', 'classifier.out_proj.weight', 'classifier.dense.bias', 'classifier.dense.weight']\n",
      "You should probably TRAIN this model on a down-stream task to be able to use it for predictions and inference.\n"
     ]
    },
    {
     "name": "stdout",
     "output_type": "stream",
     "text": [
      "model loded\n"
     ]
    }
   ],
   "source": [
    "torch.manual_seed(seed)\n",
    "# initialize the model and provide the 'num_labels' used to create the classification layer\n",
    "model = XLMRobertaForSequenceClassification.from_pretrained(roberta_version,num_labels=1)\n",
    "\n",
    "print(\"model loded\")"
   ]
  },
  {
   "cell_type": "code",
   "execution_count": 59,
   "id": "e0ca939e",
   "metadata": {
    "colab": {
     "base_uri": "https://localhost:8080/"
    },
    "id": "e0ca939e",
    "outputId": "74f66501-3169-4e65-9e2d-28ea292815ab"
   },
   "outputs": [
    {
     "name": "stdout",
     "output_type": "stream",
     "text": [
      "cuda\n"
     ]
    }
   ],
   "source": [
    "device =torch.device(\"cuda\" if torch.cuda.is_available() else \"cpu\")\n",
    "\n",
    "print(device)\n"
   ]
  },
  {
   "cell_type": "code",
   "execution_count": 60,
   "id": "7fb1eaf3",
   "metadata": {
    "colab": {
     "base_uri": "https://localhost:8080/"
    },
    "id": "7fb1eaf3",
    "outputId": "e03cadee-fa92-4ce2-fe94-e6f44028ee54"
   },
   "outputs": [
    {
     "data": {
      "text/plain": [
       "True"
      ]
     },
     "execution_count": 60,
     "metadata": {},
     "output_type": "execute_result"
    }
   ],
   "source": [
    "torch.cuda.is_available()\n"
   ]
  },
  {
   "cell_type": "code",
   "execution_count": 61,
   "id": "51cfc4f7",
   "metadata": {
    "colab": {
     "base_uri": "https://localhost:8080/",
     "height": 35
    },
    "id": "51cfc4f7",
    "outputId": "68fd6e63-c6ad-4c9e-948c-45c9d3939dd0"
   },
   "outputs": [
    {
     "data": {
      "text/plain": [
       "'2.0.1+cu117'"
      ]
     },
     "execution_count": 61,
     "metadata": {},
     "output_type": "execute_result"
    }
   ],
   "source": [
    "torch.__version__"
   ]
  },
  {
   "cell_type": "code",
   "execution_count": 62,
   "id": "55888365",
   "metadata": {
    "colab": {
     "base_uri": "https://localhost:8080/"
    },
    "id": "55888365",
    "outputId": "455ce267-d055-4868-e0a8-135ebf45defc"
   },
   "outputs": [
    {
     "data": {
      "text/plain": [
       "device(type='cuda', index=0)"
      ]
     },
     "execution_count": 62,
     "metadata": {},
     "output_type": "execute_result"
    }
   ],
   "source": [
    "device = torch.device(\"cuda:0\" if torch.cuda.is_available() else \"cpu\")\n",
    "device"
   ]
  },
  {
   "cell_type": "code",
   "execution_count": 63,
   "id": "15dad6af",
   "metadata": {
    "colab": {
     "base_uri": "https://localhost:8080/"
    },
    "id": "15dad6af",
    "outputId": "48c64fab-33c4-4ba7-da60-f7c293443b2f"
   },
   "outputs": [
    {
     "name": "stdout",
     "output_type": "stream",
     "text": [
      "Sun Jan 21 14:52:05 2024       \n",
      "+-----------------------------------------------------------------------------+\n",
      "| NVIDIA-SMI 495.29.05    Driver Version: 495.29.05    CUDA Version: 11.5     |\n",
      "|-------------------------------+----------------------+----------------------+\n",
      "| GPU  Name        Persistence-M| Bus-Id        Disp.A | Volatile Uncorr. ECC |\n",
      "| Fan  Temp  Perf  Pwr:Usage/Cap|         Memory-Usage | GPU-Util  Compute M. |\n",
      "|                               |                      |               MIG M. |\n",
      "|===============================+======================+======================|\n",
      "|   0  Quadro RTX 6000     Off  | 00000000:81:00.0 Off |                  Off |\n",
      "| 33%   28C    P8     5W / 260W |     28MiB / 24220MiB |      0%      Default |\n",
      "|                               |                      |                  N/A |\n",
      "+-------------------------------+----------------------+----------------------+\n",
      "                                                                               \n",
      "+-----------------------------------------------------------------------------+\n",
      "| Processes:                                                                  |\n",
      "|  GPU   GI   CI        PID   Type   Process name                  GPU Memory |\n",
      "|        ID   ID                                                   Usage      |\n",
      "|=============================================================================|\n",
      "|    0   N/A  N/A      1417      G   /usr/lib/xorg/Xorg                 16MiB |\n",
      "|    0   N/A  N/A      1839      G   /usr/bin/gnome-shell                4MiB |\n",
      "|    0   N/A  N/A      2249      G   ...mviewer/tv_bin/TeamViewer        3MiB |\n",
      "+-----------------------------------------------------------------------------+\n"
     ]
    },
    {
     "name": "stderr",
     "output_type": "stream",
     "text": [
      "huggingface/tokenizers: The current process just got forked, after parallelism has already been used. Disabling parallelism to avoid deadlocks...\n",
      "To disable this warning, you can either:\n",
      "\t- Avoid using `tokenizers` before the fork if possible\n",
      "\t- Explicitly set the environment variable TOKENIZERS_PARALLELISM=(true | false)\n"
     ]
    }
   ],
   "source": [
    "\n",
    "!nvidia-smi\n"
   ]
  },
  {
   "cell_type": "code",
   "execution_count": 67,
   "id": "3c40bb05",
   "metadata": {
    "colab": {
     "base_uri": "https://localhost:8080/"
    },
    "id": "3c40bb05",
    "outputId": "36f58dbe-d8d3-4ef8-af6e-10ab003fd8cc"
   },
   "outputs": [
    {
     "data": {
      "text/plain": [
       "XLMRobertaForSequenceClassification(\n",
       "  (roberta): XLMRobertaModel(\n",
       "    (embeddings): XLMRobertaEmbeddings(\n",
       "      (word_embeddings): Embedding(250002, 1024, padding_idx=1)\n",
       "      (position_embeddings): Embedding(514, 1024, padding_idx=1)\n",
       "      (token_type_embeddings): Embedding(1, 1024)\n",
       "      (LayerNorm): LayerNorm((1024,), eps=1e-05, elementwise_affine=True)\n",
       "      (dropout): Dropout(p=0.1, inplace=False)\n",
       "    )\n",
       "    (encoder): XLMRobertaEncoder(\n",
       "      (layer): ModuleList(\n",
       "        (0-23): 24 x XLMRobertaLayer(\n",
       "          (attention): XLMRobertaAttention(\n",
       "            (self): XLMRobertaSelfAttention(\n",
       "              (query): Linear(in_features=1024, out_features=1024, bias=True)\n",
       "              (key): Linear(in_features=1024, out_features=1024, bias=True)\n",
       "              (value): Linear(in_features=1024, out_features=1024, bias=True)\n",
       "              (dropout): Dropout(p=0.1, inplace=False)\n",
       "            )\n",
       "            (output): XLMRobertaSelfOutput(\n",
       "              (dense): Linear(in_features=1024, out_features=1024, bias=True)\n",
       "              (LayerNorm): LayerNorm((1024,), eps=1e-05, elementwise_affine=True)\n",
       "              (dropout): Dropout(p=0.1, inplace=False)\n",
       "            )\n",
       "          )\n",
       "          (intermediate): XLMRobertaIntermediate(\n",
       "            (dense): Linear(in_features=1024, out_features=4096, bias=True)\n",
       "            (intermediate_act_fn): GELUActivation()\n",
       "          )\n",
       "          (output): XLMRobertaOutput(\n",
       "            (dense): Linear(in_features=4096, out_features=1024, bias=True)\n",
       "            (LayerNorm): LayerNorm((1024,), eps=1e-05, elementwise_affine=True)\n",
       "            (dropout): Dropout(p=0.1, inplace=False)\n",
       "          )\n",
       "        )\n",
       "      )\n",
       "    )\n",
       "  )\n",
       "  (classifier): XLMRobertaClassificationHead(\n",
       "    (dense): Linear(in_features=1024, out_features=1024, bias=True)\n",
       "    (dropout): Dropout(p=0.1, inplace=False)\n",
       "    (out_proj): Linear(in_features=1024, out_features=1, bias=True)\n",
       "  )\n",
       ")"
      ]
     },
     "execution_count": 67,
     "metadata": {},
     "output_type": "execute_result"
    }
   ],
   "source": [
    "# set the model in 'train' mode and send it to the device\n",
    "model.train().to(device)"
   ]
  },
  {
   "cell_type": "code",
   "execution_count": 68,
   "id": "29f000a3-b1c1-4ddd-aa2a-1ea3930040ed",
   "metadata": {
    "colab": {
     "base_uri": "https://localhost:8080/"
    },
    "id": "29f000a3-b1c1-4ddd-aa2a-1ea3930040ed",
    "outputId": "fa5a8889-0442-4f2f-b3e6-84d3dba05994"
   },
   "outputs": [
    {
     "data": {
      "text/plain": [
       "1"
      ]
     },
     "execution_count": 68,
     "metadata": {},
     "output_type": "execute_result"
    }
   ],
   "source": [
    "model.config.num_labels"
   ]
  },
  {
   "cell_type": "code",
   "execution_count": 69,
   "id": "gp9KiY0RXckX",
   "metadata": {
    "colab": {
     "base_uri": "https://localhost:8080/"
    },
    "id": "gp9KiY0RXckX",
    "outputId": "2aa9adc7-07f8-48cd-8851-af1d518e699b"
   },
   "outputs": [
    {
     "data": {
      "text/plain": [
       "1"
      ]
     },
     "execution_count": 69,
     "metadata": {},
     "output_type": "execute_result"
    }
   ],
   "source": [
    "model.num_labels"
   ]
  },
  {
   "cell_type": "code",
   "execution_count": 70,
   "id": "acdd8056",
   "metadata": {
    "id": "acdd8056"
   },
   "outputs": [],
   "source": [
    "\n",
    "optimizer = optim.AdamW([ { 'params':model.parameters(), 'lr':lr}])#,{'params':weight_layer, 'lr':l_lr},{'params':bias_layer, 'lr':l_lr}, {'params':crf_model.parameters(), 'lr':l_lr\n",
    "\n",
    "# batch the train data so that each batch contains 4 examples (using 'batch_size')\n",
    "train_dataloader={}\n",
    "valid_dataloader={}\n",
    "test_dataloader={}\n",
    "for i, lang in enumerate(lan):\n",
    "    # train_dataloader[lang] = torch.utils.data.DataLoader(train_data[lang], batch_size=batch_size)\n",
    "    # valid_dataloader[lang] = torch.utils.data.DataLoader(valid_data[lang], batch_size=batch_size )\n",
    "    test_dataloader[lang] = torch.utils.data.DataLoader(test_data[lang], batch_size=batch_size )\n",
    "\n",
    "\n",
    "num_training_steps = (n_epochs * len(train_data))/16\n",
    "lr_scheduler = get_scheduler(name=\"linear\", optimizer=optimizer, num_warmup_steps=100, num_training_steps=num_training_steps)\n",
    "\n",
    "train_loss = []\n"
   ]
  },
  {
   "cell_type": "code",
   "execution_count": 72,
   "id": "8a5ffbd9-abf9-42ba-9050-623e080facc1",
   "metadata": {},
   "outputs": [
    {
     "data": {
      "text/plain": [
       "['eng', 'esp', 'amh', 'arq', 'ary', 'hau', 'kin', 'mar', 'tel']"
      ]
     },
     "execution_count": 72,
     "metadata": {},
     "output_type": "execute_result"
    }
   ],
   "source": [
    "lan"
   ]
  },
  {
   "cell_type": "code",
   "execution_count": 73,
   "id": "5d026f1d-d01f-4855-9efc-4a81195cb8ed",
   "metadata": {},
   "outputs": [],
   "source": [
    "# hyperparams_roberta_monolingual= {}\n",
    "# for lang in lan:\n",
    "#     hyperparams_roberta_monolingual[lan]=[\n"
   ]
  },
  {
   "cell_type": "code",
   "execution_count": 101,
   "id": "a41fd225-2ad0-433c-9e53-670dfde9b778",
   "metadata": {},
   "outputs": [],
   "source": [
    "import mlflow\n",
    "mlflow.set_tracking_uri(\"http://172.17.25.123:8080/\")"
   ]
  },
  {
   "cell_type": "code",
   "execution_count": 111,
   "id": "213495cb-d222-414e-9d1e-e48e8a5ee35a",
   "metadata": {},
   "outputs": [
    {
     "name": "stdout",
     "output_type": "stream",
     "text": [
      "training start\n"
     ]
    },
    {
     "data": {
      "application/vnd.jupyter.widget-view+json": {
       "model_id": "2802bf3e5854481d8d1d835bc6236ea9",
       "version_major": 2,
       "version_minor": 0
      },
      "text/plain": [
       "  0%|          | 0/5 [00:00<?, ?it/s]"
      ]
     },
     "metadata": {},
     "output_type": "display_data"
    },
    {
     "name": "stdout",
     "output_type": "stream",
     "text": [
      "epoch 0\n",
      "\n",
      "\n",
      "2_stage_models/eng/XLM_roberta_64_2e-5_seed_1/epoch_0\n"
     ]
    },
    {
     "data": {
      "application/vnd.jupyter.widget-view+json": {
       "model_id": "fe4c29eff8b74ba38244bdf478e7a153",
       "version_major": 2,
       "version_minor": 0
      },
      "text/plain": [
       "  0%|          | 0/310 [00:00<?, ?it/s]"
      ]
     },
     "metadata": {},
     "output_type": "display_data"
    },
    {
     "name": "stdout",
     "output_type": "stream",
     "text": [
      "2_stage_models/eng/XLM_roberta_64_2e-5_seed_1/epoch_0 files saved\n",
      "error: 0\n",
      "total_loss 0.10724538621434476\n",
      "*********\n"
     ]
    },
    {
     "data": {
      "application/vnd.jupyter.widget-view+json": {
       "model_id": "10ae241634c04732b63e62f1ed89f21c",
       "version_major": 2,
       "version_minor": 0
      },
      "text/plain": [
       "  0%|          | 0/35 [00:00<?, ?it/s]"
      ]
     },
     "metadata": {},
     "output_type": "display_data"
    },
    {
     "name": "stdout",
     "output_type": "stream",
     "text": [
      "valid_total_loss  0.039592819986864924\n",
      "valid_accuracy 0.89\n",
      "epoch 1\n",
      "\n",
      "\n",
      "2_stage_models/eng/XLM_roberta_64_2e-5_seed_1/epoch_1\n"
     ]
    },
    {
     "data": {
      "application/vnd.jupyter.widget-view+json": {
       "model_id": "1ab0fe22827344dcbbd927897a611af0",
       "version_major": 2,
       "version_minor": 0
      },
      "text/plain": [
       "  0%|          | 0/310 [00:00<?, ?it/s]"
      ]
     },
     "metadata": {},
     "output_type": "display_data"
    },
    {
     "name": "stdout",
     "output_type": "stream",
     "text": [
      "2_stage_models/eng/XLM_roberta_64_2e-5_seed_1/epoch_1 files saved\n",
      "error: 0\n",
      "total_loss 0.11966621095780283\n",
      "*********\n"
     ]
    },
    {
     "data": {
      "application/vnd.jupyter.widget-view+json": {
       "model_id": "8fefb7ccb28c4f9f97ecef40de1dca99",
       "version_major": 2,
       "version_minor": 0
      },
      "text/plain": [
       "  0%|          | 0/35 [00:00<?, ?it/s]"
      ]
     },
     "metadata": {},
     "output_type": "display_data"
    },
    {
     "name": "stdout",
     "output_type": "stream",
     "text": [
      "valid_total_loss  0.02410979389969725\n",
      "valid_accuracy 0.9\n",
      "epoch 2\n",
      "\n",
      "\n",
      "2_stage_models/eng/XLM_roberta_64_2e-5_seed_1/epoch_2\n"
     ]
    },
    {
     "data": {
      "application/vnd.jupyter.widget-view+json": {
       "model_id": "70799fd119b74d948ed45b6cd882de42",
       "version_major": 2,
       "version_minor": 0
      },
      "text/plain": [
       "  0%|          | 0/310 [00:00<?, ?it/s]"
      ]
     },
     "metadata": {},
     "output_type": "display_data"
    },
    {
     "name": "stdout",
     "output_type": "stream",
     "text": [
      "2_stage_models/eng/XLM_roberta_64_2e-5_seed_1/epoch_2 files saved\n",
      "error: 0\n",
      "total_loss 0.12002255839615827\n",
      "*********\n"
     ]
    },
    {
     "data": {
      "application/vnd.jupyter.widget-view+json": {
       "model_id": "15bebca80fd54aee88189d3f018c6f16",
       "version_major": 2,
       "version_minor": 0
      },
      "text/plain": [
       "  0%|          | 0/35 [00:00<?, ?it/s]"
      ]
     },
     "metadata": {},
     "output_type": "display_data"
    },
    {
     "name": "stdout",
     "output_type": "stream",
     "text": [
      "valid_total_loss  0.02410979389969725\n",
      "valid_accuracy 0.9\n",
      "epoch 3\n",
      "\n",
      "\n",
      "2_stage_models/eng/XLM_roberta_64_2e-5_seed_1/epoch_3\n"
     ]
    },
    {
     "data": {
      "application/vnd.jupyter.widget-view+json": {
       "model_id": "f0684275075c4a379897f0c6a4c41c81",
       "version_major": 2,
       "version_minor": 0
      },
      "text/plain": [
       "  0%|          | 0/310 [00:00<?, ?it/s]"
      ]
     },
     "metadata": {},
     "output_type": "display_data"
    },
    {
     "name": "stdout",
     "output_type": "stream",
     "text": [
      "2_stage_models/eng/XLM_roberta_64_2e-5_seed_1/epoch_3 files saved\n",
      "error: 0\n",
      "total_loss 0.11741668653849047\n",
      "*********\n"
     ]
    },
    {
     "data": {
      "application/vnd.jupyter.widget-view+json": {
       "model_id": "b72ef22f51874adeb39760dbae3d7926",
       "version_major": 2,
       "version_minor": 0
      },
      "text/plain": [
       "  0%|          | 0/35 [00:00<?, ?it/s]"
      ]
     },
     "metadata": {},
     "output_type": "display_data"
    },
    {
     "name": "stdout",
     "output_type": "stream",
     "text": [
      "valid_total_loss  0.02410979389969725\n",
      "valid_accuracy 0.9\n",
      "epoch 4\n",
      "\n",
      "\n",
      "2_stage_models/eng/XLM_roberta_64_2e-5_seed_1/epoch_4\n"
     ]
    },
    {
     "data": {
      "application/vnd.jupyter.widget-view+json": {
       "model_id": "443a79326dbd447abb25984250c99486",
       "version_major": 2,
       "version_minor": 0
      },
      "text/plain": [
       "  0%|          | 0/310 [00:00<?, ?it/s]"
      ]
     },
     "metadata": {},
     "output_type": "display_data"
    },
    {
     "name": "stdout",
     "output_type": "stream",
     "text": [
      "2_stage_models/eng/XLM_roberta_64_2e-5_seed_1/epoch_4 files saved\n",
      "error: 0\n",
      "total_loss 0.11999895380722592\n",
      "*********\n"
     ]
    },
    {
     "data": {
      "application/vnd.jupyter.widget-view+json": {
       "model_id": "a2573218f078411788cb5b8568dd42e2",
       "version_major": 2,
       "version_minor": 0
      },
      "text/plain": [
       "  0%|          | 0/35 [00:00<?, ?it/s]"
      ]
     },
     "metadata": {},
     "output_type": "display_data"
    },
    {
     "name": "stdout",
     "output_type": "stream",
     "text": [
      "valid_total_loss  0.02410979389969725\n",
      "valid_accuracy 0.9\n"
     ]
    },
    {
     "data": {
      "application/vnd.jupyter.widget-view+json": {
       "model_id": "c014303323584b70bf4f640c9222cecf",
       "version_major": 2,
       "version_minor": 0
      },
      "text/plain": [
       "  0%|          | 0/5 [00:00<?, ?it/s]"
      ]
     },
     "metadata": {},
     "output_type": "display_data"
    },
    {
     "name": "stdout",
     "output_type": "stream",
     "text": [
      "epoch 0\n",
      "\n",
      "\n",
      "2_stage_models/esp/XLM_roberta_64_2e-5_seed_1/epoch_0\n"
     ]
    },
    {
     "data": {
      "application/vnd.jupyter.widget-view+json": {
       "model_id": "5366cea72e394257bee4dbbd1b321cc8",
       "version_major": 2,
       "version_minor": 0
      },
      "text/plain": [
       "  0%|          | 0/88 [00:00<?, ?it/s]"
      ]
     },
     "metadata": {},
     "output_type": "display_data"
    },
    {
     "name": "stdout",
     "output_type": "stream",
     "text": [
      "2_stage_models/esp/XLM_roberta_64_2e-5_seed_1/epoch_0 files saved\n",
      "error: 0\n",
      "total_loss 0.04138650541426614\n",
      "*********\n"
     ]
    },
    {
     "data": {
      "application/vnd.jupyter.widget-view+json": {
       "model_id": "bc3bf14f4e4747b099290f15a433a96e",
       "version_major": 2,
       "version_minor": 0
      },
      "text/plain": [
       "  0%|          | 0/10 [00:00<?, ?it/s]"
      ]
     },
     "metadata": {},
     "output_type": "display_data"
    },
    {
     "name": "stdout",
     "output_type": "stream",
     "text": [
      "valid_total_loss  0.014706797432154417\n",
      "valid_accuracy 0.7\n",
      "epoch 1\n",
      "\n",
      "\n",
      "2_stage_models/esp/XLM_roberta_64_2e-5_seed_1/epoch_1\n"
     ]
    },
    {
     "data": {
      "application/vnd.jupyter.widget-view+json": {
       "model_id": "b64b2948c2ae45b0b845b39b2e98aaf2",
       "version_major": 2,
       "version_minor": 0
      },
      "text/plain": [
       "  0%|          | 0/88 [00:00<?, ?it/s]"
      ]
     },
     "metadata": {},
     "output_type": "display_data"
    },
    {
     "name": "stdout",
     "output_type": "stream",
     "text": [
      "2_stage_models/esp/XLM_roberta_64_2e-5_seed_1/epoch_1 files saved\n",
      "error: 0\n",
      "total_loss 0.03816908417502418\n",
      "*********\n"
     ]
    },
    {
     "data": {
      "application/vnd.jupyter.widget-view+json": {
       "model_id": "3683edaf162d45f298254737e341f37d",
       "version_major": 2,
       "version_minor": 0
      },
      "text/plain": [
       "  0%|          | 0/10 [00:00<?, ?it/s]"
      ]
     },
     "metadata": {},
     "output_type": "display_data"
    },
    {
     "name": "stdout",
     "output_type": "stream",
     "text": [
      "valid_total_loss  0.016507047810591757\n",
      "valid_accuracy 0.69\n",
      "epoch 2\n",
      "\n",
      "\n",
      "2_stage_models/esp/XLM_roberta_64_2e-5_seed_1/epoch_2\n"
     ]
    },
    {
     "data": {
      "application/vnd.jupyter.widget-view+json": {
       "model_id": "d2f3c1c288c043dda35d8f1a5db323f3",
       "version_major": 2,
       "version_minor": 0
      },
      "text/plain": [
       "  0%|          | 0/88 [00:00<?, ?it/s]"
      ]
     },
     "metadata": {},
     "output_type": "display_data"
    },
    {
     "name": "stdout",
     "output_type": "stream",
     "text": [
      "2_stage_models/esp/XLM_roberta_64_2e-5_seed_1/epoch_2 files saved\n",
      "error: 0\n",
      "total_loss 0.035932467071688734\n",
      "*********\n"
     ]
    },
    {
     "data": {
      "application/vnd.jupyter.widget-view+json": {
       "model_id": "0bb793ef32944b33abad958fc8f7351f",
       "version_major": 2,
       "version_minor": 0
      },
      "text/plain": [
       "  0%|          | 0/10 [00:00<?, ?it/s]"
      ]
     },
     "metadata": {},
     "output_type": "display_data"
    },
    {
     "name": "stdout",
     "output_type": "stream",
     "text": [
      "valid_total_loss  0.015996812202502042\n",
      "valid_accuracy 0.71\n",
      "epoch 3\n",
      "\n",
      "\n",
      "2_stage_models/esp/XLM_roberta_64_2e-5_seed_1/epoch_3\n"
     ]
    },
    {
     "data": {
      "application/vnd.jupyter.widget-view+json": {
       "model_id": "42e1e2b2ce3148e7ad1c45870a6c04b1",
       "version_major": 2,
       "version_minor": 0
      },
      "text/plain": [
       "  0%|          | 0/88 [00:00<?, ?it/s]"
      ]
     },
     "metadata": {},
     "output_type": "display_data"
    },
    {
     "name": "stdout",
     "output_type": "stream",
     "text": [
      "2_stage_models/esp/XLM_roberta_64_2e-5_seed_1/epoch_3 files saved\n",
      "error: 0\n",
      "total_loss 0.03532908359193243\n",
      "*********\n"
     ]
    },
    {
     "data": {
      "application/vnd.jupyter.widget-view+json": {
       "model_id": "e8f65677ff6e428bb38cfab51e59da87",
       "version_major": 2,
       "version_minor": 0
      },
      "text/plain": [
       "  0%|          | 0/10 [00:00<?, ?it/s]"
      ]
     },
     "metadata": {},
     "output_type": "display_data"
    },
    {
     "name": "stdout",
     "output_type": "stream",
     "text": [
      "valid_total_loss  0.01370635739294812\n",
      "valid_accuracy 0.7\n",
      "epoch 4\n",
      "\n",
      "\n",
      "2_stage_models/esp/XLM_roberta_64_2e-5_seed_1/epoch_4\n"
     ]
    },
    {
     "data": {
      "application/vnd.jupyter.widget-view+json": {
       "model_id": "49ec09545257400eadd1eedba7d30923",
       "version_major": 2,
       "version_minor": 0
      },
      "text/plain": [
       "  0%|          | 0/88 [00:00<?, ?it/s]"
      ]
     },
     "metadata": {},
     "output_type": "display_data"
    },
    {
     "name": "stdout",
     "output_type": "stream",
     "text": [
      "2_stage_models/esp/XLM_roberta_64_2e-5_seed_1/epoch_4 files saved\n",
      "error: 0\n",
      "total_loss 0.03204196122533176\n",
      "*********\n"
     ]
    },
    {
     "data": {
      "application/vnd.jupyter.widget-view+json": {
       "model_id": "ada7e82ce86644c68fb53407b6ed75a7",
       "version_major": 2,
       "version_minor": 0
      },
      "text/plain": [
       "  0%|          | 0/10 [00:00<?, ?it/s]"
      ]
     },
     "metadata": {},
     "output_type": "display_data"
    },
    {
     "name": "stdout",
     "output_type": "stream",
     "text": [
      "valid_total_loss  0.013341845595277846\n",
      "valid_accuracy 0.7\n"
     ]
    },
    {
     "data": {
      "application/vnd.jupyter.widget-view+json": {
       "model_id": "e9b0471848da44afa49a1784c5a2949d",
       "version_major": 2,
       "version_minor": 0
      },
      "text/plain": [
       "  0%|          | 0/5 [00:00<?, ?it/s]"
      ]
     },
     "metadata": {},
     "output_type": "display_data"
    },
    {
     "name": "stdout",
     "output_type": "stream",
     "text": [
      "epoch 0\n",
      "\n",
      "\n",
      "2_stage_models/amh/XLM_roberta_64_2e-5_seed_1/epoch_0\n"
     ]
    },
    {
     "data": {
      "application/vnd.jupyter.widget-view+json": {
       "model_id": "ec357b90f8244509aed3123c34f1d193",
       "version_major": 2,
       "version_minor": 0
      },
      "text/plain": [
       "  0%|          | 0/56 [00:00<?, ?it/s]"
      ]
     },
     "metadata": {},
     "output_type": "display_data"
    },
    {
     "name": "stdout",
     "output_type": "stream",
     "text": [
      "2_stage_models/amh/XLM_roberta_64_2e-5_seed_1/epoch_0 files saved\n",
      "error: 0\n",
      "total_loss 0.018218732948298566\n",
      "*********\n"
     ]
    },
    {
     "data": {
      "application/vnd.jupyter.widget-view+json": {
       "model_id": "0066cbbd39b8478bbc97d3312c87fd47",
       "version_major": 2,
       "version_minor": 0
      },
      "text/plain": [
       "  0%|          | 0/7 [00:00<?, ?it/s]"
      ]
     },
     "metadata": {},
     "output_type": "display_data"
    },
    {
     "name": "stdout",
     "output_type": "stream",
     "text": [
      "valid_total_loss  0.0034316817473154515\n",
      "valid_accuracy 0.93\n",
      "epoch 1\n",
      "\n",
      "\n",
      "2_stage_models/amh/XLM_roberta_64_2e-5_seed_1/epoch_1\n"
     ]
    },
    {
     "data": {
      "application/vnd.jupyter.widget-view+json": {
       "model_id": "753df87b8cb64d41a8db83d4b4906853",
       "version_major": 2,
       "version_minor": 0
      },
      "text/plain": [
       "  0%|          | 0/56 [00:00<?, ?it/s]"
      ]
     },
     "metadata": {},
     "output_type": "display_data"
    },
    {
     "name": "stdout",
     "output_type": "stream",
     "text": [
      "2_stage_models/amh/XLM_roberta_64_2e-5_seed_1/epoch_1 files saved\n",
      "error: 0\n",
      "total_loss 0.020233792936778627\n",
      "*********\n"
     ]
    },
    {
     "data": {
      "application/vnd.jupyter.widget-view+json": {
       "model_id": "eeccc5b0599b44e49a303b8419bfe22b",
       "version_major": 2,
       "version_minor": 0
      },
      "text/plain": [
       "  0%|          | 0/7 [00:00<?, ?it/s]"
      ]
     },
     "metadata": {},
     "output_type": "display_data"
    },
    {
     "name": "stdout",
     "output_type": "stream",
     "text": [
      "valid_total_loss  0.002760393370408565\n",
      "valid_accuracy 0.93\n",
      "epoch 2\n",
      "\n",
      "\n",
      "2_stage_models/amh/XLM_roberta_64_2e-5_seed_1/epoch_2\n"
     ]
    },
    {
     "data": {
      "application/vnd.jupyter.widget-view+json": {
       "model_id": "7c43b9e8d14f4ec49d522e975536fc7c",
       "version_major": 2,
       "version_minor": 0
      },
      "text/plain": [
       "  0%|          | 0/56 [00:00<?, ?it/s]"
      ]
     },
     "metadata": {},
     "output_type": "display_data"
    },
    {
     "name": "stdout",
     "output_type": "stream",
     "text": [
      "2_stage_models/amh/XLM_roberta_64_2e-5_seed_1/epoch_2 files saved\n",
      "error: 0\n",
      "total_loss 0.017180621944135055\n",
      "*********\n"
     ]
    },
    {
     "data": {
      "application/vnd.jupyter.widget-view+json": {
       "model_id": "d9a6456ce8af48cba9a5da73efcab931",
       "version_major": 2,
       "version_minor": 0
      },
      "text/plain": [
       "  0%|          | 0/7 [00:00<?, ?it/s]"
      ]
     },
     "metadata": {},
     "output_type": "display_data"
    },
    {
     "name": "stdout",
     "output_type": "stream",
     "text": [
      "valid_total_loss  0.002568561234511435\n",
      "valid_accuracy 0.93\n",
      "epoch 3\n",
      "\n",
      "\n",
      "2_stage_models/amh/XLM_roberta_64_2e-5_seed_1/epoch_3\n"
     ]
    },
    {
     "data": {
      "application/vnd.jupyter.widget-view+json": {
       "model_id": "4450549bb8574eb698eb5dbce6cda3ad",
       "version_major": 2,
       "version_minor": 0
      },
      "text/plain": [
       "  0%|          | 0/56 [00:00<?, ?it/s]"
      ]
     },
     "metadata": {},
     "output_type": "display_data"
    },
    {
     "name": "stdout",
     "output_type": "stream",
     "text": [
      "2_stage_models/amh/XLM_roberta_64_2e-5_seed_1/epoch_3 files saved\n",
      "error: 0\n",
      "total_loss 0.0169968860282097\n",
      "*********\n"
     ]
    },
    {
     "data": {
      "application/vnd.jupyter.widget-view+json": {
       "model_id": "d6d2d800db35420c88cb7930135038b5",
       "version_major": 2,
       "version_minor": 0
      },
      "text/plain": [
       "  0%|          | 0/7 [00:00<?, ?it/s]"
      ]
     },
     "metadata": {},
     "output_type": "display_data"
    },
    {
     "name": "stdout",
     "output_type": "stream",
     "text": [
      "valid_total_loss  0.0047552912146784365\n",
      "valid_accuracy 0.93\n",
      "epoch 4\n",
      "\n",
      "\n",
      "2_stage_models/amh/XLM_roberta_64_2e-5_seed_1/epoch_4\n"
     ]
    },
    {
     "data": {
      "application/vnd.jupyter.widget-view+json": {
       "model_id": "9e353ece9fbb4b85a12113fc5730a25a",
       "version_major": 2,
       "version_minor": 0
      },
      "text/plain": [
       "  0%|          | 0/56 [00:00<?, ?it/s]"
      ]
     },
     "metadata": {},
     "output_type": "display_data"
    },
    {
     "name": "stdout",
     "output_type": "stream",
     "text": [
      "2_stage_models/amh/XLM_roberta_64_2e-5_seed_1/epoch_4 files saved\n",
      "error: 0\n",
      "total_loss 0.01647947620949708\n",
      "*********\n"
     ]
    },
    {
     "data": {
      "application/vnd.jupyter.widget-view+json": {
       "model_id": "6eb72ec8bf4b49089600bf6c26f82ab8",
       "version_major": 2,
       "version_minor": 0
      },
      "text/plain": [
       "  0%|          | 0/7 [00:00<?, ?it/s]"
      ]
     },
     "metadata": {},
     "output_type": "display_data"
    },
    {
     "name": "stdout",
     "output_type": "stream",
     "text": [
      "valid_total_loss  0.0033380735549144447\n",
      "valid_accuracy 0.92\n"
     ]
    },
    {
     "data": {
      "application/vnd.jupyter.widget-view+json": {
       "model_id": "cb7514501c9f4cddba3a7282e8be553d",
       "version_major": 2,
       "version_minor": 0
      },
      "text/plain": [
       "  0%|          | 0/5 [00:00<?, ?it/s]"
      ]
     },
     "metadata": {},
     "output_type": "display_data"
    },
    {
     "name": "stdout",
     "output_type": "stream",
     "text": [
      "epoch 0\n",
      "\n",
      "\n",
      "2_stage_models/arq/XLM_roberta_64_2e-5_seed_1/epoch_0\n"
     ]
    },
    {
     "data": {
      "application/vnd.jupyter.widget-view+json": {
       "model_id": "04d731ab426249a5b2b60a39b08032f5",
       "version_major": 2,
       "version_minor": 0
      },
      "text/plain": [
       "  0%|          | 0/71 [00:00<?, ?it/s]"
      ]
     },
     "metadata": {},
     "output_type": "display_data"
    },
    {
     "name": "stdout",
     "output_type": "stream",
     "text": [
      "2_stage_models/arq/XLM_roberta_64_2e-5_seed_1/epoch_0 files saved\n",
      "error: 0\n",
      "total_loss 0.030887081113178283\n",
      "*********\n"
     ]
    },
    {
     "data": {
      "application/vnd.jupyter.widget-view+json": {
       "model_id": "a1b9b56ca6944ac7b8afe54a1cd6acf1",
       "version_major": 2,
       "version_minor": 0
      },
      "text/plain": [
       "  0%|          | 0/8 [00:00<?, ?it/s]"
      ]
     },
     "metadata": {},
     "output_type": "display_data"
    },
    {
     "name": "stdout",
     "output_type": "stream",
     "text": [
      "valid_total_loss  0.009012242662720382\n",
      "valid_accuracy 0.68\n",
      "epoch 1\n",
      "\n",
      "\n",
      "2_stage_models/arq/XLM_roberta_64_2e-5_seed_1/epoch_1\n"
     ]
    },
    {
     "data": {
      "application/vnd.jupyter.widget-view+json": {
       "model_id": "5e8999d704c846699a2b7ab025786b27",
       "version_major": 2,
       "version_minor": 0
      },
      "text/plain": [
       "  0%|          | 0/71 [00:00<?, ?it/s]"
      ]
     },
     "metadata": {},
     "output_type": "display_data"
    },
    {
     "name": "stdout",
     "output_type": "stream",
     "text": [
      "2_stage_models/arq/XLM_roberta_64_2e-5_seed_1/epoch_1 files saved\n",
      "error: 0\n",
      "total_loss 0.027488164938404225\n",
      "*********\n"
     ]
    },
    {
     "data": {
      "application/vnd.jupyter.widget-view+json": {
       "model_id": "0365d0739c0d4d5fa311d8425b5aa972",
       "version_major": 2,
       "version_minor": 0
      },
      "text/plain": [
       "  0%|          | 0/8 [00:00<?, ?it/s]"
      ]
     },
     "metadata": {},
     "output_type": "display_data"
    },
    {
     "name": "stdout",
     "output_type": "stream",
     "text": [
      "valid_total_loss  0.008440620556939393\n",
      "valid_accuracy 0.69\n",
      "epoch 2\n",
      "\n",
      "\n",
      "2_stage_models/arq/XLM_roberta_64_2e-5_seed_1/epoch_2\n"
     ]
    },
    {
     "data": {
      "application/vnd.jupyter.widget-view+json": {
       "model_id": "40d37eef56a84ecea9c67bca7f308339",
       "version_major": 2,
       "version_minor": 0
      },
      "text/plain": [
       "  0%|          | 0/71 [00:00<?, ?it/s]"
      ]
     },
     "metadata": {},
     "output_type": "display_data"
    },
    {
     "name": "stdout",
     "output_type": "stream",
     "text": [
      "2_stage_models/arq/XLM_roberta_64_2e-5_seed_1/epoch_2 files saved\n",
      "error: 0\n",
      "total_loss 0.0278677103924565\n",
      "*********\n"
     ]
    },
    {
     "data": {
      "application/vnd.jupyter.widget-view+json": {
       "model_id": "7fd1a7607fb04d0896da0854bbaf7d6b",
       "version_major": 2,
       "version_minor": 0
      },
      "text/plain": [
       "  0%|          | 0/8 [00:00<?, ?it/s]"
      ]
     },
     "metadata": {},
     "output_type": "display_data"
    },
    {
     "name": "stdout",
     "output_type": "stream",
     "text": [
      "valid_total_loss  0.010420921491459012\n",
      "valid_accuracy 0.59\n",
      "epoch 3\n",
      "\n",
      "\n",
      "2_stage_models/arq/XLM_roberta_64_2e-5_seed_1/epoch_3\n"
     ]
    },
    {
     "data": {
      "application/vnd.jupyter.widget-view+json": {
       "model_id": "df035187165e443796a4f7a5e2d1bffe",
       "version_major": 2,
       "version_minor": 0
      },
      "text/plain": [
       "  0%|          | 0/71 [00:00<?, ?it/s]"
      ]
     },
     "metadata": {},
     "output_type": "display_data"
    },
    {
     "name": "stdout",
     "output_type": "stream",
     "text": [
      "2_stage_models/arq/XLM_roberta_64_2e-5_seed_1/epoch_3 files saved\n",
      "error: 0\n",
      "total_loss 0.029945902264444157\n",
      "*********\n"
     ]
    },
    {
     "data": {
      "application/vnd.jupyter.widget-view+json": {
       "model_id": "ebca5633913e4ff3999d613a79da76ae",
       "version_major": 2,
       "version_minor": 0
      },
      "text/plain": [
       "  0%|          | 0/8 [00:00<?, ?it/s]"
      ]
     },
     "metadata": {},
     "output_type": "display_data"
    },
    {
     "name": "stdout",
     "output_type": "stream",
     "text": [
      "valid_total_loss  0.009713047184050083\n",
      "valid_accuracy 0.64\n",
      "epoch 4\n",
      "\n",
      "\n",
      "2_stage_models/arq/XLM_roberta_64_2e-5_seed_1/epoch_4\n"
     ]
    },
    {
     "data": {
      "application/vnd.jupyter.widget-view+json": {
       "model_id": "31c003c5d0d348608fada9a8d5a02a00",
       "version_major": 2,
       "version_minor": 0
      },
      "text/plain": [
       "  0%|          | 0/71 [00:00<?, ?it/s]"
      ]
     },
     "metadata": {},
     "output_type": "display_data"
    },
    {
     "name": "stdout",
     "output_type": "stream",
     "text": [
      "2_stage_models/arq/XLM_roberta_64_2e-5_seed_1/epoch_4 files saved\n",
      "error: 0\n",
      "total_loss 0.027472637200844474\n",
      "*********\n"
     ]
    },
    {
     "data": {
      "application/vnd.jupyter.widget-view+json": {
       "model_id": "be9a90f08b1e486b9084d415af756dea",
       "version_major": 2,
       "version_minor": 0
      },
      "text/plain": [
       "  0%|          | 0/8 [00:00<?, ?it/s]"
      ]
     },
     "metadata": {},
     "output_type": "display_data"
    },
    {
     "name": "stdout",
     "output_type": "stream",
     "text": [
      "valid_total_loss  0.009889600158203393\n",
      "valid_accuracy 0.7\n"
     ]
    },
    {
     "data": {
      "application/vnd.jupyter.widget-view+json": {
       "model_id": "a3fab04b3eed42ebb30a0c022b992b9c",
       "version_major": 2,
       "version_minor": 0
      },
      "text/plain": [
       "  0%|          | 0/5 [00:00<?, ?it/s]"
      ]
     },
     "metadata": {},
     "output_type": "display_data"
    },
    {
     "name": "stdout",
     "output_type": "stream",
     "text": [
      "epoch 0\n",
      "\n",
      "\n",
      "2_stage_models/ary/XLM_roberta_64_2e-5_seed_1/epoch_0\n"
     ]
    },
    {
     "data": {
      "application/vnd.jupyter.widget-view+json": {
       "model_id": "ccc06aab02fc4627b315af1a5f3a42e3",
       "version_major": 2,
       "version_minor": 0
      },
      "text/plain": [
       "  0%|          | 0/52 [00:00<?, ?it/s]"
      ]
     },
     "metadata": {},
     "output_type": "display_data"
    },
    {
     "name": "stdout",
     "output_type": "stream",
     "text": [
      "2_stage_models/ary/XLM_roberta_64_2e-5_seed_1/epoch_0 files saved\n",
      "error: 0\n",
      "total_loss 0.017940191421075724\n",
      "*********\n"
     ]
    },
    {
     "data": {
      "application/vnd.jupyter.widget-view+json": {
       "model_id": "614d4559fb984c9d84413fb5209b57ba",
       "version_major": 2,
       "version_minor": 0
      },
      "text/plain": [
       "  0%|          | 0/6 [00:00<?, ?it/s]"
      ]
     },
     "metadata": {},
     "output_type": "display_data"
    },
    {
     "name": "stdout",
     "output_type": "stream",
     "text": [
      "valid_total_loss  0.004230039892718196\n",
      "valid_accuracy 0.83\n",
      "epoch 1\n",
      "\n",
      "\n",
      "2_stage_models/ary/XLM_roberta_64_2e-5_seed_1/epoch_1\n"
     ]
    },
    {
     "data": {
      "application/vnd.jupyter.widget-view+json": {
       "model_id": "bda1cb0b6319460a9c5476881000c14b",
       "version_major": 2,
       "version_minor": 0
      },
      "text/plain": [
       "  0%|          | 0/52 [00:00<?, ?it/s]"
      ]
     },
     "metadata": {},
     "output_type": "display_data"
    },
    {
     "name": "stdout",
     "output_type": "stream",
     "text": [
      "2_stage_models/ary/XLM_roberta_64_2e-5_seed_1/epoch_1 files saved\n",
      "error: 0\n",
      "total_loss 0.0167482558026677\n",
      "*********\n"
     ]
    },
    {
     "data": {
      "application/vnd.jupyter.widget-view+json": {
       "model_id": "b39a6659458c44ae9311ab42e28906e0",
       "version_major": 2,
       "version_minor": 0
      },
      "text/plain": [
       "  0%|          | 0/6 [00:00<?, ?it/s]"
      ]
     },
     "metadata": {},
     "output_type": "display_data"
    },
    {
     "name": "stdout",
     "output_type": "stream",
     "text": [
      "valid_total_loss  0.004175274749286473\n",
      "valid_accuracy 0.83\n",
      "epoch 2\n",
      "\n",
      "\n",
      "2_stage_models/ary/XLM_roberta_64_2e-5_seed_1/epoch_2\n"
     ]
    },
    {
     "data": {
      "application/vnd.jupyter.widget-view+json": {
       "model_id": "32aa924a934748f1bcd392b7d57a79fb",
       "version_major": 2,
       "version_minor": 0
      },
      "text/plain": [
       "  0%|          | 0/52 [00:00<?, ?it/s]"
      ]
     },
     "metadata": {},
     "output_type": "display_data"
    },
    {
     "name": "stdout",
     "output_type": "stream",
     "text": [
      "2_stage_models/ary/XLM_roberta_64_2e-5_seed_1/epoch_2 files saved\n",
      "error: 0\n",
      "total_loss 0.016255570779321715\n",
      "*********\n"
     ]
    },
    {
     "data": {
      "application/vnd.jupyter.widget-view+json": {
       "model_id": "2102e64b93db48a19a19ad9f929d762f",
       "version_major": 2,
       "version_minor": 0
      },
      "text/plain": [
       "  0%|          | 0/6 [00:00<?, ?it/s]"
      ]
     },
     "metadata": {},
     "output_type": "display_data"
    },
    {
     "name": "stdout",
     "output_type": "stream",
     "text": [
      "valid_total_loss  0.004266878007911146\n",
      "valid_accuracy 0.83\n",
      "epoch 3\n",
      "\n",
      "\n",
      "2_stage_models/ary/XLM_roberta_64_2e-5_seed_1/epoch_3\n"
     ]
    },
    {
     "data": {
      "application/vnd.jupyter.widget-view+json": {
       "model_id": "65a121796d8b43be8d1e1eecdd2a428d",
       "version_major": 2,
       "version_minor": 0
      },
      "text/plain": [
       "  0%|          | 0/52 [00:00<?, ?it/s]"
      ]
     },
     "metadata": {},
     "output_type": "display_data"
    },
    {
     "name": "stdout",
     "output_type": "stream",
     "text": [
      "2_stage_models/ary/XLM_roberta_64_2e-5_seed_1/epoch_3 files saved\n",
      "error: 0\n",
      "total_loss 0.016031502818805166\n",
      "*********\n"
     ]
    },
    {
     "data": {
      "application/vnd.jupyter.widget-view+json": {
       "model_id": "9d322f8a93094e22ab9e26fc02f3f168",
       "version_major": 2,
       "version_minor": 0
      },
      "text/plain": [
       "  0%|          | 0/6 [00:00<?, ?it/s]"
      ]
     },
     "metadata": {},
     "output_type": "display_data"
    },
    {
     "name": "stdout",
     "output_type": "stream",
     "text": [
      "valid_total_loss  0.005387818731833249\n",
      "valid_accuracy 0.83\n",
      "epoch 4\n",
      "\n",
      "\n",
      "2_stage_models/ary/XLM_roberta_64_2e-5_seed_1/epoch_4\n"
     ]
    },
    {
     "data": {
      "application/vnd.jupyter.widget-view+json": {
       "model_id": "878107786def448aa1a6534c9c25fe9b",
       "version_major": 2,
       "version_minor": 0
      },
      "text/plain": [
       "  0%|          | 0/52 [00:00<?, ?it/s]"
      ]
     },
     "metadata": {},
     "output_type": "display_data"
    },
    {
     "name": "stdout",
     "output_type": "stream",
     "text": [
      "2_stage_models/ary/XLM_roberta_64_2e-5_seed_1/epoch_4 files saved\n",
      "error: 0\n",
      "total_loss 0.015656340736313723\n",
      "*********\n"
     ]
    },
    {
     "data": {
      "application/vnd.jupyter.widget-view+json": {
       "model_id": "b6ac88cc44ea40a2b4a18fdc0f235ba4",
       "version_major": 2,
       "version_minor": 0
      },
      "text/plain": [
       "  0%|          | 0/6 [00:00<?, ?it/s]"
      ]
     },
     "metadata": {},
     "output_type": "display_data"
    },
    {
     "name": "stdout",
     "output_type": "stream",
     "text": [
      "valid_total_loss  0.004716149298474193\n",
      "valid_accuracy 0.82\n"
     ]
    },
    {
     "data": {
      "application/vnd.jupyter.widget-view+json": {
       "model_id": "addf2b2f5cb54ee7b3ef29339daf4abc",
       "version_major": 2,
       "version_minor": 0
      },
      "text/plain": [
       "  0%|          | 0/5 [00:00<?, ?it/s]"
      ]
     },
     "metadata": {},
     "output_type": "display_data"
    },
    {
     "name": "stdout",
     "output_type": "stream",
     "text": [
      "epoch 0\n",
      "\n",
      "\n",
      "2_stage_models/hau/XLM_roberta_64_2e-5_seed_1/epoch_0\n"
     ]
    },
    {
     "data": {
      "application/vnd.jupyter.widget-view+json": {
       "model_id": "94964785948746d791664e61a326a565",
       "version_major": 2,
       "version_minor": 0
      },
      "text/plain": [
       "  0%|          | 0/98 [00:00<?, ?it/s]"
      ]
     },
     "metadata": {},
     "output_type": "display_data"
    },
    {
     "name": "stdout",
     "output_type": "stream",
     "text": [
      "2_stage_models/hau/XLM_roberta_64_2e-5_seed_1/epoch_0 files saved\n",
      "error: 0\n",
      "total_loss 0.05409155917004682\n",
      "*********\n"
     ]
    },
    {
     "data": {
      "application/vnd.jupyter.widget-view+json": {
       "model_id": "bd2b97d516874b8482c03ee141c7d9cd",
       "version_major": 2,
       "version_minor": 0
      },
      "text/plain": [
       "  0%|          | 0/11 [00:00<?, ?it/s]"
      ]
     },
     "metadata": {},
     "output_type": "display_data"
    },
    {
     "name": "stdout",
     "output_type": "stream",
     "text": [
      "valid_total_loss  0.015837295446544886\n",
      "valid_accuracy 0.8\n",
      "epoch 1\n",
      "\n",
      "\n",
      "2_stage_models/hau/XLM_roberta_64_2e-5_seed_1/epoch_1\n"
     ]
    },
    {
     "data": {
      "application/vnd.jupyter.widget-view+json": {
       "model_id": "9d056a53e6dd402f8a9e4508da15f620",
       "version_major": 2,
       "version_minor": 0
      },
      "text/plain": [
       "  0%|          | 0/98 [00:00<?, ?it/s]"
      ]
     },
     "metadata": {},
     "output_type": "display_data"
    },
    {
     "name": "stdout",
     "output_type": "stream",
     "text": [
      "2_stage_models/hau/XLM_roberta_64_2e-5_seed_1/epoch_1 files saved\n",
      "error: 0\n",
      "total_loss 0.053170775703620166\n",
      "*********\n"
     ]
    },
    {
     "data": {
      "application/vnd.jupyter.widget-view+json": {
       "model_id": "32ae28c7174f4e88b6d99126960cce39",
       "version_major": 2,
       "version_minor": 0
      },
      "text/plain": [
       "  0%|          | 0/11 [00:00<?, ?it/s]"
      ]
     },
     "metadata": {},
     "output_type": "display_data"
    },
    {
     "name": "stdout",
     "output_type": "stream",
     "text": [
      "valid_total_loss  0.027136423508636653\n",
      "valid_accuracy 0.81\n",
      "epoch 2\n",
      "\n",
      "\n",
      "2_stage_models/hau/XLM_roberta_64_2e-5_seed_1/epoch_2\n"
     ]
    },
    {
     "data": {
      "application/vnd.jupyter.widget-view+json": {
       "model_id": "5563c446659547b3863204435bc10fd8",
       "version_major": 2,
       "version_minor": 0
      },
      "text/plain": [
       "  0%|          | 0/98 [00:00<?, ?it/s]"
      ]
     },
     "metadata": {},
     "output_type": "display_data"
    },
    {
     "name": "stdout",
     "output_type": "stream",
     "text": [
      "2_stage_models/hau/XLM_roberta_64_2e-5_seed_1/epoch_2 files saved\n",
      "error: 0\n",
      "total_loss 0.05622487943037413\n",
      "*********\n"
     ]
    },
    {
     "data": {
      "application/vnd.jupyter.widget-view+json": {
       "model_id": "90806066b2b84c4aa75c95fdb5a3767b",
       "version_major": 2,
       "version_minor": 0
      },
      "text/plain": [
       "  0%|          | 0/11 [00:00<?, ?it/s]"
      ]
     },
     "metadata": {},
     "output_type": "display_data"
    },
    {
     "name": "stdout",
     "output_type": "stream",
     "text": [
      "valid_total_loss  0.028078592498786747\n",
      "valid_accuracy 0.81\n",
      "early_stoping occure\n"
     ]
    },
    {
     "data": {
      "application/vnd.jupyter.widget-view+json": {
       "model_id": "cad05b563dd4479e86cdc57f26a75e1c",
       "version_major": 2,
       "version_minor": 0
      },
      "text/plain": [
       "  0%|          | 0/5 [00:00<?, ?it/s]"
      ]
     },
     "metadata": {},
     "output_type": "display_data"
    },
    {
     "name": "stdout",
     "output_type": "stream",
     "text": [
      "epoch 0\n",
      "\n",
      "\n",
      "2_stage_models/kin/XLM_roberta_64_2e-5_seed_1/epoch_0\n"
     ]
    },
    {
     "data": {
      "application/vnd.jupyter.widget-view+json": {
       "model_id": "75cf256178e04594b4452a03f7dc5eda",
       "version_major": 2,
       "version_minor": 0
      },
      "text/plain": [
       "  0%|          | 0/44 [00:00<?, ?it/s]"
      ]
     },
     "metadata": {},
     "output_type": "display_data"
    },
    {
     "name": "stdout",
     "output_type": "stream",
     "text": [
      "2_stage_models/kin/XLM_roberta_64_2e-5_seed_1/epoch_0 files saved\n",
      "error: 0\n",
      "total_loss 0.02212479355512187\n",
      "*********\n"
     ]
    },
    {
     "data": {
      "application/vnd.jupyter.widget-view+json": {
       "model_id": "19489d4196c040b2a60a7467a2b3e7c1",
       "version_major": 2,
       "version_minor": 0
      },
      "text/plain": [
       "  0%|          | 0/5 [00:00<?, ?it/s]"
      ]
     },
     "metadata": {},
     "output_type": "display_data"
    },
    {
     "name": "stdout",
     "output_type": "stream",
     "text": [
      "valid_total_loss  0.0073798426310531795\n",
      "valid_accuracy 0.64\n",
      "epoch 1\n",
      "\n",
      "\n",
      "2_stage_models/kin/XLM_roberta_64_2e-5_seed_1/epoch_1\n"
     ]
    },
    {
     "data": {
      "application/vnd.jupyter.widget-view+json": {
       "model_id": "06dfcc5f3fc44eb38d2ba43abc167d3f",
       "version_major": 2,
       "version_minor": 0
      },
      "text/plain": [
       "  0%|          | 0/44 [00:00<?, ?it/s]"
      ]
     },
     "metadata": {},
     "output_type": "display_data"
    },
    {
     "name": "stdout",
     "output_type": "stream",
     "text": [
      "2_stage_models/kin/XLM_roberta_64_2e-5_seed_1/epoch_1 files saved\n",
      "error: 0\n",
      "total_loss 0.019915595665224828\n",
      "*********\n"
     ]
    },
    {
     "data": {
      "application/vnd.jupyter.widget-view+json": {
       "model_id": "3505d9a5c9fb4cd8af87c2ec0a712f7d",
       "version_major": 2,
       "version_minor": 0
      },
      "text/plain": [
       "  0%|          | 0/5 [00:00<?, ?it/s]"
      ]
     },
     "metadata": {},
     "output_type": "display_data"
    },
    {
     "name": "stdout",
     "output_type": "stream",
     "text": [
      "valid_total_loss  0.007966386678162962\n",
      "valid_accuracy 0.64\n",
      "epoch 2\n",
      "\n",
      "\n",
      "2_stage_models/kin/XLM_roberta_64_2e-5_seed_1/epoch_2\n"
     ]
    },
    {
     "data": {
      "application/vnd.jupyter.widget-view+json": {
       "model_id": "bb34978f94304b45a0aef93901ec915d",
       "version_major": 2,
       "version_minor": 0
      },
      "text/plain": [
       "  0%|          | 0/44 [00:00<?, ?it/s]"
      ]
     },
     "metadata": {},
     "output_type": "display_data"
    },
    {
     "name": "stdout",
     "output_type": "stream",
     "text": [
      "2_stage_models/kin/XLM_roberta_64_2e-5_seed_1/epoch_2 files saved\n",
      "error: 0\n",
      "total_loss 0.021005705348215997\n",
      "*********\n"
     ]
    },
    {
     "data": {
      "application/vnd.jupyter.widget-view+json": {
       "model_id": "f614dbcd29174b938924defe427d9eb5",
       "version_major": 2,
       "version_minor": 0
      },
      "text/plain": [
       "  0%|          | 0/5 [00:00<?, ?it/s]"
      ]
     },
     "metadata": {},
     "output_type": "display_data"
    },
    {
     "name": "stdout",
     "output_type": "stream",
     "text": [
      "valid_total_loss  0.0077118766494095325\n",
      "valid_accuracy 0.69\n",
      "epoch 3\n",
      "\n",
      "\n",
      "2_stage_models/kin/XLM_roberta_64_2e-5_seed_1/epoch_3\n"
     ]
    },
    {
     "data": {
      "application/vnd.jupyter.widget-view+json": {
       "model_id": "6f31a8b854034ee898088a85d5b68503",
       "version_major": 2,
       "version_minor": 0
      },
      "text/plain": [
       "  0%|          | 0/44 [00:00<?, ?it/s]"
      ]
     },
     "metadata": {},
     "output_type": "display_data"
    },
    {
     "name": "stdout",
     "output_type": "stream",
     "text": [
      "2_stage_models/kin/XLM_roberta_64_2e-5_seed_1/epoch_3 files saved\n",
      "error: 0\n",
      "total_loss 0.01834108476759866\n",
      "*********\n"
     ]
    },
    {
     "data": {
      "application/vnd.jupyter.widget-view+json": {
       "model_id": "b81d54b0644f4f0385fa6328f243fb66",
       "version_major": 2,
       "version_minor": 0
      },
      "text/plain": [
       "  0%|          | 0/5 [00:00<?, ?it/s]"
      ]
     },
     "metadata": {},
     "output_type": "display_data"
    },
    {
     "name": "stdout",
     "output_type": "stream",
     "text": [
      "valid_total_loss  0.0071311641950160265\n",
      "valid_accuracy 0.68\n",
      "epoch 4\n",
      "\n",
      "\n",
      "2_stage_models/kin/XLM_roberta_64_2e-5_seed_1/epoch_4\n"
     ]
    },
    {
     "data": {
      "application/vnd.jupyter.widget-view+json": {
       "model_id": "bd0f0aec28894fbea86ab92db29e46a0",
       "version_major": 2,
       "version_minor": 0
      },
      "text/plain": [
       "  0%|          | 0/44 [00:00<?, ?it/s]"
      ]
     },
     "metadata": {},
     "output_type": "display_data"
    },
    {
     "name": "stdout",
     "output_type": "stream",
     "text": [
      "2_stage_models/kin/XLM_roberta_64_2e-5_seed_1/epoch_4 files saved\n",
      "error: 0\n",
      "total_loss 0.017458931397413835\n",
      "*********\n"
     ]
    },
    {
     "data": {
      "application/vnd.jupyter.widget-view+json": {
       "model_id": "569bff1b404b41eca5f26271dfea2769",
       "version_major": 2,
       "version_minor": 0
      },
      "text/plain": [
       "  0%|          | 0/5 [00:00<?, ?it/s]"
      ]
     },
     "metadata": {},
     "output_type": "display_data"
    },
    {
     "name": "stdout",
     "output_type": "stream",
     "text": [
      "valid_total_loss  0.007526443689130247\n",
      "valid_accuracy 0.68\n"
     ]
    },
    {
     "data": {
      "application/vnd.jupyter.widget-view+json": {
       "model_id": "6a589ef713b742c8bdecca71e7852cc6",
       "version_major": 2,
       "version_minor": 0
      },
      "text/plain": [
       "  0%|          | 0/5 [00:00<?, ?it/s]"
      ]
     },
     "metadata": {},
     "output_type": "display_data"
    },
    {
     "name": "stdout",
     "output_type": "stream",
     "text": [
      "epoch 0\n",
      "\n",
      "\n",
      "2_stage_models/mar/XLM_roberta_64_2e-5_seed_1/epoch_0\n"
     ]
    },
    {
     "data": {
      "application/vnd.jupyter.widget-view+json": {
       "model_id": "a1839c99f1e44f4fb96c8b3969f60d7d",
       "version_major": 2,
       "version_minor": 0
      },
      "text/plain": [
       "  0%|          | 0/68 [00:00<?, ?it/s]"
      ]
     },
     "metadata": {},
     "output_type": "display_data"
    },
    {
     "name": "stdout",
     "output_type": "stream",
     "text": [
      "2_stage_models/mar/XLM_roberta_64_2e-5_seed_1/epoch_0 files saved\n",
      "error: 0\n",
      "total_loss 0.026150855410378426\n",
      "*********\n"
     ]
    },
    {
     "data": {
      "application/vnd.jupyter.widget-view+json": {
       "model_id": "805b66295e844863aacb53155c46ccf1",
       "version_major": 2,
       "version_minor": 0
      },
      "text/plain": [
       "  0%|          | 0/8 [00:00<?, ?it/s]"
      ]
     },
     "metadata": {},
     "output_type": "display_data"
    },
    {
     "name": "stdout",
     "output_type": "stream",
     "text": [
      "valid_total_loss  0.005187195027247071\n",
      "valid_accuracy 0.92\n",
      "epoch 1\n",
      "\n",
      "\n",
      "2_stage_models/mar/XLM_roberta_64_2e-5_seed_1/epoch_1\n"
     ]
    },
    {
     "data": {
      "application/vnd.jupyter.widget-view+json": {
       "model_id": "43c1fd97ea1f4591a4eb8ef11232887b",
       "version_major": 2,
       "version_minor": 0
      },
      "text/plain": [
       "  0%|          | 0/68 [00:00<?, ?it/s]"
      ]
     },
     "metadata": {},
     "output_type": "display_data"
    },
    {
     "name": "stdout",
     "output_type": "stream",
     "text": [
      "2_stage_models/mar/XLM_roberta_64_2e-5_seed_1/epoch_1 files saved\n",
      "error: 0\n",
      "total_loss 0.0223424455471104\n",
      "*********\n"
     ]
    },
    {
     "data": {
      "application/vnd.jupyter.widget-view+json": {
       "model_id": "12fd8b33d9674d83b0d330f40d2c31fd",
       "version_major": 2,
       "version_minor": 0
      },
      "text/plain": [
       "  0%|          | 0/8 [00:00<?, ?it/s]"
      ]
     },
     "metadata": {},
     "output_type": "display_data"
    },
    {
     "name": "stdout",
     "output_type": "stream",
     "text": [
      "valid_total_loss  0.007626718608662486\n",
      "valid_accuracy 0.92\n",
      "epoch 2\n",
      "\n",
      "\n",
      "2_stage_models/mar/XLM_roberta_64_2e-5_seed_1/epoch_2\n"
     ]
    },
    {
     "data": {
      "application/vnd.jupyter.widget-view+json": {
       "model_id": "338c5bffa82c45c797602c97f58eb026",
       "version_major": 2,
       "version_minor": 0
      },
      "text/plain": [
       "  0%|          | 0/68 [00:00<?, ?it/s]"
      ]
     },
     "metadata": {},
     "output_type": "display_data"
    },
    {
     "name": "stdout",
     "output_type": "stream",
     "text": [
      "2_stage_models/mar/XLM_roberta_64_2e-5_seed_1/epoch_2 files saved\n",
      "error: 0\n",
      "total_loss 0.02597971910290653\n",
      "*********\n"
     ]
    },
    {
     "data": {
      "application/vnd.jupyter.widget-view+json": {
       "model_id": "5977f80cbe88480ea981511032d69217",
       "version_major": 2,
       "version_minor": 0
      },
      "text/plain": [
       "  0%|          | 0/8 [00:00<?, ?it/s]"
      ]
     },
     "metadata": {},
     "output_type": "display_data"
    },
    {
     "name": "stdout",
     "output_type": "stream",
     "text": [
      "valid_total_loss  0.012040188477840275\n",
      "valid_accuracy 0.91\n",
      "epoch 3\n",
      "\n",
      "\n",
      "2_stage_models/mar/XLM_roberta_64_2e-5_seed_1/epoch_3\n"
     ]
    },
    {
     "data": {
      "application/vnd.jupyter.widget-view+json": {
       "model_id": "0cf96d769b4545fbb9519c970c72a49c",
       "version_major": 2,
       "version_minor": 0
      },
      "text/plain": [
       "  0%|          | 0/68 [00:00<?, ?it/s]"
      ]
     },
     "metadata": {},
     "output_type": "display_data"
    },
    {
     "name": "stdout",
     "output_type": "stream",
     "text": [
      "2_stage_models/mar/XLM_roberta_64_2e-5_seed_1/epoch_3 files saved\n",
      "error: 0\n",
      "total_loss 0.022287122017587535\n",
      "*********\n"
     ]
    },
    {
     "data": {
      "application/vnd.jupyter.widget-view+json": {
       "model_id": "c98286d0fc784536b7549aade0e158fa",
       "version_major": 2,
       "version_minor": 0
      },
      "text/plain": [
       "  0%|          | 0/8 [00:00<?, ?it/s]"
      ]
     },
     "metadata": {},
     "output_type": "display_data"
    },
    {
     "name": "stdout",
     "output_type": "stream",
     "text": [
      "valid_total_loss  0.00671820092247799\n",
      "valid_accuracy 0.91\n",
      "epoch 4\n",
      "\n",
      "\n",
      "2_stage_models/mar/XLM_roberta_64_2e-5_seed_1/epoch_4\n"
     ]
    },
    {
     "data": {
      "application/vnd.jupyter.widget-view+json": {
       "model_id": "612c2f1e0aad4642b8da064755e6a45a",
       "version_major": 2,
       "version_minor": 0
      },
      "text/plain": [
       "  0%|          | 0/68 [00:00<?, ?it/s]"
      ]
     },
     "metadata": {},
     "output_type": "display_data"
    },
    {
     "name": "stdout",
     "output_type": "stream",
     "text": [
      "2_stage_models/mar/XLM_roberta_64_2e-5_seed_1/epoch_4 files saved\n",
      "error: 0\n",
      "total_loss 0.019784763251664117\n",
      "*********\n"
     ]
    },
    {
     "data": {
      "application/vnd.jupyter.widget-view+json": {
       "model_id": "06e298b459ad4a6eb0059605767dfdc1",
       "version_major": 2,
       "version_minor": 0
      },
      "text/plain": [
       "  0%|          | 0/8 [00:00<?, ?it/s]"
      ]
     },
     "metadata": {},
     "output_type": "display_data"
    },
    {
     "name": "stdout",
     "output_type": "stream",
     "text": [
      "valid_total_loss  0.006721335157635622\n",
      "valid_accuracy 0.9\n"
     ]
    },
    {
     "data": {
      "application/vnd.jupyter.widget-view+json": {
       "model_id": "628bb82abdc940388a751b134b8c22a6",
       "version_major": 2,
       "version_minor": 0
      },
      "text/plain": [
       "  0%|          | 0/5 [00:00<?, ?it/s]"
      ]
     },
     "metadata": {},
     "output_type": "display_data"
    },
    {
     "name": "stdout",
     "output_type": "stream",
     "text": [
      "epoch 0\n",
      "\n",
      "\n",
      "2_stage_models/tel/XLM_roberta_64_2e-5_seed_1/epoch_0\n"
     ]
    },
    {
     "data": {
      "application/vnd.jupyter.widget-view+json": {
       "model_id": "e3d00b420cb543bfadab2e852237525e",
       "version_major": 2,
       "version_minor": 0
      },
      "text/plain": [
       "  0%|          | 0/66 [00:00<?, ?it/s]"
      ]
     },
     "metadata": {},
     "output_type": "display_data"
    },
    {
     "name": "stdout",
     "output_type": "stream",
     "text": [
      "2_stage_models/tel/XLM_roberta_64_2e-5_seed_1/epoch_0 files saved\n",
      "error: 0\n",
      "total_loss 0.020224290536134504\n",
      "*********\n"
     ]
    },
    {
     "data": {
      "application/vnd.jupyter.widget-view+json": {
       "model_id": "f086e9b972ba4f0f8618ba5a0f8b2e17",
       "version_major": 2,
       "version_minor": 0
      },
      "text/plain": [
       "  0%|          | 0/8 [00:00<?, ?it/s]"
      ]
     },
     "metadata": {},
     "output_type": "display_data"
    },
    {
     "name": "stdout",
     "output_type": "stream",
     "text": [
      "valid_total_loss  0.00577551094465889\n",
      "valid_accuracy 0.83\n",
      "epoch 1\n",
      "\n",
      "\n",
      "2_stage_models/tel/XLM_roberta_64_2e-5_seed_1/epoch_1\n"
     ]
    },
    {
     "data": {
      "application/vnd.jupyter.widget-view+json": {
       "model_id": "ce74346dd5ba48f9ba7669228420a96d",
       "version_major": 2,
       "version_minor": 0
      },
      "text/plain": [
       "  0%|          | 0/66 [00:00<?, ?it/s]"
      ]
     },
     "metadata": {},
     "output_type": "display_data"
    },
    {
     "name": "stdout",
     "output_type": "stream",
     "text": [
      "2_stage_models/tel/XLM_roberta_64_2e-5_seed_1/epoch_1 files saved\n",
      "error: 0\n",
      "total_loss 0.01999736974539701\n",
      "*********\n"
     ]
    },
    {
     "data": {
      "application/vnd.jupyter.widget-view+json": {
       "model_id": "173fe72f1d54488b9397e48eb97e688e",
       "version_major": 2,
       "version_minor": 0
      },
      "text/plain": [
       "  0%|          | 0/8 [00:00<?, ?it/s]"
      ]
     },
     "metadata": {},
     "output_type": "display_data"
    },
    {
     "name": "stdout",
     "output_type": "stream",
     "text": [
      "valid_total_loss  0.004326749360188842\n",
      "valid_accuracy 0.84\n",
      "epoch 2\n",
      "\n",
      "\n",
      "2_stage_models/tel/XLM_roberta_64_2e-5_seed_1/epoch_2\n"
     ]
    },
    {
     "data": {
      "application/vnd.jupyter.widget-view+json": {
       "model_id": "f1f2c2391e694fb6bd7ca68e3eec4f5c",
       "version_major": 2,
       "version_minor": 0
      },
      "text/plain": [
       "  0%|          | 0/66 [00:00<?, ?it/s]"
      ]
     },
     "metadata": {},
     "output_type": "display_data"
    },
    {
     "name": "stdout",
     "output_type": "stream",
     "text": [
      "2_stage_models/tel/XLM_roberta_64_2e-5_seed_1/epoch_2 files saved\n",
      "error: 0\n",
      "total_loss 0.018116359919076785\n",
      "*********\n"
     ]
    },
    {
     "data": {
      "application/vnd.jupyter.widget-view+json": {
       "model_id": "37e92b39b0ee436eaa17a3a267e2770d",
       "version_major": 2,
       "version_minor": 0
      },
      "text/plain": [
       "  0%|          | 0/8 [00:00<?, ?it/s]"
      ]
     },
     "metadata": {},
     "output_type": "display_data"
    },
    {
     "name": "stdout",
     "output_type": "stream",
     "text": [
      "valid_total_loss  0.007182273722719401\n",
      "valid_accuracy 0.83\n",
      "epoch 3\n",
      "\n",
      "\n",
      "2_stage_models/tel/XLM_roberta_64_2e-5_seed_1/epoch_3\n"
     ]
    },
    {
     "data": {
      "application/vnd.jupyter.widget-view+json": {
       "model_id": "81351d27d4ba4d61a1aab9ef6613b78f",
       "version_major": 2,
       "version_minor": 0
      },
      "text/plain": [
       "  0%|          | 0/66 [00:00<?, ?it/s]"
      ]
     },
     "metadata": {},
     "output_type": "display_data"
    },
    {
     "name": "stdout",
     "output_type": "stream",
     "text": [
      "2_stage_models/tel/XLM_roberta_64_2e-5_seed_1/epoch_3 files saved\n",
      "error: 0\n",
      "total_loss 0.0223477943072794\n",
      "*********\n"
     ]
    },
    {
     "data": {
      "application/vnd.jupyter.widget-view+json": {
       "model_id": "7895ca70265e4cff91fc5ec54003426d",
       "version_major": 2,
       "version_minor": 0
      },
      "text/plain": [
       "  0%|          | 0/8 [00:00<?, ?it/s]"
      ]
     },
     "metadata": {},
     "output_type": "display_data"
    },
    {
     "name": "stdout",
     "output_type": "stream",
     "text": [
      "valid_total_loss  0.003570662869606167\n",
      "valid_accuracy 0.84\n",
      "epoch 4\n",
      "\n",
      "\n",
      "2_stage_models/tel/XLM_roberta_64_2e-5_seed_1/epoch_4\n"
     ]
    },
    {
     "data": {
      "application/vnd.jupyter.widget-view+json": {
       "model_id": "3da26bdaedbf4144aada8163dc96e2b6",
       "version_major": 2,
       "version_minor": 0
      },
      "text/plain": [
       "  0%|          | 0/66 [00:00<?, ?it/s]"
      ]
     },
     "metadata": {},
     "output_type": "display_data"
    },
    {
     "name": "stdout",
     "output_type": "stream",
     "text": [
      "2_stage_models/tel/XLM_roberta_64_2e-5_seed_1/epoch_4 files saved\n",
      "error: 0\n",
      "total_loss 0.017465975193772465\n",
      "*********\n"
     ]
    },
    {
     "data": {
      "application/vnd.jupyter.widget-view+json": {
       "model_id": "153b73de6a9449a899efce9ee22468ba",
       "version_major": 2,
       "version_minor": 0
      },
      "text/plain": [
       "  0%|          | 0/8 [00:00<?, ?it/s]"
      ]
     },
     "metadata": {},
     "output_type": "display_data"
    },
    {
     "name": "stdout",
     "output_type": "stream",
     "text": [
      "valid_total_loss  0.004783414566190913\n",
      "valid_accuracy 0.82\n",
      "All files saved\n"
     ]
    },
    {
     "ename": "NameError",
     "evalue": "name 'MlflowClient' is not defined",
     "output_type": "error",
     "traceback": [
      "\u001b[0;31m---------------------------------------------------------------------------\u001b[0m",
      "\u001b[0;31mNameError\u001b[0m                                 Traceback (most recent call last)",
      "Cell \u001b[0;32mIn[111], line 170\u001b[0m\n\u001b[1;32m    167\u001b[0m                 \u001b[38;5;28;01mbreak\u001b[39;00m\n\u001b[1;32m    168\u001b[0m \u001b[38;5;28mprint\u001b[39m(\u001b[38;5;124m'\u001b[39m\u001b[38;5;124mAll files saved\u001b[39m\u001b[38;5;124m'\u001b[39m)\n\u001b[0;32m--> 170\u001b[0m client \u001b[38;5;241m=\u001b[39m \u001b[43mMlflowClient\u001b[49m()\n\u001b[1;32m    171\u001b[0m best_run \u001b[38;5;241m=\u001b[39m client\u001b[38;5;241m.\u001b[39msearch_runs(order_by\u001b[38;5;241m=\u001b[39m[\u001b[38;5;124m\"\u001b[39m\u001b[38;5;124mmetrics.valid_accuracy desc\u001b[39m\u001b[38;5;124m\"\u001b[39m])\u001b[38;5;241m.\u001b[39miloc[\u001b[38;5;241m0\u001b[39m]\n\u001b[1;32m    172\u001b[0m best_model_uri \u001b[38;5;241m=\u001b[39m best_run\u001b[38;5;241m.\u001b[39minfo\u001b[38;5;241m.\u001b[39martifact_uri \u001b[38;5;241m+\u001b[39m \u001b[38;5;124m\"\u001b[39m\u001b[38;5;124m/models\u001b[39m\u001b[38;5;124m\"\u001b[39m\n",
      "\u001b[0;31mNameError\u001b[0m: name 'MlflowClient' is not defined"
     ]
    }
   ],
   "source": [
    "# import mlflow\n",
    "# mlflow.set_tracking_uri(\"http://172.17.25.123:8080/\")\n",
    "# model_checkpoint_path=\"/home/naive123/nlp/Sumit/Textural_Relateness/Semantic_Relatedness_SemEval2024/multiple_models_/XLM_roberta64_2e-05seed1/epoch_2\"\n",
    "model_checkpoint_path=\"xlm-roberta-large\"\n",
    "import tqdm\n",
    "tqdmn = tqdm.notebook.tqdm\n",
    "print(\"training start\")\n",
    "previous_total_valid_loss = sys.float_info.max\n",
    "valid_min_loss = previous_total_valid_loss\n",
    "early_stoping_flag=0\n",
    "# p_directory = \"/content/drive/MyDrive/textual_relatedness/models/xlm_64_1e_4seed11/\"\n",
    "hyperparameter_combinations=[\n",
    "# hyperparameter_combinations = [\n",
    "#     {'seed': 1, 'batch_size': 64, 'lr': 2e-4, 'n_epochs': 5, 'max_len': 64, 'early_stopping_patience': 3, 'language_train_dataset':},\n",
    "#     {'seed': 1, 'batch_size': 64, 'lr': 1e-4, 'n_epochs': 5,  'max_len': 64, 'early_stopping_patience': 3},\n",
    "#     {'seed': 1, 'batch_size': 64, 'lr': 8e-5, 'n_epochs': 5, 'max_len': 64, 'early_stopping_patience': 3},\n",
    "#     {'seed': 1, 'batch_size': 64, 'lr': 1e-5, 'n_epochs': 5, 'max_len': 64, 'early_stopping_patience': 3},\n",
    "#     {'seed': 1, 'batch_size': 64, 'lr': 2e-5, 'n_epochs': 5,  'max_len': 64, 'early_stopping_patience': 3},\n",
    "#     {'seed': 1, 'batch_size': 64, 'lr': 5e-5, 'n_epochs': 5, 'max_len': 64, 'early_stopping_patience': 3},\n",
    "]\n",
    "data_saved_path=\"2_stage_models_roberta_large_in_both_state\"\n",
    "for i, lang in enumerate(lan):\n",
    "    # p_directory = f\"2_stage_models_{lang}/XLM_roberta_64_2e-5_seed_1/\"\n",
    "    lang_directory = f\"{lang}/XLM_roberta_64_2e-5_seed_1/\"\n",
    "    p_directory=os.path.join(data_saved_path, lang_directory)\n",
    "    \n",
    "\n",
    "# Start MLflow run\n",
    "    # model = AutoModelForSequenceClassification.from_pretrained(roberta_version,num_labels=1)\n",
    "    # model.train().to(device)\n",
    "    with mlflow.start_run(run_name=f\"1_stage_fine_tuning_Xlm_roberta_large_monolanguage {lang}\") as run:\n",
    "        # for param, value in hyperparams.items():\n",
    "        #     mlflow.log_param(param, value)\n",
    "        torch.manual_seed(seed)\n",
    "        # model = XLMRobertaForSequenceClassification.from_pretrained(roberta_version,num_labels=1,ignore_mismatched_sizes=True)\n",
    "        model = XLMRobertaForSequenceClassification.from_pretrained(model_checkpoint_path)\n",
    "        model.train().to(device)\n",
    "        optimizer = torch.optim.AdamW(model.parameters(), lr=2e-5)\n",
    "        num_training_steps = (n_epochs * len(train_data))/16\n",
    "        lr_scheduler = get_scheduler(name=\"linear\", optimizer=optimizer, num_warmup_steps=100, num_training_steps=num_training_steps)\n",
    "        # lr_scheduler = torch.optim.lr_scheduler.StepLR(optimizer, step_size=1, gamma=0.9)  # You can adjust the scheduler as needed\n",
    "        # iterate through the data 'n_epochs' times\n",
    "        train_accuracy_list = []\n",
    "        valid_accuracy_list = []\n",
    "        error=0\n",
    "        for epoch in tqdmn(range(n_epochs)):\n",
    "            count=0\n",
    "            print(\"epoch\", epoch)\n",
    "            directory=p_directory+\"epoch_\"+str(epoch)\n",
    "            print(\"\\n\")\n",
    "            print(directory)\n",
    "            #model = BertForTokenClassification.from_pretrained(directory)\n",
    "            #model.train().to(device)\n",
    "            current_loss = 0\n",
    "            total_loss=0\n",
    "            # iterate through each batch of t    he train data\n",
    "            k=0\n",
    "            model.train().to(device)          \n",
    "            train_predictions=[]\n",
    "            for i, batch in enumerate(tqdmn(train_dataloader[lang])):\n",
    "                batch = { k: v.to(device) for k, v in batch.items()}\n",
    "                # print(batch['input_ids'])\n",
    "                count+=1\n",
    "                outputs=model(**batch)\n",
    "                # try:\n",
    "                #     outputs = model(**batch)\n",
    "                # except:\n",
    "                #     error=error+1\n",
    "                #     continue\n",
    "                loss =outputs.loss\n",
    "                logits=outputs.logits\n",
    "                loss.backward()\n",
    "                # predictions = torch.argmax(logits, dim=1)\n",
    "                predictions=logits.cpu().detach()\n",
    "                # print(\"predictions\", predictions)\n",
    "                train_predictions.extend(list(predictions))\n",
    "                current_loss += loss.item()\n",
    "                if i % 4 == 0 and i > 0:       # #  # #       #if i % 8 == 0 and i > 0:\n",
    "                    # update the model using the optimizer\n",
    "                    optimizer.step()\n",
    "                    lr_scheduler.step()\n",
    "                    # once we update the model we set the gradients to zero\n",
    "                    optimizer.zero_grad()\n",
    "                    # store the loss value for visualization\n",
    "                    train_loss.append(current_loss/16)\n",
    "                    total_loss=total_loss + current_loss/64\"]\n",
    "                    current_loss = 0\n",
    "                # update the model one l2064469413403458ast time for this epoch\n",
    "            optimizer.step()\n",
    "            lr_scheduler.step()\n",
    "            optimizer.zero_grad()\n",
    "            # model.save_pretrained(directory)\n",
    "            print(directory + ' files saved')\n",
    "            print(\"error:\", error)\n",
    "            print('total_loss',total_loss)\n",
    "            train_labels = train_pdf[lang][\"Score\"].values # Get your actual training labels\n",
    "            # print(train_predictions)\n",
    "            # print('**********')\n",
    "            # print(train_labels)\n",
    "            # train_predictions_clean = [item[0] for item in train_predictions]\n",
    "            # print(\"train_predictions\", train_predictions_clean)\n",
    "            # train_final_predictions=[value.item() for value in train_predictions_clean]\n",
    "            # print(\"train_final_predictions\", train_final_predictions)\n",
    "            print('*********')\n",
    "            # print(train_final_predictions)\n",
    "            # print(train_labels)\n",
    "            # train_accuracy = round(pearsonr(train_final_predictions,train_labels)[0],2)\n",
    "            # print(\"train_accuracy\", train_accuracy)\n",
    "            # train_accuracy_list.append(train_accuracy)\n",
    "         # Save the model with hyperparameter details in the directory\n",
    "            model_directory = os.path.join(p_directory, f\"epoch_{epoch}\")\n",
    "            os.makedirs(model_directory, exist_ok=True)\n",
    "            model.save_pretrained(model_directory)\n",
    "            # mlflow.pytorch.save_model(model, model_directory)\n",
    "            mlflow.log_artifact(local_path=\"Track A/\"+lang+\"/\"+lang+\"_train.csv\", artifact_path=\"datasets\")\n",
    "            mlflow.log_metric(\"train_loss\", total_loss)\n",
    "            # mlflow.log_metric(\"train_accuracy\", train_accuracy)\n",
    "        #     validation####################################\n",
    "            model.eval().to(device)\n",
    "            valid_loss = []\n",
    "            valid_current_loss = 0\n",
    "            valid_total_loss=0\n",
    "            # iterate through each batch of t    he train data\n",
    "            valid_predictions=[]\n",
    "            for i, batch in enumerate(tqdmn(valid_dataloader[lang])):\n",
    "                #print(batch)\n",
    "                batch = { k: v.to(device) for k, v in batch.items()}\n",
    "                #print(batch[\"labels\"].shape)\n",
    "                #print(batch[\"input_ids\"].shape)\n",
    "                # send 'input_ids', 'attention_mask' and 'labels' to the model\n",
    "                outputs = model(**batch)\n",
    "# pandas==2.1.4\n",
    "                # print(outputs)\n",
    "                loss=outputs.loss\n",
    "                logits = outputs.logits\n",
    "                predictions=logits.cpu()\n",
    "                # predictions = torch.argmax(logits, dim=1)\n",
    "                valid_predictions.extend(predictions.detach())\n",
    "                valid_current_loss += loss.item()\n",
    "                #print(valid_current_loss)\n",
    "                valid_loss.append(valid_current_loss/batch_size)\n",
    "                valid_total_loss=valid_total_loss + valid_current_loss/batch_size\n",
    "                valid_current_loss = 0\n",
    "                    #print(\"valid_total_loss \",valid_total_loss)\n",
    "            print(\"valid_total_loss \",valid_total_loss)\n",
    "            valid_labels = dev_pdf[lang][\"Score\"].values  # Get your actual validation labels\n",
    "            dev_predictions_clean = [item[0] for item in valid_predictions]\n",
    "            dev_predictions_final=[value.item() for value in dev_predictions_clean]\n",
    "            valid_accuracy =  round(pearsonr(dev_predictions_final,valid_labels)[0],2)\n",
    "            print(\"valid_accuracy\", valid_accuracy)\n",
    "            valid_accuracy_list.append(valid_accuracy)\n",
    "            mlflow.log_artifact(local_path=\"Track A/\"+lang+\"/\"+lang+\"_dev.csv\", artifact_path=\"datasets\")\n",
    "            mlflow.log_metric(\"valid_total_loss \",valid_total_loss)\n",
    "            mlflow.log_metric(\"valid_accuracy\", valid_accuracy)\n",
    "             # Log final accuracies for the last epoch\n",
    "            # mlflow.log_metric(\"final_train_accuracy\", train_accuracy_list[-1])\n",
    "            mlflow.log_metric(\"final_valid_accuracy\", valid_accuracy_list[-1])\n",
    "            # valid_loss_epoch.append(valid_total_loss)\n",
    "            if valid_total_loss < valid_min_loss:\n",
    "                valid_min_loss = valid_total_loss\n",
    "        #         model.save_pretrained(directory+\"best_e_\"+str(epoch))\n",
    "            if previous_total_valid_loss < valid_total_loss:\n",
    "                early_stoping_flag += 1\n",
    "            else:\n",
    "                early_stoping_flag=0\n",
    "            previous_total_valid_loss = valid_total_loss\n",
    "            if early_stoping_flag == early_stoping_patience:\n",
    "                print(\"early_stoping occure\")\n",
    "                break\n",
    "print('All files saved')\n",
    "\n",
    "client = MlflowClient()\n",
    "best_run = client.search_runs(order_by=[\"metrics.valid_accuracy desc\"]).iloc[0]\n",
    "best_model_uri = best_run.info.artifact_uri + \"/models\"\n",
    "print(f\"The best model is stored at: {best_model_uri}\")\n",
    "\n",
    "# Command to see all the metrics on MLflow UI\n",
    "print(f\"Visit MLflow UI: {mlflow.get_tracking_uri()}\")"
   ]
  },
  {
   "cell_type": "raw",
   "id": "235687d3-ae87-4fab-b8b9-efb985dcf768",
   "metadata": {},
   "source": [
    "len(test_dataloader['amh'])"
   ]
  },
  {
   "cell_type": "code",
   "execution_count": 116,
   "id": "05927c47-5e2a-40f7-bd37-b52b09150daa",
   "metadata": {},
   "outputs": [
    {
     "data": {
      "text/plain": [
       "6"
      ]
     },
     "execution_count": 116,
     "metadata": {},
     "output_type": "execute_result"
    }
   ],
   "source": [
    "len(test_dataloader['amh'])"
   ]
  },
  {
   "cell_type": "code",
   "execution_count": 154,
   "id": "c4c6c6b2",
   "metadata": {
    "colab": {
     "base_uri": "https://localhost:8080/",
     "height": 1000,
     "referenced_widgets": [
      "e8a35a72a9954cdab4c3a1c37325e413",
      "3938001fd147401d926f9912b9e32c99",
      "8829ffe8efb94c568f3c2fa8e3cf7109",
      "974c09d4a0b04e848cfc26615efebf3d",
      "85ceeee910ed4064a852b98c535aa912",
      "8d160cbc826c47cbbd1b3cc50cfd51c9",
      "f2a0e43ddb1748a08fe0e6ef529e7387",
      "6f2b0618d42a43f289c33abe0d0d1711",
      "1e9674e2bbac43e994e418f1c795e598",
      "3912343fb6754143b7a2d6ce15b7afdd",
      "e23dbe6bff164ccb877ac3000908aa51",
      "8f83d90225fa4351a02f079fc4bb53ee",
      "8bfbac6b155b4f759037d03d1476da64",
      "85b010930bac4157860d12b0112bc0c4",
      "f17f86dd0be74fbda0eab61d4fb0e856",
      "4174cce408c64c498583c8844d2cad73",
      "1afe5528e8384cdba00681275be35fc4",
      "b6105b7e90ca4023a70afcdd014de393",
      "179dbbe2837c451a839e404eec3f3263",
      "832224e793fc42879d05288a42837e86",
      "75be71c431d34d509114c99f91d57335",
      "32516524b51c496faf9b774addcd4899",
      "8c3472584d644f1eaa16a0d47c2fa02b",
      "797d065d93324bd480ddfbc422dd9c47",
      "4b3c540ff411482d80b0aa4d7a5bc672",
      "6756a0a727b944758598448a436297d8",
      "f1f159b01e3d496a80c0d5c92730eebe",
      "a61550ad08404f7db5b04df4b3e3b913",
      "f782f201aef943ee9b00d39e9ba7e600",
      "85dd3cbb2b4a4d6d9612aac6cfe490ce",
      "4fdb9a0f2b03449a8775d154beabe33e",
      "7ae4965f72894e70a055803750a1fab3",
      "de0ee2dc2b4b46e18b8035ed1c207d0b",
      "371058cfec3247ce8989642914c5d0ee",
      "52c38677fac0428ea9a4052942ade897",
      "c2dedcc869424078a10889d330cf2f18",
      "c13460d668c04e0aa865683d21a0c857",
      "d6a5de039188452699eab8abb064559c",
      "2b72b3f8c5a44735ba9f853b4a34bf81",
      "853a5982dc71456994bbaa78bf4d37c1",
      "cea3f8e7e26b4181bc10a87192275f35",
      "8b141a9497844764b757c65de0d41f12",
      "2e088fb186ad48b0ad3a0789db55a29c",
      "74030796b6654ca7860e56fef2c71cb0",
      "ac8ce8ec89844562b98a88604aa26ebe",
      "d0745669634f4357ac4a84b895d029d2",
      "5ca715115a6b44e8912068b4037a5bf9",
      "3ad9133534f7476c8ec59f6f7c5bf78c",
      "a9849f40935c48de94b3e9b9ef6ec927",
      "28d6d10c5e554ee0a3b103959531e33b",
      "841b94c4879e462b96fa1c820cc13f88",
      "b75c4c78bd1a4c3c874e58b95f68a483",
      "46ce2a9214154170aba54726ea6dcc69",
      "09631e4e081544eb82581483a6f666da",
      "cc9bb2e393e54737bb08acf670558279",
      "8be06a60660446fdad211b275f039160",
      "bb2b24e7dfaf4442a8b948401be3d736",
      "4539cec777e24639b7c7662ef1155e11",
      "0ea6db5f7ba14b16b110c06c35691105",
      "ac321d1e92624af5b3c35d5db1c9eee3",
      "17459f6962774d9b8459b60799846cf5",
      "f3b2b9f895b342468f1182ef42cf82be",
      "55ac9ab3f22d4c0389448262c8a68c88",
      "fe39c9365acc4ed7a6642349a4fcfaa3",
      "31ea1a50a0324f6b9dad3961e237ee35",
      "41b21fd9995a4d6b9182bc9437378c3f",
      "e7efe0edaf4e4a45b57ce802df8ca17f",
      "860377ec4a7141629a2826bd1f174c50",
      "5850f29af1534b06aea934120e6cfe10",
      "fde2097b960e438484ccc41b5b30e8f3",
      "4afe01929d3a496b9a86901c150bcfe5",
      "8bea81c876884036b07a6f3672cbd43b",
      "7bf98cdb2bf04cefba036b96eb3560bb",
      "1276bae116414f6380f676564a1be55c",
      "07c381494a8a43799d17dd868a533e8b",
      "fc505c92d1cd423e8a3af546745f0c51",
      "5cb030f5e9d7477083a27cd2a7947962",
      "90fdb781a85f4ccf847260d056a6abe7",
      "ad2fbcb20fd44e2fa7a972060c086fe1",
      "ea00578157794dfdb624a66c22bf0234",
      "4cb41ad561b04174821d5d0395f9f246",
      "84f7d482961245198c533951f8305a33",
      "289ab6efae4747dba561658fe0cd59a1",
      "b452c0a43b7a423b866e6d2289d2ea46",
      "6968ba98dbdf41539f0a03868b46ac40",
      "cfad5b68f88749f7939c2c6bef06e25b",
      "7c721b8a423e4c42b3707c71f3f450fa",
      "f74761749a7f4ae88c0e2223a2c81890",
      "e6eb4d93742b49eea538102acd7e4ed6",
      "79fdcb34a8e44c17a0fb486d99e0b547",
      "888d2bf741d1455eba61b611713adeed",
      "f7a72dea67af4fcf9268e289dbc688ab",
      "f153c5d6314646c88bfe62e6ef017381",
      "144eb798037047f187f25772192cfa29",
      "36d61d19fb3a4ea88f07735bc282acb0",
      "e54923107720481aa4a5c442b7ab82f9",
      "cb7b051a06b14f9d8386727fe1c7f092",
      "cb6e41e8eb6642b082c1f0d77028aa78",
      "ee0ae4a0f2c4439e97498330f2ed9cb7",
      "571ae4178bfa4eb29816b5813965cf31",
      "dc5eb0f78a344600b0facab6278c89d6",
      "c79a21ba9f444c1ba15f97ea7a271e4f",
      "662290321802492d8431db04976969a1",
      "7711ef263f5b4667b6d12d84a7af5ee7",
      "8b1aa15f6d5a4984927651fcdcb48abd",
      "0a42a8c1ff544d998de5a65add878912",
      "83aa744a8973475ab411bf8ae2dfdecf",
      "6a6add94f6c947e996cbac6fde5549ec",
      "5d93eda3103e4e3b978fcf800764e808",
      "ff928a8da8274cad9f080493b0c6672c",
      "91f44bec36fb41308a04f74730788804",
      "5ded397ad6454c5fabada79e0577a5b9",
      "661b86c2c6894488b9d3a4f0c38e2c86",
      "80b6e4a95e9746db84f0eef903180876",
      "b6ae7808f814455c88776b35cfa988dd",
      "014ff21cb7e7489992671fd812415543",
      "9ec8a465548844c1a76e80ec4f1d839b",
      "6ab438e57e7942ab8ea6de829e4e2fb6",
      "20d7bfdd1d7b43b78a486bc5f304b4eb",
      "9e36d738c79a423f96ea721a1cef3436",
      "8688adf0f900448c9fea157901257265",
      "ca41dd1f6ef14e8fb7bb395f6b084a11",
      "64bdc4442eb84b75821b2e6b6aedb755",
      "be1d423fe1204977a29df56f28b06c43",
      "e07d0ce261a643f2a7e0aa0a5166f2f1",
      "c46e93195ed647c585d6cfc77718da93",
      "f400be002cc946fda46739392abaabff",
      "0bef03e0763f4aac887bb6bbb3302b24",
      "bea0a458e9494b42b866377310ce1808",
      "3f787f8a9a7a4ad29c6bdff72181232d",
      "52a70595693d447bb6b97fb562f2a36f",
      "914dd349630e4ad8ab9c39c3508ab287",
      "25d48d15d6304b5bb701a5a54fc1a6e0",
      "cd7f356c30c2435b8e91e58dafef6674",
      "75adecab43324b8f8d5397581dcbd010",
      "f76a96b94ab440739d757b8df778dbe2",
      "1d9243d707884dd5bb2b8b55b02dfec1",
      "b6e2bbf166a84b5f8c217d6abf65303f",
      "bdfd908c4d6645ae8248c332bd8106c2",
      "605324e46c11450ca9ce138557fbc768",
      "373ee3a463ab4749a0d97af2394ae2e3",
      "c6d9968921204357a68aa703cff4bd6b",
      "1ec4d56af08e46b184b71159a6c444ad",
      "75eeed5e22474b869dc4432d98617fd6",
      "143d8a250a2e4550b1c5b1978d5a2518",
      "9009b3b277fb47c6a48e2c29dd025cf9",
      "abbe481e375842c0a95ab8816ae90694",
      "c545f32700464f178a917d3bad1b395b",
      "4949d7cfe6124f918d659d789a1cefa7",
      "764ff446b3094918b1822fdb028b2709",
      "31d9b8c85e174f1b8204bf475980345a",
      "5821ecea41404fdf92474adab25dd576",
      "20cacbeebfac41c5806161041094200c",
      "8e151b5ef1754e48bb82270e103ffd3e"
     ]
    },
    "id": "c4c6c6b2",
    "outputId": "f11009e1-7d97-467b-8c84-3d9523c15737"
   },
   "outputs": [
    {
     "name": "stdout",
     "output_type": "stream",
     "text": [
      "training start\n",
      "0\n",
      "/home/naive123/nlp/Sumit/Textural_Relateness/Semantic_Relatedness_SemEval2024/Track A/models/XLM_2e5_16_seed7/epoch_0\n",
      "/home/naive123/nlp/Sumit/Textural_Relateness/Semantic_Relatedness_SemEval2024/Track A/models/XLM_2e5_16_seed7/epoch_0 files saved\n",
      "total_loss 0.765174181186012\n"
     ]
    },
    {
     "name": "stderr",
     "output_type": "stream",
     "text": [
      "100%|███████████████████████████████████████████| 24/24 [00:02<00:00, 10.60it/s]\n"
     ]
    },
    {
     "name": "stdout",
     "output_type": "stream",
     "text": [
      "valid_total_loss  0.020648444653488696\n",
      "1\n",
      "/home/naive123/nlp/Sumit/Textural_Relateness/Semantic_Relatedness_SemEval2024/Track A/models/XLM_2e5_16_seed7/epoch_1\n",
      "/home/naive123/nlp/Sumit/Textural_Relateness/Semantic_Relatedness_SemEval2024/Track A/models/XLM_2e5_16_seed7/epoch_1 files saved\n",
      "total_loss 0.24859311032196274\n"
     ]
    },
    {
     "name": "stderr",
     "output_type": "stream",
     "text": [
      "100%|███████████████████████████████████████████| 24/24 [00:02<00:00, 10.56it/s]\n"
     ]
    },
    {
     "name": "stdout",
     "output_type": "stream",
     "text": [
      "valid_total_loss  0.016335177060682327\n",
      "2\n",
      "/home/naive123/nlp/Sumit/Textural_Relateness/Semantic_Relatedness_SemEval2024/Track A/models/XLM_2e5_16_seed7/epoch_2\n",
      "/home/naive123/nlp/Sumit/Textural_Relateness/Semantic_Relatedness_SemEval2024/Track A/models/XLM_2e5_16_seed7/epoch_2 files saved\n",
      "total_loss 0.1621586470209877\n"
     ]
    },
    {
     "name": "stderr",
     "output_type": "stream",
     "text": [
      "100%|███████████████████████████████████████████| 24/24 [00:02<00:00, 10.55it/s]\n"
     ]
    },
    {
     "name": "stdout",
     "output_type": "stream",
     "text": [
      "valid_total_loss  0.021087896020617336\n",
      "3\n",
      "/home/naive123/nlp/Sumit/Textural_Relateness/Semantic_Relatedness_SemEval2024/Track A/models/XLM_2e5_16_seed7/epoch_3\n",
      "/home/naive123/nlp/Sumit/Textural_Relateness/Semantic_Relatedness_SemEval2024/Track A/models/XLM_2e5_16_seed7/epoch_3 files saved\n",
      "total_loss 0.10930947131964786\n"
     ]
    },
    {
     "name": "stderr",
     "output_type": "stream",
     "text": [
      "100%|███████████████████████████████████████████| 24/24 [00:02<00:00, 10.54it/s]\n"
     ]
    },
    {
     "name": "stdout",
     "output_type": "stream",
     "text": [
      "valid_total_loss  0.021607325441436842\n",
      "4\n",
      "/home/naive123/nlp/Sumit/Textural_Relateness/Semantic_Relatedness_SemEval2024/Track A/models/XLM_2e5_16_seed7/epoch_4\n",
      "/home/naive123/nlp/Sumit/Textural_Relateness/Semantic_Relatedness_SemEval2024/Track A/models/XLM_2e5_16_seed7/epoch_4 files saved\n",
      "total_loss 0.09641751476920035\n"
     ]
    },
    {
     "name": "stderr",
     "output_type": "stream",
     "text": [
      "100%|███████████████████████████████████████████| 24/24 [00:02<00:00, 10.54it/s]\n"
     ]
    },
    {
     "name": "stdout",
     "output_type": "stream",
     "text": [
      "valid_total_loss  0.021607325441436842\n",
      "5\n",
      "/home/naive123/nlp/Sumit/Textural_Relateness/Semantic_Relatedness_SemEval2024/Track A/models/XLM_2e5_16_seed7/epoch_5\n",
      "/home/naive123/nlp/Sumit/Textural_Relateness/Semantic_Relatedness_SemEval2024/Track A/models/XLM_2e5_16_seed7/epoch_5 files saved\n",
      "total_loss 0.09641751476920035\n"
     ]
    },
    {
     "name": "stderr",
     "output_type": "stream",
     "text": [
      "100%|███████████████████████████████████████████| 24/24 [00:02<00:00, 10.54it/s]\n"
     ]
    },
    {
     "name": "stdout",
     "output_type": "stream",
     "text": [
      "valid_total_loss  0.021607325441436842\n",
      "6\n",
      "/home/naive123/nlp/Sumit/Textural_Relateness/Semantic_Relatedness_SemEval2024/Track A/models/XLM_2e5_16_seed7/epoch_6\n",
      "/home/naive123/nlp/Sumit/Textural_Relateness/Semantic_Relatedness_SemEval2024/Track A/models/XLM_2e5_16_seed7/epoch_6 files saved\n",
      "total_loss 0.09641751476920035\n"
     ]
    },
    {
     "name": "stderr",
     "output_type": "stream",
     "text": [
      "100%|███████████████████████████████████████████| 24/24 [00:02<00:00, 10.56it/s]\n"
     ]
    },
    {
     "name": "stdout",
     "output_type": "stream",
     "text": [
      "valid_total_loss  0.021607325441436842\n",
      "7\n",
      "/home/naive123/nlp/Sumit/Textural_Relateness/Semantic_Relatedness_SemEval2024/Track A/models/XLM_2e5_16_seed7/epoch_7\n",
      "/home/naive123/nlp/Sumit/Textural_Relateness/Semantic_Relatedness_SemEval2024/Track A/models/XLM_2e5_16_seed7/epoch_7 files saved\n",
      "total_loss 0.09641751476920035\n"
     ]
    },
    {
     "name": "stderr",
     "output_type": "stream",
     "text": [
      "100%|███████████████████████████████████████████| 24/24 [00:02<00:00, 10.53it/s]\n"
     ]
    },
    {
     "name": "stdout",
     "output_type": "stream",
     "text": [
      "valid_total_loss  0.021607325441436842\n",
      "8\n",
      "/home/naive123/nlp/Sumit/Textural_Relateness/Semantic_Relatedness_SemEval2024/Track A/models/XLM_2e5_16_seed7/epoch_8\n",
      "/home/naive123/nlp/Sumit/Textural_Relateness/Semantic_Relatedness_SemEval2024/Track A/models/XLM_2e5_16_seed7/epoch_8 files saved\n",
      "total_loss 0.09641751476920035\n"
     ]
    },
    {
     "name": "stderr",
     "output_type": "stream",
     "text": [
      "100%|███████████████████████████████████████████| 24/24 [00:02<00:00, 10.55it/s]\n"
     ]
    },
    {
     "name": "stdout",
     "output_type": "stream",
     "text": [
      "valid_total_loss  0.021607325441436842\n",
      "9\n",
      "/home/naive123/nlp/Sumit/Textural_Relateness/Semantic_Relatedness_SemEval2024/Track A/models/XLM_2e5_16_seed7/epoch_9\n",
      "/home/naive123/nlp/Sumit/Textural_Relateness/Semantic_Relatedness_SemEval2024/Track A/models/XLM_2e5_16_seed7/epoch_9 files saved\n",
      "total_loss 0.09641751476920035\n"
     ]
    },
    {
     "name": "stderr",
     "output_type": "stream",
     "text": [
      "100%|███████████████████████████████████████████| 24/24 [00:02<00:00, 10.53it/s]\n"
     ]
    },
    {
     "name": "stdout",
     "output_type": "stream",
     "text": [
      "valid_total_loss  0.021607325441436842\n",
      "10\n",
      "/home/naive123/nlp/Sumit/Textural_Relateness/Semantic_Relatedness_SemEval2024/Track A/models/XLM_2e5_16_seed7/epoch_10\n",
      "/home/naive123/nlp/Sumit/Textural_Relateness/Semantic_Relatedness_SemEval2024/Track A/models/XLM_2e5_16_seed7/epoch_10 files saved\n",
      "total_loss 0.09641751476920035\n"
     ]
    },
    {
     "name": "stderr",
     "output_type": "stream",
     "text": [
      "100%|███████████████████████████████████████████| 24/24 [00:02<00:00, 10.54it/s]\n"
     ]
    },
    {
     "name": "stdout",
     "output_type": "stream",
     "text": [
      "valid_total_loss  0.021607325441436842\n",
      "11\n",
      "/home/naive123/nlp/Sumit/Textural_Relateness/Semantic_Relatedness_SemEval2024/Track A/models/XLM_2e5_16_seed7/epoch_11\n",
      "/home/naive123/nlp/Sumit/Textural_Relateness/Semantic_Relatedness_SemEval2024/Track A/models/XLM_2e5_16_seed7/epoch_11 files saved\n",
      "total_loss 0.09641751476920035\n"
     ]
    },
    {
     "name": "stderr",
     "output_type": "stream",
     "text": [
      "100%|███████████████████████████████████████████| 24/24 [00:02<00:00, 10.56it/s]\n"
     ]
    },
    {
     "name": "stdout",
     "output_type": "stream",
     "text": [
      "valid_total_loss  0.021607325441436842\n",
      "12\n",
      "/home/naive123/nlp/Sumit/Textural_Relateness/Semantic_Relatedness_SemEval2024/Track A/models/XLM_2e5_16_seed7/epoch_12\n",
      "/home/naive123/nlp/Sumit/Textural_Relateness/Semantic_Relatedness_SemEval2024/Track A/models/XLM_2e5_16_seed7/epoch_12 files saved\n",
      "total_loss 0.09641751476920035\n"
     ]
    },
    {
     "name": "stderr",
     "output_type": "stream",
     "text": [
      "100%|███████████████████████████████████████████| 24/24 [00:02<00:00, 10.55it/s]\n"
     ]
    },
    {
     "name": "stdout",
     "output_type": "stream",
     "text": [
      "valid_total_loss  0.021607325441436842\n",
      "13\n",
      "/home/naive123/nlp/Sumit/Textural_Relateness/Semantic_Relatedness_SemEval2024/Track A/models/XLM_2e5_16_seed7/epoch_13\n",
      "/home/naive123/nlp/Sumit/Textural_Relateness/Semantic_Relatedness_SemEval2024/Track A/models/XLM_2e5_16_seed7/epoch_13 files saved\n",
      "total_loss 0.09641751476920035\n"
     ]
    },
    {
     "name": "stderr",
     "output_type": "stream",
     "text": [
      "100%|███████████████████████████████████████████| 24/24 [00:02<00:00, 10.55it/s]\n"
     ]
    },
    {
     "name": "stdout",
     "output_type": "stream",
     "text": [
      "valid_total_loss  0.021607325441436842\n",
      "14\n",
      "/home/naive123/nlp/Sumit/Textural_Relateness/Semantic_Relatedness_SemEval2024/Track A/models/XLM_2e5_16_seed7/epoch_14\n",
      "/home/naive123/nlp/Sumit/Textural_Relateness/Semantic_Relatedness_SemEval2024/Track A/models/XLM_2e5_16_seed7/epoch_14 files saved\n",
      "total_loss 0.09641751476920035\n"
     ]
    },
    {
     "name": "stderr",
     "output_type": "stream",
     "text": [
      "100%|███████████████████████████████████████████| 24/24 [00:02<00:00, 10.53it/s]"
     ]
    },
    {
     "name": "stdout",
     "output_type": "stream",
     "text": [
      "valid_total_loss  0.021607325441436842\n",
      "All files saved\n"
     ]
    },
    {
     "name": "stderr",
     "output_type": "stream",
     "text": [
      "\n"
     ]
    }
   ],
   "source": [
    "# print(\"training start\")\n",
    "# previous_total_valid_loss = sys.float_info.max\n",
    "# valid_min_loss = previous_total_valid_loss\n",
    "# early_stoping_flag=0\n",
    "\n",
    "# p_directory = \"/home/naive123/nlp/Sumit/Textural_Relateness/Semantic_Relatedness_SemEval2024/Track A/models/XLM_2e5_16_seed7/\"\n",
    "\n",
    "# # iterate through the data 'n_epochs' times\n",
    "# for epoch in range(n_epochs):\n",
    "#     print(epoch)\n",
    "#     directory=p_directory+\"epoch_\"+str(epoch)\n",
    "#     print(directory)\n",
    "\n",
    "#     #model = BertForTokenClassification.from_pretrained(directory)\n",
    "#     #model.train().to(device)\n",
    "\n",
    "#     current_loss = 0\n",
    "#     total_loss=0\n",
    "#     # iterate through each batch of t    he train data\n",
    "#     k=0\n",
    "#     for i, batch in enumerate(train_data):\n",
    "\n",
    "#         # move the batch tensors to the same device as the\n",
    "#         #print(batch)\n",
    "#         batch = { k: v.to(device) for k, v in batch.items() }\n",
    "#         # print(batch)\n",
    "\n",
    "\n",
    "#         outputs = model(**batch)\n",
    "#         # print(outputs)\n",
    "#         # print(outputs.loss)\n",
    "#         # print(outputs.logits.shape)\n",
    "#         # the outputs are of shape (loss, logits)\n",
    "#         loss =outputs.loss\n",
    "\n",
    "#         loss.backward()\n",
    "#         # NOTE: if we append `loss` (a tensor) we will force the GPU to save\n",
    "#         # the loss into its memory, potentially filling it up. To avoid this\n",
    "#         # we rather store its float value, which can be accessed through the\n",
    "#         # `.item` method\n",
    "#         current_loss += loss.item()\n",
    "\n",
    "#         if i % 4 == 0 and i > 0:       # #  # #       #if i % 8 == 0 and i > 0:\n",
    "#             # update the model using the optimizer\n",
    "#             optimizer.step()\n",
    "#             lr_scheduler.step()\n",
    "#             # once we update the model we set the gradients to zero\n",
    "#             optimizer.zero_grad()\n",
    "#             # store the loss value for visualization\n",
    "#             train_loss.append(current_loss/16)\n",
    "#             total_loss=total_loss + current_loss/64\n",
    "#             current_loss = 0\n",
    "\n",
    "\n",
    "#         # update the model one last time for this epoch\n",
    "#     optimizer.step()\n",
    "#     lr_scheduler.step()\n",
    "#     optimizer.zero_grad()\n",
    "#     model.save_pretrained(directory)columns\n",
    "#     print(directory + ' files saved')\n",
    "#     print('total_loss',total_loss)\n",
    "\n",
    "\n",
    "# #     validation###########################################################\n",
    "\n",
    "#     model.eval().to(device)\n",
    "#     valid_loss = []\n",
    "#     valid_current_loss = 0\n",
    "#     valid_total_loss=0\n",
    "\n",
    "#     # iterate through each batch of t    he train data\n",
    "#     for i, batch in enumerate(tqdm(valid_data)):\n",
    "\n",
    "#         #print(batch)\n",
    "#         batch = { k: v.to(device) for k, v in batch.items() }\n",
    "\n",
    "#         #print(batch[\"labels\"].shape)\n",
    "#         #print(batch[\"input_ids\"].shape)\n",
    "#         # send 'input_ids', 'attention_mask' and 'labels' to the model\n",
    "#         outputs = model(**batch)\n",
    "#         # print(outputs)\n",
    "#         loss=outputs.loss\n",
    "\n",
    "\n",
    "#         valid_current_loss += loss.item()\n",
    "#         #print(valid_current_loss)\n",
    "\n",
    "\n",
    "\n",
    "#         valid_loss.append(valid_current_loss/batch_size)\n",
    "#         valid_total_loss=valid_total_loss + valid_current_loss/batch_size\n",
    "#         valid_current_loss = 0\n",
    "#             #print(\"valid_total_loss \",valid_total_loss)\n",
    "\n",
    "#     print(\"valid_total_loss \",valid_total_loss)\n",
    "#     # valid_loss_epoch.append(valid_total_loss)\n",
    "#     if valid_total_loss < valid_min_loss:\n",
    "#         valid_min_loss = valid_total_loss\n",
    "# #         model.save_pretrained(directory+\"best_e_\"+str(epoch))\n",
    "\n",
    "\n",
    "#     if previous_total_valid_loss < valid_total_loss:\n",
    "#         early_stoping_flag += 1\n",
    "#     else:\n",
    "#         early_stoping_flag=0\n",
    "#     previous_total_valid_loss = valid_total_loss\n",
    "\n",
    "\n",
    "#     if early_stoping_flag == early_stoping_patience:\n",
    "#         print(\"early_stoping occure\")\n",
    "#         break\n",
    "\n",
    "\n",
    "\n",
    "# #  target_names = ['O', 'B-PERSON', 'I-PERSON', 'B-LOCATION', 'I-LOCATION', 'B-ORGANIZATION', 'I-ORGANIZATION', 'B-FESTIVAL', 'I-FESTIVAL', 'B-GAME', 'I-GAME', 'B-LANGUAGE', 'I-LANGUAGE', 'B-LITERATURE', 'I-LITERATURE', 'B-MISC', 'I-MISC', 'B-NUMEX', 'I-NUMEX', 'B-RELIGION', 'I-RELIGION', 'B-TIMEX', 'I-TIMEX']\n",
    "\n",
    "# # save vocabulary of the tokenizer\n",
    "# #tokenizer.save_vocabulary(directory)\n",
    "# # save the model weights and its configuration file\n",
    "\n",
    "# print('All files saved')\n",
    "\n"
   ]
  },
  {
   "cell_type": "code",
   "execution_count": null,
   "id": "2b9fb3ec",
   "metadata": {
    "id": "2b9fb3ec"
   },
   "outputs": [],
   "source": [
    "if not os.path.exists(zip_directory):\n",
    "        os.makedirs(zip_directory)\n",
    "# best_model_path=\"/content/drive/MyDrive/textual_relatedness/models/epoch_3\"#81.70\n",
    "best_model_path=\"/content/drive/MyDrive/textual_relatedness/models/epoch_5\"\n",
    "\n",
    "\n",
    "num_labels = 1\n",
    "model_max_length = max_len\n",
    "batch_size= 16\n",
    "min_batch_size=4\n",
    "batch_size_c = batch_size / min_batch_size"
   ]
  },
  {
   "cell_type": "code",
   "execution_count": 113,
   "id": "8f35cb57",
   "metadata": {
    "id": "8f35cb57"
   },
   "outputs": [],
   "source": [
    "\n",
    "# # Prediction\n",
    "# def  prediction(best_model_path, eval_data):\n",
    "\n",
    "\n",
    "#     predicted=[]\n",
    "#     tokanised_exam=columns\n",
    "#     true_labels=[]\n",
    "\n",
    "#     confusion = torch.zeros(num_labels, num_labels)\n",
    "#     predicted_for_classification_report=[]\n",
    "\n",
    "#     ##################################################\n",
    "#     #load best model\n",
    "\n",
    "#     # for i, lang in enumerate(test_lan)\n",
    "#     print(best_model_path)\n",
    "\n",
    "#     model = RobertaForSequenceClassification.from_pretrained(best_model_path)\n",
    "\n",
    "\n",
    "\n",
    "#     model = model.eval().to(device)\n",
    "#     print(\"model device\")\n",
    "#     # batch the train data so that each batch contains 4 examples (using 'batch_size')\n",
    "#     #test_data = torch.utils.data.DataLoader(test_dataset, batch_size=16)\n",
    "\n",
    "\n",
    "\n",
    "\n",
    "\n",
    "#     predicted=[]\n",
    "#     true_labels=[]\n",
    "\n",
    "\n",
    "#     predicted_for_classification_report=[]\n",
    "#     # iterate through each batch of t    he train data\n",
    "#     for i, batch in enumerate(tqdmn(test_dataloader)):\n",
    "    \n",
    "\n",
    "#         with torch.no_grad():\n",
    "# #             print(batch)\n",
    "#             batch = { k: v.to(device) for k, v in batch.items() }\n",
    "#             # batch_labels = batch.pop(\"labels\")\n",
    "#             outputs = model(**batch)\n",
    "\n",
    "#             logits = outputs.logits\n",
    "#             #print(logits.shape)\n",
    "\n",
    "\n",
    "\n",
    "#         # get the predicted values\n",
    "#         pred_values =logits.tolist()\n",
    "#         #print(pred_values)\n",
    "#         # true_labels += tags[idx][1:length-1].tolist()\n",
    "#         # true_labels_list.append(tags[idx][:length].tolist())\n",
    "\n",
    "#         #pred_values = pred_values.tolist()\n",
    "\n",
    "#         # print(pred_values)\n",
    "#         flattened_pred_values = [item for sublist in pred_values for item in sublist]\n",
    "\n",
    "#         print(flattened_pred_values)\n",
    "#         predicted +=flattened_pred_values\n",
    "\n",
    "#     # print(Counter(predicted))\n",
    "\n",
    "#     return predicted #here predicred is flat\n"
   ]
  },
  {
   "cell_type": "code",
   "execution_count": 176,
   "id": "b0401757-88c5-4ef6-a90e-82d8261a94b1",
   "metadata": {},
   "outputs": [
    {
     "name": "stdout",
     "output_type": "stream",
     "text": [
      "/home/naive123/nlp/Sumit/Textural_Relateness/Semantic_Relatedness_SemEval2024/2_stage_models/amh/XLM_roberta_64_2e-5_seed_1/epoch_0\n",
      "/home/naive123/nlp/Sumit/Textural_Relateness/Semantic_Relatedness_SemEval2024/2_stage_models/arq/XLM_roberta_64_2e-5_seed_1/epoch_4\n",
      "/home/naive123/nlp/Sumit/Textural_Relateness/Semantic_Relatedness_SemEval2024/2_stage_models/ary/XLM_roberta_64_2e-5_seed_1/epoch_0\n",
      "/home/naive123/nlp/Sumit/Textural_Relateness/Semantic_Relatedness_SemEval2024/2_stage_models/eng/XLM_roberta_64_2e-5_seed_1/epoch_1\n",
      "/home/naive123/nlp/Sumit/Textural_Relateness/Semantic_Relatedness_SemEval2024/2_stage_models/esp/XLM_roberta_64_2e-5_seed_1/epoch_2\n",
      "/home/naive123/nlp/Sumit/Textural_Relateness/Semantic_Relatedness_SemEval2024/2_stage_models/hau/XLM_roberta_64_2e-5_seed_1/epoch_1\n",
      "/home/naive123/nlp/Sumit/Textural_Relateness/Semantic_Relatedness_SemEval2024/2_stage_models/kin/XLM_roberta_64_2e-5_seed_1/epoch_2\n",
      "/home/naive123/nlp/Sumit/Textural_Relateness/Semantic_Relatedness_SemEval2024/2_stage_models/mar/XLM_roberta_64_2e-5_seed_1/epoch_0\n",
      "/home/naive123/nlp/Sumit/Textural_Relateness/Semantic_Relatedness_SemEval2024/2_stage_models/tel/XLM_roberta_64_2e-5_seed_1/epoch_3\n"
     ]
    }
   ],
   "source": [
    "for lang in test_lan:\n",
    "    print(best_models[lang])"
   ]
  },
  {
   "cell_type": "code",
   "execution_count": 115,
   "id": "4b35cb4d-e4ec-44c9-89a7-c48d9ebb19ac",
   "metadata": {},
   "outputs": [
    {
     "data": {
      "text/html": [
       "<div>\n",
       "<style scoped>\n",
       "    .dataframe tbody tr th:only-of-type {\n",
       "        vertical-align: middle;\n",
       "    }\n",
       "\n",
       "    .dataframe tbody tr th {\n",
       "        vertical-align: top;\n",
       "    }\n",
       "\n",
       "    .dataframe thead th {\n",
       "        text-align: right;\n",
       "    }\n",
       "</style>\n",
       "<table border=\"1\" class=\"dataframe\">\n",
       "  <thead>\n",
       "    <tr style=\"text-align: right;\">\n",
       "      <th></th>\n",
       "      <th>PairID</th>\n",
       "      <th>Text</th>\n",
       "      <th>Split_Text</th>\n",
       "    </tr>\n",
       "  </thead>\n",
       "  <tbody>\n",
       "    <tr>\n",
       "      <th>0</th>\n",
       "      <td>Pair_ID_amh_dev_1</td>\n",
       "      <td>ታህሳስ 5 ፣2013/ በኢትዮጵያ ተጨማሪ 473 ሰዎች በኮሮና ቫይረስ ተያ...</td>\n",
       "      <td>[ታህሳስ 5 ፣2013/ በኢትዮጵያ ተጨማሪ 473 ሰዎች በኮሮና ቫይረስ ተ...</td>\n",
       "    </tr>\n",
       "    <tr>\n",
       "      <th>1</th>\n",
       "      <td>Pair_ID_amh_dev_2</td>\n",
       "      <td>በፖለቲካ እምነት መሆን የለበትም ፡፡\\tመልሱ መሆን የለበትም ነው ፡፡</td>\n",
       "      <td>[በፖለቲካ እምነት መሆን የለበትም ፡፡\\tመልሱ መሆን የለበትም ነው ፡፡]</td>\n",
       "    </tr>\n",
       "    <tr>\n",
       "      <th>2</th>\n",
       "      <td>Pair_ID_amh_dev_3</td>\n",
       "      <td>መልካም በአል ለመላው ክርስቶስትና እምነት ተከታዮች በሙሉ ?\\tለመላው የ...</td>\n",
       "      <td>[መልካም በአል ለመላው ክርስቶስትና እምነት ተከታዮች በሙሉ ?\\tለመላው ...</td>\n",
       "    </tr>\n",
       "    <tr>\n",
       "      <th>3</th>\n",
       "      <td>Pair_ID_amh_dev_4</td>\n",
       "      <td>የኢትዮጵያ ገበሬዎች እርዳታ እንደሚያስፈልጋቸው ገልፀዋል ።\\tየኢትዮጵያ ...</td>\n",
       "      <td>[የኢትዮጵያ ገበሬዎች እርዳታ እንደሚያስፈልጋቸው ገልፀዋል ።\\tየኢትዮጵያ...</td>\n",
       "    </tr>\n",
       "    <tr>\n",
       "      <th>4</th>\n",
       "      <td>Pair_ID_amh_dev_5</td>\n",
       "      <td>ዱላ ይዞ ነበር እንዴ ?\\tግን የዛሬው የወያኔ ዱላ እንዴት ነበር ?</td>\n",
       "      <td>[ዱላ ይዞ ነበር እንዴ ?\\tግን የዛሬው የወያኔ ዱላ እንዴት ነበር ?]</td>\n",
       "    </tr>\n",
       "    <tr>\n",
       "      <th>...</th>\n",
       "      <td>...</td>\n",
       "      <td>...</td>\n",
       "      <td>...</td>\n",
       "    </tr>\n",
       "    <tr>\n",
       "      <th>90</th>\n",
       "      <td>Pair_ID_amh_dev_91</td>\n",
       "      <td>ይሖዋ “የእውነት አምላክ ” ነው ።\\tእንዲህ ማድረግ የሚችለው ደግሞ ይሖ...</td>\n",
       "      <td>[ይሖዋ “የእውነት አምላክ ” ነው ።\\tእንዲህ ማድረግ የሚችለው ደግሞ ይ...</td>\n",
       "    </tr>\n",
       "    <tr>\n",
       "      <th>91</th>\n",
       "      <td>Pair_ID_amh_dev_92</td>\n",
       "      <td>ክረምትና በጋ በምስራቅ አፍሪካ ።\\tበብዛት በምስራቅ አፍሪካ ይገኛሉ ።</td>\n",
       "      <td>[ክረምትና በጋ በምስራቅ አፍሪካ ።\\tበብዛት በምስራቅ አፍሪካ ይገኛሉ ።]</td>\n",
       "    </tr>\n",
       "    <tr>\n",
       "      <th>92</th>\n",
       "      <td>Pair_ID_amh_dev_93</td>\n",
       "      <td>ይህን ያህል እርግጠኛ እንዲሆን ያደረገው ምንድን ነው ?\\tደስተኛ እንዲሆ...</td>\n",
       "      <td>[ይህን ያህል እርግጠኛ እንዲሆን ያደረገው ምንድን ነው ?\\tደስተኛ እንዲ...</td>\n",
       "    </tr>\n",
       "    <tr>\n",
       "      <th>93</th>\n",
       "      <td>Pair_ID_amh_dev_94</td>\n",
       "      <td>ያ የበላ ሰው ከሕዝቡ መካከል ተለይቶ ይጠፋልና ።\\tመንግስት ግን ፣ “ለ...</td>\n",
       "      <td>[ያ የበላ ሰው ከሕዝቡ መካከል ተለይቶ ይጠፋልና ።\\tመንግስት ግን ፣ “...</td>\n",
       "    </tr>\n",
       "    <tr>\n",
       "      <th>94</th>\n",
       "      <td>Pair_ID_amh_dev_95</td>\n",
       "      <td>በሌላ በኩል የላቀ የሻምፒዮናነነት ፉክክር እንደሚደረግበት የሚጠበቀው 20...</td>\n",
       "      <td>[በሌላ በኩል የላቀ የሻምፒዮናነነት ፉክክር እንደሚደረግበት የሚጠበቀው 2...</td>\n",
       "    </tr>\n",
       "  </tbody>\n",
       "</table>\n",
       "<p>95 rows × 3 columns</p>\n",
       "</div>"
      ],
      "text/plain": [
       "                PairID                                               Text  \\\n",
       "0    Pair_ID_amh_dev_1  ታህሳስ 5 ፣2013/ በኢትዮጵያ ተጨማሪ 473 ሰዎች በኮሮና ቫይረስ ተያ...   \n",
       "1    Pair_ID_amh_dev_2       በፖለቲካ እምነት መሆን የለበትም ፡፡\\tመልሱ መሆን የለበትም ነው ፡፡   \n",
       "2    Pair_ID_amh_dev_3  መልካም በአል ለመላው ክርስቶስትና እምነት ተከታዮች በሙሉ ?\\tለመላው የ...   \n",
       "3    Pair_ID_amh_dev_4  የኢትዮጵያ ገበሬዎች እርዳታ እንደሚያስፈልጋቸው ገልፀዋል ።\\tየኢትዮጵያ ...   \n",
       "4    Pair_ID_amh_dev_5        ዱላ ይዞ ነበር እንዴ ?\\tግን የዛሬው የወያኔ ዱላ እንዴት ነበር ?   \n",
       "..                 ...                                                ...   \n",
       "90  Pair_ID_amh_dev_91  ይሖዋ “የእውነት አምላክ ” ነው ።\\tእንዲህ ማድረግ የሚችለው ደግሞ ይሖ...   \n",
       "91  Pair_ID_amh_dev_92      ክረምትና በጋ በምስራቅ አፍሪካ ።\\tበብዛት በምስራቅ አፍሪካ ይገኛሉ ።   \n",
       "92  Pair_ID_amh_dev_93  ይህን ያህል እርግጠኛ እንዲሆን ያደረገው ምንድን ነው ?\\tደስተኛ እንዲሆ...   \n",
       "93  Pair_ID_amh_dev_94  ያ የበላ ሰው ከሕዝቡ መካከል ተለይቶ ይጠፋልና ።\\tመንግስት ግን ፣ “ለ...   \n",
       "94  Pair_ID_amh_dev_95  በሌላ በኩል የላቀ የሻምፒዮናነነት ፉክክር እንደሚደረግበት የሚጠበቀው 20...   \n",
       "\n",
       "                                           Split_Text  \n",
       "0   [ታህሳስ 5 ፣2013/ በኢትዮጵያ ተጨማሪ 473 ሰዎች በኮሮና ቫይረስ ተ...  \n",
       "1      [በፖለቲካ እምነት መሆን የለበትም ፡፡\\tመልሱ መሆን የለበትም ነው ፡፡]  \n",
       "2   [መልካም በአል ለመላው ክርስቶስትና እምነት ተከታዮች በሙሉ ?\\tለመላው ...  \n",
       "3   [የኢትዮጵያ ገበሬዎች እርዳታ እንደሚያስፈልጋቸው ገልፀዋል ።\\tየኢትዮጵያ...  \n",
       "4       [ዱላ ይዞ ነበር እንዴ ?\\tግን የዛሬው የወያኔ ዱላ እንዴት ነበር ?]  \n",
       "..                                                ...  \n",
       "90  [ይሖዋ “የእውነት አምላክ ” ነው ።\\tእንዲህ ማድረግ የሚችለው ደግሞ ይ...  \n",
       "91    [ክረምትና በጋ በምስራቅ አፍሪካ ።\\tበብዛት በምስራቅ አፍሪካ ይገኛሉ ።]  \n",
       "92  [ይህን ያህል እርግጠኛ እንዲሆን ያደረገው ምንድን ነው ?\\tደስተኛ እንዲ...  \n",
       "93  [ያ የበላ ሰው ከሕዝቡ መካከል ተለይቶ ይጠፋልና ።\\tመንግስት ግን ፣ “...  \n",
       "94  [በሌላ በኩል የላቀ የሻምፒዮናነነት ፉክክር እንደሚደረግበት የሚጠበቀው 2...  \n",
       "\n",
       "[95 rows x 3 columns]"
      ]
     },
     "execution_count": 115,
     "metadata": {},
     "output_type": "execute_result"
    }
   ],
   "source": [
    "test_pdf['amh']"
   ]
  },
  {
   "cell_type": "code",
   "execution_count": 131,
   "id": "5458dd26-ab5f-4885-9122-5c904c6db9f0",
   "metadata": {},
   "outputs": [],
   "source": [
    "\n",
    "# Prediction\n",
    "def  prediction(best_model_path, eval_data, test_pdf, results_path, zip_file_path):\n",
    "    # predicted=[]\n",
    "    # tokanised_exam=columns\n",
    "    # true_labels=[]\n",
    "    confusion = torch.zeros(num_labels, num_labels)\n",
    "    predicted_for_classification_report=[]\n",
    "    ##################################################\n",
    "    #load best model\n",
    "    # for lang, best_models in zip(test_lan,best_model_path):\n",
    "    final_results_path={}\n",
    "    zip_files_path={}\n",
    "    for lang in test_lan:\n",
    "        print(f\"path of the {lang} model is: {best_model_path}\")\n",
    "        # print\n",
    "        model = RobertaForSequenceClassification.from_pretrained(best_models[lan])  \n",
    "        model = model.eval().to(device)\n",
    "        print(\"model device\")\n",
    "        # batch the train data so that each batch contains 4 examples (using 'batch_size')\n",
    "        #test_data = torch.utils.data.DataLoader(test_dataset, batch_size=16)\n",
    "        predicted=[]\n",
    "        predictions={}\n",
    "        true_labels=[]\n",
    "        predicted_for_classification_report=[]\n",
    "        # iterate through each batch of t    he train data\n",
    "        for i, batch in enumerate(tqdmn(test_dataloader[lang])):\n",
    "            # csv_file_path= f\"pred_{lang}_a.csv\"\n",
    "            # final_results_path[lang]=os.path.join(results_path, csv_file_path)\n",
    "\n",
    "            with torch.no_grad():\n",
    "    #             print(batch)\n",
    "                batch = { k: v.to(device) for k, v in batch.items() }\n",
    "                # batch_labels = batch.pop(\"labels\")\n",
    "                outputs = model(**batch)\n",
    "                logits = outputs.logits\n",
    "                #print(logits.shape)\n",
    "                # get the predicted values\n",
    "            pred_values =logits.tolist()\n",
    "            #print(pred_values)\n",
    "            # true_labels += tags[idx][1:length-1].tolist()\n",
    "            # true_labels_list.append(tags[idx][:length].tolist())\n",
    "                #pred_values = pred_values.tolist()\n",
    "                # print(pred_values)\n",
    "            flattened_pred_values = [item for sublist in pred_values for item in sublist]\n",
    "            # print(flattened_pred_values)\n",
    "            predicted +=flattened_pred_values\n",
    "            \n",
    "        print(len(predicted))   \n",
    "        print(test_pdf[lang])\n",
    "        test_pdf[lang][\"Pred_Score\"] = predicted\n",
    "        csv_file_path= f\"pred_{lang}_a.csv\"\n",
    "        final_results_path[lang]= os.path.join(results_path,csv_file_path) \n",
    "        test_pdf[lang][['PairID','Pred_Score']].to_csv(final_results_path[lang],index=False)\n",
    "    #     if not os.path.exists(zip_file_path):\n",
    "    #         os.makedirs(zip_file_path)\n",
    "    #     zip_files_path[lang]=os.path.join(zip_file_path, f\"pred_{lang}_a.zip\")\n",
    "    #     with zipfile.ZipFile( zip_files_path[lang], 'w') as zipf:\n",
    "    # # Add the CSV file to the zip file with a new name (you can change it if needed)\n",
    "    #         zipf.write(zip_files_path[lang], arcname=os.path.basename(final_results_path[lang]))\n",
    "\n",
    "    # print(f\"CSV file '{csv_file_path}' successfully zipped to '{zip_file_path}'.\")\n",
    "\n",
    "            \n",
    "            # return predicted #here predicred is flat"
   ]
  },
  {
   "cell_type": "code",
   "execution_count": 135,
   "id": "850a5d45-b015-4977-bbc1-5beeda91e0b5",
   "metadata": {},
   "outputs": [
    {
     "ename": "NameError",
     "evalue": "name 'compressed_file_path' is not defined",
     "output_type": "error",
     "traceback": [
      "\u001b[0;31m---------------------------------------------------------------------------\u001b[0m",
      "\u001b[0;31mNameError\u001b[0m                                 Traceback (most recent call last)",
      "Cell \u001b[0;32mIn[135], line 2\u001b[0m\n\u001b[1;32m      1\u001b[0m \u001b[38;5;28;01mfor\u001b[39;00m lang \u001b[38;5;129;01min\u001b[39;00m test_lan:\n\u001b[0;32m----> 2\u001b[0m     \u001b[43mcompressed_file_path\u001b[49m[lang]\u001b[38;5;241m=\u001b[39m\u001b[38;5;124mf\u001b[39m\u001b[38;5;124m\"\u001b[39m\u001b[38;5;124mResults/2_stage_results_XLM_roberta/zip_files/pred_\u001b[39m\u001b[38;5;132;01m{\u001b[39;00mlang\u001b[38;5;132;01m}\u001b[39;00m\u001b[38;5;124m_a.zip\u001b[39m\u001b[38;5;124m\"\u001b[39m\n\u001b[1;32m      3\u001b[0m     file_path[lang]\u001b[38;5;241m=\u001b[39m\u001b[38;5;124mf\u001b[39m\u001b[38;5;124m\"\u001b[39m\u001b[38;5;124mResults/2_stage_results_XLM_roberta/csv_files/pred_\u001b[39m\u001b[38;5;132;01m{\u001b[39;00mlang\u001b[38;5;132;01m}\u001b[39;00m\u001b[38;5;124m_a.csv\u001b[39m\u001b[38;5;124m\"\u001b[39m\n\u001b[1;32m      4\u001b[0m     get_ipython()\u001b[38;5;241m.\u001b[39msystem(\u001b[38;5;124m'\u001b[39m\u001b[38;5;124mzip compressed_file_path[lang] file_path[lang]\u001b[39m\u001b[38;5;124m'\u001b[39m)\n",
      "\u001b[0;31mNameError\u001b[0m: name 'compressed_file_path' is not defined"
     ]
    }
   ],
   "source": [
    "for lang in test_lan:\n",
    "    compressed_file_path[lang]=f\"Results/2_stage_results_XLM_roberta/zip_files/pred_{lang}_a.zip\"\n",
    "    file_path[lang]=f\"Results/2_stage_results_XLM_roberta/csv_files/pred_{lang}_a.csv\"\n",
    "    !zip compressed_file_path[lang] file_path[lang]"
   ]
  },
  {
   "cell_type": "code",
   "execution_count": 132,
   "id": "9c3b1d78-5313-468a-938a-2d9118224520",
   "metadata": {},
   "outputs": [
    {
     "name": "stderr",
     "output_type": "stream",
     "text": [
      "You are using a model of type xlm-roberta to instantiate a model of type roberta. This is not supported for all configurations of models and can yield errors.\n"
     ]
    },
    {
     "name": "stdout",
     "output_type": "stream",
     "text": [
      "path of the amh model is: ['/home/naive123/nlp/Sumit/Textural_Relateness/Semantic_Relatedness_SemEval2024/2_stage_models/amh/XLM_roberta_64_2e-5_seed_1/epoch_0', '/home/naive123/nlp/Sumit/Textural_Relateness/Semantic_Relatedness_SemEval2024/2_stage_models/arq/XLM_roberta_64_2e-5_seed_1/epoch_4', '/home/naive123/nlp/Sumit/Textural_Relateness/Semantic_Relatedness_SemEval2024/2_stage_models/ary/XLM_roberta_64_2e-5_seed_1/epoch_0', '/home/naive123/nlp/Sumit/Textural_Relateness/Semantic_Relatedness_SemEval2024/2_stage_models/eng/XLM_roberta_64_2e-5_seed_1/epoch_1', '/home/naive123/nlp/Sumit/Textural_Relateness/Semantic_Relatedness_SemEval2024/2_stage_models/esp/XLM_roberta_64_2e-5_seed_1/epoch_2', '/home/naive123/nlp/Sumit/Textural_Relateness/Semantic_Relatedness_SemEval2024/2_stage_models/hau/XLM_roberta_64_2e-5_seed_1/epoch_1', '/home/naive123/nlp/Sumit/Textural_Relateness/Semantic_Relatedness_SemEval2024/2_stage_models/kin/XLM_roberta_64_2e-5_seed_1/epoch_2', '/home/naive123/nlp/Sumit/Textural_Relateness/Semantic_Relatedness_SemEval2024/2_stage_models/mar/XLM_roberta_64_2e-5_seed_1/epoch_0', '/home/naive123/nlp/Sumit/Textural_Relateness/Semantic_Relatedness_SemEval2024/2_stage_models/tel/XLM_roberta_64_2e-5_seed_1/epoch_3']\n",
      "model device\n"
     ]
    },
    {
     "data": {
      "application/vnd.jupyter.widget-view+json": {
       "model_id": "f7c58c2fdd6e49cdbe7b750c5dd7b19f",
       "version_major": 2,
       "version_minor": 0
      },
      "text/plain": [
       "  0%|          | 0/6 [00:00<?, ?it/s]"
      ]
     },
     "metadata": {},
     "output_type": "display_data"
    },
    {
     "name": "stderr",
     "output_type": "stream",
     "text": [
      "You are using a model of type xlm-roberta to instantiate a model of type roberta. This is not supported for all configurations of models and can yield errors.\n"
     ]
    },
    {
     "name": "stdout",
     "output_type": "stream",
     "text": [
      "95\n",
      "                PairID                                               Text  \\\n",
      "0    Pair_ID_amh_dev_1  ታህሳስ 5 ፣2013/ በኢትዮጵያ ተጨማሪ 473 ሰዎች በኮሮና ቫይረስ ተያ...   \n",
      "1    Pair_ID_amh_dev_2       በፖለቲካ እምነት መሆን የለበትም ፡፡\\tመልሱ መሆን የለበትም ነው ፡፡   \n",
      "2    Pair_ID_amh_dev_3  መልካም በአል ለመላው ክርስቶስትና እምነት ተከታዮች በሙሉ ?\\tለመላው የ...   \n",
      "3    Pair_ID_amh_dev_4  የኢትዮጵያ ገበሬዎች እርዳታ እንደሚያስፈልጋቸው ገልፀዋል ።\\tየኢትዮጵያ ...   \n",
      "4    Pair_ID_amh_dev_5        ዱላ ይዞ ነበር እንዴ ?\\tግን የዛሬው የወያኔ ዱላ እንዴት ነበር ?   \n",
      "..                 ...                                                ...   \n",
      "90  Pair_ID_amh_dev_91  ይሖዋ “የእውነት አምላክ ” ነው ።\\tእንዲህ ማድረግ የሚችለው ደግሞ ይሖ...   \n",
      "91  Pair_ID_amh_dev_92      ክረምትና በጋ በምስራቅ አፍሪካ ።\\tበብዛት በምስራቅ አፍሪካ ይገኛሉ ።   \n",
      "92  Pair_ID_amh_dev_93  ይህን ያህል እርግጠኛ እንዲሆን ያደረገው ምንድን ነው ?\\tደስተኛ እንዲሆ...   \n",
      "93  Pair_ID_amh_dev_94  ያ የበላ ሰው ከሕዝቡ መካከል ተለይቶ ይጠፋልና ።\\tመንግስት ግን ፣ “ለ...   \n",
      "94  Pair_ID_amh_dev_95  በሌላ በኩል የላቀ የሻምፒዮናነነት ፉክክር እንደሚደረግበት የሚጠበቀው 20...   \n",
      "\n",
      "                                           Split_Text  Pred_Score  \n",
      "0   [ታህሳስ 5 ፣2013/ በኢትዮጵያ ተጨማሪ 473 ሰዎች በኮሮና ቫይረስ ተ...    0.664268  \n",
      "1      [በፖለቲካ እምነት መሆን የለበትም ፡፡\\tመልሱ መሆን የለበትም ነው ፡፡]    0.343030  \n",
      "2   [መልካም በአል ለመላው ክርስቶስትና እምነት ተከታዮች በሙሉ ?\\tለመላው ...    0.616248  \n",
      "3   [የኢትዮጵያ ገበሬዎች እርዳታ እንደሚያስፈልጋቸው ገልፀዋል ።\\tየኢትዮጵያ...    0.621837  \n",
      "4       [ዱላ ይዞ ነበር እንዴ ?\\tግን የዛሬው የወያኔ ዱላ እንዴት ነበር ?]    0.453980  \n",
      "..                                                ...         ...  \n",
      "90  [ይሖዋ “የእውነት አምላክ ” ነው ።\\tእንዲህ ማድረግ የሚችለው ደግሞ ይ...    0.576667  \n",
      "91    [ክረምትና በጋ በምስራቅ አፍሪካ ።\\tበብዛት በምስራቅ አፍሪካ ይገኛሉ ።]    0.401958  \n",
      "92  [ይህን ያህል እርግጠኛ እንዲሆን ያደረገው ምንድን ነው ?\\tደስተኛ እንዲ...    0.586886  \n",
      "93  [ያ የበላ ሰው ከሕዝቡ መካከል ተለይቶ ይጠፋልና ።\\tመንግስት ግን ፣ “...    0.256333  \n",
      "94  [በሌላ በኩል የላቀ የሻምፒዮናነነት ፉክክር እንደሚደረግበት የሚጠበቀው 2...    0.561270  \n",
      "\n",
      "[95 rows x 4 columns]\n",
      "path of the arq model is: ['/home/naive123/nlp/Sumit/Textural_Relateness/Semantic_Relatedness_SemEval2024/2_stage_models/amh/XLM_roberta_64_2e-5_seed_1/epoch_0', '/home/naive123/nlp/Sumit/Textural_Relateness/Semantic_Relatedness_SemEval2024/2_stage_models/arq/XLM_roberta_64_2e-5_seed_1/epoch_4', '/home/naive123/nlp/Sumit/Textural_Relateness/Semantic_Relatedness_SemEval2024/2_stage_models/ary/XLM_roberta_64_2e-5_seed_1/epoch_0', '/home/naive123/nlp/Sumit/Textural_Relateness/Semantic_Relatedness_SemEval2024/2_stage_models/eng/XLM_roberta_64_2e-5_seed_1/epoch_1', '/home/naive123/nlp/Sumit/Textural_Relateness/Semantic_Relatedness_SemEval2024/2_stage_models/esp/XLM_roberta_64_2e-5_seed_1/epoch_2', '/home/naive123/nlp/Sumit/Textural_Relateness/Semantic_Relatedness_SemEval2024/2_stage_models/hau/XLM_roberta_64_2e-5_seed_1/epoch_1', '/home/naive123/nlp/Sumit/Textural_Relateness/Semantic_Relatedness_SemEval2024/2_stage_models/kin/XLM_roberta_64_2e-5_seed_1/epoch_2', '/home/naive123/nlp/Sumit/Textural_Relateness/Semantic_Relatedness_SemEval2024/2_stage_models/mar/XLM_roberta_64_2e-5_seed_1/epoch_0', '/home/naive123/nlp/Sumit/Textural_Relateness/Semantic_Relatedness_SemEval2024/2_stage_models/tel/XLM_roberta_64_2e-5_seed_1/epoch_3']\n",
      "model device\n"
     ]
    },
    {
     "data": {
      "application/vnd.jupyter.widget-view+json": {
       "model_id": "862f2bee322944af81eb61792f603f46",
       "version_major": 2,
       "version_minor": 0
      },
      "text/plain": [
       "  0%|          | 0/7 [00:00<?, ?it/s]"
      ]
     },
     "metadata": {},
     "output_type": "display_data"
    },
    {
     "name": "stderr",
     "output_type": "stream",
     "text": [
      "You are using a model of type xlm-roberta to instantiate a model of type roberta. This is not supported for all configurations of models and can yield errors.\n"
     ]
    },
    {
     "name": "stdout",
     "output_type": "stream",
     "text": [
      "97\n",
      "          PairID                                               Text  \\\n",
      "0   ARQ-dev-0001  زيد كون ڤلتي لها تأكدي عليها\\n ڤولي لها تڤول ل...   \n",
      "1   ARQ-dev-0002                   بلاصة في البحر\\n شكون قالك عليها   \n",
      "2   ARQ-dev-0003  الصباح جيت هابطة ﭬﺮيب ضربت في رؤف\\n على السبعة...   \n",
      "3   ARQ-dev-0004  اسمحوا لي ، عندي پروبلام في الميكرو\\n سماح مرا...   \n",
      "4   ARQ-dev-0005  تعمرت آه ما عنديش بلاصة ياسر سينون اني سجلت أك...   \n",
      "..           ...                                                ...   \n",
      "92  ARQ-dev-0093  خالتي خيرة وليتي تعرفي السلاح\\n لوكان راكم تحو...   \n",
      "93  ARQ-dev-0094                     آه مكانش لخرا\\n ڤداه يحسب فاها   \n",
      "94  ARQ-dev-0095  ڤالت لك روحي أعرضاها خاطر أي تسنا\\n ڤالت وشباه...   \n",
      "95  ARQ-dev-0096          حطوه معاها مسكين\\n أفيشاو لزكزامان شفتوهم   \n",
      "96  ARQ-dev-0097                  هوما راحو مسطوها\\n والله ما تخافي   \n",
      "\n",
      "                                           Split_Text  Pred_Score  \n",
      "0   [زيد كون ڤلتي لها تأكدي عليها,  ڤولي لها تڤول ...    0.537622  \n",
      "1                  [بلاصة في البحر,  شكون قالك عليها]    0.383220  \n",
      "2   [الصباح جيت هابطة ﭬﺮيب ضربت في رؤف,  على السبع...    0.658916  \n",
      "3   [اسمحوا لي ، عندي پروبلام في الميكرو,  سماح مر...    0.500863  \n",
      "4   [تعمرت آه ما عنديش بلاصة ياسر سينون اني سجلت أ...    0.511158  \n",
      "..                                                ...         ...  \n",
      "92  [خالتي خيرة وليتي تعرفي السلاح,  لوكان راكم تح...    0.368598  \n",
      "93                   [آه مكانش لخرا,  ڤداه يحسب فاها]    0.447451  \n",
      "94  [ڤالت لك روحي أعرضاها خاطر أي تسنا,  ڤالت وشبا...    0.491884  \n",
      "95        [حطوه معاها مسكين,  أفيشاو لزكزامان شفتوهم]    0.472627  \n",
      "96                [هوما راحو مسطوها,  والله ما تخافي]    0.369570  \n",
      "\n",
      "[97 rows x 4 columns]\n",
      "path of the ary model is: ['/home/naive123/nlp/Sumit/Textural_Relateness/Semantic_Relatedness_SemEval2024/2_stage_models/amh/XLM_roberta_64_2e-5_seed_1/epoch_0', '/home/naive123/nlp/Sumit/Textural_Relateness/Semantic_Relatedness_SemEval2024/2_stage_models/arq/XLM_roberta_64_2e-5_seed_1/epoch_4', '/home/naive123/nlp/Sumit/Textural_Relateness/Semantic_Relatedness_SemEval2024/2_stage_models/ary/XLM_roberta_64_2e-5_seed_1/epoch_0', '/home/naive123/nlp/Sumit/Textural_Relateness/Semantic_Relatedness_SemEval2024/2_stage_models/eng/XLM_roberta_64_2e-5_seed_1/epoch_1', '/home/naive123/nlp/Sumit/Textural_Relateness/Semantic_Relatedness_SemEval2024/2_stage_models/esp/XLM_roberta_64_2e-5_seed_1/epoch_2', '/home/naive123/nlp/Sumit/Textural_Relateness/Semantic_Relatedness_SemEval2024/2_stage_models/hau/XLM_roberta_64_2e-5_seed_1/epoch_1', '/home/naive123/nlp/Sumit/Textural_Relateness/Semantic_Relatedness_SemEval2024/2_stage_models/kin/XLM_roberta_64_2e-5_seed_1/epoch_2', '/home/naive123/nlp/Sumit/Textural_Relateness/Semantic_Relatedness_SemEval2024/2_stage_models/mar/XLM_roberta_64_2e-5_seed_1/epoch_0', '/home/naive123/nlp/Sumit/Textural_Relateness/Semantic_Relatedness_SemEval2024/2_stage_models/tel/XLM_roberta_64_2e-5_seed_1/epoch_3']\n",
      "model device\n"
     ]
    },
    {
     "data": {
      "application/vnd.jupyter.widget-view+json": {
       "model_id": "f0c9e7ceb41f427db429c3f4c2d782b3",
       "version_major": 2,
       "version_minor": 0
      },
      "text/plain": [
       "  0%|          | 0/5 [00:00<?, ?it/s]"
      ]
     },
     "metadata": {},
     "output_type": "display_data"
    },
    {
     "name": "stderr",
     "output_type": "stream",
     "text": [
      "You are using a model of type xlm-roberta to instantiate a model of type roberta. This is not supported for all configurations of models and can yield errors.\n"
     ]
    },
    {
     "name": "stdout",
     "output_type": "stream",
     "text": [
      "71\n",
      "          PairID                                               Text  \\\n",
      "0   ARY-dev-0000  هذه أول صورة لابنة المطرب تامر حسني من زوجته ا...   \n",
      "1   ARY-dev-0001  قضية “حمزة مون بيبي” كبرات. قاضي التحقيق مازال...   \n",
      "2   ARY-dev-0002  بقاو فديوركوم.. تسجلات 38 إصابة جديدة بكورونا....   \n",
      "3   ARY-dev-0003  البي جي دي باغي يدير ميسا فالانتخابات وطالب لف...   \n",
      "4   ARY-dev-0004  كورونا اليوم: جوج ماتو و151 تصابو و مليون و751...   \n",
      "..           ...                                                ...   \n",
      "66  ARY-dev-0066  قضية اغتصاب محابسي بـ”كراطة” بسجن راس الما.. ا...   \n",
      "67  ARY-dev-0067  مولاي يعقوب: تزوير كبير ف قضية نزع ملكية عقار ...   \n",
      "68  ARY-dev-0068  فضيحة “باديس” بالحسيمة: الوكيل العام بفاس استد...   \n",
      "69  ARY-dev-0069  البوليس و بتنسيق مع “الديستي” طيحو ريزو ديال ا...   \n",
      "70  ARY-dev-0070  حصيلة كورونا فالأقاليم والجهات: 1101 تصابو فكا...   \n",
      "\n",
      "                                           Split_Text  Pred_Score  \n",
      "0   [هذه أول صورة لابنة المطرب تامر حسني من زوجته ...    0.585061  \n",
      "1   [قضية “حمزة مون بيبي” كبرات. قاضي التحقيق مازا...    0.498150  \n",
      "2   [بقاو فديوركوم.. تسجلات 38 إصابة جديدة بكورونا...    0.689502  \n",
      "3   [البي جي دي باغي يدير ميسا فالانتخابات وطالب ل...    0.393383  \n",
      "4   [كورونا اليوم: جوج ماتو و151 تصابو و مليون و75...    0.612296  \n",
      "..                                                ...         ...  \n",
      "66  [قضية اغتصاب محابسي بـ”كراطة” بسجن راس الما.. ...    0.539887  \n",
      "67  [مولاي يعقوب: تزوير كبير ف قضية نزع ملكية عقار...    0.611149  \n",
      "68  [فضيحة “باديس” بالحسيمة: الوكيل العام بفاس است...    0.592322  \n",
      "69  [البوليس و بتنسيق مع “الديستي” طيحو ريزو ديال ...    0.642214  \n",
      "70  [حصيلة كورونا فالأقاليم والجهات: 1101 تصابو فك...    0.645984  \n",
      "\n",
      "[71 rows x 4 columns]\n",
      "path of the eng model is: ['/home/naive123/nlp/Sumit/Textural_Relateness/Semantic_Relatedness_SemEval2024/2_stage_models/amh/XLM_roberta_64_2e-5_seed_1/epoch_0', '/home/naive123/nlp/Sumit/Textural_Relateness/Semantic_Relatedness_SemEval2024/2_stage_models/arq/XLM_roberta_64_2e-5_seed_1/epoch_4', '/home/naive123/nlp/Sumit/Textural_Relateness/Semantic_Relatedness_SemEval2024/2_stage_models/ary/XLM_roberta_64_2e-5_seed_1/epoch_0', '/home/naive123/nlp/Sumit/Textural_Relateness/Semantic_Relatedness_SemEval2024/2_stage_models/eng/XLM_roberta_64_2e-5_seed_1/epoch_1', '/home/naive123/nlp/Sumit/Textural_Relateness/Semantic_Relatedness_SemEval2024/2_stage_models/esp/XLM_roberta_64_2e-5_seed_1/epoch_2', '/home/naive123/nlp/Sumit/Textural_Relateness/Semantic_Relatedness_SemEval2024/2_stage_models/hau/XLM_roberta_64_2e-5_seed_1/epoch_1', '/home/naive123/nlp/Sumit/Textural_Relateness/Semantic_Relatedness_SemEval2024/2_stage_models/kin/XLM_roberta_64_2e-5_seed_1/epoch_2', '/home/naive123/nlp/Sumit/Textural_Relateness/Semantic_Relatedness_SemEval2024/2_stage_models/mar/XLM_roberta_64_2e-5_seed_1/epoch_0', '/home/naive123/nlp/Sumit/Textural_Relateness/Semantic_Relatedness_SemEval2024/2_stage_models/tel/XLM_roberta_64_2e-5_seed_1/epoch_3']\n",
      "model device\n"
     ]
    },
    {
     "data": {
      "application/vnd.jupyter.widget-view+json": {
       "model_id": "574269cddba846e8b77267e4645c1b15",
       "version_major": 2,
       "version_minor": 0
      },
      "text/plain": [
       "  0%|          | 0/16 [00:00<?, ?it/s]"
      ]
     },
     "metadata": {},
     "output_type": "display_data"
    },
    {
     "name": "stderr",
     "output_type": "stream",
     "text": [
      "You are using a model of type xlm-roberta to instantiate a model of type roberta. This is not supported for all configurations of models and can yield errors.\n"
     ]
    },
    {
     "name": "stdout",
     "output_type": "stream",
     "text": [
      "250\n",
      "           PairID                                               Text  \\\n",
      "0    ENG-dev-0000  The story is gripping and interesting.\\nIt's a...   \n",
      "1    ENG-dev-0001  The majority of Southeast Alaska 's area is pa...   \n",
      "2    ENG-dev-0002  and from your post i think you are to young to...   \n",
      "3    ENG-dev-0003  The film 's success also made Dreamworks Anima...   \n",
      "4    ENG-dev-0004  I am still confused about how I feel about thi...   \n",
      "..            ...                                                ...   \n",
      "245  ENG-dev-0245  thats just how they are :( its a shame lol\\nIt...   \n",
      "246  ENG-dev-0246  I feel sorry for the books that I will read af...   \n",
      "247  ENG-dev-0247  Uwe Seeler -LRB- born 5 November 1936 in Hambu...   \n",
      "248  ENG-dev-0248  Waco is a city in and the county seat of McLen...   \n",
      "249  ENG-dev-0249  religious extremism continues in pakistan desp...   \n",
      "\n",
      "                                            Split_Text  Pred_Score  \n",
      "0    [The story is gripping and interesting., It's ...    0.714609  \n",
      "1    [The majority of Southeast Alaska 's area is p...    0.700134  \n",
      "2    [and from your post i think you are to young t...    0.261267  \n",
      "3    [The film 's success also made Dreamworks Anim...    0.673207  \n",
      "4    [I am still confused about how I feel about th...    0.447154  \n",
      "..                                                 ...         ...  \n",
      "245  [thats just how they are :( its a shame lol, I...    0.687516  \n",
      "246  [I feel sorry for the books that I will read a...    0.324188  \n",
      "247  [Uwe Seeler -LRB- born 5 November 1936 in Hamb...    0.524240  \n",
      "248  [Waco is a city in and the county seat of McLe...    0.435232  \n",
      "249  [religious extremism continues in pakistan des...    0.772255  \n",
      "\n",
      "[250 rows x 4 columns]\n",
      "path of the esp model is: ['/home/naive123/nlp/Sumit/Textural_Relateness/Semantic_Relatedness_SemEval2024/2_stage_models/amh/XLM_roberta_64_2e-5_seed_1/epoch_0', '/home/naive123/nlp/Sumit/Textural_Relateness/Semantic_Relatedness_SemEval2024/2_stage_models/arq/XLM_roberta_64_2e-5_seed_1/epoch_4', '/home/naive123/nlp/Sumit/Textural_Relateness/Semantic_Relatedness_SemEval2024/2_stage_models/ary/XLM_roberta_64_2e-5_seed_1/epoch_0', '/home/naive123/nlp/Sumit/Textural_Relateness/Semantic_Relatedness_SemEval2024/2_stage_models/eng/XLM_roberta_64_2e-5_seed_1/epoch_1', '/home/naive123/nlp/Sumit/Textural_Relateness/Semantic_Relatedness_SemEval2024/2_stage_models/esp/XLM_roberta_64_2e-5_seed_1/epoch_2', '/home/naive123/nlp/Sumit/Textural_Relateness/Semantic_Relatedness_SemEval2024/2_stage_models/hau/XLM_roberta_64_2e-5_seed_1/epoch_1', '/home/naive123/nlp/Sumit/Textural_Relateness/Semantic_Relatedness_SemEval2024/2_stage_models/kin/XLM_roberta_64_2e-5_seed_1/epoch_2', '/home/naive123/nlp/Sumit/Textural_Relateness/Semantic_Relatedness_SemEval2024/2_stage_models/mar/XLM_roberta_64_2e-5_seed_1/epoch_0', '/home/naive123/nlp/Sumit/Textural_Relateness/Semantic_Relatedness_SemEval2024/2_stage_models/tel/XLM_roberta_64_2e-5_seed_1/epoch_3']\n",
      "model device\n"
     ]
    },
    {
     "data": {
      "application/vnd.jupyter.widget-view+json": {
       "model_id": "93882ae595ae45b58d8d9c5e216f5af3",
       "version_major": 2,
       "version_minor": 0
      },
      "text/plain": [
       "  0%|          | 0/9 [00:00<?, ?it/s]"
      ]
     },
     "metadata": {},
     "output_type": "display_data"
    },
    {
     "name": "stderr",
     "output_type": "stream",
     "text": [
      "You are using a model of type xlm-roberta to instantiate a model of type roberta. This is not supported for all configurations of models and can yield errors.\n"
     ]
    },
    {
     "name": "stdout",
     "output_type": "stream",
     "text": [
      "140\n",
      "           PairID                                               Text  \\\n",
      "0    ESP-dev-0000  Notable es la carta de Robert a Sarah.\\nStrath...   \n",
      "1    ESP-dev-0001  Este tipo de tratamiento para grandes contribu...   \n",
      "2    ESP-dev-0002  El filme es denso y con lentitud nos sumerge e...   \n",
      "3    ESP-dev-0003  Un \" catéter de diálisis \" es un catéter usado...   \n",
      "4    ESP-dev-0004  Aunque tengamos las mejores intenciones, puede...   \n",
      "..            ...                                                ...   \n",
      "135  ESP-dev-0135  Mejor cámara pero con cambios menores.\\nEl últ...   \n",
      "136  ESP-dev-0136  Los vecindarios notables incluyen: McElderry P...   \n",
      "137  ESP-dev-0137  El estudio comenzará con el análisis de todos ...   \n",
      "138  ESP-dev-0138  Un niño nadando en el océano lanza una moneda ...   \n",
      "139  ESP-dev-0139  Un grupo de personas bailan en un concierto.\\n...   \n",
      "\n",
      "                                            Split_Text  Pred_Score  \n",
      "0    [Notable es la carta de Robert a Sarah., Strat...    0.283677  \n",
      "1    [Este tipo de tratamiento para grandes contrib...    0.304790  \n",
      "2    [El filme es denso y con lentitud nos sumerge ...    0.413623  \n",
      "3    [Un \" catéter de diálisis \" es un catéter usad...    0.628434  \n",
      "4    [Aunque tengamos las mejores intenciones, pued...    0.355928  \n",
      "..                                                 ...         ...  \n",
      "135  [Mejor cámara pero con cambios menores., El úl...    0.508339  \n",
      "136  [Los vecindarios notables incluyen: McElderry ...    0.308725  \n",
      "137  [El estudio comenzará con el análisis de todos...    0.314785  \n",
      "138  [Un niño nadando en el océano lanza una moneda...    0.504960  \n",
      "139  [Un grupo de personas bailan en un concierto.,...    0.388221  \n",
      "\n",
      "[140 rows x 4 columns]\n",
      "path of the hau model is: ['/home/naive123/nlp/Sumit/Textural_Relateness/Semantic_Relatedness_SemEval2024/2_stage_models/amh/XLM_roberta_64_2e-5_seed_1/epoch_0', '/home/naive123/nlp/Sumit/Textural_Relateness/Semantic_Relatedness_SemEval2024/2_stage_models/arq/XLM_roberta_64_2e-5_seed_1/epoch_4', '/home/naive123/nlp/Sumit/Textural_Relateness/Semantic_Relatedness_SemEval2024/2_stage_models/ary/XLM_roberta_64_2e-5_seed_1/epoch_0', '/home/naive123/nlp/Sumit/Textural_Relateness/Semantic_Relatedness_SemEval2024/2_stage_models/eng/XLM_roberta_64_2e-5_seed_1/epoch_1', '/home/naive123/nlp/Sumit/Textural_Relateness/Semantic_Relatedness_SemEval2024/2_stage_models/esp/XLM_roberta_64_2e-5_seed_1/epoch_2', '/home/naive123/nlp/Sumit/Textural_Relateness/Semantic_Relatedness_SemEval2024/2_stage_models/hau/XLM_roberta_64_2e-5_seed_1/epoch_1', '/home/naive123/nlp/Sumit/Textural_Relateness/Semantic_Relatedness_SemEval2024/2_stage_models/kin/XLM_roberta_64_2e-5_seed_1/epoch_2', '/home/naive123/nlp/Sumit/Textural_Relateness/Semantic_Relatedness_SemEval2024/2_stage_models/mar/XLM_roberta_64_2e-5_seed_1/epoch_0', '/home/naive123/nlp/Sumit/Textural_Relateness/Semantic_Relatedness_SemEval2024/2_stage_models/tel/XLM_roberta_64_2e-5_seed_1/epoch_3']\n",
      "model device\n"
     ]
    },
    {
     "data": {
      "application/vnd.jupyter.widget-view+json": {
       "model_id": "55437a3e077940309a9e51a8028b260d",
       "version_major": 2,
       "version_minor": 0
      },
      "text/plain": [
       "  0%|          | 0/14 [00:00<?, ?it/s]"
      ]
     },
     "metadata": {},
     "output_type": "display_data"
    },
    {
     "name": "stderr",
     "output_type": "stream",
     "text": [
      "You are using a model of type xlm-roberta to instantiate a model of type roberta. This is not supported for all configurations of models and can yield errors.\n"
     ]
    },
    {
     "name": "stdout",
     "output_type": "stream",
     "text": [
      "212\n",
      "            PairID                                               Text  \\\n",
      "0    hau_dev_00001  Haka a wani labarin, PREMIUM TIMES ta buga lab...   \n",
      "1    hau_dev_00002  PREMIUM TIMES ta buga labarin dakatar da Ayu d...   \n",
      "2    hau_dev_00003  PREMIUM TIMES Hausa ta buga labarin da Gwamna ...   \n",
      "3    hau_dev_00004  Famuyide ya ce za ci gaba da shari’a  ranar 19...   \n",
      "4    hau_dev_00005  Ya bayyana cewa kuɗaɗen sun haɗa da na farfaɗo...   \n",
      "..             ...                                                ...   \n",
      "207  hau_dev_00208  INEC ba za ta rufe rajistar zaɓen 2023 a ƙarsh...   \n",
      "208  hau_dev_00209  Ficewar Najatu Mohammed daga APC ta koma wurin...   \n",
      "209  hau_dev_00210  “A ɓangaren mu, gwamnatin mu za ta ci gaba da ...   \n",
      "210  hau_dev_00211  Idan ba a manta ba a watan Maris ne ‘yan bindi...   \n",
      "211  hau_dev_00212  Mutanen sun ce a dalilin harin mutane da dama ...   \n",
      "\n",
      "                                            Split_Text  Pred_Score  \n",
      "0    [Haka a wani labarin, PREMIUM TIMES ta buga la...    0.264396  \n",
      "1    [PREMIUM TIMES ta buga labarin dakatar da Ayu ...    0.274469  \n",
      "2    [PREMIUM TIMES Hausa ta buga labarin da Gwamna...    0.742343  \n",
      "3    [Famuyide ya ce za ci gaba da shari’a  ranar 1...    0.557505  \n",
      "4    [Ya bayyana cewa kuɗaɗen sun haɗa da na farfaɗ...    0.610130  \n",
      "..                                                 ...         ...  \n",
      "207  [INEC ba za ta rufe rajistar zaɓen 2023 a ƙars...    0.631193  \n",
      "208  [Ficewar Najatu Mohammed daga APC ta koma wuri...    0.663165  \n",
      "209  [“A ɓangaren mu, gwamnatin mu za ta ci gaba da...    0.519070  \n",
      "210  [Idan ba a manta ba a watan Maris ne ‘yan bind...    0.554010  \n",
      "211  [Mutanen sun ce a dalilin harin mutane da dama...    0.446606  \n",
      "\n",
      "[212 rows x 4 columns]\n",
      "path of the kin model is: ['/home/naive123/nlp/Sumit/Textural_Relateness/Semantic_Relatedness_SemEval2024/2_stage_models/amh/XLM_roberta_64_2e-5_seed_1/epoch_0', '/home/naive123/nlp/Sumit/Textural_Relateness/Semantic_Relatedness_SemEval2024/2_stage_models/arq/XLM_roberta_64_2e-5_seed_1/epoch_4', '/home/naive123/nlp/Sumit/Textural_Relateness/Semantic_Relatedness_SemEval2024/2_stage_models/ary/XLM_roberta_64_2e-5_seed_1/epoch_0', '/home/naive123/nlp/Sumit/Textural_Relateness/Semantic_Relatedness_SemEval2024/2_stage_models/eng/XLM_roberta_64_2e-5_seed_1/epoch_1', '/home/naive123/nlp/Sumit/Textural_Relateness/Semantic_Relatedness_SemEval2024/2_stage_models/esp/XLM_roberta_64_2e-5_seed_1/epoch_2', '/home/naive123/nlp/Sumit/Textural_Relateness/Semantic_Relatedness_SemEval2024/2_stage_models/hau/XLM_roberta_64_2e-5_seed_1/epoch_1', '/home/naive123/nlp/Sumit/Textural_Relateness/Semantic_Relatedness_SemEval2024/2_stage_models/kin/XLM_roberta_64_2e-5_seed_1/epoch_2', '/home/naive123/nlp/Sumit/Textural_Relateness/Semantic_Relatedness_SemEval2024/2_stage_models/mar/XLM_roberta_64_2e-5_seed_1/epoch_0', '/home/naive123/nlp/Sumit/Textural_Relateness/Semantic_Relatedness_SemEval2024/2_stage_models/tel/XLM_roberta_64_2e-5_seed_1/epoch_3']\n",
      "model device\n"
     ]
    },
    {
     "data": {
      "application/vnd.jupyter.widget-view+json": {
       "model_id": "c607fcd4d3434451b9851b9c0b125b82",
       "version_major": 2,
       "version_minor": 0
      },
      "text/plain": [
       "  0%|          | 0/7 [00:00<?, ?it/s]"
      ]
     },
     "metadata": {},
     "output_type": "display_data"
    },
    {
     "name": "stderr",
     "output_type": "stream",
     "text": [
      "You are using a model of type xlm-roberta to instantiate a model of type roberta. This is not supported for all configurations of models and can yield errors.\n"
     ]
    },
    {
     "name": "stdout",
     "output_type": "stream",
     "text": [
      "102\n",
      "            PairID                                               Text  \\\n",
      "0    kin_dev_00001  Impamvu zo kwandura indwara zo mu gitsina : Uk...   \n",
      "1    kin_dev_00002  Hakiri kare ku munota wa 18’, Nsengiyumva Mous...   \n",
      "2    kin_dev_00003  Iki gikorwa cyo kwibuka ku nshuro ya 19 Jenosi...   \n",
      "3    kin_dev_00004  Coltan Mu mezi atandatu ya mbere ya 2016, agac...   \n",
      "4    kin_dev_00005  Ubwo Minisiteri y’uburezi ifatanyije na REB ba...   \n",
      "..             ...                                                ...   \n",
      "97   kin_dev_00098  Kuva Wenger yagera muri Arsenal mu mwaka wa 19...   \n",
      "98   kin_dev_00099  Nyuma y’uru rupfu rutunguranye, umurambo wa Ga...   \n",
      "99   kin_dev_00100  Uwimana Jean Pierre, ni umuvugabutumwa ariko m...   \n",
      "100  kin_dev_00101  Dudu ukomoka mu Burundi yageze mu Rwanda aje g...   \n",
      "101  kin_dev_00102  U Butaliyani bwo abamaze kwandura ni 139422 mu...   \n",
      "\n",
      "                                            Split_Text  Pred_Score  \n",
      "0    [Impamvu zo kwandura indwara zo mu gitsina : U...    0.559555  \n",
      "1    [Hakiri kare ku munota wa 18’, Nsengiyumva Mou...    0.396192  \n",
      "2    [Iki gikorwa cyo kwibuka ku nshuro ya 19 Jenos...    0.457606  \n",
      "3    [Coltan Mu mezi atandatu ya mbere ya 2016, aga...    0.466154  \n",
      "4    [Ubwo Minisiteri y’uburezi ifatanyije na REB b...    0.485298  \n",
      "..                                                 ...         ...  \n",
      "97   [Kuva Wenger yagera muri Arsenal mu mwaka wa 1...    0.400878  \n",
      "98   [Nyuma y’uru rupfu rutunguranye, umurambo wa G...    0.407031  \n",
      "99   [Uwimana Jean Pierre, ni umuvugabutumwa ariko ...    0.413338  \n",
      "100  [Dudu ukomoka mu Burundi yageze mu Rwanda aje ...    0.689486  \n",
      "101  [U Butaliyani bwo abamaze kwandura ni 139422 m...    0.466611  \n",
      "\n",
      "[102 rows x 4 columns]\n",
      "path of the mar model is: ['/home/naive123/nlp/Sumit/Textural_Relateness/Semantic_Relatedness_SemEval2024/2_stage_models/amh/XLM_roberta_64_2e-5_seed_1/epoch_0', '/home/naive123/nlp/Sumit/Textural_Relateness/Semantic_Relatedness_SemEval2024/2_stage_models/arq/XLM_roberta_64_2e-5_seed_1/epoch_4', '/home/naive123/nlp/Sumit/Textural_Relateness/Semantic_Relatedness_SemEval2024/2_stage_models/ary/XLM_roberta_64_2e-5_seed_1/epoch_0', '/home/naive123/nlp/Sumit/Textural_Relateness/Semantic_Relatedness_SemEval2024/2_stage_models/eng/XLM_roberta_64_2e-5_seed_1/epoch_1', '/home/naive123/nlp/Sumit/Textural_Relateness/Semantic_Relatedness_SemEval2024/2_stage_models/esp/XLM_roberta_64_2e-5_seed_1/epoch_2', '/home/naive123/nlp/Sumit/Textural_Relateness/Semantic_Relatedness_SemEval2024/2_stage_models/hau/XLM_roberta_64_2e-5_seed_1/epoch_1', '/home/naive123/nlp/Sumit/Textural_Relateness/Semantic_Relatedness_SemEval2024/2_stage_models/kin/XLM_roberta_64_2e-5_seed_1/epoch_2', '/home/naive123/nlp/Sumit/Textural_Relateness/Semantic_Relatedness_SemEval2024/2_stage_models/mar/XLM_roberta_64_2e-5_seed_1/epoch_0', '/home/naive123/nlp/Sumit/Textural_Relateness/Semantic_Relatedness_SemEval2024/2_stage_models/tel/XLM_roberta_64_2e-5_seed_1/epoch_3']\n",
      "model device\n"
     ]
    },
    {
     "data": {
      "application/vnd.jupyter.widget-view+json": {
       "model_id": "68a49087d3134e24913fb7de66009e6f",
       "version_major": 2,
       "version_minor": 0
      },
      "text/plain": [
       "  0%|          | 0/19 [00:00<?, ?it/s]"
      ]
     },
     "metadata": {},
     "output_type": "display_data"
    },
    {
     "name": "stderr",
     "output_type": "stream",
     "text": [
      "You are using a model of type xlm-roberta to instantiate a model of type roberta. This is not supported for all configurations of models and can yield errors.\n"
     ]
    },
    {
     "name": "stdout",
     "output_type": "stream",
     "text": [
      "293\n",
      "            PairID                                               Text  \\\n",
      "0    MAR-dev-00001  \"या प्रसंगी जाहीर सभेला संबोधित करताना ते म्हण...   \n",
      "1    MAR-dev-00002  \"गौतम गंभीरची संपती 147 कोटी रुपये असल्याची मा...   \n",
      "2    MAR-dev-00003  \"खुद्द शरद पवार यांनी याबाबत स्थानिक नेत्यांचा...   \n",
      "3    MAR-dev-00004  \"पेट्रोकेमिकल प्रकल्प आणून येथील फळबागायती आम्...   \n",
      "4    MAR-dev-00005  \"त्यामुळे दक्षिण आफ्रिकेकडून सर्वाधिक बळी मिळव...   \n",
      "..             ...                                                ...   \n",
      "288  MAR-dev-00289  \"पंतप्रधानांनी “कथन” म्हणून जे वर्णन केले ते भ...   \n",
      "289  MAR-dev-00290  \"त्यावर आता राज्याच्या विधान परिषदेचे विरोधी प...   \n",
      "290  MAR-dev-00291  \"या योजनेचे उद्दीष्ट सर्व घरांना शक्ती प्रदान ...   \n",
      "291  MAR-dev-00292  \"शिवसेना व भाजपमध्ये युती झाल्यानंतर दोन्ही पक...   \n",
      "292  MAR-dev-00293  \"त्यांनी स्वच्छ भारत मिशन, बेटी बाचाओ - बेटी प...   \n",
      "\n",
      "                                            Split_Text  Pred_Score  \n",
      "0    [\"या प्रसंगी जाहीर सभेला संबोधित करताना ते म्ह...    0.689969  \n",
      "1    [\"गौतम गंभीरची संपती 147 कोटी रुपये असल्याची म...    0.624861  \n",
      "2    [\"खुद्द शरद पवार यांनी याबाबत स्थानिक नेत्यांच...    0.673021  \n",
      "3    [\"पेट्रोकेमिकल प्रकल्प आणून येथील फळबागायती आम...    0.591333  \n",
      "4    [\"त्यामुळे दक्षिण आफ्रिकेकडून सर्वाधिक बळी मिळ...    0.379384  \n",
      "..                                                 ...         ...  \n",
      "288  [\"पंतप्रधानांनी “कथन” म्हणून जे वर्णन केले ते ...    0.640020  \n",
      "289  [\"त्यावर आता राज्याच्या विधान परिषदेचे विरोधी ...    0.397373  \n",
      "290  [\"या योजनेचे उद्दीष्ट सर्व घरांना शक्ती प्रदान...    0.783391  \n",
      "291  [\"शिवसेना व भाजपमध्ये युती झाल्यानंतर दोन्ही प...    0.612643  \n",
      "292  [\"त्यांनी स्वच्छ भारत मिशन, बेटी बाचाओ - बेटी ...    0.725706  \n",
      "\n",
      "[293 rows x 4 columns]\n",
      "path of the tel model is: ['/home/naive123/nlp/Sumit/Textural_Relateness/Semantic_Relatedness_SemEval2024/2_stage_models/amh/XLM_roberta_64_2e-5_seed_1/epoch_0', '/home/naive123/nlp/Sumit/Textural_Relateness/Semantic_Relatedness_SemEval2024/2_stage_models/arq/XLM_roberta_64_2e-5_seed_1/epoch_4', '/home/naive123/nlp/Sumit/Textural_Relateness/Semantic_Relatedness_SemEval2024/2_stage_models/ary/XLM_roberta_64_2e-5_seed_1/epoch_0', '/home/naive123/nlp/Sumit/Textural_Relateness/Semantic_Relatedness_SemEval2024/2_stage_models/eng/XLM_roberta_64_2e-5_seed_1/epoch_1', '/home/naive123/nlp/Sumit/Textural_Relateness/Semantic_Relatedness_SemEval2024/2_stage_models/esp/XLM_roberta_64_2e-5_seed_1/epoch_2', '/home/naive123/nlp/Sumit/Textural_Relateness/Semantic_Relatedness_SemEval2024/2_stage_models/hau/XLM_roberta_64_2e-5_seed_1/epoch_1', '/home/naive123/nlp/Sumit/Textural_Relateness/Semantic_Relatedness_SemEval2024/2_stage_models/kin/XLM_roberta_64_2e-5_seed_1/epoch_2', '/home/naive123/nlp/Sumit/Textural_Relateness/Semantic_Relatedness_SemEval2024/2_stage_models/mar/XLM_roberta_64_2e-5_seed_1/epoch_0', '/home/naive123/nlp/Sumit/Textural_Relateness/Semantic_Relatedness_SemEval2024/2_stage_models/tel/XLM_roberta_64_2e-5_seed_1/epoch_3']\n",
      "model device\n"
     ]
    },
    {
     "data": {
      "application/vnd.jupyter.widget-view+json": {
       "model_id": "e38e647ce3fc450bbfc3e324cca7e25c",
       "version_major": 2,
       "version_minor": 0
      },
      "text/plain": [
       "  0%|          | 0/9 [00:00<?, ?it/s]"
      ]
     },
     "metadata": {},
     "output_type": "display_data"
    },
    {
     "name": "stdout",
     "output_type": "stream",
     "text": [
      "130\n",
      "            PairID                                               Text  \\\n",
      "0    TEL-dev-00001  \"బీజేపీ జాతీయ అధ్యక్షుడు అమిత్ షా నేడు రెండోరో...   \n",
      "1    TEL-dev-00002  \"ఈ ఏడాది జనవరి 1వ తేదీ నాటికి ఢిల్లీలో 10,76,4...   \n",
      "2    TEL-dev-00003  \"ప్రతిపక్షాలు అనవసర రాద్ధాంతం చేస్తున్నాయి : హ...   \n",
      "3    TEL-dev-00004  \"హైదరాబాద్ : కాంగ్రెస్ పార్టీ అధికారంలోకి రాగా...   \n",
      "4    TEL-dev-00005  \"ప్రజారాజధానిగా రూపుదిద్దేందుకు అవసరమైన పెట్టు...   \n",
      "..             ...                                                ...   \n",
      "125  TEL-dev-00126  \"రేలంగి నరసింహారావు వంటి దర్శకులు సినిమాలు చేయ...   \n",
      "126  TEL-dev-00127  \"సూర్య డ్యూయల్ రోల్ చేసిన ఈ సినిమా ఆశించిన స్థ...   \n",
      "127  TEL-dev-00128  \"ఇండియన్ ప్రీమియర్ లీగ్ – 2018 విజయవంతంగా కొనస...   \n",
      "128  TEL-dev-00129  \"వలస కార్మికుల రైళ్లను బెంగాల్ అనుమతించడంలేదు:...   \n",
      "129  TEL-dev-00130  \"తెలంగాణలోకి మావోలు చొరబడే అవకాశం లేదు: డీజీపీ...   \n",
      "\n",
      "                                            Split_Text  Pred_Score  \n",
      "0    [\"బీజేపీ జాతీయ అధ్యక్షుడు అమిత్ షా నేడు రెండోర...    0.685353  \n",
      "1    [\"ఈ ఏడాది జనవరి 1వ తేదీ నాటికి ఢిల్లీలో 10,76,...    0.333578  \n",
      "2    [\"ప్రతిపక్షాలు అనవసర రాద్ధాంతం చేస్తున్నాయి : ...    0.608220  \n",
      "3    [\"హైదరాబాద్ : కాంగ్రెస్ పార్టీ అధికారంలోకి రాగ...    0.572526  \n",
      "4    [\"ప్రజారాజధానిగా రూపుదిద్దేందుకు అవసరమైన పెట్ట...    0.336908  \n",
      "..                                                 ...         ...  \n",
      "125  [\"రేలంగి నరసింహారావు వంటి దర్శకులు సినిమాలు చే...    0.474854  \n",
      "126  [\"సూర్య డ్యూయల్ రోల్ చేసిన ఈ సినిమా ఆశించిన స్...    0.443539  \n",
      "127  [\"ఇండియన్ ప్రీమియర్ లీగ్ – 2018 విజయవంతంగా కొన...    0.677559  \n",
      "128  [\"వలస కార్మికుల రైళ్లను బెంగాల్ అనుమతించడంలేదు...    0.693146  \n",
      "129  [\"తెలంగాణలోకి మావోలు చొరబడే అవకాశం లేదు: డీజీప...    0.679122  \n",
      "\n",
      "[130 rows x 4 columns]\n"
     ]
    }
   ],
   "source": [
    "prediction(best_model_path, test_dataloader, test_pdf, \"Results/2_stage_results_XLM_roberta/csv_files/\", \"Results/2_stage_results_XLM_roberta/zip_files/\")"
   ]
  },
  {
   "cell_type": "code",
   "execution_count": null,
   "id": "23953531",
   "metadata": {
    "colab": {
     "base_uri": "https://localhost:8080/",
     "height": 1000,
     "referenced_widgets": [
      "a219c105df174fec8f38820e24878df8",
      "f9ef2a34240c41a8bbd9f293b445acee",
      "ac43d374f2934b1fbfdb118af83a67ff",
      "c7d39eb3098b4331a39cf4080904cd31",
      "3373622e13f04cda884525f2a62b5274",
      "776ac8ded4684cd79ee540f91f462097",
      "7eb919e496044bfc8f1c6bb5cb9646a7",
      "b4f1e95a97b74933ab486382851f0600",
      "a05ce3db03ae45fb855aad4931cbaccf",
      "cd4f0aa0f2dc4f3595e32a240656ac45",
      "d32c651555524da3b3ed65fd021d9b23"
     ]
    },
    "id": "23953531",
    "outputId": "02ba5564-5ff3-46ad-d9b5-9f0c07af4fe8"
   },
   "outputs": [
    {
     "name": "stdout",
     "output_type": "stream",
     "text": [
      "/content/drive/MyDrive/textual_relatedness/models/epoch_4\n",
      "model device\n"
     ]
    },
    {
     "data": {
      "application/vnd.jupyter.widget-view+json": {
       "model_id": "a219c105df174fec8f38820e24878df8",
       "version_major": 2,
       "version_minor": 0
      },
      "text/plain": [
       "  0%|          | 0/69 [00:00<?, ?it/s]"
      ]
     },
     "metadata": {},
     "output_type": "display_data"
    },
    {
     "name": "stdout",
     "output_type": "stream",
     "text": [
      "[0.8677147030830383, 0.9685263633728027, 0.9671577215194702, 0.8463200330734253, 0.7330904006958008, 0.9127029180526733, 0.8296362161636353, 0.8470741510391235, 0.8778345584869385, 0.8357004523277283, 0.8777657747268677, 0.8939412236213684, 0.9307860732078552, 0.7076771855354309, 0.9769800305366516, 0.7721829414367676]\n",
      "[0.8665282726287842, 0.6413089632987976, 0.8545132875442505, 0.8522595763206482, 0.8274969458580017, 0.715861976146698, 0.8624814748764038, 0.6947680711746216, 0.8666069507598877, 0.8458764553070068, 0.7459472417831421, 0.7477755546569824, 0.7157862782478333, 0.9091516733169556, 0.8417872786521912, 0.7588858008384705]\n",
      "[0.8460123538970947, 0.9143412709236145, 0.7486365437507629, 0.8199021816253662, 0.9296796321868896, 0.9182645082473755, 0.8750166296958923, 0.736318826675415, 0.8660807609558105, 0.791685938835144, 0.8380727767944336, 0.5579389929771423, 0.7509849667549133, 0.8312090039253235, 0.6925581693649292, 0.8871711492538452]\n",
      "[0.9125977158546448, 0.7389199733734131, 0.7764822840690613, 0.68840092420578, 0.9387292861938477, 0.7969425320625305, 0.8248135447502136, 0.6772861480712891, 0.8586978912353516, 0.9777011275291443, 0.8874154686927795, 0.6739872097969055, 0.8834215402603149, 0.7866482734680176, 0.7773351669311523, 0.8116716742515564]\n",
      "[0.8676154017448425, 0.7769858837127686, 0.6007888317108154, 0.8704367280006409, 0.6565966010093689, 0.7128086090087891, 0.7285296320915222, 0.6071553826332092, 0.7337401509284973, 0.8056524395942688, 0.7424430251121521, 0.7578495144844055, 0.8083913922309875, 0.9105081558227539, 0.8540879487991333, 0.8362905383110046]\n",
      "[0.6129883527755737, 0.8553131222724915, 0.8021039366722107, 0.7460891604423523, 0.8511760830879211, 0.7759618163108826, 0.6510352492332458, 0.8199950456619263, 0.8066298365592957, 0.8779789209365845, 0.8102896213531494, 0.8563389778137207, 0.8240170478820801, 0.7857024669647217, 0.665758490562439, 0.41877639293670654]\n",
      "[0.535126268863678, 0.7145754098892212, 0.8302267789840698, 0.8399310111999512, 0.7535743117332458, 0.6810297966003418, 0.8193602561950684, 0.7833361029624939, 0.7264328598976135, 0.814700722694397, 0.8890700936317444, 0.8661057353019714, 0.7739813923835754, 0.7892617583274841, 0.7291849851608276, 0.8133869171142578]\n",
      "[0.8845149278640747, 0.6805776357650757, 0.8522186279296875, 0.6075370907783508, 0.7109757661819458, 0.7544823288917542, 0.8734601140022278, 0.9144893884658813, 0.7383549809455872, 0.6566743850708008, 0.7347368597984314, 0.6126476526260376, 0.7450935244560242, 0.7304938435554504, 0.7323548197746277, 0.7363656759262085]\n",
      "[0.5696750283241272, 0.7893310189247131, 0.724033772945404, 0.8367185592651367, 0.8794240951538086, 0.5694462060928345, 0.7628082036972046, 0.4685143828392029, 0.6428132057189941, 0.8672599196434021, 0.8570325970649719, 0.7666550278663635, 0.8709169030189514, 0.6878766417503357, 0.7302732467651367, 0.8410137891769409]\n",
      "[0.7945368885993958, 0.4886033833026886, 0.6875863671302795, 0.5962990522384644, 0.6963503360748291, 0.8562417030334473, 0.6882737278938293, 0.8103843927383423, 0.7785177230834961, 0.6803365349769592, 0.8155147433280945, 0.4338601231575012, 0.8629575967788696, 0.5279040336608887, 0.7455397844314575, 0.7456901669502258]\n",
      "[0.6914498209953308, 0.6816147565841675, 0.7108612656593323, 0.6740738749504089, 0.5863587856292725, 0.6386629343032837, 0.6815798878669739, 0.7591009736061096, 0.8115370273590088, 0.8753837943077087, 0.6821166276931763, 0.780880331993103, 0.722501814365387, 0.670844316482544, 0.5509730577468872, 0.7838748693466187]\n",
      "[0.7635461688041687, 0.8062804341316223, 0.7676499485969543, 0.6961135268211365, 0.8252336382865906, 0.7765287160873413, 0.7981672883033752, 0.5038790106773376, 0.5991291999816895, 0.613842785358429, 0.5420262813568115, 0.5790339708328247, 0.7550806999206543, 0.6676300168037415, 0.7236920595169067, 0.7513909935951233]\n",
      "[0.7557905912399292, 0.5497308373451233, 0.6500184535980225, 0.47829654812812805, 0.7201093435287476, 0.4834113121032715, 0.8290863037109375, 0.5145223736763, 0.745802104473114, 0.733306884765625, 0.6647180914878845, 0.5589910745620728, 0.3958021104335785, 0.6851128935813904, 0.5421632528305054, 0.6009815335273743]\n",
      "[0.8332209587097168, 0.7682704329490662, 0.6302657127380371, 0.8005942106246948, 0.467773973941803, 0.6628631949424744, 0.6636659502983093, 0.7912847399711609, 0.8517056107521057, 0.6509930491447449, 0.7459546327590942, 0.6748185753822327, 0.37568598985671997, 0.571875274181366, 0.7925807237625122, 0.7525069713592529]\n",
      "[0.8203386068344116, 0.7012808918952942, 0.7131726145744324, 0.649682879447937, 0.5497952699661255, 0.6384521126747131, 0.6894230842590332, 0.6379262804985046, 0.7006551623344421, 0.6732701659202576, 0.6082227826118469, 0.7680372595787048, 0.6988623738288879, 0.7227332592010498, 0.7326575517654419, 0.8677712082862854]\n",
      "[0.7440866827964783, 0.7279987931251526, 0.5546641945838928, 0.7048081755638123, 0.7609732151031494, 0.7247181534767151, 0.7126827836036682, 0.592399537563324, 0.737643301486969, 0.696384847164154, 0.7581141591072083, 0.45237329602241516, 0.5359644293785095, 0.7154156565666199, 0.6439450979232788, 0.7261775135993958]\n",
      "[0.6568173170089722, 0.36415550112724304, 0.7084306478500366, 0.5046645402908325, 0.8005431890487671, 0.6629070043563843, 0.3579965829849243, 0.6643960475921631, 0.676478385925293, 0.7514448761940002, 0.749045729637146, 0.46291711926460266, 0.6314085125923157, 0.8372945785522461, 0.6638302206993103, 0.5968305468559265]\n",
      "[0.6159619688987732, 0.5479785799980164, 0.7577010989189148, 0.5597924590110779, 0.5970218181610107, 0.41803106665611267, 0.6677806377410889, 0.4731765687465668, 0.7244156002998352, 0.724801778793335, 0.5756092071533203, 0.5046148896217346, 0.6244946718215942, 0.6296952962875366, 0.5112917423248291, 0.7485302686691284]\n",
      "[0.5872706770896912, 0.4857117831707001, 0.7162171602249146, 0.792210042476654, 0.7568295001983643, 0.6570760607719421, 0.4917543828487396, 0.7651931643486023, 0.7112237215042114, 0.7169419527053833, 0.7029813528060913, 0.7277714610099792, 0.7589284181594849, 0.6551209688186646, 0.5693711638450623, 0.46737879514694214]\n",
      "[0.7954651713371277, 0.599090039730072, 0.6802348494529724, 0.5204313397407532, 0.47988563776016235, 0.6607168316841125, 0.6355413198471069, 0.7165834903717041, 0.5164875984191895, 0.5909861922264099, 0.6075013279914856, 0.6451167464256287, 0.7038095593452454, 0.5742455124855042, 0.5016467571258545, 0.6689820289611816]\n",
      "[0.4917182922363281, 0.5582256317138672, 0.7107778787612915, 0.5817015171051025, 0.42732223868370056, 0.7253537774085999, 0.6536867618560791, 0.6274294853210449, 0.5179013013839722, 0.6392372846603394, 0.5741750001907349, 0.45585379004478455, 0.4784505367279053, 0.803619921207428, 0.4351651966571808, 0.5483413934707642]\n",
      "[0.732692539691925, 0.6013601422309875, 0.40787866711616516, 0.7050773501396179, 0.5793753266334534, 0.631852924823761, 0.682934582233429, 0.6628378033638, 0.6563787460327148, 0.5699233412742615, 0.5429857969284058, 0.603460431098938, 0.611803412437439, 0.406984806060791, 0.7955825924873352, 0.5080260038375854]\n",
      "[0.6796773672103882, 0.42291733622550964, 0.42773619294166565, 0.6413198709487915, 0.62559974193573, 0.42390576004981995, 0.7674873471260071, 0.453953355550766, 0.5324772000312805, 0.48126670718193054, 0.35484805703163147, 0.5199660062789917, 0.46533530950546265, 0.580665647983551, 0.4887089729309082, 0.49547022581100464]\n",
      "[0.6657183170318604, 0.4987327456474304, 0.5081332921981812, 0.4914924204349518, 0.704449474811554, 0.41514167189598083, 0.6672231554985046, 0.5516412258148193, 0.42775318026542664, 0.5951196551322937, 0.5269733667373657, 0.45884624123573303, 0.5697087645530701, 0.37985360622406006, 0.7548948526382446, 0.5180165767669678]\n",
      "[0.4475179612636566, 0.7349339723587036, 0.5114209055900574, 0.6845754981040955, 0.6468175649642944, 0.7346823811531067, 0.727766752243042, 0.5967711210250854, 0.4678240120410919, 0.29345062375068665, 0.6100945472717285, 0.6080139875411987, 0.6296315789222717, 0.6399480700492859, 0.5185787081718445, 0.2929624021053314]\n",
      "[0.39583316445350647, 0.40293368697166443, 0.6328925490379333, 0.6488742828369141, 0.4566527307033539, 0.48557403683662415, 0.4891456067562103, 0.5165674090385437, 0.5029234290122986, 0.5631104111671448, 0.588857114315033, 0.4767909049987793, 0.7401829361915588, 0.4396592080593109, 0.6620293855667114, 0.5203815698623657]\n",
      "[0.40108129382133484, 0.5084739327430725, 0.45296114683151245, 0.5227631330490112, 0.5336005687713623, 0.5145265460014343, 0.6447835564613342, 0.5551121234893799, 0.6503718495368958, 0.4585230350494385, 0.48505672812461853, 0.329599529504776, 0.4209514558315277, 0.34666892886161804, 0.4994698166847229, 0.5342116355895996]\n",
      "[0.47572827339172363, 0.38491132855415344, 0.36783096194267273, 0.49187585711479187, 0.28458353877067566, 0.4767128527164459, 0.5004671216011047, 0.5321575403213501, 0.6323726177215576, 0.3402072787284851, 0.4772498309612274, 0.589470386505127, 0.6249916553497314, 0.3878488540649414, 0.4786302149295807, 0.5893477201461792]\n",
      "[0.5374130606651306, 0.2921169400215149, 0.44622522592544556, 0.3992149531841278, 0.3708661198616028, 0.5271521210670471, 0.404007226228714, 0.575543224811554, 0.450972318649292, 0.41017070412635803, 0.5899364352226257, 0.5219959020614624, 0.4483412206172943, 0.4690077304840088, 0.5076749920845032, 0.5142102241516113]\n",
      "[0.6005768179893494, 0.5396008491516113, 0.3505368232727051, 0.5512237548828125, 0.4777122437953949, 0.4563400447368622, 0.40195491909980774, 0.3215274512767792, 0.5844259262084961, 0.5240865349769592, 0.4733485281467438, 0.5756392478942871, 0.5055953860282898, 0.46878814697265625, 0.5304440855979919, 0.34768185019493103]\n",
      "[0.4967551529407501, 0.4671645760536194, 0.7096791863441467, 0.5679930448532104, 0.5811344981193542, 0.3928481638431549, 0.5743778944015503, 0.28307417035102844, 0.4815561771392822, 0.5503302812576294, 0.5033143162727356, 0.585908055305481, 0.2862215042114258, 0.5405269861221313, 0.5206602811813354, 0.5546121597290039]\n",
      "[0.4641750752925873, 0.6693835854530334, 0.5750483870506287, 0.44112852215766907, 0.33313873410224915, 0.44660937786102295, 0.3552725315093994, 0.5872176289558411, 0.6000187993049622, 0.6304168701171875, 0.61095130443573, 0.4141298234462738, 0.42774686217308044, 0.4945569634437561, 0.4322155714035034, 0.409628301858902]\n",
      "[0.4412001073360443, 0.49204421043395996, 0.41914987564086914, 0.5585675239562988, 0.5477496385574341, 0.5608944296836853, 0.5703307390213013, 0.4690832793712616, 0.46917811036109924, 0.3381388485431671, 0.8416863083839417, 0.3721082806587219, 0.45366185903549194, 0.3920102119445801, 0.3205615282058716, 0.5571230053901672]\n",
      "[0.29594823718070984, 0.42724594473838806, 0.41893696784973145, 0.5009051561355591, 0.3092600405216217, 0.4700916111469269, 0.5192553400993347, 0.38165009021759033, 0.6400497555732727, 0.47003665566444397, 0.6031798124313354, 0.5151445269584656, 0.3360174000263214, 0.4105350375175476, 0.7204568982124329, 0.3871140778064728]\n",
      "[0.6695787310600281, 0.5593891739845276, 0.3468274176120758, 0.443228155374527, 0.49715402722358704, 0.6372145414352417, 0.6325569152832031, 0.710082471370697, 0.4523726999759674, 0.4436282515525818, 0.548438310623169, 0.5558977127075195, 0.41763070225715637, 0.644938051700592, 0.6119502782821655, 0.5444044470787048]\n",
      "[0.43974214792251587, 0.5186716318130493, 0.5345919132232666, 0.439504474401474, 0.5992687940597534, 0.6397246718406677, 0.36838558316230774, 0.3797612190246582, 0.3505069315433502, 0.3835889399051666, 0.3940337002277374, 0.46957704424858093, 0.38522469997406006, 0.3658401072025299, 0.7870165705680847, 0.4651573598384857]\n",
      "[0.5436277985572815, 0.5015825629234314, 0.3026878237724304, 0.553155243396759, 0.5252094864845276, 0.6245197653770447, 0.44845065474510193, 0.31902459263801575, 0.3896573781967163, 0.44940611720085144, 0.569308876991272, 0.6782945990562439, 0.40620771050453186, 0.39234867691993713, 0.46725359559059143, 0.3611889183521271]\n",
      "[0.3514730632305145, 0.42564156651496887, 0.34664931893348694, 0.5365900993347168, 0.318119615316391, 0.5631741285324097, 0.5846117734909058, 0.44340211153030396, 0.3671434819698334, 0.7308087348937988, 0.3241208791732788, 0.3645034730434418, 0.5220812559127808, 0.4989330470561981, 0.38438406586647034, 0.5162600874900818]\n",
      "[0.41076985001564026, 0.48537302017211914, 0.508958101272583, 0.45198604464530945, 0.5404341816902161, 0.3972890079021454, 0.5375385880470276, 0.5585221648216248, 0.4526071846485138, 0.4288940727710724, 0.47000929713249207, 0.6769518256187439, 0.5526622533798218, 0.3962261974811554, 0.3979501724243164, 0.458201140165329]\n",
      "[0.33609962463378906, 0.3050488829612732, 0.3568897545337677, 0.4679751992225647, 0.5749983191490173, 0.4225524663925171, 0.32404419779777527, 0.5794743895530701, 0.4018233120441437, 0.25599178671836853, 0.4735492467880249, 0.41129618883132935, 0.3183351457118988, 0.29159435629844666, 0.31845512986183167, 0.6039820909500122]\n",
      "[0.38948094844818115, 0.3747359812259674, 0.35954445600509644, 0.35330072045326233, 0.33084794878959656, 0.45006263256073, 0.5800220370292664, 0.5941803455352783, 0.63934326171875, 0.3578279912471771, 0.6498317122459412, 0.2980057895183563, 0.2588352560997009, 0.4966159164905548, 0.26893702149391174, 0.37498241662979126]\n",
      "[0.31120291352272034, 0.2813769280910492, 0.36227715015411377, 0.5117611289024353, 0.39257916808128357, 0.32534387707710266, 0.33779776096343994, 0.34015029668807983, 0.43883517384529114, 0.4043523669242859, 0.43591973185539246, 0.4637933373451233, 0.4321853220462799, 0.4052669107913971, 0.4045693278312683, 0.42393797636032104]\n",
      "[0.4665655791759491, 0.5137737989425659, 0.32838091254234314, 0.49787643551826477, 0.26206672191619873, 0.4382003843784332, 0.45528408885002136, 0.4012407064437866, 0.4599205255508423, 0.39076873660087585, 0.3457895517349243, 0.3137081265449524, 0.40010344982147217, 0.36732491850852966, 0.3906237483024597, 0.29865702986717224]\n",
      "[0.5486364364624023, 0.458240807056427, 0.4688913822174072, 0.30908772349357605, 0.5221996903419495, 0.4060990810394287, 0.5345959663391113, 0.25860074162483215, 0.36127328872680664, 0.6353327035903931, 0.4462979733943939, 0.504581868648529, 0.44281867146492004, 0.33134496212005615, 0.4771113097667694, 0.559434711933136]\n",
      "[0.4002474844455719, 0.4853816330432892, 0.4270796775817871, 0.47597044706344604, 0.5226415395736694, 0.4923003613948822, 0.3681400716304779, 0.2891533374786377, 0.617669403553009, 0.35055530071258545, 0.23747017979621887, 0.29766494035720825, 0.5025187134742737, 0.48599255084991455, 0.4740353524684906, 0.4300254285335541]\n",
      "[0.34468626976013184, 0.27475324273109436, 0.4320240914821625, 0.34626859426498413, 0.4421449303627014, 0.4194071590900421, 0.5311052203178406, 0.2923271954059601, 0.5383802056312561, 0.45347046852111816, 0.4303613603115082, 0.45110270380973816, 0.42542439699172974, 0.4035344421863556, 0.2091430425643921, 0.3743937313556671]\n",
      "[0.3609825372695923, 0.5606198906898499, 0.4578160345554352, 0.46292731165885925, 0.37468433380126953, 0.24120177328586578, 0.34780213236808777, 0.6972101926803589, 0.5358753800392151, 0.5361166000366211, 0.39040258526802063, 0.42446568608283997, 0.3520972728729248, 0.4225212633609772, 0.4389834403991699, 0.6247273087501526]\n",
      "[0.4444643557071686, 0.3657087981700897, 0.458823561668396, 0.41136372089385986, 0.617181658744812, 0.3059636950492859, 0.5353323817253113, 0.4062763750553131, 0.4829050302505493, 0.3688087463378906, 0.34555596113204956, 0.3882962167263031, 0.3681063950061798, 0.39893245697021484, 0.5595273375511169, 0.32096514105796814]\n",
      "[0.37969210743904114, 0.35881495475769043, 0.4934351146221161, 0.5136829614639282, 0.24603727459907532, 0.4357181191444397, 0.46248236298561096, 0.5142673850059509, 0.4412479102611542, 0.3597833514213562, 0.32822078466415405, 0.5172741413116455, 0.223028764128685, 0.5851766467094421, 0.3584544062614441, 0.3645617663860321]\n",
      "[0.46772268414497375, 0.38855037093162537, 0.3533845841884613, 0.21596533060073853, 0.2897666394710541, 0.4438075125217438, 0.3976622521877289, 0.3637201488018036, 0.48748183250427246, 0.6188271045684814, 0.4325890839099884, 0.46794044971466064, 0.33449819684028625, 0.4254645109176636, 0.5247325897216797, 0.32913899421691895]\n",
      "[0.4965500831604004, 0.2503681778907776, 0.3599465489387512, 0.44136300683021545, 0.3678869903087616, 0.4031948149204254, 0.27654406428337097, 0.4175437390804291, 0.37428000569343567, 0.29640689492225647, 0.36783942580223083, 0.2613198757171631, 0.3762272596359253, 0.2969036400318146, 0.19470572471618652, 0.3659278452396393]\n",
      "[0.33645108342170715, 0.37207186222076416, 0.5834531188011169, 0.3828737735748291, 0.2184108942747116, 0.34555140137672424, 0.4203716814517975, 0.33583733439445496, 0.34228384494781494, 0.2917914092540741, 0.26803091168403625, 0.359313040971756, 0.28259822726249695, 0.5109000205993652, 0.3152370750904083, 0.37643471360206604]\n",
      "[0.41684019565582275, 0.6552872061729431, 0.323496550321579, 0.31555792689323425, 0.40643826127052307, 0.286329060792923, 0.22452634572982788, 0.2670615613460541, 0.3225040137767792, 0.49171751737594604, 0.3377825915813446, 0.25686803460121155, 0.2609758675098419, 0.3098756968975067, 0.3047572076320648, 0.3469637334346771]\n",
      "[0.25831496715545654, 0.29759013652801514, 0.2007123976945877, 0.3261053264141083, 0.20047138631343842, 0.38572946190834045, 0.31529128551483154, 0.21941937506198883, 0.4159843623638153, 0.32747331261634827, 0.3725307285785675, 0.29751262068748474, 0.3480042815208435, 0.395363986492157, 0.4913448393344879, 0.2557719349861145]\n",
      "[0.5004673600196838, 0.3306483030319214, 0.2819514572620392, 0.33474621176719666, 0.1861840784549713, 0.39268022775650024, 0.324393093585968, 0.1590726673603058, 0.2760302722454071, 0.44090867042541504, 0.35578566789627075, 0.29468122124671936, 0.34140661358833313, 0.32424384355545044, 0.3545983135700226, 0.41446033120155334]\n",
      "[0.415286660194397, 0.5380846858024597, 0.3142298758029938, 0.3461316227912903, 0.44509485363960266, 0.2896546721458435, 0.5980759263038635, 0.40381118655204773, 0.4495519697666168, 0.4026166498661041, 0.3465767204761505, 0.26820841431617737, 0.2407168447971344, 0.1690911054611206, 0.33863943815231323, 0.303776353597641]\n",
      "[0.38836541771888733, 0.3315361440181732, 0.4108574092388153, 0.2633095681667328, 0.34969088435173035, 0.2527572214603424, 0.38126760721206665, 0.4547554850578308, 0.5485537052154541, 0.2912135422229767, 0.34108081459999084, 0.2387176752090454, 0.28882357478141785, 0.3069906532764435, 0.31688645482063293, 0.4008941352367401]\n",
      "[0.2590853273868561, 0.405527263879776, 0.3309361934661865, 0.20308327674865723, 0.3055945932865143, 0.40500253438949585, 0.4370920956134796, 0.22538498044013977, 0.19515319168567657, 0.4190288782119751, 0.3008626699447632, 0.27186110615730286, 0.3955290615558624, 0.39837101101875305, 0.3165518641471863, 0.3061675727367401]\n",
      "[0.2035045325756073, 0.28753140568733215, 0.2916768491268158, 0.3007075786590576, 0.2486252784729004, 0.2984655797481537, 0.39799419045448303, 0.2451019138097763, 0.5679516792297363, 0.24085265398025513, 0.24275636672973633, 0.20723503828048706, 0.5092527270317078, 0.2765295207500458, 0.18569032847881317, 0.4043920040130615]\n",
      "[0.35582926869392395, 0.37295472621917725, 0.3704676330089569, 0.30449023842811584, 0.44540706276893616, 0.2645205557346344, 0.3551512658596039, 0.4134550392627716, 0.300114244222641, 0.25812891125679016, 0.25511685013771057, 0.3694072663784027, 0.3425828814506531, 0.2599697411060333, 0.1680884063243866, 0.23326563835144043]\n",
      "[0.2513670325279236, 0.34527984261512756, 0.40845420956611633, 0.3211878836154938, 0.17802606523036957, 0.3347155749797821, 0.3761744201183319, 0.288780152797699, 0.3933245837688446, 0.37285277247428894, 0.2927354574203491, 0.3401005268096924, 0.3914964497089386, 0.2763507664203644, 0.44434601068496704, 0.20571742951869965]\n",
      "[0.2259553074836731, 0.28317901492118835, 0.2063847780227661, 0.391275554895401, 0.3878784775733948, 0.49798616766929626, 0.28573426604270935, 0.2833717167377472, 0.300059050321579, 0.243721142411232, 0.32901594042778015, 0.15858961641788483, 0.27806636691093445, 0.2857264578342438, 0.3195040225982666, 0.19487804174423218]\n",
      "[0.2574150264263153, 0.22652983665466309, 0.20042790472507477, 0.3170814514160156, 0.19270175695419312, 0.2395208179950714, 0.3813239634037018, 0.3139578402042389, 0.412789911031723, 0.3395310342311859, 0.3771107494831085, 0.2610431909561157, 0.44839876890182495, 0.24277187883853912, 0.46085789799690247, 0.44348886609077454]\n",
      "[0.1466178447008133, 0.18747806549072266, 0.24054110050201416, 0.27205440402030945, 0.359233021736145, 0.3734036087989807, 0.3654261529445648, 0.288728803396225, 0.30746668577194214, 0.3436723053455353, 0.22091051936149597, 0.35959139466285706, 0.2752458155155182, 0.31018832325935364, 0.2627262771129608, 0.2111589014530182]\n",
      "[0.335916668176651, 0.37330737709999084, 0.3359416127204895, 0.28023985028266907, 0.2632271349430084, 0.22293026745319366, 0.16476866602897644, 0.33341965079307556, 0.2678862512111664, 0.20243707299232483, 0.3416763246059418, 0.17911624908447266, 0.32236284017562866, 0.17143215239048004, 0.37022313475608826, 0.3181167244911194]\n",
      "[0.22410427033901215, 0.35003212094306946, 0.3694797456264496, 0.2990657091140747, 0.19532471895217896, 0.25236183404922485, 0.2982860803604126, 0.17604276537895203, 0.1447659432888031, 0.20877690613269806, 0.3230302631855011, 0.2559959292411804, 0.23154526948928833, 0.32407042384147644, 0.29210516810417175, 0.17819860577583313]\n",
      "[0.33243218064308167, 0.1998298019170761, 0.3591495156288147, 0.3191499412059784, 0.1840486228466034, 0.35817834734916687, 0.18118475377559662, 0.31470048427581787, 0.1371898353099823, 0.1378984898328781, 0.20136360824108124, 0.275847464799881, 0.242656871676445, 0.31429144740104675, 0.21925145387649536, 0.3480931222438812]\n",
      "[0.23118585348129272, 0.30967384576797485, 0.183142751455307, 0.2615467607975006, 0.2848164141178131, 0.2612048089504242, 0.21698977053165436, 0.16891628503799438, 0.22323939204216003, 0.33653464913368225, 0.19000126421451569, 0.3103996813297272, 0.16852989792823792, 0.34749874472618103, 0.15176865458488464, 0.18347929418087006]\n",
      "[0.2654929757118225, 0.2419465035200119, 0.19934779405593872, 0.25422683358192444, 0.3041159212589264, 0.2133556306362152, 0.22408996522426605, 0.2295648604631424, 0.18070214986801147, 0.3568987548351288, 0.15038862824440002, 0.2583763003349304]\n"
     ]
    }
   ],
   "source": [
    "valid_predicted = prediction(best_model_path, valid_data)"
   ]
  },
  {
   "cell_type": "code",
   "execution_count": 93,
   "id": "110cad4c-52c5-440d-9477-07ed8bcb8ba8",
   "metadata": {},
   "outputs": [],
   "source": [
    "\n",
    "best_model_path=[\"/home/naive123/nlp/Sumit/Textural_Relateness/Semantic_Relatedness_SemEval2024/2_stage_models/amh/XLM_roberta_64_2e-5_seed_1/epoch_0\",\n",
    "\t\t\"/home/naive123/nlp/Sumit/Textural_Relateness/Semantic_Relatedness_SemEval2024/2_stage_models/arq/XLM_roberta_64_2e-5_seed_1/epoch_4\",\n",
    "\t\t\"/home/naive123/nlp/Sumit/Textural_Relateness/Semantic_Relatedness_SemEval2024/2_stage_models/ary/XLM_roberta_64_2e-5_seed_1/epoch_0\",\n",
    "\t\t\"/home/naive123/nlp/Sumit/Textural_Relateness/Semantic_Relatedness_SemEval2024/2_stage_models/eng/XLM_roberta_64_2e-5_seed_1/epoch_1\",\n",
    "\t\t\"/home/naive123/nlp/Sumit/Textural_Relateness/Semantic_Relatedness_SemEval2024/2_stage_models/esp/XLM_roberta_64_2e-5_seed_1/epoch_2\",\n",
    "\t\t\"/home/naive123/nlp/Sumit/Textural_Relateness/Semantic_Relatedness_SemEval2024/2_stage_models/hau/XLM_roberta_64_2e-5_seed_1/epoch_1\",\n",
    "\t\t\"/home/naive123/nlp/Sumit/Textural_Relateness/Semantic_Relatedness_SemEval2024/2_stage_models/kin/XLM_roberta_64_2e-5_seed_1/epoch_2\",\n",
    "\t\t\"/home/naive123/nlp/Sumit/Textural_Relateness/Semantic_Relatedness_SemEval2024/2_stage_models/mar/XLM_roberta_64_2e-5_seed_1/epoch_0\",\n",
    "\t\t\"/home/naive123/nlp/Sumit/Textural_Relateness/Semantic_Relatedness_SemEval2024/2_stage_models/tel/XLM_roberta_64_2e-5_seed_1/epoch_3\"\n",
    "                ]\n",
    "\t\t\n",
    "\t\t\n",
    "\t\t"
   ]
  },
  {
   "cell_type": "code",
   "execution_count": 96,
   "id": "MLe7SULmpx3w",
   "metadata": {
    "colab": {
     "base_uri": "https://localhost:8080/",
     "height": 399,
     "referenced_widgets": [
      "df82e8d0b6d94d18845c65330c342d3e",
      "07702ed9c755477fb6b6a446c81640e4",
      "03746667ace44f73958360712f32b03b",
      "0d9e18180a734a35ad38e67b7ce840ab",
      "131fec2bc4e64319a4d60d63de7bc1fb",
      "30d6d022ea9546678e6c8f717fb2f931",
      "213e31309e6b485789e72d84b297e907",
      "af944263854449529e3de5c6ed179616",
      "435fb577ab714199b2cb57310f0cbfe7",
      "06e10f531f314fc2b0687017f1b21ab4",
      "3c8950a1739147d8a358325d4df7696d"
     ]
    },
    "id": "MLe7SULmpx3w",
    "outputId": "89c67970-d958-4442-a710-1d109458d8c9"
   },
   "outputs": [],
   "source": [
    "test_lan=['amh', 'arq', 'ary', 'eng', 'esp', 'hau', 'kin', 'mar', 'tel']\n",
    "best_models={}\n",
    "for lan, best_model in zip(test_lan, best_model_path):\n",
    "    best_models[lan]=best_model"
   ]
  },
  {
   "cell_type": "code",
   "execution_count": 97,
   "id": "b109f3b3-13f0-431d-b386-a6f972ff4bb4",
   "metadata": {},
   "outputs": [
    {
     "data": {
      "text/plain": [
       "{'amh': '/home/naive123/nlp/Sumit/Textural_Relateness/Semantic_Relatedness_SemEval2024/2_stage_models/amh/XLM_roberta_64_2e-5_seed_1/epoch_0',\n",
       " 'arq': '/home/naive123/nlp/Sumit/Textural_Relateness/Semantic_Relatedness_SemEval2024/2_stage_models/arq/XLM_roberta_64_2e-5_seed_1/epoch_4',\n",
       " 'ary': '/home/naive123/nlp/Sumit/Textural_Relateness/Semantic_Relatedness_SemEval2024/2_stage_models/ary/XLM_roberta_64_2e-5_seed_1/epoch_0',\n",
       " 'eng': '/home/naive123/nlp/Sumit/Textural_Relateness/Semantic_Relatedness_SemEval2024/2_stage_models/eng/XLM_roberta_64_2e-5_seed_1/epoch_1',\n",
       " 'esp': '/home/naive123/nlp/Sumit/Textural_Relateness/Semantic_Relatedness_SemEval2024/2_stage_models/esp/XLM_roberta_64_2e-5_seed_1/epoch_2',\n",
       " 'hau': '/home/naive123/nlp/Sumit/Textural_Relateness/Semantic_Relatedness_SemEval2024/2_stage_models/hau/XLM_roberta_64_2e-5_seed_1/epoch_1',\n",
       " 'kin': '/home/naive123/nlp/Sumit/Textural_Relateness/Semantic_Relatedness_SemEval2024/2_stage_models/kin/XLM_roberta_64_2e-5_seed_1/epoch_2',\n",
       " 'mar': '/home/naive123/nlp/Sumit/Textural_Relateness/Semantic_Relatedness_SemEval2024/2_stage_models/mar/XLM_roberta_64_2e-5_seed_1/epoch_0',\n",
       " 'tel': '/home/naive123/nlp/Sumit/Textural_Relateness/Semantic_Relatedness_SemEval2024/2_stage_models/tel/XLM_roberta_64_2e-5_seed_1/epoch_3'}"
      ]
     },
     "execution_count": 97,
     "metadata": {},
     "output_type": "execute_result"
    }
   ],
   "source": [
    "best_models"
   ]
  },
  {
   "cell_type": "code",
   "execution_count": 87,
   "id": "b39f9f12-71c5-4186-b90e-e36a562de240",
   "metadata": {},
   "outputs": [
    {
     "name": "stderr",
     "output_type": "stream",
     "text": [
      "You are using a model of type xlm-roberta to instantiate a model of type roberta. This is not supported for all configurations of models and can yield errors.\n"
     ]
    },
    {
     "name": "stdout",
     "output_type": "stream",
     "text": [
      "path of the amh model is: ['/home/naive123/nlp/Sumit/Textural_Relateness/Semantic_Relatedness_SemEval2024/2_stage_models/amh/XLM_roberta_64_2e-5_seed_1/epoch_0', '/home/naive123/nlp/Sumit/Textural_Relateness/Semantic_Relatedness_SemEval2024/2_stage_models/arq/XLM_roberta_64_2e-5_seed_1/epoch_4', '/home/naive123/nlp/Sumit/Textural_Relateness/Semantic_Relatedness_SemEval2024/2_stage_models/ary/XLM_roberta_64_2e-5_seed_1/epoch_0', '/home/naive123/nlp/Sumit/Textural_Relateness/Semantic_Relatedness_SemEval2024/2_stage_models/eng/XLM_roberta_64_2e-5_seed_1/epoch_1', '/home/naive123/nlp/Sumit/Textural_Relateness/Semantic_Relatedness_SemEval2024/2_stage_models/esp/XLM_roberta_64_2e-5_seed_1/epoch_2', '/home/naive123/nlp/Sumit/Textural_Relateness/Semantic_Relatedness_SemEval2024/2_stage_models/hau/XLM_roberta_64_2e-5_seed_1/epoch_1', '/home/naive123/nlp/Sumit/Textural_Relateness/Semantic_Relatedness_SemEval2024/2_stage_models/kin/XLM_roberta_64_2e-5_seed_1/epoch_2', '/home/naive123/nlp/Sumit/Textural_Relateness/Semantic_Relatedness_SemEval2024/2_stage_models/mar/XLM_roberta_64_2e-5_seed_1/epoch_0', '/home/naive123/nlp/Sumit/Textural_Relateness/Semantic_Relatedness_SemEval2024/2_stage_models/tel/XLM_roberta_64_2e-5_seed_1/epoch_3']\n",
      "model device\n"
     ]
    },
    {
     "data": {
      "application/vnd.jupyter.widget-view+json": {
       "model_id": "71f506f54638402593200bf02005fa3a",
       "version_major": 2,
       "version_minor": 0
      },
      "text/plain": [
       "  0%|          | 0/9 [00:00<?, ?it/s]"
      ]
     },
     "metadata": {},
     "output_type": "display_data"
    },
    {
     "name": "stdout",
     "output_type": "stream",
     "text": [
      "[0.6853533983230591, 0.33357831835746765, 0.6082204580307007, 0.5725260376930237, 0.3369078040122986, 0.672784686088562, 0.3820137679576874, 0.5785830020904541, 0.46819403767585754, 0.6229170560836792, 0.6752933263778687, 0.6368311643600464, 0.6820259094238281, 0.6430413722991943, 0.4802967607975006, 0.26543769240379333]\n",
      "[0.611850380897522, 0.4251039922237396, 0.4825853407382965, 0.40129056572914124, 0.6453731060028076, 0.48656055331230164, 0.4750514626502991, 0.508009672164917, 0.6785788536071777, 0.4598662555217743, 0.4739186465740204, 0.40198585391044617, 0.6958822011947632, 0.6458245515823364, 0.33412542939186096, 0.6226108074188232]\n",
      "[0.6545341610908508, 0.6752777099609375, 0.31604403257369995, 0.6305542588233948, 0.5135071873664856, 0.7008060812950134, 0.5528655648231506, 0.6815924048423767, 0.3599611818790436, 0.5180437564849854, 0.6797119379043579, 0.6715090870857239, 0.3374292850494385, 0.27171221375465393, 0.34256649017333984, 0.6294949054718018]\n",
      "[0.3774915933609009, 0.5471764802932739, 0.5889962315559387, 0.625117301940918, 0.3717714846134186, 0.5828074812889099, 0.45969489216804504, 0.6248160004615784, 0.6800308227539062, 0.3061716854572296, 0.6800420880317688, 0.638740599155426, 0.6788862943649292, 0.6079802513122559, 0.487800270318985, 0.3688585162162781]\n",
      "[0.6845656633377075, 0.7116047143936157, 0.42924991250038147, 0.3807465732097626, 0.6489652395248413, 0.7042821645736694, 0.6390548944473267, 0.6034990549087524, 0.4051259756088257, 0.33583053946495056, 0.6378695964813232, 0.32460442185401917, 0.31102821230888367, 0.34349384903907776, 0.4717487096786499, 0.3074370324611664]\n",
      "[0.49654078483581543, 0.2830452024936676, 0.664162278175354, 0.6671234369277954, 0.6937880516052246, 0.28456780314445496, 0.6591128706932068, 0.3236013352870941, 0.6552431583404541, 0.6555482745170593, 0.6785719990730286, 0.2966940402984619, 0.532133936882019, 0.6149740815162659, 0.4929494261741638, 0.2833836078643799]\n",
      "[0.42485931515693665, 0.442944198846817, 0.3873056173324585, 0.3000977039337158, 0.4410823583602905, 0.6759341955184937, 0.28447628021240234, 0.5091544389724731, 0.651533842086792, 0.35654985904693604, 0.6618308424949646, 0.2918229103088379, 0.3203221261501312, 0.6552319526672363, 0.3681384325027466, 0.6923244595527649]\n",
      "[0.6971380710601807, 0.6969267129898071, 0.6609619855880737, 0.3540174067020416, 0.3428143262863159, 0.6371384859085083, 0.672805666923523, 0.6671338081359863, 0.5350651144981384, 0.4531761705875397, 0.6353586316108704, 0.3597052991390228, 0.2867152690887451, 0.4748537242412567, 0.44353872537612915, 0.6775585412979126]\n",
      "[0.6931455135345459, 0.6791220903396606]\n"
     ]
    },
    {
     "ename": "IsADirectoryError",
     "evalue": "[Errno 21] Is a directory: 'Results/2_stage_results_XLM_roberta/Zip_files'",
     "output_type": "error",
     "traceback": [
      "\u001b[0;31m---------------------------------------------------------------------------\u001b[0m",
      "\u001b[0;31mIsADirectoryError\u001b[0m                         Traceback (most recent call last)",
      "Cell \u001b[0;32mIn[87], line 1\u001b[0m\n\u001b[0;32m----> 1\u001b[0m \u001b[43mprediction\u001b[49m\u001b[43m(\u001b[49m\u001b[43mbest_model_path\u001b[49m\u001b[43m,\u001b[49m\u001b[43m \u001b[49m\u001b[43mtest_dataloader\u001b[49m\u001b[43m,\u001b[49m\u001b[43m \u001b[49m\u001b[43mtest_pdf\u001b[49m\u001b[43m,\u001b[49m\u001b[43m \u001b[49m\u001b[38;5;124;43m\"\u001b[39;49m\u001b[38;5;124;43mResults/2_stage_results_XLM_roberta\u001b[39;49m\u001b[38;5;124;43m\"\u001b[39;49m\u001b[43m,\u001b[49m\u001b[43m \u001b[49m\u001b[38;5;124;43m\"\u001b[39;49m\u001b[38;5;124;43mResults/2_stage_results_XLM_roberta/Zip_files\u001b[39;49m\u001b[38;5;124;43m\"\u001b[39;49m\u001b[43m)\u001b[49m\n",
      "Cell \u001b[0;32mIn[86], line 53\u001b[0m, in \u001b[0;36mprediction\u001b[0;34m(best_model_path, eval_data, test_pdf, results_path, zip_file_path)\u001b[0m\n\u001b[1;32m     51\u001b[0m     \u001b[38;5;28;01mif\u001b[39;00m \u001b[38;5;129;01mnot\u001b[39;00m os\u001b[38;5;241m.\u001b[39mpath\u001b[38;5;241m.\u001b[39mexists(zip_file_path):\n\u001b[1;32m     52\u001b[0m         os\u001b[38;5;241m.\u001b[39mmakedirs(zip_file_path)\n\u001b[0;32m---> 53\u001b[0m     \u001b[38;5;28;01mwith\u001b[39;00m \u001b[43mzipfile\u001b[49m\u001b[38;5;241;43m.\u001b[39;49m\u001b[43mZipFile\u001b[49m\u001b[43m(\u001b[49m\u001b[43mzip_file_path\u001b[49m\u001b[43m,\u001b[49m\u001b[43m \u001b[49m\u001b[38;5;124;43m'\u001b[39;49m\u001b[38;5;124;43mw\u001b[39;49m\u001b[38;5;124;43m'\u001b[39;49m\u001b[43m)\u001b[49m \u001b[38;5;28;01mas\u001b[39;00m zipf:\n\u001b[1;32m     54\u001b[0m \u001b[38;5;66;03m# Add the CSV file to the zip file with a new name (you can change it if needed)\u001b[39;00m\n\u001b[1;32m     55\u001b[0m         zipf\u001b[38;5;241m.\u001b[39mwrite(zip_file_path, arcname\u001b[38;5;241m=\u001b[39mos\u001b[38;5;241m.\u001b[39mpath\u001b[38;5;241m.\u001b[39mbasename(csv_file_path))\n\u001b[1;32m     57\u001b[0m \u001b[38;5;28mprint\u001b[39m(\u001b[38;5;124mf\u001b[39m\u001b[38;5;124m\"\u001b[39m\u001b[38;5;124mCSV file \u001b[39m\u001b[38;5;124m'\u001b[39m\u001b[38;5;132;01m{\u001b[39;00mcsv_file_path\u001b[38;5;132;01m}\u001b[39;00m\u001b[38;5;124m'\u001b[39m\u001b[38;5;124m successfully zipped to \u001b[39m\u001b[38;5;124m'\u001b[39m\u001b[38;5;132;01m{\u001b[39;00mzip_file_path\u001b[38;5;132;01m}\u001b[39;00m\u001b[38;5;124m'\u001b[39m\u001b[38;5;124m.\u001b[39m\u001b[38;5;124m\"\u001b[39m)\n",
      "File \u001b[0;32m~/anaconda3/lib/python3.9/zipfile.py:1239\u001b[0m, in \u001b[0;36mZipFile.__init__\u001b[0;34m(self, file, mode, compression, allowZip64, compresslevel, strict_timestamps)\u001b[0m\n\u001b[1;32m   1237\u001b[0m \u001b[38;5;28;01mwhile\u001b[39;00m \u001b[38;5;28;01mTrue\u001b[39;00m:\n\u001b[1;32m   1238\u001b[0m     \u001b[38;5;28;01mtry\u001b[39;00m:\n\u001b[0;32m-> 1239\u001b[0m         \u001b[38;5;28mself\u001b[39m\u001b[38;5;241m.\u001b[39mfp \u001b[38;5;241m=\u001b[39m \u001b[43mio\u001b[49m\u001b[38;5;241;43m.\u001b[39;49m\u001b[43mopen\u001b[49m\u001b[43m(\u001b[49m\u001b[43mfile\u001b[49m\u001b[43m,\u001b[49m\u001b[43m \u001b[49m\u001b[43mfilemode\u001b[49m\u001b[43m)\u001b[49m\n\u001b[1;32m   1240\u001b[0m     \u001b[38;5;28;01mexcept\u001b[39;00m \u001b[38;5;167;01mOSError\u001b[39;00m:\n\u001b[1;32m   1241\u001b[0m         \u001b[38;5;28;01mif\u001b[39;00m filemode \u001b[38;5;129;01min\u001b[39;00m modeDict:\n",
      "\u001b[0;31mIsADirectoryError\u001b[0m: [Errno 21] Is a directory: 'Results/2_stage_results_XLM_roberta/Zip_files'"
     ]
    }
   ],
   "source": [
    "prediction(best_model_path, test_dataloader, test_pdf, \"Results/2_stage_results_XLM_roberta\", \"Results/2_stage_results_XLM_roberta/Zip_files\")"
   ]
  },
  {
   "cell_type": "code",
   "execution_count": null,
   "id": "e0530668-317c-447c-99ca-66b8262b43f6",
   "metadata": {},
   "outputs": [],
   "source": [
    "test_predicted={}\n",
    "for lang in test_lan:\n",
    "    valid_predicted = prediction(best_models, valid_data)"
   ]
  },
  {
   "cell_type": "code",
   "execution_count": null,
   "id": "710f0f3f",
   "metadata": {
    "colab": {
     "base_uri": "https://localhost:8080/"
    },
    "id": "710f0f3f",
    "outputId": "ba513c86-bde0-4ed5-b06c-49c768db9119"
   },
   "outputs": [
    {
     "data": {
      "text/plain": [
       "[0.8677147030830383,\n",
       " 0.9685263633728027,\n",
       " 0.9671577215194702,\n",
       " 0.8463200330734253,\n",
       " 0.7330904006958008,\n",
       " 0.9127029180526733,\n",
       " 0.8296362161636353,\n",
       " 0.8470741510391235,\n",
       " 0.8778345584869385,\n",
       " 0.8357004523277283]"
      ]
     },
     "execution_count": 131,
     "metadata": {},
     "output_type": "execute_result"
    }
   ],
   "source": [
    "valid_predicted[0:10]"
   ]
  },
  {
   "cell_type": "code",
   "execution_count": null,
   "id": "0c2a0f81",
   "metadata": {
    "colab": {
     "base_uri": "https://localhost:8080/"
    },
    "id": "0c2a0f81",
    "outputId": "253dd112-f280-4886-c19b-321be5248f2f"
   },
   "outputs": [
    {
     "name": "stdout",
     "output_type": "stream",
     "text": [
      "250\n"
     ]
    }
   ],
   "source": [
    "test_predicted[:10]\n",
    "print(len(test_predicted))\n",
    "test_predicted\n",
    "test_pdf[\"Pred_Score\"] = test_predicted"
   ]
  },
  {
   "cell_type": "code",
   "execution_count": 182,
   "id": "7LUcqQOttPjT",
   "metadata": {
    "colab": {
     "base_uri": "https://localhost:8080/",
     "height": 597
    },
    "id": "7LUcqQOttPjT",
    "outputId": "fed2b7cd-4b49-4d92-ce20-e55be57fa380"
   },
   "outputs": [
    {
     "data": {
      "text/plain": [
       "{'eng':            PairID                                               Text  \\\n",
       " 0    ENG-dev-0000  The story is gripping and interesting.\\nIt's a...   \n",
       " 1    ENG-dev-0001  The majority of Southeast Alaska 's area is pa...   \n",
       " 2    ENG-dev-0002  and from your post i think you are to young to...   \n",
       " 3    ENG-dev-0003  The film 's success also made Dreamworks Anima...   \n",
       " 4    ENG-dev-0004  I am still confused about how I feel about thi...   \n",
       " ..            ...                                                ...   \n",
       " 245  ENG-dev-0245  thats just how they are :( its a shame lol\\nIt...   \n",
       " 246  ENG-dev-0246  I feel sorry for the books that I will read af...   \n",
       " 247  ENG-dev-0247  Uwe Seeler -LRB- born 5 November 1936 in Hambu...   \n",
       " 248  ENG-dev-0248  Waco is a city in and the county seat of McLen...   \n",
       " 249  ENG-dev-0249  religious extremism continues in pakistan desp...   \n",
       " \n",
       "                                             Split_Text  \n",
       " 0    [The story is gripping and interesting., It's ...  \n",
       " 1    [The majority of Southeast Alaska 's area is p...  \n",
       " 2    [and from your post i think you are to young t...  \n",
       " 3    [The film 's success also made Dreamworks Anim...  \n",
       " 4    [I am still confused about how I feel about th...  \n",
       " ..                                                 ...  \n",
       " 245  [thats just how they are :( its a shame lol, I...  \n",
       " 246  [I feel sorry for the books that I will read a...  \n",
       " 247  [Uwe Seeler -LRB- born 5 November 1936 in Hamb...  \n",
       " 248  [Waco is a city in and the county seat of McLe...  \n",
       " 249  [religious extremism continues in pakistan des...  \n",
       " \n",
       " [250 rows x 3 columns],\n",
       " 'esp':            PairID                                               Text  \\\n",
       " 0    ESP-dev-0000  Notable es la carta de Robert a Sarah.\\nStrath...   \n",
       " 1    ESP-dev-0001  Este tipo de tratamiento para grandes contribu...   \n",
       " 2    ESP-dev-0002  El filme es denso y con lentitud nos sumerge e...   \n",
       " 3    ESP-dev-0003  Un \" catéter de diálisis \" es un catéter usado...   \n",
       " 4    ESP-dev-0004  Aunque tengamos las mejores intenciones, puede...   \n",
       " ..            ...                                                ...   \n",
       " 135  ESP-dev-0135  Mejor cámara pero con cambios menores.\\nEl últ...   \n",
       " 136  ESP-dev-0136  Los vecindarios notables incluyen: McElderry P...   \n",
       " 137  ESP-dev-0137  El estudio comenzará con el análisis de todos ...   \n",
       " 138  ESP-dev-0138  Un niño nadando en el océano lanza una moneda ...   \n",
       " 139  ESP-dev-0139  Un grupo de personas bailan en un concierto.\\n...   \n",
       " \n",
       "                                             Split_Text  \n",
       " 0    [Notable es la carta de Robert a Sarah., Strat...  \n",
       " 1    [Este tipo de tratamiento para grandes contrib...  \n",
       " 2    [El filme es denso y con lentitud nos sumerge ...  \n",
       " 3    [Un \" catéter de diálisis \" es un catéter usad...  \n",
       " 4    [Aunque tengamos las mejores intenciones, pued...  \n",
       " ..                                                 ...  \n",
       " 135  [Mejor cámara pero con cambios menores., El úl...  \n",
       " 136  [Los vecindarios notables incluyen: McElderry ...  \n",
       " 137  [El estudio comenzará con el análisis de todos...  \n",
       " 138  [Un niño nadando en el océano lanza una moneda...  \n",
       " 139  [Un grupo de personas bailan en un concierto.,...  \n",
       " \n",
       " [140 rows x 3 columns],\n",
       " 'amh':                 PairID                                               Text  \\\n",
       " 0    Pair_ID_amh_dev_1  ታህሳስ 5 ፣2013/ በኢትዮጵያ ተጨማሪ 473 ሰዎች በኮሮና ቫይረስ ተያ...   \n",
       " 1    Pair_ID_amh_dev_2       በፖለቲካ እምነት መሆን የለበትም ፡፡\\tመልሱ መሆን የለበትም ነው ፡፡   \n",
       " 2    Pair_ID_amh_dev_3  መልካም በአል ለመላው ክርስቶስትና እምነት ተከታዮች በሙሉ ?\\tለመላው የ...   \n",
       " 3    Pair_ID_amh_dev_4  የኢትዮጵያ ገበሬዎች እርዳታ እንደሚያስፈልጋቸው ገልፀዋል ።\\tየኢትዮጵያ ...   \n",
       " 4    Pair_ID_amh_dev_5        ዱላ ይዞ ነበር እንዴ ?\\tግን የዛሬው የወያኔ ዱላ እንዴት ነበር ?   \n",
       " ..                 ...                                                ...   \n",
       " 90  Pair_ID_amh_dev_91  ይሖዋ “የእውነት አምላክ ” ነው ።\\tእንዲህ ማድረግ የሚችለው ደግሞ ይሖ...   \n",
       " 91  Pair_ID_amh_dev_92      ክረምትና በጋ በምስራቅ አፍሪካ ።\\tበብዛት በምስራቅ አፍሪካ ይገኛሉ ።   \n",
       " 92  Pair_ID_amh_dev_93  ይህን ያህል እርግጠኛ እንዲሆን ያደረገው ምንድን ነው ?\\tደስተኛ እንዲሆ...   \n",
       " 93  Pair_ID_amh_dev_94  ያ የበላ ሰው ከሕዝቡ መካከል ተለይቶ ይጠፋልና ።\\tመንግስት ግን ፣ “ለ...   \n",
       " 94  Pair_ID_amh_dev_95  በሌላ በኩል የላቀ የሻምፒዮናነነት ፉክክር እንደሚደረግበት የሚጠበቀው 20...   \n",
       " \n",
       "                                            Split_Text  \n",
       " 0   [ታህሳስ 5 ፣2013/ በኢትዮጵያ ተጨማሪ 473 ሰዎች በኮሮና ቫይረስ ተ...  \n",
       " 1      [በፖለቲካ እምነት መሆን የለበትም ፡፡\\tመልሱ መሆን የለበትም ነው ፡፡]  \n",
       " 2   [መልካም በአል ለመላው ክርስቶስትና እምነት ተከታዮች በሙሉ ?\\tለመላው ...  \n",
       " 3   [የኢትዮጵያ ገበሬዎች እርዳታ እንደሚያስፈልጋቸው ገልፀዋል ።\\tየኢትዮጵያ...  \n",
       " 4       [ዱላ ይዞ ነበር እንዴ ?\\tግን የዛሬው የወያኔ ዱላ እንዴት ነበር ?]  \n",
       " ..                                                ...  \n",
       " 90  [ይሖዋ “የእውነት አምላክ ” ነው ።\\tእንዲህ ማድረግ የሚችለው ደግሞ ይ...  \n",
       " 91    [ክረምትና በጋ በምስራቅ አፍሪካ ።\\tበብዛት በምስራቅ አፍሪካ ይገኛሉ ።]  \n",
       " 92  [ይህን ያህል እርግጠኛ እንዲሆን ያደረገው ምንድን ነው ?\\tደስተኛ እንዲ...  \n",
       " 93  [ያ የበላ ሰው ከሕዝቡ መካከል ተለይቶ ይጠፋልና ።\\tመንግስት ግን ፣ “...  \n",
       " 94  [በሌላ በኩል የላቀ የሻምፒዮናነነት ፉክክር እንደሚደረግበት የሚጠበቀው 2...  \n",
       " \n",
       " [95 rows x 3 columns],\n",
       " 'arq':           PairID                                               Text  \\\n",
       " 0   ARQ-dev-0001  زيد كون ڤلتي لها تأكدي عليها\\n ڤولي لها تڤول ل...   \n",
       " 1   ARQ-dev-0002                   بلاصة في البحر\\n شكون قالك عليها   \n",
       " 2   ARQ-dev-0003  الصباح جيت هابطة ﭬﺮيب ضربت في رؤف\\n على السبعة...   \n",
       " 3   ARQ-dev-0004  اسمحوا لي ، عندي پروبلام في الميكرو\\n سماح مرا...   \n",
       " 4   ARQ-dev-0005  تعمرت آه ما عنديش بلاصة ياسر سينون اني سجلت أك...   \n",
       " ..           ...                                                ...   \n",
       " 92  ARQ-dev-0093  خالتي خيرة وليتي تعرفي السلاح\\n لوكان راكم تحو...   \n",
       " 93  ARQ-dev-0094                     آه مكانش لخرا\\n ڤداه يحسب فاها   \n",
       " 94  ARQ-dev-0095  ڤالت لك روحي أعرضاها خاطر أي تسنا\\n ڤالت وشباه...   \n",
       " 95  ARQ-dev-0096          حطوه معاها مسكين\\n أفيشاو لزكزامان شفتوهم   \n",
       " 96  ARQ-dev-0097                  هوما راحو مسطوها\\n والله ما تخافي   \n",
       " \n",
       "                                            Split_Text  \n",
       " 0   [زيد كون ڤلتي لها تأكدي عليها,  ڤولي لها تڤول ...  \n",
       " 1                  [بلاصة في البحر,  شكون قالك عليها]  \n",
       " 2   [الصباح جيت هابطة ﭬﺮيب ضربت في رؤف,  على السبع...  \n",
       " 3   [اسمحوا لي ، عندي پروبلام في الميكرو,  سماح مر...  \n",
       " 4   [تعمرت آه ما عنديش بلاصة ياسر سينون اني سجلت أ...  \n",
       " ..                                                ...  \n",
       " 92  [خالتي خيرة وليتي تعرفي السلاح,  لوكان راكم تح...  \n",
       " 93                   [آه مكانش لخرا,  ڤداه يحسب فاها]  \n",
       " 94  [ڤالت لك روحي أعرضاها خاطر أي تسنا,  ڤالت وشبا...  \n",
       " 95        [حطوه معاها مسكين,  أفيشاو لزكزامان شفتوهم]  \n",
       " 96                [هوما راحو مسطوها,  والله ما تخافي]  \n",
       " \n",
       " [97 rows x 3 columns],\n",
       " 'ary':           PairID                                               Text  \\\n",
       " 0   ARY-dev-0000  هذه أول صورة لابنة المطرب تامر حسني من زوجته ا...   \n",
       " 1   ARY-dev-0001  قضية “حمزة مون بيبي” كبرات. قاضي التحقيق مازال...   \n",
       " 2   ARY-dev-0002  بقاو فديوركوم.. تسجلات 38 إصابة جديدة بكورونا....   \n",
       " 3   ARY-dev-0003  البي جي دي باغي يدير ميسا فالانتخابات وطالب لف...   \n",
       " 4   ARY-dev-0004  كورونا اليوم: جوج ماتو و151 تصابو و مليون و751...   \n",
       " ..           ...                                                ...   \n",
       " 66  ARY-dev-0066  قضية اغتصاب محابسي بـ”كراطة” بسجن راس الما.. ا...   \n",
       " 67  ARY-dev-0067  مولاي يعقوب: تزوير كبير ف قضية نزع ملكية عقار ...   \n",
       " 68  ARY-dev-0068  فضيحة “باديس” بالحسيمة: الوكيل العام بفاس استد...   \n",
       " 69  ARY-dev-0069  البوليس و بتنسيق مع “الديستي” طيحو ريزو ديال ا...   \n",
       " 70  ARY-dev-0070  حصيلة كورونا فالأقاليم والجهات: 1101 تصابو فكا...   \n",
       " \n",
       "                                            Split_Text  \n",
       " 0   [هذه أول صورة لابنة المطرب تامر حسني من زوجته ...  \n",
       " 1   [قضية “حمزة مون بيبي” كبرات. قاضي التحقيق مازا...  \n",
       " 2   [بقاو فديوركوم.. تسجلات 38 إصابة جديدة بكورونا...  \n",
       " 3   [البي جي دي باغي يدير ميسا فالانتخابات وطالب ل...  \n",
       " 4   [كورونا اليوم: جوج ماتو و151 تصابو و مليون و75...  \n",
       " ..                                                ...  \n",
       " 66  [قضية اغتصاب محابسي بـ”كراطة” بسجن راس الما.. ...  \n",
       " 67  [مولاي يعقوب: تزوير كبير ف قضية نزع ملكية عقار...  \n",
       " 68  [فضيحة “باديس” بالحسيمة: الوكيل العام بفاس است...  \n",
       " 69  [البوليس و بتنسيق مع “الديستي” طيحو ريزو ديال ...  \n",
       " 70  [حصيلة كورونا فالأقاليم والجهات: 1101 تصابو فك...  \n",
       " \n",
       " [71 rows x 3 columns],\n",
       " 'hau':             PairID                                               Text  \\\n",
       " 0    hau_dev_00001  Haka a wani labarin, PREMIUM TIMES ta buga lab...   \n",
       " 1    hau_dev_00002  PREMIUM TIMES ta buga labarin dakatar da Ayu d...   \n",
       " 2    hau_dev_00003  PREMIUM TIMES Hausa ta buga labarin da Gwamna ...   \n",
       " 3    hau_dev_00004  Famuyide ya ce za ci gaba da shari’a  ranar 19...   \n",
       " 4    hau_dev_00005  Ya bayyana cewa kuɗaɗen sun haɗa da na farfaɗo...   \n",
       " ..             ...                                                ...   \n",
       " 207  hau_dev_00208  INEC ba za ta rufe rajistar zaɓen 2023 a ƙarsh...   \n",
       " 208  hau_dev_00209  Ficewar Najatu Mohammed daga APC ta koma wurin...   \n",
       " 209  hau_dev_00210  “A ɓangaren mu, gwamnatin mu za ta ci gaba da ...   \n",
       " 210  hau_dev_00211  Idan ba a manta ba a watan Maris ne ‘yan bindi...   \n",
       " 211  hau_dev_00212  Mutanen sun ce a dalilin harin mutane da dama ...   \n",
       " \n",
       "                                             Split_Text  \n",
       " 0    [Haka a wani labarin, PREMIUM TIMES ta buga la...  \n",
       " 1    [PREMIUM TIMES ta buga labarin dakatar da Ayu ...  \n",
       " 2    [PREMIUM TIMES Hausa ta buga labarin da Gwamna...  \n",
       " 3    [Famuyide ya ce za ci gaba da shari’a  ranar 1...  \n",
       " 4    [Ya bayyana cewa kuɗaɗen sun haɗa da na farfaɗ...  \n",
       " ..                                                 ...  \n",
       " 207  [INEC ba za ta rufe rajistar zaɓen 2023 a ƙars...  \n",
       " 208  [Ficewar Najatu Mohammed daga APC ta koma wuri...  \n",
       " 209  [“A ɓangaren mu, gwamnatin mu za ta ci gaba da...  \n",
       " 210  [Idan ba a manta ba a watan Maris ne ‘yan bind...  \n",
       " 211  [Mutanen sun ce a dalilin harin mutane da dama...  \n",
       " \n",
       " [212 rows x 3 columns],\n",
       " 'kin':             PairID                                               Text  \\\n",
       " 0    kin_dev_00001  Impamvu zo kwandura indwara zo mu gitsina : Uk...   \n",
       " 1    kin_dev_00002  Hakiri kare ku munota wa 18’, Nsengiyumva Mous...   \n",
       " 2    kin_dev_00003  Iki gikorwa cyo kwibuka ku nshuro ya 19 Jenosi...   \n",
       " 3    kin_dev_00004  Coltan Mu mezi atandatu ya mbere ya 2016, agac...   \n",
       " 4    kin_dev_00005  Ubwo Minisiteri y’uburezi ifatanyije na REB ba...   \n",
       " ..             ...                                                ...   \n",
       " 97   kin_dev_00098  Kuva Wenger yagera muri Arsenal mu mwaka wa 19...   \n",
       " 98   kin_dev_00099  Nyuma y’uru rupfu rutunguranye, umurambo wa Ga...   \n",
       " 99   kin_dev_00100  Uwimana Jean Pierre, ni umuvugabutumwa ariko m...   \n",
       " 100  kin_dev_00101  Dudu ukomoka mu Burundi yageze mu Rwanda aje g...   \n",
       " 101  kin_dev_00102  U Butaliyani bwo abamaze kwandura ni 139422 mu...   \n",
       " \n",
       "                                             Split_Text  \n",
       " 0    [Impamvu zo kwandura indwara zo mu gitsina : U...  \n",
       " 1    [Hakiri kare ku munota wa 18’, Nsengiyumva Mou...  \n",
       " 2    [Iki gikorwa cyo kwibuka ku nshuro ya 19 Jenos...  \n",
       " 3    [Coltan Mu mezi atandatu ya mbere ya 2016, aga...  \n",
       " 4    [Ubwo Minisiteri y’uburezi ifatanyije na REB b...  \n",
       " ..                                                 ...  \n",
       " 97   [Kuva Wenger yagera muri Arsenal mu mwaka wa 1...  \n",
       " 98   [Nyuma y’uru rupfu rutunguranye, umurambo wa G...  \n",
       " 99   [Uwimana Jean Pierre, ni umuvugabutumwa ariko ...  \n",
       " 100  [Dudu ukomoka mu Burundi yageze mu Rwanda aje ...  \n",
       " 101  [U Butaliyani bwo abamaze kwandura ni 139422 m...  \n",
       " \n",
       " [102 rows x 3 columns],\n",
       " 'mar':             PairID                                               Text  \\\n",
       " 0    MAR-dev-00001  \"या प्रसंगी जाहीर सभेला संबोधित करताना ते म्हण...   \n",
       " 1    MAR-dev-00002  \"गौतम गंभीरची संपती 147 कोटी रुपये असल्याची मा...   \n",
       " 2    MAR-dev-00003  \"खुद्द शरद पवार यांनी याबाबत स्थानिक नेत्यांचा...   \n",
       " 3    MAR-dev-00004  \"पेट्रोकेमिकल प्रकल्प आणून येथील फळबागायती आम्...   \n",
       " 4    MAR-dev-00005  \"त्यामुळे दक्षिण आफ्रिकेकडून सर्वाधिक बळी मिळव...   \n",
       " ..             ...                                                ...   \n",
       " 288  MAR-dev-00289  \"पंतप्रधानांनी “कथन” म्हणून जे वर्णन केले ते भ...   \n",
       " 289  MAR-dev-00290  \"त्यावर आता राज्याच्या विधान परिषदेचे विरोधी प...   \n",
       " 290  MAR-dev-00291  \"या योजनेचे उद्दीष्ट सर्व घरांना शक्ती प्रदान ...   \n",
       " 291  MAR-dev-00292  \"शिवसेना व भाजपमध्ये युती झाल्यानंतर दोन्ही पक...   \n",
       " 292  MAR-dev-00293  \"त्यांनी स्वच्छ भारत मिशन, बेटी बाचाओ - बेटी प...   \n",
       " \n",
       "                                             Split_Text  \n",
       " 0    [\"या प्रसंगी जाहीर सभेला संबोधित करताना ते म्ह...  \n",
       " 1    [\"गौतम गंभीरची संपती 147 कोटी रुपये असल्याची म...  \n",
       " 2    [\"खुद्द शरद पवार यांनी याबाबत स्थानिक नेत्यांच...  \n",
       " 3    [\"पेट्रोकेमिकल प्रकल्प आणून येथील फळबागायती आम...  \n",
       " 4    [\"त्यामुळे दक्षिण आफ्रिकेकडून सर्वाधिक बळी मिळ...  \n",
       " ..                                                 ...  \n",
       " 288  [\"पंतप्रधानांनी “कथन” म्हणून जे वर्णन केले ते ...  \n",
       " 289  [\"त्यावर आता राज्याच्या विधान परिषदेचे विरोधी ...  \n",
       " 290  [\"या योजनेचे उद्दीष्ट सर्व घरांना शक्ती प्रदान...  \n",
       " 291  [\"शिवसेना व भाजपमध्ये युती झाल्यानंतर दोन्ही प...  \n",
       " 292  [\"त्यांनी स्वच्छ भारत मिशन, बेटी बाचाओ - बेटी ...  \n",
       " \n",
       " [293 rows x 3 columns],\n",
       " 'tel':             PairID                                               Text  \\\n",
       " 0    TEL-dev-00001  \"బీజేపీ జాతీయ అధ్యక్షుడు అమిత్ షా నేడు రెండోరో...   \n",
       " 1    TEL-dev-00002  \"ఈ ఏడాది జనవరి 1వ తేదీ నాటికి ఢిల్లీలో 10,76,4...   \n",
       " 2    TEL-dev-00003  \"ప్రతిపక్షాలు అనవసర రాద్ధాంతం చేస్తున్నాయి : హ...   \n",
       " 3    TEL-dev-00004  \"హైదరాబాద్ : కాంగ్రెస్ పార్టీ అధికారంలోకి రాగా...   \n",
       " 4    TEL-dev-00005  \"ప్రజారాజధానిగా రూపుదిద్దేందుకు అవసరమైన పెట్టు...   \n",
       " ..             ...                                                ...   \n",
       " 125  TEL-dev-00126  \"రేలంగి నరసింహారావు వంటి దర్శకులు సినిమాలు చేయ...   \n",
       " 126  TEL-dev-00127  \"సూర్య డ్యూయల్ రోల్ చేసిన ఈ సినిమా ఆశించిన స్థ...   \n",
       " 127  TEL-dev-00128  \"ఇండియన్ ప్రీమియర్ లీగ్ – 2018 విజయవంతంగా కొనస...   \n",
       " 128  TEL-dev-00129  \"వలస కార్మికుల రైళ్లను బెంగాల్ అనుమతించడంలేదు:...   \n",
       " 129  TEL-dev-00130  \"తెలంగాణలోకి మావోలు చొరబడే అవకాశం లేదు: డీజీపీ...   \n",
       " \n",
       "                                             Split_Text  \n",
       " 0    [\"బీజేపీ జాతీయ అధ్యక్షుడు అమిత్ షా నేడు రెండోర...  \n",
       " 1    [\"ఈ ఏడాది జనవరి 1వ తేదీ నాటికి ఢిల్లీలో 10,76,...  \n",
       " 2    [\"ప్రతిపక్షాలు అనవసర రాద్ధాంతం చేస్తున్నాయి : ...  \n",
       " 3    [\"హైదరాబాద్ : కాంగ్రెస్ పార్టీ అధికారంలోకి రాగ...  \n",
       " 4    [\"ప్రజారాజధానిగా రూపుదిద్దేందుకు అవసరమైన పెట్ట...  \n",
       " ..                                                 ...  \n",
       " 125  [\"రేలంగి నరసింహారావు వంటి దర్శకులు సినిమాలు చే...  \n",
       " 126  [\"సూర్య డ్యూయల్ రోల్ చేసిన ఈ సినిమా ఆశించిన స్...  \n",
       " 127  [\"ఇండియన్ ప్రీమియర్ లీగ్ – 2018 విజయవంతంగా కొన...  \n",
       " 128  [\"వలస కార్మికుల రైళ్లను బెంగాల్ అనుమతించడంలేదు...  \n",
       " 129  [\"తెలంగాణలోకి మావోలు చొరబడే అవకాశం లేదు: డీజీప...  \n",
       " \n",
       " [130 rows x 3 columns]}"
      ]
     },
     "execution_count": 182,
     "metadata": {},
     "output_type": "execute_result"
    }
   ],
   "source": [
    "test_pdf"
   ]
  },
  {
   "cell_type": "code",
   "execution_count": null,
   "id": "PO_WIj3IqlB7",
   "metadata": {
    "id": "PO_WIj3IqlB7"
   },
   "outputs": [],
   "source": [
    "test_pdf[['PairID','Pred_Score']].to_csv(\"pred_eng_a.csv\",index=False)"
   ]
  },
  {
   "cell_type": "code",
   "execution_count": null,
   "id": "eacd99ec",
   "metadata": {
    "id": "eacd99ec"
   },
   "outputs": [],
   "source": [
    "# For testing\n",
    "#label post allignment\n",
    "def generate_score(predicted,true_labels):\n",
    "  print(\"Pearson Correlation:\", round(pearsonr(true_scores,pred_scores)[0]))"
   ]
  },
  {
   "cell_type": "code",
   "execution_count": null,
   "id": "abbc7a4e",
   "metadata": {
    "colab": {
     "base_uri": "https://localhost:8080/"
    },
    "id": "abbc7a4e",
    "outputId": "e2e56b05-f46e-4f9d-e9f9-95833ebe589a"
   },
   "outputs": [
    {
     "name": "stdout",
     "output_type": "stream",
     "text": [
      "Pearson Correlation: 1\n"
     ]
    }
   ],
   "source": [
    "generate_score( valid_predicted,valid_true_labels)"
   ]
  },
  {
   "cell_type": "code",
   "execution_count": null,
   "id": "BGMgM0EqmDih",
   "metadata": {
    "colab": {
     "base_uri": "https://localhost:8080/"
    },
    "id": "BGMgM0EqmDih",
    "outputId": "66a39d47-2528-4e95-ecb6-cdc1c03adb5d"
   },
   "outputs": [
    {
     "name": "stdout",
     "output_type": "stream",
     "text": [
      "1.0 0.8677147030830383\n",
      "1.0 0.9685263633728027\n",
      "1.0 0.9671577215194702\n",
      "0.97 0.8463200330734253\n",
      "0.97 0.7330904006958008\n",
      "0.97 0.9127029180526733\n",
      "0.94 0.8296362161636353\n",
      "0.94 0.8470741510391235\n",
      "0.94 0.8778345584869385\n",
      "0.94 0.8357004523277283\n",
      "0.94 0.8777657747268677\n",
      "0.94 0.8939412236213684\n",
      "0.94 0.9307860732078552\n",
      "0.94 0.7076771855354309\n",
      "0.94 0.9769800305366516\n",
      "0.94 0.7721829414367676\n",
      "0.94 0.8665282726287842\n",
      "0.93 0.6413089632987976\n",
      "0.91 0.8545132875442505\n",
      "0.91 0.8522595763206482\n",
      "0.91 0.8274969458580017\n",
      "0.91 0.715861976146698\n",
      "0.91 0.8624814748764038\n",
      "0.91 0.6947680711746216\n",
      "0.91 0.8666069507598877\n",
      "0.91 0.8458764553070068\n",
      "0.91 0.7459472417831421\n",
      "0.91 0.7477755546569824\n",
      "0.91 0.7157862782478333\n",
      "0.91 0.9091516733169556\n",
      "0.91 0.8417872786521912\n",
      "0.91 0.7588858008384705\n",
      "0.91 0.8460123538970947\n",
      "0.91 0.9143412709236145\n",
      "0.91 0.7486365437507629\n",
      "0.91 0.8199021816253662\n",
      "0.91 0.9296796321868896\n",
      "0.91 0.9182645082473755\n",
      "0.91 0.8750166296958923\n",
      "0.91 0.736318826675415\n",
      "0.91 0.8660807609558105\n",
      "0.91 0.791685938835144\n",
      "0.91 0.8380727767944336\n",
      "0.91 0.5579389929771423\n",
      "0.91 0.7509849667549133\n",
      "0.91 0.8312090039253235\n",
      "0.9 0.6925581693649292\n",
      "0.9 0.8871711492538452\n",
      "0.88 0.9125977158546448\n",
      "0.88 0.7389199733734131\n",
      "0.88 0.7764822840690613\n",
      "0.88 0.68840092420578\n",
      "0.88 0.9387292861938477\n",
      "0.88 0.7969425320625305\n",
      "0.88 0.8248135447502136\n",
      "0.88 0.6772861480712891\n",
      "0.88 0.8586978912353516\n",
      "0.88 0.9777011275291443\n",
      "0.88 0.8874154686927795\n",
      "0.88 0.6739872097969055\n",
      "0.88 0.8834215402603149\n",
      "0.88 0.7866482734680176\n",
      "0.88 0.7773351669311523\n",
      "0.88 0.8116716742515564\n",
      "0.87 0.8676154017448425\n",
      "0.87 0.7769858837127686\n",
      "0.87 0.6007888317108154\n",
      "0.84 0.8704367280006409\n",
      "0.84 0.6565966010093689\n",
      "0.84 0.7128086090087891\n",
      "0.84 0.7285296320915222\n",
      "0.84 0.6071553826332092\n",
      "0.84 0.7337401509284973\n",
      "0.84 0.8056524395942688\n",
      "0.84 0.7424430251121521\n",
      "0.84 0.7578495144844055\n",
      "0.84 0.8083913922309875\n",
      "0.84 0.9105081558227539\n",
      "0.84 0.8540879487991333\n",
      "0.84 0.8362905383110046\n",
      "0.84 0.6129883527755737\n",
      "0.84 0.8553131222724915\n",
      "0.84 0.8021039366722107\n",
      "0.83 0.7460891604423523\n",
      "0.83 0.8511760830879211\n",
      "0.81 0.7759618163108826\n",
      "0.81 0.6510352492332458\n",
      "0.81 0.8199950456619263\n",
      "0.81 0.8066298365592957\n",
      "0.81 0.8779789209365845\n",
      "0.81 0.8102896213531494\n",
      "0.81 0.8563389778137207\n",
      "0.81 0.8240170478820801\n",
      "0.81 0.7857024669647217\n",
      "0.81 0.665758490562439\n",
      "0.81 0.41877639293670654\n",
      "0.81 0.535126268863678\n",
      "0.81 0.7145754098892212\n",
      "0.81 0.8302267789840698\n",
      "0.81 0.8399310111999512\n",
      "0.81 0.7535743117332458\n",
      "0.81 0.6810297966003418\n",
      "0.81 0.8193602561950684\n",
      "0.81 0.7833361029624939\n",
      "0.81 0.7264328598976135\n",
      "0.81 0.814700722694397\n",
      "0.81 0.8890700936317444\n",
      "0.81 0.8661057353019714\n",
      "0.81 0.7739813923835754\n",
      "0.81 0.7892617583274841\n",
      "0.81 0.7291849851608276\n",
      "0.81 0.8133869171142578\n",
      "0.81 0.8845149278640747\n",
      "0.81 0.6805776357650757\n",
      "0.81 0.8522186279296875\n",
      "0.81 0.6075370907783508\n",
      "0.8 0.7109757661819458\n",
      "0.8 0.7544823288917542\n",
      "0.79 0.8734601140022278\n",
      "0.78 0.9144893884658813\n",
      "0.78 0.7383549809455872\n",
      "0.78 0.6566743850708008\n",
      "0.78 0.7347368597984314\n",
      "0.78 0.6126476526260376\n",
      "0.78 0.7450935244560242\n",
      "0.78 0.7304938435554504\n",
      "0.78 0.7323548197746277\n",
      "0.78 0.7363656759262085\n",
      "0.78 0.5696750283241272\n",
      "0.78 0.7893310189247131\n",
      "0.78 0.724033772945404\n",
      "0.78 0.8367185592651367\n",
      "0.78 0.8794240951538086\n",
      "0.78 0.5694462060928345\n",
      "0.78 0.7628082036972046\n",
      "0.78 0.4685143828392029\n",
      "0.78 0.6428132057189941\n",
      "0.78 0.8672599196434021\n",
      "0.78 0.8570325970649719\n",
      "0.78 0.7666550278663635\n",
      "0.78 0.8709169030189514\n",
      "0.78 0.6878766417503357\n",
      "0.78 0.7302732467651367\n",
      "0.78 0.8410137891769409\n",
      "0.78 0.7945368885993958\n",
      "0.78 0.4886033833026886\n",
      "0.78 0.6875863671302795\n",
      "0.78 0.5962990522384644\n",
      "0.78 0.6963503360748291\n",
      "0.78 0.8562417030334473\n",
      "0.78 0.6882737278938293\n",
      "0.77 0.8103843927383423\n",
      "0.75 0.7785177230834961\n",
      "0.75 0.6803365349769592\n",
      "0.75 0.8155147433280945\n",
      "0.75 0.4338601231575012\n",
      "0.75 0.8629575967788696\n",
      "0.75 0.5279040336608887\n",
      "0.75 0.7455397844314575\n",
      "0.75 0.7456901669502258\n",
      "0.75 0.6914498209953308\n",
      "0.75 0.6816147565841675\n",
      "0.75 0.7108612656593323\n",
      "0.75 0.6740738749504089\n",
      "0.75 0.5863587856292725\n",
      "0.75 0.6386629343032837\n",
      "0.75 0.6815798878669739\n",
      "0.75 0.7591009736061096\n",
      "0.75 0.8115370273590088\n",
      "0.75 0.8753837943077087\n",
      "0.75 0.6821166276931763\n",
      "0.75 0.780880331993103\n",
      "0.75 0.722501814365387\n",
      "0.75 0.670844316482544\n",
      "0.75 0.5509730577468872\n",
      "0.75 0.7838748693466187\n",
      "0.75 0.7635461688041687\n",
      "0.75 0.8062804341316223\n",
      "0.75 0.7676499485969543\n",
      "0.75 0.6961135268211365\n",
      "0.75 0.8252336382865906\n",
      "0.75 0.7765287160873413\n",
      "0.75 0.7981672883033752\n",
      "0.75 0.5038790106773376\n",
      "0.75 0.5991291999816895\n",
      "0.75 0.613842785358429\n",
      "0.75 0.5420262813568115\n",
      "0.75 0.5790339708328247\n",
      "0.75 0.7550806999206543\n",
      "0.75 0.6676300168037415\n",
      "0.75 0.7236920595169067\n",
      "0.75 0.7513909935951233\n",
      "0.73 0.7557905912399292\n",
      "0.72 0.5497308373451233\n",
      "0.72 0.6500184535980225\n",
      "0.72 0.47829654812812805\n",
      "0.72 0.7201093435287476\n",
      "0.72 0.4834113121032715\n",
      "0.72 0.8290863037109375\n",
      "0.72 0.5145223736763\n",
      "0.72 0.745802104473114\n",
      "0.72 0.733306884765625\n",
      "0.72 0.6647180914878845\n",
      "0.72 0.5589910745620728\n",
      "0.72 0.3958021104335785\n",
      "0.72 0.6851128935813904\n",
      "0.72 0.5421632528305054\n",
      "0.72 0.6009815335273743\n",
      "0.72 0.8332209587097168\n",
      "0.72 0.7682704329490662\n",
      "0.72 0.6302657127380371\n",
      "0.72 0.8005942106246948\n",
      "0.72 0.467773973941803\n",
      "0.72 0.6628631949424744\n",
      "0.72 0.6636659502983093\n",
      "0.72 0.7912847399711609\n",
      "0.72 0.8517056107521057\n",
      "0.72 0.6509930491447449\n",
      "0.72 0.7459546327590942\n",
      "0.72 0.6748185753822327\n",
      "0.72 0.37568598985671997\n",
      "0.72 0.571875274181366\n",
      "0.72 0.7925807237625122\n",
      "0.72 0.7525069713592529\n",
      "0.72 0.8203386068344116\n",
      "0.72 0.7012808918952942\n",
      "0.72 0.7131726145744324\n",
      "0.72 0.649682879447937\n",
      "0.72 0.5497952699661255\n",
      "0.72 0.6384521126747131\n",
      "0.72 0.6894230842590332\n",
      "0.72 0.6379262804985046\n",
      "0.72 0.7006551623344421\n",
      "0.72 0.6732701659202576\n",
      "0.72 0.6082227826118469\n",
      "0.72 0.7680372595787048\n",
      "0.72 0.6988623738288879\n",
      "0.72 0.7227332592010498\n",
      "0.72 0.7326575517654419\n",
      "0.72 0.8677712082862854\n",
      "0.7 0.7440866827964783\n",
      "0.69 0.7279987931251526\n",
      "0.69 0.5546641945838928\n",
      "0.69 0.7048081755638123\n",
      "0.69 0.7609732151031494\n",
      "0.69 0.7247181534767151\n",
      "0.69 0.7126827836036682\n",
      "0.69 0.592399537563324\n",
      "0.69 0.737643301486969\n",
      "0.69 0.696384847164154\n",
      "0.69 0.7581141591072083\n",
      "0.69 0.45237329602241516\n",
      "0.69 0.5359644293785095\n",
      "0.69 0.7154156565666199\n",
      "0.69 0.6439450979232788\n",
      "0.69 0.7261775135993958\n",
      "0.69 0.6568173170089722\n",
      "0.69 0.36415550112724304\n",
      "0.69 0.7084306478500366\n",
      "0.69 0.5046645402908325\n",
      "0.69 0.8005431890487671\n",
      "0.69 0.6629070043563843\n",
      "0.69 0.3579965829849243\n",
      "0.69 0.6643960475921631\n",
      "0.69 0.676478385925293\n",
      "0.69 0.7514448761940002\n",
      "0.69 0.749045729637146\n",
      "0.69 0.46291711926460266\n",
      "0.69 0.6314085125923157\n",
      "0.67 0.8372945785522461\n",
      "0.67 0.6638302206993103\n",
      "0.66 0.5968305468559265\n",
      "0.66 0.6159619688987732\n",
      "0.66 0.5479785799980164\n",
      "0.66 0.7577010989189148\n",
      "0.66 0.5597924590110779\n",
      "0.66 0.5970218181610107\n",
      "0.66 0.41803106665611267\n",
      "0.66 0.6677806377410889\n",
      "0.66 0.4731765687465668\n",
      "0.66 0.7244156002998352\n",
      "0.66 0.724801778793335\n",
      "0.66 0.5756092071533203\n",
      "0.66 0.5046148896217346\n",
      "0.66 0.6244946718215942\n",
      "0.66 0.6296952962875366\n",
      "0.66 0.5112917423248291\n",
      "0.66 0.7485302686691284\n",
      "0.66 0.5872706770896912\n",
      "0.66 0.4857117831707001\n",
      "0.66 0.7162171602249146\n",
      "0.66 0.792210042476654\n",
      "0.66 0.7568295001983643\n",
      "0.66 0.6570760607719421\n",
      "0.66 0.4917543828487396\n",
      "0.66 0.7651931643486023\n",
      "0.66 0.7112237215042114\n",
      "0.66 0.7169419527053833\n",
      "0.66 0.7029813528060913\n",
      "0.66 0.7277714610099792\n",
      "0.66 0.7589284181594849\n",
      "0.66 0.6551209688186646\n",
      "0.66 0.5693711638450623\n",
      "0.66 0.46737879514694214\n",
      "0.63 0.7954651713371277\n",
      "0.63 0.599090039730072\n",
      "0.62 0.6802348494529724\n",
      "0.62 0.5204313397407532\n",
      "0.62 0.47988563776016235\n",
      "0.62 0.6607168316841125\n",
      "0.62 0.6355413198471069\n",
      "0.62 0.7165834903717041\n",
      "0.62 0.5164875984191895\n",
      "0.62 0.5909861922264099\n",
      "0.62 0.6075013279914856\n",
      "0.62 0.6451167464256287\n",
      "0.62 0.7038095593452454\n",
      "0.62 0.5742455124855042\n",
      "0.62 0.5016467571258545\n",
      "0.62 0.6689820289611816\n",
      "0.62 0.4917182922363281\n",
      "0.62 0.5582256317138672\n",
      "0.62 0.7107778787612915\n",
      "0.62 0.5817015171051025\n",
      "0.62 0.42732223868370056\n",
      "0.62 0.7253537774085999\n",
      "0.62 0.6536867618560791\n",
      "0.62 0.6274294853210449\n",
      "0.62 0.5179013013839722\n",
      "0.62 0.6392372846603394\n",
      "0.62 0.5741750001907349\n",
      "0.62 0.45585379004478455\n",
      "0.62 0.4784505367279053\n",
      "0.62 0.803619921207428\n",
      "0.62 0.4351651966571808\n",
      "0.62 0.5483413934707642\n",
      "0.62 0.732692539691925\n",
      "0.62 0.6013601422309875\n",
      "0.62 0.40787866711616516\n",
      "0.62 0.7050773501396179\n",
      "0.62 0.5793753266334534\n",
      "0.62 0.631852924823761\n",
      "0.62 0.682934582233429\n",
      "0.62 0.6628378033638\n",
      "0.59 0.6563787460327148\n",
      "0.59 0.5699233412742615\n",
      "0.59 0.5429857969284058\n",
      "0.59 0.603460431098938\n",
      "0.59 0.611803412437439\n",
      "0.59 0.406984806060791\n",
      "0.59 0.7955825924873352\n",
      "0.59 0.5080260038375854\n",
      "0.59 0.6796773672103882\n",
      "0.59 0.42291733622550964\n",
      "0.59 0.42773619294166565\n",
      "0.59 0.6413198709487915\n",
      "0.59 0.62559974193573\n",
      "0.59 0.42390576004981995\n",
      "0.59 0.7674873471260071\n",
      "0.59 0.453953355550766\n",
      "0.59 0.5324772000312805\n",
      "0.59 0.48126670718193054\n",
      "0.59 0.35484805703163147\n",
      "0.59 0.5199660062789917\n",
      "0.59 0.46533530950546265\n",
      "0.59 0.580665647983551\n",
      "0.59 0.4887089729309082\n",
      "0.59 0.49547022581100464\n",
      "0.59 0.6657183170318604\n",
      "0.59 0.4987327456474304\n",
      "0.59 0.5081332921981812\n",
      "0.59 0.4914924204349518\n",
      "0.59 0.704449474811554\n",
      "0.59 0.41514167189598083\n",
      "0.59 0.6672231554985046\n",
      "0.59 0.5516412258148193\n",
      "0.59 0.42775318026542664\n",
      "0.59 0.5951196551322937\n",
      "0.59 0.5269733667373657\n",
      "0.59 0.45884624123573303\n",
      "0.59 0.5697087645530701\n",
      "0.59 0.37985360622406006\n",
      "0.59 0.7548948526382446\n",
      "0.59 0.5180165767669678\n",
      "0.59 0.4475179612636566\n",
      "0.59 0.7349339723587036\n",
      "0.59 0.5114209055900574\n",
      "0.59 0.6845754981040955\n",
      "0.59 0.6468175649642944\n",
      "0.59 0.7346823811531067\n",
      "0.57 0.727766752243042\n",
      "0.57 0.5967711210250854\n",
      "0.57 0.4678240120410919\n",
      "0.57 0.29345062375068665\n",
      "0.57 0.6100945472717285\n",
      "0.56 0.6080139875411987\n",
      "0.56 0.6296315789222717\n",
      "0.56 0.6399480700492859\n",
      "0.56 0.5185787081718445\n",
      "0.56 0.2929624021053314\n",
      "0.56 0.39583316445350647\n",
      "0.56 0.40293368697166443\n",
      "0.56 0.6328925490379333\n",
      "0.56 0.6488742828369141\n",
      "0.56 0.4566527307033539\n",
      "0.56 0.48557403683662415\n",
      "0.56 0.4891456067562103\n",
      "0.56 0.5165674090385437\n",
      "0.56 0.5029234290122986\n",
      "0.56 0.5631104111671448\n",
      "0.56 0.588857114315033\n",
      "0.56 0.4767909049987793\n",
      "0.56 0.7401829361915588\n",
      "0.56 0.4396592080593109\n",
      "0.56 0.6620293855667114\n",
      "0.56 0.5203815698623657\n",
      "0.56 0.40108129382133484\n",
      "0.56 0.5084739327430725\n",
      "0.56 0.45296114683151245\n",
      "0.56 0.5227631330490112\n",
      "0.56 0.5336005687713623\n",
      "0.56 0.5145265460014343\n",
      "0.56 0.6447835564613342\n",
      "0.56 0.5551121234893799\n",
      "0.56 0.6503718495368958\n",
      "0.56 0.4585230350494385\n",
      "0.56 0.48505672812461853\n",
      "0.56 0.329599529504776\n",
      "0.56 0.4209514558315277\n",
      "0.56 0.34666892886161804\n",
      "0.56 0.4994698166847229\n",
      "0.56 0.5342116355895996\n",
      "0.56 0.47572827339172363\n",
      "0.56 0.38491132855415344\n",
      "0.56 0.36783096194267273\n",
      "0.56 0.49187585711479187\n",
      "0.56 0.28458353877067566\n",
      "0.56 0.4767128527164459\n",
      "0.56 0.5004671216011047\n",
      "0.56 0.5321575403213501\n",
      "0.56 0.6323726177215576\n",
      "0.56 0.3402072787284851\n",
      "0.56 0.4772498309612274\n",
      "0.53 0.589470386505127\n",
      "0.53 0.6249916553497314\n",
      "0.53 0.3878488540649414\n",
      "0.53 0.4786302149295807\n",
      "0.53 0.5893477201461792\n",
      "0.53 0.5374130606651306\n",
      "0.53 0.2921169400215149\n",
      "0.53 0.44622522592544556\n",
      "0.53 0.3992149531841278\n",
      "0.53 0.3708661198616028\n",
      "0.53 0.5271521210670471\n",
      "0.53 0.404007226228714\n",
      "0.53 0.575543224811554\n",
      "0.53 0.450972318649292\n",
      "0.53 0.41017070412635803\n",
      "0.53 0.5899364352226257\n",
      "0.53 0.5219959020614624\n",
      "0.53 0.4483412206172943\n",
      "0.53 0.4690077304840088\n",
      "0.53 0.5076749920845032\n",
      "0.53 0.5142102241516113\n",
      "0.53 0.6005768179893494\n",
      "0.53 0.5396008491516113\n",
      "0.53 0.3505368232727051\n",
      "0.53 0.5512237548828125\n",
      "0.53 0.4777122437953949\n",
      "0.53 0.4563400447368622\n",
      "0.53 0.40195491909980774\n",
      "0.53 0.3215274512767792\n",
      "0.53 0.5844259262084961\n",
      "0.53 0.5240865349769592\n",
      "0.53 0.4733485281467438\n",
      "0.53 0.5756392478942871\n",
      "0.53 0.5055953860282898\n",
      "0.53 0.46878814697265625\n",
      "0.53 0.5304440855979919\n",
      "0.53 0.34768185019493103\n",
      "0.53 0.4967551529407501\n",
      "0.53 0.4671645760536194\n",
      "0.53 0.7096791863441467\n",
      "0.53 0.5679930448532104\n",
      "0.53 0.5811344981193542\n",
      "0.53 0.3928481638431549\n",
      "0.53 0.5743778944015503\n",
      "0.53 0.28307417035102844\n",
      "0.53 0.4815561771392822\n",
      "0.53 0.5503302812576294\n",
      "0.53 0.5033143162727356\n",
      "0.53 0.585908055305481\n",
      "0.53 0.2862215042114258\n",
      "0.53 0.5405269861221313\n",
      "0.53 0.5206602811813354\n",
      "0.53 0.5546121597290039\n",
      "0.53 0.4641750752925873\n",
      "0.53 0.6693835854530334\n",
      "0.53 0.5750483870506287\n",
      "0.53 0.44112852215766907\n",
      "0.53 0.33313873410224915\n",
      "0.53 0.44660937786102295\n",
      "0.53 0.3552725315093994\n",
      "0.53 0.5872176289558411\n",
      "0.53 0.6000187993049622\n",
      "0.53 0.6304168701171875\n",
      "0.53 0.61095130443573\n",
      "0.53 0.4141298234462738\n",
      "0.53 0.42774686217308044\n",
      "0.53 0.4945569634437561\n",
      "0.53 0.4322155714035034\n",
      "0.53 0.409628301858902\n",
      "0.53 0.4412001073360443\n",
      "0.5 0.49204421043395996\n",
      "0.5 0.41914987564086914\n",
      "0.5 0.5585675239562988\n",
      "0.5 0.5477496385574341\n",
      "0.5 0.5608944296836853\n",
      "0.5 0.5703307390213013\n",
      "0.5 0.4690832793712616\n",
      "0.5 0.46917811036109924\n",
      "0.5 0.3381388485431671\n",
      "0.5 0.8416863083839417\n",
      "0.5 0.3721082806587219\n",
      "0.5 0.45366185903549194\n",
      "0.5 0.3920102119445801\n",
      "0.5 0.3205615282058716\n",
      "0.5 0.5571230053901672\n",
      "0.5 0.29594823718070984\n",
      "0.5 0.42724594473838806\n",
      "0.5 0.41893696784973145\n",
      "0.5 0.5009051561355591\n",
      "0.5 0.3092600405216217\n",
      "0.5 0.4700916111469269\n",
      "0.5 0.5192553400993347\n",
      "0.5 0.38165009021759033\n",
      "0.5 0.6400497555732727\n",
      "0.5 0.47003665566444397\n",
      "0.5 0.6031798124313354\n",
      "0.5 0.5151445269584656\n",
      "0.5 0.3360174000263214\n",
      "0.5 0.4105350375175476\n",
      "0.5 0.7204568982124329\n",
      "0.5 0.3871140778064728\n",
      "0.5 0.6695787310600281\n",
      "0.5 0.5593891739845276\n",
      "0.5 0.3468274176120758\n",
      "0.5 0.443228155374527\n",
      "0.5 0.49715402722358704\n",
      "0.5 0.6372145414352417\n",
      "0.5 0.6325569152832031\n",
      "0.5 0.710082471370697\n",
      "0.5 0.4523726999759674\n",
      "0.5 0.4436282515525818\n",
      "0.5 0.548438310623169\n",
      "0.5 0.5558977127075195\n",
      "0.5 0.41763070225715637\n",
      "0.5 0.644938051700592\n",
      "0.5 0.6119502782821655\n",
      "0.5 0.5444044470787048\n",
      "0.5 0.43974214792251587\n",
      "0.5 0.5186716318130493\n",
      "0.5 0.5345919132232666\n",
      "0.47 0.439504474401474\n",
      "0.47 0.5992687940597534\n",
      "0.47 0.6397246718406677\n",
      "0.47 0.36838558316230774\n",
      "0.47 0.3797612190246582\n",
      "0.47 0.3505069315433502\n",
      "0.47 0.3835889399051666\n",
      "0.47 0.3940337002277374\n",
      "0.47 0.46957704424858093\n",
      "0.47 0.38522469997406006\n",
      "0.47 0.3658401072025299\n",
      "0.47 0.7870165705680847\n",
      "0.47 0.4651573598384857\n",
      "0.47 0.5436277985572815\n",
      "0.47 0.5015825629234314\n",
      "0.47 0.3026878237724304\n",
      "0.47 0.553155243396759\n",
      "0.47 0.5252094864845276\n",
      "0.47 0.6245197653770447\n",
      "0.47 0.44845065474510193\n",
      "0.47 0.31902459263801575\n",
      "0.47 0.3896573781967163\n",
      "0.47 0.44940611720085144\n",
      "0.47 0.569308876991272\n",
      "0.47 0.6782945990562439\n",
      "0.47 0.40620771050453186\n",
      "0.47 0.39234867691993713\n",
      "0.47 0.46725359559059143\n",
      "0.47 0.3611889183521271\n",
      "0.47 0.3514730632305145\n",
      "0.47 0.42564156651496887\n",
      "0.47 0.34664931893348694\n",
      "0.47 0.5365900993347168\n",
      "0.47 0.318119615316391\n",
      "0.47 0.5631741285324097\n",
      "0.47 0.5846117734909058\n",
      "0.47 0.44340211153030396\n",
      "0.47 0.3671434819698334\n",
      "0.47 0.7308087348937988\n",
      "0.47 0.3241208791732788\n",
      "0.47 0.3645034730434418\n",
      "0.47 0.5220812559127808\n",
      "0.47 0.4989330470561981\n",
      "0.47 0.38438406586647034\n",
      "0.47 0.5162600874900818\n",
      "0.47 0.41076985001564026\n",
      "0.47 0.48537302017211914\n",
      "0.47 0.508958101272583\n",
      "0.47 0.45198604464530945\n",
      "0.47 0.5404341816902161\n",
      "0.47 0.3972890079021454\n",
      "0.47 0.5375385880470276\n",
      "0.47 0.5585221648216248\n",
      "0.47 0.4526071846485138\n",
      "0.47 0.4288940727710724\n",
      "0.47 0.47000929713249207\n",
      "0.47 0.6769518256187439\n",
      "0.47 0.5526622533798218\n",
      "0.44 0.3962261974811554\n",
      "0.44 0.3979501724243164\n",
      "0.44 0.458201140165329\n",
      "0.44 0.33609962463378906\n",
      "0.44 0.3050488829612732\n",
      "0.44 0.3568897545337677\n",
      "0.44 0.4679751992225647\n",
      "0.44 0.5749983191490173\n",
      "0.44 0.4225524663925171\n",
      "0.44 0.32404419779777527\n",
      "0.44 0.5794743895530701\n",
      "0.44 0.4018233120441437\n",
      "0.44 0.25599178671836853\n",
      "0.44 0.4735492467880249\n",
      "0.44 0.41129618883132935\n",
      "0.44 0.3183351457118988\n",
      "0.44 0.29159435629844666\n",
      "0.44 0.31845512986183167\n",
      "0.44 0.6039820909500122\n",
      "0.44 0.38948094844818115\n",
      "0.44 0.3747359812259674\n",
      "0.44 0.35954445600509644\n",
      "0.44 0.35330072045326233\n",
      "0.44 0.33084794878959656\n",
      "0.44 0.45006263256073\n",
      "0.44 0.5800220370292664\n",
      "0.44 0.5941803455352783\n",
      "0.44 0.63934326171875\n",
      "0.44 0.3578279912471771\n",
      "0.44 0.6498317122459412\n",
      "0.44 0.2980057895183563\n",
      "0.44 0.2588352560997009\n",
      "0.44 0.4966159164905548\n",
      "0.44 0.26893702149391174\n",
      "0.44 0.37498241662979126\n",
      "0.44 0.31120291352272034\n",
      "0.44 0.2813769280910492\n",
      "0.44 0.36227715015411377\n",
      "0.44 0.5117611289024353\n",
      "0.44 0.39257916808128357\n",
      "0.44 0.32534387707710266\n",
      "0.44 0.33779776096343994\n",
      "0.44 0.34015029668807983\n",
      "0.44 0.43883517384529114\n",
      "0.44 0.4043523669242859\n",
      "0.44 0.43591973185539246\n",
      "0.44 0.4637933373451233\n",
      "0.44 0.4321853220462799\n",
      "0.44 0.4052669107913971\n",
      "0.44 0.4045693278312683\n",
      "0.44 0.42393797636032104\n",
      "0.43 0.4665655791759491\n",
      "0.41 0.5137737989425659\n",
      "0.41 0.32838091254234314\n",
      "0.41 0.49787643551826477\n",
      "0.41 0.26206672191619873\n",
      "0.41 0.4382003843784332\n",
      "0.41 0.45528408885002136\n",
      "0.41 0.4012407064437866\n",
      "0.41 0.4599205255508423\n",
      "0.41 0.39076873660087585\n",
      "0.41 0.3457895517349243\n",
      "0.41 0.3137081265449524\n",
      "0.41 0.40010344982147217\n",
      "0.41 0.36732491850852966\n",
      "0.41 0.3906237483024597\n",
      "0.41 0.29865702986717224\n",
      "0.41 0.5486364364624023\n",
      "0.41 0.458240807056427\n",
      "0.41 0.4688913822174072\n",
      "0.41 0.30908772349357605\n",
      "0.41 0.5221996903419495\n",
      "0.41 0.4060990810394287\n",
      "0.41 0.5345959663391113\n",
      "0.41 0.25860074162483215\n",
      "0.41 0.36127328872680664\n",
      "0.41 0.6353327035903931\n",
      "0.41 0.4462979733943939\n",
      "0.41 0.504581868648529\n",
      "0.41 0.44281867146492004\n",
      "0.41 0.33134496212005615\n",
      "0.41 0.4771113097667694\n",
      "0.41 0.559434711933136\n",
      "0.41 0.4002474844455719\n",
      "0.41 0.4853816330432892\n",
      "0.41 0.4270796775817871\n",
      "0.41 0.47597044706344604\n",
      "0.41 0.5226415395736694\n",
      "0.41 0.4923003613948822\n",
      "0.41 0.3681400716304779\n",
      "0.41 0.2891533374786377\n",
      "0.41 0.617669403553009\n",
      "0.41 0.35055530071258545\n",
      "0.41 0.23747017979621887\n",
      "0.41 0.29766494035720825\n",
      "0.41 0.5025187134742737\n",
      "0.41 0.48599255084991455\n",
      "0.41 0.4740353524684906\n",
      "0.41 0.4300254285335541\n",
      "0.41 0.34468626976013184\n",
      "0.41 0.27475324273109436\n",
      "0.41 0.4320240914821625\n",
      "0.41 0.34626859426498413\n",
      "0.41 0.4421449303627014\n",
      "0.41 0.4194071590900421\n",
      "0.41 0.5311052203178406\n",
      "0.41 0.2923271954059601\n",
      "0.41 0.5383802056312561\n",
      "0.41 0.45347046852111816\n",
      "0.4 0.4303613603115082\n",
      "0.4 0.45110270380973816\n",
      "0.38 0.42542439699172974\n",
      "0.38 0.4035344421863556\n",
      "0.38 0.2091430425643921\n",
      "0.38 0.3743937313556671\n",
      "0.38 0.3609825372695923\n",
      "0.38 0.5606198906898499\n",
      "0.38 0.4578160345554352\n",
      "0.38 0.46292731165885925\n",
      "0.38 0.37468433380126953\n",
      "0.38 0.24120177328586578\n",
      "0.38 0.34780213236808777\n",
      "0.38 0.6972101926803589\n",
      "0.38 0.5358753800392151\n",
      "0.38 0.5361166000366211\n",
      "0.38 0.39040258526802063\n",
      "0.38 0.42446568608283997\n",
      "0.38 0.3520972728729248\n",
      "0.38 0.4225212633609772\n",
      "0.38 0.4389834403991699\n",
      "0.38 0.6247273087501526\n",
      "0.38 0.4444643557071686\n",
      "0.38 0.3657087981700897\n",
      "0.38 0.458823561668396\n",
      "0.38 0.41136372089385986\n",
      "0.38 0.617181658744812\n",
      "0.38 0.3059636950492859\n",
      "0.38 0.5353323817253113\n",
      "0.38 0.4062763750553131\n",
      "0.38 0.4829050302505493\n",
      "0.38 0.3688087463378906\n",
      "0.38 0.34555596113204956\n",
      "0.38 0.3882962167263031\n",
      "0.38 0.3681063950061798\n",
      "0.38 0.39893245697021484\n",
      "0.38 0.5595273375511169\n",
      "0.38 0.32096514105796814\n",
      "0.38 0.37969210743904114\n",
      "0.38 0.35881495475769043\n",
      "0.38 0.4934351146221161\n",
      "0.38 0.5136829614639282\n",
      "0.38 0.24603727459907532\n",
      "0.38 0.4357181191444397\n",
      "0.38 0.46248236298561096\n",
      "0.38 0.5142673850059509\n",
      "0.38 0.4412479102611542\n",
      "0.38 0.3597833514213562\n",
      "0.38 0.32822078466415405\n",
      "0.38 0.5172741413116455\n",
      "0.38 0.223028764128685\n",
      "0.38 0.5851766467094421\n",
      "0.38 0.3584544062614441\n",
      "0.38 0.3645617663860321\n",
      "0.37 0.46772268414497375\n",
      "0.37 0.38855037093162537\n",
      "0.37 0.3533845841884613\n",
      "0.34 0.21596533060073853\n",
      "0.34 0.2897666394710541\n",
      "0.34 0.4438075125217438\n",
      "0.34 0.3976622521877289\n",
      "0.34 0.3637201488018036\n",
      "0.34 0.48748183250427246\n",
      "0.34 0.6188271045684814\n",
      "0.34 0.4325890839099884\n",
      "0.34 0.46794044971466064\n",
      "0.34 0.33449819684028625\n",
      "0.34 0.4254645109176636\n",
      "0.34 0.5247325897216797\n",
      "0.34 0.32913899421691895\n",
      "0.34 0.4965500831604004\n",
      "0.34 0.2503681778907776\n",
      "0.34 0.3599465489387512\n",
      "0.34 0.44136300683021545\n",
      "0.34 0.3678869903087616\n",
      "0.34 0.4031948149204254\n",
      "0.34 0.27654406428337097\n",
      "0.34 0.4175437390804291\n",
      "0.34 0.37428000569343567\n",
      "0.34 0.29640689492225647\n",
      "0.34 0.36783942580223083\n",
      "0.34 0.2613198757171631\n",
      "0.34 0.3762272596359253\n",
      "0.34 0.2969036400318146\n",
      "0.34 0.19470572471618652\n",
      "0.34 0.3659278452396393\n",
      "0.34 0.33645108342170715\n",
      "0.34 0.37207186222076416\n",
      "0.34 0.5834531188011169\n",
      "0.34 0.3828737735748291\n",
      "0.34 0.2184108942747116\n",
      "0.34 0.34555140137672424\n",
      "0.34 0.4203716814517975\n",
      "0.34 0.33583733439445496\n",
      "0.34 0.34228384494781494\n",
      "0.34 0.2917914092540741\n",
      "0.34 0.26803091168403625\n",
      "0.34 0.359313040971756\n",
      "0.34 0.28259822726249695\n",
      "0.34 0.5109000205993652\n",
      "0.34 0.3152370750904083\n",
      "0.34 0.37643471360206604\n",
      "0.34 0.41684019565582275\n",
      "0.34 0.6552872061729431\n",
      "0.34 0.323496550321579\n",
      "0.33 0.31555792689323425\n",
      "0.33 0.40643826127052307\n",
      "0.31 0.286329060792923\n",
      "0.31 0.22452634572982788\n",
      "0.31 0.2670615613460541\n",
      "0.31 0.3225040137767792\n",
      "0.31 0.49171751737594604\n",
      "0.31 0.3377825915813446\n",
      "0.31 0.25686803460121155\n",
      "0.31 0.2609758675098419\n",
      "0.31 0.3098756968975067\n",
      "0.31 0.3047572076320648\n",
      "0.31 0.3469637334346771\n",
      "0.31 0.25831496715545654\n",
      "0.31 0.29759013652801514\n",
      "0.31 0.2007123976945877\n",
      "0.31 0.3261053264141083\n",
      "0.31 0.20047138631343842\n",
      "0.31 0.38572946190834045\n",
      "0.31 0.31529128551483154\n",
      "0.31 0.21941937506198883\n",
      "0.31 0.4159843623638153\n",
      "0.31 0.32747331261634827\n",
      "0.31 0.3725307285785675\n",
      "0.31 0.29751262068748474\n",
      "0.31 0.3480042815208435\n",
      "0.31 0.395363986492157\n",
      "0.31 0.4913448393344879\n",
      "0.31 0.2557719349861145\n",
      "0.31 0.5004673600196838\n",
      "0.31 0.3306483030319214\n",
      "0.31 0.2819514572620392\n",
      "0.31 0.33474621176719666\n",
      "0.31 0.1861840784549713\n",
      "0.31 0.39268022775650024\n",
      "0.31 0.324393093585968\n",
      "0.31 0.1590726673603058\n",
      "0.31 0.2760302722454071\n",
      "0.31 0.44090867042541504\n",
      "0.31 0.35578566789627075\n",
      "0.31 0.29468122124671936\n",
      "0.31 0.34140661358833313\n",
      "0.31 0.32424384355545044\n",
      "0.31 0.3545983135700226\n",
      "0.31 0.41446033120155334\n",
      "0.31 0.415286660194397\n",
      "0.31 0.5380846858024597\n",
      "0.28 0.3142298758029938\n",
      "0.28 0.3461316227912903\n",
      "0.28 0.44509485363960266\n",
      "0.28 0.2896546721458435\n",
      "0.28 0.5980759263038635\n",
      "0.28 0.40381118655204773\n",
      "0.28 0.4495519697666168\n",
      "0.28 0.4026166498661041\n",
      "0.28 0.3465767204761505\n",
      "0.28 0.26820841431617737\n",
      "0.28 0.2407168447971344\n",
      "0.28 0.1690911054611206\n",
      "0.28 0.33863943815231323\n",
      "0.28 0.303776353597641\n",
      "0.28 0.38836541771888733\n",
      "0.28 0.3315361440181732\n",
      "0.28 0.4108574092388153\n",
      "0.28 0.2633095681667328\n",
      "0.28 0.34969088435173035\n",
      "0.28 0.2527572214603424\n",
      "0.28 0.38126760721206665\n",
      "0.28 0.4547554850578308\n",
      "0.28 0.5485537052154541\n",
      "0.28 0.2912135422229767\n",
      "0.28 0.34108081459999084\n",
      "0.28 0.2387176752090454\n",
      "0.28 0.28882357478141785\n",
      "0.28 0.3069906532764435\n",
      "0.28 0.31688645482063293\n",
      "0.28 0.4008941352367401\n",
      "0.28 0.2590853273868561\n",
      "0.28 0.405527263879776\n",
      "0.28 0.3309361934661865\n",
      "0.28 0.20308327674865723\n",
      "0.28 0.3055945932865143\n",
      "0.28 0.40500253438949585\n",
      "0.28 0.4370920956134796\n",
      "0.28 0.22538498044013977\n",
      "0.28 0.19515319168567657\n",
      "0.28 0.4190288782119751\n",
      "0.27 0.3008626699447632\n",
      "0.25 0.27186110615730286\n",
      "0.25 0.3955290615558624\n",
      "0.25 0.39837101101875305\n",
      "0.25 0.3165518641471863\n",
      "0.25 0.3061675727367401\n",
      "0.25 0.2035045325756073\n",
      "0.25 0.28753140568733215\n",
      "0.25 0.2916768491268158\n",
      "0.25 0.3007075786590576\n",
      "0.25 0.2486252784729004\n",
      "0.25 0.2984655797481537\n",
      "0.25 0.39799419045448303\n",
      "0.25 0.2451019138097763\n",
      "0.25 0.5679516792297363\n",
      "0.25 0.24085265398025513\n",
      "0.25 0.24275636672973633\n",
      "0.25 0.20723503828048706\n",
      "0.25 0.5092527270317078\n",
      "0.25 0.2765295207500458\n",
      "0.25 0.18569032847881317\n",
      "0.25 0.4043920040130615\n",
      "0.25 0.35582926869392395\n",
      "0.25 0.37295472621917725\n",
      "0.25 0.3704676330089569\n",
      "0.25 0.30449023842811584\n",
      "0.25 0.44540706276893616\n",
      "0.25 0.2645205557346344\n",
      "0.25 0.3551512658596039\n",
      "0.25 0.4134550392627716\n",
      "0.25 0.300114244222641\n",
      "0.25 0.25812891125679016\n",
      "0.25 0.25511685013771057\n",
      "0.25 0.3694072663784027\n",
      "0.25 0.3425828814506531\n",
      "0.25 0.2599697411060333\n",
      "0.25 0.1680884063243866\n",
      "0.25 0.23326563835144043\n",
      "0.25 0.2513670325279236\n",
      "0.25 0.34527984261512756\n",
      "0.25 0.40845420956611633\n",
      "0.25 0.3211878836154938\n",
      "0.25 0.17802606523036957\n",
      "0.25 0.3347155749797821\n",
      "0.25 0.3761744201183319\n",
      "0.25 0.288780152797699\n",
      "0.25 0.3933245837688446\n",
      "0.25 0.37285277247428894\n",
      "0.25 0.2927354574203491\n",
      "0.23 0.3401005268096924\n",
      "0.23 0.3914964497089386\n",
      "0.22 0.2763507664203644\n",
      "0.22 0.44434601068496704\n",
      "0.22 0.20571742951869965\n",
      "0.22 0.2259553074836731\n",
      "0.22 0.28317901492118835\n",
      "0.22 0.2063847780227661\n",
      "0.22 0.391275554895401\n",
      "0.22 0.3878784775733948\n",
      "0.22 0.49798616766929626\n",
      "0.22 0.28573426604270935\n",
      "0.22 0.2833717167377472\n",
      "0.22 0.300059050321579\n",
      "0.22 0.243721142411232\n",
      "0.22 0.32901594042778015\n",
      "0.22 0.15858961641788483\n",
      "0.22 0.27806636691093445\n",
      "0.22 0.2857264578342438\n",
      "0.22 0.3195040225982666\n",
      "0.22 0.19487804174423218\n",
      "0.22 0.2574150264263153\n",
      "0.22 0.22652983665466309\n",
      "0.22 0.20042790472507477\n",
      "0.22 0.3170814514160156\n",
      "0.22 0.19270175695419312\n",
      "0.22 0.2395208179950714\n",
      "0.22 0.3813239634037018\n",
      "0.22 0.3139578402042389\n",
      "0.22 0.412789911031723\n",
      "0.22 0.3395310342311859\n",
      "0.22 0.3771107494831085\n",
      "0.22 0.2610431909561157\n",
      "0.22 0.44839876890182495\n",
      "0.21 0.24277187883853912\n",
      "0.2 0.46085789799690247\n",
      "0.2 0.44348886609077454\n",
      "0.19 0.1466178447008133\n",
      "0.19 0.18747806549072266\n",
      "0.19 0.24054110050201416\n",
      "0.19 0.27205440402030945\n",
      "0.19 0.359233021736145\n",
      "0.19 0.3734036087989807\n",
      "0.19 0.3654261529445648\n",
      "0.19 0.288728803396225\n",
      "0.19 0.30746668577194214\n",
      "0.19 0.3436723053455353\n",
      "0.19 0.22091051936149597\n",
      "0.19 0.35959139466285706\n",
      "0.19 0.2752458155155182\n",
      "0.19 0.31018832325935364\n",
      "0.19 0.2627262771129608\n",
      "0.19 0.2111589014530182\n",
      "0.19 0.335916668176651\n",
      "0.19 0.37330737709999084\n",
      "0.19 0.3359416127204895\n",
      "0.19 0.28023985028266907\n",
      "0.19 0.2632271349430084\n",
      "0.19 0.22293026745319366\n",
      "0.19 0.16476866602897644\n",
      "0.19 0.33341965079307556\n",
      "0.19 0.2678862512111664\n",
      "0.19 0.20243707299232483\n",
      "0.19 0.3416763246059418\n",
      "0.17 0.17911624908447266\n",
      "0.16 0.32236284017562866\n",
      "0.16 0.17143215239048004\n",
      "0.16 0.37022313475608826\n",
      "0.16 0.3181167244911194\n",
      "0.16 0.22410427033901215\n",
      "0.16 0.35003212094306946\n",
      "0.16 0.3694797456264496\n",
      "0.16 0.2990657091140747\n",
      "0.16 0.19532471895217896\n",
      "0.16 0.25236183404922485\n",
      "0.16 0.2982860803604126\n",
      "0.16 0.17604276537895203\n",
      "0.16 0.1447659432888031\n",
      "0.16 0.20877690613269806\n",
      "0.16 0.3230302631855011\n",
      "0.16 0.2559959292411804\n",
      "0.16 0.23154526948928833\n",
      "0.16 0.32407042384147644\n",
      "0.16 0.29210516810417175\n",
      "0.16 0.17819860577583313\n",
      "0.16 0.33243218064308167\n",
      "0.12 0.1998298019170761\n",
      "0.12 0.3591495156288147\n",
      "0.12 0.3191499412059784\n",
      "0.12 0.1840486228466034\n",
      "0.12 0.35817834734916687\n",
      "0.12 0.18118475377559662\n",
      "0.12 0.31470048427581787\n",
      "0.12 0.1371898353099823\n",
      "0.12 0.1378984898328781\n",
      "0.12 0.20136360824108124\n",
      "0.12 0.275847464799881\n",
      "0.12 0.242656871676445\n",
      "0.12 0.31429144740104675\n",
      "0.12 0.21925145387649536\n",
      "0.12 0.3480931222438812\n",
      "0.12 0.23118585348129272\n",
      "0.12 0.30967384576797485\n",
      "0.12 0.183142751455307\n",
      "0.12 0.2615467607975006\n",
      "0.1 0.2848164141178131\n",
      "0.09 0.2612048089504242\n",
      "0.09 0.21698977053165436\n",
      "0.09 0.16891628503799438\n",
      "0.09 0.22323939204216003\n",
      "0.09 0.33653464913368225\n",
      "0.09 0.19000126421451569\n",
      "0.09 0.3103996813297272\n",
      "0.09 0.16852989792823792\n",
      "0.09 0.34749874472618103\n",
      "0.09 0.15176865458488464\n",
      "0.09 0.18347929418087006\n",
      "0.09 0.2654929757118225\n",
      "0.09 0.2419465035200119\n",
      "0.09 0.19934779405593872\n",
      "0.07 0.25422683358192444\n",
      "0.06 0.3041159212589264\n",
      "0.06 0.2133556306362152\n",
      "0.06 0.22408996522426605\n",
      "0.06 0.2295648604631424\n",
      "0.03 0.18070214986801147\n",
      "0.03 0.3568987548351288\n",
      "0.03 0.15038862824440002\n",
      "0.03 0.2583763003349304\n"
     ]
    }
   ],
   "source": [
    "for i,j in zip(valid_true_labels,valid_predicted):\n",
    "  print(i,j)"
   ]
  },
  {
   "cell_type": "code",
   "execution_count": null,
   "id": "FbsWIA2vm17d",
   "metadata": {
    "id": "FbsWIA2vm17d"
   },
   "outputs": [],
   "source": []
  }
 ],
 "metadata": {
  "accelerator": "GPU",
  "colab": {
   "gpuType": "T4",
   "provenance": []
  },
  "kernelspec": {
   "display_name": "llm_ner_env",
   "language": "python",
   "name": "llm_ner_env"
  },
  "language_info": {
   "codemirror_mode": {
    "name": "ipython",
    "version": 3
   },
   "file_extension": ".py",
   "mimetype": "text/x-python",
   "name": "python",
   "nbconvert_exporter": "python",
   "pygments_lexer": "ipython3",
   "version": "3.9.7"
  },
  "widgets": {
   "application/vnd.jupyter.widget-state+json": {
    "00e2242eb28541739286cd745d775cdf": {
     "model_module": "@jupyter-widgets/controls",
     "model_module_version": "1.5.0",
     "model_name": "DescriptionStyleModel",
     "state": {
      "_model_module": "@jupyter-widgets/controls",
      "_model_module_version": "1.5.0",
      "_model_name": "DescriptionStyleModel",
      "_view_count": null,
      "_view_module": "@jupyter-widgets/base",
      "_view_module_version": "1.2.0",
      "_view_name": "StyleView",
      "description_width": ""
     }
    },
    "014ff21cb7e7489992671fd812415543": {
     "model_module": "@jupyter-widgets/base",
     "model_module_version": "1.2.0",
     "model_name": "LayoutModel",
     "state": {
      "_model_module": "@jupyter-widgets/base",
      "_model_module_version": "1.2.0",
      "_model_name": "LayoutModel",
      "_view_count": null,
      "_view_module": "@jupyter-widgets/base",
      "_view_module_version": "1.2.0",
      "_view_name": "LayoutView",
      "align_content": null,
      "align_items": null,
      "align_self": null,
      "border": null,
      "bottom": null,
      "display": null,
      "flex": null,
      "flex_flow": null,
      "grid_area": null,
      "grid_auto_columns": null,
      "grid_auto_flow": null,
      "grid_auto_rows": null,
      "grid_column": null,
      "grid_gap": null,
      "grid_row": null,
      "grid_template_areas": null,
      "grid_template_columns": null,
      "grid_template_rows": null,
      "height": null,
      "justify_content": null,
      "justify_items": null,
      "left": null,
      "margin": null,
      "max_height": null,
      "max_width": null,
      "min_height": null,
      "min_width": null,
      "object_fit": null,
      "object_position": null,
      "order": null,
      "overflow": null,
      "overflow_x": null,
      "overflow_y": null,
      "padding": null,
      "right": null,
      "top": null,
      "visibility": null,
      "width": null
     }
    },
    "03746667ace44f73958360712f32b03b": {
     "model_module": "@jupyter-widgets/controls",
     "model_module_version": "1.5.0",
     "model_name": "FloatProgressModel",
     "state": {
      "_dom_classes": [],
      "_model_module": "@jupyter-widgets/controls",
      "_model_module_version": "1.5.0",
      "_model_name": "FloatProgressModel",
      "_view_count": null,
      "_view_module": "@jupyter-widgets/controls",
      "_view_module_version": "1.5.0",
      "_view_name": "ProgressView",
      "bar_style": "success",
      "description": "",
      "description_tooltip": null,
      "layout": "IPY_MODEL_af944263854449529e3de5c6ed179616",
      "max": 16,
      "min": 0,
      "orientation": "horizontal",
      "style": "IPY_MODEL_435fb577ab714199b2cb57310f0cbfe7",
      "value": 16
     }
    },
    "06e10f531f314fc2b0687017f1b21ab4": {
     "model_module": "@jupyter-widgets/base",
     "model_module_version": "1.2.0",
     "model_name": "LayoutModel",
     "state": {
      "_model_module": "@jupyter-widgets/base",
      "_model_module_version": "1.2.0",
      "_model_name": "LayoutModel",
      "_view_count": null,
      "_view_module": "@jupyter-widgets/base",
      "_view_module_version": "1.2.0",
      "_view_name": "LayoutView",
      "align_content": null,
      "align_items": null,
      "align_self": null,
      "border": null,
      "bottom": null,
      "display": null,
      "flex": null,
      "flex_flow": null,
      "grid_area": null,
      "grid_auto_columns": null,
      "grid_auto_flow": null,
      "grid_auto_rows": null,
      "grid_column": null,
      "grid_gap": null,
      "grid_row": null,
      "grid_template_areas": null,
      "grid_template_columns": null,
      "grid_template_rows": null,
      "height": null,
      "justify_content": null,
      "justify_items": null,
      "left": null,
      "margin": null,
      "max_height": null,
      "max_width": null,
      "min_height": null,
      "min_width": null,
      "object_fit": null,
      "object_position": null,
      "order": null,
      "overflow": null,
      "overflow_x": null,
      "overflow_y": null,
      "padding": null,
      "right": null,
      "top": null,
      "visibility": null,
      "width": null
     }
    },
    "07702ed9c755477fb6b6a446c81640e4": {
     "model_module": "@jupyter-widgets/controls",
     "model_module_version": "1.5.0",
     "model_name": "HTMLModel",
     "state": {
      "_dom_classes": [],
      "_model_module": "@jupyter-widgets/controls",
      "_model_module_version": "1.5.0",
      "_model_name": "HTMLModel",
      "_view_count": null,
      "_view_module": "@jupyter-widgets/controls",
      "_view_module_version": "1.5.0",
      "_view_name": "HTMLView",
      "description": "",
      "description_tooltip": null,
      "layout": "IPY_MODEL_30d6d022ea9546678e6c8f717fb2f931",
      "placeholder": "​",
      "style": "IPY_MODEL_213e31309e6b485789e72d84b297e907",
      "value": "100%"
     }
    },
    "07c381494a8a43799d17dd868a533e8b": {
     "model_module": "@jupyter-widgets/controls",
     "model_module_version": "1.5.0",
     "model_name": "ProgressStyleModel",
     "state": {
      "_model_module": "@jupyter-widgets/controls",
      "_model_module_version": "1.5.0",
      "_model_name": "ProgressStyleModel",
      "_view_count": null,
      "_view_module": "@jupyter-widgets/base",
      "_view_module_version": "1.2.0",
      "_view_name": "StyleView",
      "bar_color": null,
      "description_width": ""
     }
    },
    "09631e4e081544eb82581483a6f666da": {
     "model_module": "@jupyter-widgets/base",
     "model_module_version": "1.2.0",
     "model_name": "LayoutModel",
     "state": {
      "_model_module": "@jupyter-widgets/base",
      "_model_module_version": "1.2.0",
      "_model_name": "LayoutModel",
      "_view_count": null,
      "_view_module": "@jupyter-widgets/base",
      "_view_module_version": "1.2.0",
      "_view_name": "LayoutView",
      "align_content": null,
      "align_items": null,
      "align_self": null,
      "border": null,
      "bottom": null,
      "display": null,
      "flex": null,
      "flex_flow": null,
      "grid_area": null,
      "grid_auto_columns": null,
      "grid_auto_flow": null,
      "grid_auto_rows": null,
      "grid_column": null,
      "grid_gap": null,
      "grid_row": null,
      "grid_template_areas": null,
      "grid_template_columns": null,
      "grid_template_rows": null,
      "height": null,
      "justify_content": null,
      "justify_items": null,
      "left": null,
      "margin": null,
      "max_height": null,
      "max_width": null,
      "min_height": null,
      "min_width": null,
      "object_fit": null,
      "object_position": null,
      "order": null,
      "overflow": null,
      "overflow_x": null,
      "overflow_y": null,
      "padding": null,
      "right": null,
      "top": null,
      "visibility": null,
      "width": null
     }
    },
    "0a42a8c1ff544d998de5a65add878912": {
     "model_module": "@jupyter-widgets/controls",
     "model_module_version": "1.5.0",
     "model_name": "DescriptionStyleModel",
     "state": {
      "_model_module": "@jupyter-widgets/controls",
      "_model_module_version": "1.5.0",
      "_model_name": "DescriptionStyleModel",
      "_view_count": null,
      "_view_module": "@jupyter-widgets/base",
      "_view_module_version": "1.2.0",
      "_view_name": "StyleView",
      "description_width": ""
     }
    },
    "0bef03e0763f4aac887bb6bbb3302b24": {
     "model_module": "@jupyter-widgets/controls",
     "model_module_version": "1.5.0",
     "model_name": "DescriptionStyleModel",
     "state": {
      "_model_module": "@jupyter-widgets/controls",
      "_model_module_version": "1.5.0",
      "_model_name": "DescriptionStyleModel",
      "_view_count": null,
      "_view_module": "@jupyter-widgets/base",
      "_view_module_version": "1.2.0",
      "_view_name": "StyleView",
      "description_width": ""
     }
    },
    "0d9e18180a734a35ad38e67b7ce840ab": {
     "model_module": "@jupyter-widgets/controls",
     "model_module_version": "1.5.0",
     "model_name": "HTMLModel",
     "state": {
      "_dom_classes": [],
      "_model_module": "@jupyter-widgets/controls",
      "_model_module_version": "1.5.0",
      "_model_name": "HTMLModel",
      "_view_count": null,
      "_view_module": "@jupyter-widgets/controls",
      "_view_module_version": "1.5.0",
      "_view_name": "HTMLView",
      "description": "",
      "description_tooltip": null,
      "layout": "IPY_MODEL_06e10f531f314fc2b0687017f1b21ab4",
      "placeholder": "​",
      "style": "IPY_MODEL_3c8950a1739147d8a358325d4df7696d",
      "value": " 16/16 [00:04&lt;00:00,  4.39it/s]"
     }
    },
    "0ea6db5f7ba14b16b110c06c35691105": {
     "model_module": "@jupyter-widgets/controls",
     "model_module_version": "1.5.0",
     "model_name": "HTMLModel",
     "state": {
      "_dom_classes": [],
      "_model_module": "@jupyter-widgets/controls",
      "_model_module_version": "1.5.0",
      "_model_name": "HTMLModel",
      "_view_count": null,
      "_view_module": "@jupyter-widgets/controls",
      "_view_module_version": "1.5.0",
      "_view_name": "HTMLView",
      "description": "",
      "description_tooltip": null,
      "layout": "IPY_MODEL_31ea1a50a0324f6b9dad3961e237ee35",
      "placeholder": "​",
      "style": "IPY_MODEL_41b21fd9995a4d6b9182bc9437378c3f",
      "value": " 275/275 [03:34&lt;00:00,  1.29it/s]"
     }
    },
    "1276bae116414f6380f676564a1be55c": {
     "model_module": "@jupyter-widgets/base",
     "model_module_version": "1.2.0",
     "model_name": "LayoutModel",
     "state": {
      "_model_module": "@jupyter-widgets/base",
      "_model_module_version": "1.2.0",
      "_model_name": "LayoutModel",
      "_view_count": null,
      "_view_module": "@jupyter-widgets/base",
      "_view_module_version": "1.2.0",
      "_view_name": "LayoutView",
      "align_content": null,
      "align_items": null,
      "align_self": null,
      "border": null,
      "bottom": null,
      "display": null,
      "flex": null,
      "flex_flow": null,
      "grid_area": null,
      "grid_auto_columns": null,
      "grid_auto_flow": null,
      "grid_auto_rows": null,
      "grid_column": null,
      "grid_gap": null,
      "grid_row": null,
      "grid_template_areas": null,
      "grid_template_columns": null,
      "grid_template_rows": null,
      "height": null,
      "justify_content": null,
      "justify_items": null,
      "left": null,
      "margin": null,
      "max_height": null,
      "max_width": null,
      "min_height": null,
      "min_width": null,
      "object_fit": null,
      "object_position": null,
      "order": null,
      "overflow": null,
      "overflow_x": null,
      "overflow_y": null,
      "padding": null,
      "right": null,
      "top": null,
      "visibility": null,
      "width": null
     }
    },
    "131fec2bc4e64319a4d60d63de7bc1fb": {
     "model_module": "@jupyter-widgets/base",
     "model_module_version": "1.2.0",
     "model_name": "LayoutModel",
     "state": {
      "_model_module": "@jupyter-widgets/base",
      "_model_module_version": "1.2.0",
      "_model_name": "LayoutModel",
      "_view_count": null,
      "_view_module": "@jupyter-widgets/base",
      "_view_module_version": "1.2.0",
      "_view_name": "LayoutView",
      "align_content": null,
      "align_items": null,
      "align_self": null,
      "border": null,
      "bottom": null,
      "display": null,
      "flex": null,
      "flex_flow": null,
      "grid_area": null,
      "grid_auto_columns": null,
      "grid_auto_flow": null,
      "grid_auto_rows": null,
      "grid_column": null,
      "grid_gap": null,
      "grid_row": null,
      "grid_template_areas": null,
      "grid_template_columns": null,
      "grid_template_rows": null,
      "height": null,
      "justify_content": null,
      "justify_items": null,
      "left": null,
      "margin": null,
      "max_height": null,
      "max_width": null,
      "min_height": null,
      "min_width": null,
      "object_fit": null,
      "object_position": null,
      "order": null,
      "overflow": null,
      "overflow_x": null,
      "overflow_y": null,
      "padding": null,
      "right": null,
      "top": null,
      "visibility": null,
      "width": null
     }
    },
    "143d8a250a2e4550b1c5b1978d5a2518": {
     "model_module": "@jupyter-widgets/controls",
     "model_module_version": "1.5.0",
     "model_name": "HTMLModel",
     "state": {
      "_dom_classes": [],
      "_model_module": "@jupyter-widgets/controls",
      "_model_module_version": "1.5.0",
      "_model_name": "HTMLModel",
      "_view_count": null,
      "_view_module": "@jupyter-widgets/controls",
      "_view_module_version": "1.5.0",
      "_view_name": "HTMLView",
      "description": "",
      "description_tooltip": null,
      "layout": "IPY_MODEL_4949d7cfe6124f918d659d789a1cefa7",
      "placeholder": "​",
      "style": "IPY_MODEL_764ff446b3094918b1822fdb028b2709",
      "value": " 19%"
     }
    },
    "144eb798037047f187f25772192cfa29": {
     "model_module": "@jupyter-widgets/base",
     "model_module_version": "1.2.0",
     "model_name": "LayoutModel",
     "state": {
      "_model_module": "@jupyter-widgets/base",
      "_model_module_version": "1.2.0",
      "_model_name": "LayoutModel",
      "_view_count": null,
      "_view_module": "@jupyter-widgets/base",
      "_view_module_version": "1.2.0",
      "_view_name": "LayoutView",
      "align_content": null,
      "align_items": null,
      "align_self": null,
      "border": null,
      "bottom": null,
      "display": null,
      "flex": null,
      "flex_flow": null,
      "grid_area": null,
      "grid_auto_columns": null,
      "grid_auto_flow": null,
      "grid_auto_rows": null,
      "grid_column": null,
      "grid_gap": null,
      "grid_row": null,
      "grid_template_areas": null,
      "grid_template_columns": null,
      "grid_template_rows": null,
      "height": null,
      "justify_content": null,
      "justify_items": null,
      "left": null,
      "margin": null,
      "max_height": null,
      "max_width": null,
      "min_height": null,
      "min_width": null,
      "object_fit": null,
      "object_position": null,
      "order": null,
      "overflow": null,
      "overflow_x": null,
      "overflow_y": null,
      "padding": null,
      "right": null,
      "top": null,
      "visibility": null,
      "width": null
     }
    },
    "1614cfd998a34ef6b3cabded1a5e0968": {
     "model_module": "@jupyter-widgets/base",
     "model_module_version": "1.2.0",
     "model_name": "LayoutModel",
     "state": {
      "_model_module": "@jupyter-widgets/base",
      "_model_module_version": "1.2.0",
      "_model_name": "LayoutModel",
      "_view_count": null,
      "_view_module": "@jupyter-widgets/base",
      "_view_module_version": "1.2.0",
      "_view_name": "LayoutView",
      "align_content": null,
      "align_items": null,
      "align_self": null,
      "border": null,
      "bottom": null,
      "display": null,
      "flex": null,
      "flex_flow": null,
      "grid_area": null,
      "grid_auto_columns": null,
      "grid_auto_flow": null,
      "grid_auto_rows": null,
      "grid_column": null,
      "grid_gap": null,
      "grid_row": null,
      "grid_template_areas": null,
      "grid_template_columns": null,
      "grid_template_rows": null,
      "height": null,
      "justify_content": null,
      "justify_items": null,
      "left": null,
      "margin": null,
      "max_height": null,
      "max_width": null,
      "min_height": null,
      "min_width": null,
      "object_fit": null,
      "object_position": null,
      "order": null,
      "overflow": null,
      "overflow_x": null,
      "overflow_y": null,
      "padding": null,
      "right": null,
      "top": null,
      "visibility": null,
      "width": null
     }
    },
    "17459f6962774d9b8459b60799846cf5": {
     "model_module": "@jupyter-widgets/base",
     "model_module_version": "1.2.0",
     "model_name": "LayoutModel",
     "state": {
      "_model_module": "@jupyter-widgets/base",
      "_model_module_version": "1.2.0",
      "_model_name": "LayoutModel",
      "_view_count": null,
      "_view_module": "@jupyter-widgets/base",
      "_view_module_version": "1.2.0",
      "_view_name": "LayoutView",
      "align_content": null,
      "align_items": null,
      "align_self": null,
      "border": null,
      "bottom": null,
      "display": null,
      "flex": null,
      "flex_flow": null,
      "grid_area": null,
      "grid_auto_columns": null,
      "grid_auto_flow": null,
      "grid_auto_rows": null,
      "grid_column": null,
      "grid_gap": null,
      "grid_row": null,
      "grid_template_areas": null,
      "grid_template_columns": null,
      "grid_template_rows": null,
      "height": null,
      "justify_content": null,
      "justify_items": null,
      "left": null,
      "margin": null,
      "max_height": null,
      "max_width": null,
      "min_height": null,
      "min_width": null,
      "object_fit": null,
      "object_position": null,
      "order": null,
      "overflow": null,
      "overflow_x": null,
      "overflow_y": null,
      "padding": null,
      "right": null,
      "top": null,
      "visibility": null,
      "width": null
     }
    },
    "179dbbe2837c451a839e404eec3f3263": {
     "model_module": "@jupyter-widgets/base",
     "model_module_version": "1.2.0",
     "model_name": "LayoutModel",
     "state": {
      "_model_module": "@jupyter-widgets/base",
      "_model_module_version": "1.2.0",
      "_model_name": "LayoutModel",
      "_view_count": null,
      "_view_module": "@jupyter-widgets/base",
      "_view_module_version": "1.2.0",
      "_view_name": "LayoutView",
      "align_content": null,
      "align_items": null,
      "align_self": null,
      "border": null,
      "bottom": null,
      "display": null,
      "flex": null,
      "flex_flow": null,
      "grid_area": null,
      "grid_auto_columns": null,
      "grid_auto_flow": null,
      "grid_auto_rows": null,
      "grid_column": null,
      "grid_gap": null,
      "grid_row": null,
      "grid_template_areas": null,
      "grid_template_columns": null,
      "grid_template_rows": null,
      "height": null,
      "justify_content": null,
      "justify_items": null,
      "left": null,
      "margin": null,
      "max_height": null,
      "max_width": null,
      "min_height": null,
      "min_width": null,
      "object_fit": null,
      "object_position": null,
      "order": null,
      "overflow": null,
      "overflow_x": null,
      "overflow_y": null,
      "padding": null,
      "right": null,
      "top": null,
      "visibility": null,
      "width": null
     }
    },
    "1afe5528e8384cdba00681275be35fc4": {
     "model_module": "@jupyter-widgets/base",
     "model_module_version": "1.2.0",
     "model_name": "LayoutModel",
     "state": {
      "_model_module": "@jupyter-widgets/base",
      "_model_module_version": "1.2.0",
      "_model_name": "LayoutModel",
      "_view_count": null,
      "_view_module": "@jupyter-widgets/base",
      "_view_module_version": "1.2.0",
      "_view_name": "LayoutView",
      "align_content": null,
      "align_items": null,
      "align_self": null,
      "border": null,
      "bottom": null,
      "display": null,
      "flex": null,
      "flex_flow": null,
      "grid_area": null,
      "grid_auto_columns": null,
      "grid_auto_flow": null,
      "grid_auto_rows": null,
      "grid_column": null,
      "grid_gap": null,
      "grid_row": null,
      "grid_template_areas": null,
      "grid_template_columns": null,
      "grid_template_rows": null,
      "height": null,
      "justify_content": null,
      "justify_items": null,
      "left": null,
      "margin": null,
      "max_height": null,
      "max_width": null,
      "min_height": null,
      "min_width": null,
      "object_fit": null,
      "object_position": null,
      "order": null,
      "overflow": null,
      "overflow_x": null,
      "overflow_y": null,
      "padding": null,
      "right": null,
      "top": null,
      "visibility": null,
      "width": null
     }
    },
    "1d9243d707884dd5bb2b8b55b02dfec1": {
     "model_module": "@jupyter-widgets/base",
     "model_module_version": "1.2.0",
     "model_name": "LayoutModel",
     "state": {
      "_model_module": "@jupyter-widgets/base",
      "_model_module_version": "1.2.0",
      "_model_name": "LayoutModel",
      "_view_count": null,
      "_view_module": "@jupyter-widgets/base",
      "_view_module_version": "1.2.0",
      "_view_name": "LayoutView",
      "align_content": null,
      "align_items": null,
      "align_self": null,
      "border": null,
      "bottom": null,
      "display": null,
      "flex": null,
      "flex_flow": null,
      "grid_area": null,
      "grid_auto_columns": null,
      "grid_auto_flow": null,
      "grid_auto_rows": null,
      "grid_column": null,
      "grid_gap": null,
      "grid_row": null,
      "grid_template_areas": null,
      "grid_template_columns": null,
      "grid_template_rows": null,
      "height": null,
      "justify_content": null,
      "justify_items": null,
      "left": null,
      "margin": null,
      "max_height": null,
      "max_width": null,
      "min_height": null,
      "min_width": null,
      "object_fit": null,
      "object_position": null,
      "order": null,
      "overflow": null,
      "overflow_x": null,
      "overflow_y": null,
      "padding": null,
      "right": null,
      "top": null,
      "visibility": null,
      "width": null
     }
    },
    "1e9674e2bbac43e994e418f1c795e598": {
     "model_module": "@jupyter-widgets/controls",
     "model_module_version": "1.5.0",
     "model_name": "ProgressStyleModel",
     "state": {
      "_model_module": "@jupyter-widgets/controls",
      "_model_module_version": "1.5.0",
      "_model_name": "ProgressStyleModel",
      "_view_count": null,
      "_view_module": "@jupyter-widgets/base",
      "_view_module_version": "1.2.0",
      "_view_name": "StyleView",
      "bar_color": null,
      "description_width": ""
     }
    },
    "1ec4d56af08e46b184b71159a6c444ad": {
     "model_module": "@jupyter-widgets/controls",
     "model_module_version": "1.5.0",
     "model_name": "DescriptionStyleModel",
     "state": {
      "_model_module": "@jupyter-widgets/controls",
      "_model_module_version": "1.5.0",
      "_model_name": "DescriptionStyleModel",
      "_view_count": null,
      "_view_module": "@jupyter-widgets/base",
      "_view_module_version": "1.2.0",
      "_view_name": "StyleView",
      "description_width": ""
     }
    },
    "1f5aad4267b44d88af648d7de690c7a8": {
     "model_module": "@jupyter-widgets/base",
     "model_module_version": "1.2.0",
     "model_name": "LayoutModel",
     "state": {
      "_model_module": "@jupyter-widgets/base",
      "_model_module_version": "1.2.0",
      "_model_name": "LayoutModel",
      "_view_count": null,
      "_view_module": "@jupyter-widgets/base",
      "_view_module_version": "1.2.0",
      "_view_name": "LayoutView",
      "align_content": null,
      "align_items": null,
      "align_self": null,
      "border": null,
      "bottom": null,
      "display": null,
      "flex": null,
      "flex_flow": null,
      "grid_area": null,
      "grid_auto_columns": null,
      "grid_auto_flow": null,
      "grid_auto_rows": null,
      "grid_column": null,
      "grid_gap": null,
      "grid_row": null,
      "grid_template_areas": null,
      "grid_template_columns": null,
      "grid_template_rows": null,
      "height": null,
      "justify_content": null,
      "justify_items": null,
      "left": null,
      "margin": null,
      "max_height": null,
      "max_width": null,
      "min_height": null,
      "min_width": null,
      "object_fit": null,
      "object_position": null,
      "order": null,
      "overflow": null,
      "overflow_x": null,
      "overflow_y": null,
      "padding": null,
      "right": null,
      "top": null,
      "visibility": null,
      "width": null
     }
    },
    "1ffe907695714167a956d1be8cc3ab0e": {
     "model_module": "@jupyter-widgets/base",
     "model_module_version": "1.2.0",
     "model_name": "LayoutModel",
     "state": {
      "_model_module": "@jupyter-widgets/base",
      "_model_module_version": "1.2.0",
      "_model_name": "LayoutModel",
      "_view_count": null,
      "_view_module": "@jupyter-widgets/base",
      "_view_module_version": "1.2.0",
      "_view_name": "LayoutView",
      "align_content": null,
      "align_items": null,
      "align_self": null,
      "border": null,
      "bottom": null,
      "display": null,
      "flex": null,
      "flex_flow": null,
      "grid_area": null,
      "grid_auto_columns": null,
      "grid_auto_flow": null,
      "grid_auto_rows": null,
      "grid_column": null,
      "grid_gap": null,
      "grid_row": null,
      "grid_template_areas": null,
      "grid_template_columns": null,
      "grid_template_rows": null,
      "height": null,
      "justify_content": null,
      "justify_items": null,
      "left": null,
      "margin": null,
      "max_height": null,
      "max_width": null,
      "min_height": null,
      "min_width": null,
      "object_fit": null,
      "object_position": null,
      "order": null,
      "overflow": null,
      "overflow_x": null,
      "overflow_y": null,
      "padding": null,
      "right": null,
      "top": null,
      "visibility": null,
      "width": null
     }
    },
    "20cacbeebfac41c5806161041094200c": {
     "model_module": "@jupyter-widgets/base",
     "model_module_version": "1.2.0",
     "model_name": "LayoutModel",
     "state": {
      "_model_module": "@jupyter-widgets/base",
      "_model_module_version": "1.2.0",
      "_model_name": "LayoutModel",
      "_view_count": null,
      "_view_module": "@jupyter-widgets/base",
      "_view_module_version": "1.2.0",
      "_view_name": "LayoutView",
      "align_content": null,
      "align_items": null,
      "align_self": null,
      "border": null,
      "bottom": null,
      "display": null,
      "flex": null,
      "flex_flow": null,
      "grid_area": null,
      "grid_auto_columns": null,
      "grid_auto_flow": null,
      "grid_auto_rows": null,
      "grid_column": null,
      "grid_gap": null,
      "grid_row": null,
      "grid_template_areas": null,
      "grid_template_columns": null,
      "grid_template_rows": null,
      "height": null,
      "justify_content": null,
      "justify_items": null,
      "left": null,
      "margin": null,
      "max_height": null,
      "max_width": null,
      "min_height": null,
      "min_width": null,
      "object_fit": null,
      "object_position": null,
      "order": null,
      "overflow": null,
      "overflow_x": null,
      "overflow_y": null,
      "padding": null,
      "right": null,
      "top": null,
      "visibility": null,
      "width": null
     }
    },
    "20d7bfdd1d7b43b78a486bc5f304b4eb": {
     "model_module": "@jupyter-widgets/controls",
     "model_module_version": "1.5.0",
     "model_name": "ProgressStyleModel",
     "state": {
      "_model_module": "@jupyter-widgets/controls",
      "_model_module_version": "1.5.0",
      "_model_name": "ProgressStyleModel",
      "_view_count": null,
      "_view_module": "@jupyter-widgets/base",
      "_view_module_version": "1.2.0",
      "_view_name": "StyleView",
      "bar_color": null,
      "description_width": ""
     }
    },
    "213e31309e6b485789e72d84b297e907": {
     "model_module": "@jupyter-widgets/controls",
     "model_module_version": "1.5.0",
     "model_name": "DescriptionStyleModel",
     "state": {
      "_model_module": "@jupyter-widgets/controls",
      "_model_module_version": "1.5.0",
      "_model_name": "DescriptionStyleModel",
      "_view_count": null,
      "_view_module": "@jupyter-widgets/base",
      "_view_module_version": "1.2.0",
      "_view_name": "StyleView",
      "description_width": ""
     }
    },
    "25d48d15d6304b5bb701a5a54fc1a6e0": {
     "model_module": "@jupyter-widgets/controls",
     "model_module_version": "1.5.0",
     "model_name": "HBoxModel",
     "state": {
      "_dom_classes": [],
      "_model_module": "@jupyter-widgets/controls",
      "_model_module_version": "1.5.0",
      "_model_name": "HBoxModel",
      "_view_count": null,
      "_view_module": "@jupyter-widgets/controls",
      "_view_module_version": "1.5.0",
      "_view_name": "HBoxView",
      "box_style": "",
      "children": [
       "IPY_MODEL_cd7f356c30c2435b8e91e58dafef6674",
       "IPY_MODEL_75adecab43324b8f8d5397581dcbd010",
       "IPY_MODEL_f76a96b94ab440739d757b8df778dbe2"
      ],
      "layout": "IPY_MODEL_1d9243d707884dd5bb2b8b55b02dfec1"
     }
    },
    "289ab6efae4747dba561658fe0cd59a1": {
     "model_module": "@jupyter-widgets/base",
     "model_module_version": "1.2.0",
     "model_name": "LayoutModel",
     "state": {
      "_model_module": "@jupyter-widgets/base",
      "_model_module_version": "1.2.0",
      "_model_name": "LayoutModel",
      "_view_count": null,
      "_view_module": "@jupyter-widgets/base",
      "_view_module_version": "1.2.0",
      "_view_name": "LayoutView",
      "align_content": null,
      "align_items": null,
      "align_self": null,
      "border": null,
      "bottom": null,
      "display": null,
      "flex": null,
      "flex_flow": null,
      "grid_area": null,
      "grid_auto_columns": null,
      "grid_auto_flow": null,
      "grid_auto_rows": null,
      "grid_column": null,
      "grid_gap": null,
      "grid_row": null,
      "grid_template_areas": null,
      "grid_template_columns": null,
      "grid_template_rows": null,
      "height": null,
      "justify_content": null,
      "justify_items": null,
      "left": null,
      "margin": null,
      "max_height": null,
      "max_width": null,
      "min_height": null,
      "min_width": null,
      "object_fit": null,
      "object_position": null,
      "order": null,
      "overflow": null,
      "overflow_x": null,
      "overflow_y": null,
      "padding": null,
      "right": null,
      "top": null,
      "visibility": null,
      "width": null
     }
    },
    "28d6d10c5e554ee0a3b103959531e33b": {
     "model_module": "@jupyter-widgets/base",
     "model_module_version": "1.2.0",
     "model_name": "LayoutModel",
     "state": {
      "_model_module": "@jupyter-widgets/base",
      "_model_module_version": "1.2.0",
      "_model_name": "LayoutModel",
      "_view_count": null,
      "_view_module": "@jupyter-widgets/base",
      "_view_module_version": "1.2.0",
      "_view_name": "LayoutView",
      "align_content": null,
      "align_items": null,
      "align_self": null,
      "border": null,
      "bottom": null,
      "display": null,
      "flex": null,
      "flex_flow": null,
      "grid_area": null,
      "grid_auto_columns": null,
      "grid_auto_flow": null,
      "grid_auto_rows": null,
      "grid_column": null,
      "grid_gap": null,
      "grid_row": null,
      "grid_template_areas": null,
      "grid_template_columns": null,
      "grid_template_rows": null,
      "height": null,
      "justify_content": null,
      "justify_items": null,
      "left": null,
      "margin": null,
      "max_height": null,
      "max_width": null,
      "min_height": null,
      "min_width": null,
      "object_fit": null,
      "object_position": null,
      "order": null,
      "overflow": null,
      "overflow_x": null,
      "overflow_y": null,
      "padding": null,
      "right": null,
      "top": null,
      "visibility": null,
      "width": null
     }
    },
    "2b72b3f8c5a44735ba9f853b4a34bf81": {
     "model_module": "@jupyter-widgets/base",
     "model_module_version": "1.2.0",
     "model_name": "LayoutModel",
     "state": {
      "_model_module": "@jupyter-widgets/base",
      "_model_module_version": "1.2.0",
      "_model_name": "LayoutModel",
      "_view_count": null,
      "_view_module": "@jupyter-widgets/base",
      "_view_module_version": "1.2.0",
      "_view_name": "LayoutView",
      "align_content": null,
      "align_items": null,
      "align_self": null,
      "border": null,
      "bottom": null,
      "display": null,
      "flex": null,
      "flex_flow": null,
      "grid_area": null,
      "grid_auto_columns": null,
      "grid_auto_flow": null,
      "grid_auto_rows": null,
      "grid_column": null,
      "grid_gap": null,
      "grid_row": null,
      "grid_template_areas": null,
      "grid_template_columns": null,
      "grid_template_rows": null,
      "height": null,
      "justify_content": null,
      "justify_items": null,
      "left": null,
      "margin": null,
      "max_height": null,
      "max_width": null,
      "min_height": null,
      "min_width": null,
      "object_fit": null,
      "object_position": null,
      "order": null,
      "overflow": null,
      "overflow_x": null,
      "overflow_y": null,
      "padding": null,
      "right": null,
      "top": null,
      "visibility": null,
      "width": null
     }
    },
    "2e088fb186ad48b0ad3a0789db55a29c": {
     "model_module": "@jupyter-widgets/base",
     "model_module_version": "1.2.0",
     "model_name": "LayoutModel",
     "state": {
      "_model_module": "@jupyter-widgets/base",
      "_model_module_version": "1.2.0",
      "_model_name": "LayoutModel",
      "_view_count": null,
      "_view_module": "@jupyter-widgets/base",
      "_view_module_version": "1.2.0",
      "_view_name": "LayoutView",
      "align_content": null,
      "align_items": null,
      "align_self": null,
      "border": null,
      "bottom": null,
      "display": null,
      "flex": null,
      "flex_flow": null,
      "grid_area": null,
      "grid_auto_columns": null,
      "grid_auto_flow": null,
      "grid_auto_rows": null,
      "grid_column": null,
      "grid_gap": null,
      "grid_row": null,
      "grid_template_areas": null,
      "grid_template_columns": null,
      "grid_template_rows": null,
      "height": null,
      "justify_content": null,
      "justify_items": null,
      "left": null,
      "margin": null,
      "max_height": null,
      "max_width": null,
      "min_height": null,
      "min_width": null,
      "object_fit": null,
      "object_position": null,
      "order": null,
      "overflow": null,
      "overflow_x": null,
      "overflow_y": null,
      "padding": null,
      "right": null,
      "top": null,
      "visibility": null,
      "width": null
     }
    },
    "2f02c43f2f784ae9a87e6b5ddfc3cdb6": {
     "model_module": "@jupyter-widgets/controls",
     "model_module_version": "1.5.0",
     "model_name": "ProgressStyleModel",
     "state": {
      "_model_module": "@jupyter-widgets/controls",
      "_model_module_version": "1.5.0",
      "_model_name": "ProgressStyleModel",
      "_view_count": null,
      "_view_module": "@jupyter-widgets/base",
      "_view_module_version": "1.2.0",
      "_view_name": "StyleView",
      "bar_color": null,
      "description_width": ""
     }
    },
    "30d6d022ea9546678e6c8f717fb2f931": {
     "model_module": "@jupyter-widgets/base",
     "model_module_version": "1.2.0",
     "model_name": "LayoutModel",
     "state": {
      "_model_module": "@jupyter-widgets/base",
      "_model_module_version": "1.2.0",
      "_model_name": "LayoutModel",
      "_view_count": null,
      "_view_module": "@jupyter-widgets/base",
      "_view_module_version": "1.2.0",
      "_view_name": "LayoutView",
      "align_content": null,
      "align_items": null,
      "align_self": null,
      "border": null,
      "bottom": null,
      "display": null,
      "flex": null,
      "flex_flow": null,
      "grid_area": null,
      "grid_auto_columns": null,
      "grid_auto_flow": null,
      "grid_auto_rows": null,
      "grid_column": null,
      "grid_gap": null,
      "grid_row": null,
      "grid_template_areas": null,
      "grid_template_columns": null,
      "grid_template_rows": null,
      "height": null,
      "justify_content": null,
      "justify_items": null,
      "left": null,
      "margin": null,
      "max_height": null,
      "max_width": null,
      "min_height": null,
      "min_width": null,
      "object_fit": null,
      "object_position": null,
      "order": null,
      "overflow": null,
      "overflow_x": null,
      "overflow_y": null,
      "padding": null,
      "right": null,
      "top": null,
      "visibility": null,
      "width": null
     }
    },
    "31d9b8c85e174f1b8204bf475980345a": {
     "model_module": "@jupyter-widgets/base",
     "model_module_version": "1.2.0",
     "model_name": "LayoutModel",
     "state": {
      "_model_module": "@jupyter-widgets/base",
      "_model_module_version": "1.2.0",
      "_model_name": "LayoutModel",
      "_view_count": null,
      "_view_module": "@jupyter-widgets/base",
      "_view_module_version": "1.2.0",
      "_view_name": "LayoutView",
      "align_content": null,
      "align_items": null,
      "align_self": null,
      "border": null,
      "bottom": null,
      "display": null,
      "flex": null,
      "flex_flow": null,
      "grid_area": null,
      "grid_auto_columns": null,
      "grid_auto_flow": null,
      "grid_auto_rows": null,
      "grid_column": null,
      "grid_gap": null,
      "grid_row": null,
      "grid_template_areas": null,
      "grid_template_columns": null,
      "grid_template_rows": null,
      "height": null,
      "justify_content": null,
      "justify_items": null,
      "left": null,
      "margin": null,
      "max_height": null,
      "max_width": null,
      "min_height": null,
      "min_width": null,
      "object_fit": null,
      "object_position": null,
      "order": null,
      "overflow": null,
      "overflow_x": null,
      "overflow_y": null,
      "padding": null,
      "right": null,
      "top": null,
      "visibility": null,
      "width": null
     }
    },
    "31ea1a50a0324f6b9dad3961e237ee35": {
     "model_module": "@jupyter-widgets/base",
     "model_module_version": "1.2.0",
     "model_name": "LayoutModel",
     "state": {
      "_model_module": "@jupyter-widgets/base",
      "_model_module_version": "1.2.0",
      "_model_name": "LayoutModel",
      "_view_count": null,
      "_view_module": "@jupyter-widgets/base",
      "_view_module_version": "1.2.0",
      "_view_name": "LayoutView",
      "align_content": null,
      "align_items": null,
      "align_self": null,
      "border": null,
      "bottom": null,
      "display": null,
      "flex": null,
      "flex_flow": null,
      "grid_area": null,
      "grid_auto_columns": null,
      "grid_auto_flow": null,
      "grid_auto_rows": null,
      "grid_column": null,
      "grid_gap": null,
      "grid_row": null,
      "grid_template_areas": null,
      "grid_template_columns": null,
      "grid_template_rows": null,
      "height": null,
      "justify_content": null,
      "justify_items": null,
      "left": null,
      "margin": null,
      "max_height": null,
      "max_width": null,
      "min_height": null,
      "min_width": null,
      "object_fit": null,
      "object_position": null,
      "order": null,
      "overflow": null,
      "overflow_x": null,
      "overflow_y": null,
      "padding": null,
      "right": null,
      "top": null,
      "visibility": null,
      "width": null
     }
    },
    "32516524b51c496faf9b774addcd4899": {
     "model_module": "@jupyter-widgets/controls",
     "model_module_version": "1.5.0",
     "model_name": "DescriptionStyleModel",
     "state": {
      "_model_module": "@jupyter-widgets/controls",
      "_model_module_version": "1.5.0",
      "_model_name": "DescriptionStyleModel",
      "_view_count": null,
      "_view_module": "@jupyter-widgets/base",
      "_view_module_version": "1.2.0",
      "_view_name": "StyleView",
      "description_width": ""
     }
    },
    "326e389f972448f7884b01549ea19bb5": {
     "model_module": "@jupyter-widgets/base",
     "model_module_version": "1.2.0",
     "model_name": "LayoutModel",
     "state": {
      "_model_module": "@jupyter-widgets/base",
      "_model_module_version": "1.2.0",
      "_model_name": "LayoutModel",
      "_view_count": null,
      "_view_module": "@jupyter-widgets/base",
      "_view_module_version": "1.2.0",
      "_view_name": "LayoutView",
      "align_content": null,
      "align_items": null,
      "align_self": null,
      "border": null,
      "bottom": null,
      "display": null,
      "flex": null,
      "flex_flow": null,
      "grid_area": null,
      "grid_auto_columns": null,
      "grid_auto_flow": null,
      "grid_auto_rows": null,
      "grid_column": null,
      "grid_gap": null,
      "grid_row": null,
      "grid_template_areas": null,
      "grid_template_columns": null,
      "grid_template_rows": null,
      "height": null,
      "justify_content": null,
      "justify_items": null,
      "left": null,
      "margin": null,
      "max_height": null,
      "max_width": null,
      "min_height": null,
      "min_width": null,
      "object_fit": null,
      "object_position": null,
      "order": null,
      "overflow": null,
      "overflow_x": null,
      "overflow_y": null,
      "padding": null,
      "right": null,
      "top": null,
      "visibility": null,
      "width": null
     }
    },
    "3373622e13f04cda884525f2a62b5274": {
     "model_module": "@jupyter-widgets/base",
     "model_module_version": "1.2.0",
     "model_name": "LayoutModel",
     "state": {
      "_model_module": "@jupyter-widgets/base",
      "_model_module_version": "1.2.0",
      "_model_name": "LayoutModel",
      "_view_count": null,
      "_view_module": "@jupyter-widgets/base",
      "_view_module_version": "1.2.0",
      "_view_name": "LayoutView",
      "align_content": null,
      "align_items": null,
      "align_self": null,
      "border": null,
      "bottom": null,
      "display": null,
      "flex": null,
      "flex_flow": null,
      "grid_area": null,
      "grid_auto_columns": null,
      "grid_auto_flow": null,
      "grid_auto_rows": null,
      "grid_column": null,
      "grid_gap": null,
      "grid_row": null,
      "grid_template_areas": null,
      "grid_template_columns": null,
      "grid_template_rows": null,
      "height": null,
      "justify_content": null,
      "justify_items": null,
      "left": null,
      "margin": null,
      "max_height": null,
      "max_width": null,
      "min_height": null,
      "min_width": null,
      "object_fit": null,
      "object_position": null,
      "order": null,
      "overflow": null,
      "overflow_x": null,
      "overflow_y": null,
      "padding": null,
      "right": null,
      "top": null,
      "visibility": null,
      "width": null
     }
    },
    "34c3b9805cd74818a1a3c53b6ca75bc4": {
     "model_module": "@jupyter-widgets/controls",
     "model_module_version": "1.5.0",
     "model_name": "HTMLModel",
     "state": {
      "_dom_classes": [],
      "_model_module": "@jupyter-widgets/controls",
      "_model_module_version": "1.5.0",
      "_model_name": "HTMLModel",
      "_view_count": null,
      "_view_module": "@jupyter-widgets/controls",
      "_view_module_version": "1.5.0",
      "_view_name": "HTMLView",
      "description": "",
      "description_tooltip": null,
      "layout": "IPY_MODEL_d4514ff1e93a497585a3edfb1f2b4683",
      "placeholder": "​",
      "style": "IPY_MODEL_b4f255c0a04c409f994260d5858f2a2f",
      "value": "Map: 100%"
     }
    },
    "36d61d19fb3a4ea88f07735bc282acb0": {
     "model_module": "@jupyter-widgets/controls",
     "model_module_version": "1.5.0",
     "model_name": "DescriptionStyleModel",
     "state": {
      "_model_module": "@jupyter-widgets/controls",
      "_model_module_version": "1.5.0",
      "_model_name": "DescriptionStyleModel",
      "_view_count": null,
      "_view_module": "@jupyter-widgets/base",
      "_view_module_version": "1.2.0",
      "_view_name": "StyleView",
      "description_width": ""
     }
    },
    "371058cfec3247ce8989642914c5d0ee": {
     "model_module": "@jupyter-widgets/controls",
     "model_module_version": "1.5.0",
     "model_name": "HBoxModel",
     "state": {
      "_dom_classes": [],
      "_model_module": "@jupyter-widgets/controls",
      "_model_module_version": "1.5.0",
      "_model_name": "HBoxModel",
      "_view_count": null,
      "_view_module": "@jupyter-widgets/controls",
      "_view_module_version": "1.5.0",
      "_view_name": "HBoxView",
      "box_style": "",
      "children": [
       "IPY_MODEL_52c38677fac0428ea9a4052942ade897",
       "IPY_MODEL_c2dedcc869424078a10889d330cf2f18",
       "IPY_MODEL_c13460d668c04e0aa865683d21a0c857"
      ],
      "layout": "IPY_MODEL_d6a5de039188452699eab8abb064559c"
     }
    },
    "373ee3a463ab4749a0d97af2394ae2e3": {
     "model_module": "@jupyter-widgets/controls",
     "model_module_version": "1.5.0",
     "model_name": "ProgressStyleModel",
     "state": {
      "_model_module": "@jupyter-widgets/controls",
      "_model_module_version": "1.5.0",
      "_model_name": "ProgressStyleModel",
      "_view_count": null,
      "_view_module": "@jupyter-widgets/base",
      "_view_module_version": "1.2.0",
      "_view_name": "StyleView",
      "bar_color": null,
      "description_width": ""
     }
    },
    "3912343fb6754143b7a2d6ce15b7afdd": {
     "model_module": "@jupyter-widgets/base",
     "model_module_version": "1.2.0",
     "model_name": "LayoutModel",
     "state": {
      "_model_module": "@jupyter-widgets/base",
      "_model_module_version": "1.2.0",
      "_model_name": "LayoutModel",
      "_view_count": null,
      "_view_module": "@jupyter-widgets/base",
      "_view_module_version": "1.2.0",
      "_view_name": "LayoutView",
      "align_content": null,
      "align_items": null,
      "align_self": null,
      "border": null,
      "bottom": null,
      "display": null,
      "flex": null,
      "flex_flow": null,
      "grid_area": null,
      "grid_auto_columns": null,
      "grid_auto_flow": null,
      "grid_auto_rows": null,
      "grid_column": null,
      "grid_gap": null,
      "grid_row": null,
      "grid_template_areas": null,
      "grid_template_columns": null,
      "grid_template_rows": null,
      "height": null,
      "justify_content": null,
      "justify_items": null,
      "left": null,
      "margin": null,
      "max_height": null,
      "max_width": null,
      "min_height": null,
      "min_width": null,
      "object_fit": null,
      "object_position": null,
      "order": null,
      "overflow": null,
      "overflow_x": null,
      "overflow_y": null,
      "padding": null,
      "right": null,
      "top": null,
      "visibility": null,
      "width": null
     }
    },
    "3938001fd147401d926f9912b9e32c99": {
     "model_module": "@jupyter-widgets/controls",
     "model_module_version": "1.5.0",
     "model_name": "HTMLModel",
     "state": {
      "_dom_classes": [],
      "_model_module": "@jupyter-widgets/controls",
      "_model_module_version": "1.5.0",
      "_model_name": "HTMLModel",
      "_view_count": null,
      "_view_module": "@jupyter-widgets/controls",
      "_view_module_version": "1.5.0",
      "_view_name": "HTMLView",
      "description": "",
      "description_tooltip": null,
      "layout": "IPY_MODEL_8d160cbc826c47cbbd1b3cc50cfd51c9",
      "placeholder": "​",
      "style": "IPY_MODEL_f2a0e43ddb1748a08fe0e6ef529e7387",
      "value": " 40%"
     }
    },
    "395718d624e947dbb2a760433a6c846c": {
     "model_module": "@jupyter-widgets/base",
     "model_module_version": "1.2.0",
     "model_name": "LayoutModel",
     "state": {
      "_model_module": "@jupyter-widgets/base",
      "_model_module_version": "1.2.0",
      "_model_name": "LayoutModel",
      "_view_count": null,
      "_view_module": "@jupyter-widgets/base",
      "_view_module_version": "1.2.0",
      "_view_name": "LayoutView",
      "align_content": null,
      "align_items": null,
      "align_self": null,
      "border": null,
      "bottom": null,
      "display": null,
      "flex": null,
      "flex_flow": null,
      "grid_area": null,
      "grid_auto_columns": null,
      "grid_auto_flow": null,
      "grid_auto_rows": null,
      "grid_column": null,
      "grid_gap": null,
      "grid_row": null,
      "grid_template_areas": null,
      "grid_template_columns": null,
      "grid_template_rows": null,
      "height": null,
      "justify_content": null,
      "justify_items": null,
      "left": null,
      "margin": null,
      "max_height": null,
      "max_width": null,
      "min_height": null,
      "min_width": null,
      "object_fit": null,
      "object_position": null,
      "order": null,
      "overflow": null,
      "overflow_x": null,
      "overflow_y": null,
      "padding": null,
      "right": null,
      "top": null,
      "visibility": null,
      "width": null
     }
    },
    "3ad9133534f7476c8ec59f6f7c5bf78c": {
     "model_module": "@jupyter-widgets/controls",
     "model_module_version": "1.5.0",
     "model_name": "HTMLModel",
     "state": {
      "_dom_classes": [],
      "_model_module": "@jupyter-widgets/controls",
      "_model_module_version": "1.5.0",
      "_model_name": "HTMLModel",
      "_view_count": null,
      "_view_module": "@jupyter-widgets/controls",
      "_view_module_version": "1.5.0",
      "_view_name": "HTMLView",
      "description": "",
      "description_tooltip": null,
      "layout": "IPY_MODEL_09631e4e081544eb82581483a6f666da",
      "placeholder": "​",
      "style": "IPY_MODEL_cc9bb2e393e54737bb08acf670558279",
      "value": " 69/69 [00:19&lt;00:00,  3.71it/s]"
     }
    },
    "3c8950a1739147d8a358325d4df7696d": {
     "model_module": "@jupyter-widgets/controls",
     "model_module_version": "1.5.0",
     "model_name": "DescriptionStyleModel",
     "state": {
      "_model_module": "@jupyter-widgets/controls",
      "_model_module_version": "1.5.0",
      "_model_name": "DescriptionStyleModel",
      "_view_count": null,
      "_view_module": "@jupyter-widgets/base",
      "_view_module_version": "1.2.0",
      "_view_name": "StyleView",
      "description_width": ""
     }
    },
    "3f787f8a9a7a4ad29c6bdff72181232d": {
     "model_module": "@jupyter-widgets/controls",
     "model_module_version": "1.5.0",
     "model_name": "ProgressStyleModel",
     "state": {
      "_model_module": "@jupyter-widgets/controls",
      "_model_module_version": "1.5.0",
      "_model_name": "ProgressStyleModel",
      "_view_count": null,
      "_view_module": "@jupyter-widgets/base",
      "_view_module_version": "1.2.0",
      "_view_name": "StyleView",
      "bar_color": null,
      "description_width": ""
     }
    },
    "4174cce408c64c498583c8844d2cad73": {
     "model_module": "@jupyter-widgets/base",
     "model_module_version": "1.2.0",
     "model_name": "LayoutModel",
     "state": {
      "_model_module": "@jupyter-widgets/base",
      "_model_module_version": "1.2.0",
      "_model_name": "LayoutModel",
      "_view_count": null,
      "_view_module": "@jupyter-widgets/base",
      "_view_module_version": "1.2.0",
      "_view_name": "LayoutView",
      "align_content": null,
      "align_items": null,
      "align_self": null,
      "border": null,
      "bottom": null,
      "display": null,
      "flex": null,
      "flex_flow": null,
      "grid_area": null,
      "grid_auto_columns": null,
      "grid_auto_flow": null,
      "grid_auto_rows": null,
      "grid_column": null,
      "grid_gap": null,
      "grid_row": null,
      "grid_template_areas": null,
      "grid_template_columns": null,
      "grid_template_rows": null,
      "height": null,
      "justify_content": null,
      "justify_items": null,
      "left": null,
      "margin": null,
      "max_height": null,
      "max_width": null,
      "min_height": null,
      "min_width": null,
      "object_fit": null,
      "object_position": null,
      "order": null,
      "overflow": null,
      "overflow_x": null,
      "overflow_y": null,
      "padding": null,
      "right": null,
      "top": null,
      "visibility": null,
      "width": null
     }
    },
    "41b21fd9995a4d6b9182bc9437378c3f": {
     "model_module": "@jupyter-widgets/controls",
     "model_module_version": "1.5.0",
     "model_name": "DescriptionStyleModel",
     "state": {
      "_model_module": "@jupyter-widgets/controls",
      "_model_module_version": "1.5.0",
      "_model_name": "DescriptionStyleModel",
      "_view_count": null,
      "_view_module": "@jupyter-widgets/base",
      "_view_module_version": "1.2.0",
      "_view_name": "StyleView",
      "description_width": ""
     }
    },
    "435fb577ab714199b2cb57310f0cbfe7": {
     "model_module": "@jupyter-widgets/controls",
     "model_module_version": "1.5.0",
     "model_name": "ProgressStyleModel",
     "state": {
      "_model_module": "@jupyter-widgets/controls",
      "_model_module_version": "1.5.0",
      "_model_name": "ProgressStyleModel",
      "_view_count": null,
      "_view_module": "@jupyter-widgets/base",
      "_view_module_version": "1.2.0",
      "_view_name": "StyleView",
      "bar_color": null,
      "description_width": ""
     }
    },
    "450e34cdd3d44e30b7529c5bbed148ee": {
     "model_module": "@jupyter-widgets/controls",
     "model_module_version": "1.5.0",
     "model_name": "HTMLModel",
     "state": {
      "_dom_classes": [],
      "_model_module": "@jupyter-widgets/controls",
      "_model_module_version": "1.5.0",
      "_model_name": "HTMLModel",
      "_view_count": null,
      "_view_module": "@jupyter-widgets/controls",
      "_view_module_version": "1.5.0",
      "_view_name": "HTMLView",
      "description": "",
      "description_tooltip": null,
      "layout": "IPY_MODEL_559af9b41f1543b1a51707f5d51cac10",
      "placeholder": "​",
      "style": "IPY_MODEL_00e2242eb28541739286cd745d775cdf",
      "value": " 250/250 [00:00&lt;00:00, 2055.70 examples/s]"
     }
    },
    "4539cec777e24639b7c7662ef1155e11": {
     "model_module": "@jupyter-widgets/controls",
     "model_module_version": "1.5.0",
     "model_name": "FloatProgressModel",
     "state": {
      "_dom_classes": [],
      "_model_module": "@jupyter-widgets/controls",
      "_model_module_version": "1.5.0",
      "_model_name": "FloatProgressModel",
      "_view_count": null,
      "_view_module": "@jupyter-widgets/controls",
      "_view_module_version": "1.5.0",
      "_view_name": "ProgressView",
      "bar_style": "success",
      "description": "",
      "description_tooltip": null,
      "layout": "IPY_MODEL_55ac9ab3f22d4c0389448262c8a68c88",
      "max": 275,
      "min": 0,
      "orientation": "horizontal",
      "style": "IPY_MODEL_fe39c9365acc4ed7a6642349a4fcfaa3",
      "value": 275
     }
    },
    "46ce2a9214154170aba54726ea6dcc69": {
     "model_module": "@jupyter-widgets/controls",
     "model_module_version": "1.5.0",
     "model_name": "ProgressStyleModel",
     "state": {
      "_model_module": "@jupyter-widgets/controls",
      "_model_module_version": "1.5.0",
      "_model_name": "ProgressStyleModel",
      "_view_count": null,
      "_view_module": "@jupyter-widgets/base",
      "_view_module_version": "1.2.0",
      "_view_name": "StyleView",
      "bar_color": null,
      "description_width": ""
     }
    },
    "4703c6e7494b47f78b31859c33e2b860": {
     "model_module": "@jupyter-widgets/controls",
     "model_module_version": "1.5.0",
     "model_name": "FloatProgressModel",
     "state": {
      "_dom_classes": [],
      "_model_module": "@jupyter-widgets/controls",
      "_model_module_version": "1.5.0",
      "_model_name": "FloatProgressModel",
      "_view_count": null,
      "_view_module": "@jupyter-widgets/controls",
      "_view_module_version": "1.5.0",
      "_view_name": "ProgressView",
      "bar_style": "success",
      "description": "",
      "description_tooltip": null,
      "layout": "IPY_MODEL_1614cfd998a34ef6b3cabded1a5e0968",
      "max": 4400,
      "min": 0,
      "orientation": "horizontal",
      "style": "IPY_MODEL_bf96d4c08a084422b2d7dde158630fa6",
      "value": 4400
     }
    },
    "4949d7cfe6124f918d659d789a1cefa7": {
     "model_module": "@jupyter-widgets/base",
     "model_module_version": "1.2.0",
     "model_name": "LayoutModel",
     "state": {
      "_model_module": "@jupyter-widgets/base",
      "_model_module_version": "1.2.0",
      "_model_name": "LayoutModel",
      "_view_count": null,
      "_view_module": "@jupyter-widgets/base",
      "_view_module_version": "1.2.0",
      "_view_name": "LayoutView",
      "align_content": null,
      "align_items": null,
      "align_self": null,
      "border": null,
      "bottom": null,
      "display": null,
      "flex": null,
      "flex_flow": null,
      "grid_area": null,
      "grid_auto_columns": null,
      "grid_auto_flow": null,
      "grid_auto_rows": null,
      "grid_column": null,
      "grid_gap": null,
      "grid_row": null,
      "grid_template_areas": null,
      "grid_template_columns": null,
      "grid_template_rows": null,
      "height": null,
      "justify_content": null,
      "justify_items": null,
      "left": null,
      "margin": null,
      "max_height": null,
      "max_width": null,
      "min_height": null,
      "min_width": null,
      "object_fit": null,
      "object_position": null,
      "order": null,
      "overflow": null,
      "overflow_x": null,
      "overflow_y": null,
      "padding": null,
      "right": null,
      "top": null,
      "visibility": null,
      "width": null
     }
    },
    "4a0e0d1bcf1542608efe2de9861bb0a9": {
     "model_module": "@jupyter-widgets/controls",
     "model_module_version": "1.5.0",
     "model_name": "HTMLModel",
     "state": {
      "_dom_classes": [],
      "_model_module": "@jupyter-widgets/controls",
      "_model_module_version": "1.5.0",
      "_model_name": "HTMLModel",
      "_view_count": null,
      "_view_module": "@jupyter-widgets/controls",
      "_view_module_version": "1.5.0",
      "_view_name": "HTMLView",
      "description": "",
      "description_tooltip": null,
      "layout": "IPY_MODEL_326e389f972448f7884b01549ea19bb5",
      "placeholder": "​",
      "style": "IPY_MODEL_95e7682f61a645cab819a19b31ae0678",
      "value": "Map: 100%"
     }
    },
    "4afe01929d3a496b9a86901c150bcfe5": {
     "model_module": "@jupyter-widgets/base",
     "model_module_version": "1.2.0",
     "model_name": "LayoutModel",
     "state": {
      "_model_module": "@jupyter-widgets/base",
      "_model_module_version": "1.2.0",
      "_model_name": "LayoutModel",
      "_view_count": null,
      "_view_module": "@jupyter-widgets/base",
      "_view_module_version": "1.2.0",
      "_view_name": "LayoutView",
      "align_content": null,
      "align_items": null,
      "align_self": null,
      "border": null,
      "bottom": null,
      "display": null,
      "flex": null,
      "flex_flow": null,
      "grid_area": null,
      "grid_auto_columns": null,
      "grid_auto_flow": null,
      "grid_auto_rows": null,
      "grid_column": null,
      "grid_gap": null,
      "grid_row": null,
      "grid_template_areas": null,
      "grid_template_columns": null,
      "grid_template_rows": null,
      "height": null,
      "justify_content": null,
      "justify_items": null,
      "left": null,
      "margin": null,
      "max_height": null,
      "max_width": null,
      "min_height": null,
      "min_width": null,
      "object_fit": null,
      "object_position": null,
      "order": null,
      "overflow": null,
      "overflow_x": null,
      "overflow_y": null,
      "padding": null,
      "right": null,
      "top": null,
      "visibility": null,
      "width": null
     }
    },
    "4b1436a5c6334fd5b73e1f9710558f1e": {
     "model_module": "@jupyter-widgets/controls",
     "model_module_version": "1.5.0",
     "model_name": "HBoxModel",
     "state": {
      "_dom_classes": [],
      "_model_module": "@jupyter-widgets/controls",
      "_model_module_version": "1.5.0",
      "_model_name": "HBoxModel",
      "_view_count": null,
      "_view_module": "@jupyter-widgets/controls",
      "_view_module_version": "1.5.0",
      "_view_name": "HBoxView",
      "box_style": "",
      "children": [
       "IPY_MODEL_62082d8253df4ed992b8fdd54f4f1b81",
       "IPY_MODEL_dd5ff253a02f425f9798651d6b3b354d",
       "IPY_MODEL_a18bdf82357d4ebbbe579f913531473c"
      ],
      "layout": "IPY_MODEL_e5323085d6054bbe8615d4649a52c629"
     }
    },
    "4b3c540ff411482d80b0aa4d7a5bc672": {
     "model_module": "@jupyter-widgets/controls",
     "model_module_version": "1.5.0",
     "model_name": "FloatProgressModel",
     "state": {
      "_dom_classes": [],
      "_model_module": "@jupyter-widgets/controls",
      "_model_module_version": "1.5.0",
      "_model_name": "FloatProgressModel",
      "_view_count": null,
      "_view_module": "@jupyter-widgets/controls",
      "_view_module_version": "1.5.0",
      "_view_name": "ProgressView",
      "bar_style": "success",
      "description": "",
      "description_tooltip": null,
      "layout": "IPY_MODEL_85dd3cbb2b4a4d6d9612aac6cfe490ce",
      "max": 69,
      "min": 0,
      "orientation": "horizontal",
      "style": "IPY_MODEL_4fdb9a0f2b03449a8775d154beabe33e",
      "value": 69
     }
    },
    "4cb41ad561b04174821d5d0395f9f246": {
     "model_module": "@jupyter-widgets/controls",
     "model_module_version": "1.5.0",
     "model_name": "HTMLModel",
     "state": {
      "_dom_classes": [],
      "_model_module": "@jupyter-widgets/controls",
      "_model_module_version": "1.5.0",
      "_model_name": "HTMLModel",
      "_view_count": null,
      "_view_module": "@jupyter-widgets/controls",
      "_view_module_version": "1.5.0",
      "_view_name": "HTMLView",
      "description": "",
      "description_tooltip": null,
      "layout": "IPY_MODEL_7c721b8a423e4c42b3707c71f3f450fa",
      "placeholder": "​",
      "style": "IPY_MODEL_f74761749a7f4ae88c0e2223a2c81890",
      "value": " 275/275 [03:34&lt;00:00,  1.28it/s]"
     }
    },
    "4db4d7ab8bcf424083e036e3b4267bf0": {
     "model_module": "@jupyter-widgets/controls",
     "model_module_version": "1.5.0",
     "model_name": "HBoxModel",
     "state": {
      "_dom_classes": [],
      "_model_module": "@jupyter-widgets/controls",
      "_model_module_version": "1.5.0",
      "_model_name": "HBoxModel",
      "_view_count": null,
      "_view_module": "@jupyter-widgets/controls",
      "_view_module_version": "1.5.0",
      "_view_name": "HBoxView",
      "box_style": "",
      "children": [
       "IPY_MODEL_34c3b9805cd74818a1a3c53b6ca75bc4",
       "IPY_MODEL_d64ea0f870b346cbab841033e98e7c37",
       "IPY_MODEL_450e34cdd3d44e30b7529c5bbed148ee"
      ],
      "layout": "IPY_MODEL_395718d624e947dbb2a760433a6c846c"
     }
    },
    "4fdb9a0f2b03449a8775d154beabe33e": {
     "model_module": "@jupyter-widgets/controls",
     "model_module_version": "1.5.0",
     "model_name": "ProgressStyleModel",
     "state": {
      "_model_module": "@jupyter-widgets/controls",
      "_model_module_version": "1.5.0",
      "_model_name": "ProgressStyleModel",
      "_view_count": null,
      "_view_module": "@jupyter-widgets/base",
      "_view_module_version": "1.2.0",
      "_view_name": "StyleView",
      "bar_color": null,
      "description_width": ""
     }
    },
    "52a70595693d447bb6b97fb562f2a36f": {
     "model_module": "@jupyter-widgets/base",
     "model_module_version": "1.2.0",
     "model_name": "LayoutModel",
     "state": {
      "_model_module": "@jupyter-widgets/base",
      "_model_module_version": "1.2.0",
      "_model_name": "LayoutModel",
      "_view_count": null,
      "_view_module": "@jupyter-widgets/base",
      "_view_module_version": "1.2.0",
      "_view_name": "LayoutView",
      "align_content": null,
      "align_items": null,
      "align_self": null,
      "border": null,
      "bottom": null,
      "display": null,
      "flex": null,
      "flex_flow": null,
      "grid_area": null,
      "grid_auto_columns": null,
      "grid_auto_flow": null,
      "grid_auto_rows": null,
      "grid_column": null,
      "grid_gap": null,
      "grid_row": null,
      "grid_template_areas": null,
      "grid_template_columns": null,
      "grid_template_rows": null,
      "height": null,
      "justify_content": null,
      "justify_items": null,
      "left": null,
      "margin": null,
      "max_height": null,
      "max_width": null,
      "min_height": null,
      "min_width": null,
      "object_fit": null,
      "object_position": null,
      "order": null,
      "overflow": null,
      "overflow_x": null,
      "overflow_y": null,
      "padding": null,
      "right": null,
      "top": null,
      "visibility": null,
      "width": null
     }
    },
    "52c38677fac0428ea9a4052942ade897": {
     "model_module": "@jupyter-widgets/controls",
     "model_module_version": "1.5.0",
     "model_name": "HTMLModel",
     "state": {
      "_dom_classes": [],
      "_model_module": "@jupyter-widgets/controls",
      "_model_module_version": "1.5.0",
      "_model_name": "HTMLModel",
      "_view_count": null,
      "_view_module": "@jupyter-widgets/controls",
      "_view_module_version": "1.5.0",
      "_view_name": "HTMLView",
      "description": "",
      "description_tooltip": null,
      "layout": "IPY_MODEL_2b72b3f8c5a44735ba9f853b4a34bf81",
      "placeholder": "​",
      "style": "IPY_MODEL_853a5982dc71456994bbaa78bf4d37c1",
      "value": "100%"
     }
    },
    "559af9b41f1543b1a51707f5d51cac10": {
     "model_module": "@jupyter-widgets/base",
     "model_module_version": "1.2.0",
     "model_name": "LayoutModel",
     "state": {
      "_model_module": "@jupyter-widgets/base",
      "_model_module_version": "1.2.0",
      "_model_name": "LayoutModel",
      "_view_count": null,
      "_view_module": "@jupyter-widgets/base",
      "_view_module_version": "1.2.0",
      "_view_name": "LayoutView",
      "align_content": null,
      "align_items": null,
      "align_self": null,
      "border": null,
      "bottom": null,
      "display": null,
      "flex": null,
      "flex_flow": null,
      "grid_area": null,
      "grid_auto_columns": null,
      "grid_auto_flow": null,
      "grid_auto_rows": null,
      "grid_column": null,
      "grid_gap": null,
      "grid_row": null,
      "grid_template_areas": null,
      "grid_template_columns": null,
      "grid_template_rows": null,
      "height": null,
      "justify_content": null,
      "justify_items": null,
      "left": null,
      "margin": null,
      "max_height": null,
      "max_width": null,
      "min_height": null,
      "min_width": null,
      "object_fit": null,
      "object_position": null,
      "order": null,
      "overflow": null,
      "overflow_x": null,
      "overflow_y": null,
      "padding": null,
      "right": null,
      "top": null,
      "visibility": null,
      "width": null
     }
    },
    "55ac9ab3f22d4c0389448262c8a68c88": {
     "model_module": "@jupyter-widgets/base",
     "model_module_version": "1.2.0",
     "model_name": "LayoutModel",
     "state": {
      "_model_module": "@jupyter-widgets/base",
      "_model_module_version": "1.2.0",
      "_model_name": "LayoutModel",
      "_view_count": null,
      "_view_module": "@jupyter-widgets/base",
      "_view_module_version": "1.2.0",
      "_view_name": "LayoutView",
      "align_content": null,
      "align_items": null,
      "align_self": null,
      "border": null,
      "bottom": null,
      "display": null,
      "flex": null,
      "flex_flow": null,
      "grid_area": null,
      "grid_auto_columns": null,
      "grid_auto_flow": null,
      "grid_auto_rows": null,
      "grid_column": null,
      "grid_gap": null,
      "grid_row": null,
      "grid_template_areas": null,
      "grid_template_columns": null,
      "grid_template_rows": null,
      "height": null,
      "justify_content": null,
      "justify_items": null,
      "left": null,
      "margin": null,
      "max_height": null,
      "max_width": null,
      "min_height": null,
      "min_width": null,
      "object_fit": null,
      "object_position": null,
      "order": null,
      "overflow": null,
      "overflow_x": null,
      "overflow_y": null,
      "padding": null,
      "right": null,
      "top": null,
      "visibility": null,
      "width": null
     }
    },
    "571ae4178bfa4eb29816b5813965cf31": {
     "model_module": "@jupyter-widgets/controls",
     "model_module_version": "1.5.0",
     "model_name": "HBoxModel",
     "state": {
      "_dom_classes": [],
      "_model_module": "@jupyter-widgets/controls",
      "_model_module_version": "1.5.0",
      "_model_name": "HBoxModel",
      "_view_count": null,
      "_view_module": "@jupyter-widgets/controls",
      "_view_module_version": "1.5.0",
      "_view_name": "HBoxView",
      "box_style": "",
      "children": [
       "IPY_MODEL_dc5eb0f78a344600b0facab6278c89d6",
       "IPY_MODEL_c79a21ba9f444c1ba15f97ea7a271e4f",
       "IPY_MODEL_662290321802492d8431db04976969a1"
      ],
      "layout": "IPY_MODEL_7711ef263f5b4667b6d12d84a7af5ee7"
     }
    },
    "5821ecea41404fdf92474adab25dd576": {
     "model_module": "@jupyter-widgets/controls",
     "model_module_version": "1.5.0",
     "model_name": "ProgressStyleModel",
     "state": {
      "_model_module": "@jupyter-widgets/controls",
      "_model_module_version": "1.5.0",
      "_model_name": "ProgressStyleModel",
      "_view_count": null,
      "_view_module": "@jupyter-widgets/base",
      "_view_module_version": "1.2.0",
      "_view_name": "StyleView",
      "bar_color": null,
      "description_width": ""
     }
    },
    "5850f29af1534b06aea934120e6cfe10": {
     "model_module": "@jupyter-widgets/controls",
     "model_module_version": "1.5.0",
     "model_name": "FloatProgressModel",
     "state": {
      "_dom_classes": [],
      "_model_module": "@jupyter-widgets/controls",
      "_model_module_version": "1.5.0",
      "_model_name": "FloatProgressModel",
      "_view_count": null,
      "_view_module": "@jupyter-widgets/controls",
      "_view_module_version": "1.5.0",
      "_view_name": "ProgressView",
      "bar_style": "success",
      "description": "",
      "description_tooltip": null,
      "layout": "IPY_MODEL_1276bae116414f6380f676564a1be55c",
      "max": 69,
      "min": 0,
      "orientation": "horizontal",
      "style": "IPY_MODEL_07c381494a8a43799d17dd868a533e8b",
      "value": 69
     }
    },
    "598a25ab1ea543fa8caff58cd1a93a95": {
     "model_module": "@jupyter-widgets/base",
     "model_module_version": "1.2.0",
     "model_name": "LayoutModel",
     "state": {
      "_model_module": "@jupyter-widgets/base",
      "_model_module_version": "1.2.0",
      "_model_name": "LayoutModel",
      "_view_count": null,
      "_view_module": "@jupyter-widgets/base",
      "_view_module_version": "1.2.0",
      "_view_name": "LayoutView",
      "align_content": null,
      "align_items": null,
      "align_self": null,
      "border": null,
      "bottom": null,
      "display": null,
      "flex": null,
      "flex_flow": null,
      "grid_area": null,
      "grid_auto_columns": null,
      "grid_auto_flow": null,
      "grid_auto_rows": null,
      "grid_column": null,
      "grid_gap": null,
      "grid_row": null,
      "grid_template_areas": null,
      "grid_template_columns": null,
      "grid_template_rows": null,
      "height": null,
      "justify_content": null,
      "justify_items": null,
      "left": null,
      "margin": null,
      "max_height": null,
      "max_width": null,
      "min_height": null,
      "min_width": null,
      "object_fit": null,
      "object_position": null,
      "order": null,
      "overflow": null,
      "overflow_x": null,
      "overflow_y": null,
      "padding": null,
      "right": null,
      "top": null,
      "visibility": null,
      "width": null
     }
    },
    "5ca715115a6b44e8912068b4037a5bf9": {
     "model_module": "@jupyter-widgets/controls",
     "model_module_version": "1.5.0",
     "model_name": "FloatProgressModel",
     "state": {
      "_dom_classes": [],
      "_model_module": "@jupyter-widgets/controls",
      "_model_module_version": "1.5.0",
      "_model_name": "FloatProgressModel",
      "_view_count": null,
      "_view_module": "@jupyter-widgets/controls",
      "_view_module_version": "1.5.0",
      "_view_name": "ProgressView",
      "bar_style": "success",
      "description": "",
      "description_tooltip": null,
      "layout": "IPY_MODEL_b75c4c78bd1a4c3c874e58b95f68a483",
      "max": 69,
      "min": 0,
      "orientation": "horizontal",
      "style": "IPY_MODEL_46ce2a9214154170aba54726ea6dcc69",
      "value": 69
     }
    },
    "5cb030f5e9d7477083a27cd2a7947962": {
     "model_module": "@jupyter-widgets/controls",
     "model_module_version": "1.5.0",
     "model_name": "DescriptionStyleModel",
     "state": {
      "_model_module": "@jupyter-widgets/controls",
      "_model_module_version": "1.5.0",
      "_model_name": "DescriptionStyleModel",
      "_view_count": null,
      "_view_module": "@jupyter-widgets/base",
      "_view_module_version": "1.2.0",
      "_view_name": "StyleView",
      "description_width": ""
     }
    },
    "5d93eda3103e4e3b978fcf800764e808": {
     "model_module": "@jupyter-widgets/base",
     "model_module_version": "1.2.0",
     "model_name": "LayoutModel",
     "state": {
      "_model_module": "@jupyter-widgets/base",
      "_model_module_version": "1.2.0",
      "_model_name": "LayoutModel",
      "_view_count": null,
      "_view_module": "@jupyter-widgets/base",
      "_view_module_version": "1.2.0",
      "_view_name": "LayoutView",
      "align_content": null,
      "align_items": null,
      "align_self": null,
      "border": null,
      "bottom": null,
      "display": null,
      "flex": null,
      "flex_flow": null,
      "grid_area": null,
      "grid_auto_columns": null,
      "grid_auto_flow": null,
      "grid_auto_rows": null,
      "grid_column": null,
      "grid_gap": null,
      "grid_row": null,
      "grid_template_areas": null,
      "grid_template_columns": null,
      "grid_template_rows": null,
      "height": null,
      "justify_content": null,
      "justify_items": null,
      "left": null,
      "margin": null,
      "max_height": null,
      "max_width": null,
      "min_height": null,
      "min_width": null,
      "object_fit": null,
      "object_position": null,
      "order": null,
      "overflow": null,
      "overflow_x": null,
      "overflow_y": null,
      "padding": null,
      "right": null,
      "top": null,
      "visibility": null,
      "width": null
     }
    },
    "5ded397ad6454c5fabada79e0577a5b9": {
     "model_module": "@jupyter-widgets/controls",
     "model_module_version": "1.5.0",
     "model_name": "HTMLModel",
     "state": {
      "_dom_classes": [],
      "_model_module": "@jupyter-widgets/controls",
      "_model_module_version": "1.5.0",
      "_model_name": "HTMLModel",
      "_view_count": null,
      "_view_module": "@jupyter-widgets/controls",
      "_view_module_version": "1.5.0",
      "_view_name": "HTMLView",
      "description": "",
      "description_tooltip": null,
      "layout": "IPY_MODEL_014ff21cb7e7489992671fd812415543",
      "placeholder": "​",
      "style": "IPY_MODEL_9ec8a465548844c1a76e80ec4f1d839b",
      "value": "100%"
     }
    },
    "605324e46c11450ca9ce138557fbc768": {
     "model_module": "@jupyter-widgets/base",
     "model_module_version": "1.2.0",
     "model_name": "LayoutModel",
     "state": {
      "_model_module": "@jupyter-widgets/base",
      "_model_module_version": "1.2.0",
      "_model_name": "LayoutModel",
      "_view_count": null,
      "_view_module": "@jupyter-widgets/base",
      "_view_module_version": "1.2.0",
      "_view_name": "LayoutView",
      "align_content": null,
      "align_items": null,
      "align_self": null,
      "border": null,
      "bottom": null,
      "display": null,
      "flex": null,
      "flex_flow": null,
      "grid_area": null,
      "grid_auto_columns": null,
      "grid_auto_flow": null,
      "grid_auto_rows": null,
      "grid_column": null,
      "grid_gap": null,
      "grid_row": null,
      "grid_template_areas": null,
      "grid_template_columns": null,
      "grid_template_rows": null,
      "height": null,
      "justify_content": null,
      "justify_items": null,
      "left": null,
      "margin": null,
      "max_height": null,
      "max_width": null,
      "min_height": null,
      "min_width": null,
      "object_fit": null,
      "object_position": null,
      "order": null,
      "overflow": null,
      "overflow_x": null,
      "overflow_y": null,
      "padding": null,
      "right": null,
      "top": null,
      "visibility": null,
      "width": null
     }
    },
    "61f766272f174b8b829bb8f2a77092a5": {
     "model_module": "@jupyter-widgets/controls",
     "model_module_version": "1.5.0",
     "model_name": "DescriptionStyleModel",
     "state": {
      "_model_module": "@jupyter-widgets/controls",
      "_model_module_version": "1.5.0",
      "_model_name": "DescriptionStyleModel",
      "_view_count": null,
      "_view_module": "@jupyter-widgets/base",
      "_view_module_version": "1.2.0",
      "_view_name": "StyleView",
      "description_width": ""
     }
    },
    "62082d8253df4ed992b8fdd54f4f1b81": {
     "model_module": "@jupyter-widgets/controls",
     "model_module_version": "1.5.0",
     "model_name": "HTMLModel",
     "state": {
      "_dom_classes": [],
      "_model_module": "@jupyter-widgets/controls",
      "_model_module_version": "1.5.0",
      "_model_name": "HTMLModel",
      "_view_count": null,
      "_view_module": "@jupyter-widgets/controls",
      "_view_module_version": "1.5.0",
      "_view_name": "HTMLView",
      "description": "",
      "description_tooltip": null,
      "layout": "IPY_MODEL_598a25ab1ea543fa8caff58cd1a93a95",
      "placeholder": "​",
      "style": "IPY_MODEL_c2a2d30b33094e298640f7d3cdeae9ea",
      "value": "Map: 100%"
     }
    },
    "64bdc4442eb84b75821b2e6b6aedb755": {
     "model_module": "@jupyter-widgets/controls",
     "model_module_version": "1.5.0",
     "model_name": "HTMLModel",
     "state": {
      "_dom_classes": [],
      "_model_module": "@jupyter-widgets/controls",
      "_model_module_version": "1.5.0",
      "_model_name": "HTMLModel",
      "_view_count": null,
      "_view_module": "@jupyter-widgets/controls",
      "_view_module_version": "1.5.0",
      "_view_name": "HTMLView",
      "description": "",
      "description_tooltip": null,
      "layout": "IPY_MODEL_f400be002cc946fda46739392abaabff",
      "placeholder": "​",
      "style": "IPY_MODEL_0bef03e0763f4aac887bb6bbb3302b24",
      "value": "100%"
     }
    },
    "661b86c2c6894488b9d3a4f0c38e2c86": {
     "model_module": "@jupyter-widgets/controls",
     "model_module_version": "1.5.0",
     "model_name": "FloatProgressModel",
     "state": {
      "_dom_classes": [],
      "_model_module": "@jupyter-widgets/controls",
      "_model_module_version": "1.5.0",
      "_model_name": "FloatProgressModel",
      "_view_count": null,
      "_view_module": "@jupyter-widgets/controls",
      "_view_module_version": "1.5.0",
      "_view_name": "ProgressView",
      "bar_style": "success",
      "description": "",
      "description_tooltip": null,
      "layout": "IPY_MODEL_6ab438e57e7942ab8ea6de829e4e2fb6",
      "max": 69,
      "min": 0,
      "orientation": "horizontal",
      "style": "IPY_MODEL_20d7bfdd1d7b43b78a486bc5f304b4eb",
      "value": 69
     }
    },
    "662290321802492d8431db04976969a1": {
     "model_module": "@jupyter-widgets/controls",
     "model_module_version": "1.5.0",
     "model_name": "HTMLModel",
     "state": {
      "_dom_classes": [],
      "_model_module": "@jupyter-widgets/controls",
      "_model_module_version": "1.5.0",
      "_model_name": "HTMLModel",
      "_view_count": null,
      "_view_module": "@jupyter-widgets/controls",
      "_view_module_version": "1.5.0",
      "_view_name": "HTMLView",
      "description": "",
      "description_tooltip": null,
      "layout": "IPY_MODEL_5d93eda3103e4e3b978fcf800764e808",
      "placeholder": "​",
      "style": "IPY_MODEL_ff928a8da8274cad9f080493b0c6672c",
      "value": " 275/275 [03:34&lt;00:00,  1.29it/s]"
     }
    },
    "6756a0a727b944758598448a436297d8": {
     "model_module": "@jupyter-widgets/controls",
     "model_module_version": "1.5.0",
     "model_name": "HTMLModel",
     "state": {
      "_dom_classes": [],
      "_model_module": "@jupyter-widgets/controls",
      "_model_module_version": "1.5.0",
      "_model_name": "HTMLModel",
      "_view_count": null,
      "_view_module": "@jupyter-widgets/controls",
      "_view_module_version": "1.5.0",
      "_view_name": "HTMLView",
      "description": "",
      "description_tooltip": null,
      "layout": "IPY_MODEL_7ae4965f72894e70a055803750a1fab3",
      "placeholder": "​",
      "style": "IPY_MODEL_de0ee2dc2b4b46e18b8035ed1c207d0b",
      "value": " 69/69 [00:19&lt;00:00,  3.77it/s]"
     }
    },
    "6968ba98dbdf41539f0a03868b46ac40": {
     "model_module": "@jupyter-widgets/base",
     "model_module_version": "1.2.0",
     "model_name": "LayoutModel",
     "state": {
      "_model_module": "@jupyter-widgets/base",
      "_model_module_version": "1.2.0",
      "_model_name": "LayoutModel",
      "_view_count": null,
      "_view_module": "@jupyter-widgets/base",
      "_view_module_version": "1.2.0",
      "_view_name": "LayoutView",
      "align_content": null,
      "align_items": null,
      "align_self": null,
      "border": null,
      "bottom": null,
      "display": null,
      "flex": null,
      "flex_flow": null,
      "grid_area": null,
      "grid_auto_columns": null,
      "grid_auto_flow": null,
      "grid_auto_rows": null,
      "grid_column": null,
      "grid_gap": null,
      "grid_row": null,
      "grid_template_areas": null,
      "grid_template_columns": null,
      "grid_template_rows": null,
      "height": null,
      "justify_content": null,
      "justify_items": null,
      "left": null,
      "margin": null,
      "max_height": null,
      "max_width": null,
      "min_height": null,
      "min_width": null,
      "object_fit": null,
      "object_position": null,
      "order": null,
      "overflow": null,
      "overflow_x": null,
      "overflow_y": null,
      "padding": null,
      "right": null,
      "top": null,
      "visibility": null,
      "width": null
     }
    },
    "6a6add94f6c947e996cbac6fde5549ec": {
     "model_module": "@jupyter-widgets/controls",
     "model_module_version": "1.5.0",
     "model_name": "ProgressStyleModel",
     "state": {
      "_model_module": "@jupyter-widgets/controls",
      "_model_module_version": "1.5.0",
      "_model_name": "ProgressStyleModel",
      "_view_count": null,
      "_view_module": "@jupyter-widgets/base",
      "_view_module_version": "1.2.0",
      "_view_name": "StyleView",
      "bar_color": null,
      "description_width": ""
     }
    },
    "6ab438e57e7942ab8ea6de829e4e2fb6": {
     "model_module": "@jupyter-widgets/base",
     "model_module_version": "1.2.0",
     "model_name": "LayoutModel",
     "state": {
      "_model_module": "@jupyter-widgets/base",
      "_model_module_version": "1.2.0",
      "_model_name": "LayoutModel",
      "_view_count": null,
      "_view_module": "@jupyter-widgets/base",
      "_view_module_version": "1.2.0",
      "_view_name": "LayoutView",
      "align_content": null,
      "align_items": null,
      "align_self": null,
      "border": null,
      "bottom": null,
      "display": null,
      "flex": null,
      "flex_flow": null,
      "grid_area": null,
      "grid_auto_columns": null,
      "grid_auto_flow": null,
      "grid_auto_rows": null,
      "grid_column": null,
      "grid_gap": null,
      "grid_row": null,
      "grid_template_areas": null,
      "grid_template_columns": null,
      "grid_template_rows": null,
      "height": null,
      "justify_content": null,
      "justify_items": null,
      "left": null,
      "margin": null,
      "max_height": null,
      "max_width": null,
      "min_height": null,
      "min_width": null,
      "object_fit": null,
      "object_position": null,
      "order": null,
      "overflow": null,
      "overflow_x": null,
      "overflow_y": null,
      "padding": null,
      "right": null,
      "top": null,
      "visibility": null,
      "width": null
     }
    },
    "6f2b0618d42a43f289c33abe0d0d1711": {
     "model_module": "@jupyter-widgets/base",
     "model_module_version": "1.2.0",
     "model_name": "LayoutModel",
     "state": {
      "_model_module": "@jupyter-widgets/base",
      "_model_module_version": "1.2.0",
      "_model_name": "LayoutModel",
      "_view_count": null,
      "_view_module": "@jupyter-widgets/base",
      "_view_module_version": "1.2.0",
      "_view_name": "LayoutView",
      "align_content": null,
      "align_items": null,
      "align_self": null,
      "border": null,
      "bottom": null,
      "display": null,
      "flex": null,
      "flex_flow": null,
      "grid_area": null,
      "grid_auto_columns": null,
      "grid_auto_flow": null,
      "grid_auto_rows": null,
      "grid_column": null,
      "grid_gap": null,
      "grid_row": null,
      "grid_template_areas": null,
      "grid_template_columns": null,
      "grid_template_rows": null,
      "height": null,
      "justify_content": null,
      "justify_items": null,
      "left": null,
      "margin": null,
      "max_height": null,
      "max_width": null,
      "min_height": null,
      "min_width": null,
      "object_fit": null,
      "object_position": null,
      "order": null,
      "overflow": null,
      "overflow_x": null,
      "overflow_y": null,
      "padding": null,
      "right": null,
      "top": null,
      "visibility": null,
      "width": null
     }
    },
    "74030796b6654ca7860e56fef2c71cb0": {
     "model_module": "@jupyter-widgets/controls",
     "model_module_version": "1.5.0",
     "model_name": "DescriptionStyleModel",
     "state": {
      "_model_module": "@jupyter-widgets/controls",
      "_model_module_version": "1.5.0",
      "_model_name": "DescriptionStyleModel",
      "_view_count": null,
      "_view_module": "@jupyter-widgets/base",
      "_view_module_version": "1.2.0",
      "_view_name": "StyleView",
      "description_width": ""
     }
    },
    "75adecab43324b8f8d5397581dcbd010": {
     "model_module": "@jupyter-widgets/controls",
     "model_module_version": "1.5.0",
     "model_name": "FloatProgressModel",
     "state": {
      "_dom_classes": [],
      "_model_module": "@jupyter-widgets/controls",
      "_model_module_version": "1.5.0",
      "_model_name": "FloatProgressModel",
      "_view_count": null,
      "_view_module": "@jupyter-widgets/controls",
      "_view_module_version": "1.5.0",
      "_view_name": "ProgressView",
      "bar_style": "success",
      "description": "",
      "description_tooltip": null,
      "layout": "IPY_MODEL_605324e46c11450ca9ce138557fbc768",
      "max": 69,
      "min": 0,
      "orientation": "horizontal",
      "style": "IPY_MODEL_373ee3a463ab4749a0d97af2394ae2e3",
      "value": 69
     }
    },
    "75be71c431d34d509114c99f91d57335": {
     "model_module": "@jupyter-widgets/base",
     "model_module_version": "1.2.0",
     "model_name": "LayoutModel",
     "state": {
      "_model_module": "@jupyter-widgets/base",
      "_model_module_version": "1.2.0",
      "_model_name": "LayoutModel",
      "_view_count": null,
      "_view_module": "@jupyter-widgets/base",
      "_view_module_version": "1.2.0",
      "_view_name": "LayoutView",
      "align_content": null,
      "align_items": null,
      "align_self": null,
      "border": null,
      "bottom": null,
      "display": null,
      "flex": null,
      "flex_flow": null,
      "grid_area": null,
      "grid_auto_columns": null,
      "grid_auto_flow": null,
      "grid_auto_rows": null,
      "grid_column": null,
      "grid_gap": null,
      "grid_row": null,
      "grid_template_areas": null,
      "grid_template_columns": null,
      "grid_template_rows": null,
      "height": null,
      "justify_content": null,
      "justify_items": null,
      "left": null,
      "margin": null,
      "max_height": null,
      "max_width": null,
      "min_height": null,
      "min_width": null,
      "object_fit": null,
      "object_position": null,
      "order": null,
      "overflow": null,
      "overflow_x": null,
      "overflow_y": null,
      "padding": null,
      "right": null,
      "top": null,
      "visibility": null,
      "width": null
     }
    },
    "75eeed5e22474b869dc4432d98617fd6": {
     "model_module": "@jupyter-widgets/controls",
     "model_module_version": "1.5.0",
     "model_name": "HBoxModel",
     "state": {
      "_dom_classes": [],
      "_model_module": "@jupyter-widgets/controls",
      "_model_module_version": "1.5.0",
      "_model_name": "HBoxModel",
      "_view_count": null,
      "_view_module": "@jupyter-widgets/controls",
      "_view_module_version": "1.5.0",
      "_view_name": "HBoxView",
      "box_style": "",
      "children": [
       "IPY_MODEL_143d8a250a2e4550b1c5b1978d5a2518",
       "IPY_MODEL_9009b3b277fb47c6a48e2c29dd025cf9",
       "IPY_MODEL_abbe481e375842c0a95ab8816ae90694"
      ],
      "layout": "IPY_MODEL_c545f32700464f178a917d3bad1b395b"
     }
    },
    "764ff446b3094918b1822fdb028b2709": {
     "model_module": "@jupyter-widgets/controls",
     "model_module_version": "1.5.0",
     "model_name": "DescriptionStyleModel",
     "state": {
      "_model_module": "@jupyter-widgets/controls",
      "_model_module_version": "1.5.0",
      "_model_name": "DescriptionStyleModel",
      "_view_count": null,
      "_view_module": "@jupyter-widgets/base",
      "_view_module_version": "1.2.0",
      "_view_name": "StyleView",
      "description_width": ""
     }
    },
    "7711ef263f5b4667b6d12d84a7af5ee7": {
     "model_module": "@jupyter-widgets/base",
     "model_module_version": "1.2.0",
     "model_name": "LayoutModel",
     "state": {
      "_model_module": "@jupyter-widgets/base",
      "_model_module_version": "1.2.0",
      "_model_name": "LayoutModel",
      "_view_count": null,
      "_view_module": "@jupyter-widgets/base",
      "_view_module_version": "1.2.0",
      "_view_name": "LayoutView",
      "align_content": null,
      "align_items": null,
      "align_self": null,
      "border": null,
      "bottom": null,
      "display": null,
      "flex": null,
      "flex_flow": null,
      "grid_area": null,
      "grid_auto_columns": null,
      "grid_auto_flow": null,
      "grid_auto_rows": null,
      "grid_column": null,
      "grid_gap": null,
      "grid_row": null,
      "grid_template_areas": null,
      "grid_template_columns": null,
      "grid_template_rows": null,
      "height": null,
      "justify_content": null,
      "justify_items": null,
      "left": null,
      "margin": null,
      "max_height": null,
      "max_width": null,
      "min_height": null,
      "min_width": null,
      "object_fit": null,
      "object_position": null,
      "order": null,
      "overflow": null,
      "overflow_x": null,
      "overflow_y": null,
      "padding": null,
      "right": null,
      "top": null,
      "visibility": null,
      "width": null
     }
    },
    "776ac8ded4684cd79ee540f91f462097": {
     "model_module": "@jupyter-widgets/base",
     "model_module_version": "1.2.0",
     "model_name": "LayoutModel",
     "state": {
      "_model_module": "@jupyter-widgets/base",
      "_model_module_version": "1.2.0",
      "_model_name": "LayoutModel",
      "_view_count": null,
      "_view_module": "@jupyter-widgets/base",
      "_view_module_version": "1.2.0",
      "_view_name": "LayoutView",
      "align_content": null,
      "align_items": null,
      "align_self": null,
      "border": null,
      "bottom": null,
      "display": null,
      "flex": null,
      "flex_flow": null,
      "grid_area": null,
      "grid_auto_columns": null,
      "grid_auto_flow": null,
      "grid_auto_rows": null,
      "grid_column": null,
      "grid_gap": null,
      "grid_row": null,
      "grid_template_areas": null,
      "grid_template_columns": null,
      "grid_template_rows": null,
      "height": null,
      "justify_content": null,
      "justify_items": null,
      "left": null,
      "margin": null,
      "max_height": null,
      "max_width": null,
      "min_height": null,
      "min_width": null,
      "object_fit": null,
      "object_position": null,
      "order": null,
      "overflow": null,
      "overflow_x": null,
      "overflow_y": null,
      "padding": null,
      "right": null,
      "top": null,
      "visibility": null,
      "width": null
     }
    },
    "797d065d93324bd480ddfbc422dd9c47": {
     "model_module": "@jupyter-widgets/controls",
     "model_module_version": "1.5.0",
     "model_name": "HTMLModel",
     "state": {
      "_dom_classes": [],
      "_model_module": "@jupyter-widgets/controls",
      "_model_module_version": "1.5.0",
      "_model_name": "HTMLModel",
      "_view_count": null,
      "_view_module": "@jupyter-widgets/controls",
      "_view_module_version": "1.5.0",
      "_view_name": "HTMLView",
      "description": "",
      "description_tooltip": null,
      "layout": "IPY_MODEL_a61550ad08404f7db5b04df4b3e3b913",
      "placeholder": "​",
      "style": "IPY_MODEL_f782f201aef943ee9b00d39e9ba7e600",
      "value": "100%"
     }
    },
    "79fdcb34a8e44c17a0fb486d99e0b547": {
     "model_module": "@jupyter-widgets/controls",
     "model_module_version": "1.5.0",
     "model_name": "HTMLModel",
     "state": {
      "_dom_classes": [],
      "_model_module": "@jupyter-widgets/controls",
      "_model_module_version": "1.5.0",
      "_model_name": "HTMLModel",
      "_view_count": null,
      "_view_module": "@jupyter-widgets/controls",
      "_view_module_version": "1.5.0",
      "_view_name": "HTMLView",
      "description": "",
      "description_tooltip": null,
      "layout": "IPY_MODEL_144eb798037047f187f25772192cfa29",
      "placeholder": "​",
      "style": "IPY_MODEL_36d61d19fb3a4ea88f07735bc282acb0",
      "value": "100%"
     }
    },
    "7ae4965f72894e70a055803750a1fab3": {
     "model_module": "@jupyter-widgets/base",
     "model_module_version": "1.2.0",
     "model_name": "LayoutModel",
     "state": {
      "_model_module": "@jupyter-widgets/base",
      "_model_module_version": "1.2.0",
      "_model_name": "LayoutModel",
      "_view_count": null,
      "_view_module": "@jupyter-widgets/base",
      "_view_module_version": "1.2.0",
      "_view_name": "LayoutView",
      "align_content": null,
      "align_items": null,
      "align_self": null,
      "border": null,
      "bottom": null,
      "display": null,
      "flex": null,
      "flex_flow": null,
      "grid_area": null,
      "grid_auto_columns": null,
      "grid_auto_flow": null,
      "grid_auto_rows": null,
      "grid_column": null,
      "grid_gap": null,
      "grid_row": null,
      "grid_template_areas": null,
      "grid_template_columns": null,
      "grid_template_rows": null,
      "height": null,
      "justify_content": null,
      "justify_items": null,
      "left": null,
      "margin": null,
      "max_height": null,
      "max_width": null,
      "min_height": null,
      "min_width": null,
      "object_fit": null,
      "object_position": null,
      "order": null,
      "overflow": null,
      "overflow_x": null,
      "overflow_y": null,
      "padding": null,
      "right": null,
      "top": null,
      "visibility": null,
      "width": null
     }
    },
    "7bf98cdb2bf04cefba036b96eb3560bb": {
     "model_module": "@jupyter-widgets/controls",
     "model_module_version": "1.5.0",
     "model_name": "DescriptionStyleModel",
     "state": {
      "_model_module": "@jupyter-widgets/controls",
      "_model_module_version": "1.5.0",
      "_model_name": "DescriptionStyleModel",
      "_view_count": null,
      "_view_module": "@jupyter-widgets/base",
      "_view_module_version": "1.2.0",
      "_view_name": "StyleView",
      "description_width": ""
     }
    },
    "7c721b8a423e4c42b3707c71f3f450fa": {
     "model_module": "@jupyter-widgets/base",
     "model_module_version": "1.2.0",
     "model_name": "LayoutModel",
     "state": {
      "_model_module": "@jupyter-widgets/base",
      "_model_module_version": "1.2.0",
      "_model_name": "LayoutModel",
      "_view_count": null,
      "_view_module": "@jupyter-widgets/base",
      "_view_module_version": "1.2.0",
      "_view_name": "LayoutView",
      "align_content": null,
      "align_items": null,
      "align_self": null,
      "border": null,
      "bottom": null,
      "display": null,
      "flex": null,
      "flex_flow": null,
      "grid_area": null,
      "grid_auto_columns": null,
      "grid_auto_flow": null,
      "grid_auto_rows": null,
      "grid_column": null,
      "grid_gap": null,
      "grid_row": null,
      "grid_template_areas": null,
      "grid_template_columns": null,
      "grid_template_rows": null,
      "height": null,
      "justify_content": null,
      "justify_items": null,
      "left": null,
      "margin": null,
      "max_height": null,
      "max_width": null,
      "min_height": null,
      "min_width": null,
      "object_fit": null,
      "object_position": null,
      "order": null,
      "overflow": null,
      "overflow_x": null,
      "overflow_y": null,
      "padding": null,
      "right": null,
      "top": null,
      "visibility": null,
      "width": null
     }
    },
    "7eb919e496044bfc8f1c6bb5cb9646a7": {
     "model_module": "@jupyter-widgets/controls",
     "model_module_version": "1.5.0",
     "model_name": "DescriptionStyleModel",
     "state": {
      "_model_module": "@jupyter-widgets/controls",
      "_model_module_version": "1.5.0",
      "_model_name": "DescriptionStyleModel",
      "_view_count": null,
      "_view_module": "@jupyter-widgets/base",
      "_view_module_version": "1.2.0",
      "_view_name": "StyleView",
      "description_width": ""
     }
    },
    "80b6e4a95e9746db84f0eef903180876": {
     "model_module": "@jupyter-widgets/controls",
     "model_module_version": "1.5.0",
     "model_name": "HTMLModel",
     "state": {
      "_dom_classes": [],
      "_model_module": "@jupyter-widgets/controls",
      "_model_module_version": "1.5.0",
      "_model_name": "HTMLModel",
      "_view_count": null,
      "_view_module": "@jupyter-widgets/controls",
      "_view_module_version": "1.5.0",
      "_view_name": "HTMLView",
      "description": "",
      "description_tooltip": null,
      "layout": "IPY_MODEL_9e36d738c79a423f96ea721a1cef3436",
      "placeholder": "​",
      "style": "IPY_MODEL_8688adf0f900448c9fea157901257265",
      "value": " 69/69 [00:19&lt;00:00,  3.82it/s]"
     }
    },
    "832224e793fc42879d05288a42837e86": {
     "model_module": "@jupyter-widgets/controls",
     "model_module_version": "1.5.0",
     "model_name": "ProgressStyleModel",
     "state": {
      "_model_module": "@jupyter-widgets/controls",
      "_model_module_version": "1.5.0",
      "_model_name": "ProgressStyleModel",
      "_view_count": null,
      "_view_module": "@jupyter-widgets/base",
      "_view_module_version": "1.2.0",
      "_view_name": "StyleView",
      "bar_color": null,
      "description_width": ""
     }
    },
    "83aa744a8973475ab411bf8ae2dfdecf": {
     "model_module": "@jupyter-widgets/base",
     "model_module_version": "1.2.0",
     "model_name": "LayoutModel",
     "state": {
      "_model_module": "@jupyter-widgets/base",
      "_model_module_version": "1.2.0",
      "_model_name": "LayoutModel",
      "_view_count": null,
      "_view_module": "@jupyter-widgets/base",
      "_view_module_version": "1.2.0",
      "_view_name": "LayoutView",
      "align_content": null,
      "align_items": null,
      "align_self": null,
      "border": null,
      "bottom": null,
      "display": null,
      "flex": null,
      "flex_flow": null,
      "grid_area": null,
      "grid_auto_columns": null,
      "grid_auto_flow": null,
      "grid_auto_rows": null,
      "grid_column": null,
      "grid_gap": null,
      "grid_row": null,
      "grid_template_areas": null,
      "grid_template_columns": null,
      "grid_template_rows": null,
      "height": null,
      "justify_content": null,
      "justify_items": null,
      "left": null,
      "margin": null,
      "max_height": null,
      "max_width": null,
      "min_height": null,
      "min_width": null,
      "object_fit": null,
      "object_position": null,
      "order": null,
      "overflow": null,
      "overflow_x": null,
      "overflow_y": null,
      "padding": null,
      "right": null,
      "top": null,
      "visibility": null,
      "width": null
     }
    },
    "841b94c4879e462b96fa1c820cc13f88": {
     "model_module": "@jupyter-widgets/controls",
     "model_module_version": "1.5.0",
     "model_name": "DescriptionStyleModel",
     "state": {
      "_model_module": "@jupyter-widgets/controls",
      "_model_module_version": "1.5.0",
      "_model_name": "DescriptionStyleModel",
      "_view_count": null,
      "_view_module": "@jupyter-widgets/base",
      "_view_module_version": "1.2.0",
      "_view_name": "StyleView",
      "description_width": ""
     }
    },
    "84f7d482961245198c533951f8305a33": {
     "model_module": "@jupyter-widgets/base",
     "model_module_version": "1.2.0",
     "model_name": "LayoutModel",
     "state": {
      "_model_module": "@jupyter-widgets/base",
      "_model_module_version": "1.2.0",
      "_model_name": "LayoutModel",
      "_view_count": null,
      "_view_module": "@jupyter-widgets/base",
      "_view_module_version": "1.2.0",
      "_view_name": "LayoutView",
      "align_content": null,
      "align_items": null,
      "align_self": null,
      "border": null,
      "bottom": null,
      "display": null,
      "flex": null,
      "flex_flow": null,
      "grid_area": null,
      "grid_auto_columns": null,
      "grid_auto_flow": null,
      "grid_auto_rows": null,
      "grid_column": null,
      "grid_gap": null,
      "grid_row": null,
      "grid_template_areas": null,
      "grid_template_columns": null,
      "grid_template_rows": null,
      "height": null,
      "justify_content": null,
      "justify_items": null,
      "left": null,
      "margin": null,
      "max_height": null,
      "max_width": null,
      "min_height": null,
      "min_width": null,
      "object_fit": null,
      "object_position": null,
      "order": null,
      "overflow": null,
      "overflow_x": null,
      "overflow_y": null,
      "padding": null,
      "right": null,
      "top": null,
      "visibility": null,
      "width": null
     }
    },
    "853a5982dc71456994bbaa78bf4d37c1": {
     "model_module": "@jupyter-widgets/controls",
     "model_module_version": "1.5.0",
     "model_name": "DescriptionStyleModel",
     "state": {
      "_model_module": "@jupyter-widgets/controls",
      "_model_module_version": "1.5.0",
      "_model_name": "DescriptionStyleModel",
      "_view_count": null,
      "_view_module": "@jupyter-widgets/base",
      "_view_module_version": "1.2.0",
      "_view_name": "StyleView",
      "description_width": ""
     }
    },
    "85b010930bac4157860d12b0112bc0c4": {
     "model_module": "@jupyter-widgets/controls",
     "model_module_version": "1.5.0",
     "model_name": "FloatProgressModel",
     "state": {
      "_dom_classes": [],
      "_model_module": "@jupyter-widgets/controls",
      "_model_module_version": "1.5.0",
      "_model_name": "FloatProgressModel",
      "_view_count": null,
      "_view_module": "@jupyter-widgets/controls",
      "_view_module_version": "1.5.0",
      "_view_name": "ProgressView",
      "bar_style": "success",
      "description": "",
      "description_tooltip": null,
      "layout": "IPY_MODEL_179dbbe2837c451a839e404eec3f3263",
      "max": 275,
      "min": 0,
      "orientation": "horizontal",
      "style": "IPY_MODEL_832224e793fc42879d05288a42837e86",
      "value": 275
     }
    },
    "85ceeee910ed4064a852b98c535aa912": {
     "model_module": "@jupyter-widgets/base",
     "model_module_version": "1.2.0",
     "model_name": "LayoutModel",
     "state": {
      "_model_module": "@jupyter-widgets/base",
      "_model_module_version": "1.2.0",
      "_model_name": "LayoutModel",
      "_view_count": null,
      "_view_module": "@jupyter-widgets/base",
      "_view_module_version": "1.2.0",
      "_view_name": "LayoutView",
      "align_content": null,
      "align_items": null,
      "align_self": null,
      "border": null,
      "bottom": null,
      "display": null,
      "flex": null,
      "flex_flow": null,
      "grid_area": null,
      "grid_auto_columns": null,
      "grid_auto_flow": null,
      "grid_auto_rows": null,
      "grid_column": null,
      "grid_gap": null,
      "grid_row": null,
      "grid_template_areas": null,
      "grid_template_columns": null,
      "grid_template_rows": null,
      "height": null,
      "justify_content": null,
      "justify_items": null,
      "left": null,
      "margin": null,
      "max_height": null,
      "max_width": null,
      "min_height": null,
      "min_width": null,
      "object_fit": null,
      "object_position": null,
      "order": null,
      "overflow": null,
      "overflow_x": null,
      "overflow_y": null,
      "padding": null,
      "right": null,
      "top": null,
      "visibility": null,
      "width": null
     }
    },
    "85dd3cbb2b4a4d6d9612aac6cfe490ce": {
     "model_module": "@jupyter-widgets/base",
     "model_module_version": "1.2.0",
     "model_name": "LayoutModel",
     "state": {
      "_model_module": "@jupyter-widgets/base",
      "_model_module_version": "1.2.0",
      "_model_name": "LayoutModel",
      "_view_count": null,
      "_view_module": "@jupyter-widgets/base",
      "_view_module_version": "1.2.0",
      "_view_name": "LayoutView",
      "align_content": null,
      "align_items": null,
      "align_self": null,
      "border": null,
      "bottom": null,
      "display": null,
      "flex": null,
      "flex_flow": null,
      "grid_area": null,
      "grid_auto_columns": null,
      "grid_auto_flow": null,
      "grid_auto_rows": null,
      "grid_column": null,
      "grid_gap": null,
      "grid_row": null,
      "grid_template_areas": null,
      "grid_template_columns": null,
      "grid_template_rows": null,
      "height": null,
      "justify_content": null,
      "justify_items": null,
      "left": null,
      "margin": null,
      "max_height": null,
      "max_width": null,
      "min_height": null,
      "min_width": null,
      "object_fit": null,
      "object_position": null,
      "order": null,
      "overflow": null,
      "overflow_x": null,
      "overflow_y": null,
      "padding": null,
      "right": null,
      "top": null,
      "visibility": null,
      "width": null
     }
    },
    "860377ec4a7141629a2826bd1f174c50": {
     "model_module": "@jupyter-widgets/controls",
     "model_module_version": "1.5.0",
     "model_name": "HTMLModel",
     "state": {
      "_dom_classes": [],
      "_model_module": "@jupyter-widgets/controls",
      "_model_module_version": "1.5.0",
      "_model_name": "HTMLModel",
      "_view_count": null,
      "_view_module": "@jupyter-widgets/controls",
      "_view_module_version": "1.5.0",
      "_view_name": "HTMLView",
      "description": "",
      "description_tooltip": null,
      "layout": "IPY_MODEL_8bea81c876884036b07a6f3672cbd43b",
      "placeholder": "​",
      "style": "IPY_MODEL_7bf98cdb2bf04cefba036b96eb3560bb",
      "value": "100%"
     }
    },
    "8688adf0f900448c9fea157901257265": {
     "model_module": "@jupyter-widgets/controls",
     "model_module_version": "1.5.0",
     "model_name": "DescriptionStyleModel",
     "state": {
      "_model_module": "@jupyter-widgets/controls",
      "_model_module_version": "1.5.0",
      "_model_name": "DescriptionStyleModel",
      "_view_count": null,
      "_view_module": "@jupyter-widgets/base",
      "_view_module_version": "1.2.0",
      "_view_name": "StyleView",
      "description_width": ""
     }
    },
    "8829ffe8efb94c568f3c2fa8e3cf7109": {
     "model_module": "@jupyter-widgets/controls",
     "model_module_version": "1.5.0",
     "model_name": "FloatProgressModel",
     "state": {
      "_dom_classes": [],
      "_model_module": "@jupyter-widgets/controls",
      "_model_module_version": "1.5.0",
      "_model_name": "FloatProgressModel",
      "_view_count": null,
      "_view_module": "@jupyter-widgets/controls",
      "_view_module_version": "1.5.0",
      "_view_name": "ProgressView",
      "bar_style": "danger",
      "description": "",
      "description_tooltip": null,
      "layout": "IPY_MODEL_6f2b0618d42a43f289c33abe0d0d1711",
      "max": 15,
      "min": 0,
      "orientation": "horizontal",
      "style": "IPY_MODEL_1e9674e2bbac43e994e418f1c795e598",
      "value": 6
     }
    },
    "888d2bf741d1455eba61b611713adeed": {
     "model_module": "@jupyter-widgets/controls",
     "model_module_version": "1.5.0",
     "model_name": "FloatProgressModel",
     "state": {
      "_dom_classes": [],
      "_model_module": "@jupyter-widgets/controls",
      "_model_module_version": "1.5.0",
      "_model_name": "FloatProgressModel",
      "_view_count": null,
      "_view_module": "@jupyter-widgets/controls",
      "_view_module_version": "1.5.0",
      "_view_name": "ProgressView",
      "bar_style": "success",
      "description": "",
      "description_tooltip": null,
      "layout": "IPY_MODEL_e54923107720481aa4a5c442b7ab82f9",
      "max": 69,
      "min": 0,
      "orientation": "horizontal",
      "style": "IPY_MODEL_cb7b051a06b14f9d8386727fe1c7f092",
      "value": 69
     }
    },
    "8b141a9497844764b757c65de0d41f12": {
     "model_module": "@jupyter-widgets/controls",
     "model_module_version": "1.5.0",
     "model_name": "ProgressStyleModel",
     "state": {
      "_model_module": "@jupyter-widgets/controls",
      "_model_module_version": "1.5.0",
      "_model_name": "ProgressStyleModel",
      "_view_count": null,
      "_view_module": "@jupyter-widgets/base",
      "_view_module_version": "1.2.0",
      "_view_name": "StyleView",
      "bar_color": null,
      "description_width": ""
     }
    },
    "8b1aa15f6d5a4984927651fcdcb48abd": {
     "model_module": "@jupyter-widgets/base",
     "model_module_version": "1.2.0",
     "model_name": "LayoutModel",
     "state": {
      "_model_module": "@jupyter-widgets/base",
      "_model_module_version": "1.2.0",
      "_model_name": "LayoutModel",
      "_view_count": null,
      "_view_module": "@jupyter-widgets/base",
      "_view_module_version": "1.2.0",
      "_view_name": "LayoutView",
      "align_content": null,
      "align_items": null,
      "align_self": null,
      "border": null,
      "bottom": null,
      "display": null,
      "flex": null,
      "flex_flow": null,
      "grid_area": null,
      "grid_auto_columns": null,
      "grid_auto_flow": null,
      "grid_auto_rows": null,
      "grid_column": null,
      "grid_gap": null,
      "grid_row": null,
      "grid_template_areas": null,
      "grid_template_columns": null,
      "grid_template_rows": null,
      "height": null,
      "justify_content": null,
      "justify_items": null,
      "left": null,
      "margin": null,
      "max_height": null,
      "max_width": null,
      "min_height": null,
      "min_width": null,
      "object_fit": null,
      "object_position": null,
      "order": null,
      "overflow": null,
      "overflow_x": null,
      "overflow_y": null,
      "padding": null,
      "right": null,
      "top": null,
      "visibility": null,
      "width": null
     }
    },
    "8be06a60660446fdad211b275f039160": {
     "model_module": "@jupyter-widgets/controls",
     "model_module_version": "1.5.0",
     "model_name": "HBoxModel",
     "state": {
      "_dom_classes": [],
      "_model_module": "@jupyter-widgets/controls",
      "_model_module_version": "1.5.0",
      "_model_name": "HBoxModel",
      "_view_count": null,
      "_view_module": "@jupyter-widgets/controls",
      "_view_module_version": "1.5.0",
      "_view_name": "HBoxView",
      "box_style": "",
      "children": [
       "IPY_MODEL_bb2b24e7dfaf4442a8b948401be3d736",
       "IPY_MODEL_4539cec777e24639b7c7662ef1155e11",
       "IPY_MODEL_0ea6db5f7ba14b16b110c06c35691105"
      ],
      "layout": "IPY_MODEL_ac321d1e92624af5b3c35d5db1c9eee3"
     }
    },
    "8bea81c876884036b07a6f3672cbd43b": {
     "model_module": "@jupyter-widgets/base",
     "model_module_version": "1.2.0",
     "model_name": "LayoutModel",
     "state": {
      "_model_module": "@jupyter-widgets/base",
      "_model_module_version": "1.2.0",
      "_model_name": "LayoutModel",
      "_view_count": null,
      "_view_module": "@jupyter-widgets/base",
      "_view_module_version": "1.2.0",
      "_view_name": "LayoutView",
      "align_content": null,
      "align_items": null,
      "align_self": null,
      "border": null,
      "bottom": null,
      "display": null,
      "flex": null,
      "flex_flow": null,
      "grid_area": null,
      "grid_auto_columns": null,
      "grid_auto_flow": null,
      "grid_auto_rows": null,
      "grid_column": null,
      "grid_gap": null,
      "grid_row": null,
      "grid_template_areas": null,
      "grid_template_columns": null,
      "grid_template_rows": null,
      "height": null,
      "justify_content": null,
      "justify_items": null,
      "left": null,
      "margin": null,
      "max_height": null,
      "max_width": null,
      "min_height": null,
      "min_width": null,
      "object_fit": null,
      "object_position": null,
      "order": null,
      "overflow": null,
      "overflow_x": null,
      "overflow_y": null,
      "padding": null,
      "right": null,
      "top": null,
      "visibility": null,
      "width": null
     }
    },
    "8bfbac6b155b4f759037d03d1476da64": {
     "model_module": "@jupyter-widgets/controls",
     "model_module_version": "1.5.0",
     "model_name": "HTMLModel",
     "state": {
      "_dom_classes": [],
      "_model_module": "@jupyter-widgets/controls",
      "_model_module_version": "1.5.0",
      "_model_name": "HTMLModel",
      "_view_count": null,
      "_view_module": "@jupyter-widgets/controls",
      "_view_module_version": "1.5.0",
      "_view_name": "HTMLView",
      "description": "",
      "description_tooltip": null,
      "layout": "IPY_MODEL_1afe5528e8384cdba00681275be35fc4",
      "placeholder": "​",
      "style": "IPY_MODEL_b6105b7e90ca4023a70afcdd014de393",
      "value": "100%"
     }
    },
    "8c3472584d644f1eaa16a0d47c2fa02b": {
     "model_module": "@jupyter-widgets/controls",
     "model_module_version": "1.5.0",
     "model_name": "HBoxModel",
     "state": {
      "_dom_classes": [],
      "_model_module": "@jupyter-widgets/controls",
      "_model_module_version": "1.5.0",
      "_model_name": "HBoxModel",
      "_view_count": null,
      "_view_module": "@jupyter-widgets/controls",
      "_view_module_version": "1.5.0",
      "_view_name": "HBoxView",
      "box_style": "",
      "children": [
       "IPY_MODEL_797d065d93324bd480ddfbc422dd9c47",
       "IPY_MODEL_4b3c540ff411482d80b0aa4d7a5bc672",
       "IPY_MODEL_6756a0a727b944758598448a436297d8"
      ],
      "layout": "IPY_MODEL_f1f159b01e3d496a80c0d5c92730eebe"
     }
    },
    "8d160cbc826c47cbbd1b3cc50cfd51c9": {
     "model_module": "@jupyter-widgets/base",
     "model_module_version": "1.2.0",
     "model_name": "LayoutModel",
     "state": {
      "_model_module": "@jupyter-widgets/base",
      "_model_module_version": "1.2.0",
      "_model_name": "LayoutModel",
      "_view_count": null,
      "_view_module": "@jupyter-widgets/base",
      "_view_module_version": "1.2.0",
      "_view_name": "LayoutView",
      "align_content": null,
      "align_items": null,
      "align_self": null,
      "border": null,
      "bottom": null,
      "display": null,
      "flex": null,
      "flex_flow": null,
      "grid_area": null,
      "grid_auto_columns": null,
      "grid_auto_flow": null,
      "grid_auto_rows": null,
      "grid_column": null,
      "grid_gap": null,
      "grid_row": null,
      "grid_template_areas": null,
      "grid_template_columns": null,
      "grid_template_rows": null,
      "height": null,
      "justify_content": null,
      "justify_items": null,
      "left": null,
      "margin": null,
      "max_height": null,
      "max_width": null,
      "min_height": null,
      "min_width": null,
      "object_fit": null,
      "object_position": null,
      "order": null,
      "overflow": null,
      "overflow_x": null,
      "overflow_y": null,
      "padding": null,
      "right": null,
      "top": null,
      "visibility": null,
      "width": null
     }
    },
    "8e151b5ef1754e48bb82270e103ffd3e": {
     "model_module": "@jupyter-widgets/controls",
     "model_module_version": "1.5.0",
     "model_name": "DescriptionStyleModel",
     "state": {
      "_model_module": "@jupyter-widgets/controls",
      "_model_module_version": "1.5.0",
      "_model_name": "DescriptionStyleModel",
      "_view_count": null,
      "_view_module": "@jupyter-widgets/base",
      "_view_module_version": "1.2.0",
      "_view_name": "StyleView",
      "description_width": ""
     }
    },
    "8f83d90225fa4351a02f079fc4bb53ee": {
     "model_module": "@jupyter-widgets/controls",
     "model_module_version": "1.5.0",
     "model_name": "HBoxModel",
     "state": {
      "_dom_classes": [],
      "_model_module": "@jupyter-widgets/controls",
      "_model_module_version": "1.5.0",
      "_model_name": "HBoxModel",
      "_view_count": null,
      "_view_module": "@jupyter-widgets/controls",
      "_view_module_version": "1.5.0",
      "_view_name": "HBoxView",
      "box_style": "",
      "children": [
       "IPY_MODEL_8bfbac6b155b4f759037d03d1476da64",
       "IPY_MODEL_85b010930bac4157860d12b0112bc0c4",
       "IPY_MODEL_f17f86dd0be74fbda0eab61d4fb0e856"
      ],
      "layout": "IPY_MODEL_4174cce408c64c498583c8844d2cad73"
     }
    },
    "9009b3b277fb47c6a48e2c29dd025cf9": {
     "model_module": "@jupyter-widgets/controls",
     "model_module_version": "1.5.0",
     "model_name": "FloatProgressModel",
     "state": {
      "_dom_classes": [],
      "_model_module": "@jupyter-widgets/controls",
      "_model_module_version": "1.5.0",
      "_model_name": "FloatProgressModel",
      "_view_count": null,
      "_view_module": "@jupyter-widgets/controls",
      "_view_module_version": "1.5.0",
      "_view_name": "ProgressView",
      "bar_style": "danger",
      "description": "",
      "description_tooltip": null,
      "layout": "IPY_MODEL_31d9b8c85e174f1b8204bf475980345a",
      "max": 275,
      "min": 0,
      "orientation": "horizontal",
      "style": "IPY_MODEL_5821ecea41404fdf92474adab25dd576",
      "value": 53
     }
    },
    "90fdb781a85f4ccf847260d056a6abe7": {
     "model_module": "@jupyter-widgets/controls",
     "model_module_version": "1.5.0",
     "model_name": "HBoxModel",
     "state": {
      "_dom_classes": [],
      "_model_module": "@jupyter-widgets/controls",
      "_model_module_version": "1.5.0",
      "_model_name": "HBoxModel",
      "_view_count": null,
      "_view_module": "@jupyter-widgets/controls",
      "_view_module_version": "1.5.0",
      "_view_name": "HBoxView",
      "box_style": "",
      "children": [
       "IPY_MODEL_ad2fbcb20fd44e2fa7a972060c086fe1",
       "IPY_MODEL_ea00578157794dfdb624a66c22bf0234",
       "IPY_MODEL_4cb41ad561b04174821d5d0395f9f246"
      ],
      "layout": "IPY_MODEL_84f7d482961245198c533951f8305a33"
     }
    },
    "914dd349630e4ad8ab9c39c3508ab287": {
     "model_module": "@jupyter-widgets/controls",
     "model_module_version": "1.5.0",
     "model_name": "DescriptionStyleModel",
     "state": {
      "_model_module": "@jupyter-widgets/controls",
      "_model_module_version": "1.5.0",
      "_model_name": "DescriptionStyleModel",
      "_view_count": null,
      "_view_module": "@jupyter-widgets/base",
      "_view_module_version": "1.2.0",
      "_view_name": "StyleView",
      "description_width": ""
     }
    },
    "91f44bec36fb41308a04f74730788804": {
     "model_module": "@jupyter-widgets/controls",
     "model_module_version": "1.5.0",
     "model_name": "HBoxModel",
     "state": {
      "_dom_classes": [],
      "_model_module": "@jupyter-widgets/controls",
      "_model_module_version": "1.5.0",
      "_model_name": "HBoxModel",
      "_view_count": null,
      "_view_module": "@jupyter-widgets/controls",
      "_view_module_version": "1.5.0",
      "_view_name": "HBoxView",
      "box_style": "",
      "children": [
       "IPY_MODEL_5ded397ad6454c5fabada79e0577a5b9",
       "IPY_MODEL_661b86c2c6894488b9d3a4f0c38e2c86",
       "IPY_MODEL_80b6e4a95e9746db84f0eef903180876"
      ],
      "layout": "IPY_MODEL_b6ae7808f814455c88776b35cfa988dd"
     }
    },
    "9291b6452b974c1b9a5902389a69bf54": {
     "model_module": "@jupyter-widgets/base",
     "model_module_version": "1.2.0",
     "model_name": "LayoutModel",
     "state": {
      "_model_module": "@jupyter-widgets/base",
      "_model_module_version": "1.2.0",
      "_model_name": "LayoutModel",
      "_view_count": null,
      "_view_module": "@jupyter-widgets/base",
      "_view_module_version": "1.2.0",
      "_view_name": "LayoutView",
      "align_content": null,
      "align_items": null,
      "align_self": null,
      "border": null,
      "bottom": null,
      "display": null,
      "flex": null,
      "flex_flow": null,
      "grid_area": null,
      "grid_auto_columns": null,
      "grid_auto_flow": null,
      "grid_auto_rows": null,
      "grid_column": null,
      "grid_gap": null,
      "grid_row": null,
      "grid_template_areas": null,
      "grid_template_columns": null,
      "grid_template_rows": null,
      "height": null,
      "justify_content": null,
      "justify_items": null,
      "left": null,
      "margin": null,
      "max_height": null,
      "max_width": null,
      "min_height": null,
      "min_width": null,
      "object_fit": null,
      "object_position": null,
      "order": null,
      "overflow": null,
      "overflow_x": null,
      "overflow_y": null,
      "padding": null,
      "right": null,
      "top": null,
      "visibility": null,
      "width": null
     }
    },
    "95e7682f61a645cab819a19b31ae0678": {
     "model_module": "@jupyter-widgets/controls",
     "model_module_version": "1.5.0",
     "model_name": "DescriptionStyleModel",
     "state": {
      "_model_module": "@jupyter-widgets/controls",
      "_model_module_version": "1.5.0",
      "_model_name": "DescriptionStyleModel",
      "_view_count": null,
      "_view_module": "@jupyter-widgets/base",
      "_view_module_version": "1.2.0",
      "_view_name": "StyleView",
      "description_width": ""
     }
    },
    "974c09d4a0b04e848cfc26615efebf3d": {
     "model_module": "@jupyter-widgets/controls",
     "model_module_version": "1.5.0",
     "model_name": "HTMLModel",
     "state": {
      "_dom_classes": [],
      "_model_module": "@jupyter-widgets/controls",
      "_model_module_version": "1.5.0",
      "_model_name": "HTMLModel",
      "_view_count": null,
      "_view_module": "@jupyter-widgets/controls",
      "_view_module_version": "1.5.0",
      "_view_name": "HTMLView",
      "description": "",
      "description_tooltip": null,
      "layout": "IPY_MODEL_3912343fb6754143b7a2d6ce15b7afdd",
      "placeholder": "​",
      "style": "IPY_MODEL_e23dbe6bff164ccb877ac3000908aa51",
      "value": " 6/15 [25:19&lt;36:59, 246.56s/it]"
     }
    },
    "9e36d738c79a423f96ea721a1cef3436": {
     "model_module": "@jupyter-widgets/base",
     "model_module_version": "1.2.0",
     "model_name": "LayoutModel",
     "state": {
      "_model_module": "@jupyter-widgets/base",
      "_model_module_version": "1.2.0",
      "_model_name": "LayoutModel",
      "_view_count": null,
      "_view_module": "@jupyter-widgets/base",
      "_view_module_version": "1.2.0",
      "_view_name": "LayoutView",
      "align_content": null,
      "align_items": null,
      "align_self": null,
      "border": null,
      "bottom": null,
      "display": null,
      "flex": null,
      "flex_flow": null,
      "grid_area": null,
      "grid_auto_columns": null,
      "grid_auto_flow": null,
      "grid_auto_rows": null,
      "grid_column": null,
      "grid_gap": null,
      "grid_row": null,
      "grid_template_areas": null,
      "grid_template_columns": null,
      "grid_template_rows": null,
      "height": null,
      "justify_content": null,
      "justify_items": null,
      "left": null,
      "margin": null,
      "max_height": null,
      "max_width": null,
      "min_height": null,
      "min_width": null,
      "object_fit": null,
      "object_position": null,
      "order": null,
      "overflow": null,
      "overflow_x": null,
      "overflow_y": null,
      "padding": null,
      "right": null,
      "top": null,
      "visibility": null,
      "width": null
     }
    },
    "9ec8a465548844c1a76e80ec4f1d839b": {
     "model_module": "@jupyter-widgets/controls",
     "model_module_version": "1.5.0",
     "model_name": "DescriptionStyleModel",
     "state": {
      "_model_module": "@jupyter-widgets/controls",
      "_model_module_version": "1.5.0",
      "_model_name": "DescriptionStyleModel",
      "_view_count": null,
      "_view_module": "@jupyter-widgets/base",
      "_view_module_version": "1.2.0",
      "_view_name": "StyleView",
      "description_width": ""
     }
    },
    "a05ce3db03ae45fb855aad4931cbaccf": {
     "model_module": "@jupyter-widgets/controls",
     "model_module_version": "1.5.0",
     "model_name": "ProgressStyleModel",
     "state": {
      "_model_module": "@jupyter-widgets/controls",
      "_model_module_version": "1.5.0",
      "_model_name": "ProgressStyleModel",
      "_view_count": null,
      "_view_module": "@jupyter-widgets/base",
      "_view_module_version": "1.2.0",
      "_view_name": "StyleView",
      "bar_color": null,
      "description_width": ""
     }
    },
    "a18bdf82357d4ebbbe579f913531473c": {
     "model_module": "@jupyter-widgets/controls",
     "model_module_version": "1.5.0",
     "model_name": "HTMLModel",
     "state": {
      "_dom_classes": [],
      "_model_module": "@jupyter-widgets/controls",
      "_model_module_version": "1.5.0",
      "_model_name": "HTMLModel",
      "_view_count": null,
      "_view_module": "@jupyter-widgets/controls",
      "_view_module_version": "1.5.0",
      "_view_name": "HTMLView",
      "description": "",
      "description_tooltip": null,
      "layout": "IPY_MODEL_cddccf237157446490725ed3bc7de2e2",
      "placeholder": "​",
      "style": "IPY_MODEL_61f766272f174b8b829bb8f2a77092a5",
      "value": " 1100/1100 [00:01&lt;00:00, 665.65 examples/s]"
     }
    },
    "a219c105df174fec8f38820e24878df8": {
     "model_module": "@jupyter-widgets/controls",
     "model_module_version": "1.5.0",
     "model_name": "HBoxModel",
     "state": {
      "_dom_classes": [],
      "_model_module": "@jupyter-widgets/controls",
      "_model_module_version": "1.5.0",
      "_model_name": "HBoxModel",
      "_view_count": null,
      "_view_module": "@jupyter-widgets/controls",
      "_view_module_version": "1.5.0",
      "_view_name": "HBoxView",
      "box_style": "",
      "children": [
       "IPY_MODEL_f9ef2a34240c41a8bbd9f293b445acee",
       "IPY_MODEL_ac43d374f2934b1fbfdb118af83a67ff",
       "IPY_MODEL_c7d39eb3098b4331a39cf4080904cd31"
      ],
      "layout": "IPY_MODEL_3373622e13f04cda884525f2a62b5274"
     }
    },
    "a61550ad08404f7db5b04df4b3e3b913": {
     "model_module": "@jupyter-widgets/base",
     "model_module_version": "1.2.0",
     "model_name": "LayoutModel",
     "state": {
      "_model_module": "@jupyter-widgets/base",
      "_model_module_version": "1.2.0",
      "_model_name": "LayoutModel",
      "_view_count": null,
      "_view_module": "@jupyter-widgets/base",
      "_view_module_version": "1.2.0",
      "_view_name": "LayoutView",
      "align_content": null,
      "align_items": null,
      "align_self": null,
      "border": null,
      "bottom": null,
      "display": null,
      "flex": null,
      "flex_flow": null,
      "grid_area": null,
      "grid_auto_columns": null,
      "grid_auto_flow": null,
      "grid_auto_rows": null,
      "grid_column": null,
      "grid_gap": null,
      "grid_row": null,
      "grid_template_areas": null,
      "grid_template_columns": null,
      "grid_template_rows": null,
      "height": null,
      "justify_content": null,
      "justify_items": null,
      "left": null,
      "margin": null,
      "max_height": null,
      "max_width": null,
      "min_height": null,
      "min_width": null,
      "object_fit": null,
      "object_position": null,
      "order": null,
      "overflow": null,
      "overflow_x": null,
      "overflow_y": null,
      "padding": null,
      "right": null,
      "top": null,
      "visibility": null,
      "width": null
     }
    },
    "a9849f40935c48de94b3e9b9ef6ec927": {
     "model_module": "@jupyter-widgets/base",
     "model_module_version": "1.2.0",
     "model_name": "LayoutModel",
     "state": {
      "_model_module": "@jupyter-widgets/base",
      "_model_module_version": "1.2.0",
      "_model_name": "LayoutModel",
      "_view_count": null,
      "_view_module": "@jupyter-widgets/base",
      "_view_module_version": "1.2.0",
      "_view_name": "LayoutView",
      "align_content": null,
      "align_items": null,
      "align_self": null,
      "border": null,
      "bottom": null,
      "display": null,
      "flex": null,
      "flex_flow": null,
      "grid_area": null,
      "grid_auto_columns": null,
      "grid_auto_flow": null,
      "grid_auto_rows": null,
      "grid_column": null,
      "grid_gap": null,
      "grid_row": null,
      "grid_template_areas": null,
      "grid_template_columns": null,
      "grid_template_rows": null,
      "height": null,
      "justify_content": null,
      "justify_items": null,
      "left": null,
      "margin": null,
      "max_height": null,
      "max_width": null,
      "min_height": null,
      "min_width": null,
      "object_fit": null,
      "object_position": null,
      "order": null,
      "overflow": null,
      "overflow_x": null,
      "overflow_y": null,
      "padding": null,
      "right": null,
      "top": null,
      "visibility": null,
      "width": null
     }
    },
    "abbe481e375842c0a95ab8816ae90694": {
     "model_module": "@jupyter-widgets/controls",
     "model_module_version": "1.5.0",
     "model_name": "HTMLModel",
     "state": {
      "_dom_classes": [],
      "_model_module": "@jupyter-widgets/controls",
      "_model_module_version": "1.5.0",
      "_model_name": "HTMLModel",
      "_view_count": null,
      "_view_module": "@jupyter-widgets/controls",
      "_view_module_version": "1.5.0",
      "_view_name": "HTMLView",
      "description": "",
      "description_tooltip": null,
      "layout": "IPY_MODEL_20cacbeebfac41c5806161041094200c",
      "placeholder": "​",
      "style": "IPY_MODEL_8e151b5ef1754e48bb82270e103ffd3e",
      "value": " 53/275 [00:42&lt;02:50,  1.30it/s]"
     }
    },
    "ac321d1e92624af5b3c35d5db1c9eee3": {
     "model_module": "@jupyter-widgets/base",
     "model_module_version": "1.2.0",
     "model_name": "LayoutModel",
     "state": {
      "_model_module": "@jupyter-widgets/base",
      "_model_module_version": "1.2.0",
      "_model_name": "LayoutModel",
      "_view_count": null,
      "_view_module": "@jupyter-widgets/base",
      "_view_module_version": "1.2.0",
      "_view_name": "LayoutView",
      "align_content": null,
      "align_items": null,
      "align_self": null,
      "border": null,
      "bottom": null,
      "display": null,
      "flex": null,
      "flex_flow": null,
      "grid_area": null,
      "grid_auto_columns": null,
      "grid_auto_flow": null,
      "grid_auto_rows": null,
      "grid_column": null,
      "grid_gap": null,
      "grid_row": null,
      "grid_template_areas": null,
      "grid_template_columns": null,
      "grid_template_rows": null,
      "height": null,
      "justify_content": null,
      "justify_items": null,
      "left": null,
      "margin": null,
      "max_height": null,
      "max_width": null,
      "min_height": null,
      "min_width": null,
      "object_fit": null,
      "object_position": null,
      "order": null,
      "overflow": null,
      "overflow_x": null,
      "overflow_y": null,
      "padding": null,
      "right": null,
      "top": null,
      "visibility": null,
      "width": null
     }
    },
    "ac43d374f2934b1fbfdb118af83a67ff": {
     "model_module": "@jupyter-widgets/controls",
     "model_module_version": "1.5.0",
     "model_name": "FloatProgressModel",
     "state": {
      "_dom_classes": [],
      "_model_module": "@jupyter-widgets/controls",
      "_model_module_version": "1.5.0",
      "_model_name": "FloatProgressModel",
      "_view_count": null,
      "_view_module": "@jupyter-widgets/controls",
      "_view_module_version": "1.5.0",
      "_view_name": "ProgressView",
      "bar_style": "success",
      "description": "",
      "description_tooltip": null,
      "layout": "IPY_MODEL_b4f1e95a97b74933ab486382851f0600",
      "max": 69,
      "min": 0,
      "orientation": "horizontal",
      "style": "IPY_MODEL_a05ce3db03ae45fb855aad4931cbaccf",
      "value": 69
     }
    },
    "ac4e525d3687400baff67d0091f8b143": {
     "model_module": "@jupyter-widgets/controls",
     "model_module_version": "1.5.0",
     "model_name": "HTMLModel",
     "state": {
      "_dom_classes": [],
      "_model_module": "@jupyter-widgets/controls",
      "_model_module_version": "1.5.0",
      "_model_name": "HTMLModel",
      "_view_count": null,
      "_view_module": "@jupyter-widgets/controls",
      "_view_module_version": "1.5.0",
      "_view_name": "HTMLView",
      "description": "",
      "description_tooltip": null,
      "layout": "IPY_MODEL_1f5aad4267b44d88af648d7de690c7a8",
      "placeholder": "​",
      "style": "IPY_MODEL_f4936079d79a47e29bad65a1d285baf0",
      "value": " 4400/4400 [00:05&lt;00:00, 761.05 examples/s]"
     }
    },
    "ac8ce8ec89844562b98a88604aa26ebe": {
     "model_module": "@jupyter-widgets/controls",
     "model_module_version": "1.5.0",
     "model_name": "HBoxModel",
     "state": {
      "_dom_classes": [],
      "_model_module": "@jupyter-widgets/controls",
      "_model_module_version": "1.5.0",
      "_model_name": "HBoxModel",
      "_view_count": null,
      "_view_module": "@jupyter-widgets/controls",
      "_view_module_version": "1.5.0",
      "_view_name": "HBoxView",
      "box_style": "",
      "children": [
       "IPY_MODEL_d0745669634f4357ac4a84b895d029d2",
       "IPY_MODEL_5ca715115a6b44e8912068b4037a5bf9",
       "IPY_MODEL_3ad9133534f7476c8ec59f6f7c5bf78c"
      ],
      "layout": "IPY_MODEL_a9849f40935c48de94b3e9b9ef6ec927"
     }
    },
    "ad2fbcb20fd44e2fa7a972060c086fe1": {
     "model_module": "@jupyter-widgets/controls",
     "model_module_version": "1.5.0",
     "model_name": "HTMLModel",
     "state": {
      "_dom_classes": [],
      "_model_module": "@jupyter-widgets/controls",
      "_model_module_version": "1.5.0",
      "_model_name": "HTMLModel",
      "_view_count": null,
      "_view_module": "@jupyter-widgets/controls",
      "_view_module_version": "1.5.0",
      "_view_name": "HTMLView",
      "description": "",
      "description_tooltip": null,
      "layout": "IPY_MODEL_289ab6efae4747dba561658fe0cd59a1",
      "placeholder": "​",
      "style": "IPY_MODEL_b452c0a43b7a423b866e6d2289d2ea46",
      "value": "100%"
     }
    },
    "af944263854449529e3de5c6ed179616": {
     "model_module": "@jupyter-widgets/base",
     "model_module_version": "1.2.0",
     "model_name": "LayoutModel",
     "state": {
      "_model_module": "@jupyter-widgets/base",
      "_model_module_version": "1.2.0",
      "_model_name": "LayoutModel",
      "_view_count": null,
      "_view_module": "@jupyter-widgets/base",
      "_view_module_version": "1.2.0",
      "_view_name": "LayoutView",
      "align_content": null,
      "align_items": null,
      "align_self": null,
      "border": null,
      "bottom": null,
      "display": null,
      "flex": null,
      "flex_flow": null,
      "grid_area": null,
      "grid_auto_columns": null,
      "grid_auto_flow": null,
      "grid_auto_rows": null,
      "grid_column": null,
      "grid_gap": null,
      "grid_row": null,
      "grid_template_areas": null,
      "grid_template_columns": null,
      "grid_template_rows": null,
      "height": null,
      "justify_content": null,
      "justify_items": null,
      "left": null,
      "margin": null,
      "max_height": null,
      "max_width": null,
      "min_height": null,
      "min_width": null,
      "object_fit": null,
      "object_position": null,
      "order": null,
      "overflow": null,
      "overflow_x": null,
      "overflow_y": null,
      "padding": null,
      "right": null,
      "top": null,
      "visibility": null,
      "width": null
     }
    },
    "b452c0a43b7a423b866e6d2289d2ea46": {
     "model_module": "@jupyter-widgets/controls",
     "model_module_version": "1.5.0",
     "model_name": "DescriptionStyleModel",
     "state": {
      "_model_module": "@jupyter-widgets/controls",
      "_model_module_version": "1.5.0",
      "_model_name": "DescriptionStyleModel",
      "_view_count": null,
      "_view_module": "@jupyter-widgets/base",
      "_view_module_version": "1.2.0",
      "_view_name": "StyleView",
      "description_width": ""
     }
    },
    "b4f1e95a97b74933ab486382851f0600": {
     "model_module": "@jupyter-widgets/base",
     "model_module_version": "1.2.0",
     "model_name": "LayoutModel",
     "state": {
      "_model_module": "@jupyter-widgets/base",
      "_model_module_version": "1.2.0",
      "_model_name": "LayoutModel",
      "_view_count": null,
      "_view_module": "@jupyter-widgets/base",
      "_view_module_version": "1.2.0",
      "_view_name": "LayoutView",
      "align_content": null,
      "align_items": null,
      "align_self": null,
      "border": null,
      "bottom": null,
      "display": null,
      "flex": null,
      "flex_flow": null,
      "grid_area": null,
      "grid_auto_columns": null,
      "grid_auto_flow": null,
      "grid_auto_rows": null,
      "grid_column": null,
      "grid_gap": null,
      "grid_row": null,
      "grid_template_areas": null,
      "grid_template_columns": null,
      "grid_template_rows": null,
      "height": null,
      "justify_content": null,
      "justify_items": null,
      "left": null,
      "margin": null,
      "max_height": null,
      "max_width": null,
      "min_height": null,
      "min_width": null,
      "object_fit": null,
      "object_position": null,
      "order": null,
      "overflow": null,
      "overflow_x": null,
      "overflow_y": null,
      "padding": null,
      "right": null,
      "top": null,
      "visibility": null,
      "width": null
     }
    },
    "b4f255c0a04c409f994260d5858f2a2f": {
     "model_module": "@jupyter-widgets/controls",
     "model_module_version": "1.5.0",
     "model_name": "DescriptionStyleModel",
     "state": {
      "_model_module": "@jupyter-widgets/controls",
      "_model_module_version": "1.5.0",
      "_model_name": "DescriptionStyleModel",
      "_view_count": null,
      "_view_module": "@jupyter-widgets/base",
      "_view_module_version": "1.2.0",
      "_view_name": "StyleView",
      "description_width": ""
     }
    },
    "b59b9e236a5d4e7dbf20067c37e17f3d": {
     "model_module": "@jupyter-widgets/base",
     "model_module_version": "1.2.0",
     "model_name": "LayoutModel",
     "state": {
      "_model_module": "@jupyter-widgets/base",
      "_model_module_version": "1.2.0",
      "_model_name": "LayoutModel",
      "_view_count": null,
      "_view_module": "@jupyter-widgets/base",
      "_view_module_version": "1.2.0",
      "_view_name": "LayoutView",
      "align_content": null,
      "align_items": null,
      "align_self": null,
      "border": null,
      "bottom": null,
      "display": null,
      "flex": null,
      "flex_flow": null,
      "grid_area": null,
      "grid_auto_columns": null,
      "grid_auto_flow": null,
      "grid_auto_rows": null,
      "grid_column": null,
      "grid_gap": null,
      "grid_row": null,
      "grid_template_areas": null,
      "grid_template_columns": null,
      "grid_template_rows": null,
      "height": null,
      "justify_content": null,
      "justify_items": null,
      "left": null,
      "margin": null,
      "max_height": null,
      "max_width": null,
      "min_height": null,
      "min_width": null,
      "object_fit": null,
      "object_position": null,
      "order": null,
      "overflow": null,
      "overflow_x": null,
      "overflow_y": null,
      "padding": null,
      "right": null,
      "top": null,
      "visibility": null,
      "width": null
     }
    },
    "b6105b7e90ca4023a70afcdd014de393": {
     "model_module": "@jupyter-widgets/controls",
     "model_module_version": "1.5.0",
     "model_name": "DescriptionStyleModel",
     "state": {
      "_model_module": "@jupyter-widgets/controls",
      "_model_module_version": "1.5.0",
      "_model_name": "DescriptionStyleModel",
      "_view_count": null,
      "_view_module": "@jupyter-widgets/base",
      "_view_module_version": "1.2.0",
      "_view_name": "StyleView",
      "description_width": ""
     }
    },
    "b6ae7808f814455c88776b35cfa988dd": {
     "model_module": "@jupyter-widgets/base",
     "model_module_version": "1.2.0",
     "model_name": "LayoutModel",
     "state": {
      "_model_module": "@jupyter-widgets/base",
      "_model_module_version": "1.2.0",
      "_model_name": "LayoutModel",
      "_view_count": null,
      "_view_module": "@jupyter-widgets/base",
      "_view_module_version": "1.2.0",
      "_view_name": "LayoutView",
      "align_content": null,
      "align_items": null,
      "align_self": null,
      "border": null,
      "bottom": null,
      "display": null,
      "flex": null,
      "flex_flow": null,
      "grid_area": null,
      "grid_auto_columns": null,
      "grid_auto_flow": null,
      "grid_auto_rows": null,
      "grid_column": null,
      "grid_gap": null,
      "grid_row": null,
      "grid_template_areas": null,
      "grid_template_columns": null,
      "grid_template_rows": null,
      "height": null,
      "justify_content": null,
      "justify_items": null,
      "left": null,
      "margin": null,
      "max_height": null,
      "max_width": null,
      "min_height": null,
      "min_width": null,
      "object_fit": null,
      "object_position": null,
      "order": null,
      "overflow": null,
      "overflow_x": null,
      "overflow_y": null,
      "padding": null,
      "right": null,
      "top": null,
      "visibility": null,
      "width": null
     }
    },
    "b6e2bbf166a84b5f8c217d6abf65303f": {
     "model_module": "@jupyter-widgets/base",
     "model_module_version": "1.2.0",
     "model_name": "LayoutModel",
     "state": {
      "_model_module": "@jupyter-widgets/base",
      "_model_module_version": "1.2.0",
      "_model_name": "LayoutModel",
      "_view_count": null,
      "_view_module": "@jupyter-widgets/base",
      "_view_module_version": "1.2.0",
      "_view_name": "LayoutView",
      "align_content": null,
      "align_items": null,
      "align_self": null,
      "border": null,
      "bottom": null,
      "display": null,
      "flex": null,
      "flex_flow": null,
      "grid_area": null,
      "grid_auto_columns": null,
      "grid_auto_flow": null,
      "grid_auto_rows": null,
      "grid_column": null,
      "grid_gap": null,
      "grid_row": null,
      "grid_template_areas": null,
      "grid_template_columns": null,
      "grid_template_rows": null,
      "height": null,
      "justify_content": null,
      "justify_items": null,
      "left": null,
      "margin": null,
      "max_height": null,
      "max_width": null,
      "min_height": null,
      "min_width": null,
      "object_fit": null,
      "object_position": null,
      "order": null,
      "overflow": null,
      "overflow_x": null,
      "overflow_y": null,
      "padding": null,
      "right": null,
      "top": null,
      "visibility": null,
      "width": null
     }
    },
    "b75c4c78bd1a4c3c874e58b95f68a483": {
     "model_module": "@jupyter-widgets/base",
     "model_module_version": "1.2.0",
     "model_name": "LayoutModel",
     "state": {
      "_model_module": "@jupyter-widgets/base",
      "_model_module_version": "1.2.0",
      "_model_name": "LayoutModel",
      "_view_count": null,
      "_view_module": "@jupyter-widgets/base",
      "_view_module_version": "1.2.0",
      "_view_name": "LayoutView",
      "align_content": null,
      "align_items": null,
      "align_self": null,
      "border": null,
      "bottom": null,
      "display": null,
      "flex": null,
      "flex_flow": null,
      "grid_area": null,
      "grid_auto_columns": null,
      "grid_auto_flow": null,
      "grid_auto_rows": null,
      "grid_column": null,
      "grid_gap": null,
      "grid_row": null,
      "grid_template_areas": null,
      "grid_template_columns": null,
      "grid_template_rows": null,
      "height": null,
      "justify_content": null,
      "justify_items": null,
      "left": null,
      "margin": null,
      "max_height": null,
      "max_width": null,
      "min_height": null,
      "min_width": null,
      "object_fit": null,
      "object_position": null,
      "order": null,
      "overflow": null,
      "overflow_x": null,
      "overflow_y": null,
      "padding": null,
      "right": null,
      "top": null,
      "visibility": null,
      "width": null
     }
    },
    "bb2b24e7dfaf4442a8b948401be3d736": {
     "model_module": "@jupyter-widgets/controls",
     "model_module_version": "1.5.0",
     "model_name": "HTMLModel",
     "state": {
      "_dom_classes": [],
      "_model_module": "@jupyter-widgets/controls",
      "_model_module_version": "1.5.0",
      "_model_name": "HTMLModel",
      "_view_count": null,
      "_view_module": "@jupyter-widgets/controls",
      "_view_module_version": "1.5.0",
      "_view_name": "HTMLView",
      "description": "",
      "description_tooltip": null,
      "layout": "IPY_MODEL_17459f6962774d9b8459b60799846cf5",
      "placeholder": "​",
      "style": "IPY_MODEL_f3b2b9f895b342468f1182ef42cf82be",
      "value": "100%"
     }
    },
    "bdfd908c4d6645ae8248c332bd8106c2": {
     "model_module": "@jupyter-widgets/controls",
     "model_module_version": "1.5.0",
     "model_name": "DescriptionStyleModel",
     "state": {
      "_model_module": "@jupyter-widgets/controls",
      "_model_module_version": "1.5.0",
      "_model_name": "DescriptionStyleModel",
      "_view_count": null,
      "_view_module": "@jupyter-widgets/base",
      "_view_module_version": "1.2.0",
      "_view_name": "StyleView",
      "description_width": ""
     }
    },
    "be1d423fe1204977a29df56f28b06c43": {
     "model_module": "@jupyter-widgets/controls",
     "model_module_version": "1.5.0",
     "model_name": "FloatProgressModel",
     "state": {
      "_dom_classes": [],
      "_model_module": "@jupyter-widgets/controls",
      "_model_module_version": "1.5.0",
      "_model_name": "FloatProgressModel",
      "_view_count": null,
      "_view_module": "@jupyter-widgets/controls",
      "_view_module_version": "1.5.0",
      "_view_name": "ProgressView",
      "bar_style": "success",
      "description": "",
      "description_tooltip": null,
      "layout": "IPY_MODEL_bea0a458e9494b42b866377310ce1808",
      "max": 275,
      "min": 0,
      "orientation": "horizontal",
      "style": "IPY_MODEL_3f787f8a9a7a4ad29c6bdff72181232d",
      "value": 275
     }
    },
    "bea0a458e9494b42b866377310ce1808": {
     "model_module": "@jupyter-widgets/base",
     "model_module_version": "1.2.0",
     "model_name": "LayoutModel",
     "state": {
      "_model_module": "@jupyter-widgets/base",
      "_model_module_version": "1.2.0",
      "_model_name": "LayoutModel",
      "_view_count": null,
      "_view_module": "@jupyter-widgets/base",
      "_view_module_version": "1.2.0",
      "_view_name": "LayoutView",
      "align_content": null,
      "align_items": null,
      "align_self": null,
      "border": null,
      "bottom": null,
      "display": null,
      "flex": null,
      "flex_flow": null,
      "grid_area": null,
      "grid_auto_columns": null,
      "grid_auto_flow": null,
      "grid_auto_rows": null,
      "grid_column": null,
      "grid_gap": null,
      "grid_row": null,
      "grid_template_areas": null,
      "grid_template_columns": null,
      "grid_template_rows": null,
      "height": null,
      "justify_content": null,
      "justify_items": null,
      "left": null,
      "margin": null,
      "max_height": null,
      "max_width": null,
      "min_height": null,
      "min_width": null,
      "object_fit": null,
      "object_position": null,
      "order": null,
      "overflow": null,
      "overflow_x": null,
      "overflow_y": null,
      "padding": null,
      "right": null,
      "top": null,
      "visibility": null,
      "width": null
     }
    },
    "bf96d4c08a084422b2d7dde158630fa6": {
     "model_module": "@jupyter-widgets/controls",
     "model_module_version": "1.5.0",
     "model_name": "ProgressStyleModel",
     "state": {
      "_model_module": "@jupyter-widgets/controls",
      "_model_module_version": "1.5.0",
      "_model_name": "ProgressStyleModel",
      "_view_count": null,
      "_view_module": "@jupyter-widgets/base",
      "_view_module_version": "1.2.0",
      "_view_name": "StyleView",
      "bar_color": null,
      "description_width": ""
     }
    },
    "c13460d668c04e0aa865683d21a0c857": {
     "model_module": "@jupyter-widgets/controls",
     "model_module_version": "1.5.0",
     "model_name": "HTMLModel",
     "state": {
      "_dom_classes": [],
      "_model_module": "@jupyter-widgets/controls",
      "_model_module_version": "1.5.0",
      "_model_name": "HTMLModel",
      "_view_count": null,
      "_view_module": "@jupyter-widgets/controls",
      "_view_module_version": "1.5.0",
      "_view_name": "HTMLView",
      "description": "",
      "description_tooltip": null,
      "layout": "IPY_MODEL_2e088fb186ad48b0ad3a0789db55a29c",
      "placeholder": "​",
      "style": "IPY_MODEL_74030796b6654ca7860e56fef2c71cb0",
      "value": " 275/275 [03:34&lt;00:00,  1.28it/s]"
     }
    },
    "c2a2d30b33094e298640f7d3cdeae9ea": {
     "model_module": "@jupyter-widgets/controls",
     "model_module_version": "1.5.0",
     "model_name": "DescriptionStyleModel",
     "state": {
      "_model_module": "@jupyter-widgets/controls",
      "_model_module_version": "1.5.0",
      "_model_name": "DescriptionStyleModel",
      "_view_count": null,
      "_view_module": "@jupyter-widgets/base",
      "_view_module_version": "1.2.0",
      "_view_name": "StyleView",
      "description_width": ""
     }
    },
    "c2dedcc869424078a10889d330cf2f18": {
     "model_module": "@jupyter-widgets/controls",
     "model_module_version": "1.5.0",
     "model_name": "FloatProgressModel",
     "state": {
      "_dom_classes": [],
      "_model_module": "@jupyter-widgets/controls",
      "_model_module_version": "1.5.0",
      "_model_name": "FloatProgressModel",
      "_view_count": null,
      "_view_module": "@jupyter-widgets/controls",
      "_view_module_version": "1.5.0",
      "_view_name": "ProgressView",
      "bar_style": "success",
      "description": "",
      "description_tooltip": null,
      "layout": "IPY_MODEL_cea3f8e7e26b4181bc10a87192275f35",
      "max": 275,
      "min": 0,
      "orientation": "horizontal",
      "style": "IPY_MODEL_8b141a9497844764b757c65de0d41f12",
      "value": 275
     }
    },
    "c46e93195ed647c585d6cfc77718da93": {
     "model_module": "@jupyter-widgets/base",
     "model_module_version": "1.2.0",
     "model_name": "LayoutModel",
     "state": {
      "_model_module": "@jupyter-widgets/base",
      "_model_module_version": "1.2.0",
      "_model_name": "LayoutModel",
      "_view_count": null,
      "_view_module": "@jupyter-widgets/base",
      "_view_module_version": "1.2.0",
      "_view_name": "LayoutView",
      "align_content": null,
      "align_items": null,
      "align_self": null,
      "border": null,
      "bottom": null,
      "display": null,
      "flex": null,
      "flex_flow": null,
      "grid_area": null,
      "grid_auto_columns": null,
      "grid_auto_flow": null,
      "grid_auto_rows": null,
      "grid_column": null,
      "grid_gap": null,
      "grid_row": null,
      "grid_template_areas": null,
      "grid_template_columns": null,
      "grid_template_rows": null,
      "height": null,
      "justify_content": null,
      "justify_items": null,
      "left": null,
      "margin": null,
      "max_height": null,
      "max_width": null,
      "min_height": null,
      "min_width": null,
      "object_fit": null,
      "object_position": null,
      "order": null,
      "overflow": null,
      "overflow_x": null,
      "overflow_y": null,
      "padding": null,
      "right": null,
      "top": null,
      "visibility": null,
      "width": null
     }
    },
    "c545f32700464f178a917d3bad1b395b": {
     "model_module": "@jupyter-widgets/base",
     "model_module_version": "1.2.0",
     "model_name": "LayoutModel",
     "state": {
      "_model_module": "@jupyter-widgets/base",
      "_model_module_version": "1.2.0",
      "_model_name": "LayoutModel",
      "_view_count": null,
      "_view_module": "@jupyter-widgets/base",
      "_view_module_version": "1.2.0",
      "_view_name": "LayoutView",
      "align_content": null,
      "align_items": null,
      "align_self": null,
      "border": null,
      "bottom": null,
      "display": null,
      "flex": null,
      "flex_flow": null,
      "grid_area": null,
      "grid_auto_columns": null,
      "grid_auto_flow": null,
      "grid_auto_rows": null,
      "grid_column": null,
      "grid_gap": null,
      "grid_row": null,
      "grid_template_areas": null,
      "grid_template_columns": null,
      "grid_template_rows": null,
      "height": null,
      "justify_content": null,
      "justify_items": null,
      "left": null,
      "margin": null,
      "max_height": null,
      "max_width": null,
      "min_height": null,
      "min_width": null,
      "object_fit": null,
      "object_position": null,
      "order": null,
      "overflow": null,
      "overflow_x": null,
      "overflow_y": null,
      "padding": null,
      "right": null,
      "top": null,
      "visibility": null,
      "width": null
     }
    },
    "c6d9968921204357a68aa703cff4bd6b": {
     "model_module": "@jupyter-widgets/base",
     "model_module_version": "1.2.0",
     "model_name": "LayoutModel",
     "state": {
      "_model_module": "@jupyter-widgets/base",
      "_model_module_version": "1.2.0",
      "_model_name": "LayoutModel",
      "_view_count": null,
      "_view_module": "@jupyter-widgets/base",
      "_view_module_version": "1.2.0",
      "_view_name": "LayoutView",
      "align_content": null,
      "align_items": null,
      "align_self": null,
      "border": null,
      "bottom": null,
      "display": null,
      "flex": null,
      "flex_flow": null,
      "grid_area": null,
      "grid_auto_columns": null,
      "grid_auto_flow": null,
      "grid_auto_rows": null,
      "grid_column": null,
      "grid_gap": null,
      "grid_row": null,
      "grid_template_areas": null,
      "grid_template_columns": null,
      "grid_template_rows": null,
      "height": null,
      "justify_content": null,
      "justify_items": null,
      "left": null,
      "margin": null,
      "max_height": null,
      "max_width": null,
      "min_height": null,
      "min_width": null,
      "object_fit": null,
      "object_position": null,
      "order": null,
      "overflow": null,
      "overflow_x": null,
      "overflow_y": null,
      "padding": null,
      "right": null,
      "top": null,
      "visibility": null,
      "width": null
     }
    },
    "c79a21ba9f444c1ba15f97ea7a271e4f": {
     "model_module": "@jupyter-widgets/controls",
     "model_module_version": "1.5.0",
     "model_name": "FloatProgressModel",
     "state": {
      "_dom_classes": [],
      "_model_module": "@jupyter-widgets/controls",
      "_model_module_version": "1.5.0",
      "_model_name": "FloatProgressModel",
      "_view_count": null,
      "_view_module": "@jupyter-widgets/controls",
      "_view_module_version": "1.5.0",
      "_view_name": "ProgressView",
      "bar_style": "success",
      "description": "",
      "description_tooltip": null,
      "layout": "IPY_MODEL_83aa744a8973475ab411bf8ae2dfdecf",
      "max": 275,
      "min": 0,
      "orientation": "horizontal",
      "style": "IPY_MODEL_6a6add94f6c947e996cbac6fde5549ec",
      "value": 275
     }
    },
    "c7d39eb3098b4331a39cf4080904cd31": {
     "model_module": "@jupyter-widgets/controls",
     "model_module_version": "1.5.0",
     "model_name": "HTMLModel",
     "state": {
      "_dom_classes": [],
      "_model_module": "@jupyter-widgets/controls",
      "_model_module_version": "1.5.0",
      "_model_name": "HTMLModel",
      "_view_count": null,
      "_view_module": "@jupyter-widgets/controls",
      "_view_module_version": "1.5.0",
      "_view_name": "HTMLView",
      "description": "",
      "description_tooltip": null,
      "layout": "IPY_MODEL_cd4f0aa0f2dc4f3595e32a240656ac45",
      "placeholder": "​",
      "style": "IPY_MODEL_d32c651555524da3b3ed65fd021d9b23",
      "value": " 69/69 [00:17&lt;00:00,  4.23it/s]"
     }
    },
    "ca41dd1f6ef14e8fb7bb395f6b084a11": {
     "model_module": "@jupyter-widgets/controls",
     "model_module_version": "1.5.0",
     "model_name": "HBoxModel",
     "state": {
      "_dom_classes": [],
      "_model_module": "@jupyter-widgets/controls",
      "_model_module_version": "1.5.0",
      "_model_name": "HBoxModel",
      "_view_count": null,
      "_view_module": "@jupyter-widgets/controls",
      "_view_module_version": "1.5.0",
      "_view_name": "HBoxView",
      "box_style": "",
      "children": [
       "IPY_MODEL_64bdc4442eb84b75821b2e6b6aedb755",
       "IPY_MODEL_be1d423fe1204977a29df56f28b06c43",
       "IPY_MODEL_e07d0ce261a643f2a7e0aa0a5166f2f1"
      ],
      "layout": "IPY_MODEL_c46e93195ed647c585d6cfc77718da93"
     }
    },
    "cb6e41e8eb6642b082c1f0d77028aa78": {
     "model_module": "@jupyter-widgets/base",
     "model_module_version": "1.2.0",
     "model_name": "LayoutModel",
     "state": {
      "_model_module": "@jupyter-widgets/base",
      "_model_module_version": "1.2.0",
      "_model_name": "LayoutModel",
      "_view_count": null,
      "_view_module": "@jupyter-widgets/base",
      "_view_module_version": "1.2.0",
      "_view_name": "LayoutView",
      "align_content": null,
      "align_items": null,
      "align_self": null,
      "border": null,
      "bottom": null,
      "display": null,
      "flex": null,
      "flex_flow": null,
      "grid_area": null,
      "grid_auto_columns": null,
      "grid_auto_flow": null,
      "grid_auto_rows": null,
      "grid_column": null,
      "grid_gap": null,
      "grid_row": null,
      "grid_template_areas": null,
      "grid_template_columns": null,
      "grid_template_rows": null,
      "height": null,
      "justify_content": null,
      "justify_items": null,
      "left": null,
      "margin": null,
      "max_height": null,
      "max_width": null,
      "min_height": null,
      "min_width": null,
      "object_fit": null,
      "object_position": null,
      "order": null,
      "overflow": null,
      "overflow_x": null,
      "overflow_y": null,
      "padding": null,
      "right": null,
      "top": null,
      "visibility": null,
      "width": null
     }
    },
    "cb7b051a06b14f9d8386727fe1c7f092": {
     "model_module": "@jupyter-widgets/controls",
     "model_module_version": "1.5.0",
     "model_name": "ProgressStyleModel",
     "state": {
      "_model_module": "@jupyter-widgets/controls",
      "_model_module_version": "1.5.0",
      "_model_name": "ProgressStyleModel",
      "_view_count": null,
      "_view_module": "@jupyter-widgets/base",
      "_view_module_version": "1.2.0",
      "_view_name": "StyleView",
      "bar_color": null,
      "description_width": ""
     }
    },
    "cc9bb2e393e54737bb08acf670558279": {
     "model_module": "@jupyter-widgets/controls",
     "model_module_version": "1.5.0",
     "model_name": "DescriptionStyleModel",
     "state": {
      "_model_module": "@jupyter-widgets/controls",
      "_model_module_version": "1.5.0",
      "_model_name": "DescriptionStyleModel",
      "_view_count": null,
      "_view_module": "@jupyter-widgets/base",
      "_view_module_version": "1.2.0",
      "_view_name": "StyleView",
      "description_width": ""
     }
    },
    "cd4f0aa0f2dc4f3595e32a240656ac45": {
     "model_module": "@jupyter-widgets/base",
     "model_module_version": "1.2.0",
     "model_name": "LayoutModel",
     "state": {
      "_model_module": "@jupyter-widgets/base",
      "_model_module_version": "1.2.0",
      "_model_name": "LayoutModel",
      "_view_count": null,
      "_view_module": "@jupyter-widgets/base",
      "_view_module_version": "1.2.0",
      "_view_name": "LayoutView",
      "align_content": null,
      "align_items": null,
      "align_self": null,
      "border": null,
      "bottom": null,
      "display": null,
      "flex": null,
      "flex_flow": null,
      "grid_area": null,
      "grid_auto_columns": null,
      "grid_auto_flow": null,
      "grid_auto_rows": null,
      "grid_column": null,
      "grid_gap": null,
      "grid_row": null,
      "grid_template_areas": null,
      "grid_template_columns": null,
      "grid_template_rows": null,
      "height": null,
      "justify_content": null,
      "justify_items": null,
      "left": null,
      "margin": null,
      "max_height": null,
      "max_width": null,
      "min_height": null,
      "min_width": null,
      "object_fit": null,
      "object_position": null,
      "order": null,
      "overflow": null,
      "overflow_x": null,
      "overflow_y": null,
      "padding": null,
      "right": null,
      "top": null,
      "visibility": null,
      "width": null
     }
    },
    "cd7f356c30c2435b8e91e58dafef6674": {
     "model_module": "@jupyter-widgets/controls",
     "model_module_version": "1.5.0",
     "model_name": "HTMLModel",
     "state": {
      "_dom_classes": [],
      "_model_module": "@jupyter-widgets/controls",
      "_model_module_version": "1.5.0",
      "_model_name": "HTMLModel",
      "_view_count": null,
      "_view_module": "@jupyter-widgets/controls",
      "_view_module_version": "1.5.0",
      "_view_name": "HTMLView",
      "description": "",
      "description_tooltip": null,
      "layout": "IPY_MODEL_b6e2bbf166a84b5f8c217d6abf65303f",
      "placeholder": "​",
      "style": "IPY_MODEL_bdfd908c4d6645ae8248c332bd8106c2",
      "value": "100%"
     }
    },
    "cddccf237157446490725ed3bc7de2e2": {
     "model_module": "@jupyter-widgets/base",
     "model_module_version": "1.2.0",
     "model_name": "LayoutModel",
     "state": {
      "_model_module": "@jupyter-widgets/base",
      "_model_module_version": "1.2.0",
      "_model_name": "LayoutModel",
      "_view_count": null,
      "_view_module": "@jupyter-widgets/base",
      "_view_module_version": "1.2.0",
      "_view_name": "LayoutView",
      "align_content": null,
      "align_items": null,
      "align_self": null,
      "border": null,
      "bottom": null,
      "display": null,
      "flex": null,
      "flex_flow": null,
      "grid_area": null,
      "grid_auto_columns": null,
      "grid_auto_flow": null,
      "grid_auto_rows": null,
      "grid_column": null,
      "grid_gap": null,
      "grid_row": null,
      "grid_template_areas": null,
      "grid_template_columns": null,
      "grid_template_rows": null,
      "height": null,
      "justify_content": null,
      "justify_items": null,
      "left": null,
      "margin": null,
      "max_height": null,
      "max_width": null,
      "min_height": null,
      "min_width": null,
      "object_fit": null,
      "object_position": null,
      "order": null,
      "overflow": null,
      "overflow_x": null,
      "overflow_y": null,
      "padding": null,
      "right": null,
      "top": null,
      "visibility": null,
      "width": null
     }
    },
    "cea3f8e7e26b4181bc10a87192275f35": {
     "model_module": "@jupyter-widgets/base",
     "model_module_version": "1.2.0",
     "model_name": "LayoutModel",
     "state": {
      "_model_module": "@jupyter-widgets/base",
      "_model_module_version": "1.2.0",
      "_model_name": "LayoutModel",
      "_view_count": null,
      "_view_module": "@jupyter-widgets/base",
      "_view_module_version": "1.2.0",
      "_view_name": "LayoutView",
      "align_content": null,
      "align_items": null,
      "align_self": null,
      "border": null,
      "bottom": null,
      "display": null,
      "flex": null,
      "flex_flow": null,
      "grid_area": null,
      "grid_auto_columns": null,
      "grid_auto_flow": null,
      "grid_auto_rows": null,
      "grid_column": null,
      "grid_gap": null,
      "grid_row": null,
      "grid_template_areas": null,
      "grid_template_columns": null,
      "grid_template_rows": null,
      "height": null,
      "justify_content": null,
      "justify_items": null,
      "left": null,
      "margin": null,
      "max_height": null,
      "max_width": null,
      "min_height": null,
      "min_width": null,
      "object_fit": null,
      "object_position": null,
      "order": null,
      "overflow": null,
      "overflow_x": null,
      "overflow_y": null,
      "padding": null,
      "right": null,
      "top": null,
      "visibility": null,
      "width": null
     }
    },
    "cfad5b68f88749f7939c2c6bef06e25b": {
     "model_module": "@jupyter-widgets/controls",
     "model_module_version": "1.5.0",
     "model_name": "ProgressStyleModel",
     "state": {
      "_model_module": "@jupyter-widgets/controls",
      "_model_module_version": "1.5.0",
      "_model_name": "ProgressStyleModel",
      "_view_count": null,
      "_view_module": "@jupyter-widgets/base",
      "_view_module_version": "1.2.0",
      "_view_name": "StyleView",
      "bar_color": null,
      "description_width": ""
     }
    },
    "d0745669634f4357ac4a84b895d029d2": {
     "model_module": "@jupyter-widgets/controls",
     "model_module_version": "1.5.0",
     "model_name": "HTMLModel",
     "state": {
      "_dom_classes": [],
      "_model_module": "@jupyter-widgets/controls",
      "_model_module_version": "1.5.0",
      "_model_name": "HTMLModel",
      "_view_count": null,
      "_view_module": "@jupyter-widgets/controls",
      "_view_module_version": "1.5.0",
      "_view_name": "HTMLView",
      "description": "",
      "description_tooltip": null,
      "layout": "IPY_MODEL_28d6d10c5e554ee0a3b103959531e33b",
      "placeholder": "​",
      "style": "IPY_MODEL_841b94c4879e462b96fa1c820cc13f88",
      "value": "100%"
     }
    },
    "d32c651555524da3b3ed65fd021d9b23": {
     "model_module": "@jupyter-widgets/controls",
     "model_module_version": "1.5.0",
     "model_name": "DescriptionStyleModel",
     "state": {
      "_model_module": "@jupyter-widgets/controls",
      "_model_module_version": "1.5.0",
      "_model_name": "DescriptionStyleModel",
      "_view_count": null,
      "_view_module": "@jupyter-widgets/base",
      "_view_module_version": "1.2.0",
      "_view_name": "StyleView",
      "description_width": ""
     }
    },
    "d4514ff1e93a497585a3edfb1f2b4683": {
     "model_module": "@jupyter-widgets/base",
     "model_module_version": "1.2.0",
     "model_name": "LayoutModel",
     "state": {
      "_model_module": "@jupyter-widgets/base",
      "_model_module_version": "1.2.0",
      "_model_name": "LayoutModel",
      "_view_count": null,
      "_view_module": "@jupyter-widgets/base",
      "_view_module_version": "1.2.0",
      "_view_name": "LayoutView",
      "align_content": null,
      "align_items": null,
      "align_self": null,
      "border": null,
      "bottom": null,
      "display": null,
      "flex": null,
      "flex_flow": null,
      "grid_area": null,
      "grid_auto_columns": null,
      "grid_auto_flow": null,
      "grid_auto_rows": null,
      "grid_column": null,
      "grid_gap": null,
      "grid_row": null,
      "grid_template_areas": null,
      "grid_template_columns": null,
      "grid_template_rows": null,
      "height": null,
      "justify_content": null,
      "justify_items": null,
      "left": null,
      "margin": null,
      "max_height": null,
      "max_width": null,
      "min_height": null,
      "min_width": null,
      "object_fit": null,
      "object_position": null,
      "order": null,
      "overflow": null,
      "overflow_x": null,
      "overflow_y": null,
      "padding": null,
      "right": null,
      "top": null,
      "visibility": null,
      "width": null
     }
    },
    "d64ea0f870b346cbab841033e98e7c37": {
     "model_module": "@jupyter-widgets/controls",
     "model_module_version": "1.5.0",
     "model_name": "FloatProgressModel",
     "state": {
      "_dom_classes": [],
      "_model_module": "@jupyter-widgets/controls",
      "_model_module_version": "1.5.0",
      "_model_name": "FloatProgressModel",
      "_view_count": null,
      "_view_module": "@jupyter-widgets/controls",
      "_view_module_version": "1.5.0",
      "_view_name": "ProgressView",
      "bar_style": "success",
      "description": "",
      "description_tooltip": null,
      "layout": "IPY_MODEL_b59b9e236a5d4e7dbf20067c37e17f3d",
      "max": 250,
      "min": 0,
      "orientation": "horizontal",
      "style": "IPY_MODEL_f3fe75336acc4838a0ee521020862694",
      "value": 250
     }
    },
    "d6a5de039188452699eab8abb064559c": {
     "model_module": "@jupyter-widgets/base",
     "model_module_version": "1.2.0",
     "model_name": "LayoutModel",
     "state": {
      "_model_module": "@jupyter-widgets/base",
      "_model_module_version": "1.2.0",
      "_model_name": "LayoutModel",
      "_view_count": null,
      "_view_module": "@jupyter-widgets/base",
      "_view_module_version": "1.2.0",
      "_view_name": "LayoutView",
      "align_content": null,
      "align_items": null,
      "align_self": null,
      "border": null,
      "bottom": null,
      "display": null,
      "flex": null,
      "flex_flow": null,
      "grid_area": null,
      "grid_auto_columns": null,
      "grid_auto_flow": null,
      "grid_auto_rows": null,
      "grid_column": null,
      "grid_gap": null,
      "grid_row": null,
      "grid_template_areas": null,
      "grid_template_columns": null,
      "grid_template_rows": null,
      "height": null,
      "justify_content": null,
      "justify_items": null,
      "left": null,
      "margin": null,
      "max_height": null,
      "max_width": null,
      "min_height": null,
      "min_width": null,
      "object_fit": null,
      "object_position": null,
      "order": null,
      "overflow": null,
      "overflow_x": null,
      "overflow_y": null,
      "padding": null,
      "right": null,
      "top": null,
      "visibility": null,
      "width": null
     }
    },
    "dc5eb0f78a344600b0facab6278c89d6": {
     "model_module": "@jupyter-widgets/controls",
     "model_module_version": "1.5.0",
     "model_name": "HTMLModel",
     "state": {
      "_dom_classes": [],
      "_model_module": "@jupyter-widgets/controls",
      "_model_module_version": "1.5.0",
      "_model_name": "HTMLModel",
      "_view_count": null,
      "_view_module": "@jupyter-widgets/controls",
      "_view_module_version": "1.5.0",
      "_view_name": "HTMLView",
      "description": "",
      "description_tooltip": null,
      "layout": "IPY_MODEL_8b1aa15f6d5a4984927651fcdcb48abd",
      "placeholder": "​",
      "style": "IPY_MODEL_0a42a8c1ff544d998de5a65add878912",
      "value": "100%"
     }
    },
    "dd5ff253a02f425f9798651d6b3b354d": {
     "model_module": "@jupyter-widgets/controls",
     "model_module_version": "1.5.0",
     "model_name": "FloatProgressModel",
     "state": {
      "_dom_classes": [],
      "_model_module": "@jupyter-widgets/controls",
      "_model_module_version": "1.5.0",
      "_model_name": "FloatProgressModel",
      "_view_count": null,
      "_view_module": "@jupyter-widgets/controls",
      "_view_module_version": "1.5.0",
      "_view_name": "ProgressView",
      "bar_style": "success",
      "description": "",
      "description_tooltip": null,
      "layout": "IPY_MODEL_1ffe907695714167a956d1be8cc3ab0e",
      "max": 1100,
      "min": 0,
      "orientation": "horizontal",
      "style": "IPY_MODEL_2f02c43f2f784ae9a87e6b5ddfc3cdb6",
      "value": 1100
     }
    },
    "de0ee2dc2b4b46e18b8035ed1c207d0b": {
     "model_module": "@jupyter-widgets/controls",
     "model_module_version": "1.5.0",
     "model_name": "DescriptionStyleModel",
     "state": {
      "_model_module": "@jupyter-widgets/controls",
      "_model_module_version": "1.5.0",
      "_model_name": "DescriptionStyleModel",
      "_view_count": null,
      "_view_module": "@jupyter-widgets/base",
      "_view_module_version": "1.2.0",
      "_view_name": "StyleView",
      "description_width": ""
     }
    },
    "df82e8d0b6d94d18845c65330c342d3e": {
     "model_module": "@jupyter-widgets/controls",
     "model_module_version": "1.5.0",
     "model_name": "HBoxModel",
     "state": {
      "_dom_classes": [],
      "_model_module": "@jupyter-widgets/controls",
      "_model_module_version": "1.5.0",
      "_model_name": "HBoxModel",
      "_view_count": null,
      "_view_module": "@jupyter-widgets/controls",
      "_view_module_version": "1.5.0",
      "_view_name": "HBoxView",
      "box_style": "",
      "children": [
       "IPY_MODEL_07702ed9c755477fb6b6a446c81640e4",
       "IPY_MODEL_03746667ace44f73958360712f32b03b",
       "IPY_MODEL_0d9e18180a734a35ad38e67b7ce840ab"
      ],
      "layout": "IPY_MODEL_131fec2bc4e64319a4d60d63de7bc1fb"
     }
    },
    "e07d0ce261a643f2a7e0aa0a5166f2f1": {
     "model_module": "@jupyter-widgets/controls",
     "model_module_version": "1.5.0",
     "model_name": "HTMLModel",
     "state": {
      "_dom_classes": [],
      "_model_module": "@jupyter-widgets/controls",
      "_model_module_version": "1.5.0",
      "_model_name": "HTMLModel",
      "_view_count": null,
      "_view_module": "@jupyter-widgets/controls",
      "_view_module_version": "1.5.0",
      "_view_name": "HTMLView",
      "description": "",
      "description_tooltip": null,
      "layout": "IPY_MODEL_52a70595693d447bb6b97fb562f2a36f",
      "placeholder": "​",
      "style": "IPY_MODEL_914dd349630e4ad8ab9c39c3508ab287",
      "value": " 275/275 [03:34&lt;00:00,  1.29it/s]"
     }
    },
    "e23dbe6bff164ccb877ac3000908aa51": {
     "model_module": "@jupyter-widgets/controls",
     "model_module_version": "1.5.0",
     "model_name": "DescriptionStyleModel",
     "state": {
      "_model_module": "@jupyter-widgets/controls",
      "_model_module_version": "1.5.0",
      "_model_name": "DescriptionStyleModel",
      "_view_count": null,
      "_view_module": "@jupyter-widgets/base",
      "_view_module_version": "1.2.0",
      "_view_name": "StyleView",
      "description_width": ""
     }
    },
    "e5323085d6054bbe8615d4649a52c629": {
     "model_module": "@jupyter-widgets/base",
     "model_module_version": "1.2.0",
     "model_name": "LayoutModel",
     "state": {
      "_model_module": "@jupyter-widgets/base",
      "_model_module_version": "1.2.0",
      "_model_name": "LayoutModel",
      "_view_count": null,
      "_view_module": "@jupyter-widgets/base",
      "_view_module_version": "1.2.0",
      "_view_name": "LayoutView",
      "align_content": null,
      "align_items": null,
      "align_self": null,
      "border": null,
      "bottom": null,
      "display": null,
      "flex": null,
      "flex_flow": null,
      "grid_area": null,
      "grid_auto_columns": null,
      "grid_auto_flow": null,
      "grid_auto_rows": null,
      "grid_column": null,
      "grid_gap": null,
      "grid_row": null,
      "grid_template_areas": null,
      "grid_template_columns": null,
      "grid_template_rows": null,
      "height": null,
      "justify_content": null,
      "justify_items": null,
      "left": null,
      "margin": null,
      "max_height": null,
      "max_width": null,
      "min_height": null,
      "min_width": null,
      "object_fit": null,
      "object_position": null,
      "order": null,
      "overflow": null,
      "overflow_x": null,
      "overflow_y": null,
      "padding": null,
      "right": null,
      "top": null,
      "visibility": null,
      "width": null
     }
    },
    "e54923107720481aa4a5c442b7ab82f9": {
     "model_module": "@jupyter-widgets/base",
     "model_module_version": "1.2.0",
     "model_name": "LayoutModel",
     "state": {
      "_model_module": "@jupyter-widgets/base",
      "_model_module_version": "1.2.0",
      "_model_name": "LayoutModel",
      "_view_count": null,
      "_view_module": "@jupyter-widgets/base",
      "_view_module_version": "1.2.0",
      "_view_name": "LayoutView",
      "align_content": null,
      "align_items": null,
      "align_self": null,
      "border": null,
      "bottom": null,
      "display": null,
      "flex": null,
      "flex_flow": null,
      "grid_area": null,
      "grid_auto_columns": null,
      "grid_auto_flow": null,
      "grid_auto_rows": null,
      "grid_column": null,
      "grid_gap": null,
      "grid_row": null,
      "grid_template_areas": null,
      "grid_template_columns": null,
      "grid_template_rows": null,
      "height": null,
      "justify_content": null,
      "justify_items": null,
      "left": null,
      "margin": null,
      "max_height": null,
      "max_width": null,
      "min_height": null,
      "min_width": null,
      "object_fit": null,
      "object_position": null,
      "order": null,
      "overflow": null,
      "overflow_x": null,
      "overflow_y": null,
      "padding": null,
      "right": null,
      "top": null,
      "visibility": null,
      "width": null
     }
    },
    "e6eb4d93742b49eea538102acd7e4ed6": {
     "model_module": "@jupyter-widgets/controls",
     "model_module_version": "1.5.0",
     "model_name": "HBoxModel",
     "state": {
      "_dom_classes": [],
      "_model_module": "@jupyter-widgets/controls",
      "_model_module_version": "1.5.0",
      "_model_name": "HBoxModel",
      "_view_count": null,
      "_view_module": "@jupyter-widgets/controls",
      "_view_module_version": "1.5.0",
      "_view_name": "HBoxView",
      "box_style": "",
      "children": [
       "IPY_MODEL_79fdcb34a8e44c17a0fb486d99e0b547",
       "IPY_MODEL_888d2bf741d1455eba61b611713adeed",
       "IPY_MODEL_f7a72dea67af4fcf9268e289dbc688ab"
      ],
      "layout": "IPY_MODEL_f153c5d6314646c88bfe62e6ef017381"
     }
    },
    "e7efe0edaf4e4a45b57ce802df8ca17f": {
     "model_module": "@jupyter-widgets/controls",
     "model_module_version": "1.5.0",
     "model_name": "HBoxModel",
     "state": {
      "_dom_classes": [],
      "_model_module": "@jupyter-widgets/controls",
      "_model_module_version": "1.5.0",
      "_model_name": "HBoxModel",
      "_view_count": null,
      "_view_module": "@jupyter-widgets/controls",
      "_view_module_version": "1.5.0",
      "_view_name": "HBoxView",
      "box_style": "",
      "children": [
       "IPY_MODEL_860377ec4a7141629a2826bd1f174c50",
       "IPY_MODEL_5850f29af1534b06aea934120e6cfe10",
       "IPY_MODEL_fde2097b960e438484ccc41b5b30e8f3"
      ],
      "layout": "IPY_MODEL_4afe01929d3a496b9a86901c150bcfe5"
     }
    },
    "e8a35a72a9954cdab4c3a1c37325e413": {
     "model_module": "@jupyter-widgets/controls",
     "model_module_version": "1.5.0",
     "model_name": "HBoxModel",
     "state": {
      "_dom_classes": [],
      "_model_module": "@jupyter-widgets/controls",
      "_model_module_version": "1.5.0",
      "_model_name": "HBoxModel",
      "_view_count": null,
      "_view_module": "@jupyter-widgets/controls",
      "_view_module_version": "1.5.0",
      "_view_name": "HBoxView",
      "box_style": "",
      "children": [
       "IPY_MODEL_3938001fd147401d926f9912b9e32c99",
       "IPY_MODEL_8829ffe8efb94c568f3c2fa8e3cf7109",
       "IPY_MODEL_974c09d4a0b04e848cfc26615efebf3d"
      ],
      "layout": "IPY_MODEL_85ceeee910ed4064a852b98c535aa912"
     }
    },
    "ea00578157794dfdb624a66c22bf0234": {
     "model_module": "@jupyter-widgets/controls",
     "model_module_version": "1.5.0",
     "model_name": "FloatProgressModel",
     "state": {
      "_dom_classes": [],
      "_model_module": "@jupyter-widgets/controls",
      "_model_module_version": "1.5.0",
      "_model_name": "FloatProgressModel",
      "_view_count": null,
      "_view_module": "@jupyter-widgets/controls",
      "_view_module_version": "1.5.0",
      "_view_name": "ProgressView",
      "bar_style": "success",
      "description": "",
      "description_tooltip": null,
      "layout": "IPY_MODEL_6968ba98dbdf41539f0a03868b46ac40",
      "max": 275,
      "min": 0,
      "orientation": "horizontal",
      "style": "IPY_MODEL_cfad5b68f88749f7939c2c6bef06e25b",
      "value": 275
     }
    },
    "ee0ae4a0f2c4439e97498330f2ed9cb7": {
     "model_module": "@jupyter-widgets/controls",
     "model_module_version": "1.5.0",
     "model_name": "DescriptionStyleModel",
     "state": {
      "_model_module": "@jupyter-widgets/controls",
      "_model_module_version": "1.5.0",
      "_model_name": "DescriptionStyleModel",
      "_view_count": null,
      "_view_module": "@jupyter-widgets/base",
      "_view_module_version": "1.2.0",
      "_view_name": "StyleView",
      "description_width": ""
     }
    },
    "f153c5d6314646c88bfe62e6ef017381": {
     "model_module": "@jupyter-widgets/base",
     "model_module_version": "1.2.0",
     "model_name": "LayoutModel",
     "state": {
      "_model_module": "@jupyter-widgets/base",
      "_model_module_version": "1.2.0",
      "_model_name": "LayoutModel",
      "_view_count": null,
      "_view_module": "@jupyter-widgets/base",
      "_view_module_version": "1.2.0",
      "_view_name": "LayoutView",
      "align_content": null,
      "align_items": null,
      "align_self": null,
      "border": null,
      "bottom": null,
      "display": null,
      "flex": null,
      "flex_flow": null,
      "grid_area": null,
      "grid_auto_columns": null,
      "grid_auto_flow": null,
      "grid_auto_rows": null,
      "grid_column": null,
      "grid_gap": null,
      "grid_row": null,
      "grid_template_areas": null,
      "grid_template_columns": null,
      "grid_template_rows": null,
      "height": null,
      "justify_content": null,
      "justify_items": null,
      "left": null,
      "margin": null,
      "max_height": null,
      "max_width": null,
      "min_height": null,
      "min_width": null,
      "object_fit": null,
      "object_position": null,
      "order": null,
      "overflow": null,
      "overflow_x": null,
      "overflow_y": null,
      "padding": null,
      "right": null,
      "top": null,
      "visibility": null,
      "width": null
     }
    },
    "f17f86dd0be74fbda0eab61d4fb0e856": {
     "model_module": "@jupyter-widgets/controls",
     "model_module_version": "1.5.0",
     "model_name": "HTMLModel",
     "state": {
      "_dom_classes": [],
      "_model_module": "@jupyter-widgets/controls",
      "_model_module_version": "1.5.0",
      "_model_name": "HTMLModel",
      "_view_count": null,
      "_view_module": "@jupyter-widgets/controls",
      "_view_module_version": "1.5.0",
      "_view_name": "HTMLView",
      "description": "",
      "description_tooltip": null,
      "layout": "IPY_MODEL_75be71c431d34d509114c99f91d57335",
      "placeholder": "​",
      "style": "IPY_MODEL_32516524b51c496faf9b774addcd4899",
      "value": " 275/275 [03:40&lt;00:00,  1.24it/s]"
     }
    },
    "f1f159b01e3d496a80c0d5c92730eebe": {
     "model_module": "@jupyter-widgets/base",
     "model_module_version": "1.2.0",
     "model_name": "LayoutModel",
     "state": {
      "_model_module": "@jupyter-widgets/base",
      "_model_module_version": "1.2.0",
      "_model_name": "LayoutModel",
      "_view_count": null,
      "_view_module": "@jupyter-widgets/base",
      "_view_module_version": "1.2.0",
      "_view_name": "LayoutView",
      "align_content": null,
      "align_items": null,
      "align_self": null,
      "border": null,
      "bottom": null,
      "display": null,
      "flex": null,
      "flex_flow": null,
      "grid_area": null,
      "grid_auto_columns": null,
      "grid_auto_flow": null,
      "grid_auto_rows": null,
      "grid_column": null,
      "grid_gap": null,
      "grid_row": null,
      "grid_template_areas": null,
      "grid_template_columns": null,
      "grid_template_rows": null,
      "height": null,
      "justify_content": null,
      "justify_items": null,
      "left": null,
      "margin": null,
      "max_height": null,
      "max_width": null,
      "min_height": null,
      "min_width": null,
      "object_fit": null,
      "object_position": null,
      "order": null,
      "overflow": null,
      "overflow_x": null,
      "overflow_y": null,
      "padding": null,
      "right": null,
      "top": null,
      "visibility": null,
      "width": null
     }
    },
    "f2a0e43ddb1748a08fe0e6ef529e7387": {
     "model_module": "@jupyter-widgets/controls",
     "model_module_version": "1.5.0",
     "model_name": "DescriptionStyleModel",
     "state": {
      "_model_module": "@jupyter-widgets/controls",
      "_model_module_version": "1.5.0",
      "_model_name": "DescriptionStyleModel",
      "_view_count": null,
      "_view_module": "@jupyter-widgets/base",
      "_view_module_version": "1.2.0",
      "_view_name": "StyleView",
      "description_width": ""
     }
    },
    "f3b2b9f895b342468f1182ef42cf82be": {
     "model_module": "@jupyter-widgets/controls",
     "model_module_version": "1.5.0",
     "model_name": "DescriptionStyleModel",
     "state": {
      "_model_module": "@jupyter-widgets/controls",
      "_model_module_version": "1.5.0",
      "_model_name": "DescriptionStyleModel",
      "_view_count": null,
      "_view_module": "@jupyter-widgets/base",
      "_view_module_version": "1.2.0",
      "_view_name": "StyleView",
      "description_width": ""
     }
    },
    "f3fe75336acc4838a0ee521020862694": {
     "model_module": "@jupyter-widgets/controls",
     "model_module_version": "1.5.0",
     "model_name": "ProgressStyleModel",
     "state": {
      "_model_module": "@jupyter-widgets/controls",
      "_model_module_version": "1.5.0",
      "_model_name": "ProgressStyleModel",
      "_view_count": null,
      "_view_module": "@jupyter-widgets/base",
      "_view_module_version": "1.2.0",
      "_view_name": "StyleView",
      "bar_color": null,
      "description_width": ""
     }
    },
    "f400be002cc946fda46739392abaabff": {
     "model_module": "@jupyter-widgets/base",
     "model_module_version": "1.2.0",
     "model_name": "LayoutModel",
     "state": {
      "_model_module": "@jupyter-widgets/base",
      "_model_module_version": "1.2.0",
      "_model_name": "LayoutModel",
      "_view_count": null,
      "_view_module": "@jupyter-widgets/base",
      "_view_module_version": "1.2.0",
      "_view_name": "LayoutView",
      "align_content": null,
      "align_items": null,
      "align_self": null,
      "border": null,
      "bottom": null,
      "display": null,
      "flex": null,
      "flex_flow": null,
      "grid_area": null,
      "grid_auto_columns": null,
      "grid_auto_flow": null,
      "grid_auto_rows": null,
      "grid_column": null,
      "grid_gap": null,
      "grid_row": null,
      "grid_template_areas": null,
      "grid_template_columns": null,
      "grid_template_rows": null,
      "height": null,
      "justify_content": null,
      "justify_items": null,
      "left": null,
      "margin": null,
      "max_height": null,
      "max_width": null,
      "min_height": null,
      "min_width": null,
      "object_fit": null,
      "object_position": null,
      "order": null,
      "overflow": null,
      "overflow_x": null,
      "overflow_y": null,
      "padding": null,
      "right": null,
      "top": null,
      "visibility": null,
      "width": null
     }
    },
    "f4936079d79a47e29bad65a1d285baf0": {
     "model_module": "@jupyter-widgets/controls",
     "model_module_version": "1.5.0",
     "model_name": "DescriptionStyleModel",
     "state": {
      "_model_module": "@jupyter-widgets/controls",
      "_model_module_version": "1.5.0",
      "_model_name": "DescriptionStyleModel",
      "_view_count": null,
      "_view_module": "@jupyter-widgets/base",
      "_view_module_version": "1.2.0",
      "_view_name": "StyleView",
      "description_width": ""
     }
    },
    "f74761749a7f4ae88c0e2223a2c81890": {
     "model_module": "@jupyter-widgets/controls",
     "model_module_version": "1.5.0",
     "model_name": "DescriptionStyleModel",
     "state": {
      "_model_module": "@jupyter-widgets/controls",
      "_model_module_version": "1.5.0",
      "_model_name": "DescriptionStyleModel",
      "_view_count": null,
      "_view_module": "@jupyter-widgets/base",
      "_view_module_version": "1.2.0",
      "_view_name": "StyleView",
      "description_width": ""
     }
    },
    "f76a96b94ab440739d757b8df778dbe2": {
     "model_module": "@jupyter-widgets/controls",
     "model_module_version": "1.5.0",
     "model_name": "HTMLModel",
     "state": {
      "_dom_classes": [],
      "_model_module": "@jupyter-widgets/controls",
      "_model_module_version": "1.5.0",
      "_model_name": "HTMLModel",
      "_view_count": null,
      "_view_module": "@jupyter-widgets/controls",
      "_view_module_version": "1.5.0",
      "_view_name": "HTMLView",
      "description": "",
      "description_tooltip": null,
      "layout": "IPY_MODEL_c6d9968921204357a68aa703cff4bd6b",
      "placeholder": "​",
      "style": "IPY_MODEL_1ec4d56af08e46b184b71159a6c444ad",
      "value": " 69/69 [00:19&lt;00:00,  3.80it/s]"
     }
    },
    "f782f201aef943ee9b00d39e9ba7e600": {
     "model_module": "@jupyter-widgets/controls",
     "model_module_version": "1.5.0",
     "model_name": "DescriptionStyleModel",
     "state": {
      "_model_module": "@jupyter-widgets/controls",
      "_model_module_version": "1.5.0",
      "_model_name": "DescriptionStyleModel",
      "_view_count": null,
      "_view_module": "@jupyter-widgets/base",
      "_view_module_version": "1.2.0",
      "_view_name": "StyleView",
      "description_width": ""
     }
    },
    "f7a72dea67af4fcf9268e289dbc688ab": {
     "model_module": "@jupyter-widgets/controls",
     "model_module_version": "1.5.0",
     "model_name": "HTMLModel",
     "state": {
      "_dom_classes": [],
      "_model_module": "@jupyter-widgets/controls",
      "_model_module_version": "1.5.0",
      "_model_name": "HTMLModel",
      "_view_count": null,
      "_view_module": "@jupyter-widgets/controls",
      "_view_module_version": "1.5.0",
      "_view_name": "HTMLView",
      "description": "",
      "description_tooltip": null,
      "layout": "IPY_MODEL_cb6e41e8eb6642b082c1f0d77028aa78",
      "placeholder": "​",
      "style": "IPY_MODEL_ee0ae4a0f2c4439e97498330f2ed9cb7",
      "value": " 69/69 [00:19&lt;00:00,  3.77it/s]"
     }
    },
    "f9ef2a34240c41a8bbd9f293b445acee": {
     "model_module": "@jupyter-widgets/controls",
     "model_module_version": "1.5.0",
     "model_name": "HTMLModel",
     "state": {
      "_dom_classes": [],
      "_model_module": "@jupyter-widgets/controls",
      "_model_module_version": "1.5.0",
      "_model_name": "HTMLModel",
      "_view_count": null,
      "_view_module": "@jupyter-widgets/controls",
      "_view_module_version": "1.5.0",
      "_view_name": "HTMLView",
      "description": "",
      "description_tooltip": null,
      "layout": "IPY_MODEL_776ac8ded4684cd79ee540f91f462097",
      "placeholder": "​",
      "style": "IPY_MODEL_7eb919e496044bfc8f1c6bb5cb9646a7",
      "value": "100%"
     }
    },
    "fc35707cc1d2436b99918bdd019f13e0": {
     "model_module": "@jupyter-widgets/controls",
     "model_module_version": "1.5.0",
     "model_name": "HBoxModel",
     "state": {
      "_dom_classes": [],
      "_model_module": "@jupyter-widgets/controls",
      "_model_module_version": "1.5.0",
      "_model_name": "HBoxModel",
      "_view_count": null,
      "_view_module": "@jupyter-widgets/controls",
      "_view_module_version": "1.5.0",
      "_view_name": "HBoxView",
      "box_style": "",
      "children": [
       "IPY_MODEL_4a0e0d1bcf1542608efe2de9861bb0a9",
       "IPY_MODEL_4703c6e7494b47f78b31859c33e2b860",
       "IPY_MODEL_ac4e525d3687400baff67d0091f8b143"
      ],
      "layout": "IPY_MODEL_9291b6452b974c1b9a5902389a69bf54"
     }
    },
    "fc505c92d1cd423e8a3af546745f0c51": {
     "model_module": "@jupyter-widgets/base",
     "model_module_version": "1.2.0",
     "model_name": "LayoutModel",
     "state": {
      "_model_module": "@jupyter-widgets/base",
      "_model_module_version": "1.2.0",
      "_model_name": "LayoutModel",
      "_view_count": null,
      "_view_module": "@jupyter-widgets/base",
      "_view_module_version": "1.2.0",
      "_view_name": "LayoutView",
      "align_content": null,
      "align_items": null,
      "align_self": null,
      "border": null,
      "bottom": null,
      "display": null,
      "flex": null,
      "flex_flow": null,
      "grid_area": null,
      "grid_auto_columns": null,
      "grid_auto_flow": null,
      "grid_auto_rows": null,
      "grid_column": null,
      "grid_gap": null,
      "grid_row": null,
      "grid_template_areas": null,
      "grid_template_columns": null,
      "grid_template_rows": null,
      "height": null,
      "justify_content": null,
      "justify_items": null,
      "left": null,
      "margin": null,
      "max_height": null,
      "max_width": null,
      "min_height": null,
      "min_width": null,
      "object_fit": null,
      "object_position": null,
      "order": null,
      "overflow": null,
      "overflow_x": null,
      "overflow_y": null,
      "padding": null,
      "right": null,
      "top": null,
      "visibility": null,
      "width": null
     }
    },
    "fde2097b960e438484ccc41b5b30e8f3": {
     "model_module": "@jupyter-widgets/controls",
     "model_module_version": "1.5.0",
     "model_name": "HTMLModel",
     "state": {
      "_dom_classes": [],
      "_model_module": "@jupyter-widgets/controls",
      "_model_module_version": "1.5.0",
      "_model_name": "HTMLModel",
      "_view_count": null,
      "_view_module": "@jupyter-widgets/controls",
      "_view_module_version": "1.5.0",
      "_view_name": "HTMLView",
      "description": "",
      "description_tooltip": null,
      "layout": "IPY_MODEL_fc505c92d1cd423e8a3af546745f0c51",
      "placeholder": "​",
      "style": "IPY_MODEL_5cb030f5e9d7477083a27cd2a7947962",
      "value": " 69/69 [00:19&lt;00:00,  3.75it/s]"
     }
    },
    "fe39c9365acc4ed7a6642349a4fcfaa3": {
     "model_module": "@jupyter-widgets/controls",
     "model_module_version": "1.5.0",
     "model_name": "ProgressStyleModel",
     "state": {
      "_model_module": "@jupyter-widgets/controls",
      "_model_module_version": "1.5.0",
      "_model_name": "ProgressStyleModel",
      "_view_count": null,
      "_view_module": "@jupyter-widgets/base",
      "_view_module_version": "1.2.0",
      "_view_name": "StyleView",
      "bar_color": null,
      "description_width": ""
     }
    },
    "ff928a8da8274cad9f080493b0c6672c": {
     "model_module": "@jupyter-widgets/controls",
     "model_module_version": "1.5.0",
     "model_name": "DescriptionStyleModel",
     "state": {
      "_model_module": "@jupyter-widgets/controls",
      "_model_module_version": "1.5.0",
      "_model_name": "DescriptionStyleModel",
      "_view_count": null,
      "_view_module": "@jupyter-widgets/base",
      "_view_module_version": "1.2.0",
      "_view_name": "StyleView",
      "description_width": ""
     }
    }
   }
  }
 },
 "nbformat": 4,
 "nbformat_minor": 5
}
